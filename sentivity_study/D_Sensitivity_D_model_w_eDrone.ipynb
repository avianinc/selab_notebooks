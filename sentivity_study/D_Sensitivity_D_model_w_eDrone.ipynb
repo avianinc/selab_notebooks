{
 "cells": [
  {
   "cell_type": "markdown",
   "id": "89ed2a8d-2473-4361-898f-b7a5330969fe",
   "metadata": {},
   "source": [
    "# Senstivity study for the `eDrone` model - `RMSS2_V3`"
   ]
  },
  {
   "cell_type": "markdown",
   "id": "d25b1095-f811-4db4-bffb-3a15b42975a7",
   "metadata": {},
   "source": [
    "### This model is based on work by: Saltelli\n",
    "Great book (game changer for myself) --> https://www.amazon.com/Sensitivity-Analysis-Practice-Assessing-Scientific/dp/0470870931/ref=sr_1_1?dchild=1&qid=1626197470&refinements=p_27%3AAndrea+Saltelli&s=books&sr=1-1&text=Andrea+Saltelli <br>\n",
    "Sensitivity Analysis in Practice: A Guide to Assessing Scientific Models 1st Edition <br>\n",
    "by Andrea Saltelli (Author), Stefano Tarantola (Author), Francesca Campolongo (Author), Marco Ratto (Author)"
   ]
  },
  {
   "cell_type": "code",
   "execution_count": 2,
   "id": "a26ab0f0-27ea-46c7-8d74-6ce3a5005857",
   "metadata": {},
   "outputs": [],
   "source": [
    "import json\n",
    "import numpy as np\n",
    "import pandas as pd\n",
    "import matplotlib.pyplot as plt\n",
    "import seaborn as sns\n",
    "sns.set_style('white')\n",
    "sns.set_context('talk')\n",
    "\n",
    "import pyNetLogo\n",
    "\n",
    "#Import the sampling and analysis modules for a Sobol variance-based\n",
    "#sensitivity analysis\n",
    "from SALib.sample import saltelli\n",
    "from SALib.analyze import sobol"
   ]
  },
  {
   "cell_type": "markdown",
   "id": "b61670a8-d079-45dd-a076-54337d6f9efd",
   "metadata": {},
   "source": [
    "### Variables - format:[variable-name, [low, step, high]\n",
    "The following varaibles are avalible for use. Exersized variables bold <br>\n",
    "[\"charger-network\" true false]<br>\n",
    "[\"has-charge-station\" [0 0.01 1]]<br>\n",
    "**[\"service-range\" [1 1 170]]<br>**\n",
    "**[\"chance-of-medical-event\" [0 1.0E-4 0.01]]**<br>\n",
    "**[\"chance-of-standard\" [0 0.01 1]]**<br>\n",
    "_[\"chance-of-emergency\" [0 0.01 1]] - caluclated in netlogo (1-chance-of-emergency)_<br>\n",
    "[\"activate-hospitals\" true false]<br>\n",
    "[\"drone-types\" \"444444444444444444444\"] <br>\n",
    "[\"replacebattery?\" true false]<br>\n",
    "[\"maxpayloadweight\" [4 1 150]]<br>\n",
    "**[\"meanpayloadweight\" [1 1 150]]**<br>\n",
    "**[\"startup-costs\" [50000 10000 1000000]]**<br>\n",
    "**[\"maintenace-cost-per-hour\" [0 10 1000]]**<br>\n",
    "[\"discharge_adjustment\" [0 1 400]]<br>\n",
    "**[\"chance_of_typea\" [0 0.01 1]]**<br>\n",
    "**[\"chance_of_typeb\" [0 0.01 1]]**<br>\n",
    "**[\"chance_of_typec\" [0 0.01 1]]**<br>\n",
    "**[\"number_of_drones\" [1 1 30]]**<br>\n",
    "**[\"number_of_eDrones\" [0 1 3]]**<br>\n",
    "\n",
    "### Responses \n",
    "- mean avgResponseTimeStandard\n",
    "- mean avgResponseTimeEmergency\n",
    "- length tmpList (queue Length) - no used now\n",
    "- fitnessFunc\n",
    "- totalOperatingCosts"
   ]
  },
  {
   "cell_type": "code",
   "execution_count": 3,
   "id": "7f3ff4da-c9f3-41be-abb9-c59f2aacd796",
   "metadata": {},
   "outputs": [],
   "source": [
    "# no need of drone type variables chance-of-x\n",
    "problem = {\n",
    "  'num_vars': 11,\n",
    "  'names': ['service-range',\n",
    "            'chance-of-medical-event',\n",
    "            'chance-of-standard',\n",
    "            'startup-costs',\n",
    "            'meanpayloadweight',\n",
    "            'maintenace-cost-per-hour',\n",
    "            'chance_of_typea',\n",
    "            'chance_of_typeb',\n",
    "            'chance_of_typec',\n",
    "            'number_of_drones',\n",
    "            'number-of-eDrones'],\n",
    "  'bounds': [[20, 120],\n",
    "             [1e-4, .01],\n",
    "             [.01, 1],\n",
    "             [1e4, 2e6],\n",
    "             [2, 20],\n",
    "             [10, 50],\n",
    "             [0, 1],\n",
    "             [0, 1],\n",
    "             [0, 1],\n",
    "             [4, 10],\n",
    "             [0, 3.5]]\n",
    "}\n",
    "\n",
    "with open('problem', 'w') as convert_file: \n",
    "     convert_file.write(json.dumps(problem))"
   ]
  },
  {
   "cell_type": "code",
   "execution_count": 4,
   "id": "f727f787-03be-4f6b-a42b-0c1b3a3acec8",
   "metadata": {},
   "outputs": [],
   "source": [
    "n = 2048 #2^numbVars\n",
    "param_values = saltelli.sample(problem, n, calc_second_order=True)\n",
    "np.save('param_values', param_values)"
   ]
  },
  {
   "cell_type": "code",
   "execution_count": 5,
   "id": "7baaf8ec-54cf-4bf0-8031-8b1d4018f207",
   "metadata": {},
   "outputs": [
    {
     "data": {
      "text/plain": [
       "[0, 1, 2]"
      ]
     },
     "execution_count": 5,
     "metadata": {},
     "output_type": "execute_result"
    }
   ],
   "source": [
    "# start the cluster -> ipcluster start -n 2\n",
    "import ipyparallel\n",
    "client = ipyparallel.Client()\n",
    "client.ids"
   ]
  },
  {
   "cell_type": "code",
   "execution_count": 6,
   "id": "bee1d169-3eb7-48ea-b39e-b71cc3b1a40e",
   "metadata": {},
   "outputs": [],
   "source": [
    "direct_view = client[:]"
   ]
  },
  {
   "cell_type": "code",
   "execution_count": 7,
   "id": "7f74c86d-4aaf-4541-813d-b4fa359b5ad1",
   "metadata": {},
   "outputs": [
    {
     "data": {
      "text/plain": [
       "<AsyncResult: _push>"
      ]
     },
     "execution_count": 7,
     "metadata": {},
     "output_type": "execute_result"
    }
   ],
   "source": [
    "import os\n",
    "\n",
    "#Push the current working directory of the notebook to a \"cwd\" variable on the engines that can be accessed later\n",
    "direct_view.push(dict(cwd=os.getcwd()))"
   ]
  },
  {
   "cell_type": "code",
   "execution_count": 17,
   "id": "6e5a3b48-36ea-4144-b673-e0a6a735b5d5",
   "metadata": {},
   "outputs": [],
   "source": [
    "%%px\n",
    "import os\n",
    "os.chdir(cwd)\n",
    "\n",
    "import pyNetLogo\n",
    "import pandas as pd\n",
    "#netlogo = pyNetLogo.NetLogoLink(gui=False)\n",
    "path = \"/srv/share/NetLogo_6.2.0\"\n",
    "ver = \"6.2\"\n",
    "netlogo = pyNetLogo.NetLogoLink(netlogo_home = path, netlogo_version=ver, gui=False)\n",
    "\n",
    "### Check here !!!!!! ########\n",
    "netlogo.load_model('RMSS2_V3_eDrones.nlogo') #works\n",
    "#netlogo.load_model('RMSS2_V2_2D_w_batt') #works\n",
    "#netlogo.load_model('RMSS2_V2_2D_chg_net')\n",
    "#netlogo.load_model('RMSS2_V2_2D_no_batt_net')\n",
    "numbTicks = 43200 # approx. one month = 43200 minutes"
   ]
  },
  {
   "cell_type": "markdown",
   "id": "9ad5e827-c9b8-4ffe-9692-e7a846dc98ef",
   "metadata": {},
   "source": [
    "### Note: Had to move the 'problem' dict inside the func... _probably an issue with it not being published to the cluster._"
   ]
  },
  {
   "cell_type": "code",
   "execution_count": 18,
   "id": "9bbd6870-0a66-48fa-aa45-168c27b525f6",
   "metadata": {},
   "outputs": [],
   "source": [
    "def simulation(experiment):\n",
    "    \n",
    "    problem = {\n",
    "      'num_vars': 11,\n",
    "      'names': ['service-range',\n",
    "                'chance-of-medical-event',\n",
    "                'chance-of-standard',\n",
    "                'startup-costs',\n",
    "                'meanpayloadweight',\n",
    "                'maintenace-cost-per-hour',\n",
    "                'chance_of_typea',\n",
    "                'chance_of_typeb',\n",
    "                'chance_of_typec',\n",
    "                'number_of_drones',\n",
    "                'number-of-eDrones'],\n",
    "      'bounds': [[20, 120],\n",
    "                 [1e-4, .01],\n",
    "                 [.01, 1],\n",
    "                 [1e4, 2e6],\n",
    "                 [2, 20],\n",
    "                 [10, 50],\n",
    "                 [0, 1],\n",
    "                 [0, 1],\n",
    "                 [0, 1],\n",
    "                 [4, 10],\n",
    "                 [0, 3.5]]\n",
    "    }\n",
    "\n",
    "    #Set the input parameters\n",
    "    for i, name in enumerate(problem['names']):\n",
    "        if name == 'random-seed':\n",
    "            #The NetLogo random seed requires a different syntax\n",
    "            netlogo.command('random-seed {}'.format(experiment[i]))\n",
    "        else:\n",
    "            #Otherwise, assume the input parameters are global variables\n",
    "            netlogo.command('set {0} {1}'.format(name, experiment[i]))\n",
    "\n",
    "    netlogo.command('setup')\n",
    "    \n",
    "    #Run for XXXX ticks and return the response values\n",
    "    response = netlogo.repeat_report(['arts_out','arte_out', 'fitnessFunc', 'totalOperatingCosts', 'drone-types'], numbTicks)\n",
    "\n",
    "    # build results table\n",
    "    results = pd.Series([response['arts_out'].values.mean(),\n",
    "                         response['arte_out'].values.mean(),\n",
    "                         response['fitnessFunc'].values.mean(),\n",
    "                         response['totalOperatingCosts'].values.mean(),\n",
    "                         response['drone-types'].values.max()],\n",
    "                         index=['arts_out', 'arte_out','fitnessFunc','totalOperatingCosts','drone-types'])\n",
    "\n",
    "    return results"
   ]
  },
  {
   "cell_type": "code",
   "execution_count": null,
   "id": "58c72bea-c944-4f4a-adcd-f3a18f6beee0",
   "metadata": {},
   "outputs": [],
   "source": [
    "%%time \n",
    "lview = client.load_balanced_view()\n",
    "results = pd.DataFrame(lview.map_sync(simulation, param_values))"
   ]
  },
  {
   "cell_type": "code",
   "execution_count": 11,
   "id": "4e534404-0559-4f68-8580-4f7023241425",
   "metadata": {},
   "outputs": [],
   "source": [
    "## set fitness to 1e6 if response times are 0 - kill\n",
    "df = results\n",
    "df.loc[df.arts_out == 0, ['fitnessFunc']] = '1e4'\n",
    "df.loc[df.arte_out == 0, ['fitnessFunc']] = '1e4'"
   ]
  },
  {
   "cell_type": "code",
   "execution_count": 12,
   "id": "d061e5b0-8fce-402a-85b4-240fc5a05cb5",
   "metadata": {},
   "outputs": [],
   "source": [
    "## adjust for in or out testing\n",
    "from datetime import *\n",
    "filename = 'D_drones_sobal-' + datetime.now().strftime(\"%Y-%m-%d-%H-%M-%S\")+\".csv\"\n",
    "df.to_csv('results/' + filename)"
   ]
  },
  {
   "cell_type": "code",
   "execution_count": null,
   "id": "d733452e-fcdc-4b41-9453-cf12038fab76",
   "metadata": {},
   "outputs": [],
   "source": [
    "# release netlogo\n",
    "#%%px\n",
    "#netlogo.kill_workspace()"
   ]
  }
 ],
 "metadata": {
  "kernelspec": {
   "display_name": "Python 3",
   "language": "python",
   "name": "python3"
  },
  "language_info": {
   "codemirror_mode": {
    "name": "ipython",
    "version": 3
   },
   "file_extension": ".py",
   "mimetype": "text/x-python",
   "name": "python",
   "nbconvert_exporter": "python",
   "pygments_lexer": "ipython3",
   "version": "3.7.10"
  }
 },
 "nbformat": 4,
 "nbformat_minor": 5
}
