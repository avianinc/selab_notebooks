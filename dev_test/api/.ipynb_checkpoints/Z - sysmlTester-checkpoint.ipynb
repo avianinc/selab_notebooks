{
 "cells": [
  {
   "cell_type": "code",
   "execution_count": 5,
   "id": "92e4803c-0c2c-49ea-a479-411eca2a6ad1",
   "metadata": {},
   "outputs": [
    {
     "data": {
      "text/plain": [
       "Package ModelExample_A (aab07ecb-f640-457e-8c52-850cff3549ba)\n"
      ]
     },
     "execution_count": 5,
     "metadata": {},
     "output_type": "execute_result"
    }
   ],
   "source": [
    "package ModelExample_A {\n",
    "    import ScalarValues::*;\n",
    "\n",
    "    part def Automobile;\n",
    "    alias Automobile as Car;\n",
    "    \n",
    "    part def Aeroplane;\n",
    "    alias Aeroplane as Jet;\n",
    "    \n",
    "    part Bicycle{\n",
    "        part Wheel{\n",
    "            part Hub;\n",
    "            part Tire\n",
    "        }\n",
    "        \n",
    "        part Seat;\n",
    "        part Frame\n",
    "    }\n",
    "}"
   ]
  },
  {
   "cell_type": "code",
   "execution_count": 6,
   "id": "b46c1d52-20ba-404b-bcc3-af2126ccbda6",
   "metadata": {},
   "outputs": [
    {
     "data": {
      "image/svg+xml": [
       "<?xml version=\"1.0\" encoding=\"UTF-8\" standalone=\"no\"?><svg xmlns=\"http://www.w3.org/2000/svg\" xmlns:xlink=\"http://www.w3.org/1999/xlink\" contentScriptType=\"application/ecmascript\" contentStyleType=\"text/css\" height=\"221px\" preserveAspectRatio=\"none\" style=\"width:334px;height:221px;\" version=\"1.1\" viewBox=\"0 0 334 221\" width=\"334px\" zoomAndPan=\"magnify\"><defs/><g><!--MD5=[fbc87193dbaf4d95561dea2c320d4a47]\n",
       "cluster E1--><a href=\"psysml:9553db1d-1efc-40b7-a539-0be9a3c5cdba\" target=\"_top\" title=\"psysml:9553db1d-1efc-40b7-a539-0be9a3c5cdba\" xlink:actuate=\"onRequest\" xlink:href=\"psysml:9553db1d-1efc-40b7-a539-0be9a3c5cdba\" xlink:show=\"new\" xlink:title=\"psysml:9553db1d-1efc-40b7-a539-0be9a3c5cdba\" xlink:type=\"simple\"><polygon fill=\"#FFFFFF\" points=\"16,6,152,6,159,28.2969,312,28.2969,312,209,16,209,16,6\" style=\"stroke: #000000; stroke-width: 1.5;\"/><line style=\"stroke: #000000; stroke-width: 1.5;\" x1=\"16\" x2=\"159\" y1=\"28.2969\" y2=\"28.2969\"/><text fill=\"#000000\" font-family=\"sans-serif\" font-size=\"14\" font-weight=\"bold\" lengthAdjust=\"spacingAndGlyphs\" textLength=\"130\" x=\"20\" y=\"20.9951\">ModelExample_A</text></a><!--MD5=[b4997ac47864f28c2f74865a473b2911]\n",
       "class E2--><a href=\"psysml:4cd024c7-c1f0-41e1-9c36-8a54a60c1c47\" target=\"_top\" title=\"psysml:4cd024c7-c1f0-41e1-9c36-8a54a60c1c47\" xlink:actuate=\"onRequest\" xlink:href=\"psysml:4cd024c7-c1f0-41e1-9c36-8a54a60c1c47\" xlink:show=\"new\" xlink:title=\"psysml:4cd024c7-c1f0-41e1-9c36-8a54a60c1c47\" xlink:type=\"simple\"><rect fill=\"#FFFFFF\" height=\"45.9375\" id=\"E2\" style=\"stroke: #383838; stroke-width: 1.5;\" width=\"76\" x=\"220\" y=\"41\"/><text fill=\"#000000\" font-family=\"sans-serif\" font-size=\"12\" font-style=\"italic\" lengthAdjust=\"spacingAndGlyphs\" textLength=\"64\" x=\"226\" y=\"57.1387\">«part def»</text><text fill=\"#000000\" font-family=\"sans-serif\" font-size=\"12\" lengthAdjust=\"spacingAndGlyphs\" textLength=\"70\" x=\"223\" y=\"71.1074\">Automobile</text><line style=\"stroke: #383838; stroke-width: 1.5;\" x1=\"221\" x2=\"295\" y1=\"78.9375\" y2=\"78.9375\"/></a><!--MD5=[09b614a08d8cba4a07c9adeb5e0fee81]\n",
       "class E3--><a href=\"psysml:1b433b5d-0846-4cfa-b057-9d6906155a15\" target=\"_top\" title=\"psysml:1b433b5d-0846-4cfa-b057-9d6906155a15\" xlink:actuate=\"onRequest\" xlink:href=\"psysml:1b433b5d-0846-4cfa-b057-9d6906155a15\" xlink:show=\"new\" xlink:title=\"psysml:1b433b5d-0846-4cfa-b057-9d6906155a15\" xlink:type=\"simple\"><rect fill=\"#FFFFFF\" height=\"45.9375\" id=\"E3\" style=\"stroke: #383838; stroke-width: 1.5;\" width=\"70\" x=\"115\" y=\"41\"/><text fill=\"#000000\" font-family=\"sans-serif\" font-size=\"12\" font-style=\"italic\" lengthAdjust=\"spacingAndGlyphs\" textLength=\"64\" x=\"118\" y=\"57.1387\">«part def»</text><text fill=\"#000000\" font-family=\"sans-serif\" font-size=\"12\" lengthAdjust=\"spacingAndGlyphs\" textLength=\"64\" x=\"118\" y=\"71.1074\">Aeroplane</text><line style=\"stroke: #383838; stroke-width: 1.5;\" x1=\"116\" x2=\"184\" y1=\"78.9375\" y2=\"78.9375\"/></a><!--MD5=[ebbe1d658d1005bcc118a6aa81145e00]\n",
       "class E4--><a href=\"psysml:752cb96a-789e-48e1-8b63-837858717c8f\" target=\"_top\" title=\"psysml:752cb96a-789e-48e1-8b63-837858717c8f\" xlink:actuate=\"onRequest\" xlink:href=\"psysml:752cb96a-789e-48e1-8b63-837858717c8f\" xlink:show=\"new\" xlink:title=\"psysml:752cb96a-789e-48e1-8b63-837858717c8f\" xlink:type=\"simple\"><rect fill=\"#FFFFFF\" height=\"45.9375\" id=\"E4\" rx=\"10\" ry=\"10\" style=\"stroke: #383838; stroke-width: 1.5;\" width=\"48\" x=\"32\" y=\"41\"/><text fill=\"#000000\" font-family=\"sans-serif\" font-size=\"12\" font-style=\"italic\" lengthAdjust=\"spacingAndGlyphs\" textLength=\"40\" x=\"36\" y=\"57.1387\">«part»</text><text fill=\"#000000\" font-family=\"sans-serif\" font-size=\"12\" lengthAdjust=\"spacingAndGlyphs\" textLength=\"42\" x=\"35\" y=\"71.1074\">Bicycle</text><line style=\"stroke: #383838; stroke-width: 1.5;\" x1=\"33\" x2=\"79\" y1=\"78.9375\" y2=\"78.9375\"/></a><!--MD5=[270fce915f116d4de14055a7c1d9a0f3]\n",
       "class E5--><a href=\"psysml:d77d1ea3-83e8-44af-a92a-36997bece122\" target=\"_top\" title=\"psysml:d77d1ea3-83e8-44af-a92a-36997bece122\" xlink:actuate=\"onRequest\" xlink:href=\"psysml:d77d1ea3-83e8-44af-a92a-36997bece122\" xlink:show=\"new\" xlink:title=\"psysml:d77d1ea3-83e8-44af-a92a-36997bece122\" xlink:type=\"simple\"><rect fill=\"#FFFFFF\" height=\"45.9375\" id=\"E5\" rx=\"10\" ry=\"10\" style=\"stroke: #383838; stroke-width: 1.5;\" width=\"44\" x=\"34\" y=\"147\"/><text fill=\"#000000\" font-family=\"sans-serif\" font-size=\"12\" font-style=\"italic\" lengthAdjust=\"spacingAndGlyphs\" textLength=\"40\" x=\"36\" y=\"163.1387\">«part»</text><text fill=\"#000000\" font-family=\"sans-serif\" font-size=\"12\" lengthAdjust=\"spacingAndGlyphs\" textLength=\"38\" x=\"37\" y=\"177.1074\">Wheel</text><line style=\"stroke: #383838; stroke-width: 1.5;\" x1=\"35\" x2=\"77\" y1=\"184.9375\" y2=\"184.9375\"/></a><!--MD5=[62aa6af11e70f752912c1cb0466f24f7]\n",
       "reverse link E4 to E5--><a href=\"psysml:9c296d95-1948-443e-a420-c6f4fcb5987c\" target=\"_top\" title=\"psysml:9c296d95-1948-443e-a420-c6f4fcb5987c\" xlink:actuate=\"onRequest\" xlink:href=\"psysml:9c296d95-1948-443e-a420-c6f4fcb5987c\" xlink:show=\"new\" xlink:title=\"psysml:9c296d95-1948-443e-a420-c6f4fcb5987c\" xlink:type=\"simple\"><path d=\"M56,100.44 C56,115.87 56,133.47 56,146.98 \" fill=\"none\" id=\"E4&lt;-E5\" style=\"stroke: #383838; stroke-width: 1.0;\"/><polygon fill=\"#383838\" points=\"56,87.06,52,93.06,56,99.06,60,93.06,56,87.06\" style=\"stroke: #383838; stroke-width: 1.0;\"/></a><!--MD5=[e0b16eb5bf035b532f6b20e4adcaee1b]\n",
       "@startuml\r\n",
       "skinparam monochrome true\r\n",
       "skinparam classbackgroundcolor white\r\n",
       "skinparam shadowing false\r\n",
       "skinparam wrapWidth 300\r\n",
       "hide circle\r\n",
       "\r\n",
       "package \"ModelExample_A\" as E1  [[psysml:9553db1d-1efc-40b7-a539-0be9a3c5cdba ]]  {\r\n",
       "comp def \"Automobile\" as E2  <<(T,blue)part def>> [[psysml:4cd024c7-c1f0-41e1-9c36-8a54a60c1c47 ]] {\r\n",
       "}\r\n",
       "comp def \"Aeroplane\" as E3  <<(T,blue)part def>> [[psysml:1b433b5d-0846-4cfa-b057-9d6906155a15 ]] {\r\n",
       "}\r\n",
       "comp usage \"Bicycle\" as E4  <<(T,blue)part>> [[psysml:752cb96a-789e-48e1-8b63-837858717c8f ]] {\r\n",
       "}\r\n",
       "comp usage \"Wheel\" as E5  <<(T,blue)part>> [[psysml:d77d1ea3-83e8-44af-a92a-36997bece122 ]] {\r\n",
       "}\r\n",
       "E4 *- - E5 [[psysml:9c296d95-1948-443e-a420-c6f4fcb5987c ]] \r\n",
       "}\r\n",
       "@enduml\r\n",
       "\n",
       "PlantUML version 1.2020.13(Sat Jun 13 12:26:38 UTC 2020)\n",
       "(EPL source distribution)\n",
       "Java Runtime: OpenJDK Runtime Environment\n",
       "JVM: OpenJDK 64-Bit Server VM\n",
       "Default Encoding: UTF-8\n",
       "Language: en\n",
       "Country: null\n",
       "--></g></svg>"
      ]
     },
     "execution_count": 6,
     "metadata": {},
     "output_type": "execute_result"
    }
   ],
   "source": [
    "%viz ModelExample_A"
   ]
  },
  {
   "cell_type": "code",
   "execution_count": null,
   "id": "0133baf9-c37e-4799-b54c-a3727ffbe370",
   "metadata": {},
   "outputs": [],
   "source": []
  }
 ],
 "metadata": {
  "kernelspec": {
   "display_name": "SysML",
   "language": "sysml",
   "name": "sysml"
  },
  "language_info": {
   "codemirror_mode": "sysml",
   "file_extension": ".sysml",
   "mimetype": "text/x-sysml",
   "name": "SysML",
   "pygments_lexer": "java",
   "version": "1.0.0"
  }
 },
 "nbformat": 4,
 "nbformat_minor": 5
}
