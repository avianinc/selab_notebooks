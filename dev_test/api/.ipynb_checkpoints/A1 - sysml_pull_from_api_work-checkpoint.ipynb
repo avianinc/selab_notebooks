{
 "cells": [
  {
   "cell_type": "code",
   "execution_count": null,
   "id": "5be6ec1d-b299-44d7-b4b4-55df72691a13",
   "metadata": {},
   "outputs": [],
   "source": [
    "# pulls model list from intercax - select a model - do some work..."
   ]
  },
  {
   "cell_type": "code",
   "execution_count": 1,
   "id": "0b191f7c-f1fa-420e-85da-0e3831038032",
   "metadata": {
    "tags": []
   },
   "outputs": [],
   "source": [
    "from __future__ import print_function\n",
    "\n",
    "import requests\n",
    "import getpass\n",
    "import math\n",
    "\n",
    "import time\n",
    "import sysml_v2_api_client\n",
    "from sysml_v2_api_client.rest import ApiException\n",
    "from pprint import pprint"
   ]
  },
  {
   "cell_type": "code",
   "execution_count": 2,
   "id": "baec73fb-0b2f-4f9a-82ac-998645f09484",
   "metadata": {
    "tags": []
   },
   "outputs": [],
   "source": [
    "import json\n",
    "import networkx as NX\n",
    "import matplotlib.pyplot as plt"
   ]
  },
  {
   "cell_type": "code",
   "execution_count": 3,
   "id": "c74dd4ed-8f1b-4f84-8b0f-40532593731f",
   "metadata": {},
   "outputs": [],
   "source": [
    "import random\n",
    "import copy"
   ]
  },
  {
   "cell_type": "code",
   "execution_count": 4,
   "id": "4515eff4-1f8e-4d8f-8d64-1172676a6b48",
   "metadata": {},
   "outputs": [],
   "source": [
    "import pymbe.api as pm"
   ]
  },
  {
   "cell_type": "code",
   "execution_count": 5,
   "id": "cbbbfc62-e25f-4db1-be99-eb1441cd520b",
   "metadata": {},
   "outputs": [],
   "source": [
    "import pymbe.query as pmQuery"
   ]
  },
  {
   "cell_type": "code",
   "execution_count": 6,
   "id": "bc6897b5-54ae-401f-9b84-a43ef53e8e98",
   "metadata": {},
   "outputs": [],
   "source": [
    "sysml_api_base_url = 'http://sysml2.intercax.com:9000' # http://sysml2-sst.intercax.com:9000"
   ]
  },
  {
   "cell_type": "code",
   "execution_count": 20,
   "id": "cc363a17-b463-4e16-89b7-6e8577123086",
   "metadata": {},
   "outputs": [],
   "source": [
    "configuration = sysml_v2_api_client.Configuration(\n",
    "    host = sysml_api_base_url\n",
    ")\n",
    "\n",
    "projects_api_instance = None\n",
    "\n",
    "with sysml_v2_api_client.ApiClient(configuration) as api_client:\n",
    "    # Create an instance of the API class\n",
    "    project_api_instance = sysml_v2_api_client.ProjectApi(api_client)\n",
    "    \n",
    "commits_api_instance = None\n",
    "\n",
    "with sysml_v2_api_client.ApiClient(configuration) as api_client:\n",
    "    # Create an instance of the API class\n",
    "    commits_api_instance = sysml_v2_api_client.CommitApi(api_client)\n",
    "    \n",
    "elements_api_instance = None\n",
    "\n",
    "with sysml_v2_api_client.ApiClient(configuration) as api_client:\n",
    "    # Create an instance of the API class\n",
    "    elements_api_instance = sysml_v2_api_client.ElementApi(api_client)\n",
    "#project_api_instance"
   ]
  },
  {
   "cell_type": "code",
   "execution_count": 21,
   "id": "ed717312-e027-4e72-9637-6d45390f8b77",
   "metadata": {},
   "outputs": [],
   "source": [
    "keyword = 'jdehart'\n",
    "my_projects = [my_proj for my_proj in project_api_instance.get_projects() if my_proj.name.find(keyword) > -1]"
   ]
  },
  {
   "cell_type": "code",
   "execution_count": 22,
   "id": "0577479a-7184-4df6-be98-279878c0d13d",
   "metadata": {},
   "outputs": [
    {
     "data": {
      "text/plain": [
       "['jdehart_api_demo Thu Jul 08 16:23:32 UTC 2021',\n",
       " 'jdehart_SimplePartsModel Wed Jul 21 15:23:50 UTC 2021',\n",
       " 'jdehart_workflow_model Wed Jul 14 23:36:48 UTC 2021']"
      ]
     },
     "execution_count": 22,
     "metadata": {},
     "output_type": "execute_result"
    }
   ],
   "source": [
    "# add project to dropdown\n",
    "model_names = []\n",
    "for key, value in enumerate(my_projects):\n",
    "    model_names.append(my_projects[key].name)\n",
    "model_names"
   ]
  },
  {
   "cell_type": "code",
   "execution_count": 23,
   "id": "f5354b6a-618e-411a-a5d7-f205ff1a3bbc",
   "metadata": {},
   "outputs": [
    {
     "data": {
      "application/vnd.jupyter.widget-view+json": {
       "model_id": "ab59b53c777944c4ba8195c99313d379",
       "version_major": 2,
       "version_minor": 0
      },
      "text/plain": [
       "Dropdown(description='Select Project:', options=('jdehart_api_demo Thu Jul 08 16:23:32 UTC 2021', 'jdehart_Sim…"
      ]
     },
     "metadata": {},
     "output_type": "display_data"
    }
   ],
   "source": [
    "from IPython.display import display\n",
    "from ipywidgets import Dropdown\n",
    "\n",
    "def dropdown_eventhandler(change):\n",
    "    global model_id\n",
    "    global model_name\n",
    "    global working_model\n",
    "    model_id = change.new\n",
    "    model_name = model_names[model_id]\n",
    "    \n",
    "    try:\n",
    "    # Get commits by project\n",
    "        commits_response = commits_api_instance.get_commits_by_project(my_projects[model_id].id)\n",
    "        pprint(commits_response)\n",
    "    except ApiException as e:\n",
    "        print(\"Exception when calling CommitApi->get_commits_by_project: %s\\n\" % e)\n",
    "        \n",
    "    elements_url = (sysml_api_base_url +\n",
    "                '/projects/{0}/commits/{1}/elements?page[size]=5000').format(my_projects[model_id].id, commits_response[0].id)\n",
    "    elements_response = requests.get(elements_url)\n",
    "    elements_data = elements_response.json()\n",
    "    \n",
    "    working_model = elements_data\n",
    "    \n",
    "    with open(str(model_name) + \".json\", \"w\") as outfile:\n",
    "        json.dump(elements_data, outfile)\n",
    "\n",
    "option_list = model_names\n",
    "dropdown = Dropdown(description=\"Select Project:\", options=option_list)\n",
    "dropdown.observe(dropdown_eventhandler, names='index')\n",
    "display(dropdown)"
   ]
  },
  {
   "cell_type": "code",
   "execution_count": 25,
   "id": "32ca92f4-aebf-4a9c-98e5-e5944ac7046f",
   "metadata": {},
   "outputs": [
    {
     "data": {
      "application/json": [
       {
        "@id": "07f23365-9067-4e31-bc93-a3b756485291",
        "@type": "PartUsage",
        "aliasId": [],
        "definition": [],
        "documentation": [],
        "documentationComment": [],
        "effectiveName": "C",
        "endFeature": [],
        "endOwningType": null,
        "feature": [],
        "featureMembership": [],
        "featuringType": [
         {
          "@id": "fc9a9f62-895d-47a2-b18a-deb679e3cea5"
         }
        ],
        "flowFeature": [],
        "humanId": null,
        "identifier": "07f23365-9067-4e31-bc93-a3b756485291",
        "importedMembership": [],
        "individualDefinition": null,
        "inheritedFeature": [],
        "inheritedMembership": [],
        "input": [],
        "isAbstract": false,
        "isComposite": true,
        "isConjugated": false,
        "isEnd": false,
        "isIndividual": false,
        "isNonunique": false,
        "isOrdered": false,
        "isSufficient": false,
        "isUnique": true,
        "isVariation": false,
        "itemDefinition": [],
        "member": [],
        "membership": [],
        "multiplicity": null,
        "name": "C",
        "nestedAction": [],
        "nestedAllocation": [],
        "nestedAnalysisCase": [],
        "nestedAttribute": [],
        "nestedCalculation": [],
        "nestedCase": [],
        "nestedConcern": [],
        "nestedConnection": [],
        "nestedConstraint": [],
        "nestedEnumeration": [],
        "nestedInterface": [],
        "nestedItem": [],
        "nestedOccurrence": [],
        "nestedPart": [],
        "nestedPort": [],
        "nestedReference": [],
        "nestedRendering": [],
        "nestedRequirement": [],
        "nestedStakeholder": [],
        "nestedState": [],
        "nestedTransition": [],
        "nestedUsage": [],
        "nestedVerificationCase": [],
        "nestedView": [],
        "nestedViewpoint": [],
        "occurrenceDefinition": [],
        "output": [],
        "ownedAnnotation": [],
        "ownedConjugator": null,
        "ownedElement": [],
        "ownedEndFeature": [],
        "ownedFeature": [],
        "ownedFeatureMembership": [],
        "ownedGeneralization": [],
        "ownedImport": [],
        "ownedMember": [],
        "ownedMembership": [],
        "ownedRedefinition": [],
        "ownedRelationship": [],
        "ownedSubsetting": [],
        "ownedTextualRepresentation": [],
        "ownedTypeFeaturing": [],
        "ownedTyping": [],
        "owner": {
         "@id": "fc9a9f62-895d-47a2-b18a-deb679e3cea5"
        },
        "owningDefinition": null,
        "owningFeatureMembership": {
         "@id": "b021e2f2-4463-441f-a778-15410ac95b7f"
        },
        "owningMembership": {
         "@id": "b021e2f2-4463-441f-a778-15410ac95b7f"
        },
        "owningNamespace": {
         "@id": "fc9a9f62-895d-47a2-b18a-deb679e3cea5"
        },
        "owningRelationship": {
         "@id": "b021e2f2-4463-441f-a778-15410ac95b7f"
        },
        "owningType": {
         "@id": "fc9a9f62-895d-47a2-b18a-deb679e3cea5"
        },
        "owningUsage": {
         "@id": "fc9a9f62-895d-47a2-b18a-deb679e3cea5"
        },
        "partDefinition": [],
        "portionKind": null,
        "portioningFeature": null,
        "qualifiedName": "jdehart_api_demo::internal::B::C",
        "type": [],
        "usage": [],
        "variant": [],
        "variantMembership": []
       },
       {
        "@id": "0d788f05-b397-4827-9918-1e306d8ee80a",
        "@type": "FeatureMembership",
        "aliasId": [],
        "direction": null,
        "documentation": [],
        "documentationComment": [],
        "effectiveMemberName": "D",
        "effectiveName": null,
        "featureOfType": {
         "@id": "f68602c6-18a2-44e6-b3f1-057e6d7aa34b"
        },
        "featuringType": null,
        "humanId": null,
        "identifier": "0d788f05-b397-4827-9918-1e306d8ee80a",
        "isComposite": true,
        "isDerived": false,
        "isPort": false,
        "isPortion": false,
        "isReadOnly": false,
        "memberElement": {
         "@id": "f68602c6-18a2-44e6-b3f1-057e6d7aa34b"
        },
        "memberFeature": {
         "@id": "f68602c6-18a2-44e6-b3f1-057e6d7aa34b"
        },
        "memberName": "D",
        "membershipOwningNamespace": {
         "@id": "fc9a9f62-895d-47a2-b18a-deb679e3cea5"
        },
        "name": null,
        "ownedAnnotation": [],
        "ownedElement": [],
        "ownedMemberElement": {
         "@id": "f68602c6-18a2-44e6-b3f1-057e6d7aa34b"
        },
        "ownedMemberFeature": {
         "@id": "f68602c6-18a2-44e6-b3f1-057e6d7aa34b"
        },
        "ownedRelatedElement": [
         {
          "@id": "f68602c6-18a2-44e6-b3f1-057e6d7aa34b"
         }
        ],
        "ownedRelationship": [],
        "ownedTextualRepresentation": [],
        "owner": null,
        "owningFeatureOfType": null,
        "owningMembership": null,
        "owningNamespace": null,
        "owningRelatedElement": {
         "@id": "fc9a9f62-895d-47a2-b18a-deb679e3cea5"
        },
        "owningRelationship": null,
        "owningType": {
         "@id": "fc9a9f62-895d-47a2-b18a-deb679e3cea5"
        },
        "qualifiedName": null,
        "relatedElement": [
         {
          "@id": "fc9a9f62-895d-47a2-b18a-deb679e3cea5"
         },
         {
          "@id": "f68602c6-18a2-44e6-b3f1-057e6d7aa34b"
         }
        ],
        "source": [
         {
          "@id": "fc9a9f62-895d-47a2-b18a-deb679e3cea5"
         }
        ],
        "target": [
         {
          "@id": "f68602c6-18a2-44e6-b3f1-057e6d7aa34b"
         }
        ],
        "visibility": "PUBLIC"
       },
       {
        "@id": "27c696f7-2929-4eca-a198-6c32636b050e",
        "@type": "Membership",
        "aliasId": [],
        "documentation": [],
        "documentationComment": [],
        "effectiveMemberName": "B",
        "effectiveName": null,
        "humanId": null,
        "identifier": "27c696f7-2929-4eca-a198-6c32636b050e",
        "memberElement": {
         "@id": "fc9a9f62-895d-47a2-b18a-deb679e3cea5"
        },
        "memberName": "B",
        "membershipOwningNamespace": {
         "@id": "e0008900-28fd-4d43-a9e0-b0ca42b846c1"
        },
        "name": null,
        "ownedAnnotation": [],
        "ownedElement": [],
        "ownedMemberElement": {
         "@id": "fc9a9f62-895d-47a2-b18a-deb679e3cea5"
        },
        "ownedRelatedElement": [
         {
          "@id": "fc9a9f62-895d-47a2-b18a-deb679e3cea5"
         }
        ],
        "ownedRelationship": [],
        "ownedTextualRepresentation": [],
        "owner": null,
        "owningMembership": null,
        "owningNamespace": null,
        "owningRelatedElement": {
         "@id": "e0008900-28fd-4d43-a9e0-b0ca42b846c1"
        },
        "owningRelationship": null,
        "qualifiedName": null,
        "relatedElement": [
         {
          "@id": "e0008900-28fd-4d43-a9e0-b0ca42b846c1"
         },
         {
          "@id": "fc9a9f62-895d-47a2-b18a-deb679e3cea5"
         }
        ],
        "source": [
         {
          "@id": "e0008900-28fd-4d43-a9e0-b0ca42b846c1"
         }
        ],
        "target": [
         {
          "@id": "fc9a9f62-895d-47a2-b18a-deb679e3cea5"
         }
        ],
        "visibility": "PUBLIC"
       },
       {
        "@id": "317004fe-4546-45b6-b296-65991ac92442",
        "@type": "Package",
        "aliasId": [],
        "documentation": [],
        "documentationComment": [],
        "effectiveName": "jdehart_api_demo",
        "filterCondition": [],
        "humanId": null,
        "identifier": "317004fe-4546-45b6-b296-65991ac92442",
        "importedMembership": [],
        "member": [
         {
          "@id": "8862bdf1-3647-427e-8401-b02db4cb215a"
         },
         {
          "@id": "e0008900-28fd-4d43-a9e0-b0ca42b846c1"
         },
         {
          "@id": "62482ba7-9e29-426c-8d39-3e27e13bf9e0"
         }
        ],
        "membership": [
         {
          "@id": "718d8b79-62c7-4468-b11d-b9a28bcf3426"
         },
         {
          "@id": "92a9ee54-997e-44c5-a09b-38b1e31dfcc3"
         }
        ],
        "name": "jdehart_api_demo",
        "ownedAnnotation": [],
        "ownedElement": [
         {
          "@id": "8862bdf1-3647-427e-8401-b02db4cb215a"
         },
         {
          "@id": "e0008900-28fd-4d43-a9e0-b0ca42b846c1"
         }
        ],
        "ownedImport": [
         {
          "@id": "668f1120-e1de-4a6f-9d88-5c3d8dde3bd1"
         }
        ],
        "ownedMember": [
         {
          "@id": "8862bdf1-3647-427e-8401-b02db4cb215a"
         },
         {
          "@id": "e0008900-28fd-4d43-a9e0-b0ca42b846c1"
         }
        ],
        "ownedMembership": [
         {
          "@id": "718d8b79-62c7-4468-b11d-b9a28bcf3426"
         },
         {
          "@id": "92a9ee54-997e-44c5-a09b-38b1e31dfcc3"
         }
        ],
        "ownedRelationship": [
         {
          "@id": "668f1120-e1de-4a6f-9d88-5c3d8dde3bd1"
         },
         {
          "@id": "718d8b79-62c7-4468-b11d-b9a28bcf3426"
         },
         {
          "@id": "92a9ee54-997e-44c5-a09b-38b1e31dfcc3"
         }
        ],
        "ownedTextualRepresentation": [],
        "owner": null,
        "owningMembership": null,
        "owningNamespace": null,
        "owningRelationship": null,
        "qualifiedName": "jdehart_api_demo"
       },
       {
        "@id": "3223df00-9b38-496c-be95-4fd6a7b86618",
        "@type": "FeatureTyping",
        "aliasId": [],
        "documentation": [],
        "documentationComment": [],
        "effectiveName": null,
        "general": {
         "@id": "62482ba7-9e29-426c-8d39-3e27e13bf9e0"
        },
        "humanId": null,
        "identifier": "3223df00-9b38-496c-be95-4fd6a7b86618",
        "name": null,
        "ownedAnnotation": [],
        "ownedElement": [],
        "ownedRelatedElement": [],
        "ownedRelationship": [],
        "ownedTextualRepresentation": [],
        "owner": null,
        "owningFeature": {
         "@id": "c4ff4e26-371e-4fc7-b7a3-74fec14d51e8"
        },
        "owningMembership": null,
        "owningNamespace": null,
        "owningRelatedElement": {
         "@id": "c4ff4e26-371e-4fc7-b7a3-74fec14d51e8"
        },
        "owningRelationship": null,
        "owningType": {
         "@id": "c4ff4e26-371e-4fc7-b7a3-74fec14d51e8"
        },
        "qualifiedName": null,
        "relatedElement": [
         {
          "@id": "c4ff4e26-371e-4fc7-b7a3-74fec14d51e8"
         },
         {
          "@id": "62482ba7-9e29-426c-8d39-3e27e13bf9e0"
         }
        ],
        "source": [
         {
          "@id": "c4ff4e26-371e-4fc7-b7a3-74fec14d51e8"
         }
        ],
        "specific": {
         "@id": "c4ff4e26-371e-4fc7-b7a3-74fec14d51e8"
        },
        "target": [
         {
          "@id": "62482ba7-9e29-426c-8d39-3e27e13bf9e0"
         }
        ],
        "type": {
         "@id": "62482ba7-9e29-426c-8d39-3e27e13bf9e0"
        },
        "typedFeature": {
         "@id": "c4ff4e26-371e-4fc7-b7a3-74fec14d51e8"
        }
       },
       {
        "@id": "3979daf1-acb0-4ecb-8639-fa6e22897932",
        "@type": "ReturnParameterMembership",
        "aliasId": [],
        "direction": "OUT",
        "documentation": [],
        "documentationComment": [],
        "effectiveMemberName": "$result",
        "effectiveName": null,
        "featureOfType": {
         "@id": "42c23f78-b746-4d14-b675-ef4c56b1acae"
        },
        "featuringType": null,
        "humanId": null,
        "identifier": "3979daf1-acb0-4ecb-8639-fa6e22897932",
        "isComposite": false,
        "isDerived": false,
        "isPort": false,
        "isPortion": false,
        "isReadOnly": false,
        "memberElement": {
         "@id": "42c23f78-b746-4d14-b675-ef4c56b1acae"
        },
        "memberFeature": {
         "@id": "42c23f78-b746-4d14-b675-ef4c56b1acae"
        },
        "memberName": "$result",
        "memberParameter": {
         "@id": "42c23f78-b746-4d14-b675-ef4c56b1acae"
        },
        "membershipOwningNamespace": {
         "@id": "9c32cba5-efe6-494d-8fbd-584f831379a4"
        },
        "name": null,
        "ownedAnnotation": [],
        "ownedElement": [],
        "ownedMemberElement": {
         "@id": "42c23f78-b746-4d14-b675-ef4c56b1acae"
        },
        "ownedMemberFeature": {
         "@id": "42c23f78-b746-4d14-b675-ef4c56b1acae"
        },
        "ownedMemberParameter": {
         "@id": "42c23f78-b746-4d14-b675-ef4c56b1acae"
        },
        "ownedRelatedElement": [
         {
          "@id": "42c23f78-b746-4d14-b675-ef4c56b1acae"
         }
        ],
        "ownedRelationship": [],
        "ownedTextualRepresentation": [],
        "owner": null,
        "owningFeatureOfType": null,
        "owningMembership": null,
        "owningNamespace": null,
        "owningRelatedElement": {
         "@id": "9c32cba5-efe6-494d-8fbd-584f831379a4"
        },
        "owningRelationship": null,
        "owningType": {
         "@id": "9c32cba5-efe6-494d-8fbd-584f831379a4"
        },
        "qualifiedName": null,
        "relatedElement": [
         {
          "@id": "9c32cba5-efe6-494d-8fbd-584f831379a4"
         },
         {
          "@id": "42c23f78-b746-4d14-b675-ef4c56b1acae"
         }
        ],
        "source": [
         {
          "@id": "9c32cba5-efe6-494d-8fbd-584f831379a4"
         }
        ],
        "target": [
         {
          "@id": "42c23f78-b746-4d14-b675-ef4c56b1acae"
         }
        ],
        "visibility": "PUBLIC"
       },
       {
        "@id": "42c23f78-b746-4d14-b675-ef4c56b1acae",
        "@type": "Feature",
        "aliasId": [],
        "documentation": [],
        "documentationComment": [],
        "effectiveName": "$result",
        "endFeature": [],
        "endOwningType": null,
        "feature": [],
        "featureMembership": [],
        "featuringType": [
         {
          "@id": "9c32cba5-efe6-494d-8fbd-584f831379a4"
         }
        ],
        "humanId": null,
        "identifier": "42c23f78-b746-4d14-b675-ef4c56b1acae",
        "importedMembership": [],
        "inheritedFeature": [],
        "inheritedMembership": [],
        "input": [],
        "isAbstract": false,
        "isComposite": false,
        "isConjugated": false,
        "isEnd": false,
        "isNonunique": false,
        "isOrdered": false,
        "isSufficient": false,
        "isUnique": true,
        "member": [],
        "membership": [],
        "multiplicity": null,
        "name": "$result",
        "output": [],
        "ownedAnnotation": [],
        "ownedConjugator": null,
        "ownedElement": [],
        "ownedEndFeature": [],
        "ownedFeature": [],
        "ownedFeatureMembership": [],
        "ownedGeneralization": [],
        "ownedImport": [],
        "ownedMember": [],
        "ownedMembership": [],
        "ownedRedefinition": [],
        "ownedRelationship": [],
        "ownedSubsetting": [],
        "ownedTextualRepresentation": [],
        "ownedTypeFeaturing": [],
        "ownedTyping": [],
        "owner": {
         "@id": "9c32cba5-efe6-494d-8fbd-584f831379a4"
        },
        "owningFeatureMembership": {
         "@id": "3979daf1-acb0-4ecb-8639-fa6e22897932"
        },
        "owningMembership": {
         "@id": "3979daf1-acb0-4ecb-8639-fa6e22897932"
        },
        "owningNamespace": {
         "@id": "9c32cba5-efe6-494d-8fbd-584f831379a4"
        },
        "owningRelationship": {
         "@id": "3979daf1-acb0-4ecb-8639-fa6e22897932"
        },
        "owningType": {
         "@id": "9c32cba5-efe6-494d-8fbd-584f831379a4"
        },
        "qualifiedName": "jdehart_api_demo::A::mass::null::'$result'",
        "type": []
       },
       {
        "@id": "5654113f-da48-43e9-ba96-95d6e5ea4b9b",
        "@type": "Package",
        "aliasId": [],
        "documentation": [],
        "documentationComment": [],
        "effectiveName": "ScalarValues",
        "filterCondition": [],
        "humanId": null,
        "identifier": "5654113f-da48-43e9-ba96-95d6e5ea4b9b",
        "importedMembership": [],
        "member": [],
        "membership": [],
        "name": "ScalarValues",
        "ownedAnnotation": [],
        "ownedElement": [],
        "ownedImport": [],
        "ownedMember": [],
        "ownedMembership": [],
        "ownedRelationship": [],
        "ownedTextualRepresentation": [],
        "owner": null,
        "owningMembership": null,
        "owningNamespace": null,
        "owningRelationship": null,
        "qualifiedName": "ScalarValues"
       },
       {
        "@id": "62482ba7-9e29-426c-8d39-3e27e13bf9e0",
        "@type": "DataType",
        "aliasId": [],
        "documentation": [],
        "documentationComment": [],
        "effectiveName": "Real",
        "endFeature": [],
        "feature": [],
        "featureMembership": [],
        "humanId": null,
        "identifier": "62482ba7-9e29-426c-8d39-3e27e13bf9e0",
        "importedMembership": [],
        "inheritedFeature": [],
        "inheritedMembership": [],
        "input": [],
        "isAbstract": false,
        "isConjugated": false,
        "isSufficient": false,
        "member": [],
        "membership": [],
        "multiplicity": null,
        "name": "Real",
        "output": [],
        "ownedAnnotation": [],
        "ownedConjugator": null,
        "ownedElement": [],
        "ownedEndFeature": [],
        "ownedFeature": [],
        "ownedFeatureMembership": [],
        "ownedGeneralization": [],
        "ownedImport": [],
        "ownedMember": [],
        "ownedMembership": [],
        "ownedRelationship": [],
        "ownedSuperclassing": [],
        "ownedTextualRepresentation": [],
        "owner": null,
        "owningMembership": null,
        "owningNamespace": null,
        "owningRelationship": null,
        "qualifiedName": "ScalarValues::Real"
       },
       {
        "@id": "668f1120-e1de-4a6f-9d88-5c3d8dde3bd1",
        "@type": "Import",
        "aliasId": [],
        "documentation": [],
        "documentationComment": [],
        "effectiveName": null,
        "humanId": null,
        "identifier": "668f1120-e1de-4a6f-9d88-5c3d8dde3bd1",
        "importOwningNamespace": {
         "@id": "317004fe-4546-45b6-b296-65991ac92442"
        },
        "importedNamespace": {
         "@id": "5654113f-da48-43e9-ba96-95d6e5ea4b9b"
        },
        "isRecursive": false,
        "name": null,
        "ownedAnnotation": [],
        "ownedElement": [],
        "ownedRelatedElement": [],
        "ownedRelationship": [],
        "ownedTextualRepresentation": [],
        "owner": null,
        "owningMembership": null,
        "owningNamespace": null,
        "owningRelatedElement": {
         "@id": "317004fe-4546-45b6-b296-65991ac92442"
        },
        "owningRelationship": null,
        "qualifiedName": null,
        "relatedElement": [
         {
          "@id": "317004fe-4546-45b6-b296-65991ac92442"
         },
         {
          "@id": "5654113f-da48-43e9-ba96-95d6e5ea4b9b"
         }
        ],
        "source": [
         {
          "@id": "317004fe-4546-45b6-b296-65991ac92442"
         }
        ],
        "target": [
         {
          "@id": "5654113f-da48-43e9-ba96-95d6e5ea4b9b"
         }
        ],
        "visibility": "PUBLIC"
       },
       {
        "@id": "718d8b79-62c7-4468-b11d-b9a28bcf3426",
        "@type": "Membership",
        "aliasId": [],
        "documentation": [],
        "documentationComment": [],
        "effectiveMemberName": "A",
        "effectiveName": null,
        "humanId": null,
        "identifier": "718d8b79-62c7-4468-b11d-b9a28bcf3426",
        "memberElement": {
         "@id": "8862bdf1-3647-427e-8401-b02db4cb215a"
        },
        "memberName": "A",
        "membershipOwningNamespace": {
         "@id": "317004fe-4546-45b6-b296-65991ac92442"
        },
        "name": null,
        "ownedAnnotation": [],
        "ownedElement": [],
        "ownedMemberElement": {
         "@id": "8862bdf1-3647-427e-8401-b02db4cb215a"
        },
        "ownedRelatedElement": [
         {
          "@id": "8862bdf1-3647-427e-8401-b02db4cb215a"
         }
        ],
        "ownedRelationship": [],
        "ownedTextualRepresentation": [],
        "owner": null,
        "owningMembership": null,
        "owningNamespace": null,
        "owningRelatedElement": {
         "@id": "317004fe-4546-45b6-b296-65991ac92442"
        },
        "owningRelationship": null,
        "qualifiedName": null,
        "relatedElement": [
         {
          "@id": "317004fe-4546-45b6-b296-65991ac92442"
         },
         {
          "@id": "8862bdf1-3647-427e-8401-b02db4cb215a"
         }
        ],
        "source": [
         {
          "@id": "317004fe-4546-45b6-b296-65991ac92442"
         }
        ],
        "target": [
         {
          "@id": "8862bdf1-3647-427e-8401-b02db4cb215a"
         }
        ],
        "visibility": "PUBLIC"
       },
       {
        "@id": "8862bdf1-3647-427e-8401-b02db4cb215a",
        "@type": "PartUsage",
        "aliasId": [],
        "definition": [],
        "documentation": [],
        "documentationComment": [],
        "effectiveName": "A",
        "endFeature": [],
        "endOwningType": null,
        "feature": [
         {
          "@id": "c4ff4e26-371e-4fc7-b7a3-74fec14d51e8"
         }
        ],
        "featureMembership": [
         {
          "@id": "a90d727b-2a59-4b91-992d-332288721777"
         }
        ],
        "featuringType": [],
        "flowFeature": [],
        "humanId": null,
        "identifier": "8862bdf1-3647-427e-8401-b02db4cb215a",
        "importedMembership": [],
        "individualDefinition": null,
        "inheritedFeature": [],
        "inheritedMembership": [],
        "input": [],
        "isAbstract": false,
        "isComposite": false,
        "isConjugated": false,
        "isEnd": false,
        "isIndividual": false,
        "isNonunique": false,
        "isOrdered": false,
        "isSufficient": false,
        "isUnique": true,
        "isVariation": false,
        "itemDefinition": [],
        "member": [
         {
          "@id": "c4ff4e26-371e-4fc7-b7a3-74fec14d51e8"
         }
        ],
        "membership": [
         {
          "@id": "a90d727b-2a59-4b91-992d-332288721777"
         }
        ],
        "multiplicity": null,
        "name": "A",
        "nestedAction": [],
        "nestedAllocation": [],
        "nestedAnalysisCase": [],
        "nestedAttribute": [
         {
          "@id": "c4ff4e26-371e-4fc7-b7a3-74fec14d51e8"
         }
        ],
        "nestedCalculation": [],
        "nestedCase": [],
        "nestedConcern": [],
        "nestedConnection": [],
        "nestedConstraint": [],
        "nestedEnumeration": [],
        "nestedInterface": [],
        "nestedItem": [],
        "nestedOccurrence": [],
        "nestedPart": [],
        "nestedPort": [],
        "nestedReference": [],
        "nestedRendering": [],
        "nestedRequirement": [],
        "nestedStakeholder": [],
        "nestedState": [],
        "nestedTransition": [],
        "nestedUsage": [
         {
          "@id": "c4ff4e26-371e-4fc7-b7a3-74fec14d51e8"
         }
        ],
        "nestedVerificationCase": [],
        "nestedView": [],
        "nestedViewpoint": [],
        "occurrenceDefinition": [],
        "output": [],
        "ownedAnnotation": [],
        "ownedConjugator": null,
        "ownedElement": [
         {
          "@id": "c4ff4e26-371e-4fc7-b7a3-74fec14d51e8"
         }
        ],
        "ownedEndFeature": [],
        "ownedFeature": [
         {
          "@id": "c4ff4e26-371e-4fc7-b7a3-74fec14d51e8"
         }
        ],
        "ownedFeatureMembership": [
         {
          "@id": "a90d727b-2a59-4b91-992d-332288721777"
         }
        ],
        "ownedGeneralization": [],
        "ownedImport": [],
        "ownedMember": [
         {
          "@id": "c4ff4e26-371e-4fc7-b7a3-74fec14d51e8"
         }
        ],
        "ownedMembership": [
         {
          "@id": "a90d727b-2a59-4b91-992d-332288721777"
         }
        ],
        "ownedRedefinition": [],
        "ownedRelationship": [
         {
          "@id": "a90d727b-2a59-4b91-992d-332288721777"
         }
        ],
        "ownedSubsetting": [],
        "ownedTextualRepresentation": [],
        "ownedTypeFeaturing": [],
        "ownedTyping": [],
        "owner": {
         "@id": "317004fe-4546-45b6-b296-65991ac92442"
        },
        "owningDefinition": null,
        "owningFeatureMembership": null,
        "owningMembership": {
         "@id": "718d8b79-62c7-4468-b11d-b9a28bcf3426"
        },
        "owningNamespace": {
         "@id": "317004fe-4546-45b6-b296-65991ac92442"
        },
        "owningRelationship": {
         "@id": "718d8b79-62c7-4468-b11d-b9a28bcf3426"
        },
        "owningType": null,
        "owningUsage": null,
        "partDefinition": [],
        "portionKind": null,
        "portioningFeature": null,
        "qualifiedName": "jdehart_api_demo::A",
        "type": [],
        "usage": [
         {
          "@id": "c4ff4e26-371e-4fc7-b7a3-74fec14d51e8"
         }
        ],
        "variant": [],
        "variantMembership": []
       },
       {
        "@id": "92a9ee54-997e-44c5-a09b-38b1e31dfcc3",
        "@type": "Membership",
        "aliasId": [],
        "documentation": [],
        "documentationComment": [],
        "effectiveMemberName": "internal",
        "effectiveName": null,
        "humanId": null,
        "identifier": "92a9ee54-997e-44c5-a09b-38b1e31dfcc3",
        "memberElement": {
         "@id": "e0008900-28fd-4d43-a9e0-b0ca42b846c1"
        },
        "memberName": "internal",
        "membershipOwningNamespace": {
         "@id": "317004fe-4546-45b6-b296-65991ac92442"
        },
        "name": null,
        "ownedAnnotation": [],
        "ownedElement": [],
        "ownedMemberElement": {
         "@id": "e0008900-28fd-4d43-a9e0-b0ca42b846c1"
        },
        "ownedRelatedElement": [
         {
          "@id": "e0008900-28fd-4d43-a9e0-b0ca42b846c1"
         }
        ],
        "ownedRelationship": [],
        "ownedTextualRepresentation": [],
        "owner": null,
        "owningMembership": null,
        "owningNamespace": null,
        "owningRelatedElement": {
         "@id": "317004fe-4546-45b6-b296-65991ac92442"
        },
        "owningRelationship": null,
        "qualifiedName": null,
        "relatedElement": [
         {
          "@id": "317004fe-4546-45b6-b296-65991ac92442"
         },
         {
          "@id": "e0008900-28fd-4d43-a9e0-b0ca42b846c1"
         }
        ],
        "source": [
         {
          "@id": "317004fe-4546-45b6-b296-65991ac92442"
         }
        ],
        "target": [
         {
          "@id": "e0008900-28fd-4d43-a9e0-b0ca42b846c1"
         }
        ],
        "visibility": "PUBLIC"
       },
       {
        "@id": "9c32cba5-efe6-494d-8fbd-584f831379a4",
        "@type": "LiteralInteger",
        "aliasId": [],
        "behavior": [],
        "documentation": [],
        "documentationComment": [],
        "effectiveName": null,
        "endFeature": [],
        "endOwningType": null,
        "feature": [
         {
          "@id": "42c23f78-b746-4d14-b675-ef4c56b1acae"
         }
        ],
        "featureMembership": [
         {
          "@id": "3979daf1-acb0-4ecb-8639-fa6e22897932"
         }
        ],
        "featuringType": [
         {
          "@id": "8862bdf1-3647-427e-8401-b02db4cb215a"
         }
        ],
        "function": null,
        "humanId": null,
        "identifier": "9c32cba5-efe6-494d-8fbd-584f831379a4",
        "importedMembership": [],
        "inheritedFeature": [],
        "inheritedMembership": [],
        "input": [],
        "isAbstract": false,
        "isComposite": false,
        "isConjugated": false,
        "isEnd": false,
        "isModelLevelEvaluable": true,
        "isNonunique": false,
        "isOrdered": false,
        "isSufficient": false,
        "isUnique": true,
        "member": [
         {
          "@id": "42c23f78-b746-4d14-b675-ef4c56b1acae"
         }
        ],
        "membership": [
         {
          "@id": "3979daf1-acb0-4ecb-8639-fa6e22897932"
         }
        ],
        "multiplicity": null,
        "name": null,
        "output": [
         {
          "@id": "42c23f78-b746-4d14-b675-ef4c56b1acae"
         }
        ],
        "ownedAnnotation": [],
        "ownedConjugator": null,
        "ownedElement": [
         {
          "@id": "42c23f78-b746-4d14-b675-ef4c56b1acae"
         }
        ],
        "ownedEndFeature": [],
        "ownedFeature": [
         {
          "@id": "42c23f78-b746-4d14-b675-ef4c56b1acae"
         }
        ],
        "ownedFeatureMembership": [
         {
          "@id": "3979daf1-acb0-4ecb-8639-fa6e22897932"
         }
        ],
        "ownedGeneralization": [],
        "ownedImport": [],
        "ownedMember": [
         {
          "@id": "42c23f78-b746-4d14-b675-ef4c56b1acae"
         }
        ],
        "ownedMembership": [
         {
          "@id": "3979daf1-acb0-4ecb-8639-fa6e22897932"
         }
        ],
        "ownedRedefinition": [],
        "ownedRelationship": [
         {
          "@id": "3979daf1-acb0-4ecb-8639-fa6e22897932"
         }
        ],
        "ownedSubsetting": [],
        "ownedTextualRepresentation": [],
        "ownedTypeFeaturing": [],
        "ownedTyping": [],
        "owner": {
         "@id": "c4ff4e26-371e-4fc7-b7a3-74fec14d51e8"
        },
        "owningFeatureMembership": null,
        "owningMembership": {
         "@id": "c3f2c3bf-2cf2-4dab-a5e6-81a223e962a8"
        },
        "owningNamespace": {
         "@id": "c4ff4e26-371e-4fc7-b7a3-74fec14d51e8"
        },
        "owningRelationship": {
         "@id": "c3f2c3bf-2cf2-4dab-a5e6-81a223e962a8"
        },
        "owningType": null,
        "parameter": [
         {
          "@id": "42c23f78-b746-4d14-b675-ef4c56b1acae"
         }
        ],
        "qualifiedName": "jdehart_api_demo::A::mass::null",
        "result": {
         "@id": "42c23f78-b746-4d14-b675-ef4c56b1acae"
        },
        "type": [],
        "value": 30
       },
       {
        "@id": "a90d727b-2a59-4b91-992d-332288721777",
        "@type": "FeatureMembership",
        "aliasId": [],
        "direction": null,
        "documentation": [],
        "documentationComment": [],
        "effectiveMemberName": "mass",
        "effectiveName": null,
        "featureOfType": {
         "@id": "c4ff4e26-371e-4fc7-b7a3-74fec14d51e8"
        },
        "featuringType": null,
        "humanId": null,
        "identifier": "a90d727b-2a59-4b91-992d-332288721777",
        "isComposite": false,
        "isDerived": false,
        "isPort": false,
        "isPortion": false,
        "isReadOnly": false,
        "memberElement": {
         "@id": "c4ff4e26-371e-4fc7-b7a3-74fec14d51e8"
        },
        "memberFeature": {
         "@id": "c4ff4e26-371e-4fc7-b7a3-74fec14d51e8"
        },
        "memberName": "mass",
        "membershipOwningNamespace": {
         "@id": "8862bdf1-3647-427e-8401-b02db4cb215a"
        },
        "name": null,
        "ownedAnnotation": [],
        "ownedElement": [],
        "ownedMemberElement": {
         "@id": "c4ff4e26-371e-4fc7-b7a3-74fec14d51e8"
        },
        "ownedMemberFeature": {
         "@id": "c4ff4e26-371e-4fc7-b7a3-74fec14d51e8"
        },
        "ownedRelatedElement": [
         {
          "@id": "c4ff4e26-371e-4fc7-b7a3-74fec14d51e8"
         }
        ],
        "ownedRelationship": [],
        "ownedTextualRepresentation": [],
        "owner": null,
        "owningFeatureOfType": null,
        "owningMembership": null,
        "owningNamespace": null,
        "owningRelatedElement": {
         "@id": "8862bdf1-3647-427e-8401-b02db4cb215a"
        },
        "owningRelationship": null,
        "owningType": {
         "@id": "8862bdf1-3647-427e-8401-b02db4cb215a"
        },
        "qualifiedName": null,
        "relatedElement": [
         {
          "@id": "8862bdf1-3647-427e-8401-b02db4cb215a"
         },
         {
          "@id": "c4ff4e26-371e-4fc7-b7a3-74fec14d51e8"
         }
        ],
        "source": [
         {
          "@id": "8862bdf1-3647-427e-8401-b02db4cb215a"
         }
        ],
        "target": [
         {
          "@id": "c4ff4e26-371e-4fc7-b7a3-74fec14d51e8"
         }
        ],
        "visibility": "PUBLIC"
       },
       {
        "@id": "b021e2f2-4463-441f-a778-15410ac95b7f",
        "@type": "FeatureMembership",
        "aliasId": [],
        "direction": null,
        "documentation": [],
        "documentationComment": [],
        "effectiveMemberName": "C",
        "effectiveName": null,
        "featureOfType": {
         "@id": "07f23365-9067-4e31-bc93-a3b756485291"
        },
        "featuringType": null,
        "humanId": null,
        "identifier": "b021e2f2-4463-441f-a778-15410ac95b7f",
        "isComposite": true,
        "isDerived": false,
        "isPort": false,
        "isPortion": false,
        "isReadOnly": false,
        "memberElement": {
         "@id": "07f23365-9067-4e31-bc93-a3b756485291"
        },
        "memberFeature": {
         "@id": "07f23365-9067-4e31-bc93-a3b756485291"
        },
        "memberName": "C",
        "membershipOwningNamespace": {
         "@id": "fc9a9f62-895d-47a2-b18a-deb679e3cea5"
        },
        "name": null,
        "ownedAnnotation": [],
        "ownedElement": [],
        "ownedMemberElement": {
         "@id": "07f23365-9067-4e31-bc93-a3b756485291"
        },
        "ownedMemberFeature": {
         "@id": "07f23365-9067-4e31-bc93-a3b756485291"
        },
        "ownedRelatedElement": [
         {
          "@id": "07f23365-9067-4e31-bc93-a3b756485291"
         }
        ],
        "ownedRelationship": [],
        "ownedTextualRepresentation": [],
        "owner": null,
        "owningFeatureOfType": null,
        "owningMembership": null,
        "owningNamespace": null,
        "owningRelatedElement": {
         "@id": "fc9a9f62-895d-47a2-b18a-deb679e3cea5"
        },
        "owningRelationship": null,
        "owningType": {
         "@id": "fc9a9f62-895d-47a2-b18a-deb679e3cea5"
        },
        "qualifiedName": null,
        "relatedElement": [
         {
          "@id": "fc9a9f62-895d-47a2-b18a-deb679e3cea5"
         },
         {
          "@id": "07f23365-9067-4e31-bc93-a3b756485291"
         }
        ],
        "source": [
         {
          "@id": "fc9a9f62-895d-47a2-b18a-deb679e3cea5"
         }
        ],
        "target": [
         {
          "@id": "07f23365-9067-4e31-bc93-a3b756485291"
         }
        ],
        "visibility": "PUBLIC"
       },
       {
        "@id": "c3f2c3bf-2cf2-4dab-a5e6-81a223e962a8",
        "@type": "FeatureValue",
        "aliasId": [],
        "documentation": [],
        "documentationComment": [],
        "effectiveMemberName": null,
        "effectiveName": null,
        "featureWithValue": null,
        "humanId": null,
        "identifier": "c3f2c3bf-2cf2-4dab-a5e6-81a223e962a8",
        "memberElement": {
         "@id": "9c32cba5-efe6-494d-8fbd-584f831379a4"
        },
        "memberName": null,
        "membershipOwningNamespace": {
         "@id": "c4ff4e26-371e-4fc7-b7a3-74fec14d51e8"
        },
        "name": null,
        "ownedAnnotation": [],
        "ownedElement": [],
        "ownedMemberElement": {
         "@id": "9c32cba5-efe6-494d-8fbd-584f831379a4"
        },
        "ownedRelatedElement": [
         {
          "@id": "9c32cba5-efe6-494d-8fbd-584f831379a4"
         }
        ],
        "ownedRelationship": [],
        "ownedTextualRepresentation": [],
        "owner": null,
        "owningMembership": null,
        "owningNamespace": null,
        "owningRelatedElement": {
         "@id": "c4ff4e26-371e-4fc7-b7a3-74fec14d51e8"
        },
        "owningRelationship": null,
        "qualifiedName": null,
        "relatedElement": [
         {
          "@id": "c4ff4e26-371e-4fc7-b7a3-74fec14d51e8"
         },
         {
          "@id": "9c32cba5-efe6-494d-8fbd-584f831379a4"
         }
        ],
        "source": [
         {
          "@id": "c4ff4e26-371e-4fc7-b7a3-74fec14d51e8"
         }
        ],
        "target": [
         {
          "@id": "9c32cba5-efe6-494d-8fbd-584f831379a4"
         }
        ],
        "value": {
         "@id": "9c32cba5-efe6-494d-8fbd-584f831379a4"
        },
        "valueConnector": null,
        "visibility": "PUBLIC"
       },
       {
        "@id": "c4ff4e26-371e-4fc7-b7a3-74fec14d51e8",
        "@type": "AttributeUsage",
        "aliasId": [],
        "attributeDefinition": [
         {
          "@id": "62482ba7-9e29-426c-8d39-3e27e13bf9e0"
         }
        ],
        "definition": [
         {
          "@id": "62482ba7-9e29-426c-8d39-3e27e13bf9e0"
         }
        ],
        "documentation": [],
        "documentationComment": [],
        "effectiveName": "mass",
        "endFeature": [],
        "endOwningType": null,
        "feature": [
         {
          "@id": "9c32cba5-efe6-494d-8fbd-584f831379a4"
         }
        ],
        "featureMembership": [],
        "featuringType": [
         {
          "@id": "8862bdf1-3647-427e-8401-b02db4cb215a"
         }
        ],
        "flowFeature": [],
        "humanId": null,
        "identifier": "c4ff4e26-371e-4fc7-b7a3-74fec14d51e8",
        "importedMembership": [],
        "inheritedFeature": [],
        "inheritedMembership": [],
        "input": [],
        "isAbstract": false,
        "isComposite": false,
        "isConjugated": false,
        "isEnd": false,
        "isNonunique": false,
        "isOrdered": false,
        "isSufficient": false,
        "isUnique": true,
        "isVariation": false,
        "member": [
         {
          "@id": "9c32cba5-efe6-494d-8fbd-584f831379a4"
         }
        ],
        "membership": [
         {
          "@id": "c3f2c3bf-2cf2-4dab-a5e6-81a223e962a8"
         }
        ],
        "multiplicity": null,
        "name": "mass",
        "nestedAction": [],
        "nestedAllocation": [],
        "nestedAnalysisCase": [],
        "nestedAttribute": [],
        "nestedCalculation": [],
        "nestedCase": [],
        "nestedConcern": [],
        "nestedConnection": [],
        "nestedConstraint": [],
        "nestedEnumeration": [],
        "nestedInterface": [],
        "nestedItem": [],
        "nestedOccurrence": [],
        "nestedPart": [],
        "nestedPort": [],
        "nestedReference": [],
        "nestedRendering": [],
        "nestedRequirement": [],
        "nestedStakeholder": [],
        "nestedState": [],
        "nestedTransition": [],
        "nestedUsage": [],
        "nestedVerificationCase": [],
        "nestedView": [],
        "nestedViewpoint": [],
        "output": [],
        "ownedAnnotation": [],
        "ownedConjugator": null,
        "ownedElement": [
         {
          "@id": "9c32cba5-efe6-494d-8fbd-584f831379a4"
         }
        ],
        "ownedEndFeature": [],
        "ownedFeature": [
         {
          "@id": "9c32cba5-efe6-494d-8fbd-584f831379a4"
         }
        ],
        "ownedFeatureMembership": [],
        "ownedGeneralization": [
         {
          "@id": "3223df00-9b38-496c-be95-4fd6a7b86618"
         }
        ],
        "ownedImport": [],
        "ownedMember": [
         {
          "@id": "9c32cba5-efe6-494d-8fbd-584f831379a4"
         }
        ],
        "ownedMembership": [
         {
          "@id": "c3f2c3bf-2cf2-4dab-a5e6-81a223e962a8"
         }
        ],
        "ownedRedefinition": [],
        "ownedRelationship": [
         {
          "@id": "3223df00-9b38-496c-be95-4fd6a7b86618"
         },
         {
          "@id": "c3f2c3bf-2cf2-4dab-a5e6-81a223e962a8"
         }
        ],
        "ownedSubsetting": [],
        "ownedTextualRepresentation": [],
        "ownedTypeFeaturing": [],
        "ownedTyping": [
         {
          "@id": "3223df00-9b38-496c-be95-4fd6a7b86618"
         }
        ],
        "owner": {
         "@id": "8862bdf1-3647-427e-8401-b02db4cb215a"
        },
        "owningDefinition": null,
        "owningFeatureMembership": {
         "@id": "a90d727b-2a59-4b91-992d-332288721777"
        },
        "owningMembership": {
         "@id": "a90d727b-2a59-4b91-992d-332288721777"
        },
        "owningNamespace": {
         "@id": "8862bdf1-3647-427e-8401-b02db4cb215a"
        },
        "owningRelationship": {
         "@id": "a90d727b-2a59-4b91-992d-332288721777"
        },
        "owningType": {
         "@id": "8862bdf1-3647-427e-8401-b02db4cb215a"
        },
        "owningUsage": {
         "@id": "8862bdf1-3647-427e-8401-b02db4cb215a"
        },
        "qualifiedName": "jdehart_api_demo::A::mass",
        "type": [
         {
          "@id": "62482ba7-9e29-426c-8d39-3e27e13bf9e0"
         }
        ],
        "usage": [],
        "variant": [],
        "variantMembership": []
       },
       {
        "@id": "e0008900-28fd-4d43-a9e0-b0ca42b846c1",
        "@type": "Package",
        "aliasId": [],
        "documentation": [],
        "documentationComment": [],
        "effectiveName": "internal",
        "filterCondition": [],
        "humanId": null,
        "identifier": "e0008900-28fd-4d43-a9e0-b0ca42b846c1",
        "importedMembership": [],
        "member": [
         {
          "@id": "fc9a9f62-895d-47a2-b18a-deb679e3cea5"
         }
        ],
        "membership": [
         {
          "@id": "27c696f7-2929-4eca-a198-6c32636b050e"
         }
        ],
        "name": "internal",
        "ownedAnnotation": [],
        "ownedElement": [
         {
          "@id": "fc9a9f62-895d-47a2-b18a-deb679e3cea5"
         }
        ],
        "ownedImport": [],
        "ownedMember": [
         {
          "@id": "fc9a9f62-895d-47a2-b18a-deb679e3cea5"
         }
        ],
        "ownedMembership": [
         {
          "@id": "27c696f7-2929-4eca-a198-6c32636b050e"
         }
        ],
        "ownedRelationship": [
         {
          "@id": "27c696f7-2929-4eca-a198-6c32636b050e"
         }
        ],
        "ownedTextualRepresentation": [],
        "owner": {
         "@id": "317004fe-4546-45b6-b296-65991ac92442"
        },
        "owningMembership": {
         "@id": "92a9ee54-997e-44c5-a09b-38b1e31dfcc3"
        },
        "owningNamespace": {
         "@id": "317004fe-4546-45b6-b296-65991ac92442"
        },
        "owningRelationship": {
         "@id": "92a9ee54-997e-44c5-a09b-38b1e31dfcc3"
        },
        "qualifiedName": "jdehart_api_demo::internal"
       },
       {
        "@id": "f68602c6-18a2-44e6-b3f1-057e6d7aa34b",
        "@type": "PartUsage",
        "aliasId": [],
        "definition": [],
        "documentation": [],
        "documentationComment": [],
        "effectiveName": "D",
        "endFeature": [],
        "endOwningType": null,
        "feature": [],
        "featureMembership": [],
        "featuringType": [
         {
          "@id": "fc9a9f62-895d-47a2-b18a-deb679e3cea5"
         }
        ],
        "flowFeature": [],
        "humanId": null,
        "identifier": "f68602c6-18a2-44e6-b3f1-057e6d7aa34b",
        "importedMembership": [],
        "individualDefinition": null,
        "inheritedFeature": [],
        "inheritedMembership": [],
        "input": [],
        "isAbstract": false,
        "isComposite": true,
        "isConjugated": false,
        "isEnd": false,
        "isIndividual": false,
        "isNonunique": false,
        "isOrdered": false,
        "isSufficient": false,
        "isUnique": true,
        "isVariation": false,
        "itemDefinition": [],
        "member": [],
        "membership": [],
        "multiplicity": null,
        "name": "D",
        "nestedAction": [],
        "nestedAllocation": [],
        "nestedAnalysisCase": [],
        "nestedAttribute": [],
        "nestedCalculation": [],
        "nestedCase": [],
        "nestedConcern": [],
        "nestedConnection": [],
        "nestedConstraint": [],
        "nestedEnumeration": [],
        "nestedInterface": [],
        "nestedItem": [],
        "nestedOccurrence": [],
        "nestedPart": [],
        "nestedPort": [],
        "nestedReference": [],
        "nestedRendering": [],
        "nestedRequirement": [],
        "nestedStakeholder": [],
        "nestedState": [],
        "nestedTransition": [],
        "nestedUsage": [],
        "nestedVerificationCase": [],
        "nestedView": [],
        "nestedViewpoint": [],
        "occurrenceDefinition": [],
        "output": [],
        "ownedAnnotation": [],
        "ownedConjugator": null,
        "ownedElement": [],
        "ownedEndFeature": [],
        "ownedFeature": [],
        "ownedFeatureMembership": [],
        "ownedGeneralization": [],
        "ownedImport": [],
        "ownedMember": [],
        "ownedMembership": [],
        "ownedRedefinition": [],
        "ownedRelationship": [],
        "ownedSubsetting": [],
        "ownedTextualRepresentation": [],
        "ownedTypeFeaturing": [],
        "ownedTyping": [],
        "owner": {
         "@id": "fc9a9f62-895d-47a2-b18a-deb679e3cea5"
        },
        "owningDefinition": null,
        "owningFeatureMembership": {
         "@id": "0d788f05-b397-4827-9918-1e306d8ee80a"
        },
        "owningMembership": {
         "@id": "0d788f05-b397-4827-9918-1e306d8ee80a"
        },
        "owningNamespace": {
         "@id": "fc9a9f62-895d-47a2-b18a-deb679e3cea5"
        },
        "owningRelationship": {
         "@id": "0d788f05-b397-4827-9918-1e306d8ee80a"
        },
        "owningType": {
         "@id": "fc9a9f62-895d-47a2-b18a-deb679e3cea5"
        },
        "owningUsage": {
         "@id": "fc9a9f62-895d-47a2-b18a-deb679e3cea5"
        },
        "partDefinition": [],
        "portionKind": null,
        "portioningFeature": null,
        "qualifiedName": "jdehart_api_demo::internal::B::D",
        "type": [],
        "usage": [],
        "variant": [],
        "variantMembership": []
       },
       {
        "@id": "fc9a9f62-895d-47a2-b18a-deb679e3cea5",
        "@type": "PartUsage",
        "aliasId": [],
        "definition": [],
        "documentation": [],
        "documentationComment": [],
        "effectiveName": "B",
        "endFeature": [],
        "endOwningType": null,
        "feature": [
         {
          "@id": "07f23365-9067-4e31-bc93-a3b756485291"
         },
         {
          "@id": "f68602c6-18a2-44e6-b3f1-057e6d7aa34b"
         }
        ],
        "featureMembership": [
         {
          "@id": "b021e2f2-4463-441f-a778-15410ac95b7f"
         },
         {
          "@id": "0d788f05-b397-4827-9918-1e306d8ee80a"
         }
        ],
        "featuringType": [],
        "flowFeature": [],
        "humanId": null,
        "identifier": "fc9a9f62-895d-47a2-b18a-deb679e3cea5",
        "importedMembership": [],
        "individualDefinition": null,
        "inheritedFeature": [],
        "inheritedMembership": [],
        "input": [],
        "isAbstract": false,
        "isComposite": false,
        "isConjugated": false,
        "isEnd": false,
        "isIndividual": false,
        "isNonunique": false,
        "isOrdered": false,
        "isSufficient": false,
        "isUnique": true,
        "isVariation": false,
        "itemDefinition": [],
        "member": [
         {
          "@id": "07f23365-9067-4e31-bc93-a3b756485291"
         },
         {
          "@id": "f68602c6-18a2-44e6-b3f1-057e6d7aa34b"
         }
        ],
        "membership": [
         {
          "@id": "b021e2f2-4463-441f-a778-15410ac95b7f"
         },
         {
          "@id": "0d788f05-b397-4827-9918-1e306d8ee80a"
         }
        ],
        "multiplicity": null,
        "name": "B",
        "nestedAction": [],
        "nestedAllocation": [],
        "nestedAnalysisCase": [],
        "nestedAttribute": [],
        "nestedCalculation": [],
        "nestedCase": [],
        "nestedConcern": [],
        "nestedConnection": [],
        "nestedConstraint": [],
        "nestedEnumeration": [],
        "nestedInterface": [],
        "nestedItem": [
         {
          "@id": "07f23365-9067-4e31-bc93-a3b756485291"
         },
         {
          "@id": "f68602c6-18a2-44e6-b3f1-057e6d7aa34b"
         }
        ],
        "nestedOccurrence": [
         {
          "@id": "07f23365-9067-4e31-bc93-a3b756485291"
         },
         {
          "@id": "f68602c6-18a2-44e6-b3f1-057e6d7aa34b"
         }
        ],
        "nestedPart": [
         {
          "@id": "07f23365-9067-4e31-bc93-a3b756485291"
         },
         {
          "@id": "f68602c6-18a2-44e6-b3f1-057e6d7aa34b"
         }
        ],
        "nestedPort": [],
        "nestedReference": [],
        "nestedRendering": [],
        "nestedRequirement": [],
        "nestedStakeholder": [],
        "nestedState": [],
        "nestedTransition": [],
        "nestedUsage": [
         {
          "@id": "07f23365-9067-4e31-bc93-a3b756485291"
         },
         {
          "@id": "f68602c6-18a2-44e6-b3f1-057e6d7aa34b"
         }
        ],
        "nestedVerificationCase": [],
        "nestedView": [],
        "nestedViewpoint": [],
        "occurrenceDefinition": [],
        "output": [],
        "ownedAnnotation": [],
        "ownedConjugator": null,
        "ownedElement": [
         {
          "@id": "07f23365-9067-4e31-bc93-a3b756485291"
         },
         {
          "@id": "f68602c6-18a2-44e6-b3f1-057e6d7aa34b"
         }
        ],
        "ownedEndFeature": [],
        "ownedFeature": [
         {
          "@id": "07f23365-9067-4e31-bc93-a3b756485291"
         },
         {
          "@id": "f68602c6-18a2-44e6-b3f1-057e6d7aa34b"
         }
        ],
        "ownedFeatureMembership": [
         {
          "@id": "b021e2f2-4463-441f-a778-15410ac95b7f"
         },
         {
          "@id": "0d788f05-b397-4827-9918-1e306d8ee80a"
         }
        ],
        "ownedGeneralization": [],
        "ownedImport": [],
        "ownedMember": [
         {
          "@id": "07f23365-9067-4e31-bc93-a3b756485291"
         },
         {
          "@id": "f68602c6-18a2-44e6-b3f1-057e6d7aa34b"
         }
        ],
        "ownedMembership": [
         {
          "@id": "b021e2f2-4463-441f-a778-15410ac95b7f"
         },
         {
          "@id": "0d788f05-b397-4827-9918-1e306d8ee80a"
         }
        ],
        "ownedRedefinition": [],
        "ownedRelationship": [
         {
          "@id": "b021e2f2-4463-441f-a778-15410ac95b7f"
         },
         {
          "@id": "0d788f05-b397-4827-9918-1e306d8ee80a"
         }
        ],
        "ownedSubsetting": [],
        "ownedTextualRepresentation": [],
        "ownedTypeFeaturing": [],
        "ownedTyping": [],
        "owner": {
         "@id": "e0008900-28fd-4d43-a9e0-b0ca42b846c1"
        },
        "owningDefinition": null,
        "owningFeatureMembership": null,
        "owningMembership": {
         "@id": "27c696f7-2929-4eca-a198-6c32636b050e"
        },
        "owningNamespace": {
         "@id": "e0008900-28fd-4d43-a9e0-b0ca42b846c1"
        },
        "owningRelationship": {
         "@id": "27c696f7-2929-4eca-a198-6c32636b050e"
        },
        "owningType": null,
        "owningUsage": null,
        "partDefinition": [],
        "portionKind": null,
        "portioningFeature": null,
        "qualifiedName": "jdehart_api_demo::internal::B",
        "type": [],
        "usage": [
         {
          "@id": "07f23365-9067-4e31-bc93-a3b756485291"
         },
         {
          "@id": "f68602c6-18a2-44e6-b3f1-057e6d7aa34b"
         }
        ],
        "variant": [],
        "variantMembership": []
       }
      ],
      "text/plain": [
       "<IPython.core.display.JSON object>"
      ]
     },
     "execution_count": 25,
     "metadata": {
      "application/json": {
       "expanded": false,
       "root": "root"
      }
     },
     "output_type": "execute_result"
    }
   ],
   "source": [
    "from IPython.display import JSON\n",
    "JSON(working_model)"
   ]
  },
  {
   "cell_type": "code",
   "execution_count": null,
   "id": "89d955d6-e182-400e-8b2f-d51c1e896660",
   "metadata": {},
   "outputs": [],
   "source": []
  }
 ],
 "metadata": {
  "kernelspec": {
   "display_name": "pyMBE",
   "language": "python",
   "name": "pymbe"
  },
  "language_info": {
   "codemirror_mode": {
    "name": "ipython",
    "version": 3
   },
   "file_extension": ".py",
   "mimetype": "text/x-python",
   "name": "python",
   "nbconvert_exporter": "python",
   "pygments_lexer": "ipython3",
   "version": "3.9.6"
  }
 },
 "nbformat": 4,
 "nbformat_minor": 5
}
