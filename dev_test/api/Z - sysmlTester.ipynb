{
 "cells": [
  {
   "cell_type": "code",
   "execution_count": 14,
   "id": "92e4803c-0c2c-49ea-a479-411eca2a6ad1",
   "metadata": {},
   "outputs": [
    {
     "data": {
      "text/plain": [
       "Package ModelExample_A (ef74cf90-2c56-4220-b303-11e6e4d111d8)\n"
      ]
     },
     "execution_count": 14,
     "metadata": {},
     "output_type": "execute_result"
    }
   ],
   "source": [
    "package ModelExample_A {\n",
    "    import ScalarValues::*;\n",
    "\n",
    "    part Automobile;\n",
    "    \n",
    "    part Aeroplane;\n",
    "    \n",
    "    part Bicycle{\n",
    "        part Wheel{\n",
    "            part Hub;\n",
    "            part Tire;\n",
    "        }\n",
    "        \n",
    "        part Seat;\n",
    "        part Frame;\n",
    "    }\n",
    "}"
   ]
  },
  {
   "cell_type": "code",
   "execution_count": 15,
   "id": "b46c1d52-20ba-404b-bcc3-af2126ccbda6",
   "metadata": {},
   "outputs": [
    {
     "data": {
      "image/svg+xml": [
       "<?xml version=\"1.0\" encoding=\"UTF-8\" standalone=\"no\"?><svg xmlns=\"http://www.w3.org/2000/svg\" xmlns:xlink=\"http://www.w3.org/1999/xlink\" contentScriptType=\"application/ecmascript\" contentStyleType=\"text/css\" height=\"327px\" preserveAspectRatio=\"none\" style=\"width:334px;height:327px;\" version=\"1.1\" viewBox=\"0 0 334 327\" width=\"334px\" zoomAndPan=\"magnify\"><defs/><g><!--MD5=[fbc87193dbaf4d95561dea2c320d4a47]\n",
       "cluster E1--><a href=\"psysml:c1c6ce2f-62e2-419d-ab80-13986dd41f69\" target=\"_top\" title=\"psysml:c1c6ce2f-62e2-419d-ab80-13986dd41f69\" xlink:actuate=\"onRequest\" xlink:href=\"psysml:c1c6ce2f-62e2-419d-ab80-13986dd41f69\" xlink:show=\"new\" xlink:title=\"psysml:c1c6ce2f-62e2-419d-ab80-13986dd41f69\" xlink:type=\"simple\"><polygon fill=\"#FFFFFF\" points=\"16,6,152,6,159,28.2969,312,28.2969,312,315,16,315,16,6\" style=\"stroke: #000000; stroke-width: 1.5;\"/><line style=\"stroke: #000000; stroke-width: 1.5;\" x1=\"16\" x2=\"159\" y1=\"28.2969\" y2=\"28.2969\"/><text fill=\"#000000\" font-family=\"sans-serif\" font-size=\"14\" font-weight=\"bold\" lengthAdjust=\"spacingAndGlyphs\" textLength=\"130\" x=\"20\" y=\"20.9951\">ModelExample_A</text></a><!--MD5=[b4997ac47864f28c2f74865a473b2911]\n",
       "class E2--><a href=\"psysml:c4daadb3-4d28-4eb5-b3bf-b6593cd21d54\" target=\"_top\" title=\"psysml:c4daadb3-4d28-4eb5-b3bf-b6593cd21d54\" xlink:actuate=\"onRequest\" xlink:href=\"psysml:c4daadb3-4d28-4eb5-b3bf-b6593cd21d54\" xlink:show=\"new\" xlink:title=\"psysml:c4daadb3-4d28-4eb5-b3bf-b6593cd21d54\" xlink:type=\"simple\"><rect fill=\"#FFFFFF\" height=\"45.9375\" id=\"E2\" rx=\"10\" ry=\"10\" style=\"stroke: #383838; stroke-width: 1.5;\" width=\"76\" x=\"220\" y=\"41\"/><text fill=\"#000000\" font-family=\"sans-serif\" font-size=\"12\" font-style=\"italic\" lengthAdjust=\"spacingAndGlyphs\" textLength=\"40\" x=\"238\" y=\"57.1387\">«part»</text><text fill=\"#000000\" font-family=\"sans-serif\" font-size=\"12\" lengthAdjust=\"spacingAndGlyphs\" textLength=\"70\" x=\"223\" y=\"71.1074\">Automobile</text><line style=\"stroke: #383838; stroke-width: 1.5;\" x1=\"221\" x2=\"295\" y1=\"78.9375\" y2=\"78.9375\"/></a><!--MD5=[09b614a08d8cba4a07c9adeb5e0fee81]\n",
       "class E3--><a href=\"psysml:945e81cf-a78a-43c9-82de-dfdd05f9ec0e\" target=\"_top\" title=\"psysml:945e81cf-a78a-43c9-82de-dfdd05f9ec0e\" xlink:actuate=\"onRequest\" xlink:href=\"psysml:945e81cf-a78a-43c9-82de-dfdd05f9ec0e\" xlink:show=\"new\" xlink:title=\"psysml:945e81cf-a78a-43c9-82de-dfdd05f9ec0e\" xlink:type=\"simple\"><rect fill=\"#FFFFFF\" height=\"45.9375\" id=\"E3\" rx=\"10\" ry=\"10\" style=\"stroke: #383838; stroke-width: 1.5;\" width=\"70\" x=\"115\" y=\"41\"/><text fill=\"#000000\" font-family=\"sans-serif\" font-size=\"12\" font-style=\"italic\" lengthAdjust=\"spacingAndGlyphs\" textLength=\"40\" x=\"130\" y=\"57.1387\">«part»</text><text fill=\"#000000\" font-family=\"sans-serif\" font-size=\"12\" lengthAdjust=\"spacingAndGlyphs\" textLength=\"64\" x=\"118\" y=\"71.1074\">Aeroplane</text><line style=\"stroke: #383838; stroke-width: 1.5;\" x1=\"116\" x2=\"184\" y1=\"78.9375\" y2=\"78.9375\"/></a><!--MD5=[ebbe1d658d1005bcc118a6aa81145e00]\n",
       "class E4--><a href=\"psysml:61d2b43c-5f31-4b85-8853-b941d0675f03\" target=\"_top\" title=\"psysml:61d2b43c-5f31-4b85-8853-b941d0675f03\" xlink:actuate=\"onRequest\" xlink:href=\"psysml:61d2b43c-5f31-4b85-8853-b941d0675f03\" xlink:show=\"new\" xlink:title=\"psysml:61d2b43c-5f31-4b85-8853-b941d0675f03\" xlink:type=\"simple\"><rect fill=\"#FFFFFF\" height=\"45.9375\" id=\"E4\" rx=\"10\" ry=\"10\" style=\"stroke: #383838; stroke-width: 1.5;\" width=\"48\" x=\"32\" y=\"41\"/><text fill=\"#000000\" font-family=\"sans-serif\" font-size=\"12\" font-style=\"italic\" lengthAdjust=\"spacingAndGlyphs\" textLength=\"40\" x=\"36\" y=\"57.1387\">«part»</text><text fill=\"#000000\" font-family=\"sans-serif\" font-size=\"12\" lengthAdjust=\"spacingAndGlyphs\" textLength=\"42\" x=\"35\" y=\"71.1074\">Bicycle</text><line style=\"stroke: #383838; stroke-width: 1.5;\" x1=\"33\" x2=\"79\" y1=\"78.9375\" y2=\"78.9375\"/></a><!--MD5=[270fce915f116d4de14055a7c1d9a0f3]\n",
       "class E5--><a href=\"psysml:b7c39c1e-312f-40cc-a8d5-7687f6e49c61\" target=\"_top\" title=\"psysml:b7c39c1e-312f-40cc-a8d5-7687f6e49c61\" xlink:actuate=\"onRequest\" xlink:href=\"psysml:b7c39c1e-312f-40cc-a8d5-7687f6e49c61\" xlink:show=\"new\" xlink:title=\"psysml:b7c39c1e-312f-40cc-a8d5-7687f6e49c61\" xlink:type=\"simple\"><rect fill=\"#FFFFFF\" height=\"45.9375\" id=\"E5\" rx=\"10\" ry=\"10\" style=\"stroke: #383838; stroke-width: 1.5;\" width=\"44\" x=\"32\" y=\"147\"/><text fill=\"#000000\" font-family=\"sans-serif\" font-size=\"12\" font-style=\"italic\" lengthAdjust=\"spacingAndGlyphs\" textLength=\"40\" x=\"34\" y=\"163.1387\">«part»</text><text fill=\"#000000\" font-family=\"sans-serif\" font-size=\"12\" lengthAdjust=\"spacingAndGlyphs\" textLength=\"38\" x=\"35\" y=\"177.1074\">Wheel</text><line style=\"stroke: #383838; stroke-width: 1.5;\" x1=\"33\" x2=\"75\" y1=\"184.9375\" y2=\"184.9375\"/></a><!--MD5=[60a26617385b1d2d0262a64233df1f8d]\n",
       "class E6--><a href=\"psysml:d8213dd2-cadc-4e6d-9490-f2b9aeab2cb3\" target=\"_top\" title=\"psysml:d8213dd2-cadc-4e6d-9490-f2b9aeab2cb3\" xlink:actuate=\"onRequest\" xlink:href=\"psysml:d8213dd2-cadc-4e6d-9490-f2b9aeab2cb3\" xlink:show=\"new\" xlink:title=\"psysml:d8213dd2-cadc-4e6d-9490-f2b9aeab2cb3\" xlink:type=\"simple\"><rect fill=\"#FFFFFF\" height=\"45.9375\" id=\"E6\" rx=\"10\" ry=\"10\" style=\"stroke: #383838; stroke-width: 1.5;\" width=\"42\" x=\"32\" y=\"253\"/><text fill=\"#000000\" font-family=\"sans-serif\" font-size=\"12\" font-style=\"italic\" lengthAdjust=\"spacingAndGlyphs\" textLength=\"40\" x=\"33\" y=\"269.1387\">«part»</text><text fill=\"#000000\" font-family=\"sans-serif\" font-size=\"12\" lengthAdjust=\"spacingAndGlyphs\" textLength=\"25\" x=\"40.5\" y=\"283.1074\">Hub</text><line style=\"stroke: #383838; stroke-width: 1.5;\" x1=\"33\" x2=\"73\" y1=\"290.9375\" y2=\"290.9375\"/></a><!--MD5=[2156ba9850f5573cc1fc38a6a4b2f02b]\n",
       "class E7--><a href=\"psysml:24fe8ff3-a108-4132-b9b8-d5b056489f3f\" target=\"_top\" title=\"psysml:24fe8ff3-a108-4132-b9b8-d5b056489f3f\" xlink:actuate=\"onRequest\" xlink:href=\"psysml:24fe8ff3-a108-4132-b9b8-d5b056489f3f\" xlink:show=\"new\" xlink:title=\"psysml:24fe8ff3-a108-4132-b9b8-d5b056489f3f\" xlink:type=\"simple\"><rect fill=\"#FFFFFF\" height=\"45.9375\" id=\"E7\" rx=\"10\" ry=\"10\" style=\"stroke: #383838; stroke-width: 1.5;\" width=\"42\" x=\"109\" y=\"253\"/><text fill=\"#000000\" font-family=\"sans-serif\" font-size=\"12\" font-style=\"italic\" lengthAdjust=\"spacingAndGlyphs\" textLength=\"40\" x=\"110\" y=\"269.1387\">«part»</text><text fill=\"#000000\" font-family=\"sans-serif\" font-size=\"12\" lengthAdjust=\"spacingAndGlyphs\" textLength=\"23\" x=\"118.5\" y=\"283.1074\">Tire</text><line style=\"stroke: #383838; stroke-width: 1.5;\" x1=\"110\" x2=\"150\" y1=\"290.9375\" y2=\"290.9375\"/></a><!--MD5=[b9389687b975829384b498ac4b7476b2]\n",
       "class E8--><a href=\"psysml:502af2ab-0007-4317-9c39-7b77c6bb4d8c\" target=\"_top\" title=\"psysml:502af2ab-0007-4317-9c39-7b77c6bb4d8c\" xlink:actuate=\"onRequest\" xlink:href=\"psysml:502af2ab-0007-4317-9c39-7b77c6bb4d8c\" xlink:show=\"new\" xlink:title=\"psysml:502af2ab-0007-4317-9c39-7b77c6bb4d8c\" xlink:type=\"simple\"><rect fill=\"#FFFFFF\" height=\"45.9375\" id=\"E8\" rx=\"10\" ry=\"10\" style=\"stroke: #383838; stroke-width: 1.5;\" width=\"42\" x=\"111\" y=\"147\"/><text fill=\"#000000\" font-family=\"sans-serif\" font-size=\"12\" font-style=\"italic\" lengthAdjust=\"spacingAndGlyphs\" textLength=\"40\" x=\"112\" y=\"163.1387\">«part»</text><text fill=\"#000000\" font-family=\"sans-serif\" font-size=\"12\" lengthAdjust=\"spacingAndGlyphs\" textLength=\"29\" x=\"117.5\" y=\"177.1074\">Seat</text><line style=\"stroke: #383838; stroke-width: 1.5;\" x1=\"112\" x2=\"152\" y1=\"184.9375\" y2=\"184.9375\"/></a><!--MD5=[fd4143e9d270a159db93a4ea2a975926]\n",
       "class E9--><a href=\"psysml:74c4d838-5008-48f5-9aed-e8174ac66d7c\" target=\"_top\" title=\"psysml:74c4d838-5008-48f5-9aed-e8174ac66d7c\" xlink:actuate=\"onRequest\" xlink:href=\"psysml:74c4d838-5008-48f5-9aed-e8174ac66d7c\" xlink:show=\"new\" xlink:title=\"psysml:74c4d838-5008-48f5-9aed-e8174ac66d7c\" xlink:type=\"simple\"><rect fill=\"#FFFFFF\" height=\"45.9375\" id=\"E9\" rx=\"10\" ry=\"10\" style=\"stroke: #383838; stroke-width: 1.5;\" width=\"45\" x=\"188.5\" y=\"147\"/><text fill=\"#000000\" font-family=\"sans-serif\" font-size=\"12\" font-style=\"italic\" lengthAdjust=\"spacingAndGlyphs\" textLength=\"40\" x=\"191\" y=\"163.1387\">«part»</text><text fill=\"#000000\" font-family=\"sans-serif\" font-size=\"12\" lengthAdjust=\"spacingAndGlyphs\" textLength=\"39\" x=\"191.5\" y=\"177.1074\">Frame</text><line style=\"stroke: #383838; stroke-width: 1.5;\" x1=\"189.5\" x2=\"232.5\" y1=\"184.9375\" y2=\"184.9375\"/></a><!--MD5=[62aa6af11e70f752912c1cb0466f24f7]\n",
       "reverse link E4 to E5--><a href=\"psysml:58d6870d-c7cc-4719-8087-f69490795ba1\" target=\"_top\" title=\"psysml:58d6870d-c7cc-4719-8087-f69490795ba1\" xlink:actuate=\"onRequest\" xlink:href=\"psysml:58d6870d-c7cc-4719-8087-f69490795ba1\" xlink:show=\"new\" xlink:title=\"psysml:58d6870d-c7cc-4719-8087-f69490795ba1\" xlink:type=\"simple\"><path d=\"M55.32,100.44 C55.02,115.87 54.68,133.47 54.42,146.98 \" fill=\"none\" id=\"E4&lt;-E5\" style=\"stroke: #383838; stroke-width: 1.0;\"/><polygon fill=\"#383838\" points=\"55.58,87.06,51.4685,92.9842,55.3556,99.0579,59.4671,93.1337,55.58,87.06\" style=\"stroke: #383838; stroke-width: 1.0;\"/></a><!--MD5=[85d356282659285ab4b2cfe2f634dd2b]\n",
       "reverse link E5 to E6--><a href=\"psysml:56dd8b83-4fae-4313-b60e-98940c57c906\" target=\"_top\" title=\"psysml:56dd8b83-4fae-4313-b60e-98940c57c906\" xlink:actuate=\"onRequest\" xlink:href=\"psysml:56dd8b83-4fae-4313-b60e-98940c57c906\" xlink:show=\"new\" xlink:title=\"psysml:56dd8b83-4fae-4313-b60e-98940c57c906\" xlink:type=\"simple\"><path d=\"M53.66,206.44 C53.51,221.87 53.34,239.47 53.21,252.98 \" fill=\"none\" id=\"E5&lt;-E6\" style=\"stroke: #383838; stroke-width: 1.0;\"/><polygon fill=\"#383838\" points=\"53.79,193.06,49.7309,199.0201,53.6713,205.0594,57.7305,199.0993,53.79,193.06\" style=\"stroke: #383838; stroke-width: 1.0;\"/></a><!--MD5=[452b418e7f8a40397a49b8c0a78acc5b]\n",
       "reverse link E5 to E7--><a href=\"psysml:455ed231-d678-4510-a714-f6929e031d63\" target=\"_top\" title=\"psysml:455ed231-d678-4510-a714-f6929e031d63\" xlink:actuate=\"onRequest\" xlink:href=\"psysml:455ed231-d678-4510-a714-f6929e031d63\" xlink:show=\"new\" xlink:title=\"psysml:455ed231-d678-4510-a714-f6929e031d63\" xlink:type=\"simple\"><path d=\"M77.84,203.63 C89.59,219.7 103.43,238.64 113.91,252.98 \" fill=\"none\" id=\"E5&lt;-E7\" style=\"stroke: #383838; stroke-width: 1.0;\"/><polygon fill=\"#383838\" points=\"70.12,193.06,70.4298,200.2644,77.1992,202.7494,76.8894,195.545,70.12,193.06\" style=\"stroke: #383838; stroke-width: 1.0;\"/></a><!--MD5=[c6fc7cdb0cabde04948078cf183fa696]\n",
       "reverse link E4 to E8--><a href=\"psysml:29ba8b56-01da-45f0-a59e-880915455c53\" target=\"_top\" title=\"psysml:29ba8b56-01da-45f0-a59e-880915455c53\" xlink:actuate=\"onRequest\" xlink:href=\"psysml:29ba8b56-01da-45f0-a59e-880915455c53\" xlink:show=\"new\" xlink:title=\"psysml:29ba8b56-01da-45f0-a59e-880915455c53\" xlink:type=\"simple\"><path d=\"M79.84,97.63 C91.59,113.7 105.43,132.64 115.91,146.98 \" fill=\"none\" id=\"E4&lt;-E8\" style=\"stroke: #383838; stroke-width: 1.0;\"/><polygon fill=\"#383838\" points=\"72.12,87.06,72.4298,94.2644,79.1992,96.7494,78.8894,89.545,72.12,87.06\" style=\"stroke: #383838; stroke-width: 1.0;\"/></a><!--MD5=[e7ea4bd30698dc91ca0c06b9d8e4f891]\n",
       "reverse link E4 to E9--><a href=\"psysml:2daea197-53e6-433c-b22a-f969185583b3\" target=\"_top\" title=\"psysml:2daea197-53e6-433c-b22a-f969185583b3\" xlink:actuate=\"onRequest\" xlink:href=\"psysml:2daea197-53e6-433c-b22a-f969185583b3\" xlink:show=\"new\" xlink:title=\"psysml:2daea197-53e6-433c-b22a-f969185583b3\" xlink:type=\"simple\"><path d=\"M91.4,88.75 C121.23,108.76 163,136.79 188.46,153.88 \" fill=\"none\" id=\"E4&lt;-E9\" style=\"stroke: #383838; stroke-width: 1.0;\"/><polygon fill=\"#383838\" points=\"80.22,81.25,82.9752,87.914,90.1863,87.9338,87.4311,81.2698,80.22,81.25\" style=\"stroke: #383838; stroke-width: 1.0;\"/></a><!--MD5=[f316f831cfc05519b7c7df922da16f4d]\n",
       "@startuml\r\n",
       "skinparam monochrome true\r\n",
       "skinparam classbackgroundcolor white\r\n",
       "skinparam shadowing false\r\n",
       "skinparam wrapWidth 300\r\n",
       "hide circle\r\n",
       "\r\n",
       "package \"ModelExample_A\" as E1  [[psysml:c1c6ce2f-62e2-419d-ab80-13986dd41f69 ]]  {\r\n",
       "comp usage \"Automobile\" as E2  <<(T,blue)part>> [[psysml:c4daadb3-4d28-4eb5-b3bf-b6593cd21d54 ]] {\r\n",
       "}\r\n",
       "comp usage \"Aeroplane\" as E3  <<(T,blue)part>> [[psysml:945e81cf-a78a-43c9-82de-dfdd05f9ec0e ]] {\r\n",
       "}\r\n",
       "comp usage \"Bicycle\" as E4  <<(T,blue)part>> [[psysml:61d2b43c-5f31-4b85-8853-b941d0675f03 ]] {\r\n",
       "}\r\n",
       "comp usage \"Wheel\" as E5  <<(T,blue)part>> [[psysml:b7c39c1e-312f-40cc-a8d5-7687f6e49c61 ]] {\r\n",
       "}\r\n",
       "comp usage \"Hub\" as E6  <<(T,blue)part>> [[psysml:d8213dd2-cadc-4e6d-9490-f2b9aeab2cb3 ]] {\r\n",
       "}\r\n",
       "comp usage \"Tire\" as E7  <<(T,blue)part>> [[psysml:24fe8ff3-a108-4132-b9b8-d5b056489f3f ]] {\r\n",
       "}\r\n",
       "comp usage \"Seat\" as E8  <<(T,blue)part>> [[psysml:502af2ab-0007-4317-9c39-7b77c6bb4d8c ]] {\r\n",
       "}\r\n",
       "comp usage \"Frame\" as E9  <<(T,blue)part>> [[psysml:74c4d838-5008-48f5-9aed-e8174ac66d7c ]] {\r\n",
       "}\r\n",
       "E4 *- - E5 [[psysml:58d6870d-c7cc-4719-8087-f69490795ba1 ]] \r\n",
       "E5 *- - E6 [[psysml:56dd8b83-4fae-4313-b60e-98940c57c906 ]] \r\n",
       "E5 *- - E7 [[psysml:455ed231-d678-4510-a714-f6929e031d63 ]] \r\n",
       "E4 *- - E8 [[psysml:29ba8b56-01da-45f0-a59e-880915455c53 ]] \r\n",
       "E4 *- - E9 [[psysml:2daea197-53e6-433c-b22a-f969185583b3 ]] \r\n",
       "}\r\n",
       "@enduml\r\n",
       "\n",
       "PlantUML version 1.2020.13(Sat Jun 13 12:26:38 UTC 2020)\n",
       "(EPL source distribution)\n",
       "Java Runtime: OpenJDK Runtime Environment\n",
       "JVM: OpenJDK 64-Bit Server VM\n",
       "Default Encoding: UTF-8\n",
       "Language: en\n",
       "Country: null\n",
       "--></g></svg>"
      ]
     },
     "execution_count": 15,
     "metadata": {},
     "output_type": "execute_result"
    }
   ],
   "source": [
    "%viz ModelExample_A"
   ]
  },
  {
   "cell_type": "code",
   "execution_count": null,
   "id": "0133baf9-c37e-4799-b54c-a3727ffbe370",
   "metadata": {},
   "outputs": [],
   "source": []
  }
 ],
 "metadata": {
  "kernelspec": {
   "display_name": "SysML",
   "language": "sysml",
   "name": "sysml"
  },
  "language_info": {
   "codemirror_mode": "sysml",
   "file_extension": ".sysml",
   "mimetype": "text/x-sysml",
   "name": "SysML",
   "pygments_lexer": "java",
   "version": "1.0.0"
  }
 },
 "nbformat": 4,
 "nbformat_minor": 5
}
