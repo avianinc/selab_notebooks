{
 "cells": [
  {
   "cell_type": "markdown",
   "id": "nutritional-hamilton",
   "metadata": {
    "kernel": "SoS"
   },
   "source": [
    "# Working with sysmlv2 models and the API\n",
    "\n",
    "## This is a notebook walks through a SysMLv2 create, publish, and interogate cycle when using the API <br> (partially based on the pyMBE kerbal example)"
   ]
  },
  {
   "cell_type": "markdown",
   "id": "016a1d62-3ce5-4749-9dcd-98046cd92119",
   "metadata": {
    "kernel": "SoS"
   },
   "source": [
    "## 1 - Lets make a simple sysmlv2 model and view the model diagram"
   ]
  },
  {
   "cell_type": "code",
   "execution_count": null,
   "id": "d2ec9614-34e5-424a-91b8-93f170b9c11a",
   "metadata": {
    "kernel": "SysML",
    "tags": []
   },
   "outputs": [
    {
     "data": {
      "text/plain": [
       "Package jdehart_api_demo (2b0e6b85-7c4c-4a7c-9d92-1e7dd9d451e8)\n"
      ]
     },
     "execution_count": 2,
     "metadata": {},
     "output_type": "execute_result"
    }
   ],
   "source": [
    "package jdehart_api_demo {\n",
    "    import ScalarValues::*;\n",
    "    \n",
    "    part A {\n",
    "        attribute mass : Real = 30;\n",
    "    }\n",
    "    package internal {\n",
    "        part B {\n",
    "            part C;\n",
    "            part D;\n",
    "    }\n",
    "    }\n",
    "    \n",
    "}"
   ]
  },
  {
   "cell_type": "code",
   "execution_count": 2,
   "id": "ef8e46a9-875a-4735-b1ac-1ed67a2f3171",
   "metadata": {
    "kernel": "SysML",
    "tags": []
   },
   "outputs": [
    {
     "data": {
      "image/svg+xml": [
       "<?xml version=\"1.0\" encoding=\"UTF-8\" standalone=\"no\"?><svg xmlns=\"http://www.w3.org/2000/svg\" xmlns:xlink=\"http://www.w3.org/1999/xlink\" contentScriptType=\"application/ecmascript\" contentStyleType=\"text/css\" height=\"303px\" preserveAspectRatio=\"none\" style=\"width:349px;height:303px;\" version=\"1.1\" viewBox=\"0 0 349 303\" width=\"349px\" zoomAndPan=\"magnify\"><defs/><g><!--MD5=[fbc87193dbaf4d95561dea2c320d4a47]\n",
       "cluster E1--><a href=\"psysml:16dfb53e-46f9-4d53-8ca6-93c0d64f2e06\" target=\"_top\" title=\"psysml:16dfb53e-46f9-4d53-8ca6-93c0d64f2e06\" xlink:actuate=\"onRequest\" xlink:href=\"psysml:16dfb53e-46f9-4d53-8ca6-93c0d64f2e06\" xlink:show=\"new\" xlink:title=\"psysml:16dfb53e-46f9-4d53-8ca6-93c0d64f2e06\" xlink:type=\"simple\"><polygon fill=\"#FFFFFF\" points=\"16,6,159,6,166,28.2969,327,28.2969,327,291,16,291,16,6\" style=\"stroke: #000000; stroke-width: 1.5;\"/><line style=\"stroke: #000000; stroke-width: 1.5;\" x1=\"16\" x2=\"166\" y1=\"28.2969\" y2=\"28.2969\"/><text fill=\"#000000\" font-family=\"sans-serif\" font-size=\"14\" font-weight=\"bold\" lengthAdjust=\"spacingAndGlyphs\" textLength=\"137\" x=\"20\" y=\"20.9951\">jdehart_api_demo</text></a><!--MD5=[d5e69f78d87373223dbae638b30a9c99]\n",
       "cluster E3--><a href=\"psysml:355824e6-293b-49ab-8f87-075ab5b27854\" target=\"_top\" title=\"psysml:355824e6-293b-49ab-8f87-075ab5b27854\" xlink:actuate=\"onRequest\" xlink:href=\"psysml:355824e6-293b-49ab-8f87-075ab5b27854\" xlink:show=\"new\" xlink:title=\"psysml:355824e6-293b-49ab-8f87-075ab5b27854\" xlink:type=\"simple\"><polygon fill=\"#FFFFFF\" points=\"152,49,218,49,225,71.2969,303,71.2969,303,267,152,267,152,49\" style=\"stroke: #000000; stroke-width: 1.5;\"/><line style=\"stroke: #000000; stroke-width: 1.5;\" x1=\"152\" x2=\"225\" y1=\"71.2969\" y2=\"71.2969\"/><text fill=\"#000000\" font-family=\"sans-serif\" font-size=\"14\" font-weight=\"bold\" lengthAdjust=\"spacingAndGlyphs\" textLength=\"60\" x=\"156\" y=\"63.9951\">internal</text></a><!--MD5=[b4997ac47864f28c2f74865a473b2911]\n",
       "class E2--><a href=\"psysml:19f8da27-c390-4a12-b94e-f5679f9c69aa\" target=\"_top\" title=\"psysml:19f8da27-c390-4a12-b94e-f5679f9c69aa\" xlink:actuate=\"onRequest\" xlink:href=\"psysml:19f8da27-c390-4a12-b94e-f5679f9c69aa\" xlink:show=\"new\" xlink:title=\"psysml:19f8da27-c390-4a12-b94e-f5679f9c69aa\" xlink:type=\"simple\"><rect fill=\"#FFFFFF\" height=\"75.5469\" id=\"E2\" rx=\"10\" ry=\"10\" style=\"stroke: #383838; stroke-width: 1.5;\" width=\"103\" x=\"32.5\" y=\"69\"/><text fill=\"#000000\" font-family=\"sans-serif\" font-size=\"12\" font-style=\"italic\" lengthAdjust=\"spacingAndGlyphs\" textLength=\"40\" x=\"64\" y=\"85.1387\">«part»</text><text fill=\"#000000\" font-family=\"sans-serif\" font-size=\"12\" lengthAdjust=\"spacingAndGlyphs\" textLength=\"8\" x=\"80\" y=\"99.1074\">A</text><line style=\"stroke: #383838; stroke-width: 1.5;\" x1=\"33.5\" x2=\"134.5\" y1=\"106.9375\" y2=\"106.9375\"/><text fill=\"#000000\" font-family=\"sans-serif\" font-size=\"11\" lengthAdjust=\"spacingAndGlyphs\" textLength=\"91\" x=\"38.5\" y=\"137.9526\">mass: Real=30;</text><line style=\"stroke: #383838; stroke-width: 1.0;\" x1=\"33.5\" x2=\"56.5\" y1=\"121.3398\" y2=\"121.3398\"/><text fill=\"#000000\" font-family=\"sans-serif\" font-size=\"11\" lengthAdjust=\"spacingAndGlyphs\" textLength=\"55\" x=\"56.5\" y=\"124.6479\">attributes</text><line style=\"stroke: #383838; stroke-width: 1.0;\" x1=\"111.5\" x2=\"134.5\" y1=\"121.3398\" y2=\"121.3398\"/></a><!--MD5=[ebbe1d658d1005bcc118a6aa81145e00]\n",
       "class E4--><a href=\"psysml:cd7415a5-8eb7-4e62-91e6-bd83435c1bf5\" target=\"_top\" title=\"psysml:cd7415a5-8eb7-4e62-91e6-bd83435c1bf5\" xlink:actuate=\"onRequest\" xlink:href=\"psysml:cd7415a5-8eb7-4e62-91e6-bd83435c1bf5\" xlink:show=\"new\" xlink:title=\"psysml:cd7415a5-8eb7-4e62-91e6-bd83435c1bf5\" xlink:type=\"simple\"><rect fill=\"#FFFFFF\" height=\"45.9375\" id=\"E4\" rx=\"10\" ry=\"10\" style=\"stroke: #383838; stroke-width: 1.5;\" width=\"42\" x=\"208\" y=\"84\"/><text fill=\"#000000\" font-family=\"sans-serif\" font-size=\"12\" font-style=\"italic\" lengthAdjust=\"spacingAndGlyphs\" textLength=\"40\" x=\"209\" y=\"100.1387\">«part»</text><text fill=\"#000000\" font-family=\"sans-serif\" font-size=\"12\" lengthAdjust=\"spacingAndGlyphs\" textLength=\"8\" x=\"225\" y=\"114.1074\">B</text><line style=\"stroke: #383838; stroke-width: 1.5;\" x1=\"209\" x2=\"249\" y1=\"121.9375\" y2=\"121.9375\"/></a><!--MD5=[270fce915f116d4de14055a7c1d9a0f3]\n",
       "class E5--><a href=\"psysml:52c6af13-619d-4de2-bd9e-2227a6c62271\" target=\"_top\" title=\"psysml:52c6af13-619d-4de2-bd9e-2227a6c62271\" xlink:actuate=\"onRequest\" xlink:href=\"psysml:52c6af13-619d-4de2-bd9e-2227a6c62271\" xlink:show=\"new\" xlink:title=\"psysml:52c6af13-619d-4de2-bd9e-2227a6c62271\" xlink:type=\"simple\"><rect fill=\"#FFFFFF\" height=\"45.9375\" id=\"E5\" rx=\"10\" ry=\"10\" style=\"stroke: #383838; stroke-width: 1.5;\" width=\"42\" x=\"168\" y=\"205\"/><text fill=\"#000000\" font-family=\"sans-serif\" font-size=\"12\" font-style=\"italic\" lengthAdjust=\"spacingAndGlyphs\" textLength=\"40\" x=\"169\" y=\"221.1387\">«part»</text><text fill=\"#000000\" font-family=\"sans-serif\" font-size=\"12\" lengthAdjust=\"spacingAndGlyphs\" textLength=\"8\" x=\"185\" y=\"235.1074\">C</text><line style=\"stroke: #383838; stroke-width: 1.5;\" x1=\"169\" x2=\"209\" y1=\"242.9375\" y2=\"242.9375\"/></a><!--MD5=[60a26617385b1d2d0262a64233df1f8d]\n",
       "class E6--><a href=\"psysml:68b89778-a0e0-439a-b439-adf94f5a8b6d\" target=\"_top\" title=\"psysml:68b89778-a0e0-439a-b439-adf94f5a8b6d\" xlink:actuate=\"onRequest\" xlink:href=\"psysml:68b89778-a0e0-439a-b439-adf94f5a8b6d\" xlink:show=\"new\" xlink:title=\"psysml:68b89778-a0e0-439a-b439-adf94f5a8b6d\" xlink:type=\"simple\"><rect fill=\"#FFFFFF\" height=\"45.9375\" id=\"E6\" rx=\"10\" ry=\"10\" style=\"stroke: #383838; stroke-width: 1.5;\" width=\"42\" x=\"245\" y=\"205\"/><text fill=\"#000000\" font-family=\"sans-serif\" font-size=\"12\" font-style=\"italic\" lengthAdjust=\"spacingAndGlyphs\" textLength=\"40\" x=\"246\" y=\"221.1387\">«part»</text><text fill=\"#000000\" font-family=\"sans-serif\" font-size=\"12\" lengthAdjust=\"spacingAndGlyphs\" textLength=\"9\" x=\"261.5\" y=\"235.1074\">D</text><line style=\"stroke: #383838; stroke-width: 1.5;\" x1=\"246\" x2=\"286\" y1=\"242.9375\" y2=\"242.9375\"/></a><!--MD5=[62aa6af11e70f752912c1cb0466f24f7]\n",
       "reverse link E4 to E5--><a href=\"psysml:aa4889c9-ea7a-40f2-9e9a-ef7d34c00500\" target=\"_top\" title=\"psysml:aa4889c9-ea7a-40f2-9e9a-ef7d34c00500\" xlink:actuate=\"onRequest\" xlink:href=\"psysml:aa4889c9-ea7a-40f2-9e9a-ef7d34c00500\" xlink:show=\"new\" xlink:title=\"psysml:aa4889c9-ea7a-40f2-9e9a-ef7d34c00500\" xlink:type=\"simple\"><path d=\"M217.41,142.47 C210.69,162.48 202.41,187.11 196.53,204.61 \" fill=\"none\" id=\"E4&lt;-E5\" style=\"stroke: #383838; stroke-width: 1.0;\"/><polygon fill=\"#383838\" points=\"221.57,130.1,215.8656,134.5113,217.7436,141.4736,223.448,137.0623,221.57,130.1\" style=\"stroke: #383838; stroke-width: 1.0;\"/></a><!--MD5=[6db378b65e1aef66a01cb3103812b399]\n",
       "reverse link E4 to E6--><a href=\"psysml:59da3aad-f6ab-445f-8102-3c34151276fc\" target=\"_top\" title=\"psysml:59da3aad-f6ab-445f-8102-3c34151276fc\" xlink:actuate=\"onRequest\" xlink:href=\"psysml:59da3aad-f6ab-445f-8102-3c34151276fc\" xlink:show=\"new\" xlink:title=\"psysml:59da3aad-f6ab-445f-8102-3c34151276fc\" xlink:type=\"simple\"><path d=\"M239.81,142.75 C246.01,162.71 253.62,187.19 259.04,204.61 \" fill=\"none\" id=\"E4&lt;-E6\" style=\"stroke: #383838; stroke-width: 1.0;\"/><polygon fill=\"#383838\" points=\"235.87,130.1,233.8304,137.0166,239.4305,141.5596,241.4701,134.643,235.87,130.1\" style=\"stroke: #383838; stroke-width: 1.0;\"/></a><!--MD5=[0d245b2f6024ccb05832decad11351dd]\n",
       "@startuml\r\n",
       "skinparam monochrome true\r\n",
       "skinparam classbackgroundcolor white\r\n",
       "skinparam shadowing false\r\n",
       "skinparam wrapWidth 300\r\n",
       "hide circle\r\n",
       "\r\n",
       "package \"jdehart_api_demo\" as E1  [[psysml:16dfb53e-46f9-4d53-8ca6-93c0d64f2e06 ]]  {\r\n",
       "comp usage \"A\" as E2  <<(T,blue)part>> [[psysml:19f8da27-c390-4a12-b94e-f5679f9c69aa ]] {\r\n",
       "- - attributes - -\r\n",
       "mass: Real=30; \r\n",
       "}\r\n",
       "package \"internal\" as E3  [[psysml:355824e6-293b-49ab-8f87-075ab5b27854 ]]  {\r\n",
       "comp usage \"B\" as E4  <<(T,blue)part>> [[psysml:cd7415a5-8eb7-4e62-91e6-bd83435c1bf5 ]] {\r\n",
       "}\r\n",
       "comp usage \"C\" as E5  <<(T,blue)part>> [[psysml:52c6af13-619d-4de2-bd9e-2227a6c62271 ]] {\r\n",
       "}\r\n",
       "comp usage \"D\" as E6  <<(T,blue)part>> [[psysml:68b89778-a0e0-439a-b439-adf94f5a8b6d ]] {\r\n",
       "}\r\n",
       "E4 *- - E5 [[psysml:aa4889c9-ea7a-40f2-9e9a-ef7d34c00500 ]] \r\n",
       "E4 *- - E6 [[psysml:59da3aad-f6ab-445f-8102-3c34151276fc ]] \r\n",
       "}\r\n",
       "}\r\n",
       "@enduml\r\n",
       "\n",
       "PlantUML version 1.2020.13(Sat Jun 13 12:26:38 UTC 2020)\n",
       "(EPL source distribution)\n",
       "Java Runtime: OpenJDK Runtime Environment\n",
       "JVM: OpenJDK 64-Bit Server VM\n",
       "Default Encoding: UTF-8\n",
       "Language: en\n",
       "Country: null\n",
       "--></g></svg>"
      ]
     },
     "execution_count": 2,
     "metadata": {},
     "output_type": "execute_result"
    }
   ],
   "source": [
    "%viz jdehart_api_demo"
   ]
  },
  {
   "cell_type": "markdown",
   "id": "6dce5e65-28d4-40ca-9e5f-3b38697ab407",
   "metadata": {
    "kernel": "SysML"
   },
   "source": [
    "## 2 - Now lets publish the model to the API"
   ]
  },
  {
   "cell_type": "code",
   "execution_count": 10,
   "id": "a266c756-c59a-48e3-8433-7298819509ed",
   "metadata": {
    "kernel": "SysML"
   },
   "outputs": [
    {
     "name": "stdout",
     "output_type": "stream",
     "text": [
      "API base path: http://sysml2.intercax.com:9000\n",
      "Processing\n",
      "Posting Commit (21 elements)...77963d2e-a79a-4032-b766-c1bea5ad6053\n",
      "\n"
     ]
    },
    {
     "data": {
      "text/plain": [
       "Saved to Project jdehart_api_demo Fri Jun 25 23:59:14 UTC 2021 (225af689-efed-4aaa-9a81-8cd8e0745f1b)\n"
      ]
     },
     "execution_count": 10,
     "metadata": {},
     "output_type": "execute_result"
    }
   ],
   "source": [
    "%publish jdehart_api_demo"
   ]
  },
  {
   "cell_type": "markdown",
   "id": "1299bcef-89b6-48d7-9ced-0b4329a70c00",
   "metadata": {
    "kernel": "SysML"
   },
   "source": [
    "## 3 - Now lets fetch a list of models from the API and create a dropdown box to select a particular model from (Dont look at this stuff... it messy for a slide)"
   ]
  },
  {
   "cell_type": "code",
   "execution_count": 3,
   "id": "recreational-commons",
   "metadata": {
    "kernel": "Python3",
    "tags": []
   },
   "outputs": [],
   "source": [
    "import requests\n",
    "import getpass\n",
    "import math\n",
    "\n",
    "from __future__ import print_function\n",
    "\n",
    "import time\n",
    "import sysml_v2_api_client\n",
    "from sysml_v2_api_client.rest import ApiException\n",
    "from pprint import pprint\n",
    "\n",
    "import json\n",
    "import networkx as NX\n",
    "import matplotlib.pyplot as plt\n",
    "\n",
    "import random\n",
    "import copy\n",
    "\n",
    "import pymbe.api as pm\n",
    "#from pymbe.model_loading import ModelingSession as Session\n",
    "#from pymbe.interpretation.interpretation import RandomGenerationStrategy as RGS"
   ]
  },
  {
   "cell_type": "code",
   "execution_count": 4,
   "id": "turkish-argument",
   "metadata": {
    "kernel": "Python3",
    "tags": []
   },
   "outputs": [],
   "source": [
    "import pymbe.query as pmQuery"
   ]
  },
  {
   "cell_type": "markdown",
   "id": "differential-south",
   "metadata": {
    "kernel": "SoS"
   },
   "source": [
    "## 4 - Configure API Server Connection"
   ]
  },
  {
   "cell_type": "code",
   "execution_count": 5,
   "id": "cognitive-vault",
   "metadata": {
    "kernel": "Python3",
    "tags": []
   },
   "outputs": [],
   "source": [
    "sysml_api_base_url = 'http://sysml2.intercax.com:9000' # http://sysml2-sst.intercax.com:9000"
   ]
  },
  {
   "cell_type": "markdown",
   "id": "unsigned-macintosh",
   "metadata": {
    "kernel": "SoS"
   },
   "source": [
    "Activate APIs - Connect the API classes to the server"
   ]
  },
  {
   "cell_type": "code",
   "execution_count": 6,
   "id": "theoretical-musical",
   "metadata": {
    "kernel": "Python3",
    "tags": []
   },
   "outputs": [],
   "source": [
    "configuration = sysml_v2_api_client.Configuration(\n",
    "    host = sysml_api_base_url\n",
    ")\n",
    "\n",
    "projects_api_instance = None\n",
    "\n",
    "with sysml_v2_api_client.ApiClient(configuration) as api_client:\n",
    "    # Create an instance of the API class\n",
    "    project_api_instance = sysml_v2_api_client.ProjectApi(api_client)\n",
    "    \n",
    "commits_api_instance = None\n",
    "\n",
    "with sysml_v2_api_client.ApiClient(configuration) as api_client:\n",
    "    # Create an instance of the API class\n",
    "    commits_api_instance = sysml_v2_api_client.CommitApi(api_client)\n",
    "    \n",
    "elements_api_instance = None\n",
    "\n",
    "with sysml_v2_api_client.ApiClient(configuration) as api_client:\n",
    "    # Create an instance of the API class\n",
    "    elements_api_instance = sysml_v2_api_client.ElementApi(api_client)"
   ]
  },
  {
   "cell_type": "markdown",
   "id": "criminal-calgary",
   "metadata": {
    "kernel": "SoS"
   },
   "source": [
    "Pull down commits and elements catalogs - With the API handles, use the pre-built methods to get lists of commits and elements."
   ]
  },
  {
   "cell_type": "code",
   "execution_count": 7,
   "id": "focal-bleeding",
   "metadata": {
    "kernel": "Python3",
    "tags": []
   },
   "outputs": [
    {
     "data": {
      "text/plain": [
       "<sysml_v2_api_client.api.project_api.ProjectApi at 0x7f7e9a087040>"
      ]
     },
     "execution_count": 7,
     "metadata": {},
     "output_type": "execute_result"
    }
   ],
   "source": [
    "project_api_instance"
   ]
  },
  {
   "cell_type": "markdown",
   "id": "b5b69215-d1dd-4942-bb5e-138581a309ec",
   "metadata": {
    "kernel": "SoS"
   },
   "source": [
    "## 5  Now get a list of my projects from the API server"
   ]
  },
  {
   "cell_type": "code",
   "execution_count": 8,
   "id": "similar-contents",
   "metadata": {
    "kernel": "Python3",
    "tags": []
   },
   "outputs": [
    {
     "data": {
      "text/plain": [
       "[{'description': None,\n",
       "  'id': '19a9b744-ef4d-4258-8a67-c95d159d67c3',\n",
       "  'name': 'jdehart_sdp Sun Jun 06 21:33:29 UTC 2021',\n",
       "  'type': 'Project'},\n",
       " {'description': None,\n",
       "  'id': '225af689-efed-4aaa-9a81-8cd8e0745f1b',\n",
       "  'name': 'jdehart_api_demo Fri Jun 25 23:59:14 UTC 2021',\n",
       "  'type': 'Project'},\n",
       " {'description': None,\n",
       "  'id': '44c2915f-3734-40d5-a9d7-4437d75ac082',\n",
       "  'name': 'jdehart_sdp_A Sun Jun 06 22:59:53 UTC 2021',\n",
       "  'type': 'Project'},\n",
       " {'description': None,\n",
       "  'id': '488b7990-0f19-4728-9c9b-39d96b686e2d',\n",
       "  'name': 'jdehart_ModelExample_A Fri Jun 04 11:12:17 UTC 2021',\n",
       "  'type': 'Project'},\n",
       " {'description': None,\n",
       "  'id': '85a0ddcb-2991-4cd1-afa0-91ce83825321',\n",
       "  'name': 'jdehart_api_demo Wed Jun 23 16:34:23 UTC 2021',\n",
       "  'type': 'Project'},\n",
       " {'description': None,\n",
       "  'id': '869506f2-b531-415e-9aca-afdfdbdb0f76',\n",
       "  'name': 'jdehart_sdp_A Tue Jun 08 00:29:22 UTC 2021',\n",
       "  'type': 'Project'},\n",
       " {'description': None,\n",
       "  'id': '8e5799d2-7624-445d-9199-0c70b214c141',\n",
       "  'name': 'jdehart_api_demo Wed Jun 23 16:36:13 UTC 2021',\n",
       "  'type': 'Project'},\n",
       " {'description': None,\n",
       "  'id': 'b7449449-3324-43f6-9400-7c3f594d3c44',\n",
       "  'name': 'jdehart_api_demo Wed Jun 23 16:12:12 UTC 2021',\n",
       "  'type': 'Project'},\n",
       " {'description': None,\n",
       "  'id': 'd700ba65-82c3-4927-9d15-1cf02122bd1d',\n",
       "  'name': 'jdehart_demo Tue Jun 22 16:24:27 UTC 2021',\n",
       "  'type': 'Project'},\n",
       " {'description': None,\n",
       "  'id': 'f27d0ead-e7dc-4917-aefd-d045a86c6f15',\n",
       "  'name': 'jdehart_partsModel Sun Jun 06 21:14:19 UTC 2021',\n",
       "  'type': 'Project'}]"
      ]
     },
     "execution_count": 8,
     "metadata": {},
     "output_type": "execute_result"
    }
   ],
   "source": [
    "q_string = \"jdehart\"\n",
    "my_projects = [my_proj for my_proj in project_api_instance.get_projects() if my_proj.name.find(q_string) > -1]\n",
    "my_projects"
   ]
  },
  {
   "cell_type": "markdown",
   "id": "74437244-4769-49b1-908c-267696ee06f3",
   "metadata": {
    "kernel": "Python3"
   },
   "source": [
    "## 6 - Create a dropdown box with my projects"
   ]
  },
  {
   "cell_type": "code",
   "execution_count": 9,
   "id": "b184aa4a-e47d-4707-a9f6-3afa1995979c",
   "metadata": {
    "kernel": "Python3",
    "tags": []
   },
   "outputs": [
    {
     "data": {
      "text/plain": [
       "['jdehart_sdp Sun Jun 06 21:33:29 UTC 2021',\n",
       " 'jdehart_api_demo Fri Jun 25 23:59:14 UTC 2021',\n",
       " 'jdehart_sdp_A Sun Jun 06 22:59:53 UTC 2021',\n",
       " 'jdehart_ModelExample_A Fri Jun 04 11:12:17 UTC 2021',\n",
       " 'jdehart_api_demo Wed Jun 23 16:34:23 UTC 2021',\n",
       " 'jdehart_sdp_A Tue Jun 08 00:29:22 UTC 2021',\n",
       " 'jdehart_api_demo Wed Jun 23 16:36:13 UTC 2021',\n",
       " 'jdehart_api_demo Wed Jun 23 16:12:12 UTC 2021',\n",
       " 'jdehart_demo Tue Jun 22 16:24:27 UTC 2021',\n",
       " 'jdehart_partsModel Sun Jun 06 21:14:19 UTC 2021']"
      ]
     },
     "execution_count": 9,
     "metadata": {},
     "output_type": "execute_result"
    }
   ],
   "source": [
    "# get the project names into a list\n",
    "model_names = []\n",
    "for key, value in enumerate(my_projects):\n",
    "    model_names.append(my_projects[key].name)\n",
    "model_names"
   ]
  },
  {
   "cell_type": "code",
   "execution_count": 10,
   "id": "512cdfb1-5887-47f7-a4b7-fc51a8acb6c0",
   "metadata": {
    "kernel": "Python3",
    "tags": []
   },
   "outputs": [
    {
     "data": {
      "application/vnd.jupyter.widget-view+json": {
       "model_id": "bfc05d87d17143319a1128ecb353789e",
       "version_major": 2,
       "version_minor": 0
      },
      "text/plain": [
       "Dropdown(description='Select Project:', options=('jdehart_sdp Sun Jun 06 21:33:29 UTC 2021', 'jdehart_api_demo…"
      ]
     },
     "metadata": {},
     "output_type": "display_data"
    }
   ],
   "source": [
    "# create the dropdown box and populate with my project names\n",
    "from IPython.display import display\n",
    "from ipywidgets import Dropdown\n",
    "\n",
    "def dropdown_eventhandler(change):\n",
    "    global model_id\n",
    "    model_id = change.new\n",
    "\n",
    "option_list = model_names\n",
    "dropdown = Dropdown(description=\"Select Project:\", options=option_list)\n",
    "dropdown.observe(dropdown_eventhandler, names='index')\n",
    "display(dropdown)\n",
    "### pick the api dem @16:36"
   ]
  },
  {
   "cell_type": "code",
   "execution_count": 12,
   "id": "alone-uncle",
   "metadata": {
    "kernel": "Python3",
    "tags": []
   },
   "outputs": [
    {
     "name": "stdout",
     "output_type": "stream",
     "text": [
      "[{'change': None,\n",
      " 'id': 'd2ce8b99-d9fe-461c-bd15-e544b944bc4f',\n",
      " 'owning_project': {'id': '8e5799d2-7624-445d-9199-0c70b214c141'},\n",
      " 'previous_commit': None,\n",
      " 'type': 'Commit'}]\n"
     ]
    }
   ],
   "source": [
    "# get the last commit\n",
    "try:\n",
    "    # Get commits by project\n",
    "    commits_response = commits_api_instance.get_commits_by_project(my_projects[model_id].id)\n",
    "    pprint(commits_response)\n",
    "except ApiException as e:\n",
    "    print(\"Exception when calling CommitApi->get_commits_by_project: %s\\n\" % e)"
   ]
  },
  {
   "cell_type": "code",
   "execution_count": 13,
   "id": "boolean-winner",
   "metadata": {
    "kernel": "Python3",
    "tags": []
   },
   "outputs": [],
   "source": [
    "# get a list of elements\n",
    "elements = []\n",
    "try:\n",
    "    # Get commits by project\n",
    "    elements = elements_api_instance.get_elements_by_project_commit(my_projects[model_id].id, commits_response[0].id)\n",
    "except ApiException as e:\n",
    "    print(\"Exception when calling ElementApi->get_elements_by_project_commit: %s\\n\" % e)"
   ]
  },
  {
   "cell_type": "code",
   "execution_count": 14,
   "id": "instructional-forth",
   "metadata": {
    "kernel": "Python3",
    "tags": []
   },
   "outputs": [
    {
     "data": {
      "text/plain": [
       "21"
      ]
     },
     "execution_count": 14,
     "metadata": {},
     "output_type": "execute_result"
    }
   ],
   "source": [
    "len(elements)"
   ]
  },
  {
   "cell_type": "code",
   "execution_count": 15,
   "id": "increasing-cathedral",
   "metadata": {
    "kernel": "Python3",
    "tags": []
   },
   "outputs": [
    {
     "name": "stdout",
     "output_type": "stream",
     "text": [
      "[{'id': '0972c835-c8b4-4fc2-a64d-c6700511a6eb',\n",
      " 'identifier': '0972c835-c8b4-4fc2-a64d-c6700511a6eb',\n",
      " 'type': 'PartUsage'},\n",
      " {'id': '1425b2b9-cca1-41ca-857d-0558bc66c421',\n",
      " 'identifier': '1425b2b9-cca1-41ca-857d-0558bc66c421',\n",
      " 'type': 'Feature'},\n",
      " {'id': '1d01d2fe-095c-43ea-9b32-fae5a0551e0a',\n",
      " 'identifier': '1d01d2fe-095c-43ea-9b32-fae5a0551e0a',\n",
      " 'type': 'Membership'},\n",
      " {'id': '21168e8b-0998-452f-a61e-0979004c9b91',\n",
      " 'identifier': '21168e8b-0998-452f-a61e-0979004c9b91',\n",
      " 'type': 'ReturnParameterMembership'},\n",
      " {'id': '2308265e-ab4f-45a3-96e0-7efa7c913fb7',\n",
      " 'identifier': '2308265e-ab4f-45a3-96e0-7efa7c913fb7',\n",
      " 'type': 'FeatureTyping'},\n",
      " {'id': '4bb80cc0-6319-4365-bb72-37bf875140b4',\n",
      " 'identifier': '4bb80cc0-6319-4365-bb72-37bf875140b4',\n",
      " 'type': 'FeatureValue'},\n",
      " {'id': '4be53cb3-7b35-4c50-baf3-6eb8a6c82185',\n",
      " 'identifier': '4be53cb3-7b35-4c50-baf3-6eb8a6c82185',\n",
      " 'type': 'FeatureMembership'},\n",
      " {'id': '4d605ba4-e094-4478-9292-357bcbfc8f57',\n",
      " 'identifier': '4d605ba4-e094-4478-9292-357bcbfc8f57',\n",
      " 'type': 'FeatureMembership'},\n",
      " {'id': '4f8aba64-0c7e-47bb-a47e-be4b2f21f85e',\n",
      " 'identifier': '4f8aba64-0c7e-47bb-a47e-be4b2f21f85e',\n",
      " 'type': 'LiteralInteger'},\n",
      " {'id': '57275bc8-5be3-4348-8327-d4ab58b8747b',\n",
      " 'identifier': '57275bc8-5be3-4348-8327-d4ab58b8747b',\n",
      " 'type': 'Package'},\n",
      " {'id': '5cc4638c-a49c-44c1-9a67-cd87e784a1f2',\n",
      " 'identifier': '5cc4638c-a49c-44c1-9a67-cd87e784a1f2',\n",
      " 'type': 'PartUsage'},\n",
      " {'id': '683846d6-82c1-4c55-b105-349f29831972',\n",
      " 'identifier': '683846d6-82c1-4c55-b105-349f29831972',\n",
      " 'type': 'AttributeUsage'},\n",
      " {'id': '73007c91-e4b8-45cd-993e-c8a527742992',\n",
      " 'identifier': '73007c91-e4b8-45cd-993e-c8a527742992',\n",
      " 'type': 'Import'},\n",
      " {'id': '7e2e7a0b-d6a5-4c2a-805a-de9352525a67',\n",
      " 'identifier': '7e2e7a0b-d6a5-4c2a-805a-de9352525a67',\n",
      " 'type': 'DataType'},\n",
      " {'id': '7e59c404-3920-489b-b2c5-cd82a231ff57',\n",
      " 'identifier': '7e59c404-3920-489b-b2c5-cd82a231ff57',\n",
      " 'type': 'FeatureMembership'},\n",
      " {'id': '8879ab84-e2cf-4c89-9a1a-c3931d0d7de5',\n",
      " 'identifier': '8879ab84-e2cf-4c89-9a1a-c3931d0d7de5',\n",
      " 'type': 'Membership'},\n",
      " {'id': '942d536d-7a54-4ddb-a5a1-9cefeeffc48b',\n",
      " 'identifier': '942d536d-7a54-4ddb-a5a1-9cefeeffc48b',\n",
      " 'type': 'Membership'},\n",
      " {'id': '96bd39de-8433-4d32-9107-b10c585f96b2',\n",
      " 'identifier': '96bd39de-8433-4d32-9107-b10c585f96b2',\n",
      " 'type': 'Package'},\n",
      " {'id': '982bcc6e-4c29-48a9-8391-e6ef9095f50f',\n",
      " 'identifier': '982bcc6e-4c29-48a9-8391-e6ef9095f50f',\n",
      " 'type': 'PartUsage'},\n",
      " {'id': '9fd42cfc-e2a0-47d7-8a88-f47c06479a27',\n",
      " 'identifier': '9fd42cfc-e2a0-47d7-8a88-f47c06479a27',\n",
      " 'type': 'PartUsage'},\n",
      " {'id': 'c07d1ec4-2c50-4a0a-9f4b-73659e5cd90e',\n",
      " 'identifier': 'c07d1ec4-2c50-4a0a-9f4b-73659e5cd90e',\n",
      " 'type': 'Package'}]\n"
     ]
    }
   ],
   "source": [
    "# here is an example of what we are working wiht as JSON file\n",
    "pprint(elements)"
   ]
  },
  {
   "cell_type": "markdown",
   "id": "interior-stone",
   "metadata": {
    "kernel": "SoS"
   },
   "source": [
    "## With the elements known we can then get each elements data with an API call - this is how one interacts with the API"
   ]
  },
  {
   "cell_type": "code",
   "execution_count": 16,
   "id": "accessible-plymouth",
   "metadata": {
    "kernel": "Python3",
    "tags": []
   },
   "outputs": [],
   "source": [
    "elements_url = (sysml_api_base_url +\n",
    "                '/projects/{0}/commits/{1}/elements?page[size]=2000').format(my_projects[model_id].id, commits_response[0].id)"
   ]
  },
  {
   "cell_type": "code",
   "execution_count": 17,
   "id": "reverse-action",
   "metadata": {
    "kernel": "Python3",
    "tags": []
   },
   "outputs": [
    {
     "data": {
      "text/plain": [
       "'http://sysml2.intercax.com:9000/projects/8e5799d2-7624-445d-9199-0c70b214c141/commits/d2ce8b99-d9fe-461c-bd15-e544b944bc4f/elements?page[size]=2000'"
      ]
     },
     "execution_count": 17,
     "metadata": {},
     "output_type": "execute_result"
    }
   ],
   "source": [
    "elements_url"
   ]
  },
  {
   "cell_type": "code",
   "execution_count": 18,
   "id": "partial-burner",
   "metadata": {
    "kernel": "Python3",
    "tags": []
   },
   "outputs": [],
   "source": [
    "elements_response = requests.get(\n",
    "    elements_url\n",
    ")"
   ]
  },
  {
   "cell_type": "code",
   "execution_count": 19,
   "id": "portable-ghana",
   "metadata": {
    "kernel": "Python3",
    "tags": []
   },
   "outputs": [],
   "source": [
    "elements_data = elements_response.json()"
   ]
  },
  {
   "cell_type": "markdown",
   "id": "0ee48c25-eb30-4d2e-b25e-8e0c21af6b76",
   "metadata": {
    "kernel": "Python3"
   },
   "source": [
    "## Now we can show the element data in a tree view"
   ]
  },
  {
   "cell_type": "code",
   "execution_count": 20,
   "id": "aae43c23-43e2-4248-86b6-6227f1a0a06e",
   "metadata": {
    "kernel": "Python3",
    "tags": []
   },
   "outputs": [
    {
     "data": {
      "application/json": [
       {
        "@id": "0972c835-c8b4-4fc2-a64d-c6700511a6eb",
        "@type": "PartUsage",
        "aliasId": [],
        "documentation": [],
        "documentationComment": [],
        "effectiveName": null,
        "endFeature": [],
        "endOwningType": null,
        "feature": [],
        "featureMembership": [],
        "featuringType": [
         {
          "@id": "982bcc6e-4c29-48a9-8391-e6ef9095f50f"
         }
        ],
        "flowFeature": [],
        "humanId": null,
        "identifier": "0972c835-c8b4-4fc2-a64d-c6700511a6eb",
        "importedMembership": [],
        "inheritedFeature": [],
        "inheritedMembership": [],
        "input": [],
        "isAbstract": false,
        "isComposite": true,
        "isConjugated": false,
        "isEnd": false,
        "isNonunique": false,
        "isOrdered": false,
        "isSufficient": false,
        "isUnique": true,
        "isVariation": false,
        "itemDefinition": [],
        "member": [],
        "membership": [],
        "multiplicity": null,
        "name": "C",
        "nestedAction": [],
        "nestedAllocation": [],
        "nestedAnalysisCase": [],
        "nestedAttribute": [],
        "nestedCalculation": [],
        "nestedCase": [],
        "nestedConcern": [],
        "nestedConnection": [],
        "nestedConstraint": [],
        "nestedEnumeration": [],
        "nestedIndividual": [],
        "nestedInterface": [],
        "nestedItem": [],
        "nestedPart": [],
        "nestedPort": [],
        "nestedReference": [],
        "nestedRendering": [],
        "nestedRequirement": [],
        "nestedStakeholder": [],
        "nestedState": [],
        "nestedTransition": [],
        "nestedUsage": [],
        "nestedVerificationCase": [],
        "nestedView": [],
        "nestedViewpoint": [],
        "output": [],
        "ownedAnnotation": [],
        "ownedConjugator": null,
        "ownedElement": [],
        "ownedEndFeature": [],
        "ownedFeature": [],
        "ownedFeatureMembership": [],
        "ownedGeneralization": [],
        "ownedImport": [],
        "ownedMember": [],
        "ownedMembership": [],
        "ownedRedefinition": [],
        "ownedRelationship": [],
        "ownedSubsetting": [],
        "ownedTextualRepresentation": [],
        "ownedTypeFeaturing": [],
        "ownedTyping": [],
        "owner": {
         "@id": "982bcc6e-4c29-48a9-8391-e6ef9095f50f"
        },
        "owningDefinition": null,
        "owningFeatureMembership": {
         "@id": "4be53cb3-7b35-4c50-baf3-6eb8a6c82185"
        },
        "owningMembership": {
         "@id": "4be53cb3-7b35-4c50-baf3-6eb8a6c82185"
        },
        "owningNamespace": {
         "@id": "982bcc6e-4c29-48a9-8391-e6ef9095f50f"
        },
        "owningRelationship": {
         "@id": "4be53cb3-7b35-4c50-baf3-6eb8a6c82185"
        },
        "owningType": {
         "@id": "982bcc6e-4c29-48a9-8391-e6ef9095f50f"
        },
        "owningUsage": {
         "@id": "982bcc6e-4c29-48a9-8391-e6ef9095f50f"
        },
        "partDefinition": [],
        "qualifiedName": "jdehart_api_demo::internal::B::C",
        "type": [],
        "usage": [],
        "variant": [],
        "variantMembership": []
       },
       {
        "@id": "1425b2b9-cca1-41ca-857d-0558bc66c421",
        "@type": "Feature",
        "aliasId": [],
        "documentation": [],
        "documentationComment": [],
        "effectiveName": null,
        "endFeature": [],
        "endOwningType": null,
        "feature": [],
        "featureMembership": [],
        "featuringType": [
         {
          "@id": "4f8aba64-0c7e-47bb-a47e-be4b2f21f85e"
         }
        ],
        "humanId": null,
        "identifier": "1425b2b9-cca1-41ca-857d-0558bc66c421",
        "importedMembership": [],
        "inheritedFeature": [],
        "inheritedMembership": [],
        "input": [],
        "isAbstract": false,
        "isComposite": false,
        "isConjugated": false,
        "isEnd": false,
        "isNonunique": false,
        "isOrdered": false,
        "isSufficient": false,
        "isUnique": true,
        "member": [],
        "membership": [],
        "multiplicity": null,
        "name": "$result",
        "output": [],
        "ownedAnnotation": [],
        "ownedConjugator": null,
        "ownedElement": [],
        "ownedEndFeature": [],
        "ownedFeature": [],
        "ownedFeatureMembership": [],
        "ownedGeneralization": [],
        "ownedImport": [],
        "ownedMember": [],
        "ownedMembership": [],
        "ownedRedefinition": [],
        "ownedRelationship": [],
        "ownedSubsetting": [],
        "ownedTextualRepresentation": [],
        "ownedTypeFeaturing": [],
        "ownedTyping": [],
        "owner": {
         "@id": "4f8aba64-0c7e-47bb-a47e-be4b2f21f85e"
        },
        "owningFeatureMembership": {
         "@id": "21168e8b-0998-452f-a61e-0979004c9b91"
        },
        "owningMembership": {
         "@id": "21168e8b-0998-452f-a61e-0979004c9b91"
        },
        "owningNamespace": {
         "@id": "4f8aba64-0c7e-47bb-a47e-be4b2f21f85e"
        },
        "owningRelationship": {
         "@id": "21168e8b-0998-452f-a61e-0979004c9b91"
        },
        "owningType": {
         "@id": "4f8aba64-0c7e-47bb-a47e-be4b2f21f85e"
        },
        "qualifiedName": "jdehart_api_demo::A::mass::null::'$result'",
        "type": []
       },
       {
        "@id": "1d01d2fe-095c-43ea-9b32-fae5a0551e0a",
        "@type": "Membership",
        "aliasId": [],
        "documentation": [],
        "documentationComment": [],
        "effectiveMemberName": null,
        "effectiveName": null,
        "humanId": null,
        "identifier": "1d01d2fe-095c-43ea-9b32-fae5a0551e0a",
        "memberElement": {
         "@id": "57275bc8-5be3-4348-8327-d4ab58b8747b"
        },
        "memberName": "internal",
        "membershipOwningNamespace": {
         "@id": "c07d1ec4-2c50-4a0a-9f4b-73659e5cd90e"
        },
        "name": null,
        "ownedAnnotation": [],
        "ownedElement": [],
        "ownedMemberElement": {
         "@id": "57275bc8-5be3-4348-8327-d4ab58b8747b"
        },
        "ownedRelatedElement": [
         {
          "@id": "57275bc8-5be3-4348-8327-d4ab58b8747b"
         }
        ],
        "ownedRelationship": [],
        "ownedTextualRepresentation": [],
        "owner": null,
        "owningMembership": null,
        "owningNamespace": null,
        "owningRelatedElement": {
         "@id": "c07d1ec4-2c50-4a0a-9f4b-73659e5cd90e"
        },
        "owningRelationship": null,
        "qualifiedName": null,
        "relatedElement": [
         {
          "@id": "c07d1ec4-2c50-4a0a-9f4b-73659e5cd90e"
         },
         {
          "@id": "57275bc8-5be3-4348-8327-d4ab58b8747b"
         }
        ],
        "source": [
         {
          "@id": "c07d1ec4-2c50-4a0a-9f4b-73659e5cd90e"
         }
        ],
        "target": [
         {
          "@id": "57275bc8-5be3-4348-8327-d4ab58b8747b"
         }
        ],
        "visibility": "PUBLIC"
       },
       {
        "@id": "21168e8b-0998-452f-a61e-0979004c9b91",
        "@type": "ReturnParameterMembership",
        "aliasId": [],
        "direction": "OUT",
        "documentation": [],
        "documentationComment": [],
        "effectiveMemberName": null,
        "effectiveName": null,
        "featureOfType": {
         "@id": "1425b2b9-cca1-41ca-857d-0558bc66c421"
        },
        "featuringType": null,
        "humanId": null,
        "identifier": "21168e8b-0998-452f-a61e-0979004c9b91",
        "isComposite": false,
        "isDerived": false,
        "isPort": false,
        "isPortion": false,
        "isReadOnly": false,
        "memberElement": {
         "@id": "1425b2b9-cca1-41ca-857d-0558bc66c421"
        },
        "memberFeature": {
         "@id": "1425b2b9-cca1-41ca-857d-0558bc66c421"
        },
        "memberName": "$result",
        "memberParameter": {
         "@id": "1425b2b9-cca1-41ca-857d-0558bc66c421"
        },
        "membershipOwningNamespace": {
         "@id": "4f8aba64-0c7e-47bb-a47e-be4b2f21f85e"
        },
        "name": null,
        "ownedAnnotation": [],
        "ownedElement": [],
        "ownedMemberElement": {
         "@id": "1425b2b9-cca1-41ca-857d-0558bc66c421"
        },
        "ownedMemberFeature": {
         "@id": "1425b2b9-cca1-41ca-857d-0558bc66c421"
        },
        "ownedMemberParameter": {
         "@id": "1425b2b9-cca1-41ca-857d-0558bc66c421"
        },
        "ownedRelatedElement": [
         {
          "@id": "1425b2b9-cca1-41ca-857d-0558bc66c421"
         }
        ],
        "ownedRelationship": [],
        "ownedTextualRepresentation": [],
        "owner": null,
        "owningFeatureOfType": null,
        "owningMembership": null,
        "owningNamespace": null,
        "owningRelatedElement": {
         "@id": "4f8aba64-0c7e-47bb-a47e-be4b2f21f85e"
        },
        "owningRelationship": null,
        "owningType": {
         "@id": "4f8aba64-0c7e-47bb-a47e-be4b2f21f85e"
        },
        "qualifiedName": null,
        "relatedElement": [
         {
          "@id": "4f8aba64-0c7e-47bb-a47e-be4b2f21f85e"
         },
         {
          "@id": "1425b2b9-cca1-41ca-857d-0558bc66c421"
         }
        ],
        "source": [
         {
          "@id": "4f8aba64-0c7e-47bb-a47e-be4b2f21f85e"
         }
        ],
        "target": [
         {
          "@id": "1425b2b9-cca1-41ca-857d-0558bc66c421"
         }
        ],
        "visibility": "PUBLIC"
       },
       {
        "@id": "2308265e-ab4f-45a3-96e0-7efa7c913fb7",
        "@type": "FeatureTyping",
        "aliasId": [],
        "documentation": [],
        "documentationComment": [],
        "effectiveName": null,
        "general": {
         "@id": "7e2e7a0b-d6a5-4c2a-805a-de9352525a67"
        },
        "humanId": null,
        "identifier": "2308265e-ab4f-45a3-96e0-7efa7c913fb7",
        "name": null,
        "ownedAnnotation": [],
        "ownedElement": [],
        "ownedRelatedElement": [],
        "ownedRelationship": [],
        "ownedTextualRepresentation": [],
        "owner": null,
        "owningFeature": {
         "@id": "683846d6-82c1-4c55-b105-349f29831972"
        },
        "owningMembership": null,
        "owningNamespace": null,
        "owningRelatedElement": {
         "@id": "683846d6-82c1-4c55-b105-349f29831972"
        },
        "owningRelationship": null,
        "owningType": {
         "@id": "683846d6-82c1-4c55-b105-349f29831972"
        },
        "qualifiedName": null,
        "relatedElement": [
         {
          "@id": "683846d6-82c1-4c55-b105-349f29831972"
         },
         {
          "@id": "7e2e7a0b-d6a5-4c2a-805a-de9352525a67"
         }
        ],
        "source": [
         {
          "@id": "683846d6-82c1-4c55-b105-349f29831972"
         }
        ],
        "specific": {
         "@id": "683846d6-82c1-4c55-b105-349f29831972"
        },
        "target": [
         {
          "@id": "7e2e7a0b-d6a5-4c2a-805a-de9352525a67"
         }
        ],
        "type": {
         "@id": "7e2e7a0b-d6a5-4c2a-805a-de9352525a67"
        },
        "typedFeature": {
         "@id": "683846d6-82c1-4c55-b105-349f29831972"
        }
       },
       {
        "@id": "4bb80cc0-6319-4365-bb72-37bf875140b4",
        "@type": "FeatureValue",
        "aliasId": [],
        "documentation": [],
        "documentationComment": [],
        "effectiveMemberName": null,
        "effectiveName": null,
        "featureWithValue": null,
        "humanId": null,
        "identifier": "4bb80cc0-6319-4365-bb72-37bf875140b4",
        "memberElement": {
         "@id": "4f8aba64-0c7e-47bb-a47e-be4b2f21f85e"
        },
        "memberName": null,
        "membershipOwningNamespace": {
         "@id": "683846d6-82c1-4c55-b105-349f29831972"
        },
        "name": null,
        "ownedAnnotation": [],
        "ownedElement": [],
        "ownedMemberElement": {
         "@id": "4f8aba64-0c7e-47bb-a47e-be4b2f21f85e"
        },
        "ownedRelatedElement": [
         {
          "@id": "4f8aba64-0c7e-47bb-a47e-be4b2f21f85e"
         }
        ],
        "ownedRelationship": [],
        "ownedTextualRepresentation": [],
        "owner": null,
        "owningMembership": null,
        "owningNamespace": null,
        "owningRelatedElement": {
         "@id": "683846d6-82c1-4c55-b105-349f29831972"
        },
        "owningRelationship": null,
        "qualifiedName": null,
        "relatedElement": [
         {
          "@id": "683846d6-82c1-4c55-b105-349f29831972"
         },
         {
          "@id": "4f8aba64-0c7e-47bb-a47e-be4b2f21f85e"
         }
        ],
        "source": [
         {
          "@id": "683846d6-82c1-4c55-b105-349f29831972"
         }
        ],
        "target": [
         {
          "@id": "4f8aba64-0c7e-47bb-a47e-be4b2f21f85e"
         }
        ],
        "value": {
         "@id": "4f8aba64-0c7e-47bb-a47e-be4b2f21f85e"
        },
        "valueConnector": null,
        "visibility": "PUBLIC"
       },
       {
        "@id": "4be53cb3-7b35-4c50-baf3-6eb8a6c82185",
        "@type": "FeatureMembership",
        "aliasId": [],
        "direction": null,
        "documentation": [],
        "documentationComment": [],
        "effectiveMemberName": null,
        "effectiveName": null,
        "featureOfType": {
         "@id": "0972c835-c8b4-4fc2-a64d-c6700511a6eb"
        },
        "featuringType": null,
        "humanId": null,
        "identifier": "4be53cb3-7b35-4c50-baf3-6eb8a6c82185",
        "isComposite": true,
        "isDerived": false,
        "isPort": false,
        "isPortion": false,
        "isReadOnly": false,
        "memberElement": {
         "@id": "0972c835-c8b4-4fc2-a64d-c6700511a6eb"
        },
        "memberFeature": {
         "@id": "0972c835-c8b4-4fc2-a64d-c6700511a6eb"
        },
        "memberName": "C",
        "membershipOwningNamespace": {
         "@id": "982bcc6e-4c29-48a9-8391-e6ef9095f50f"
        },
        "name": null,
        "ownedAnnotation": [],
        "ownedElement": [],
        "ownedMemberElement": {
         "@id": "0972c835-c8b4-4fc2-a64d-c6700511a6eb"
        },
        "ownedMemberFeature": {
         "@id": "0972c835-c8b4-4fc2-a64d-c6700511a6eb"
        },
        "ownedRelatedElement": [
         {
          "@id": "0972c835-c8b4-4fc2-a64d-c6700511a6eb"
         }
        ],
        "ownedRelationship": [],
        "ownedTextualRepresentation": [],
        "owner": null,
        "owningFeatureOfType": null,
        "owningMembership": null,
        "owningNamespace": null,
        "owningRelatedElement": {
         "@id": "982bcc6e-4c29-48a9-8391-e6ef9095f50f"
        },
        "owningRelationship": null,
        "owningType": {
         "@id": "982bcc6e-4c29-48a9-8391-e6ef9095f50f"
        },
        "qualifiedName": null,
        "relatedElement": [
         {
          "@id": "982bcc6e-4c29-48a9-8391-e6ef9095f50f"
         },
         {
          "@id": "0972c835-c8b4-4fc2-a64d-c6700511a6eb"
         }
        ],
        "source": [
         {
          "@id": "982bcc6e-4c29-48a9-8391-e6ef9095f50f"
         }
        ],
        "target": [
         {
          "@id": "0972c835-c8b4-4fc2-a64d-c6700511a6eb"
         }
        ],
        "visibility": "PUBLIC"
       },
       {
        "@id": "4d605ba4-e094-4478-9292-357bcbfc8f57",
        "@type": "FeatureMembership",
        "aliasId": [],
        "direction": null,
        "documentation": [],
        "documentationComment": [],
        "effectiveMemberName": null,
        "effectiveName": null,
        "featureOfType": {
         "@id": "683846d6-82c1-4c55-b105-349f29831972"
        },
        "featuringType": null,
        "humanId": null,
        "identifier": "4d605ba4-e094-4478-9292-357bcbfc8f57",
        "isComposite": false,
        "isDerived": false,
        "isPort": false,
        "isPortion": false,
        "isReadOnly": false,
        "memberElement": {
         "@id": "683846d6-82c1-4c55-b105-349f29831972"
        },
        "memberFeature": {
         "@id": "683846d6-82c1-4c55-b105-349f29831972"
        },
        "memberName": "mass",
        "membershipOwningNamespace": {
         "@id": "5cc4638c-a49c-44c1-9a67-cd87e784a1f2"
        },
        "name": null,
        "ownedAnnotation": [],
        "ownedElement": [],
        "ownedMemberElement": {
         "@id": "683846d6-82c1-4c55-b105-349f29831972"
        },
        "ownedMemberFeature": {
         "@id": "683846d6-82c1-4c55-b105-349f29831972"
        },
        "ownedRelatedElement": [
         {
          "@id": "683846d6-82c1-4c55-b105-349f29831972"
         }
        ],
        "ownedRelationship": [],
        "ownedTextualRepresentation": [],
        "owner": null,
        "owningFeatureOfType": null,
        "owningMembership": null,
        "owningNamespace": null,
        "owningRelatedElement": {
         "@id": "5cc4638c-a49c-44c1-9a67-cd87e784a1f2"
        },
        "owningRelationship": null,
        "owningType": {
         "@id": "5cc4638c-a49c-44c1-9a67-cd87e784a1f2"
        },
        "qualifiedName": null,
        "relatedElement": [
         {
          "@id": "5cc4638c-a49c-44c1-9a67-cd87e784a1f2"
         },
         {
          "@id": "683846d6-82c1-4c55-b105-349f29831972"
         }
        ],
        "source": [
         {
          "@id": "5cc4638c-a49c-44c1-9a67-cd87e784a1f2"
         }
        ],
        "target": [
         {
          "@id": "683846d6-82c1-4c55-b105-349f29831972"
         }
        ],
        "visibility": "PUBLIC"
       },
       {
        "@id": "4f8aba64-0c7e-47bb-a47e-be4b2f21f85e",
        "@type": "LiteralInteger",
        "aliasId": [],
        "behavior": [],
        "documentation": [],
        "documentationComment": [],
        "effectiveName": null,
        "endFeature": [],
        "endOwningType": null,
        "feature": [
         {
          "@id": "1425b2b9-cca1-41ca-857d-0558bc66c421"
         }
        ],
        "featureMembership": [
         {
          "@id": "21168e8b-0998-452f-a61e-0979004c9b91"
         }
        ],
        "featuringType": [
         {
          "@id": "5cc4638c-a49c-44c1-9a67-cd87e784a1f2"
         }
        ],
        "function": null,
        "humanId": null,
        "identifier": "4f8aba64-0c7e-47bb-a47e-be4b2f21f85e",
        "importedMembership": [],
        "inheritedFeature": [],
        "inheritedMembership": [],
        "input": [],
        "isAbstract": false,
        "isComposite": false,
        "isConjugated": false,
        "isEnd": false,
        "isModelLevelEvaluable": true,
        "isNonunique": false,
        "isOrdered": false,
        "isSufficient": false,
        "isUnique": true,
        "member": [
         {
          "@id": "1425b2b9-cca1-41ca-857d-0558bc66c421"
         }
        ],
        "membership": [
         {
          "@id": "21168e8b-0998-452f-a61e-0979004c9b91"
         }
        ],
        "multiplicity": null,
        "name": null,
        "output": [
         {
          "@id": "1425b2b9-cca1-41ca-857d-0558bc66c421"
         }
        ],
        "ownedAnnotation": [],
        "ownedConjugator": null,
        "ownedElement": [
         {
          "@id": "1425b2b9-cca1-41ca-857d-0558bc66c421"
         }
        ],
        "ownedEndFeature": [],
        "ownedFeature": [
         {
          "@id": "1425b2b9-cca1-41ca-857d-0558bc66c421"
         }
        ],
        "ownedFeatureMembership": [
         {
          "@id": "21168e8b-0998-452f-a61e-0979004c9b91"
         }
        ],
        "ownedGeneralization": [],
        "ownedImport": [],
        "ownedMember": [
         {
          "@id": "1425b2b9-cca1-41ca-857d-0558bc66c421"
         }
        ],
        "ownedMembership": [
         {
          "@id": "21168e8b-0998-452f-a61e-0979004c9b91"
         }
        ],
        "ownedRedefinition": [],
        "ownedRelationship": [
         {
          "@id": "21168e8b-0998-452f-a61e-0979004c9b91"
         }
        ],
        "ownedSubsetting": [],
        "ownedTextualRepresentation": [],
        "ownedTypeFeaturing": [],
        "ownedTyping": [],
        "owner": {
         "@id": "683846d6-82c1-4c55-b105-349f29831972"
        },
        "owningFeatureMembership": null,
        "owningMembership": {
         "@id": "4bb80cc0-6319-4365-bb72-37bf875140b4"
        },
        "owningNamespace": {
         "@id": "683846d6-82c1-4c55-b105-349f29831972"
        },
        "owningRelationship": {
         "@id": "4bb80cc0-6319-4365-bb72-37bf875140b4"
        },
        "owningType": null,
        "parameter": [
         {
          "@id": "1425b2b9-cca1-41ca-857d-0558bc66c421"
         }
        ],
        "qualifiedName": "jdehart_api_demo::A::mass::null",
        "result": {
         "@id": "1425b2b9-cca1-41ca-857d-0558bc66c421"
        },
        "type": [],
        "value": 30
       },
       {
        "@id": "57275bc8-5be3-4348-8327-d4ab58b8747b",
        "@type": "Package",
        "aliasId": [],
        "documentation": [],
        "documentationComment": [],
        "effectiveName": null,
        "filterCondition": [],
        "humanId": null,
        "identifier": "57275bc8-5be3-4348-8327-d4ab58b8747b",
        "importedMembership": [],
        "member": [
         {
          "@id": "982bcc6e-4c29-48a9-8391-e6ef9095f50f"
         }
        ],
        "membership": [
         {
          "@id": "942d536d-7a54-4ddb-a5a1-9cefeeffc48b"
         }
        ],
        "name": "internal",
        "ownedAnnotation": [],
        "ownedElement": [
         {
          "@id": "982bcc6e-4c29-48a9-8391-e6ef9095f50f"
         }
        ],
        "ownedImport": [],
        "ownedMember": [
         {
          "@id": "982bcc6e-4c29-48a9-8391-e6ef9095f50f"
         }
        ],
        "ownedMembership": [
         {
          "@id": "942d536d-7a54-4ddb-a5a1-9cefeeffc48b"
         }
        ],
        "ownedRelationship": [
         {
          "@id": "942d536d-7a54-4ddb-a5a1-9cefeeffc48b"
         }
        ],
        "ownedTextualRepresentation": [],
        "owner": {
         "@id": "c07d1ec4-2c50-4a0a-9f4b-73659e5cd90e"
        },
        "owningMembership": {
         "@id": "1d01d2fe-095c-43ea-9b32-fae5a0551e0a"
        },
        "owningNamespace": {
         "@id": "c07d1ec4-2c50-4a0a-9f4b-73659e5cd90e"
        },
        "owningRelationship": {
         "@id": "1d01d2fe-095c-43ea-9b32-fae5a0551e0a"
        },
        "qualifiedName": "jdehart_api_demo::internal"
       },
       {
        "@id": "5cc4638c-a49c-44c1-9a67-cd87e784a1f2",
        "@type": "PartUsage",
        "aliasId": [],
        "documentation": [],
        "documentationComment": [],
        "effectiveName": null,
        "endFeature": [],
        "endOwningType": null,
        "feature": [
         {
          "@id": "683846d6-82c1-4c55-b105-349f29831972"
         }
        ],
        "featureMembership": [
         {
          "@id": "4d605ba4-e094-4478-9292-357bcbfc8f57"
         }
        ],
        "featuringType": [],
        "flowFeature": [],
        "humanId": null,
        "identifier": "5cc4638c-a49c-44c1-9a67-cd87e784a1f2",
        "importedMembership": [],
        "inheritedFeature": [],
        "inheritedMembership": [],
        "input": [],
        "isAbstract": false,
        "isComposite": false,
        "isConjugated": false,
        "isEnd": false,
        "isNonunique": false,
        "isOrdered": false,
        "isSufficient": false,
        "isUnique": true,
        "isVariation": false,
        "itemDefinition": [],
        "member": [
         {
          "@id": "683846d6-82c1-4c55-b105-349f29831972"
         }
        ],
        "membership": [
         {
          "@id": "4d605ba4-e094-4478-9292-357bcbfc8f57"
         }
        ],
        "multiplicity": null,
        "name": "A",
        "nestedAction": [],
        "nestedAllocation": [],
        "nestedAnalysisCase": [],
        "nestedAttribute": [
         {
          "@id": "683846d6-82c1-4c55-b105-349f29831972"
         }
        ],
        "nestedCalculation": [],
        "nestedCase": [],
        "nestedConcern": [],
        "nestedConnection": [],
        "nestedConstraint": [],
        "nestedEnumeration": [],
        "nestedIndividual": [],
        "nestedInterface": [],
        "nestedItem": [],
        "nestedPart": [],
        "nestedPort": [],
        "nestedReference": [],
        "nestedRendering": [],
        "nestedRequirement": [],
        "nestedStakeholder": [],
        "nestedState": [],
        "nestedTransition": [],
        "nestedUsage": [
         {
          "@id": "683846d6-82c1-4c55-b105-349f29831972"
         }
        ],
        "nestedVerificationCase": [],
        "nestedView": [],
        "nestedViewpoint": [],
        "output": [],
        "ownedAnnotation": [],
        "ownedConjugator": null,
        "ownedElement": [
         {
          "@id": "683846d6-82c1-4c55-b105-349f29831972"
         }
        ],
        "ownedEndFeature": [],
        "ownedFeature": [
         {
          "@id": "683846d6-82c1-4c55-b105-349f29831972"
         }
        ],
        "ownedFeatureMembership": [
         {
          "@id": "4d605ba4-e094-4478-9292-357bcbfc8f57"
         }
        ],
        "ownedGeneralization": [],
        "ownedImport": [],
        "ownedMember": [
         {
          "@id": "683846d6-82c1-4c55-b105-349f29831972"
         }
        ],
        "ownedMembership": [
         {
          "@id": "4d605ba4-e094-4478-9292-357bcbfc8f57"
         }
        ],
        "ownedRedefinition": [],
        "ownedRelationship": [
         {
          "@id": "4d605ba4-e094-4478-9292-357bcbfc8f57"
         }
        ],
        "ownedSubsetting": [],
        "ownedTextualRepresentation": [],
        "ownedTypeFeaturing": [],
        "ownedTyping": [],
        "owner": {
         "@id": "c07d1ec4-2c50-4a0a-9f4b-73659e5cd90e"
        },
        "owningDefinition": null,
        "owningFeatureMembership": null,
        "owningMembership": {
         "@id": "8879ab84-e2cf-4c89-9a1a-c3931d0d7de5"
        },
        "owningNamespace": {
         "@id": "c07d1ec4-2c50-4a0a-9f4b-73659e5cd90e"
        },
        "owningRelationship": {
         "@id": "8879ab84-e2cf-4c89-9a1a-c3931d0d7de5"
        },
        "owningType": null,
        "owningUsage": null,
        "partDefinition": [],
        "qualifiedName": "jdehart_api_demo::A",
        "type": [],
        "usage": [
         {
          "@id": "683846d6-82c1-4c55-b105-349f29831972"
         }
        ],
        "variant": [],
        "variantMembership": []
       },
       {
        "@id": "683846d6-82c1-4c55-b105-349f29831972",
        "@type": "AttributeUsage",
        "aliasId": [],
        "attributeDefinition": [
         {
          "@id": "7e2e7a0b-d6a5-4c2a-805a-de9352525a67"
         }
        ],
        "documentation": [],
        "documentationComment": [],
        "effectiveName": null,
        "endFeature": [],
        "endOwningType": null,
        "feature": [
         {
          "@id": "4f8aba64-0c7e-47bb-a47e-be4b2f21f85e"
         }
        ],
        "featureMembership": [],
        "featuringType": [
         {
          "@id": "5cc4638c-a49c-44c1-9a67-cd87e784a1f2"
         }
        ],
        "flowFeature": [],
        "humanId": null,
        "identifier": "683846d6-82c1-4c55-b105-349f29831972",
        "importedMembership": [],
        "inheritedFeature": [],
        "inheritedMembership": [],
        "input": [],
        "isAbstract": false,
        "isComposite": false,
        "isConjugated": false,
        "isEnd": false,
        "isNonunique": false,
        "isOrdered": false,
        "isSufficient": false,
        "isUnique": true,
        "isVariation": false,
        "member": [
         {
          "@id": "4f8aba64-0c7e-47bb-a47e-be4b2f21f85e"
         }
        ],
        "membership": [
         {
          "@id": "4bb80cc0-6319-4365-bb72-37bf875140b4"
         }
        ],
        "multiplicity": null,
        "name": "mass",
        "nestedAction": [],
        "nestedAllocation": [],
        "nestedAnalysisCase": [],
        "nestedAttribute": [],
        "nestedCalculation": [],
        "nestedCase": [],
        "nestedConcern": [],
        "nestedConnection": [],
        "nestedConstraint": [],
        "nestedEnumeration": [],
        "nestedIndividual": [],
        "nestedInterface": [],
        "nestedItem": [],
        "nestedPart": [],
        "nestedPort": [],
        "nestedReference": [],
        "nestedRendering": [],
        "nestedRequirement": [],
        "nestedStakeholder": [],
        "nestedState": [],
        "nestedTransition": [],
        "nestedUsage": [],
        "nestedVerificationCase": [],
        "nestedView": [],
        "nestedViewpoint": [],
        "output": [],
        "ownedAnnotation": [],
        "ownedConjugator": null,
        "ownedElement": [
         {
          "@id": "4f8aba64-0c7e-47bb-a47e-be4b2f21f85e"
         }
        ],
        "ownedEndFeature": [],
        "ownedFeature": [
         {
          "@id": "4f8aba64-0c7e-47bb-a47e-be4b2f21f85e"
         }
        ],
        "ownedFeatureMembership": [],
        "ownedGeneralization": [
         {
          "@id": "2308265e-ab4f-45a3-96e0-7efa7c913fb7"
         }
        ],
        "ownedImport": [],
        "ownedMember": [
         {
          "@id": "4f8aba64-0c7e-47bb-a47e-be4b2f21f85e"
         }
        ],
        "ownedMembership": [
         {
          "@id": "4bb80cc0-6319-4365-bb72-37bf875140b4"
         }
        ],
        "ownedRedefinition": [],
        "ownedRelationship": [
         {
          "@id": "2308265e-ab4f-45a3-96e0-7efa7c913fb7"
         },
         {
          "@id": "4bb80cc0-6319-4365-bb72-37bf875140b4"
         }
        ],
        "ownedSubsetting": [],
        "ownedTextualRepresentation": [],
        "ownedTypeFeaturing": [],
        "ownedTyping": [
         {
          "@id": "2308265e-ab4f-45a3-96e0-7efa7c913fb7"
         }
        ],
        "owner": {
         "@id": "5cc4638c-a49c-44c1-9a67-cd87e784a1f2"
        },
        "owningDefinition": null,
        "owningFeatureMembership": {
         "@id": "4d605ba4-e094-4478-9292-357bcbfc8f57"
        },
        "owningMembership": {
         "@id": "4d605ba4-e094-4478-9292-357bcbfc8f57"
        },
        "owningNamespace": {
         "@id": "5cc4638c-a49c-44c1-9a67-cd87e784a1f2"
        },
        "owningRelationship": {
         "@id": "4d605ba4-e094-4478-9292-357bcbfc8f57"
        },
        "owningType": {
         "@id": "5cc4638c-a49c-44c1-9a67-cd87e784a1f2"
        },
        "owningUsage": {
         "@id": "5cc4638c-a49c-44c1-9a67-cd87e784a1f2"
        },
        "qualifiedName": "jdehart_api_demo::A::mass",
        "type": [
         {
          "@id": "7e2e7a0b-d6a5-4c2a-805a-de9352525a67"
         }
        ],
        "usage": [],
        "variant": [],
        "variantMembership": []
       },
       {
        "@id": "73007c91-e4b8-45cd-993e-c8a527742992",
        "@type": "Import",
        "aliasId": [],
        "documentation": [],
        "documentationComment": [],
        "effectiveName": null,
        "humanId": null,
        "identifier": "73007c91-e4b8-45cd-993e-c8a527742992",
        "importOwningNamespace": {
         "@id": "c07d1ec4-2c50-4a0a-9f4b-73659e5cd90e"
        },
        "importedNamespace": {
         "@id": "96bd39de-8433-4d32-9107-b10c585f96b2"
        },
        "isRecursive": false,
        "name": null,
        "ownedAnnotation": [],
        "ownedElement": [],
        "ownedRelatedElement": [],
        "ownedRelationship": [],
        "ownedTextualRepresentation": [],
        "owner": null,
        "owningMembership": null,
        "owningNamespace": null,
        "owningRelatedElement": {
         "@id": "c07d1ec4-2c50-4a0a-9f4b-73659e5cd90e"
        },
        "owningRelationship": null,
        "qualifiedName": null,
        "relatedElement": [
         {
          "@id": "c07d1ec4-2c50-4a0a-9f4b-73659e5cd90e"
         },
         {
          "@id": "96bd39de-8433-4d32-9107-b10c585f96b2"
         }
        ],
        "source": [
         {
          "@id": "c07d1ec4-2c50-4a0a-9f4b-73659e5cd90e"
         }
        ],
        "target": [
         {
          "@id": "96bd39de-8433-4d32-9107-b10c585f96b2"
         }
        ],
        "visibility": "PUBLIC"
       },
       {
        "@id": "7e2e7a0b-d6a5-4c2a-805a-de9352525a67",
        "@type": "DataType",
        "aliasId": [],
        "documentation": [],
        "documentationComment": [],
        "effectiveName": null,
        "endFeature": [],
        "feature": [],
        "featureMembership": [],
        "humanId": null,
        "identifier": "7e2e7a0b-d6a5-4c2a-805a-de9352525a67",
        "importedMembership": [],
        "inheritedFeature": [],
        "inheritedMembership": [],
        "input": [],
        "isAbstract": false,
        "isConjugated": false,
        "isSufficient": false,
        "member": [],
        "membership": [],
        "multiplicity": null,
        "name": "Real",
        "output": [],
        "ownedAnnotation": [],
        "ownedConjugator": null,
        "ownedElement": [],
        "ownedEndFeature": [],
        "ownedFeature": [],
        "ownedFeatureMembership": [],
        "ownedGeneralization": [],
        "ownedImport": [],
        "ownedMember": [],
        "ownedMembership": [],
        "ownedRelationship": [],
        "ownedSuperclassing": [],
        "ownedTextualRepresentation": [],
        "owner": null,
        "owningMembership": null,
        "owningNamespace": null,
        "owningRelationship": null,
        "qualifiedName": "ScalarValues::Real"
       },
       {
        "@id": "7e59c404-3920-489b-b2c5-cd82a231ff57",
        "@type": "FeatureMembership",
        "aliasId": [],
        "direction": null,
        "documentation": [],
        "documentationComment": [],
        "effectiveMemberName": null,
        "effectiveName": null,
        "featureOfType": {
         "@id": "9fd42cfc-e2a0-47d7-8a88-f47c06479a27"
        },
        "featuringType": null,
        "humanId": null,
        "identifier": "7e59c404-3920-489b-b2c5-cd82a231ff57",
        "isComposite": true,
        "isDerived": false,
        "isPort": false,
        "isPortion": false,
        "isReadOnly": false,
        "memberElement": {
         "@id": "9fd42cfc-e2a0-47d7-8a88-f47c06479a27"
        },
        "memberFeature": {
         "@id": "9fd42cfc-e2a0-47d7-8a88-f47c06479a27"
        },
        "memberName": "D",
        "membershipOwningNamespace": {
         "@id": "982bcc6e-4c29-48a9-8391-e6ef9095f50f"
        },
        "name": null,
        "ownedAnnotation": [],
        "ownedElement": [],
        "ownedMemberElement": {
         "@id": "9fd42cfc-e2a0-47d7-8a88-f47c06479a27"
        },
        "ownedMemberFeature": {
         "@id": "9fd42cfc-e2a0-47d7-8a88-f47c06479a27"
        },
        "ownedRelatedElement": [
         {
          "@id": "9fd42cfc-e2a0-47d7-8a88-f47c06479a27"
         }
        ],
        "ownedRelationship": [],
        "ownedTextualRepresentation": [],
        "owner": null,
        "owningFeatureOfType": null,
        "owningMembership": null,
        "owningNamespace": null,
        "owningRelatedElement": {
         "@id": "982bcc6e-4c29-48a9-8391-e6ef9095f50f"
        },
        "owningRelationship": null,
        "owningType": {
         "@id": "982bcc6e-4c29-48a9-8391-e6ef9095f50f"
        },
        "qualifiedName": null,
        "relatedElement": [
         {
          "@id": "982bcc6e-4c29-48a9-8391-e6ef9095f50f"
         },
         {
          "@id": "9fd42cfc-e2a0-47d7-8a88-f47c06479a27"
         }
        ],
        "source": [
         {
          "@id": "982bcc6e-4c29-48a9-8391-e6ef9095f50f"
         }
        ],
        "target": [
         {
          "@id": "9fd42cfc-e2a0-47d7-8a88-f47c06479a27"
         }
        ],
        "visibility": "PUBLIC"
       },
       {
        "@id": "8879ab84-e2cf-4c89-9a1a-c3931d0d7de5",
        "@type": "Membership",
        "aliasId": [],
        "documentation": [],
        "documentationComment": [],
        "effectiveMemberName": null,
        "effectiveName": null,
        "humanId": null,
        "identifier": "8879ab84-e2cf-4c89-9a1a-c3931d0d7de5",
        "memberElement": {
         "@id": "5cc4638c-a49c-44c1-9a67-cd87e784a1f2"
        },
        "memberName": "A",
        "membershipOwningNamespace": {
         "@id": "c07d1ec4-2c50-4a0a-9f4b-73659e5cd90e"
        },
        "name": null,
        "ownedAnnotation": [],
        "ownedElement": [],
        "ownedMemberElement": {
         "@id": "5cc4638c-a49c-44c1-9a67-cd87e784a1f2"
        },
        "ownedRelatedElement": [
         {
          "@id": "5cc4638c-a49c-44c1-9a67-cd87e784a1f2"
         }
        ],
        "ownedRelationship": [],
        "ownedTextualRepresentation": [],
        "owner": null,
        "owningMembership": null,
        "owningNamespace": null,
        "owningRelatedElement": {
         "@id": "c07d1ec4-2c50-4a0a-9f4b-73659e5cd90e"
        },
        "owningRelationship": null,
        "qualifiedName": null,
        "relatedElement": [
         {
          "@id": "c07d1ec4-2c50-4a0a-9f4b-73659e5cd90e"
         },
         {
          "@id": "5cc4638c-a49c-44c1-9a67-cd87e784a1f2"
         }
        ],
        "source": [
         {
          "@id": "c07d1ec4-2c50-4a0a-9f4b-73659e5cd90e"
         }
        ],
        "target": [
         {
          "@id": "5cc4638c-a49c-44c1-9a67-cd87e784a1f2"
         }
        ],
        "visibility": "PUBLIC"
       },
       {
        "@id": "942d536d-7a54-4ddb-a5a1-9cefeeffc48b",
        "@type": "Membership",
        "aliasId": [],
        "documentation": [],
        "documentationComment": [],
        "effectiveMemberName": null,
        "effectiveName": null,
        "humanId": null,
        "identifier": "942d536d-7a54-4ddb-a5a1-9cefeeffc48b",
        "memberElement": {
         "@id": "982bcc6e-4c29-48a9-8391-e6ef9095f50f"
        },
        "memberName": "B",
        "membershipOwningNamespace": {
         "@id": "57275bc8-5be3-4348-8327-d4ab58b8747b"
        },
        "name": null,
        "ownedAnnotation": [],
        "ownedElement": [],
        "ownedMemberElement": {
         "@id": "982bcc6e-4c29-48a9-8391-e6ef9095f50f"
        },
        "ownedRelatedElement": [
         {
          "@id": "982bcc6e-4c29-48a9-8391-e6ef9095f50f"
         }
        ],
        "ownedRelationship": [],
        "ownedTextualRepresentation": [],
        "owner": null,
        "owningMembership": null,
        "owningNamespace": null,
        "owningRelatedElement": {
         "@id": "57275bc8-5be3-4348-8327-d4ab58b8747b"
        },
        "owningRelationship": null,
        "qualifiedName": null,
        "relatedElement": [
         {
          "@id": "57275bc8-5be3-4348-8327-d4ab58b8747b"
         },
         {
          "@id": "982bcc6e-4c29-48a9-8391-e6ef9095f50f"
         }
        ],
        "source": [
         {
          "@id": "57275bc8-5be3-4348-8327-d4ab58b8747b"
         }
        ],
        "target": [
         {
          "@id": "982bcc6e-4c29-48a9-8391-e6ef9095f50f"
         }
        ],
        "visibility": "PUBLIC"
       },
       {
        "@id": "96bd39de-8433-4d32-9107-b10c585f96b2",
        "@type": "Package",
        "aliasId": [],
        "documentation": [],
        "documentationComment": [],
        "effectiveName": null,
        "filterCondition": [],
        "humanId": null,
        "identifier": "96bd39de-8433-4d32-9107-b10c585f96b2",
        "importedMembership": [],
        "member": [],
        "membership": [],
        "name": "ScalarValues",
        "ownedAnnotation": [],
        "ownedElement": [],
        "ownedImport": [],
        "ownedMember": [],
        "ownedMembership": [],
        "ownedRelationship": [],
        "ownedTextualRepresentation": [],
        "owner": null,
        "owningMembership": null,
        "owningNamespace": null,
        "owningRelationship": null,
        "qualifiedName": "ScalarValues"
       },
       {
        "@id": "982bcc6e-4c29-48a9-8391-e6ef9095f50f",
        "@type": "PartUsage",
        "aliasId": [],
        "documentation": [],
        "documentationComment": [],
        "effectiveName": null,
        "endFeature": [],
        "endOwningType": null,
        "feature": [
         {
          "@id": "0972c835-c8b4-4fc2-a64d-c6700511a6eb"
         },
         {
          "@id": "9fd42cfc-e2a0-47d7-8a88-f47c06479a27"
         }
        ],
        "featureMembership": [
         {
          "@id": "4be53cb3-7b35-4c50-baf3-6eb8a6c82185"
         },
         {
          "@id": "7e59c404-3920-489b-b2c5-cd82a231ff57"
         }
        ],
        "featuringType": [],
        "flowFeature": [],
        "humanId": null,
        "identifier": "982bcc6e-4c29-48a9-8391-e6ef9095f50f",
        "importedMembership": [],
        "inheritedFeature": [],
        "inheritedMembership": [],
        "input": [],
        "isAbstract": false,
        "isComposite": false,
        "isConjugated": false,
        "isEnd": false,
        "isNonunique": false,
        "isOrdered": false,
        "isSufficient": false,
        "isUnique": true,
        "isVariation": false,
        "itemDefinition": [],
        "member": [
         {
          "@id": "0972c835-c8b4-4fc2-a64d-c6700511a6eb"
         },
         {
          "@id": "9fd42cfc-e2a0-47d7-8a88-f47c06479a27"
         }
        ],
        "membership": [
         {
          "@id": "4be53cb3-7b35-4c50-baf3-6eb8a6c82185"
         },
         {
          "@id": "7e59c404-3920-489b-b2c5-cd82a231ff57"
         }
        ],
        "multiplicity": null,
        "name": "B",
        "nestedAction": [],
        "nestedAllocation": [],
        "nestedAnalysisCase": [],
        "nestedAttribute": [],
        "nestedCalculation": [],
        "nestedCase": [],
        "nestedConcern": [],
        "nestedConnection": [],
        "nestedConstraint": [],
        "nestedEnumeration": [],
        "nestedIndividual": [],
        "nestedInterface": [],
        "nestedItem": [
         {
          "@id": "0972c835-c8b4-4fc2-a64d-c6700511a6eb"
         },
         {
          "@id": "9fd42cfc-e2a0-47d7-8a88-f47c06479a27"
         }
        ],
        "nestedPart": [
         {
          "@id": "0972c835-c8b4-4fc2-a64d-c6700511a6eb"
         },
         {
          "@id": "9fd42cfc-e2a0-47d7-8a88-f47c06479a27"
         }
        ],
        "nestedPort": [],
        "nestedReference": [],
        "nestedRendering": [],
        "nestedRequirement": [],
        "nestedStakeholder": [],
        "nestedState": [],
        "nestedTransition": [],
        "nestedUsage": [
         {
          "@id": "0972c835-c8b4-4fc2-a64d-c6700511a6eb"
         },
         {
          "@id": "9fd42cfc-e2a0-47d7-8a88-f47c06479a27"
         }
        ],
        "nestedVerificationCase": [],
        "nestedView": [],
        "nestedViewpoint": [],
        "output": [],
        "ownedAnnotation": [],
        "ownedConjugator": null,
        "ownedElement": [
         {
          "@id": "0972c835-c8b4-4fc2-a64d-c6700511a6eb"
         },
         {
          "@id": "9fd42cfc-e2a0-47d7-8a88-f47c06479a27"
         }
        ],
        "ownedEndFeature": [],
        "ownedFeature": [
         {
          "@id": "0972c835-c8b4-4fc2-a64d-c6700511a6eb"
         },
         {
          "@id": "9fd42cfc-e2a0-47d7-8a88-f47c06479a27"
         }
        ],
        "ownedFeatureMembership": [
         {
          "@id": "4be53cb3-7b35-4c50-baf3-6eb8a6c82185"
         },
         {
          "@id": "7e59c404-3920-489b-b2c5-cd82a231ff57"
         }
        ],
        "ownedGeneralization": [],
        "ownedImport": [],
        "ownedMember": [
         {
          "@id": "0972c835-c8b4-4fc2-a64d-c6700511a6eb"
         },
         {
          "@id": "9fd42cfc-e2a0-47d7-8a88-f47c06479a27"
         }
        ],
        "ownedMembership": [
         {
          "@id": "4be53cb3-7b35-4c50-baf3-6eb8a6c82185"
         },
         {
          "@id": "7e59c404-3920-489b-b2c5-cd82a231ff57"
         }
        ],
        "ownedRedefinition": [],
        "ownedRelationship": [
         {
          "@id": "4be53cb3-7b35-4c50-baf3-6eb8a6c82185"
         },
         {
          "@id": "7e59c404-3920-489b-b2c5-cd82a231ff57"
         }
        ],
        "ownedSubsetting": [],
        "ownedTextualRepresentation": [],
        "ownedTypeFeaturing": [],
        "ownedTyping": [],
        "owner": {
         "@id": "57275bc8-5be3-4348-8327-d4ab58b8747b"
        },
        "owningDefinition": null,
        "owningFeatureMembership": null,
        "owningMembership": {
         "@id": "942d536d-7a54-4ddb-a5a1-9cefeeffc48b"
        },
        "owningNamespace": {
         "@id": "57275bc8-5be3-4348-8327-d4ab58b8747b"
        },
        "owningRelationship": {
         "@id": "942d536d-7a54-4ddb-a5a1-9cefeeffc48b"
        },
        "owningType": null,
        "owningUsage": null,
        "partDefinition": [],
        "qualifiedName": "jdehart_api_demo::internal::B",
        "type": [],
        "usage": [
         {
          "@id": "0972c835-c8b4-4fc2-a64d-c6700511a6eb"
         },
         {
          "@id": "9fd42cfc-e2a0-47d7-8a88-f47c06479a27"
         }
        ],
        "variant": [],
        "variantMembership": []
       },
       {
        "@id": "9fd42cfc-e2a0-47d7-8a88-f47c06479a27",
        "@type": "PartUsage",
        "aliasId": [],
        "documentation": [],
        "documentationComment": [],
        "effectiveName": null,
        "endFeature": [],
        "endOwningType": null,
        "feature": [],
        "featureMembership": [],
        "featuringType": [
         {
          "@id": "982bcc6e-4c29-48a9-8391-e6ef9095f50f"
         }
        ],
        "flowFeature": [],
        "humanId": null,
        "identifier": "9fd42cfc-e2a0-47d7-8a88-f47c06479a27",
        "importedMembership": [],
        "inheritedFeature": [],
        "inheritedMembership": [],
        "input": [],
        "isAbstract": false,
        "isComposite": true,
        "isConjugated": false,
        "isEnd": false,
        "isNonunique": false,
        "isOrdered": false,
        "isSufficient": false,
        "isUnique": true,
        "isVariation": false,
        "itemDefinition": [],
        "member": [],
        "membership": [],
        "multiplicity": null,
        "name": "D",
        "nestedAction": [],
        "nestedAllocation": [],
        "nestedAnalysisCase": [],
        "nestedAttribute": [],
        "nestedCalculation": [],
        "nestedCase": [],
        "nestedConcern": [],
        "nestedConnection": [],
        "nestedConstraint": [],
        "nestedEnumeration": [],
        "nestedIndividual": [],
        "nestedInterface": [],
        "nestedItem": [],
        "nestedPart": [],
        "nestedPort": [],
        "nestedReference": [],
        "nestedRendering": [],
        "nestedRequirement": [],
        "nestedStakeholder": [],
        "nestedState": [],
        "nestedTransition": [],
        "nestedUsage": [],
        "nestedVerificationCase": [],
        "nestedView": [],
        "nestedViewpoint": [],
        "output": [],
        "ownedAnnotation": [],
        "ownedConjugator": null,
        "ownedElement": [],
        "ownedEndFeature": [],
        "ownedFeature": [],
        "ownedFeatureMembership": [],
        "ownedGeneralization": [],
        "ownedImport": [],
        "ownedMember": [],
        "ownedMembership": [],
        "ownedRedefinition": [],
        "ownedRelationship": [],
        "ownedSubsetting": [],
        "ownedTextualRepresentation": [],
        "ownedTypeFeaturing": [],
        "ownedTyping": [],
        "owner": {
         "@id": "982bcc6e-4c29-48a9-8391-e6ef9095f50f"
        },
        "owningDefinition": null,
        "owningFeatureMembership": {
         "@id": "7e59c404-3920-489b-b2c5-cd82a231ff57"
        },
        "owningMembership": {
         "@id": "7e59c404-3920-489b-b2c5-cd82a231ff57"
        },
        "owningNamespace": {
         "@id": "982bcc6e-4c29-48a9-8391-e6ef9095f50f"
        },
        "owningRelationship": {
         "@id": "7e59c404-3920-489b-b2c5-cd82a231ff57"
        },
        "owningType": {
         "@id": "982bcc6e-4c29-48a9-8391-e6ef9095f50f"
        },
        "owningUsage": {
         "@id": "982bcc6e-4c29-48a9-8391-e6ef9095f50f"
        },
        "partDefinition": [],
        "qualifiedName": "jdehart_api_demo::internal::B::D",
        "type": [],
        "usage": [],
        "variant": [],
        "variantMembership": []
       },
       {
        "@id": "c07d1ec4-2c50-4a0a-9f4b-73659e5cd90e",
        "@type": "Package",
        "aliasId": [],
        "documentation": [],
        "documentationComment": [],
        "effectiveName": null,
        "filterCondition": [],
        "humanId": null,
        "identifier": "c07d1ec4-2c50-4a0a-9f4b-73659e5cd90e",
        "importedMembership": [],
        "member": [
         {
          "@id": "7e2e7a0b-d6a5-4c2a-805a-de9352525a67"
         },
         {
          "@id": "5cc4638c-a49c-44c1-9a67-cd87e784a1f2"
         },
         {
          "@id": "57275bc8-5be3-4348-8327-d4ab58b8747b"
         }
        ],
        "membership": [
         {
          "@id": "8879ab84-e2cf-4c89-9a1a-c3931d0d7de5"
         },
         {
          "@id": "1d01d2fe-095c-43ea-9b32-fae5a0551e0a"
         }
        ],
        "name": "jdehart_api_demo",
        "ownedAnnotation": [],
        "ownedElement": [
         {
          "@id": "5cc4638c-a49c-44c1-9a67-cd87e784a1f2"
         },
         {
          "@id": "57275bc8-5be3-4348-8327-d4ab58b8747b"
         }
        ],
        "ownedImport": [
         {
          "@id": "73007c91-e4b8-45cd-993e-c8a527742992"
         }
        ],
        "ownedMember": [
         {
          "@id": "5cc4638c-a49c-44c1-9a67-cd87e784a1f2"
         },
         {
          "@id": "57275bc8-5be3-4348-8327-d4ab58b8747b"
         }
        ],
        "ownedMembership": [
         {
          "@id": "8879ab84-e2cf-4c89-9a1a-c3931d0d7de5"
         },
         {
          "@id": "1d01d2fe-095c-43ea-9b32-fae5a0551e0a"
         }
        ],
        "ownedRelationship": [
         {
          "@id": "73007c91-e4b8-45cd-993e-c8a527742992"
         },
         {
          "@id": "8879ab84-e2cf-4c89-9a1a-c3931d0d7de5"
         },
         {
          "@id": "1d01d2fe-095c-43ea-9b32-fae5a0551e0a"
         }
        ],
        "ownedTextualRepresentation": [],
        "owner": null,
        "owningMembership": null,
        "owningNamespace": null,
        "owningRelationship": null,
        "qualifiedName": "jdehart_api_demo"
       }
      ],
      "text/plain": [
       "<IPython.core.display.JSON object>"
      ]
     },
     "execution_count": 20,
     "metadata": {
      "application/json": {
       "expanded": false,
       "root": "root"
      }
     },
     "output_type": "execute_result"
    }
   ],
   "source": [
    "from IPython.display import JSON\n",
    "JSON(elements_data)"
   ]
  },
  {
   "cell_type": "markdown",
   "id": "edf01a56-7464-4538-9311-55597cad5502",
   "metadata": {
    "kernel": "Python3"
   },
   "source": [
    "## Lets now  look at the elements in a table view"
   ]
  },
  {
   "cell_type": "code",
   "execution_count": 21,
   "id": "c9e948fc-92bf-4845-8afa-032efb45dd32",
   "metadata": {
    "kernel": "Python3",
    "tags": []
   },
   "outputs": [
    {
     "data": {
      "text/html": [
       "<div>\n",
       "<style scoped>\n",
       "    .dataframe tbody tr th:only-of-type {\n",
       "        vertical-align: middle;\n",
       "    }\n",
       "\n",
       "    .dataframe tbody tr th {\n",
       "        vertical-align: top;\n",
       "    }\n",
       "\n",
       "    .dataframe thead th {\n",
       "        text-align: right;\n",
       "    }\n",
       "</style>\n",
       "<table border=\"1\" class=\"dataframe\">\n",
       "  <thead>\n",
       "    <tr style=\"text-align: right;\">\n",
       "      <th></th>\n",
       "      <th>@type</th>\n",
       "      <th>@id</th>\n",
       "      <th>aliasId</th>\n",
       "      <th>documentation</th>\n",
       "      <th>documentationComment</th>\n",
       "      <th>effectiveName</th>\n",
       "      <th>endFeature</th>\n",
       "      <th>endOwningType</th>\n",
       "      <th>feature</th>\n",
       "      <th>featureMembership</th>\n",
       "      <th>...</th>\n",
       "      <th>function</th>\n",
       "      <th>isModelLevelEvaluable</th>\n",
       "      <th>parameter</th>\n",
       "      <th>result</th>\n",
       "      <th>filterCondition</th>\n",
       "      <th>attributeDefinition</th>\n",
       "      <th>importOwningNamespace</th>\n",
       "      <th>importedNamespace</th>\n",
       "      <th>isRecursive</th>\n",
       "      <th>ownedSuperclassing</th>\n",
       "    </tr>\n",
       "  </thead>\n",
       "  <tbody>\n",
       "    <tr>\n",
       "      <th>0</th>\n",
       "      <td>PartUsage</td>\n",
       "      <td>0972c835-c8b4-4fc2-a64d-c6700511a6eb</td>\n",
       "      <td>[]</td>\n",
       "      <td>[]</td>\n",
       "      <td>[]</td>\n",
       "      <td>None</td>\n",
       "      <td>[]</td>\n",
       "      <td>NaN</td>\n",
       "      <td>[]</td>\n",
       "      <td>[]</td>\n",
       "      <td>...</td>\n",
       "      <td>NaN</td>\n",
       "      <td>NaN</td>\n",
       "      <td>NaN</td>\n",
       "      <td>NaN</td>\n",
       "      <td>NaN</td>\n",
       "      <td>NaN</td>\n",
       "      <td>NaN</td>\n",
       "      <td>NaN</td>\n",
       "      <td>NaN</td>\n",
       "      <td>NaN</td>\n",
       "    </tr>\n",
       "    <tr>\n",
       "      <th>1</th>\n",
       "      <td>Feature</td>\n",
       "      <td>1425b2b9-cca1-41ca-857d-0558bc66c421</td>\n",
       "      <td>[]</td>\n",
       "      <td>[]</td>\n",
       "      <td>[]</td>\n",
       "      <td>None</td>\n",
       "      <td>[]</td>\n",
       "      <td>NaN</td>\n",
       "      <td>[]</td>\n",
       "      <td>[]</td>\n",
       "      <td>...</td>\n",
       "      <td>NaN</td>\n",
       "      <td>NaN</td>\n",
       "      <td>NaN</td>\n",
       "      <td>NaN</td>\n",
       "      <td>NaN</td>\n",
       "      <td>NaN</td>\n",
       "      <td>NaN</td>\n",
       "      <td>NaN</td>\n",
       "      <td>NaN</td>\n",
       "      <td>NaN</td>\n",
       "    </tr>\n",
       "    <tr>\n",
       "      <th>2</th>\n",
       "      <td>Membership</td>\n",
       "      <td>1d01d2fe-095c-43ea-9b32-fae5a0551e0a</td>\n",
       "      <td>[]</td>\n",
       "      <td>[]</td>\n",
       "      <td>[]</td>\n",
       "      <td>None</td>\n",
       "      <td>NaN</td>\n",
       "      <td>NaN</td>\n",
       "      <td>NaN</td>\n",
       "      <td>NaN</td>\n",
       "      <td>...</td>\n",
       "      <td>NaN</td>\n",
       "      <td>NaN</td>\n",
       "      <td>NaN</td>\n",
       "      <td>NaN</td>\n",
       "      <td>NaN</td>\n",
       "      <td>NaN</td>\n",
       "      <td>NaN</td>\n",
       "      <td>NaN</td>\n",
       "      <td>NaN</td>\n",
       "      <td>NaN</td>\n",
       "    </tr>\n",
       "    <tr>\n",
       "      <th>3</th>\n",
       "      <td>ReturnParameterMembership</td>\n",
       "      <td>21168e8b-0998-452f-a61e-0979004c9b91</td>\n",
       "      <td>[]</td>\n",
       "      <td>[]</td>\n",
       "      <td>[]</td>\n",
       "      <td>None</td>\n",
       "      <td>NaN</td>\n",
       "      <td>NaN</td>\n",
       "      <td>NaN</td>\n",
       "      <td>NaN</td>\n",
       "      <td>...</td>\n",
       "      <td>NaN</td>\n",
       "      <td>NaN</td>\n",
       "      <td>NaN</td>\n",
       "      <td>NaN</td>\n",
       "      <td>NaN</td>\n",
       "      <td>NaN</td>\n",
       "      <td>NaN</td>\n",
       "      <td>NaN</td>\n",
       "      <td>NaN</td>\n",
       "      <td>NaN</td>\n",
       "    </tr>\n",
       "    <tr>\n",
       "      <th>4</th>\n",
       "      <td>FeatureTyping</td>\n",
       "      <td>2308265e-ab4f-45a3-96e0-7efa7c913fb7</td>\n",
       "      <td>[]</td>\n",
       "      <td>[]</td>\n",
       "      <td>[]</td>\n",
       "      <td>None</td>\n",
       "      <td>NaN</td>\n",
       "      <td>NaN</td>\n",
       "      <td>NaN</td>\n",
       "      <td>NaN</td>\n",
       "      <td>...</td>\n",
       "      <td>NaN</td>\n",
       "      <td>NaN</td>\n",
       "      <td>NaN</td>\n",
       "      <td>NaN</td>\n",
       "      <td>NaN</td>\n",
       "      <td>NaN</td>\n",
       "      <td>NaN</td>\n",
       "      <td>NaN</td>\n",
       "      <td>NaN</td>\n",
       "      <td>NaN</td>\n",
       "    </tr>\n",
       "    <tr>\n",
       "      <th>5</th>\n",
       "      <td>FeatureValue</td>\n",
       "      <td>4bb80cc0-6319-4365-bb72-37bf875140b4</td>\n",
       "      <td>[]</td>\n",
       "      <td>[]</td>\n",
       "      <td>[]</td>\n",
       "      <td>None</td>\n",
       "      <td>NaN</td>\n",
       "      <td>NaN</td>\n",
       "      <td>NaN</td>\n",
       "      <td>NaN</td>\n",
       "      <td>...</td>\n",
       "      <td>NaN</td>\n",
       "      <td>NaN</td>\n",
       "      <td>NaN</td>\n",
       "      <td>NaN</td>\n",
       "      <td>NaN</td>\n",
       "      <td>NaN</td>\n",
       "      <td>NaN</td>\n",
       "      <td>NaN</td>\n",
       "      <td>NaN</td>\n",
       "      <td>NaN</td>\n",
       "    </tr>\n",
       "    <tr>\n",
       "      <th>6</th>\n",
       "      <td>FeatureMembership</td>\n",
       "      <td>4be53cb3-7b35-4c50-baf3-6eb8a6c82185</td>\n",
       "      <td>[]</td>\n",
       "      <td>[]</td>\n",
       "      <td>[]</td>\n",
       "      <td>None</td>\n",
       "      <td>NaN</td>\n",
       "      <td>NaN</td>\n",
       "      <td>NaN</td>\n",
       "      <td>NaN</td>\n",
       "      <td>...</td>\n",
       "      <td>NaN</td>\n",
       "      <td>NaN</td>\n",
       "      <td>NaN</td>\n",
       "      <td>NaN</td>\n",
       "      <td>NaN</td>\n",
       "      <td>NaN</td>\n",
       "      <td>NaN</td>\n",
       "      <td>NaN</td>\n",
       "      <td>NaN</td>\n",
       "      <td>NaN</td>\n",
       "    </tr>\n",
       "    <tr>\n",
       "      <th>7</th>\n",
       "      <td>FeatureMembership</td>\n",
       "      <td>4d605ba4-e094-4478-9292-357bcbfc8f57</td>\n",
       "      <td>[]</td>\n",
       "      <td>[]</td>\n",
       "      <td>[]</td>\n",
       "      <td>None</td>\n",
       "      <td>NaN</td>\n",
       "      <td>NaN</td>\n",
       "      <td>NaN</td>\n",
       "      <td>NaN</td>\n",
       "      <td>...</td>\n",
       "      <td>NaN</td>\n",
       "      <td>NaN</td>\n",
       "      <td>NaN</td>\n",
       "      <td>NaN</td>\n",
       "      <td>NaN</td>\n",
       "      <td>NaN</td>\n",
       "      <td>NaN</td>\n",
       "      <td>NaN</td>\n",
       "      <td>NaN</td>\n",
       "      <td>NaN</td>\n",
       "    </tr>\n",
       "    <tr>\n",
       "      <th>8</th>\n",
       "      <td>LiteralInteger</td>\n",
       "      <td>4f8aba64-0c7e-47bb-a47e-be4b2f21f85e</td>\n",
       "      <td>[]</td>\n",
       "      <td>[]</td>\n",
       "      <td>[]</td>\n",
       "      <td>None</td>\n",
       "      <td>[]</td>\n",
       "      <td>NaN</td>\n",
       "      <td>[{'@id': '1425b2b9-cca1-41ca-857d-0558bc66c421'}]</td>\n",
       "      <td>[{'@id': '21168e8b-0998-452f-a61e-0979004c9b91'}]</td>\n",
       "      <td>...</td>\n",
       "      <td>NaN</td>\n",
       "      <td>True</td>\n",
       "      <td>[{'@id': '1425b2b9-cca1-41ca-857d-0558bc66c421'}]</td>\n",
       "      <td>{'@id': '1425b2b9-cca1-41ca-857d-0558bc66c421'}</td>\n",
       "      <td>NaN</td>\n",
       "      <td>NaN</td>\n",
       "      <td>NaN</td>\n",
       "      <td>NaN</td>\n",
       "      <td>NaN</td>\n",
       "      <td>NaN</td>\n",
       "    </tr>\n",
       "    <tr>\n",
       "      <th>9</th>\n",
       "      <td>Package</td>\n",
       "      <td>57275bc8-5be3-4348-8327-d4ab58b8747b</td>\n",
       "      <td>[]</td>\n",
       "      <td>[]</td>\n",
       "      <td>[]</td>\n",
       "      <td>None</td>\n",
       "      <td>NaN</td>\n",
       "      <td>NaN</td>\n",
       "      <td>NaN</td>\n",
       "      <td>NaN</td>\n",
       "      <td>...</td>\n",
       "      <td>NaN</td>\n",
       "      <td>NaN</td>\n",
       "      <td>NaN</td>\n",
       "      <td>NaN</td>\n",
       "      <td>[]</td>\n",
       "      <td>NaN</td>\n",
       "      <td>NaN</td>\n",
       "      <td>NaN</td>\n",
       "      <td>NaN</td>\n",
       "      <td>NaN</td>\n",
       "    </tr>\n",
       "    <tr>\n",
       "      <th>10</th>\n",
       "      <td>PartUsage</td>\n",
       "      <td>5cc4638c-a49c-44c1-9a67-cd87e784a1f2</td>\n",
       "      <td>[]</td>\n",
       "      <td>[]</td>\n",
       "      <td>[]</td>\n",
       "      <td>None</td>\n",
       "      <td>[]</td>\n",
       "      <td>NaN</td>\n",
       "      <td>[{'@id': '683846d6-82c1-4c55-b105-349f29831972'}]</td>\n",
       "      <td>[{'@id': '4d605ba4-e094-4478-9292-357bcbfc8f57'}]</td>\n",
       "      <td>...</td>\n",
       "      <td>NaN</td>\n",
       "      <td>NaN</td>\n",
       "      <td>NaN</td>\n",
       "      <td>NaN</td>\n",
       "      <td>NaN</td>\n",
       "      <td>NaN</td>\n",
       "      <td>NaN</td>\n",
       "      <td>NaN</td>\n",
       "      <td>NaN</td>\n",
       "      <td>NaN</td>\n",
       "    </tr>\n",
       "    <tr>\n",
       "      <th>11</th>\n",
       "      <td>AttributeUsage</td>\n",
       "      <td>683846d6-82c1-4c55-b105-349f29831972</td>\n",
       "      <td>[]</td>\n",
       "      <td>[]</td>\n",
       "      <td>[]</td>\n",
       "      <td>None</td>\n",
       "      <td>[]</td>\n",
       "      <td>NaN</td>\n",
       "      <td>[{'@id': '4f8aba64-0c7e-47bb-a47e-be4b2f21f85e'}]</td>\n",
       "      <td>[]</td>\n",
       "      <td>...</td>\n",
       "      <td>NaN</td>\n",
       "      <td>NaN</td>\n",
       "      <td>NaN</td>\n",
       "      <td>NaN</td>\n",
       "      <td>NaN</td>\n",
       "      <td>[{'@id': '7e2e7a0b-d6a5-4c2a-805a-de9352525a67'}]</td>\n",
       "      <td>NaN</td>\n",
       "      <td>NaN</td>\n",
       "      <td>NaN</td>\n",
       "      <td>NaN</td>\n",
       "    </tr>\n",
       "    <tr>\n",
       "      <th>12</th>\n",
       "      <td>Import</td>\n",
       "      <td>73007c91-e4b8-45cd-993e-c8a527742992</td>\n",
       "      <td>[]</td>\n",
       "      <td>[]</td>\n",
       "      <td>[]</td>\n",
       "      <td>None</td>\n",
       "      <td>NaN</td>\n",
       "      <td>NaN</td>\n",
       "      <td>NaN</td>\n",
       "      <td>NaN</td>\n",
       "      <td>...</td>\n",
       "      <td>NaN</td>\n",
       "      <td>NaN</td>\n",
       "      <td>NaN</td>\n",
       "      <td>NaN</td>\n",
       "      <td>NaN</td>\n",
       "      <td>NaN</td>\n",
       "      <td>{'@id': 'c07d1ec4-2c50-4a0a-9f4b-73659e5cd90e'}</td>\n",
       "      <td>{'@id': '96bd39de-8433-4d32-9107-b10c585f96b2'}</td>\n",
       "      <td>False</td>\n",
       "      <td>NaN</td>\n",
       "    </tr>\n",
       "    <tr>\n",
       "      <th>13</th>\n",
       "      <td>DataType</td>\n",
       "      <td>7e2e7a0b-d6a5-4c2a-805a-de9352525a67</td>\n",
       "      <td>[]</td>\n",
       "      <td>[]</td>\n",
       "      <td>[]</td>\n",
       "      <td>None</td>\n",
       "      <td>[]</td>\n",
       "      <td>NaN</td>\n",
       "      <td>[]</td>\n",
       "      <td>[]</td>\n",
       "      <td>...</td>\n",
       "      <td>NaN</td>\n",
       "      <td>NaN</td>\n",
       "      <td>NaN</td>\n",
       "      <td>NaN</td>\n",
       "      <td>NaN</td>\n",
       "      <td>NaN</td>\n",
       "      <td>NaN</td>\n",
       "      <td>NaN</td>\n",
       "      <td>NaN</td>\n",
       "      <td>[]</td>\n",
       "    </tr>\n",
       "    <tr>\n",
       "      <th>14</th>\n",
       "      <td>FeatureMembership</td>\n",
       "      <td>7e59c404-3920-489b-b2c5-cd82a231ff57</td>\n",
       "      <td>[]</td>\n",
       "      <td>[]</td>\n",
       "      <td>[]</td>\n",
       "      <td>None</td>\n",
       "      <td>NaN</td>\n",
       "      <td>NaN</td>\n",
       "      <td>NaN</td>\n",
       "      <td>NaN</td>\n",
       "      <td>...</td>\n",
       "      <td>NaN</td>\n",
       "      <td>NaN</td>\n",
       "      <td>NaN</td>\n",
       "      <td>NaN</td>\n",
       "      <td>NaN</td>\n",
       "      <td>NaN</td>\n",
       "      <td>NaN</td>\n",
       "      <td>NaN</td>\n",
       "      <td>NaN</td>\n",
       "      <td>NaN</td>\n",
       "    </tr>\n",
       "    <tr>\n",
       "      <th>15</th>\n",
       "      <td>Membership</td>\n",
       "      <td>8879ab84-e2cf-4c89-9a1a-c3931d0d7de5</td>\n",
       "      <td>[]</td>\n",
       "      <td>[]</td>\n",
       "      <td>[]</td>\n",
       "      <td>None</td>\n",
       "      <td>NaN</td>\n",
       "      <td>NaN</td>\n",
       "      <td>NaN</td>\n",
       "      <td>NaN</td>\n",
       "      <td>...</td>\n",
       "      <td>NaN</td>\n",
       "      <td>NaN</td>\n",
       "      <td>NaN</td>\n",
       "      <td>NaN</td>\n",
       "      <td>NaN</td>\n",
       "      <td>NaN</td>\n",
       "      <td>NaN</td>\n",
       "      <td>NaN</td>\n",
       "      <td>NaN</td>\n",
       "      <td>NaN</td>\n",
       "    </tr>\n",
       "    <tr>\n",
       "      <th>16</th>\n",
       "      <td>Membership</td>\n",
       "      <td>942d536d-7a54-4ddb-a5a1-9cefeeffc48b</td>\n",
       "      <td>[]</td>\n",
       "      <td>[]</td>\n",
       "      <td>[]</td>\n",
       "      <td>None</td>\n",
       "      <td>NaN</td>\n",
       "      <td>NaN</td>\n",
       "      <td>NaN</td>\n",
       "      <td>NaN</td>\n",
       "      <td>...</td>\n",
       "      <td>NaN</td>\n",
       "      <td>NaN</td>\n",
       "      <td>NaN</td>\n",
       "      <td>NaN</td>\n",
       "      <td>NaN</td>\n",
       "      <td>NaN</td>\n",
       "      <td>NaN</td>\n",
       "      <td>NaN</td>\n",
       "      <td>NaN</td>\n",
       "      <td>NaN</td>\n",
       "    </tr>\n",
       "    <tr>\n",
       "      <th>17</th>\n",
       "      <td>Package</td>\n",
       "      <td>96bd39de-8433-4d32-9107-b10c585f96b2</td>\n",
       "      <td>[]</td>\n",
       "      <td>[]</td>\n",
       "      <td>[]</td>\n",
       "      <td>None</td>\n",
       "      <td>NaN</td>\n",
       "      <td>NaN</td>\n",
       "      <td>NaN</td>\n",
       "      <td>NaN</td>\n",
       "      <td>...</td>\n",
       "      <td>NaN</td>\n",
       "      <td>NaN</td>\n",
       "      <td>NaN</td>\n",
       "      <td>NaN</td>\n",
       "      <td>[]</td>\n",
       "      <td>NaN</td>\n",
       "      <td>NaN</td>\n",
       "      <td>NaN</td>\n",
       "      <td>NaN</td>\n",
       "      <td>NaN</td>\n",
       "    </tr>\n",
       "    <tr>\n",
       "      <th>18</th>\n",
       "      <td>PartUsage</td>\n",
       "      <td>982bcc6e-4c29-48a9-8391-e6ef9095f50f</td>\n",
       "      <td>[]</td>\n",
       "      <td>[]</td>\n",
       "      <td>[]</td>\n",
       "      <td>None</td>\n",
       "      <td>[]</td>\n",
       "      <td>NaN</td>\n",
       "      <td>[{'@id': '0972c835-c8b4-4fc2-a64d-c6700511a6eb...</td>\n",
       "      <td>[{'@id': '4be53cb3-7b35-4c50-baf3-6eb8a6c82185...</td>\n",
       "      <td>...</td>\n",
       "      <td>NaN</td>\n",
       "      <td>NaN</td>\n",
       "      <td>NaN</td>\n",
       "      <td>NaN</td>\n",
       "      <td>NaN</td>\n",
       "      <td>NaN</td>\n",
       "      <td>NaN</td>\n",
       "      <td>NaN</td>\n",
       "      <td>NaN</td>\n",
       "      <td>NaN</td>\n",
       "    </tr>\n",
       "    <tr>\n",
       "      <th>19</th>\n",
       "      <td>PartUsage</td>\n",
       "      <td>9fd42cfc-e2a0-47d7-8a88-f47c06479a27</td>\n",
       "      <td>[]</td>\n",
       "      <td>[]</td>\n",
       "      <td>[]</td>\n",
       "      <td>None</td>\n",
       "      <td>[]</td>\n",
       "      <td>NaN</td>\n",
       "      <td>[]</td>\n",
       "      <td>[]</td>\n",
       "      <td>...</td>\n",
       "      <td>NaN</td>\n",
       "      <td>NaN</td>\n",
       "      <td>NaN</td>\n",
       "      <td>NaN</td>\n",
       "      <td>NaN</td>\n",
       "      <td>NaN</td>\n",
       "      <td>NaN</td>\n",
       "      <td>NaN</td>\n",
       "      <td>NaN</td>\n",
       "      <td>NaN</td>\n",
       "    </tr>\n",
       "    <tr>\n",
       "      <th>20</th>\n",
       "      <td>Package</td>\n",
       "      <td>c07d1ec4-2c50-4a0a-9f4b-73659e5cd90e</td>\n",
       "      <td>[]</td>\n",
       "      <td>[]</td>\n",
       "      <td>[]</td>\n",
       "      <td>None</td>\n",
       "      <td>NaN</td>\n",
       "      <td>NaN</td>\n",
       "      <td>NaN</td>\n",
       "      <td>NaN</td>\n",
       "      <td>...</td>\n",
       "      <td>NaN</td>\n",
       "      <td>NaN</td>\n",
       "      <td>NaN</td>\n",
       "      <td>NaN</td>\n",
       "      <td>[]</td>\n",
       "      <td>NaN</td>\n",
       "      <td>NaN</td>\n",
       "      <td>NaN</td>\n",
       "      <td>NaN</td>\n",
       "      <td>NaN</td>\n",
       "    </tr>\n",
       "  </tbody>\n",
       "</table>\n",
       "<p>21 rows × 128 columns</p>\n",
       "</div>"
      ],
      "text/plain": [
       "                        @type                                   @id aliasId  \\\n",
       "0                   PartUsage  0972c835-c8b4-4fc2-a64d-c6700511a6eb      []   \n",
       "1                     Feature  1425b2b9-cca1-41ca-857d-0558bc66c421      []   \n",
       "2                  Membership  1d01d2fe-095c-43ea-9b32-fae5a0551e0a      []   \n",
       "3   ReturnParameterMembership  21168e8b-0998-452f-a61e-0979004c9b91      []   \n",
       "4               FeatureTyping  2308265e-ab4f-45a3-96e0-7efa7c913fb7      []   \n",
       "5                FeatureValue  4bb80cc0-6319-4365-bb72-37bf875140b4      []   \n",
       "6           FeatureMembership  4be53cb3-7b35-4c50-baf3-6eb8a6c82185      []   \n",
       "7           FeatureMembership  4d605ba4-e094-4478-9292-357bcbfc8f57      []   \n",
       "8              LiteralInteger  4f8aba64-0c7e-47bb-a47e-be4b2f21f85e      []   \n",
       "9                     Package  57275bc8-5be3-4348-8327-d4ab58b8747b      []   \n",
       "10                  PartUsage  5cc4638c-a49c-44c1-9a67-cd87e784a1f2      []   \n",
       "11             AttributeUsage  683846d6-82c1-4c55-b105-349f29831972      []   \n",
       "12                     Import  73007c91-e4b8-45cd-993e-c8a527742992      []   \n",
       "13                   DataType  7e2e7a0b-d6a5-4c2a-805a-de9352525a67      []   \n",
       "14          FeatureMembership  7e59c404-3920-489b-b2c5-cd82a231ff57      []   \n",
       "15                 Membership  8879ab84-e2cf-4c89-9a1a-c3931d0d7de5      []   \n",
       "16                 Membership  942d536d-7a54-4ddb-a5a1-9cefeeffc48b      []   \n",
       "17                    Package  96bd39de-8433-4d32-9107-b10c585f96b2      []   \n",
       "18                  PartUsage  982bcc6e-4c29-48a9-8391-e6ef9095f50f      []   \n",
       "19                  PartUsage  9fd42cfc-e2a0-47d7-8a88-f47c06479a27      []   \n",
       "20                    Package  c07d1ec4-2c50-4a0a-9f4b-73659e5cd90e      []   \n",
       "\n",
       "   documentation documentationComment effectiveName endFeature  endOwningType  \\\n",
       "0             []                   []          None         []            NaN   \n",
       "1             []                   []          None         []            NaN   \n",
       "2             []                   []          None        NaN            NaN   \n",
       "3             []                   []          None        NaN            NaN   \n",
       "4             []                   []          None        NaN            NaN   \n",
       "5             []                   []          None        NaN            NaN   \n",
       "6             []                   []          None        NaN            NaN   \n",
       "7             []                   []          None        NaN            NaN   \n",
       "8             []                   []          None         []            NaN   \n",
       "9             []                   []          None        NaN            NaN   \n",
       "10            []                   []          None         []            NaN   \n",
       "11            []                   []          None         []            NaN   \n",
       "12            []                   []          None        NaN            NaN   \n",
       "13            []                   []          None         []            NaN   \n",
       "14            []                   []          None        NaN            NaN   \n",
       "15            []                   []          None        NaN            NaN   \n",
       "16            []                   []          None        NaN            NaN   \n",
       "17            []                   []          None        NaN            NaN   \n",
       "18            []                   []          None         []            NaN   \n",
       "19            []                   []          None         []            NaN   \n",
       "20            []                   []          None        NaN            NaN   \n",
       "\n",
       "                                              feature  \\\n",
       "0                                                  []   \n",
       "1                                                  []   \n",
       "2                                                 NaN   \n",
       "3                                                 NaN   \n",
       "4                                                 NaN   \n",
       "5                                                 NaN   \n",
       "6                                                 NaN   \n",
       "7                                                 NaN   \n",
       "8   [{'@id': '1425b2b9-cca1-41ca-857d-0558bc66c421'}]   \n",
       "9                                                 NaN   \n",
       "10  [{'@id': '683846d6-82c1-4c55-b105-349f29831972'}]   \n",
       "11  [{'@id': '4f8aba64-0c7e-47bb-a47e-be4b2f21f85e'}]   \n",
       "12                                                NaN   \n",
       "13                                                 []   \n",
       "14                                                NaN   \n",
       "15                                                NaN   \n",
       "16                                                NaN   \n",
       "17                                                NaN   \n",
       "18  [{'@id': '0972c835-c8b4-4fc2-a64d-c6700511a6eb...   \n",
       "19                                                 []   \n",
       "20                                                NaN   \n",
       "\n",
       "                                    featureMembership  ... function  \\\n",
       "0                                                  []  ...      NaN   \n",
       "1                                                  []  ...      NaN   \n",
       "2                                                 NaN  ...      NaN   \n",
       "3                                                 NaN  ...      NaN   \n",
       "4                                                 NaN  ...      NaN   \n",
       "5                                                 NaN  ...      NaN   \n",
       "6                                                 NaN  ...      NaN   \n",
       "7                                                 NaN  ...      NaN   \n",
       "8   [{'@id': '21168e8b-0998-452f-a61e-0979004c9b91'}]  ...      NaN   \n",
       "9                                                 NaN  ...      NaN   \n",
       "10  [{'@id': '4d605ba4-e094-4478-9292-357bcbfc8f57'}]  ...      NaN   \n",
       "11                                                 []  ...      NaN   \n",
       "12                                                NaN  ...      NaN   \n",
       "13                                                 []  ...      NaN   \n",
       "14                                                NaN  ...      NaN   \n",
       "15                                                NaN  ...      NaN   \n",
       "16                                                NaN  ...      NaN   \n",
       "17                                                NaN  ...      NaN   \n",
       "18  [{'@id': '4be53cb3-7b35-4c50-baf3-6eb8a6c82185...  ...      NaN   \n",
       "19                                                 []  ...      NaN   \n",
       "20                                                NaN  ...      NaN   \n",
       "\n",
       "   isModelLevelEvaluable                                          parameter  \\\n",
       "0                    NaN                                                NaN   \n",
       "1                    NaN                                                NaN   \n",
       "2                    NaN                                                NaN   \n",
       "3                    NaN                                                NaN   \n",
       "4                    NaN                                                NaN   \n",
       "5                    NaN                                                NaN   \n",
       "6                    NaN                                                NaN   \n",
       "7                    NaN                                                NaN   \n",
       "8                   True  [{'@id': '1425b2b9-cca1-41ca-857d-0558bc66c421'}]   \n",
       "9                    NaN                                                NaN   \n",
       "10                   NaN                                                NaN   \n",
       "11                   NaN                                                NaN   \n",
       "12                   NaN                                                NaN   \n",
       "13                   NaN                                                NaN   \n",
       "14                   NaN                                                NaN   \n",
       "15                   NaN                                                NaN   \n",
       "16                   NaN                                                NaN   \n",
       "17                   NaN                                                NaN   \n",
       "18                   NaN                                                NaN   \n",
       "19                   NaN                                                NaN   \n",
       "20                   NaN                                                NaN   \n",
       "\n",
       "                                             result filterCondition  \\\n",
       "0                                               NaN             NaN   \n",
       "1                                               NaN             NaN   \n",
       "2                                               NaN             NaN   \n",
       "3                                               NaN             NaN   \n",
       "4                                               NaN             NaN   \n",
       "5                                               NaN             NaN   \n",
       "6                                               NaN             NaN   \n",
       "7                                               NaN             NaN   \n",
       "8   {'@id': '1425b2b9-cca1-41ca-857d-0558bc66c421'}             NaN   \n",
       "9                                               NaN              []   \n",
       "10                                              NaN             NaN   \n",
       "11                                              NaN             NaN   \n",
       "12                                              NaN             NaN   \n",
       "13                                              NaN             NaN   \n",
       "14                                              NaN             NaN   \n",
       "15                                              NaN             NaN   \n",
       "16                                              NaN             NaN   \n",
       "17                                              NaN              []   \n",
       "18                                              NaN             NaN   \n",
       "19                                              NaN             NaN   \n",
       "20                                              NaN              []   \n",
       "\n",
       "                                  attributeDefinition  \\\n",
       "0                                                 NaN   \n",
       "1                                                 NaN   \n",
       "2                                                 NaN   \n",
       "3                                                 NaN   \n",
       "4                                                 NaN   \n",
       "5                                                 NaN   \n",
       "6                                                 NaN   \n",
       "7                                                 NaN   \n",
       "8                                                 NaN   \n",
       "9                                                 NaN   \n",
       "10                                                NaN   \n",
       "11  [{'@id': '7e2e7a0b-d6a5-4c2a-805a-de9352525a67'}]   \n",
       "12                                                NaN   \n",
       "13                                                NaN   \n",
       "14                                                NaN   \n",
       "15                                                NaN   \n",
       "16                                                NaN   \n",
       "17                                                NaN   \n",
       "18                                                NaN   \n",
       "19                                                NaN   \n",
       "20                                                NaN   \n",
       "\n",
       "                              importOwningNamespace  \\\n",
       "0                                               NaN   \n",
       "1                                               NaN   \n",
       "2                                               NaN   \n",
       "3                                               NaN   \n",
       "4                                               NaN   \n",
       "5                                               NaN   \n",
       "6                                               NaN   \n",
       "7                                               NaN   \n",
       "8                                               NaN   \n",
       "9                                               NaN   \n",
       "10                                              NaN   \n",
       "11                                              NaN   \n",
       "12  {'@id': 'c07d1ec4-2c50-4a0a-9f4b-73659e5cd90e'}   \n",
       "13                                              NaN   \n",
       "14                                              NaN   \n",
       "15                                              NaN   \n",
       "16                                              NaN   \n",
       "17                                              NaN   \n",
       "18                                              NaN   \n",
       "19                                              NaN   \n",
       "20                                              NaN   \n",
       "\n",
       "                                  importedNamespace isRecursive  \\\n",
       "0                                               NaN         NaN   \n",
       "1                                               NaN         NaN   \n",
       "2                                               NaN         NaN   \n",
       "3                                               NaN         NaN   \n",
       "4                                               NaN         NaN   \n",
       "5                                               NaN         NaN   \n",
       "6                                               NaN         NaN   \n",
       "7                                               NaN         NaN   \n",
       "8                                               NaN         NaN   \n",
       "9                                               NaN         NaN   \n",
       "10                                              NaN         NaN   \n",
       "11                                              NaN         NaN   \n",
       "12  {'@id': '96bd39de-8433-4d32-9107-b10c585f96b2'}       False   \n",
       "13                                              NaN         NaN   \n",
       "14                                              NaN         NaN   \n",
       "15                                              NaN         NaN   \n",
       "16                                              NaN         NaN   \n",
       "17                                              NaN         NaN   \n",
       "18                                              NaN         NaN   \n",
       "19                                              NaN         NaN   \n",
       "20                                              NaN         NaN   \n",
       "\n",
       "   ownedSuperclassing  \n",
       "0                 NaN  \n",
       "1                 NaN  \n",
       "2                 NaN  \n",
       "3                 NaN  \n",
       "4                 NaN  \n",
       "5                 NaN  \n",
       "6                 NaN  \n",
       "7                 NaN  \n",
       "8                 NaN  \n",
       "9                 NaN  \n",
       "10                NaN  \n",
       "11                NaN  \n",
       "12                NaN  \n",
       "13                 []  \n",
       "14                NaN  \n",
       "15                NaN  \n",
       "16                NaN  \n",
       "17                NaN  \n",
       "18                NaN  \n",
       "19                NaN  \n",
       "20                NaN  \n",
       "\n",
       "[21 rows x 128 columns]"
      ]
     },
     "execution_count": 21,
     "metadata": {},
     "output_type": "execute_result"
    }
   ],
   "source": [
    "import pandas as pd\n",
    "df = pd.DataFrame(elements_data)\n",
    "df"
   ]
  },
  {
   "cell_type": "markdown",
   "id": "c39a0683-1b92-4cb7-897a-c0597974d01c",
   "metadata": {
    "kernel": "Python3"
   },
   "source": [
    "## Thats a big table... lets narrow it down a bit"
   ]
  },
  {
   "cell_type": "code",
   "execution_count": 22,
   "id": "c5d514f0-5a8d-4d15-a461-5bb2dc312371",
   "metadata": {
    "kernel": "Python3",
    "tags": []
   },
   "outputs": [
    {
     "data": {
      "text/html": [
       "<div>\n",
       "<style scoped>\n",
       "    .dataframe tbody tr th:only-of-type {\n",
       "        vertical-align: middle;\n",
       "    }\n",
       "\n",
       "    .dataframe tbody tr th {\n",
       "        vertical-align: top;\n",
       "    }\n",
       "\n",
       "    .dataframe thead th {\n",
       "        text-align: right;\n",
       "    }\n",
       "</style>\n",
       "<table border=\"1\" class=\"dataframe\">\n",
       "  <thead>\n",
       "    <tr style=\"text-align: right;\">\n",
       "      <th></th>\n",
       "      <th>@id</th>\n",
       "      <th>@type</th>\n",
       "      <th>name</th>\n",
       "      <th>owningFeatureMembership</th>\n",
       "      <th>owningRelatedElement</th>\n",
       "      <th>result</th>\n",
       "    </tr>\n",
       "  </thead>\n",
       "  <tbody>\n",
       "    <tr>\n",
       "      <th>0</th>\n",
       "      <td>0972c835-c8b4-4fc2-a64d-c6700511a6eb</td>\n",
       "      <td>PartUsage</td>\n",
       "      <td>C</td>\n",
       "      <td>{'@id': '4be53cb3-7b35-4c50-baf3-6eb8a6c82185'}</td>\n",
       "      <td>NaN</td>\n",
       "      <td>NaN</td>\n",
       "    </tr>\n",
       "    <tr>\n",
       "      <th>1</th>\n",
       "      <td>1425b2b9-cca1-41ca-857d-0558bc66c421</td>\n",
       "      <td>Feature</td>\n",
       "      <td>$result</td>\n",
       "      <td>{'@id': '21168e8b-0998-452f-a61e-0979004c9b91'}</td>\n",
       "      <td>NaN</td>\n",
       "      <td>NaN</td>\n",
       "    </tr>\n",
       "    <tr>\n",
       "      <th>2</th>\n",
       "      <td>1d01d2fe-095c-43ea-9b32-fae5a0551e0a</td>\n",
       "      <td>Membership</td>\n",
       "      <td>None</td>\n",
       "      <td>NaN</td>\n",
       "      <td>{'@id': 'c07d1ec4-2c50-4a0a-9f4b-73659e5cd90e'}</td>\n",
       "      <td>NaN</td>\n",
       "    </tr>\n",
       "    <tr>\n",
       "      <th>3</th>\n",
       "      <td>21168e8b-0998-452f-a61e-0979004c9b91</td>\n",
       "      <td>ReturnParameterMembership</td>\n",
       "      <td>None</td>\n",
       "      <td>NaN</td>\n",
       "      <td>{'@id': '4f8aba64-0c7e-47bb-a47e-be4b2f21f85e'}</td>\n",
       "      <td>NaN</td>\n",
       "    </tr>\n",
       "    <tr>\n",
       "      <th>4</th>\n",
       "      <td>2308265e-ab4f-45a3-96e0-7efa7c913fb7</td>\n",
       "      <td>FeatureTyping</td>\n",
       "      <td>None</td>\n",
       "      <td>NaN</td>\n",
       "      <td>{'@id': '683846d6-82c1-4c55-b105-349f29831972'}</td>\n",
       "      <td>NaN</td>\n",
       "    </tr>\n",
       "    <tr>\n",
       "      <th>5</th>\n",
       "      <td>4bb80cc0-6319-4365-bb72-37bf875140b4</td>\n",
       "      <td>FeatureValue</td>\n",
       "      <td>None</td>\n",
       "      <td>NaN</td>\n",
       "      <td>{'@id': '683846d6-82c1-4c55-b105-349f29831972'}</td>\n",
       "      <td>NaN</td>\n",
       "    </tr>\n",
       "    <tr>\n",
       "      <th>6</th>\n",
       "      <td>4be53cb3-7b35-4c50-baf3-6eb8a6c82185</td>\n",
       "      <td>FeatureMembership</td>\n",
       "      <td>None</td>\n",
       "      <td>NaN</td>\n",
       "      <td>{'@id': '982bcc6e-4c29-48a9-8391-e6ef9095f50f'}</td>\n",
       "      <td>NaN</td>\n",
       "    </tr>\n",
       "    <tr>\n",
       "      <th>7</th>\n",
       "      <td>4d605ba4-e094-4478-9292-357bcbfc8f57</td>\n",
       "      <td>FeatureMembership</td>\n",
       "      <td>None</td>\n",
       "      <td>NaN</td>\n",
       "      <td>{'@id': '5cc4638c-a49c-44c1-9a67-cd87e784a1f2'}</td>\n",
       "      <td>NaN</td>\n",
       "    </tr>\n",
       "    <tr>\n",
       "      <th>8</th>\n",
       "      <td>4f8aba64-0c7e-47bb-a47e-be4b2f21f85e</td>\n",
       "      <td>LiteralInteger</td>\n",
       "      <td>None</td>\n",
       "      <td>None</td>\n",
       "      <td>NaN</td>\n",
       "      <td>{'@id': '1425b2b9-cca1-41ca-857d-0558bc66c421'}</td>\n",
       "    </tr>\n",
       "    <tr>\n",
       "      <th>9</th>\n",
       "      <td>57275bc8-5be3-4348-8327-d4ab58b8747b</td>\n",
       "      <td>Package</td>\n",
       "      <td>internal</td>\n",
       "      <td>NaN</td>\n",
       "      <td>NaN</td>\n",
       "      <td>NaN</td>\n",
       "    </tr>\n",
       "    <tr>\n",
       "      <th>10</th>\n",
       "      <td>5cc4638c-a49c-44c1-9a67-cd87e784a1f2</td>\n",
       "      <td>PartUsage</td>\n",
       "      <td>A</td>\n",
       "      <td>None</td>\n",
       "      <td>NaN</td>\n",
       "      <td>NaN</td>\n",
       "    </tr>\n",
       "    <tr>\n",
       "      <th>11</th>\n",
       "      <td>683846d6-82c1-4c55-b105-349f29831972</td>\n",
       "      <td>AttributeUsage</td>\n",
       "      <td>mass</td>\n",
       "      <td>{'@id': '4d605ba4-e094-4478-9292-357bcbfc8f57'}</td>\n",
       "      <td>NaN</td>\n",
       "      <td>NaN</td>\n",
       "    </tr>\n",
       "    <tr>\n",
       "      <th>12</th>\n",
       "      <td>73007c91-e4b8-45cd-993e-c8a527742992</td>\n",
       "      <td>Import</td>\n",
       "      <td>None</td>\n",
       "      <td>NaN</td>\n",
       "      <td>{'@id': 'c07d1ec4-2c50-4a0a-9f4b-73659e5cd90e'}</td>\n",
       "      <td>NaN</td>\n",
       "    </tr>\n",
       "    <tr>\n",
       "      <th>13</th>\n",
       "      <td>7e2e7a0b-d6a5-4c2a-805a-de9352525a67</td>\n",
       "      <td>DataType</td>\n",
       "      <td>Real</td>\n",
       "      <td>NaN</td>\n",
       "      <td>NaN</td>\n",
       "      <td>NaN</td>\n",
       "    </tr>\n",
       "    <tr>\n",
       "      <th>14</th>\n",
       "      <td>7e59c404-3920-489b-b2c5-cd82a231ff57</td>\n",
       "      <td>FeatureMembership</td>\n",
       "      <td>None</td>\n",
       "      <td>NaN</td>\n",
       "      <td>{'@id': '982bcc6e-4c29-48a9-8391-e6ef9095f50f'}</td>\n",
       "      <td>NaN</td>\n",
       "    </tr>\n",
       "    <tr>\n",
       "      <th>15</th>\n",
       "      <td>8879ab84-e2cf-4c89-9a1a-c3931d0d7de5</td>\n",
       "      <td>Membership</td>\n",
       "      <td>None</td>\n",
       "      <td>NaN</td>\n",
       "      <td>{'@id': 'c07d1ec4-2c50-4a0a-9f4b-73659e5cd90e'}</td>\n",
       "      <td>NaN</td>\n",
       "    </tr>\n",
       "    <tr>\n",
       "      <th>16</th>\n",
       "      <td>942d536d-7a54-4ddb-a5a1-9cefeeffc48b</td>\n",
       "      <td>Membership</td>\n",
       "      <td>None</td>\n",
       "      <td>NaN</td>\n",
       "      <td>{'@id': '57275bc8-5be3-4348-8327-d4ab58b8747b'}</td>\n",
       "      <td>NaN</td>\n",
       "    </tr>\n",
       "    <tr>\n",
       "      <th>17</th>\n",
       "      <td>96bd39de-8433-4d32-9107-b10c585f96b2</td>\n",
       "      <td>Package</td>\n",
       "      <td>ScalarValues</td>\n",
       "      <td>NaN</td>\n",
       "      <td>NaN</td>\n",
       "      <td>NaN</td>\n",
       "    </tr>\n",
       "    <tr>\n",
       "      <th>18</th>\n",
       "      <td>982bcc6e-4c29-48a9-8391-e6ef9095f50f</td>\n",
       "      <td>PartUsage</td>\n",
       "      <td>B</td>\n",
       "      <td>None</td>\n",
       "      <td>NaN</td>\n",
       "      <td>NaN</td>\n",
       "    </tr>\n",
       "    <tr>\n",
       "      <th>19</th>\n",
       "      <td>9fd42cfc-e2a0-47d7-8a88-f47c06479a27</td>\n",
       "      <td>PartUsage</td>\n",
       "      <td>D</td>\n",
       "      <td>{'@id': '7e59c404-3920-489b-b2c5-cd82a231ff57'}</td>\n",
       "      <td>NaN</td>\n",
       "      <td>NaN</td>\n",
       "    </tr>\n",
       "    <tr>\n",
       "      <th>20</th>\n",
       "      <td>c07d1ec4-2c50-4a0a-9f4b-73659e5cd90e</td>\n",
       "      <td>Package</td>\n",
       "      <td>jdehart_api_demo</td>\n",
       "      <td>NaN</td>\n",
       "      <td>NaN</td>\n",
       "      <td>NaN</td>\n",
       "    </tr>\n",
       "  </tbody>\n",
       "</table>\n",
       "</div>"
      ],
      "text/plain": [
       "                                     @id                      @type  \\\n",
       "0   0972c835-c8b4-4fc2-a64d-c6700511a6eb                  PartUsage   \n",
       "1   1425b2b9-cca1-41ca-857d-0558bc66c421                    Feature   \n",
       "2   1d01d2fe-095c-43ea-9b32-fae5a0551e0a                 Membership   \n",
       "3   21168e8b-0998-452f-a61e-0979004c9b91  ReturnParameterMembership   \n",
       "4   2308265e-ab4f-45a3-96e0-7efa7c913fb7              FeatureTyping   \n",
       "5   4bb80cc0-6319-4365-bb72-37bf875140b4               FeatureValue   \n",
       "6   4be53cb3-7b35-4c50-baf3-6eb8a6c82185          FeatureMembership   \n",
       "7   4d605ba4-e094-4478-9292-357bcbfc8f57          FeatureMembership   \n",
       "8   4f8aba64-0c7e-47bb-a47e-be4b2f21f85e             LiteralInteger   \n",
       "9   57275bc8-5be3-4348-8327-d4ab58b8747b                    Package   \n",
       "10  5cc4638c-a49c-44c1-9a67-cd87e784a1f2                  PartUsage   \n",
       "11  683846d6-82c1-4c55-b105-349f29831972             AttributeUsage   \n",
       "12  73007c91-e4b8-45cd-993e-c8a527742992                     Import   \n",
       "13  7e2e7a0b-d6a5-4c2a-805a-de9352525a67                   DataType   \n",
       "14  7e59c404-3920-489b-b2c5-cd82a231ff57          FeatureMembership   \n",
       "15  8879ab84-e2cf-4c89-9a1a-c3931d0d7de5                 Membership   \n",
       "16  942d536d-7a54-4ddb-a5a1-9cefeeffc48b                 Membership   \n",
       "17  96bd39de-8433-4d32-9107-b10c585f96b2                    Package   \n",
       "18  982bcc6e-4c29-48a9-8391-e6ef9095f50f                  PartUsage   \n",
       "19  9fd42cfc-e2a0-47d7-8a88-f47c06479a27                  PartUsage   \n",
       "20  c07d1ec4-2c50-4a0a-9f4b-73659e5cd90e                    Package   \n",
       "\n",
       "                name                          owningFeatureMembership  \\\n",
       "0                  C  {'@id': '4be53cb3-7b35-4c50-baf3-6eb8a6c82185'}   \n",
       "1            $result  {'@id': '21168e8b-0998-452f-a61e-0979004c9b91'}   \n",
       "2               None                                              NaN   \n",
       "3               None                                              NaN   \n",
       "4               None                                              NaN   \n",
       "5               None                                              NaN   \n",
       "6               None                                              NaN   \n",
       "7               None                                              NaN   \n",
       "8               None                                             None   \n",
       "9           internal                                              NaN   \n",
       "10                 A                                             None   \n",
       "11              mass  {'@id': '4d605ba4-e094-4478-9292-357bcbfc8f57'}   \n",
       "12              None                                              NaN   \n",
       "13              Real                                              NaN   \n",
       "14              None                                              NaN   \n",
       "15              None                                              NaN   \n",
       "16              None                                              NaN   \n",
       "17      ScalarValues                                              NaN   \n",
       "18                 B                                             None   \n",
       "19                 D  {'@id': '7e59c404-3920-489b-b2c5-cd82a231ff57'}   \n",
       "20  jdehart_api_demo                                              NaN   \n",
       "\n",
       "                               owningRelatedElement  \\\n",
       "0                                               NaN   \n",
       "1                                               NaN   \n",
       "2   {'@id': 'c07d1ec4-2c50-4a0a-9f4b-73659e5cd90e'}   \n",
       "3   {'@id': '4f8aba64-0c7e-47bb-a47e-be4b2f21f85e'}   \n",
       "4   {'@id': '683846d6-82c1-4c55-b105-349f29831972'}   \n",
       "5   {'@id': '683846d6-82c1-4c55-b105-349f29831972'}   \n",
       "6   {'@id': '982bcc6e-4c29-48a9-8391-e6ef9095f50f'}   \n",
       "7   {'@id': '5cc4638c-a49c-44c1-9a67-cd87e784a1f2'}   \n",
       "8                                               NaN   \n",
       "9                                               NaN   \n",
       "10                                              NaN   \n",
       "11                                              NaN   \n",
       "12  {'@id': 'c07d1ec4-2c50-4a0a-9f4b-73659e5cd90e'}   \n",
       "13                                              NaN   \n",
       "14  {'@id': '982bcc6e-4c29-48a9-8391-e6ef9095f50f'}   \n",
       "15  {'@id': 'c07d1ec4-2c50-4a0a-9f4b-73659e5cd90e'}   \n",
       "16  {'@id': '57275bc8-5be3-4348-8327-d4ab58b8747b'}   \n",
       "17                                              NaN   \n",
       "18                                              NaN   \n",
       "19                                              NaN   \n",
       "20                                              NaN   \n",
       "\n",
       "                                             result  \n",
       "0                                               NaN  \n",
       "1                                               NaN  \n",
       "2                                               NaN  \n",
       "3                                               NaN  \n",
       "4                                               NaN  \n",
       "5                                               NaN  \n",
       "6                                               NaN  \n",
       "7                                               NaN  \n",
       "8   {'@id': '1425b2b9-cca1-41ca-857d-0558bc66c421'}  \n",
       "9                                               NaN  \n",
       "10                                              NaN  \n",
       "11                                              NaN  \n",
       "12                                              NaN  \n",
       "13                                              NaN  \n",
       "14                                              NaN  \n",
       "15                                              NaN  \n",
       "16                                              NaN  \n",
       "17                                              NaN  \n",
       "18                                              NaN  \n",
       "19                                              NaN  \n",
       "20                                              NaN  "
      ]
     },
     "execution_count": 22,
     "metadata": {},
     "output_type": "execute_result"
    }
   ],
   "source": [
    "df[[\"@id\",\"@type\",\"name\",\"owningFeatureMembership\",\"owningRelatedElement\",\"result\"]]"
   ]
  },
  {
   "cell_type": "markdown",
   "id": "9820fde0-55f5-4e57-9ba9-e0de399b5079",
   "metadata": {
    "kernel": "SoS"
   },
   "source": [
    "## Now I would love to change an attribute and push it back up.... but how :)"
   ]
  },
  {
   "cell_type": "code",
   "execution_count": null,
   "id": "cd5e6104-e8d7-4506-900c-061a70be6dd7",
   "metadata": {
    "kernel": "Python3"
   },
   "outputs": [],
   "source": []
  }
 ],
 "metadata": {
  "kernelspec": {
   "display_name": "SoS",
   "language": "sos",
   "name": "sos"
  },
  "language_info": {
   "codemirror_mode": "sos",
   "file_extension": ".sos",
   "mimetype": "text/x-sos",
   "name": "sos",
   "nbconvert_exporter": "sos_notebook.converter.SoS_Exporter",
   "pygments_lexer": "sos"
  },
  "sos": {
   "kernels": [
    [
     "Python3",
     "python3",
     "Python3",
     "#FFD91A",
     {
      "name": "ipython",
      "version": 3
     }
    ],
    [
     "SoS",
     "sos",
     "",
     "",
     "sos"
    ],
    [
     "SysML",
     "sysml",
     "sysml",
     "",
     "sysml"
    ]
   ],
   "version": "0.22.3"
  },
  "toc-autonumbering": false
 },
 "nbformat": 4,
 "nbformat_minor": 5
}
