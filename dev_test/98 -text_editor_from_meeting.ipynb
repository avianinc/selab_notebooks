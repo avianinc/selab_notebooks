{
 "cells": [
  {
   "cell_type": "code",
   "execution_count": 17,
   "id": "feeab0cc-f3d6-4ff8-8068-fd93bb3a6e5b",
   "metadata": {},
   "outputs": [],
   "source": [
    "from wxyz.lab import Editor, EditorModeInfo, DockPop, DockBox, EditorConfig\n",
    "import ipywidgets as W, traitlets as T, IPython as I, textwrap\n",
    "from yaml import safe_dump\n",
    "\n",
    "import sys\n",
    "sys.path.insert(0, '/srv/data/ASE6104/Users/John DeHart/dev')\n",
    "from sysml2 import sysmlv2 as m"
   ]
  },
  {
   "cell_type": "code",
   "execution_count": 18,
   "id": "f9cb198d-dd4e-45b8-8cab-8870c1093e40",
   "metadata": {},
   "outputs": [
    {
     "name": "stdout",
     "output_type": "stream",
     "text": [
      "2 model(s) retrieved...\n"
     ]
    }
   ],
   "source": [
    "models, modelNames = m.getModels()"
   ]
  },
  {
   "cell_type": "code",
   "execution_count": 19,
   "id": "627c70ae-aa41-48d7-8d7a-4805b8224877",
   "metadata": {},
   "outputs": [
    {
     "data": {
      "text/plain": [
       "['ModelExample', 'Kerbal']"
      ]
     },
     "execution_count": 19,
     "metadata": {},
     "output_type": "execute_result"
    }
   ],
   "source": [
    "modelNames"
   ]
  },
  {
   "cell_type": "code",
   "execution_count": 2,
   "id": "a1ad34b2-a22c-4478-85a6-ca87b6aeda44",
   "metadata": {},
   "outputs": [],
   "source": [
    "editor = Editor(vlayout=dict(height=\"600px\", width=\"100%\"), \n",
    "                config=dict(mode=\"sysml\", theme=\"darcula\"))"
   ]
  },
  {
   "cell_type": "code",
   "execution_count": 3,
   "id": "f653fd7f-20da-4db0-90a7-1929c558e908",
   "metadata": {},
   "outputs": [
    {
     "data": {
      "application/vnd.jupyter.widget-view+json": {
       "model_id": "1ebb08a5e956400483c16750ab642260",
       "version_major": 2,
       "version_minor": 0
      },
      "text/plain": [
       "Editor(value=None, config=EditorConfig(mode='sysml', theme='darcula'), layout=Layout(height='600px', width='10…"
      ]
     },
     "metadata": {},
     "output_type": "display_data"
    }
   ],
   "source": [
    "editor"
   ]
  },
  {
   "cell_type": "code",
   "execution_count": 12,
   "id": "3a1b494f-4555-4302-8771-c8571792ac18",
   "metadata": {},
   "outputs": [
    {
     "data": {
      "text/plain": [
       "'rere'"
      ]
     },
     "execution_count": 12,
     "metadata": {},
     "output_type": "execute_result"
    }
   ],
   "source": [
    "editor.value"
   ]
  },
  {
   "cell_type": "code",
   "execution_count": 13,
   "id": "6842efa2-6e3e-4eb7-8b49-a45a03580621",
   "metadata": {},
   "outputs": [
    {
     "data": {
      "text/plain": [
       "'rere'"
      ]
     },
     "execution_count": 13,
     "metadata": {},
     "output_type": "execute_result"
    }
   ],
   "source": [
    "editor.get_interact_value()"
   ]
  },
  {
   "cell_type": "code",
   "execution_count": 9,
   "id": "d3df1be4-895b-4293-ac1e-5fe9ba851ad7",
   "metadata": {},
   "outputs": [],
   "source": [
    "text = W.Text(\"rere\")"
   ]
  },
  {
   "cell_type": "code",
   "execution_count": 10,
   "id": "9f2dbb7b-e1f8-444b-9582-d9bf8c17efb5",
   "metadata": {},
   "outputs": [
    {
     "data": {
      "text/plain": [
       "Link(source=(Text(value='rere'), 'value'), target=(Editor(value='', config=EditorConfig(cursorBlinkRate=530.0,…"
      ]
     },
     "metadata": {},
     "output_type": "display_data"
    }
   ],
   "source": [
    "W.jslink((text,\"value\"),(editor,\"value\"))"
   ]
  },
  {
   "cell_type": "code",
   "execution_count": 14,
   "id": "44babb08-1e73-4409-a8fe-ad93c317f951",
   "metadata": {},
   "outputs": [
    {
     "data": {
      "text/plain": [
       "'rere'"
      ]
     },
     "execution_count": 14,
     "metadata": {},
     "output_type": "execute_result"
    }
   ],
   "source": [
    "editor.value"
   ]
  },
  {
   "cell_type": "code",
   "execution_count": null,
   "id": "b07b6992-9617-4cfd-ae9f-9c927558ff15",
   "metadata": {},
   "outputs": [],
   "source": []
  }
 ],
 "metadata": {
  "kernelspec": {
   "display_name": "Python 3",
   "language": "python",
   "name": "python3"
  },
  "language_info": {
   "codemirror_mode": {
    "name": "ipython",
    "version": 3
   },
   "file_extension": ".py",
   "mimetype": "text/x-python",
   "name": "python",
   "nbconvert_exporter": "python",
   "pygments_lexer": "ipython3",
   "version": "3.9.0"
  }
 },
 "nbformat": 4,
 "nbformat_minor": 5
}
