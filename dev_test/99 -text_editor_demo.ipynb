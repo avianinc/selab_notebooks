{
 "cells": [
  {
   "cell_type": "markdown",
   "id": "786218de-e2f8-4a98-9b00-838821e07b28",
   "metadata": {},
   "source": [
    "## Exmple of a live editor for sysml models in jupyterlab + python"
   ]
  },
  {
   "cell_type": "code",
   "execution_count": 1,
   "id": "feeab0cc-f3d6-4ff8-8068-fd93bb3a6e5b",
   "metadata": {},
   "outputs": [],
   "source": [
    "from wxyz.lab import Editor, EditorModeInfo, DockPop, DockBox, EditorConfig\n",
    "import ipywidgets as W, traitlets as T, IPython as I, textwrap\n",
    "from yaml import safe_dump\n",
    "\n",
    "import sys\n",
    "sys.path.insert(0, '/srv/data/ASE6104/Users/John DeHart/dev')\n",
    "from sysml2 import sysmlv2 as m"
   ]
  },
  {
   "cell_type": "code",
   "execution_count": 2,
   "id": "f9cb198d-dd4e-45b8-8cab-8870c1093e40",
   "metadata": {},
   "outputs": [
    {
     "name": "stdout",
     "output_type": "stream",
     "text": [
      "7 model(s) retrieved...\n"
     ]
    }
   ],
   "source": [
    "models, modelNames = m.getModels()"
   ]
  },
  {
   "cell_type": "code",
   "execution_count": 3,
   "id": "627c70ae-aa41-48d7-8d7a-4805b8224877",
   "metadata": {},
   "outputs": [
    {
     "data": {
      "text/plain": [
       "['Requirements',\n",
       " 'Requirements',\n",
       " 'jdehart_ModelExample_A',\n",
       " 'ModelExample_B',\n",
       " 'Requirements',\n",
       " 'fuelFlow',\n",
       " 'jdehart_partsModel']"
      ]
     },
     "execution_count": 3,
     "metadata": {},
     "output_type": "execute_result"
    }
   ],
   "source": [
    "modelNames"
   ]
  },
  {
   "cell_type": "code",
   "execution_count": 3,
   "id": "e827dca0-2cbf-4a80-9e93-264f23940fa8",
   "metadata": {},
   "outputs": [
    {
     "data": {
      "application/vnd.jupyter.widget-view+json": {
       "model_id": "cc959c3e22614ef9bff2f367a606001f",
       "version_major": 2,
       "version_minor": 0
      },
      "text/plain": [
       "Dropdown(options=('Requirements', 'Requirements', 'jdehart_ModelExample_A', 'ModelExample_B', 'Requirements', …"
      ]
     },
     "metadata": {},
     "output_type": "display_data"
    }
   ],
   "source": [
    "import ipywidgets as widgets\n",
    "from sidecar import Sidecar\n",
    "\n",
    "w = widgets.Dropdown(\n",
    "    options=modelNames\n",
    ")\n",
    "def on_change(change):\n",
    "    if change['type'] == 'change' and change['name'] == 'value':\n",
    "        for names in enumerate(modelNames):\n",
    "            if names[1] == w.value:\n",
    "                sc = Sidecar(title=w.value)\n",
    "                editor = Editor(value=models[names[0]],vlayout=dict(height=\"600px\", width=\"100%\"), \n",
    "                    config=dict(mode=\"sysml\", theme=\"darcula\", lineNumbers=True, lineWrapping=True, scrollbarStyle=\"native\"))\n",
    "                with sc:\n",
    "                    display(editor)\n",
    "            \n",
    "w.observe(on_change)\n",
    "display(w)"
   ]
  },
  {
   "cell_type": "code",
   "execution_count": null,
   "id": "0df05efa-b327-44c4-ac5d-6db9bad81e8a",
   "metadata": {},
   "outputs": [],
   "source": []
  }
 ],
 "metadata": {
  "kernelspec": {
   "display_name": "Python 3",
   "language": "python",
   "name": "python3"
  },
  "language_info": {
   "codemirror_mode": {
    "name": "ipython",
    "version": 3
   },
   "file_extension": ".py",
   "mimetype": "text/x-python",
   "name": "python",
   "nbconvert_exporter": "python",
   "pygments_lexer": "ipython3",
   "version": "3.9.0"
  }
 },
 "nbformat": 4,
 "nbformat_minor": 5
}
