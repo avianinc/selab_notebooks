{
 "cells": [
  {
   "cell_type": "markdown",
   "id": "9ca854a2-7e24-4fac-9611-1401504c0bb5",
   "metadata": {
    "kernel": "SoS"
   },
   "source": [
    "This model walks throug the entire workflow for a sysml model interacting with the python enviornment..."
   ]
  },
  {
   "cell_type": "code",
   "execution_count": 6,
   "id": "5a6c51de-836e-4a1b-aa35-3e1ee8b77daa",
   "metadata": {
    "kernel": "Python3",
    "tags": []
   },
   "outputs": [
    {
     "data": {
      "text/plain": [
       "<function posixpath.abspath(path)>"
      ]
     },
     "execution_count": 6,
     "metadata": {},
     "output_type": "execute_result"
    }
   ],
   "source": [
    "import os\n",
    "os.path"
   ]
  },
  {
   "cell_type": "code",
   "execution_count": 3,
   "id": "5cb72af5-fdf6-4756-8d89-b274cdd9b7ae",
   "metadata": {
    "kernel": "SoS",
    "tags": []
   },
   "outputs": [],
   "source": [
    "# This is a sysml model in string format for working in python\n",
    "model = '''\n",
    "package workflow_model {\n",
    "\n",
    "    import ScalarValues::*;\n",
    "    \n",
    "    package Requirments{\n",
    "        requirement def id 'A' payload{\n",
    "            doc /* System shall be capable of carrying a minimum of 10 pounds. */\n",
    "                attribute massLoad: Real;\n",
    "                attribute massCapacity: Real;\n",
    "                require constraint { massLoad <= massCapacity }\n",
    "\n",
    "                requirement def id 'A.1' payloadHandling{\n",
    "                doc /* UAV shall be capable of safely carrying payloads sensitive to vibration and g forces */\n",
    "                    attribute packageGforce: Real;\n",
    "                    require constraint {0.8<= packageGforce <= 1.2 }\n",
    "                }\n",
    "                requirement def id 'A.3' systemCost{\n",
    "                    doc /* The system shall cost less than $500,000 USD. */\n",
    "                    attribute cost: Real;\n",
    "                    require constraint {cost<= 500000 }\n",
    "                }\n",
    "        }\n",
    "    }\n",
    "\n",
    "    package Model {\n",
    "        doc /* Based on the Kerbal model of `model` and parts library */\n",
    "    \n",
    "        part def droneSystem {\n",
    "            part drones : 'Drone Type' [1..3] {\n",
    "                attribute massCapacity: Real;\n",
    "                attribute packageGforce: Real;\n",
    "                attribute cost: Real;\n",
    "            }\n",
    "        }\n",
    "        \n",
    "        abstract part def 'Drone Type';\n",
    "    \n",
    "    }\n",
    "\n",
    "    package Variants {}\n",
    "    package Analysis {}\n",
    "    package Validation {}\n",
    "}\n",
    "'''"
   ]
  },
  {
   "cell_type": "code",
   "execution_count": 2,
   "id": "32b8d995-4093-426c-b862-e64256e8bf59",
   "metadata": {
    "kernel": "SoS"
   },
   "outputs": [],
   "source": [
    "#print(model)"
   ]
  },
  {
   "cell_type": "code",
   "execution_count": 4,
   "id": "04ad5763-cb47-425f-ad60-c687b14b2ae0",
   "metadata": {
    "kernel": "SysML",
    "tags": []
   },
   "outputs": [
    {
     "data": {
      "text/plain": [
       "Package workflow_model (3022f04b-1702-4da3-bdf0-0371f4ad8b92)\n"
      ]
     },
     "execution_count": 4,
     "metadata": {},
     "output_type": "execute_result"
    },
    {
     "data": {
      "text/html": [
       "<div class=\"sos_hint\">Cell output captured to variable __captured with content</div>"
      ]
     },
     "metadata": {},
     "output_type": "display_data"
    },
    {
     "data": {
      "text/plain": [
       "[('execute_result',\n",
       "  {'data': {'text/plain': 'Package workflow_model '\n",
       "                          '(46419758-abf4-4da9-8b29-b253c124ee18)\\n'},\n",
       "   'execution_count': 4,\n",
       "   'metadata': {}}),\n",
       " ('execute_result',\n",
       "  {'data': {'text/plain': 'Package workflow_model '\n",
       "                          '(3022f04b-1702-4da3-bdf0-0371f4ad8b92)\\n'},\n",
       "   'execution_count': 4,\n",
       "   'metadata': {}})]"
      ]
     },
     "metadata": {},
     "output_type": "display_data"
    }
   ],
   "source": [
    "%capture\n",
    "%expand\n",
    "{model}"
   ]
  },
  {
   "cell_type": "code",
   "execution_count": 5,
   "id": "ab4640b1-62fe-4622-ac83-45af962d9299",
   "metadata": {
    "kernel": "SysML"
   },
   "outputs": [
    {
     "data": {
      "image/svg+xml": [
       "<?xml version=\"1.0\" encoding=\"UTF-8\" standalone=\"no\"?><svg xmlns=\"http://www.w3.org/2000/svg\" xmlns:xlink=\"http://www.w3.org/1999/xlink\" contentScriptType=\"application/ecmascript\" contentStyleType=\"text/css\" height=\"593px\" preserveAspectRatio=\"none\" style=\"width:1262px;height:593px;\" version=\"1.1\" viewBox=\"0 0 1262 593\" width=\"1262px\" zoomAndPan=\"magnify\"><defs/><g><!--MD5=[fbc87193dbaf4d95561dea2c320d4a47]\n",
       "cluster E1--><a href=\"psysml:cd352cd3-233b-406a-9eec-f81ea4a42a9e\" target=\"_top\" title=\"psysml:cd352cd3-233b-406a-9eec-f81ea4a42a9e\" xlink:actuate=\"onRequest\" xlink:href=\"psysml:cd352cd3-233b-406a-9eec-f81ea4a42a9e\" xlink:show=\"new\" xlink:title=\"psysml:cd352cd3-233b-406a-9eec-f81ea4a42a9e\" xlink:type=\"simple\"><polygon fill=\"#FFFFFF\" points=\"16,6,151,6,158,28.2969,1240,28.2969,1240,581,16,581,16,6\" style=\"stroke: #000000; stroke-width: 1.5;\"/><line style=\"stroke: #000000; stroke-width: 1.5;\" x1=\"16\" x2=\"158\" y1=\"28.2969\" y2=\"28.2969\"/><text fill=\"#000000\" font-family=\"sans-serif\" font-size=\"14\" font-weight=\"bold\" lengthAdjust=\"spacingAndGlyphs\" textLength=\"129\" x=\"20\" y=\"20.9951\">workflow_model</text></a><!--MD5=[e4f7fae6ed58524ba242bb0b0d3be6b7]\n",
       "cluster E2--><a href=\"psysml:4a294ae3-790f-48ac-8cbe-e259e5347312\" target=\"_top\" title=\"psysml:4a294ae3-790f-48ac-8cbe-e259e5347312\" xlink:actuate=\"onRequest\" xlink:href=\"psysml:4a294ae3-790f-48ac-8cbe-e259e5347312\" xlink:show=\"new\" xlink:title=\"psysml:4a294ae3-790f-48ac-8cbe-e259e5347312\" xlink:type=\"simple\"><polygon fill=\"#FFFFFF\" points=\"571,49,677,49,684,71.2969,1216,71.2969,1216,451,571,451,571,49\" style=\"stroke: #000000; stroke-width: 1.5;\"/><line style=\"stroke: #000000; stroke-width: 1.5;\" x1=\"571\" x2=\"684\" y1=\"71.2969\" y2=\"71.2969\"/><text fill=\"#000000\" font-family=\"sans-serif\" font-size=\"14\" font-weight=\"bold\" lengthAdjust=\"spacingAndGlyphs\" textLength=\"100\" x=\"575\" y=\"63.9951\">Requirments</text></a><!--MD5=[7f149f147074ac12df2cb0a7728a5fb0]\n",
       "cluster E9--><a href=\"psysml:13b88de3-21e3-4e51-92e8-e285643b8197\" target=\"_top\" title=\"psysml:13b88de3-21e3-4e51-92e8-e285643b8197\" xlink:actuate=\"onRequest\" xlink:href=\"psysml:13b88de3-21e3-4e51-92e8-e285643b8197\" xlink:show=\"new\" xlink:title=\"psysml:13b88de3-21e3-4e51-92e8-e285643b8197\" xlink:type=\"simple\"><polygon fill=\"#FFFFFF\" points=\"385,102,438,102,445,124.2969,547,124.2969,547,557,385,557,385,102\" style=\"stroke: #000000; stroke-width: 1.5;\"/><line style=\"stroke: #000000; stroke-width: 1.5;\" x1=\"385\" x2=\"445\" y1=\"124.2969\" y2=\"124.2969\"/><text fill=\"#000000\" font-family=\"sans-serif\" font-size=\"14\" font-weight=\"bold\" lengthAdjust=\"spacingAndGlyphs\" textLength=\"47\" x=\"389\" y=\"116.9951\">Model</text></a><!--MD5=[09b614a08d8cba4a07c9adeb5e0fee81]\n",
       "class E3--><a href=\"psysml:f709cb39-4810-4086-b654-a3067682431d\" target=\"_top\" title=\"psysml:f709cb39-4810-4086-b654-a3067682431d\" xlink:actuate=\"onRequest\" xlink:href=\"psysml:f709cb39-4810-4086-b654-a3067682431d\" xlink:show=\"new\" xlink:title=\"psysml:f709cb39-4810-4086-b654-a3067682431d\" xlink:type=\"simple\"><rect fill=\"#FFFFFF\" height=\"151.5703\" id=\"E3\" style=\"stroke: #383838; stroke-width: 1.5;\" width=\"311\" x=\"737.5\" y=\"84\"/><text fill=\"#000000\" font-family=\"sans-serif\" font-size=\"12\" font-style=\"italic\" lengthAdjust=\"spacingAndGlyphs\" textLength=\"115\" x=\"835.5\" y=\"100.1387\">«requirement def»</text><text fill=\"#000000\" font-family=\"sans-serif\" font-size=\"12\" lengthAdjust=\"spacingAndGlyphs\" textLength=\"5\" x=\"859\" y=\"114.1074\">[</text><text fill=\"#000000\" font-family=\"sans-serif\" font-size=\"12\" font-weight=\"bold\" lengthAdjust=\"spacingAndGlyphs\" textLength=\"9\" x=\"864\" y=\"114.1074\">A</text><text fill=\"#000000\" font-family=\"sans-serif\" font-size=\"12\" lengthAdjust=\"spacingAndGlyphs\" textLength=\"58\" x=\"873\" y=\"114.1074\">] payload</text><line style=\"stroke: #383838; stroke-width: 1.5;\" x1=\"738.5\" x2=\"1047.5\" y1=\"121.9375\" y2=\"121.9375\"/><text fill=\"#000000\" font-family=\"sans-serif\" font-size=\"11\" lengthAdjust=\"spacingAndGlyphs\" textLength=\"299\" x=\"743.5\" y=\"136.1479\">System shall be capable of carrying a minimum of 1</text><text fill=\"#000000\" font-family=\"sans-serif\" font-size=\"11\" lengthAdjust=\"spacingAndGlyphs\" textLength=\"57\" x=\"743.5\" y=\"148.9526\">0 pounds.</text><line style=\"stroke: #383838; stroke-width: 1.0;\" x1=\"738.5\" x2=\"1047.5\" y1=\"155.5469\" y2=\"155.5469\"/><text fill=\"#000000\" font-family=\"sans-serif\" font-size=\"11\" lengthAdjust=\"spacingAndGlyphs\" textLength=\"112\" x=\"743.5\" y=\"186.562\">massCapacity: Real</text><text fill=\"#000000\" font-family=\"sans-serif\" font-size=\"11\" lengthAdjust=\"spacingAndGlyphs\" textLength=\"91\" x=\"743.5\" y=\"199.3667\">massLoad: Real</text><line style=\"stroke: #383838; stroke-width: 1.0;\" x1=\"738.5\" x2=\"865.5\" y1=\"169.9492\" y2=\"169.9492\"/><text fill=\"#000000\" font-family=\"sans-serif\" font-size=\"11\" lengthAdjust=\"spacingAndGlyphs\" textLength=\"55\" x=\"865.5\" y=\"173.2573\">attributes</text><line style=\"stroke: #383838; stroke-width: 1.0;\" x1=\"920.5\" x2=\"1047.5\" y1=\"169.9492\" y2=\"169.9492\"/><text fill=\"#000000\" font-family=\"sans-serif\" font-size=\"11\" font-weight=\"bold\" lengthAdjust=\"spacingAndGlyphs\" textLength=\"46\" x=\"743.5\" y=\"228.9761\">require</text><text fill=\"#000000\" font-family=\"sans-serif\" font-size=\"11\" lengthAdjust=\"spacingAndGlyphs\" textLength=\"187\" x=\"797.5\" y=\"228.9761\">{ massLoad &lt;= massCapacity }</text><line style=\"stroke: #383838; stroke-width: 1.0;\" x1=\"738.5\" x2=\"861\" y1=\"212.3633\" y2=\"212.3633\"/><text fill=\"#000000\" font-family=\"sans-serif\" font-size=\"11\" lengthAdjust=\"spacingAndGlyphs\" textLength=\"64\" x=\"861\" y=\"215.6714\">constraints</text><line style=\"stroke: #383838; stroke-width: 1.0;\" x1=\"925\" x2=\"1047.5\" y1=\"212.3633\" y2=\"212.3633\"/></a><!--MD5=[270fce915f116d4de14055a7c1d9a0f3]\n",
       "class E5--><a href=\"psysml:23d3ea22-be8e-472e-a617-6cd0c89c545f\" target=\"_top\" title=\"psysml:23d3ea22-be8e-472e-a617-6cd0c89c545f\" xlink:actuate=\"onRequest\" xlink:href=\"psysml:23d3ea22-be8e-472e-a617-6cd0c89c545f\" xlink:show=\"new\" xlink:title=\"psysml:23d3ea22-be8e-472e-a617-6cd0c89c545f\" xlink:type=\"simple\"><rect fill=\"#FFFFFF\" height=\"138.7656\" id=\"E5\" style=\"stroke: #383838; stroke-width: 1.5;\" width=\"293\" x=\"587.5\" y=\"296\"/><text fill=\"#000000\" font-family=\"sans-serif\" font-size=\"12\" font-style=\"italic\" lengthAdjust=\"spacingAndGlyphs\" textLength=\"115\" x=\"676.5\" y=\"312.1387\">«requirement def»</text><text fill=\"#000000\" font-family=\"sans-serif\" font-size=\"12\" lengthAdjust=\"spacingAndGlyphs\" textLength=\"5\" x=\"666\" y=\"326.1074\">[</text><text fill=\"#000000\" font-family=\"sans-serif\" font-size=\"12\" font-weight=\"bold\" lengthAdjust=\"spacingAndGlyphs\" textLength=\"22\" x=\"671\" y=\"326.1074\">A.1</text><text fill=\"#000000\" font-family=\"sans-serif\" font-size=\"12\" lengthAdjust=\"spacingAndGlyphs\" textLength=\"113\" x=\"693\" y=\"326.1074\">] payloadHandling</text><line style=\"stroke: #383838; stroke-width: 1.5;\" x1=\"588.5\" x2=\"879.5\" y1=\"333.9375\" y2=\"333.9375\"/><text fill=\"#000000\" font-family=\"sans-serif\" font-size=\"11\" lengthAdjust=\"spacingAndGlyphs\" textLength=\"277\" x=\"593.5\" y=\"348.1479\">UAV shall be capable of safely carrying payloads</text><text fill=\"#000000\" font-family=\"sans-serif\" font-size=\"11\" lengthAdjust=\"spacingAndGlyphs\" textLength=\"195\" x=\"593.5\" y=\"360.9526\">sensitive to vibration and g forces</text><line style=\"stroke: #383838; stroke-width: 1.0;\" x1=\"588.5\" x2=\"879.5\" y1=\"367.5469\" y2=\"367.5469\"/><text fill=\"#000000\" font-family=\"sans-serif\" font-size=\"11\" lengthAdjust=\"spacingAndGlyphs\" textLength=\"117\" x=\"593.5\" y=\"398.562\">packageGforce: Real</text><line style=\"stroke: #383838; stroke-width: 1.0;\" x1=\"588.5\" x2=\"706.5\" y1=\"381.9492\" y2=\"381.9492\"/><text fill=\"#000000\" font-family=\"sans-serif\" font-size=\"11\" lengthAdjust=\"spacingAndGlyphs\" textLength=\"55\" x=\"706.5\" y=\"385.2573\">attributes</text><line style=\"stroke: #383838; stroke-width: 1.0;\" x1=\"761.5\" x2=\"879.5\" y1=\"381.9492\" y2=\"381.9492\"/><text fill=\"#000000\" font-family=\"sans-serif\" font-size=\"11\" font-weight=\"bold\" lengthAdjust=\"spacingAndGlyphs\" textLength=\"46\" x=\"593.5\" y=\"428.1714\">require</text><text fill=\"#000000\" font-family=\"sans-serif\" font-size=\"11\" lengthAdjust=\"spacingAndGlyphs\" textLength=\"191\" x=\"647.5\" y=\"428.1714\">{ 0.8&lt;= packageGforce &lt;= 1.2 }</text><line style=\"stroke: #383838; stroke-width: 1.0;\" x1=\"588.5\" x2=\"702\" y1=\"411.5586\" y2=\"411.5586\"/><text fill=\"#000000\" font-family=\"sans-serif\" font-size=\"11\" lengthAdjust=\"spacingAndGlyphs\" textLength=\"64\" x=\"702\" y=\"414.8667\">constraints</text><line style=\"stroke: #383838; stroke-width: 1.0;\" x1=\"766\" x2=\"879.5\" y1=\"411.5586\" y2=\"411.5586\"/></a><!--MD5=[2156ba9850f5573cc1fc38a6a4b2f02b]\n",
       "class E7--><a href=\"psysml:5f55206d-b878-47da-9c5a-649c63713f18\" target=\"_top\" title=\"psysml:5f55206d-b878-47da-9c5a-649c63713f18\" xlink:actuate=\"onRequest\" xlink:href=\"psysml:5f55206d-b878-47da-9c5a-649c63713f18\" xlink:show=\"new\" xlink:title=\"psysml:5f55206d-b878-47da-9c5a-649c63713f18\" xlink:type=\"simple\"><rect fill=\"#FFFFFF\" height=\"125.9609\" id=\"E7\" style=\"stroke: #383838; stroke-width: 1.5;\" width=\"284\" x=\"916\" y=\"302.5\"/><text fill=\"#000000\" font-family=\"sans-serif\" font-size=\"12\" font-style=\"italic\" lengthAdjust=\"spacingAndGlyphs\" textLength=\"115\" x=\"1000.5\" y=\"318.6387\">«requirement def»</text><text fill=\"#000000\" font-family=\"sans-serif\" font-size=\"12\" lengthAdjust=\"spacingAndGlyphs\" textLength=\"5\" x=\"1006\" y=\"332.6074\">[</text><text fill=\"#000000\" font-family=\"sans-serif\" font-size=\"12\" font-weight=\"bold\" lengthAdjust=\"spacingAndGlyphs\" textLength=\"22\" x=\"1011\" y=\"332.6074\">A.3</text><text fill=\"#000000\" font-family=\"sans-serif\" font-size=\"12\" lengthAdjust=\"spacingAndGlyphs\" textLength=\"81\" x=\"1033\" y=\"332.6074\">] systemCost</text><line style=\"stroke: #383838; stroke-width: 1.5;\" x1=\"917\" x2=\"1199\" y1=\"340.4375\" y2=\"340.4375\"/><text fill=\"#000000\" font-family=\"sans-serif\" font-size=\"11\" lengthAdjust=\"spacingAndGlyphs\" textLength=\"272\" x=\"922\" y=\"354.6479\">The system shall cost less than $500,000 USD.</text><line style=\"stroke: #383838; stroke-width: 1.0;\" x1=\"917\" x2=\"1199\" y1=\"361.2422\" y2=\"361.2422\"/><text fill=\"#000000\" font-family=\"sans-serif\" font-size=\"11\" lengthAdjust=\"spacingAndGlyphs\" textLength=\"56\" x=\"922\" y=\"392.2573\">cost: Real</text><line style=\"stroke: #383838; stroke-width: 1.0;\" x1=\"917\" x2=\"1030.5\" y1=\"375.6445\" y2=\"375.6445\"/><text fill=\"#000000\" font-family=\"sans-serif\" font-size=\"11\" lengthAdjust=\"spacingAndGlyphs\" textLength=\"55\" x=\"1030.5\" y=\"378.9526\">attributes</text><line style=\"stroke: #383838; stroke-width: 1.0;\" x1=\"1085.5\" x2=\"1199\" y1=\"375.6445\" y2=\"375.6445\"/><text fill=\"#000000\" font-family=\"sans-serif\" font-size=\"11\" font-weight=\"bold\" lengthAdjust=\"spacingAndGlyphs\" textLength=\"46\" x=\"922\" y=\"421.8667\">require</text><text fill=\"#000000\" font-family=\"sans-serif\" font-size=\"11\" lengthAdjust=\"spacingAndGlyphs\" textLength=\"110\" x=\"976\" y=\"421.8667\">{ cost&lt;= 500000 }</text><line style=\"stroke: #383838; stroke-width: 1.0;\" x1=\"917\" x2=\"1026\" y1=\"405.2539\" y2=\"405.2539\"/><text fill=\"#000000\" font-family=\"sans-serif\" font-size=\"11\" lengthAdjust=\"spacingAndGlyphs\" textLength=\"64\" x=\"1026\" y=\"408.562\">constraints</text><line style=\"stroke: #383838; stroke-width: 1.0;\" x1=\"1090\" x2=\"1199\" y1=\"405.2539\" y2=\"405.2539\"/></a><!--MD5=[96f4274e9e20536e775497830990834d]\n",
       "class E10--><a href=\"psysml:892bf89b-5de6-4c3c-853c-f15897e7babc\" target=\"_top\" title=\"psysml:892bf89b-5de6-4c3c-853c-f15897e7babc\" xlink:actuate=\"onRequest\" xlink:href=\"psysml:892bf89b-5de6-4c3c-853c-f15897e7babc\" xlink:show=\"new\" xlink:title=\"psysml:892bf89b-5de6-4c3c-853c-f15897e7babc\" xlink:type=\"simple\"><rect fill=\"#FFFFFF\" height=\"45.9375\" id=\"E10\" style=\"stroke: #383838; stroke-width: 1.5;\" width=\"88\" x=\"422\" y=\"137\"/><text fill=\"#000000\" font-family=\"sans-serif\" font-size=\"12\" font-style=\"italic\" lengthAdjust=\"spacingAndGlyphs\" textLength=\"64\" x=\"434\" y=\"153.1387\">«part def»</text><text fill=\"#000000\" font-family=\"sans-serif\" font-size=\"12\" lengthAdjust=\"spacingAndGlyphs\" textLength=\"82\" x=\"425\" y=\"167.1074\">droneSystem</text><line style=\"stroke: #383838; stroke-width: 1.5;\" x1=\"423\" x2=\"509\" y1=\"174.9375\" y2=\"174.9375\"/></a><!--MD5=[1dd1bfd58a279cf63c5f349dbc8fc6a1]\n",
       "class E11--><a href=\"psysml:2bb4a8fa-5324-46a3-85bf-bf948b3868e1\" target=\"_top\" title=\"psysml:2bb4a8fa-5324-46a3-85bf-bf948b3868e1\" xlink:actuate=\"onRequest\" xlink:href=\"psysml:2bb4a8fa-5324-46a3-85bf-bf948b3868e1\" xlink:show=\"new\" xlink:title=\"psysml:2bb4a8fa-5324-46a3-85bf-bf948b3868e1\" xlink:type=\"simple\"><rect fill=\"#FFFFFF\" height=\"101.1563\" id=\"E11\" rx=\"10\" ry=\"10\" style=\"stroke: #383838; stroke-width: 1.5;\" width=\"129\" x=\"401.5\" y=\"315\"/><text fill=\"#000000\" font-family=\"sans-serif\" font-size=\"12\" font-style=\"italic\" lengthAdjust=\"spacingAndGlyphs\" textLength=\"40\" x=\"446\" y=\"331.1387\">«part»</text><text fill=\"#000000\" font-family=\"sans-serif\" font-size=\"12\" lengthAdjust=\"spacingAndGlyphs\" textLength=\"123\" x=\"404.5\" y=\"345.1074\">drones: Drone Type</text><line style=\"stroke: #383838; stroke-width: 1.5;\" x1=\"402.5\" x2=\"529.5\" y1=\"352.9375\" y2=\"352.9375\"/><text fill=\"#000000\" font-family=\"sans-serif\" font-size=\"11\" lengthAdjust=\"spacingAndGlyphs\" textLength=\"56\" x=\"407.5\" y=\"383.9526\">cost: Real</text><text fill=\"#000000\" font-family=\"sans-serif\" font-size=\"11\" lengthAdjust=\"spacingAndGlyphs\" textLength=\"112\" x=\"407.5\" y=\"396.7573\">massCapacity: Real</text><text fill=\"#000000\" font-family=\"sans-serif\" font-size=\"11\" lengthAdjust=\"spacingAndGlyphs\" textLength=\"117\" x=\"407.5\" y=\"409.562\">packageGforce: Real</text><line style=\"stroke: #383838; stroke-width: 1.0;\" x1=\"402.5\" x2=\"438.5\" y1=\"367.3398\" y2=\"367.3398\"/><text fill=\"#000000\" font-family=\"sans-serif\" font-size=\"11\" lengthAdjust=\"spacingAndGlyphs\" textLength=\"55\" x=\"438.5\" y=\"370.6479\">attributes</text><line style=\"stroke: #383838; stroke-width: 1.0;\" x1=\"493.5\" x2=\"529.5\" y1=\"367.3398\" y2=\"367.3398\"/></a><!--MD5=[49a0ec8f00dab7302a31f22d0f0fe584]\n",
       "class E12--><a href=\"psysml:dc0d60c2-fe55-4d47-905c-8e448e6f776c\" target=\"_top\" title=\"psysml:dc0d60c2-fe55-4d47-905c-8e448e6f776c\" xlink:actuate=\"onRequest\" xlink:href=\"psysml:dc0d60c2-fe55-4d47-905c-8e448e6f776c\" xlink:show=\"new\" xlink:title=\"psysml:dc0d60c2-fe55-4d47-905c-8e448e6f776c\" xlink:type=\"simple\"><rect fill=\"#FFFFFF\" height=\"45.9375\" id=\"E12\" style=\"stroke: #383838; stroke-width: 1.5;\" width=\"77\" x=\"427.5\" y=\"495\"/><text fill=\"#000000\" font-family=\"sans-serif\" font-size=\"12\" font-style=\"italic\" lengthAdjust=\"spacingAndGlyphs\" textLength=\"64\" x=\"434\" y=\"511.1387\">«part def»</text><text fill=\"#000000\" font-family=\"sans-serif\" font-size=\"12\" lengthAdjust=\"spacingAndGlyphs\" textLength=\"71\" x=\"430.5\" y=\"525.1074\">Drone Type</text><line style=\"stroke: #383838; stroke-width: 1.5;\" x1=\"428.5\" x2=\"503.5\" y1=\"532.9375\" y2=\"532.9375\"/></a><a href=\"psysml:a98e1bcc-f11e-4fd3-9f18-cad076635d49\" target=\"_top\" title=\"psysml:a98e1bcc-f11e-4fd3-9f18-cad076635d49\" xlink:actuate=\"onRequest\" xlink:href=\"psysml:a98e1bcc-f11e-4fd3-9f18-cad076635d49\" xlink:show=\"new\" xlink:title=\"psysml:a98e1bcc-f11e-4fd3-9f18-cad076635d49\" xlink:type=\"simple\"><polygon fill=\"#FFFFFF\" points=\"283.5,133.5,354.5,133.5,361.5,155.7969,368.5,155.7969,368.5,186.0938,283.5,186.0938,283.5,133.5\" style=\"stroke: #000000; stroke-width: 1.5;\"/><line style=\"stroke: #000000; stroke-width: 1.5;\" x1=\"283.5\" x2=\"361.5\" y1=\"155.7969\" y2=\"155.7969\"/><text fill=\"#000000\" font-family=\"sans-serif\" font-size=\"14\" font-weight=\"bold\" lengthAdjust=\"spacingAndGlyphs\" textLength=\"65\" x=\"287.5\" y=\"148.4951\">Variants</text></a><a href=\"psysml:94e99bc5-4b83-4098-b62c-fda58c029d44\" target=\"_top\" title=\"psysml:94e99bc5-4b83-4098-b62c-fda58c029d44\" xlink:actuate=\"onRequest\" xlink:href=\"psysml:94e99bc5-4b83-4098-b62c-fda58c029d44\" xlink:show=\"new\" xlink:title=\"psysml:94e99bc5-4b83-4098-b62c-fda58c029d44\" xlink:type=\"simple\"><polygon fill=\"#FFFFFF\" points=\"163.5,133.5,234.5,133.5,241.5,155.7969,248.5,155.7969,248.5,186.0938,163.5,186.0938,163.5,133.5\" style=\"stroke: #000000; stroke-width: 1.5;\"/><line style=\"stroke: #000000; stroke-width: 1.5;\" x1=\"163.5\" x2=\"241.5\" y1=\"155.7969\" y2=\"155.7969\"/><text fill=\"#000000\" font-family=\"sans-serif\" font-size=\"14\" font-weight=\"bold\" lengthAdjust=\"spacingAndGlyphs\" textLength=\"65\" x=\"167.5\" y=\"148.4951\">Analysis</text></a><a href=\"psysml:a8918f43-791e-4440-992f-0ad57312eb35\" target=\"_top\" title=\"psysml:a8918f43-791e-4440-992f-0ad57312eb35\" xlink:actuate=\"onRequest\" xlink:href=\"psysml:a8918f43-791e-4440-992f-0ad57312eb35\" xlink:show=\"new\" xlink:title=\"psysml:a8918f43-791e-4440-992f-0ad57312eb35\" xlink:type=\"simple\"><polygon fill=\"#FFFFFF\" points=\"31.5,133.5,114.5,133.5,121.5,155.7969,128.5,155.7969,128.5,186.0938,31.5,186.0938,31.5,133.5\" style=\"stroke: #000000; stroke-width: 1.5;\"/><line style=\"stroke: #000000; stroke-width: 1.5;\" x1=\"31.5\" x2=\"121.5\" y1=\"155.7969\" y2=\"155.7969\"/><text fill=\"#000000\" font-family=\"sans-serif\" font-size=\"14\" font-weight=\"bold\" lengthAdjust=\"spacingAndGlyphs\" textLength=\"77\" x=\"35.5\" y=\"148.4951\">Validation</text></a><!--MD5=[191cde3d490a3f6d7bb551fe3ddca469]\n",
       "reverse link E3 to E5--><a href=\"psysml:e4cec954-9ce4-4397-bb10-aae5254edcd8\" target=\"_top\" title=\"psysml:e4cec954-9ce4-4397-bb10-aae5254edcd8\" xlink:actuate=\"onRequest\" xlink:href=\"psysml:e4cec954-9ce4-4397-bb10-aae5254edcd8\" xlink:show=\"new\" xlink:title=\"psysml:e4cec954-9ce4-4397-bb10-aae5254edcd8\" xlink:type=\"simple\"><path d=\"M824.86,248.21 C812.46,264.08 799.69,280.43 787.78,295.67 \" fill=\"none\" id=\"E3&lt;-E5\" style=\"stroke: #383838; stroke-width: 1.0;\"/><ellipse cx=\"829.329\" cy=\"242.5074\" fill=\"#FFFFFF\" rx=\"8\" ry=\"8\" style=\"stroke: #383838; stroke-width: 1.0;\"/><line style=\"stroke: #383838; stroke-width: 1.0;\" x1=\"824.408\" x2=\"834.25\" y1=\"248.8149\" y2=\"236.2\"/><line style=\"stroke: #383838; stroke-width: 1.0;\" x1=\"823.0216\" x2=\"835.6364\" y1=\"237.5864\" y2=\"247.4284\"/></a><!--MD5=[85760999379eecfd2565a9fecdca67e4]\n",
       "reverse link E3 to E7--><a href=\"psysml:7df26ba7-1751-42c9-918d-dc31e03bace8\" target=\"_top\" title=\"psysml:7df26ba7-1751-42c9-918d-dc31e03bace8\" xlink:actuate=\"onRequest\" xlink:href=\"psysml:7df26ba7-1751-42c9-918d-dc31e03bace8\" xlink:show=\"new\" xlink:title=\"psysml:7df26ba7-1751-42c9-918d-dc31e03bace8\" xlink:type=\"simple\"><path d=\"M963.59,248.06 C978.37,266.29 993.67,285.16 1007.54,302.27 \" fill=\"none\" id=\"E3&lt;-E7\" style=\"stroke: #383838; stroke-width: 1.0;\"/><ellipse cx=\"959.0102\" cy=\"242.4126\" fill=\"#FFFFFF\" rx=\"8\" ry=\"8\" style=\"stroke: #383838; stroke-width: 1.0;\"/><line style=\"stroke: #383838; stroke-width: 1.0;\" x1=\"964.0503\" x2=\"953.97\" y1=\"248.6253\" y2=\"236.2\"/><line style=\"stroke: #383838; stroke-width: 1.0;\" x1=\"952.7975\" x2=\"965.2228\" y1=\"247.4528\" y2=\"237.3725\"/></a><!--MD5=[de308be4a2431766a05a907a031c07fc]\n",
       "reverse link E10 to E11--><a href=\"psysml:4d4ed480-f6c1-456f-afe9-6768490c8655\" target=\"_top\" title=\"psysml:4d4ed480-f6c1-456f-afe9-6768490c8655\" xlink:actuate=\"onRequest\" xlink:href=\"psysml:4d4ed480-f6c1-456f-afe9-6768490c8655\" xlink:show=\"new\" xlink:title=\"psysml:4d4ed480-f6c1-456f-afe9-6768490c8655\" xlink:type=\"simple\"><path d=\"M466,196.56 C466,229.35 466,278.34 466,314.95 \" fill=\"none\" id=\"E10&lt;-E11\" style=\"stroke: #383838; stroke-width: 1.0;\"/><polygon fill=\"#383838\" points=\"466,183.17,462,189.17,466,195.17,470,189.17,466,183.17\" style=\"stroke: #383838; stroke-width: 1.0;\"/><text fill=\"#000000\" font-family=\"sans-serif\" font-size=\"13\" lengthAdjust=\"spacingAndGlyphs\" textLength=\"24\" x=\"440.3125\" y=\"303.852\">1..3</text></a><!--MD5=[af958fd05df90222939acd9f9c9878a2]\n",
       "link E11 to E12--><a href=\"psysml:e95b5ccf-99bd-49a3-9660-d48b0a285f13\" target=\"_top\" title=\"psysml:e95b5ccf-99bd-49a3-9660-d48b0a285f13\" xlink:actuate=\"onRequest\" xlink:href=\"psysml:e95b5ccf-99bd-49a3-9660-d48b0a285f13\" xlink:show=\"new\" xlink:title=\"psysml:e95b5ccf-99bd-49a3-9660-d48b0a285f13\" xlink:type=\"simple\"><path d=\"M466,416.2 C466,435.07 466,456.37 466,474.51 \" fill=\"none\" id=\"E11-&gt;E12\" style=\"stroke: #383838; stroke-width: 1.0;\"/><polygon fill=\"#FFFFFF\" points=\"466,494.7,459,475.7,473,475.7,466,494.7\" style=\"stroke: #383838; stroke-width: 1.0;\"/><ellipse cx=\"461\" cy=\"470\" fill=\"#383838\" rx=\"2\" ry=\"2\" style=\"stroke: #383838; stroke-width: 1.0;\"/><ellipse cx=\"471\" cy=\"470\" fill=\"#383838\" rx=\"2\" ry=\"2\" style=\"stroke: #383838; stroke-width: 1.0;\"/></a><!--MD5=[3f007f0a3cfab7d4d56773aecba2e705]\n",
       "@startuml\r\n",
       "skinparam monochrome true\r\n",
       "skinparam classbackgroundcolor white\r\n",
       "skinparam shadowing false\r\n",
       "skinparam wrapWidth 300\r\n",
       "hide circle\r\n",
       "\r\n",
       "package \"workflow_model\" as E1  [[psysml:cd352cd3-233b-406a-9eec-f81ea4a42a9e ]]  {\r\n",
       "package \"Requirments\" as E2  [[psysml:4a294ae3-790f-48ac-8cbe-e259e5347312 ]]  {\r\n",
       "comp def \" [<b>A</b>] payload\" as E3  <<(T,blue)requirement def>> [[psysml:f709cb39-4810-4086-b654-a3067682431d ]] {\r\n",
       "System shall be capable of carrying a minimum of 10 pounds.\r\n",
       "- -\r\n",
       "- - attributes - -\r\n",
       "massCapacity: Real\r\n",
       "massLoad: Real\r\n",
       "- - constraints - -\r\n",
       "<b>require</b>  { massLoad <= massCapacity }\r\n",
       "}\r\n",
       "comp def \" [<b>A.1</b>] payloadHandling\" as E5  <<(T,blue)requirement def>> [[psysml:23d3ea22-be8e-472e-a617-6cd0c89c545f ]] {\r\n",
       "UAV shall be capable of safely carrying payloads sensitive to vibration and g forces\r\n",
       "- -\r\n",
       "- - attributes - -\r\n",
       "packageGforce: Real\r\n",
       "- - constraints - -\r\n",
       "<b>require</b>  { 0.8<= packageGforce <= 1.2 }\r\n",
       "}\r\n",
       "comp def \" [<b>A.3</b>] systemCost\" as E7  <<(T,blue)requirement def>> [[psysml:5f55206d-b878-47da-9c5a-649c63713f18 ]] {\r\n",
       "The system shall cost less than $500,000 USD.\r\n",
       "- -\r\n",
       "- - attributes - -\r\n",
       "cost: Real\r\n",
       "- - constraints - -\r\n",
       "<b>require</b>  { cost<= 500000 }\r\n",
       "}\r\n",
       "E3 +- - E5 [[psysml:e4cec954-9ce4-4397-bb10-aae5254edcd8 ]] \r\n",
       "E3 +- - E7 [[psysml:7df26ba7-1751-42c9-918d-dc31e03bace8 ]] \r\n",
       "}\r\n",
       "package \"Model\" as E9  [[psysml:13b88de3-21e3-4e51-92e8-e285643b8197 ]]  {\r\n",
       "comp def \"droneSystem\" as E10  <<(T,blue)part def>> [[psysml:892bf89b-5de6-4c3c-853c-f15897e7babc ]] {\r\n",
       "}\r\n",
       "comp usage \"drones: Drone Type\" as E11  <<(T,blue)part>> [[psysml:2bb4a8fa-5324-46a3-85bf-bf948b3868e1 ]] {\r\n",
       "- - attributes - -\r\n",
       "cost: Real\r\n",
       "massCapacity: Real\r\n",
       "packageGforce: Real\r\n",
       "}\r\n",
       "comp def \"Drone Type\" as E12  <<(T,blue)part def>> [[psysml:dc0d60c2-fe55-4d47-905c-8e448e6f776c ]] {\r\n",
       "}\r\n",
       "E10 *- - \"1..3\"E11 [[psysml:4d4ed480-f6c1-456f-afe9-6768490c8655 ]] \r\n",
       "E11 - -:|> E12 [[psysml:e95b5ccf-99bd-49a3-9660-d48b0a285f13 ]] \r\n",
       "}\r\n",
       "package \"Variants\" as E13  [[psysml:a98e1bcc-f11e-4fd3-9f18-cad076635d49 ]]  {\r\n",
       "}\r\n",
       "package \"Analysis\" as E14  [[psysml:94e99bc5-4b83-4098-b62c-fda58c029d44 ]]  {\r\n",
       "}\r\n",
       "package \"Validation\" as E15  [[psysml:a8918f43-791e-4440-992f-0ad57312eb35 ]]  {\r\n",
       "}\r\n",
       "}\r\n",
       "@enduml\r\n",
       "\n",
       "PlantUML version 1.2020.13(Sat Jun 13 12:26:38 UTC 2020)\n",
       "(EPL source distribution)\n",
       "Java Runtime: OpenJDK Runtime Environment\n",
       "JVM: OpenJDK 64-Bit Server VM\n",
       "Default Encoding: UTF-8\n",
       "Language: en\n",
       "Country: null\n",
       "--></g></svg>"
      ]
     },
     "execution_count": 5,
     "metadata": {},
     "output_type": "execute_result"
    }
   ],
   "source": [
    "%viz workflow_model"
   ]
  },
  {
   "cell_type": "code",
   "execution_count": 6,
   "id": "92067097-cda7-4916-b3d8-ae846c3abbb7",
   "metadata": {
    "kernel": "SoS",
    "tags": []
   },
   "outputs": [],
   "source": [
    "if len(__captured) == 0:\n",
    "    print(\"Warning - No Model...\")"
   ]
  },
  {
   "cell_type": "code",
   "execution_count": 7,
   "id": "4244f15a-f9b4-4495-bf9c-5612f81eac1d",
   "metadata": {
    "kernel": "SoS"
   },
   "outputs": [],
   "source": [
    "#print(model)"
   ]
  },
  {
   "cell_type": "code",
   "execution_count": 4,
   "id": "f557c4b7-8d8b-4643-bc86-8677643947f9",
   "metadata": {
    "kernel": "Python3",
    "tags": []
   },
   "outputs": [],
   "source": [
    "import sysml2 as m\n",
    "from sysml2 import sysmlv2 as m"
   ]
  },
  {
   "cell_type": "code",
   "execution_count": 9,
   "id": "cec75dd2-d44c-4a3a-bec1-ca86be169a0c",
   "metadata": {
    "kernel": "Python3",
    "tags": []
   },
   "outputs": [],
   "source": [
    "%get model\n",
    "reqs = m.getReqsString(model)"
   ]
  },
  {
   "cell_type": "code",
   "execution_count": 15,
   "id": "1914223c-43ad-47d6-b14c-8fa89b4344a4",
   "metadata": {
    "kernel": "Python3"
   },
   "outputs": [
    {
     "data": {
      "application/vnd.jupyter.widget-view+json": {
       "model_id": "0c0bb021c1854ac4a3f0006d10b04be5",
       "version_major": 2,
       "version_minor": 0
      },
      "text/plain": [
       "QgridWidget(grid_options={'fullWidthRows': True, 'syncColumnCellResize': True, 'forceFitColumns': True, 'defau…"
      ]
     },
     "metadata": {},
     "output_type": "display_data"
    }
   ],
   "source": [
    "import numpy as np\n",
    "import pandas as pd\n",
    "import qgrid\n",
    "#qgrid.show_grid(pd.DataFrame(reqs),show_toolbar=True)\n",
    "reqs = reqs.replace(np.nan, '', regex=True)\n",
    "qw = qgrid.show_grid(reqs, show_toolbar=True)\n",
    "qw"
   ]
  },
  {
   "cell_type": "markdown",
   "id": "92dd5db5-69bc-497b-aea1-500f5a530713",
   "metadata": {
    "kernel": "Python3",
    "tags": []
   },
   "source": [
    "To evaluate each of the attributes as a variable by name use the locals() method"
   ]
  },
  {
   "cell_type": "code",
   "execution_count": 21,
   "id": "1825457d-9298-4e0e-bb92-1079a16e6eb9",
   "metadata": {
    "kernel": "Python3"
   },
   "outputs": [],
   "source": [
    "reqs.data['Actual'][1] = 501 # massLoad  <-- input the results from the analsys into these equations\n",
    "reqs.data['Actual'][2] = 500 # massCapacity <-- input the results from the analsys into these equations"
   ]
  },
  {
   "cell_type": "code",
   "execution_count": 22,
   "id": "5fa5da17-d9ec-498b-89f0-41e3f3adeda3",
   "metadata": {
    "kernel": "Python3"
   },
   "outputs": [
    {
     "data": {
      "text/plain": [
       "False"
      ]
     },
     "execution_count": 22,
     "metadata": {},
     "output_type": "execute_result"
    }
   ],
   "source": [
    "# Validate the 1st requirment \n",
    "locals()[reqs.data['Name'][1]] = reqs.data['Actual'][1] \n",
    "locals()[reqs.data['Name'][2]] = reqs.data['Actual'][2]\n",
    "eval(reqs.data['Constraint'][2]) # show the test results"
   ]
  },
  {
   "cell_type": "code",
   "execution_count": 26,
   "id": "918ac996-83bb-4c5c-a979-4b6278656ff8",
   "metadata": {
    "kernel": "Python3"
   },
   "outputs": [
    {
     "data": {
      "text/plain": [
       "False"
      ]
     },
     "execution_count": 26,
     "metadata": {},
     "output_type": "execute_result"
    }
   ],
   "source": [
    "# Validate the 2nd requirment\n",
    "reqs.data['Actual'][4] = 1.5\n",
    "locals()[reqs.data['Name'][4]] = reqs.data['Actual'][4] \n",
    "eval(reqs.data['Constraint'][4]) # show the test results"
   ]
  },
  {
   "cell_type": "markdown",
   "id": "37f8e525-5493-4639-89b6-c23be5a199a1",
   "metadata": {
    "kernel": "Python3"
   },
   "source": [
    "Then evalueate the contratint equation directly"
   ]
  },
  {
   "cell_type": "code",
   "execution_count": 27,
   "id": "f214b38b-0d22-4475-af2f-e160b93977d1",
   "metadata": {
    "kernel": "Python3"
   },
   "outputs": [],
   "source": [
    "# update the data base\n",
    "reqs.data['Pass'][2] = eval(reqs.data['Constraint'][2])\n",
    "reqs.data['Pass'][4] = eval(reqs.data['Constraint'][4])"
   ]
  },
  {
   "cell_type": "code",
   "execution_count": 28,
   "id": "86c92099-a6a9-440c-9f29-6aa0aa8370bc",
   "metadata": {
    "kernel": "Python3"
   },
   "outputs": [
    {
     "data": {
      "text/html": [
       "<style  type=\"text/css\" >\n",
       "    #T_95310_ th {\n",
       "          text-align: left;\n",
       "    }#T_95310_row0_col0,#T_95310_row0_col1,#T_95310_row0_col2,#T_95310_row0_col3,#T_95310_row0_col4,#T_95310_row0_col5,#T_95310_row0_col6,#T_95310_row0_col7,#T_95310_row0_col8,#T_95310_row1_col0,#T_95310_row1_col1,#T_95310_row1_col2,#T_95310_row1_col3,#T_95310_row1_col4,#T_95310_row1_col5,#T_95310_row1_col6,#T_95310_row1_col7,#T_95310_row1_col8,#T_95310_row2_col0,#T_95310_row2_col1,#T_95310_row2_col2,#T_95310_row2_col3,#T_95310_row2_col4,#T_95310_row2_col5,#T_95310_row2_col6,#T_95310_row2_col7,#T_95310_row2_col8,#T_95310_row3_col0,#T_95310_row3_col1,#T_95310_row3_col2,#T_95310_row3_col3,#T_95310_row3_col4,#T_95310_row3_col5,#T_95310_row3_col6,#T_95310_row3_col7,#T_95310_row3_col8,#T_95310_row4_col0,#T_95310_row4_col1,#T_95310_row4_col2,#T_95310_row4_col3,#T_95310_row4_col4,#T_95310_row4_col5,#T_95310_row4_col6,#T_95310_row4_col7,#T_95310_row4_col8,#T_95310_row5_col0,#T_95310_row5_col1,#T_95310_row5_col2,#T_95310_row5_col3,#T_95310_row5_col4,#T_95310_row5_col5,#T_95310_row5_col6,#T_95310_row5_col7,#T_95310_row5_col8,#T_95310_row6_col0,#T_95310_row6_col1,#T_95310_row6_col2,#T_95310_row6_col3,#T_95310_row6_col4,#T_95310_row6_col5,#T_95310_row6_col6,#T_95310_row6_col7,#T_95310_row6_col8,#T_95310_row7_col0,#T_95310_row7_col1,#T_95310_row7_col2,#T_95310_row7_col3,#T_95310_row7_col4,#T_95310_row7_col5,#T_95310_row7_col6,#T_95310_row7_col7,#T_95310_row7_col8,#T_95310_row8_col0,#T_95310_row8_col1,#T_95310_row8_col2,#T_95310_row8_col3,#T_95310_row8_col4,#T_95310_row8_col5,#T_95310_row8_col6,#T_95310_row8_col7,#T_95310_row8_col8,#T_95310_row9_col0,#T_95310_row9_col1,#T_95310_row9_col2,#T_95310_row9_col3,#T_95310_row9_col4,#T_95310_row9_col5,#T_95310_row9_col6,#T_95310_row9_col7,#T_95310_row9_col8{\n",
       "            text-align:  left;\n",
       "            text-align:  left;\n",
       "            text-align:  left;\n",
       "            text-align:  left;\n",
       "            text-align:  left;\n",
       "        }</style><table id=\"T_95310_\" ><thead>    <tr>        <th class=\"blank level0\" ></th>        <th class=\"col_heading level0 col0\" >Class</th>        <th class=\"col_heading level0 col1\" >ID</th>        <th class=\"col_heading level0 col2\" >Name</th>        <th class=\"col_heading level0 col3\" >Doc</th>        <th class=\"col_heading level0 col4\" >Type</th>        <th class=\"col_heading level0 col5\" >Constraint</th>        <th class=\"col_heading level0 col6\" >Actual</th>        <th class=\"col_heading level0 col7\" >Delta</th>        <th class=\"col_heading level0 col8\" >Pass</th>    </tr></thead><tbody>\n",
       "                <tr>\n",
       "                        <th id=\"T_95310_level0_row0\" class=\"row_heading level0 row0\" >0</th>\n",
       "                        <td id=\"T_95310_row0_col0\" class=\"data row0 col0\" >requirement</td>\n",
       "                        <td id=\"T_95310_row0_col1\" class=\"data row0 col1\" >A</td>\n",
       "                        <td id=\"T_95310_row0_col2\" class=\"data row0 col2\" >payload</td>\n",
       "                        <td id=\"T_95310_row0_col3\" class=\"data row0 col3\" >System shall be capable of carrying a minimum of 10 pounds.</td>\n",
       "                        <td id=\"T_95310_row0_col4\" class=\"data row0 col4\" ></td>\n",
       "                        <td id=\"T_95310_row0_col5\" class=\"data row0 col5\" ></td>\n",
       "                        <td id=\"T_95310_row0_col6\" class=\"data row0 col6\" ></td>\n",
       "                        <td id=\"T_95310_row0_col7\" class=\"data row0 col7\" >NA</td>\n",
       "                        <td id=\"T_95310_row0_col8\" class=\"data row0 col8\" ></td>\n",
       "            </tr>\n",
       "            <tr>\n",
       "                        <th id=\"T_95310_level0_row1\" class=\"row_heading level0 row1\" >1</th>\n",
       "                        <td id=\"T_95310_row1_col0\" class=\"data row1 col0\" >attribute</td>\n",
       "                        <td id=\"T_95310_row1_col1\" class=\"data row1 col1\" ></td>\n",
       "                        <td id=\"T_95310_row1_col2\" class=\"data row1 col2\" >massLoad</td>\n",
       "                        <td id=\"T_95310_row1_col3\" class=\"data row1 col3\" ></td>\n",
       "                        <td id=\"T_95310_row1_col4\" class=\"data row1 col4\" >Real</td>\n",
       "                        <td id=\"T_95310_row1_col5\" class=\"data row1 col5\" ></td>\n",
       "                        <td id=\"T_95310_row1_col6\" class=\"data row1 col6\" >501</td>\n",
       "                        <td id=\"T_95310_row1_col7\" class=\"data row1 col7\" >TBD</td>\n",
       "                        <td id=\"T_95310_row1_col8\" class=\"data row1 col8\" ></td>\n",
       "            </tr>\n",
       "            <tr>\n",
       "                        <th id=\"T_95310_level0_row2\" class=\"row_heading level0 row2\" >2</th>\n",
       "                        <td id=\"T_95310_row2_col0\" class=\"data row2 col0\" >attribute</td>\n",
       "                        <td id=\"T_95310_row2_col1\" class=\"data row2 col1\" ></td>\n",
       "                        <td id=\"T_95310_row2_col2\" class=\"data row2 col2\" >massCapacity</td>\n",
       "                        <td id=\"T_95310_row2_col3\" class=\"data row2 col3\" ></td>\n",
       "                        <td id=\"T_95310_row2_col4\" class=\"data row2 col4\" >Real</td>\n",
       "                        <td id=\"T_95310_row2_col5\" class=\"data row2 col5\" > massLoad <= massCapacity </td>\n",
       "                        <td id=\"T_95310_row2_col6\" class=\"data row2 col6\" >500</td>\n",
       "                        <td id=\"T_95310_row2_col7\" class=\"data row2 col7\" >TBD</td>\n",
       "                        <td id=\"T_95310_row2_col8\" class=\"data row2 col8\" >False</td>\n",
       "            </tr>\n",
       "            <tr>\n",
       "                        <th id=\"T_95310_level0_row3\" class=\"row_heading level0 row3\" >3</th>\n",
       "                        <td id=\"T_95310_row3_col0\" class=\"data row3 col0\" >requirement</td>\n",
       "                        <td id=\"T_95310_row3_col1\" class=\"data row3 col1\" >A.1</td>\n",
       "                        <td id=\"T_95310_row3_col2\" class=\"data row3 col2\" >payloadHandling</td>\n",
       "                        <td id=\"T_95310_row3_col3\" class=\"data row3 col3\" >UAV shall be capable of safely carrying payloads sensitive to vibration and g forces</td>\n",
       "                        <td id=\"T_95310_row3_col4\" class=\"data row3 col4\" ></td>\n",
       "                        <td id=\"T_95310_row3_col5\" class=\"data row3 col5\" ></td>\n",
       "                        <td id=\"T_95310_row3_col6\" class=\"data row3 col6\" ></td>\n",
       "                        <td id=\"T_95310_row3_col7\" class=\"data row3 col7\" >NA</td>\n",
       "                        <td id=\"T_95310_row3_col8\" class=\"data row3 col8\" ></td>\n",
       "            </tr>\n",
       "            <tr>\n",
       "                        <th id=\"T_95310_level0_row4\" class=\"row_heading level0 row4\" >4</th>\n",
       "                        <td id=\"T_95310_row4_col0\" class=\"data row4 col0\" >attribute</td>\n",
       "                        <td id=\"T_95310_row4_col1\" class=\"data row4 col1\" ></td>\n",
       "                        <td id=\"T_95310_row4_col2\" class=\"data row4 col2\" >packageGforce</td>\n",
       "                        <td id=\"T_95310_row4_col3\" class=\"data row4 col3\" ></td>\n",
       "                        <td id=\"T_95310_row4_col4\" class=\"data row4 col4\" >Real</td>\n",
       "                        <td id=\"T_95310_row4_col5\" class=\"data row4 col5\" >0.8<= packageGforce <= 1.2 </td>\n",
       "                        <td id=\"T_95310_row4_col6\" class=\"data row4 col6\" >1.500000</td>\n",
       "                        <td id=\"T_95310_row4_col7\" class=\"data row4 col7\" >TBD</td>\n",
       "                        <td id=\"T_95310_row4_col8\" class=\"data row4 col8\" >False</td>\n",
       "            </tr>\n",
       "            <tr>\n",
       "                        <th id=\"T_95310_level0_row5\" class=\"row_heading level0 row5\" >5</th>\n",
       "                        <td id=\"T_95310_row5_col0\" class=\"data row5 col0\" >requirement</td>\n",
       "                        <td id=\"T_95310_row5_col1\" class=\"data row5 col1\" >A.3</td>\n",
       "                        <td id=\"T_95310_row5_col2\" class=\"data row5 col2\" >systemCost</td>\n",
       "                        <td id=\"T_95310_row5_col3\" class=\"data row5 col3\" >The system shall cost less than $500,000 USD.</td>\n",
       "                        <td id=\"T_95310_row5_col4\" class=\"data row5 col4\" ></td>\n",
       "                        <td id=\"T_95310_row5_col5\" class=\"data row5 col5\" ></td>\n",
       "                        <td id=\"T_95310_row5_col6\" class=\"data row5 col6\" ></td>\n",
       "                        <td id=\"T_95310_row5_col7\" class=\"data row5 col7\" >NA</td>\n",
       "                        <td id=\"T_95310_row5_col8\" class=\"data row5 col8\" ></td>\n",
       "            </tr>\n",
       "            <tr>\n",
       "                        <th id=\"T_95310_level0_row6\" class=\"row_heading level0 row6\" >6</th>\n",
       "                        <td id=\"T_95310_row6_col0\" class=\"data row6 col0\" >attribute</td>\n",
       "                        <td id=\"T_95310_row6_col1\" class=\"data row6 col1\" ></td>\n",
       "                        <td id=\"T_95310_row6_col2\" class=\"data row6 col2\" >cost</td>\n",
       "                        <td id=\"T_95310_row6_col3\" class=\"data row6 col3\" >Based on the Kerbal model of `model` and parts library</td>\n",
       "                        <td id=\"T_95310_row6_col4\" class=\"data row6 col4\" >Real</td>\n",
       "                        <td id=\"T_95310_row6_col5\" class=\"data row6 col5\" >cost<= 500000 </td>\n",
       "                        <td id=\"T_95310_row6_col6\" class=\"data row6 col6\" ></td>\n",
       "                        <td id=\"T_95310_row6_col7\" class=\"data row6 col7\" >TBD</td>\n",
       "                        <td id=\"T_95310_row6_col8\" class=\"data row6 col8\" ></td>\n",
       "            </tr>\n",
       "            <tr>\n",
       "                        <th id=\"T_95310_level0_row7\" class=\"row_heading level0 row7\" >7</th>\n",
       "                        <td id=\"T_95310_row7_col0\" class=\"data row7 col0\" >attribute</td>\n",
       "                        <td id=\"T_95310_row7_col1\" class=\"data row7 col1\" ></td>\n",
       "                        <td id=\"T_95310_row7_col2\" class=\"data row7 col2\" >massCapacity</td>\n",
       "                        <td id=\"T_95310_row7_col3\" class=\"data row7 col3\" ></td>\n",
       "                        <td id=\"T_95310_row7_col4\" class=\"data row7 col4\" >Real</td>\n",
       "                        <td id=\"T_95310_row7_col5\" class=\"data row7 col5\" ></td>\n",
       "                        <td id=\"T_95310_row7_col6\" class=\"data row7 col6\" ></td>\n",
       "                        <td id=\"T_95310_row7_col7\" class=\"data row7 col7\" >TBD</td>\n",
       "                        <td id=\"T_95310_row7_col8\" class=\"data row7 col8\" ></td>\n",
       "            </tr>\n",
       "            <tr>\n",
       "                        <th id=\"T_95310_level0_row8\" class=\"row_heading level0 row8\" >8</th>\n",
       "                        <td id=\"T_95310_row8_col0\" class=\"data row8 col0\" >attribute</td>\n",
       "                        <td id=\"T_95310_row8_col1\" class=\"data row8 col1\" ></td>\n",
       "                        <td id=\"T_95310_row8_col2\" class=\"data row8 col2\" >packageGforce</td>\n",
       "                        <td id=\"T_95310_row8_col3\" class=\"data row8 col3\" ></td>\n",
       "                        <td id=\"T_95310_row8_col4\" class=\"data row8 col4\" >Real</td>\n",
       "                        <td id=\"T_95310_row8_col5\" class=\"data row8 col5\" ></td>\n",
       "                        <td id=\"T_95310_row8_col6\" class=\"data row8 col6\" ></td>\n",
       "                        <td id=\"T_95310_row8_col7\" class=\"data row8 col7\" >TBD</td>\n",
       "                        <td id=\"T_95310_row8_col8\" class=\"data row8 col8\" ></td>\n",
       "            </tr>\n",
       "            <tr>\n",
       "                        <th id=\"T_95310_level0_row9\" class=\"row_heading level0 row9\" >9</th>\n",
       "                        <td id=\"T_95310_row9_col0\" class=\"data row9 col0\" >attribute</td>\n",
       "                        <td id=\"T_95310_row9_col1\" class=\"data row9 col1\" ></td>\n",
       "                        <td id=\"T_95310_row9_col2\" class=\"data row9 col2\" >cost</td>\n",
       "                        <td id=\"T_95310_row9_col3\" class=\"data row9 col3\" ></td>\n",
       "                        <td id=\"T_95310_row9_col4\" class=\"data row9 col4\" >Real</td>\n",
       "                        <td id=\"T_95310_row9_col5\" class=\"data row9 col5\" ></td>\n",
       "                        <td id=\"T_95310_row9_col6\" class=\"data row9 col6\" ></td>\n",
       "                        <td id=\"T_95310_row9_col7\" class=\"data row9 col7\" >TBD</td>\n",
       "                        <td id=\"T_95310_row9_col8\" class=\"data row9 col8\" ></td>\n",
       "            </tr>\n",
       "    </tbody></table>"
      ],
      "text/plain": [
       "<pandas.io.formats.style.Styler at 0x7fb81e8cf400>"
      ]
     },
     "execution_count": 28,
     "metadata": {},
     "output_type": "execute_result"
    }
   ],
   "source": [
    "reqs"
   ]
  },
  {
   "cell_type": "code",
   "execution_count": 2,
   "id": "e27afbc1-2d42-4587-8589-f688cfde4d87",
   "metadata": {
    "kernel": "Python3"
   },
   "outputs": [],
   "source": [
    "import ema_workbench"
   ]
  },
  {
   "cell_type": "code",
   "execution_count": null,
   "id": "d9f0391e-2cc9-42ee-8bb0-a27aebbe83ab",
   "metadata": {
    "kernel": "Python3"
   },
   "outputs": [],
   "source": []
  }
 ],
 "metadata": {
  "kernelspec": {
   "display_name": "SoS",
   "language": "sos",
   "name": "sos"
  },
  "language_info": {
   "codemirror_mode": "sos",
   "file_extension": ".sos",
   "mimetype": "text/x-sos",
   "name": "sos",
   "nbconvert_exporter": "sos_notebook.converter.SoS_Exporter",
   "pygments_lexer": "sos"
  },
  "sos": {
   "kernels": [
    [
     "Python3",
     "python3",
     "Python3",
     "#FFD91A",
     {
      "name": "ipython",
      "version": 3
     }
    ],
    [
     "SoS",
     "sos",
     "",
     "",
     "sos"
    ],
    [
     "SysML",
     "sysml",
     "sysml",
     "",
     "sysml"
    ]
   ],
   "version": "0.22.3"
  }
 },
 "nbformat": 4,
 "nbformat_minor": 5
}
