{
 "cells": [
  {
   "cell_type": "markdown",
   "id": "nutritional-hamilton",
   "metadata": {
    "kernel": "SoS"
   },
   "source": [
    "# Working with sysmlv2 models and the API\n",
    "\n",
    "## This is a notebook walks through a SysMLv2 create, publish, and interogate cycle when using the API <br> (partially based on the pyMBE kerbal example)"
   ]
  },
  {
   "cell_type": "markdown",
   "id": "016a1d62-3ce5-4749-9dcd-98046cd92119",
   "metadata": {
    "kernel": "SoS"
   },
   "source": [
    "## 1 - Lets make a simple sysmlv2 model and view the model diagram"
   ]
  },
  {
   "cell_type": "code",
   "execution_count": 4,
   "id": "d2ec9614-34e5-424a-91b8-93f170b9c11a",
   "metadata": {
    "kernel": "SysML",
    "tags": []
   },
   "outputs": [
    {
     "data": {
      "text/plain": [
       "Package jdehart_api_demo (8ced735a-bc9b-4f93-a4b1-539652007308)\n"
      ]
     },
     "execution_count": 4,
     "metadata": {},
     "output_type": "execute_result"
    }
   ],
   "source": [
    "package jdehart_api_demo {\n",
    "    import ScalarValues::*;\n",
    "    \n",
    "    part A {\n",
    "        attribute mass : Real = 30;\n",
    "    }\n",
    "    package internal {\n",
    "        part B {\n",
    "            part C;\n",
    "            part D;\n",
    "    }\n",
    "    }\n",
    "    \n",
    "}"
   ]
  },
  {
   "cell_type": "code",
   "execution_count": 5,
   "id": "ef8e46a9-875a-4735-b1ac-1ed67a2f3171",
   "metadata": {
    "kernel": "SysML",
    "tags": []
   },
   "outputs": [
    {
     "data": {
      "image/svg+xml": [
       "<?xml version=\"1.0\" encoding=\"UTF-8\" standalone=\"no\"?><svg xmlns=\"http://www.w3.org/2000/svg\" xmlns:xlink=\"http://www.w3.org/1999/xlink\" contentScriptType=\"application/ecmascript\" contentStyleType=\"text/css\" height=\"303px\" preserveAspectRatio=\"none\" style=\"width:349px;height:303px;\" version=\"1.1\" viewBox=\"0 0 349 303\" width=\"349px\" zoomAndPan=\"magnify\"><defs/><g><!--MD5=[fbc87193dbaf4d95561dea2c320d4a47]\n",
       "cluster E1--><a href=\"psysml:e5f4fbdc-4c45-4bd8-8b85-4f01454389f5\" target=\"_top\" title=\"psysml:e5f4fbdc-4c45-4bd8-8b85-4f01454389f5\" xlink:actuate=\"onRequest\" xlink:href=\"psysml:e5f4fbdc-4c45-4bd8-8b85-4f01454389f5\" xlink:show=\"new\" xlink:title=\"psysml:e5f4fbdc-4c45-4bd8-8b85-4f01454389f5\" xlink:type=\"simple\"><polygon fill=\"#FFFFFF\" points=\"16,6,159,6,166,28.2969,327,28.2969,327,291,16,291,16,6\" style=\"stroke: #000000; stroke-width: 1.5;\"/><line style=\"stroke: #000000; stroke-width: 1.5;\" x1=\"16\" x2=\"166\" y1=\"28.2969\" y2=\"28.2969\"/><text fill=\"#000000\" font-family=\"sans-serif\" font-size=\"14\" font-weight=\"bold\" lengthAdjust=\"spacingAndGlyphs\" textLength=\"137\" x=\"20\" y=\"20.9951\">jdehart_api_demo</text></a><!--MD5=[d5e69f78d87373223dbae638b30a9c99]\n",
       "cluster E3--><a href=\"psysml:130d5ea4-3de8-4839-8202-5910ed8294aa\" target=\"_top\" title=\"psysml:130d5ea4-3de8-4839-8202-5910ed8294aa\" xlink:actuate=\"onRequest\" xlink:href=\"psysml:130d5ea4-3de8-4839-8202-5910ed8294aa\" xlink:show=\"new\" xlink:title=\"psysml:130d5ea4-3de8-4839-8202-5910ed8294aa\" xlink:type=\"simple\"><polygon fill=\"#FFFFFF\" points=\"152,49,218,49,225,71.2969,303,71.2969,303,267,152,267,152,49\" style=\"stroke: #000000; stroke-width: 1.5;\"/><line style=\"stroke: #000000; stroke-width: 1.5;\" x1=\"152\" x2=\"225\" y1=\"71.2969\" y2=\"71.2969\"/><text fill=\"#000000\" font-family=\"sans-serif\" font-size=\"14\" font-weight=\"bold\" lengthAdjust=\"spacingAndGlyphs\" textLength=\"60\" x=\"156\" y=\"63.9951\">internal</text></a><!--MD5=[b4997ac47864f28c2f74865a473b2911]\n",
       "class E2--><a href=\"psysml:3f2b6dd4-0590-499b-a3b0-c41b91486849\" target=\"_top\" title=\"psysml:3f2b6dd4-0590-499b-a3b0-c41b91486849\" xlink:actuate=\"onRequest\" xlink:href=\"psysml:3f2b6dd4-0590-499b-a3b0-c41b91486849\" xlink:show=\"new\" xlink:title=\"psysml:3f2b6dd4-0590-499b-a3b0-c41b91486849\" xlink:type=\"simple\"><rect fill=\"#FFFFFF\" height=\"75.5469\" id=\"E2\" rx=\"10\" ry=\"10\" style=\"stroke: #383838; stroke-width: 1.5;\" width=\"103\" x=\"32.5\" y=\"69\"/><text fill=\"#000000\" font-family=\"sans-serif\" font-size=\"12\" font-style=\"italic\" lengthAdjust=\"spacingAndGlyphs\" textLength=\"40\" x=\"64\" y=\"85.1387\">«part»</text><text fill=\"#000000\" font-family=\"sans-serif\" font-size=\"12\" lengthAdjust=\"spacingAndGlyphs\" textLength=\"8\" x=\"80\" y=\"99.1074\">A</text><line style=\"stroke: #383838; stroke-width: 1.5;\" x1=\"33.5\" x2=\"134.5\" y1=\"106.9375\" y2=\"106.9375\"/><text fill=\"#000000\" font-family=\"sans-serif\" font-size=\"11\" lengthAdjust=\"spacingAndGlyphs\" textLength=\"91\" x=\"38.5\" y=\"137.9526\">mass: Real=30;</text><line style=\"stroke: #383838; stroke-width: 1.0;\" x1=\"33.5\" x2=\"56.5\" y1=\"121.3398\" y2=\"121.3398\"/><text fill=\"#000000\" font-family=\"sans-serif\" font-size=\"11\" lengthAdjust=\"spacingAndGlyphs\" textLength=\"55\" x=\"56.5\" y=\"124.6479\">attributes</text><line style=\"stroke: #383838; stroke-width: 1.0;\" x1=\"111.5\" x2=\"134.5\" y1=\"121.3398\" y2=\"121.3398\"/></a><!--MD5=[ebbe1d658d1005bcc118a6aa81145e00]\n",
       "class E4--><a href=\"psysml:0e502fae-565f-4194-a063-b120d6bee864\" target=\"_top\" title=\"psysml:0e502fae-565f-4194-a063-b120d6bee864\" xlink:actuate=\"onRequest\" xlink:href=\"psysml:0e502fae-565f-4194-a063-b120d6bee864\" xlink:show=\"new\" xlink:title=\"psysml:0e502fae-565f-4194-a063-b120d6bee864\" xlink:type=\"simple\"><rect fill=\"#FFFFFF\" height=\"45.9375\" id=\"E4\" rx=\"10\" ry=\"10\" style=\"stroke: #383838; stroke-width: 1.5;\" width=\"42\" x=\"208\" y=\"84\"/><text fill=\"#000000\" font-family=\"sans-serif\" font-size=\"12\" font-style=\"italic\" lengthAdjust=\"spacingAndGlyphs\" textLength=\"40\" x=\"209\" y=\"100.1387\">«part»</text><text fill=\"#000000\" font-family=\"sans-serif\" font-size=\"12\" lengthAdjust=\"spacingAndGlyphs\" textLength=\"8\" x=\"225\" y=\"114.1074\">B</text><line style=\"stroke: #383838; stroke-width: 1.5;\" x1=\"209\" x2=\"249\" y1=\"121.9375\" y2=\"121.9375\"/></a><!--MD5=[270fce915f116d4de14055a7c1d9a0f3]\n",
       "class E5--><a href=\"psysml:176b2733-26fa-4519-bdc3-16e3bd836975\" target=\"_top\" title=\"psysml:176b2733-26fa-4519-bdc3-16e3bd836975\" xlink:actuate=\"onRequest\" xlink:href=\"psysml:176b2733-26fa-4519-bdc3-16e3bd836975\" xlink:show=\"new\" xlink:title=\"psysml:176b2733-26fa-4519-bdc3-16e3bd836975\" xlink:type=\"simple\"><rect fill=\"#FFFFFF\" height=\"45.9375\" id=\"E5\" rx=\"10\" ry=\"10\" style=\"stroke: #383838; stroke-width: 1.5;\" width=\"42\" x=\"168\" y=\"205\"/><text fill=\"#000000\" font-family=\"sans-serif\" font-size=\"12\" font-style=\"italic\" lengthAdjust=\"spacingAndGlyphs\" textLength=\"40\" x=\"169\" y=\"221.1387\">«part»</text><text fill=\"#000000\" font-family=\"sans-serif\" font-size=\"12\" lengthAdjust=\"spacingAndGlyphs\" textLength=\"8\" x=\"185\" y=\"235.1074\">C</text><line style=\"stroke: #383838; stroke-width: 1.5;\" x1=\"169\" x2=\"209\" y1=\"242.9375\" y2=\"242.9375\"/></a><!--MD5=[60a26617385b1d2d0262a64233df1f8d]\n",
       "class E6--><a href=\"psysml:e251eedc-d119-4594-9992-758556847c7d\" target=\"_top\" title=\"psysml:e251eedc-d119-4594-9992-758556847c7d\" xlink:actuate=\"onRequest\" xlink:href=\"psysml:e251eedc-d119-4594-9992-758556847c7d\" xlink:show=\"new\" xlink:title=\"psysml:e251eedc-d119-4594-9992-758556847c7d\" xlink:type=\"simple\"><rect fill=\"#FFFFFF\" height=\"45.9375\" id=\"E6\" rx=\"10\" ry=\"10\" style=\"stroke: #383838; stroke-width: 1.5;\" width=\"42\" x=\"245\" y=\"205\"/><text fill=\"#000000\" font-family=\"sans-serif\" font-size=\"12\" font-style=\"italic\" lengthAdjust=\"spacingAndGlyphs\" textLength=\"40\" x=\"246\" y=\"221.1387\">«part»</text><text fill=\"#000000\" font-family=\"sans-serif\" font-size=\"12\" lengthAdjust=\"spacingAndGlyphs\" textLength=\"9\" x=\"261.5\" y=\"235.1074\">D</text><line style=\"stroke: #383838; stroke-width: 1.5;\" x1=\"246\" x2=\"286\" y1=\"242.9375\" y2=\"242.9375\"/></a><!--MD5=[62aa6af11e70f752912c1cb0466f24f7]\n",
       "reverse link E4 to E5--><a href=\"psysml:ff93e5e9-2310-47ab-ae4c-4eba291ee954\" target=\"_top\" title=\"psysml:ff93e5e9-2310-47ab-ae4c-4eba291ee954\" xlink:actuate=\"onRequest\" xlink:href=\"psysml:ff93e5e9-2310-47ab-ae4c-4eba291ee954\" xlink:show=\"new\" xlink:title=\"psysml:ff93e5e9-2310-47ab-ae4c-4eba291ee954\" xlink:type=\"simple\"><path d=\"M217.41,142.47 C210.69,162.48 202.41,187.11 196.53,204.61 \" fill=\"none\" id=\"E4&lt;-E5\" style=\"stroke: #383838; stroke-width: 1.0;\"/><polygon fill=\"#383838\" points=\"221.57,130.1,215.8656,134.5113,217.7436,141.4736,223.448,137.0623,221.57,130.1\" style=\"stroke: #383838; stroke-width: 1.0;\"/></a><!--MD5=[6db378b65e1aef66a01cb3103812b399]\n",
       "reverse link E4 to E6--><a href=\"psysml:a394bc0f-0ec2-4aa1-9514-b98b0cf428f7\" target=\"_top\" title=\"psysml:a394bc0f-0ec2-4aa1-9514-b98b0cf428f7\" xlink:actuate=\"onRequest\" xlink:href=\"psysml:a394bc0f-0ec2-4aa1-9514-b98b0cf428f7\" xlink:show=\"new\" xlink:title=\"psysml:a394bc0f-0ec2-4aa1-9514-b98b0cf428f7\" xlink:type=\"simple\"><path d=\"M239.81,142.75 C246.01,162.71 253.62,187.19 259.04,204.61 \" fill=\"none\" id=\"E4&lt;-E6\" style=\"stroke: #383838; stroke-width: 1.0;\"/><polygon fill=\"#383838\" points=\"235.87,130.1,233.8304,137.0166,239.4305,141.5596,241.4701,134.643,235.87,130.1\" style=\"stroke: #383838; stroke-width: 1.0;\"/></a><!--MD5=[641f97700e86c7ea0a1f7af8bfa7fa66]\n",
       "@startuml\r\n",
       "skinparam monochrome true\r\n",
       "skinparam classbackgroundcolor white\r\n",
       "skinparam shadowing false\r\n",
       "skinparam wrapWidth 300\r\n",
       "hide circle\r\n",
       "\r\n",
       "package \"jdehart_api_demo\" as E1  [[psysml:e5f4fbdc-4c45-4bd8-8b85-4f01454389f5 ]]  {\r\n",
       "comp usage \"A\" as E2  <<(T,blue) part>> [[psysml:3f2b6dd4-0590-499b-a3b0-c41b91486849 ]] {\r\n",
       "- - attributes - -\r\n",
       "mass: Real=30; \r\n",
       "}\r\n",
       "package \"internal\" as E3  [[psysml:130d5ea4-3de8-4839-8202-5910ed8294aa ]]  {\r\n",
       "comp usage \"B\" as E4  <<(T,blue) part>> [[psysml:0e502fae-565f-4194-a063-b120d6bee864 ]] {\r\n",
       "}\r\n",
       "comp usage \"C\" as E5  <<(T,blue) part>> [[psysml:176b2733-26fa-4519-bdc3-16e3bd836975 ]] {\r\n",
       "}\r\n",
       "comp usage \"D\" as E6  <<(T,blue) part>> [[psysml:e251eedc-d119-4594-9992-758556847c7d ]] {\r\n",
       "}\r\n",
       "E4 *- - E5 [[psysml:ff93e5e9-2310-47ab-ae4c-4eba291ee954 ]] \r\n",
       "E4 *- - E6 [[psysml:a394bc0f-0ec2-4aa1-9514-b98b0cf428f7 ]] \r\n",
       "}\r\n",
       "}\r\n",
       "@enduml\r\n",
       "\n",
       "PlantUML version 1.2020.13(Sat Jun 13 12:26:38 UTC 2020)\n",
       "(EPL source distribution)\n",
       "Java Runtime: OpenJDK Runtime Environment\n",
       "JVM: OpenJDK 64-Bit Server VM\n",
       "Default Encoding: UTF-8\n",
       "Language: en\n",
       "Country: null\n",
       "--></g></svg>"
      ]
     },
     "execution_count": 5,
     "metadata": {},
     "output_type": "execute_result"
    }
   ],
   "source": [
    "%viz jdehart_api_demo"
   ]
  },
  {
   "cell_type": "markdown",
   "id": "6dce5e65-28d4-40ca-9e5f-3b38697ab407",
   "metadata": {
    "kernel": "SysML"
   },
   "source": [
    "## 2 - Now lets publish the model to the API"
   ]
  },
  {
   "cell_type": "code",
   "execution_count": 10,
   "id": "a266c756-c59a-48e3-8433-7298819509ed",
   "metadata": {
    "kernel": "SysML"
   },
   "outputs": [
    {
     "name": "stdout",
     "output_type": "stream",
     "text": [
      "API base path: http://sysml2.intercax.com:9000\n",
      "Processing\n",
      "Posting Commit (21 elements)...77963d2e-a79a-4032-b766-c1bea5ad6053\n",
      "\n"
     ]
    },
    {
     "data": {
      "text/plain": [
       "Saved to Project jdehart_api_demo Fri Jun 25 23:59:14 UTC 2021 (225af689-efed-4aaa-9a81-8cd8e0745f1b)\n"
      ]
     },
     "execution_count": 10,
     "metadata": {},
     "output_type": "execute_result"
    }
   ],
   "source": [
    "%publish jdehart_api_demo"
   ]
  },
  {
   "cell_type": "markdown",
   "id": "1299bcef-89b6-48d7-9ced-0b4329a70c00",
   "metadata": {
    "kernel": "SysML"
   },
   "source": [
    "## 3 - Now lets fetch a list of models from the API and create a dropdown box to select a particular model from (Dont look at this stuff... it messy for a slide)"
   ]
  },
  {
   "cell_type": "code",
   "execution_count": 11,
   "id": "recreational-commons",
   "metadata": {
    "kernel": "pymbe",
    "tags": []
   },
   "outputs": [],
   "source": [
    "from __future__ import print_function\n",
    "\n",
    "import requests\n",
    "import getpass\n",
    "import math\n",
    "\n",
    "import time\n",
    "import sysml_v2_api_client\n",
    "from sysml_v2_api_client.rest import ApiException\n",
    "from pprint import pprint\n",
    "\n",
    "import json\n",
    "import networkx as NX\n",
    "import matplotlib.pyplot as plt\n",
    "\n",
    "import random\n",
    "import copy\n",
    "\n",
    "import pymbe.api as pm\n",
    "#from pymbe.model_loading import ModelingSession as Session\n",
    "#from pymbe.interpretation.interpretation import RandomGenerationStrategy as RGS"
   ]
  },
  {
   "cell_type": "code",
   "execution_count": 12,
   "id": "turkish-argument",
   "metadata": {
    "kernel": "pymbe",
    "tags": []
   },
   "outputs": [],
   "source": [
    "import pymbe.query as pmQuery"
   ]
  },
  {
   "cell_type": "markdown",
   "id": "differential-south",
   "metadata": {
    "kernel": "SoS"
   },
   "source": [
    "## 4 - Configure API Server Connection"
   ]
  },
  {
   "cell_type": "code",
   "execution_count": 13,
   "id": "cognitive-vault",
   "metadata": {
    "kernel": "pymbe",
    "tags": []
   },
   "outputs": [],
   "source": [
    "sysml_api_base_url = 'http://sysml2.intercax.com:9000' # http://sysml2-sst.intercax.com:9000"
   ]
  },
  {
   "cell_type": "markdown",
   "id": "unsigned-macintosh",
   "metadata": {
    "kernel": "SoS"
   },
   "source": [
    "Activate APIs - Connect the API classes to the server"
   ]
  },
  {
   "cell_type": "code",
   "execution_count": 14,
   "id": "theoretical-musical",
   "metadata": {
    "kernel": "pymbe",
    "tags": []
   },
   "outputs": [],
   "source": [
    "configuration = sysml_v2_api_client.Configuration(\n",
    "    host = sysml_api_base_url\n",
    ")\n",
    "\n",
    "projects_api_instance = None\n",
    "\n",
    "with sysml_v2_api_client.ApiClient(configuration) as api_client:\n",
    "    # Create an instance of the API class\n",
    "    project_api_instance = sysml_v2_api_client.ProjectApi(api_client)\n",
    "    \n",
    "commits_api_instance = None\n",
    "\n",
    "with sysml_v2_api_client.ApiClient(configuration) as api_client:\n",
    "    # Create an instance of the API class\n",
    "    commits_api_instance = sysml_v2_api_client.CommitApi(api_client)\n",
    "    \n",
    "elements_api_instance = None\n",
    "\n",
    "with sysml_v2_api_client.ApiClient(configuration) as api_client:\n",
    "    # Create an instance of the API class\n",
    "    elements_api_instance = sysml_v2_api_client.ElementApi(api_client)"
   ]
  },
  {
   "cell_type": "markdown",
   "id": "criminal-calgary",
   "metadata": {
    "kernel": "SoS"
   },
   "source": [
    "Pull down commits and elements catalogs - With the API handles, use the pre-built methods to get lists of commits and elements."
   ]
  },
  {
   "cell_type": "code",
   "execution_count": 15,
   "id": "focal-bleeding",
   "metadata": {
    "kernel": "pymbe",
    "tags": []
   },
   "outputs": [
    {
     "data": {
      "text/plain": [
       "<sysml_v2_api_client.api.project_api.ProjectApi at 0x7f92eec52700>"
      ]
     },
     "execution_count": 15,
     "metadata": {},
     "output_type": "execute_result"
    }
   ],
   "source": [
    "project_api_instance"
   ]
  },
  {
   "cell_type": "markdown",
   "id": "b5b69215-d1dd-4942-bb5e-138581a309ec",
   "metadata": {
    "kernel": "SoS"
   },
   "source": [
    "## 5  Now get a list of my projects from the API server"
   ]
  },
  {
   "cell_type": "code",
   "execution_count": 16,
   "id": "similar-contents",
   "metadata": {
    "kernel": "pymbe",
    "tags": []
   },
   "outputs": [
    {
     "data": {
      "text/plain": [
       "[{'default_branch': {'id': 'd13955a4-589b-43f9-8a26-fc4fbdf6beb5'},\n",
       "  'description': None,\n",
       "  'id': '0b67e7dd-2b98-4c10-9577-1b45672ae49f',\n",
       "  'name': 'jdehart_api_demo Thu Jul 08 16:23:32 UTC 2021',\n",
       "  'type': 'Project'},\n",
       " {'default_branch': {'id': '47097bf9-d3da-45f2-ace8-d82ddd72f815'},\n",
       "  'description': None,\n",
       "  'id': '5552675c-7295-4f6e-ab41-15e594b40fd4',\n",
       "  'name': 'jdehart_SimplePartsModel Wed Jul 21 15:23:50 UTC 2021',\n",
       "  'type': 'Project'},\n",
       " {'default_branch': {'id': '21076cc3-9dd3-4dd4-bd01-892ec917e916'},\n",
       "  'description': None,\n",
       "  'id': 'f59d2bdf-971f-4554-b8b9-a7bbd2214f8c',\n",
       "  'name': 'jdehart_workflow_model Wed Jul 14 23:36:48 UTC 2021',\n",
       "  'type': 'Project'}]"
      ]
     },
     "execution_count": 16,
     "metadata": {},
     "output_type": "execute_result"
    }
   ],
   "source": [
    "q_string = \"jdehart\"\n",
    "my_projects = [my_proj for my_proj in project_api_instance.get_projects() if my_proj.name.find(q_string) > -1]\n",
    "my_projects"
   ]
  },
  {
   "cell_type": "markdown",
   "id": "74437244-4769-49b1-908c-267696ee06f3",
   "metadata": {
    "kernel": "Python3"
   },
   "source": [
    "## 6 - Create a dropdown box with my projects"
   ]
  },
  {
   "cell_type": "code",
   "execution_count": 17,
   "id": "b184aa4a-e47d-4707-a9f6-3afa1995979c",
   "metadata": {
    "kernel": "pymbe",
    "tags": []
   },
   "outputs": [
    {
     "data": {
      "text/plain": [
       "['jdehart_api_demo Thu Jul 08 16:23:32 UTC 2021',\n",
       " 'jdehart_SimplePartsModel Wed Jul 21 15:23:50 UTC 2021',\n",
       " 'jdehart_workflow_model Wed Jul 14 23:36:48 UTC 2021']"
      ]
     },
     "execution_count": 17,
     "metadata": {},
     "output_type": "execute_result"
    }
   ],
   "source": [
    "# get the project names into a list\n",
    "model_names = []\n",
    "for key, value in enumerate(my_projects):\n",
    "    model_names.append(my_projects[key].name)\n",
    "model_names"
   ]
  },
  {
   "cell_type": "code",
   "execution_count": 18,
   "id": "512cdfb1-5887-47f7-a4b7-fc51a8acb6c0",
   "metadata": {
    "kernel": "pymbe",
    "tags": []
   },
   "outputs": [
    {
     "data": {
      "application/vnd.jupyter.widget-view+json": {
       "model_id": "7263bb4c62184d8b998df3d105857f04",
       "version_major": 2,
       "version_minor": 0
      },
      "text/plain": [
       "Dropdown(description='Select Project:', options=('jdehart_api_demo Thu Jul 08 16:23:32 UTC 2021', 'jdehart_Sim…"
      ]
     },
     "metadata": {},
     "output_type": "display_data"
    }
   ],
   "source": [
    "# create the dropdown box and populate with my project names\n",
    "from IPython.display import display\n",
    "from ipywidgets import Dropdown\n",
    "\n",
    "def dropdown_eventhandler(change):\n",
    "    global model_id\n",
    "    model_id = change.new\n",
    "\n",
    "option_list = model_names\n",
    "dropdown = Dropdown(description=\"Select Project:\", options=option_list)\n",
    "dropdown.observe(dropdown_eventhandler, names='index')\n",
    "display(dropdown)\n",
    "### pick the api dem @16:36"
   ]
  },
  {
   "cell_type": "code",
   "execution_count": 20,
   "id": "alone-uncle",
   "metadata": {
    "kernel": "pymbe",
    "tags": []
   },
   "outputs": [
    {
     "name": "stdout",
     "output_type": "stream",
     "text": [
      "[{'change': None,\n",
      " 'id': '3a473469-b1ef-4d9f-89b7-9d1a1d253352',\n",
      " 'owning_project': {'id': '5552675c-7295-4f6e-ab41-15e594b40fd4'},\n",
      " 'previous_commit': None,\n",
      " 'type': 'Commit'}]\n"
     ]
    }
   ],
   "source": [
    "# get the last commit\n",
    "try:\n",
    "    # Get commits by project\n",
    "    commits_response = commits_api_instance.get_commits_by_project(my_projects[model_id].id)\n",
    "    pprint(commits_response)\n",
    "except ApiException as e:\n",
    "    print(\"Exception when calling CommitApi->get_commits_by_project: %s\\n\" % e)"
   ]
  },
  {
   "cell_type": "code",
   "execution_count": 21,
   "id": "boolean-winner",
   "metadata": {
    "kernel": "pymbe",
    "tags": []
   },
   "outputs": [],
   "source": [
    "# get a list of elements\n",
    "elements = []\n",
    "try:\n",
    "    # Get commits by project\n",
    "    elements = elements_api_instance.get_elements_by_project_commit(my_projects[model_id].id, commits_response[0].id)\n",
    "except ApiException as e:\n",
    "    print(\"Exception when calling ElementApi->get_elements_by_project_commit: %s\\n\" % e)"
   ]
  },
  {
   "cell_type": "code",
   "execution_count": 22,
   "id": "instructional-forth",
   "metadata": {
    "kernel": "pymbe",
    "tags": []
   },
   "outputs": [
    {
     "data": {
      "text/plain": [
       "37"
      ]
     },
     "execution_count": 22,
     "metadata": {},
     "output_type": "execute_result"
    }
   ],
   "source": [
    "len(elements)"
   ]
  },
  {
   "cell_type": "code",
   "execution_count": 23,
   "id": "increasing-cathedral",
   "metadata": {
    "kernel": "pymbe",
    "tags": []
   },
   "outputs": [
    {
     "name": "stdout",
     "output_type": "stream",
     "text": [
      "[{'id': '0a2cca58-06b2-4f3e-b7f8-d69a7f48e4e0',\n",
      " 'identifier': '0a2cca58-06b2-4f3e-b7f8-d69a7f48e4e0',\n",
      " 'type': 'PartUsage'},\n",
      " {'id': '10eb025a-f3da-4140-a0e8-80a33be8b734',\n",
      " 'identifier': '10eb025a-f3da-4140-a0e8-80a33be8b734',\n",
      " 'type': 'Package'},\n",
      " {'id': '17508f98-e3a4-4077-a99a-6d2b1025db45',\n",
      " 'identifier': '17508f98-e3a4-4077-a99a-6d2b1025db45',\n",
      " 'type': 'EndFeatureMembership'},\n",
      " {'id': '1a75db52-3597-40d8-9879-67f76d0b1db9',\n",
      " 'identifier': '1a75db52-3597-40d8-9879-67f76d0b1db9',\n",
      " 'type': 'PartUsage'},\n",
      " {'id': '1c745816-847a-4e63-8a7f-3e7d336d0fe4',\n",
      " 'identifier': '1c745816-847a-4e63-8a7f-3e7d336d0fe4',\n",
      " 'type': 'PortDefinition'},\n",
      " {'id': '1ce96367-7138-4982-9d0f-47567d1c083c',\n",
      " 'identifier': '1ce96367-7138-4982-9d0f-47567d1c083c',\n",
      " 'type': 'Feature'},\n",
      " {'id': '1d11e8c9-c29a-4645-be3d-b038e22f436f',\n",
      " 'identifier': '1d11e8c9-c29a-4645-be3d-b038e22f436f',\n",
      " 'type': 'FeatureTyping'},\n",
      " {'id': '28399c55-100d-4f91-96f7-3c2be3a67dd7',\n",
      " 'identifier': '28399c55-100d-4f91-96f7-3c2be3a67dd7',\n",
      " 'type': 'ConnectionUsage'},\n",
      " {'id': '2a3f7fa1-49ac-4dba-9427-a3fd2291dd48',\n",
      " 'identifier': '2a3f7fa1-49ac-4dba-9427-a3fd2291dd48',\n",
      " 'type': 'FeatureTyping'},\n",
      " {'id': '371ee28b-5df6-434e-bc0b-345d96f67194',\n",
      " 'identifier': '371ee28b-5df6-434e-bc0b-345d96f67194',\n",
      " 'type': 'FeatureMembership'},\n",
      " {'id': '40648200-75bf-434a-8bb3-15b076c1739e',\n",
      " 'identifier': '40648200-75bf-434a-8bb3-15b076c1739e',\n",
      " 'type': 'FeatureMembership'},\n",
      " {'id': '473f2f44-369e-4038-ab70-7176f5d97f5a',\n",
      " 'identifier': '473f2f44-369e-4038-ab70-7176f5d97f5a',\n",
      " 'type': 'Membership'},\n",
      " {'id': '4f69a994-8460-470b-b886-5af81c8c24f6',\n",
      " 'identifier': '4f69a994-8460-470b-b886-5af81c8c24f6',\n",
      " 'type': 'PortUsage'},\n",
      " {'id': '51cac4da-e57d-48a5-8b71-54d73d2b19fa',\n",
      " 'identifier': '51cac4da-e57d-48a5-8b71-54d73d2b19fa',\n",
      " 'type': 'Membership'},\n",
      " {'id': '8688d6e9-407f-4106-9068-4e5c2f804713',\n",
      " 'identifier': '8688d6e9-407f-4106-9068-4e5c2f804713',\n",
      " 'type': 'Package'},\n",
      " {'id': '875eda1c-10e7-4a51-866f-03f94f83c32a',\n",
      " 'identifier': '875eda1c-10e7-4a51-866f-03f94f83c32a',\n",
      " 'type': 'PortConjugation'},\n",
      " {'id': '8c31b8d8-2f04-40b9-afcd-143abea6cc46',\n",
      " 'identifier': '8c31b8d8-2f04-40b9-afcd-143abea6cc46',\n",
      " 'type': 'EndFeatureMembership'},\n",
      " {'id': '91ec9dab-24d2-42ef-b1b9-c005c65685bc',\n",
      " 'identifier': '91ec9dab-24d2-42ef-b1b9-c005c65685bc',\n",
      " 'type': 'Subsetting'},\n",
      " {'id': 'a241fef9-ae36-47f5-b22c-9d8ef633c120',\n",
      " 'identifier': 'a241fef9-ae36-47f5-b22c-9d8ef633c120',\n",
      " 'type': 'FeatureTyping'},\n",
      " {'id': 'a6cd787e-10b6-4341-9a8d-61fdb8879e34',\n",
      " 'identifier': 'a6cd787e-10b6-4341-9a8d-61fdb8879e34',\n",
      " 'type': 'Membership'},\n",
      " {'id': 'abda0dc1-0993-4cf2-b68f-c5b01bdcf01b',\n",
      " 'identifier': 'abda0dc1-0993-4cf2-b68f-c5b01bdcf01b',\n",
      " 'type': 'FeatureMembership'},\n",
      " {'id': 'bed6a577-00b9-4158-ab51-31d2a0c6474a',\n",
      " 'identifier': 'bed6a577-00b9-4158-ab51-31d2a0c6474a',\n",
      " 'type': 'PortUsage'},\n",
      " {'id': 'c1bce5ac-2efd-46ec-bcb8-61601eaa49ef',\n",
      " 'identifier': 'c1bce5ac-2efd-46ec-bcb8-61601eaa49ef',\n",
      " 'type': 'FeatureMembership'},\n",
      " {'id': 'c53865d6-aa83-4403-a327-0097b95120ea',\n",
      " 'identifier': 'c53865d6-aa83-4403-a327-0097b95120ea',\n",
      " 'type': 'FeatureTyping'},\n",
      " {'id': 'c7d26e2c-c288-4115-8e8a-cbf065134355',\n",
      " 'identifier': 'c7d26e2c-c288-4115-8e8a-cbf065134355',\n",
      " 'type': 'PartDefinition'},\n",
      " {'id': 'cc255bba-c700-44b0-b9a2-2ae55089f5f6',\n",
      " 'identifier': 'cc255bba-c700-44b0-b9a2-2ae55089f5f6',\n",
      " 'type': 'Membership'},\n",
      " {'id': 'cfa58448-0457-4a21-98b7-9aa1e8a63e95',\n",
      " 'identifier': 'cfa58448-0457-4a21-98b7-9aa1e8a63e95',\n",
      " 'type': 'ConjugatedPortDefinition'},\n",
      " {'id': 'd31a5f09-b00b-4eb4-b94d-26f2c51cda4c',\n",
      " 'identifier': 'd31a5f09-b00b-4eb4-b94d-26f2c51cda4c',\n",
      " 'type': 'Classifier'},\n",
      " {'id': 'd589b69a-92b1-4179-973c-aea1dbd9e2a6',\n",
      " 'identifier': 'd589b69a-92b1-4179-973c-aea1dbd9e2a6',\n",
      " 'type': 'ConnectionDefinition'},\n",
      " {'id': 'df968c66-dd48-4b09-87c4-e3d720f43193',\n",
      " 'identifier': 'df968c66-dd48-4b09-87c4-e3d720f43193',\n",
      " 'type': 'FeatureMembership'},\n",
      " {'id': 'e20d7284-75a6-4a21-8dcf-2458a965e860',\n",
      " 'identifier': 'e20d7284-75a6-4a21-8dcf-2458a965e860',\n",
      " 'type': 'Membership'},\n",
      " {'id': 'e57fe7b0-9bf6-4198-ada4-3175cc2bb395',\n",
      " 'identifier': 'e57fe7b0-9bf6-4198-ada4-3175cc2bb395',\n",
      " 'type': 'Subsetting'},\n",
      " {'id': 'ebc7c87a-35b3-4a3a-83a1-7e58ecda2636',\n",
      " 'identifier': 'ebc7c87a-35b3-4a3a-83a1-7e58ecda2636',\n",
      " 'type': 'Membership'},\n",
      " {'id': 'f29848a9-ba29-479c-9f28-976387ee52ae',\n",
      " 'identifier': 'f29848a9-ba29-479c-9f28-976387ee52ae',\n",
      " 'type': 'PartUsage'},\n",
      " {'id': 'f2d73272-377e-4dc4-b54b-e618873d0584',\n",
      " 'identifier': 'f2d73272-377e-4dc4-b54b-e618873d0584',\n",
      " 'type': 'Feature'},\n",
      " {'id': 'f4179046-7862-4f4a-8868-a789ae1f395a',\n",
      " 'identifier': 'f4179046-7862-4f4a-8868-a789ae1f395a',\n",
      " 'type': 'FeatureTyping'},\n",
      " {'id': 'f571920a-7671-4b02-bbe2-b6a5b29f6da0',\n",
      " 'identifier': 'f571920a-7671-4b02-bbe2-b6a5b29f6da0',\n",
      " 'type': 'FeatureTyping'}]\n"
     ]
    }
   ],
   "source": [
    "# here is an example of what we are working wiht as JSON file\n",
    "pprint(elements)"
   ]
  },
  {
   "cell_type": "markdown",
   "id": "interior-stone",
   "metadata": {
    "kernel": "SoS"
   },
   "source": [
    "With the elements known we can then get each elements data with an API call"
   ]
  },
  {
   "cell_type": "code",
   "execution_count": 24,
   "id": "accessible-plymouth",
   "metadata": {
    "kernel": "pymbe",
    "tags": []
   },
   "outputs": [],
   "source": [
    "elements_url = (sysml_api_base_url +\n",
    "                '/projects/{0}/commits/{1}/elements?page[size]=2000').format(my_projects[model_id].id, commits_response[0].id)"
   ]
  },
  {
   "cell_type": "code",
   "execution_count": 25,
   "id": "reverse-action",
   "metadata": {
    "kernel": "pymbe",
    "tags": []
   },
   "outputs": [
    {
     "data": {
      "text/plain": [
       "'http://sysml2.intercax.com:9000/projects/5552675c-7295-4f6e-ab41-15e594b40fd4/commits/3a473469-b1ef-4d9f-89b7-9d1a1d253352/elements?page[size]=2000'"
      ]
     },
     "execution_count": 25,
     "metadata": {},
     "output_type": "execute_result"
    }
   ],
   "source": [
    "elements_url"
   ]
  },
  {
   "cell_type": "code",
   "execution_count": 32,
   "id": "partial-burner",
   "metadata": {
    "kernel": "pymbe",
    "tags": []
   },
   "outputs": [],
   "source": [
    "elements_response = requests.get(\n",
    "    elements_url\n",
    ")"
   ]
  },
  {
   "cell_type": "code",
   "execution_count": 33,
   "id": "portable-ghana",
   "metadata": {
    "kernel": "pymbe",
    "tags": []
   },
   "outputs": [],
   "source": [
    "%put elements_data\n",
    "elements_data = elements_response.json()"
   ]
  },
  {
   "cell_type": "markdown",
   "id": "0ee48c25-eb30-4d2e-b25e-8e0c21af6b76",
   "metadata": {
    "kernel": "Python3"
   },
   "source": [
    "Now we can show the element data in a tree view"
   ]
  },
  {
   "cell_type": "code",
   "execution_count": 34,
   "id": "aae43c23-43e2-4248-86b6-6227f1a0a06e",
   "metadata": {
    "kernel": "Python3",
    "tags": []
   },
   "outputs": [
    {
     "data": {
      "application/json": [
       {
        "@id": "0a2cca58-06b2-4f3e-b7f8-d69a7f48e4e0",
        "@type": "PartUsage",
        "aliasId": [],
        "definition": [
         {
          "@id": "c7d26e2c-c288-4115-8e8a-cbf065134355"
         }
        ],
        "documentation": [],
        "documentationComment": [],
        "effectiveName": "Power User",
        "endFeature": [],
        "endOwningType": null,
        "feature": [
         {
          "@id": "bed6a577-00b9-4158-ab51-31d2a0c6474a"
         }
        ],
        "featureMembership": [
         {
          "@id": "abda0dc1-0993-4cf2-b68f-c5b01bdcf01b"
         }
        ],
        "featuringType": [
         {
          "@id": "1a75db52-3597-40d8-9879-67f76d0b1db9"
         }
        ],
        "flowFeature": [],
        "humanId": null,
        "identifier": "0a2cca58-06b2-4f3e-b7f8-d69a7f48e4e0",
        "importedMembership": [],
        "individualDefinition": null,
        "inheritedFeature": [],
        "inheritedMembership": [],
        "input": [],
        "isAbstract": false,
        "isComposite": true,
        "isConjugated": false,
        "isEnd": false,
        "isIndividual": false,
        "isNonunique": false,
        "isOrdered": false,
        "isSufficient": false,
        "isUnique": true,
        "isVariation": false,
        "itemDefinition": [
         {
          "@id": "c7d26e2c-c288-4115-8e8a-cbf065134355"
         }
        ],
        "member": [
         {
          "@id": "bed6a577-00b9-4158-ab51-31d2a0c6474a"
         }
        ],
        "membership": [
         {
          "@id": "abda0dc1-0993-4cf2-b68f-c5b01bdcf01b"
         }
        ],
        "multiplicity": null,
        "name": "Power User",
        "nestedAction": [],
        "nestedAllocation": [],
        "nestedAnalysisCase": [],
        "nestedAttribute": [],
        "nestedCalculation": [],
        "nestedCase": [],
        "nestedConcern": [],
        "nestedConnection": [],
        "nestedConstraint": [],
        "nestedEnumeration": [],
        "nestedInterface": [],
        "nestedItem": [],
        "nestedOccurrence": [],
        "nestedPart": [],
        "nestedPort": [
         {
          "@id": "bed6a577-00b9-4158-ab51-31d2a0c6474a"
         }
        ],
        "nestedReference": [],
        "nestedRendering": [],
        "nestedRequirement": [],
        "nestedStakeholder": [],
        "nestedState": [],
        "nestedTransition": [],
        "nestedUsage": [
         {
          "@id": "bed6a577-00b9-4158-ab51-31d2a0c6474a"
         }
        ],
        "nestedVerificationCase": [],
        "nestedView": [],
        "nestedViewpoint": [],
        "occurrenceDefinition": [
         {
          "@id": "c7d26e2c-c288-4115-8e8a-cbf065134355"
         }
        ],
        "output": [],
        "ownedAnnotation": [],
        "ownedConjugator": null,
        "ownedElement": [
         {
          "@id": "bed6a577-00b9-4158-ab51-31d2a0c6474a"
         }
        ],
        "ownedEndFeature": [],
        "ownedFeature": [
         {
          "@id": "bed6a577-00b9-4158-ab51-31d2a0c6474a"
         }
        ],
        "ownedFeatureMembership": [
         {
          "@id": "abda0dc1-0993-4cf2-b68f-c5b01bdcf01b"
         }
        ],
        "ownedGeneralization": [
         {
          "@id": "f571920a-7671-4b02-bbe2-b6a5b29f6da0"
         }
        ],
        "ownedImport": [],
        "ownedMember": [
         {
          "@id": "bed6a577-00b9-4158-ab51-31d2a0c6474a"
         }
        ],
        "ownedMembership": [
         {
          "@id": "abda0dc1-0993-4cf2-b68f-c5b01bdcf01b"
         }
        ],
        "ownedRedefinition": [],
        "ownedRelationship": [
         {
          "@id": "f571920a-7671-4b02-bbe2-b6a5b29f6da0"
         },
         {
          "@id": "abda0dc1-0993-4cf2-b68f-c5b01bdcf01b"
         }
        ],
        "ownedSubsetting": [],
        "ownedTextualRepresentation": [],
        "ownedTypeFeaturing": [],
        "ownedTyping": [
         {
          "@id": "f571920a-7671-4b02-bbe2-b6a5b29f6da0"
         }
        ],
        "owner": {
         "@id": "1a75db52-3597-40d8-9879-67f76d0b1db9"
        },
        "owningDefinition": null,
        "owningFeatureMembership": {
         "@id": "371ee28b-5df6-434e-bc0b-345d96f67194"
        },
        "owningMembership": {
         "@id": "371ee28b-5df6-434e-bc0b-345d96f67194"
        },
        "owningNamespace": {
         "@id": "1a75db52-3597-40d8-9879-67f76d0b1db9"
        },
        "owningRelationship": {
         "@id": "371ee28b-5df6-434e-bc0b-345d96f67194"
        },
        "owningType": {
         "@id": "1a75db52-3597-40d8-9879-67f76d0b1db9"
        },
        "owningUsage": {
         "@id": "1a75db52-3597-40d8-9879-67f76d0b1db9"
        },
        "partDefinition": [
         {
          "@id": "c7d26e2c-c288-4115-8e8a-cbf065134355"
         }
        ],
        "portionKind": null,
        "portioningFeature": null,
        "qualifiedName": "jdehart_SimplePartsModel::'Power Group'::'Power User'",
        "type": [
         {
          "@id": "c7d26e2c-c288-4115-8e8a-cbf065134355"
         }
        ],
        "usage": [
         {
          "@id": "bed6a577-00b9-4158-ab51-31d2a0c6474a"
         }
        ],
        "variant": [],
        "variantMembership": []
       },
       {
        "@id": "10eb025a-f3da-4140-a0e8-80a33be8b734",
        "@type": "Package",
        "aliasId": [],
        "documentation": [],
        "documentationComment": [],
        "effectiveName": "jdehart_SimplePartsModel",
        "filterCondition": [],
        "humanId": null,
        "identifier": "10eb025a-f3da-4140-a0e8-80a33be8b734",
        "importedMembership": [],
        "member": [
         {
          "@id": "8688d6e9-407f-4106-9068-4e5c2f804713"
         },
         {
          "@id": "1a75db52-3597-40d8-9879-67f76d0b1db9"
         }
        ],
        "membership": [
         {
          "@id": "ebc7c87a-35b3-4a3a-83a1-7e58ecda2636"
         },
         {
          "@id": "51cac4da-e57d-48a5-8b71-54d73d2b19fa"
         }
        ],
        "name": "jdehart_SimplePartsModel",
        "ownedAnnotation": [],
        "ownedElement": [
         {
          "@id": "8688d6e9-407f-4106-9068-4e5c2f804713"
         },
         {
          "@id": "1a75db52-3597-40d8-9879-67f76d0b1db9"
         }
        ],
        "ownedImport": [],
        "ownedMember": [
         {
          "@id": "8688d6e9-407f-4106-9068-4e5c2f804713"
         },
         {
          "@id": "1a75db52-3597-40d8-9879-67f76d0b1db9"
         }
        ],
        "ownedMembership": [
         {
          "@id": "ebc7c87a-35b3-4a3a-83a1-7e58ecda2636"
         },
         {
          "@id": "51cac4da-e57d-48a5-8b71-54d73d2b19fa"
         }
        ],
        "ownedRelationship": [
         {
          "@id": "ebc7c87a-35b3-4a3a-83a1-7e58ecda2636"
         },
         {
          "@id": "51cac4da-e57d-48a5-8b71-54d73d2b19fa"
         }
        ],
        "ownedTextualRepresentation": [],
        "owner": null,
        "owningMembership": null,
        "owningNamespace": null,
        "owningRelationship": null,
        "qualifiedName": "jdehart_SimplePartsModel"
       },
       {
        "@id": "17508f98-e3a4-4077-a99a-6d2b1025db45",
        "@type": "EndFeatureMembership",
        "aliasId": [],
        "direction": null,
        "documentation": [],
        "documentationComment": [],
        "effectiveMemberName": "source",
        "effectiveName": null,
        "featureOfType": {
         "@id": "1ce96367-7138-4982-9d0f-47567d1c083c"
        },
        "featuringType": null,
        "humanId": null,
        "identifier": "17508f98-e3a4-4077-a99a-6d2b1025db45",
        "isComposite": false,
        "isDerived": false,
        "isPort": false,
        "isPortion": false,
        "isReadOnly": false,
        "memberElement": {
         "@id": "1ce96367-7138-4982-9d0f-47567d1c083c"
        },
        "memberFeature": {
         "@id": "1ce96367-7138-4982-9d0f-47567d1c083c"
        },
        "memberName": null,
        "membershipOwningNamespace": {
         "@id": "28399c55-100d-4f91-96f7-3c2be3a67dd7"
        },
        "name": null,
        "ownedAnnotation": [],
        "ownedElement": [],
        "ownedMemberElement": {
         "@id": "1ce96367-7138-4982-9d0f-47567d1c083c"
        },
        "ownedMemberFeature": {
         "@id": "1ce96367-7138-4982-9d0f-47567d1c083c"
        },
        "ownedRelatedElement": [
         {
          "@id": "1ce96367-7138-4982-9d0f-47567d1c083c"
         }
        ],
        "ownedRelationship": [],
        "ownedTextualRepresentation": [],
        "owner": null,
        "owningFeatureOfType": null,
        "owningMembership": null,
        "owningNamespace": null,
        "owningRelatedElement": {
         "@id": "28399c55-100d-4f91-96f7-3c2be3a67dd7"
        },
        "owningRelationship": null,
        "owningType": {
         "@id": "28399c55-100d-4f91-96f7-3c2be3a67dd7"
        },
        "qualifiedName": null,
        "relatedElement": [
         {
          "@id": "28399c55-100d-4f91-96f7-3c2be3a67dd7"
         },
         {
          "@id": "1ce96367-7138-4982-9d0f-47567d1c083c"
         }
        ],
        "source": [
         {
          "@id": "28399c55-100d-4f91-96f7-3c2be3a67dd7"
         }
        ],
        "target": [
         {
          "@id": "1ce96367-7138-4982-9d0f-47567d1c083c"
         }
        ],
        "visibility": "PUBLIC"
       },
       {
        "@id": "1a75db52-3597-40d8-9879-67f76d0b1db9",
        "@type": "PartUsage",
        "aliasId": [],
        "definition": [
         {
          "@id": "c7d26e2c-c288-4115-8e8a-cbf065134355"
         }
        ],
        "documentation": [],
        "documentationComment": [],
        "effectiveName": "Power Group",
        "endFeature": [],
        "endOwningType": null,
        "feature": [
         {
          "@id": "f29848a9-ba29-479c-9f28-976387ee52ae"
         },
         {
          "@id": "0a2cca58-06b2-4f3e-b7f8-d69a7f48e4e0"
         },
         {
          "@id": "28399c55-100d-4f91-96f7-3c2be3a67dd7"
         }
        ],
        "featureMembership": [
         {
          "@id": "df968c66-dd48-4b09-87c4-e3d720f43193"
         },
         {
          "@id": "371ee28b-5df6-434e-bc0b-345d96f67194"
         },
         {
          "@id": "c1bce5ac-2efd-46ec-bcb8-61601eaa49ef"
         }
        ],
        "featuringType": [],
        "flowFeature": [],
        "humanId": null,
        "identifier": "1a75db52-3597-40d8-9879-67f76d0b1db9",
        "importedMembership": [],
        "individualDefinition": null,
        "inheritedFeature": [],
        "inheritedMembership": [],
        "input": [],
        "isAbstract": false,
        "isComposite": false,
        "isConjugated": false,
        "isEnd": false,
        "isIndividual": false,
        "isNonunique": false,
        "isOrdered": false,
        "isSufficient": false,
        "isUnique": true,
        "isVariation": false,
        "itemDefinition": [
         {
          "@id": "c7d26e2c-c288-4115-8e8a-cbf065134355"
         }
        ],
        "member": [
         {
          "@id": "f29848a9-ba29-479c-9f28-976387ee52ae"
         },
         {
          "@id": "0a2cca58-06b2-4f3e-b7f8-d69a7f48e4e0"
         },
         {
          "@id": "28399c55-100d-4f91-96f7-3c2be3a67dd7"
         }
        ],
        "membership": [
         {
          "@id": "df968c66-dd48-4b09-87c4-e3d720f43193"
         },
         {
          "@id": "371ee28b-5df6-434e-bc0b-345d96f67194"
         },
         {
          "@id": "c1bce5ac-2efd-46ec-bcb8-61601eaa49ef"
         }
        ],
        "multiplicity": null,
        "name": "Power Group",
        "nestedAction": [],
        "nestedAllocation": [],
        "nestedAnalysisCase": [],
        "nestedAttribute": [],
        "nestedCalculation": [],
        "nestedCase": [],
        "nestedConcern": [],
        "nestedConnection": [
         {
          "@id": "28399c55-100d-4f91-96f7-3c2be3a67dd7"
         }
        ],
        "nestedConstraint": [],
        "nestedEnumeration": [],
        "nestedInterface": [],
        "nestedItem": [
         {
          "@id": "f29848a9-ba29-479c-9f28-976387ee52ae"
         },
         {
          "@id": "0a2cca58-06b2-4f3e-b7f8-d69a7f48e4e0"
         },
         {
          "@id": "28399c55-100d-4f91-96f7-3c2be3a67dd7"
         }
        ],
        "nestedOccurrence": [
         {
          "@id": "f29848a9-ba29-479c-9f28-976387ee52ae"
         },
         {
          "@id": "0a2cca58-06b2-4f3e-b7f8-d69a7f48e4e0"
         },
         {
          "@id": "28399c55-100d-4f91-96f7-3c2be3a67dd7"
         }
        ],
        "nestedPart": [
         {
          "@id": "f29848a9-ba29-479c-9f28-976387ee52ae"
         },
         {
          "@id": "0a2cca58-06b2-4f3e-b7f8-d69a7f48e4e0"
         },
         {
          "@id": "28399c55-100d-4f91-96f7-3c2be3a67dd7"
         }
        ],
        "nestedPort": [],
        "nestedReference": [],
        "nestedRendering": [],
        "nestedRequirement": [],
        "nestedStakeholder": [],
        "nestedState": [],
        "nestedTransition": [],
        "nestedUsage": [
         {
          "@id": "f29848a9-ba29-479c-9f28-976387ee52ae"
         },
         {
          "@id": "0a2cca58-06b2-4f3e-b7f8-d69a7f48e4e0"
         },
         {
          "@id": "28399c55-100d-4f91-96f7-3c2be3a67dd7"
         }
        ],
        "nestedVerificationCase": [],
        "nestedView": [],
        "nestedViewpoint": [],
        "occurrenceDefinition": [
         {
          "@id": "c7d26e2c-c288-4115-8e8a-cbf065134355"
         }
        ],
        "output": [],
        "ownedAnnotation": [],
        "ownedConjugator": null,
        "ownedElement": [
         {
          "@id": "f29848a9-ba29-479c-9f28-976387ee52ae"
         },
         {
          "@id": "0a2cca58-06b2-4f3e-b7f8-d69a7f48e4e0"
         },
         {
          "@id": "28399c55-100d-4f91-96f7-3c2be3a67dd7"
         }
        ],
        "ownedEndFeature": [],
        "ownedFeature": [
         {
          "@id": "f29848a9-ba29-479c-9f28-976387ee52ae"
         },
         {
          "@id": "0a2cca58-06b2-4f3e-b7f8-d69a7f48e4e0"
         },
         {
          "@id": "28399c55-100d-4f91-96f7-3c2be3a67dd7"
         }
        ],
        "ownedFeatureMembership": [
         {
          "@id": "df968c66-dd48-4b09-87c4-e3d720f43193"
         },
         {
          "@id": "371ee28b-5df6-434e-bc0b-345d96f67194"
         },
         {
          "@id": "c1bce5ac-2efd-46ec-bcb8-61601eaa49ef"
         }
        ],
        "ownedGeneralization": [
         {
          "@id": "f4179046-7862-4f4a-8868-a789ae1f395a"
         }
        ],
        "ownedImport": [],
        "ownedMember": [
         {
          "@id": "f29848a9-ba29-479c-9f28-976387ee52ae"
         },
         {
          "@id": "0a2cca58-06b2-4f3e-b7f8-d69a7f48e4e0"
         },
         {
          "@id": "28399c55-100d-4f91-96f7-3c2be3a67dd7"
         }
        ],
        "ownedMembership": [
         {
          "@id": "df968c66-dd48-4b09-87c4-e3d720f43193"
         },
         {
          "@id": "371ee28b-5df6-434e-bc0b-345d96f67194"
         },
         {
          "@id": "c1bce5ac-2efd-46ec-bcb8-61601eaa49ef"
         }
        ],
        "ownedRedefinition": [],
        "ownedRelationship": [
         {
          "@id": "f4179046-7862-4f4a-8868-a789ae1f395a"
         },
         {
          "@id": "df968c66-dd48-4b09-87c4-e3d720f43193"
         },
         {
          "@id": "371ee28b-5df6-434e-bc0b-345d96f67194"
         },
         {
          "@id": "c1bce5ac-2efd-46ec-bcb8-61601eaa49ef"
         }
        ],
        "ownedSubsetting": [],
        "ownedTextualRepresentation": [],
        "ownedTypeFeaturing": [],
        "ownedTyping": [
         {
          "@id": "f4179046-7862-4f4a-8868-a789ae1f395a"
         }
        ],
        "owner": {
         "@id": "10eb025a-f3da-4140-a0e8-80a33be8b734"
        },
        "owningDefinition": null,
        "owningFeatureMembership": null,
        "owningMembership": {
         "@id": "51cac4da-e57d-48a5-8b71-54d73d2b19fa"
        },
        "owningNamespace": {
         "@id": "10eb025a-f3da-4140-a0e8-80a33be8b734"
        },
        "owningRelationship": {
         "@id": "51cac4da-e57d-48a5-8b71-54d73d2b19fa"
        },
        "owningType": null,
        "owningUsage": null,
        "partDefinition": [
         {
          "@id": "c7d26e2c-c288-4115-8e8a-cbf065134355"
         }
        ],
        "portionKind": null,
        "portioningFeature": null,
        "qualifiedName": "jdehart_SimplePartsModel::'Power Group'",
        "type": [
         {
          "@id": "c7d26e2c-c288-4115-8e8a-cbf065134355"
         }
        ],
        "usage": [
         {
          "@id": "f29848a9-ba29-479c-9f28-976387ee52ae"
         },
         {
          "@id": "0a2cca58-06b2-4f3e-b7f8-d69a7f48e4e0"
         },
         {
          "@id": "28399c55-100d-4f91-96f7-3c2be3a67dd7"
         }
        ],
        "variant": [],
        "variantMembership": []
       },
       {
        "@id": "1c745816-847a-4e63-8a7f-3e7d336d0fe4",
        "@type": "PortDefinition",
        "aliasId": [],
        "conjugatedPortDefinition": {
         "@id": "cfa58448-0457-4a21-98b7-9aa1e8a63e95"
        },
        "documentation": [],
        "documentationComment": [],
        "effectiveName": "Port",
        "endFeature": [],
        "feature": [],
        "featureMembership": [],
        "flowFeature": [],
        "humanId": null,
        "identifier": "1c745816-847a-4e63-8a7f-3e7d336d0fe4",
        "importedMembership": [],
        "inheritedFeature": [],
        "inheritedMembership": [],
        "input": [],
        "isAbstract": false,
        "isConjugated": false,
        "isSufficient": false,
        "isVariation": false,
        "member": [
         {
          "@id": "cfa58448-0457-4a21-98b7-9aa1e8a63e95"
         }
        ],
        "membership": [
         {
          "@id": "a6cd787e-10b6-4341-9a8d-61fdb8879e34"
         }
        ],
        "multiplicity": null,
        "name": "Port",
        "output": [],
        "ownedAction": [],
        "ownedAllocation": [],
        "ownedAnalysisCase": [],
        "ownedAnnotation": [],
        "ownedAttribute": [],
        "ownedCalculation": [],
        "ownedCase": [],
        "ownedConcern": [],
        "ownedConjugator": null,
        "ownedConnection": [],
        "ownedConstraint": [],
        "ownedElement": [
         {
          "@id": "cfa58448-0457-4a21-98b7-9aa1e8a63e95"
         }
        ],
        "ownedEndFeature": [],
        "ownedEnumeration": [],
        "ownedFeature": [],
        "ownedFeatureMembership": [],
        "ownedGeneralization": [],
        "ownedImport": [],
        "ownedInterface": [],
        "ownedItem": [],
        "ownedMember": [
         {
          "@id": "cfa58448-0457-4a21-98b7-9aa1e8a63e95"
         }
        ],
        "ownedMembership": [
         {
          "@id": "a6cd787e-10b6-4341-9a8d-61fdb8879e34"
         }
        ],
        "ownedOccurrence": [],
        "ownedPart": [],
        "ownedPort": [],
        "ownedReference": [],
        "ownedRelationship": [
         {
          "@id": "a6cd787e-10b6-4341-9a8d-61fdb8879e34"
         }
        ],
        "ownedRendering": [],
        "ownedRequirement": [],
        "ownedStakeholder": [],
        "ownedState": [],
        "ownedSuperclassing": [],
        "ownedTextualRepresentation": [],
        "ownedTransition": [],
        "ownedUsage": [],
        "ownedVerificationCase": [],
        "ownedView": [],
        "ownedViewpoint": [],
        "owner": {
         "@id": "8688d6e9-407f-4106-9068-4e5c2f804713"
        },
        "owningMembership": {
         "@id": "e20d7284-75a6-4a21-8dcf-2458a965e860"
        },
        "owningNamespace": {
         "@id": "8688d6e9-407f-4106-9068-4e5c2f804713"
        },
        "owningRelationship": {
         "@id": "e20d7284-75a6-4a21-8dcf-2458a965e860"
        },
        "qualifiedName": "jdehart_SimplePartsModel::'Fake Library'::Port",
        "usage": [],
        "variant": [],
        "variantMembership": []
       },
       {
        "@id": "1ce96367-7138-4982-9d0f-47567d1c083c",
        "@type": "Feature",
        "aliasId": [],
        "documentation": [],
        "documentationComment": [],
        "effectiveName": "source",
        "endFeature": [],
        "endOwningType": {
         "@id": "28399c55-100d-4f91-96f7-3c2be3a67dd7"
        },
        "feature": [],
        "featureMembership": [],
        "featuringType": [
         {
          "@id": "28399c55-100d-4f91-96f7-3c2be3a67dd7"
         }
        ],
        "humanId": null,
        "identifier": "1ce96367-7138-4982-9d0f-47567d1c083c",
        "importedMembership": [],
        "inheritedFeature": [],
        "inheritedMembership": [
         {
          "@id": "a6cd787e-10b6-4341-9a8d-61fdb8879e34"
         }
        ],
        "input": [],
        "isAbstract": false,
        "isComposite": false,
        "isConjugated": false,
        "isEnd": true,
        "isNonunique": false,
        "isOrdered": true,
        "isSufficient": false,
        "isUnique": true,
        "member": [
         {
          "@id": "cfa58448-0457-4a21-98b7-9aa1e8a63e95"
         }
        ],
        "membership": [
         {
          "@id": "a6cd787e-10b6-4341-9a8d-61fdb8879e34"
         }
        ],
        "multiplicity": null,
        "name": null,
        "output": [],
        "ownedAnnotation": [],
        "ownedConjugator": null,
        "ownedElement": [],
        "ownedEndFeature": [],
        "ownedFeature": [],
        "ownedFeatureMembership": [],
        "ownedGeneralization": [
         {
          "@id": "91ec9dab-24d2-42ef-b1b9-c005c65685bc"
         }
        ],
        "ownedImport": [],
        "ownedMember": [],
        "ownedMembership": [],
        "ownedRedefinition": [],
        "ownedRelationship": [
         {
          "@id": "91ec9dab-24d2-42ef-b1b9-c005c65685bc"
         }
        ],
        "ownedSubsetting": [
         {
          "@id": "91ec9dab-24d2-42ef-b1b9-c005c65685bc"
         }
        ],
        "ownedTextualRepresentation": [],
        "ownedTypeFeaturing": [],
        "ownedTyping": [],
        "owner": {
         "@id": "28399c55-100d-4f91-96f7-3c2be3a67dd7"
        },
        "owningFeatureMembership": {
         "@id": "17508f98-e3a4-4077-a99a-6d2b1025db45"
        },
        "owningMembership": {
         "@id": "17508f98-e3a4-4077-a99a-6d2b1025db45"
        },
        "owningNamespace": {
         "@id": "28399c55-100d-4f91-96f7-3c2be3a67dd7"
        },
        "owningRelationship": {
         "@id": "17508f98-e3a4-4077-a99a-6d2b1025db45"
        },
        "owningType": {
         "@id": "28399c55-100d-4f91-96f7-3c2be3a67dd7"
        },
        "qualifiedName": "jdehart_SimplePartsModel::'Power Group'::powerToUser::null",
        "type": [
         {
          "@id": "1c745816-847a-4e63-8a7f-3e7d336d0fe4"
         }
        ]
       },
       {
        "@id": "1d11e8c9-c29a-4645-be3d-b038e22f436f",
        "@type": "FeatureTyping",
        "aliasId": [],
        "documentation": [],
        "documentationComment": [],
        "effectiveName": null,
        "general": {
         "@id": "c7d26e2c-c288-4115-8e8a-cbf065134355"
        },
        "humanId": null,
        "identifier": "1d11e8c9-c29a-4645-be3d-b038e22f436f",
        "name": null,
        "ownedAnnotation": [],
        "ownedElement": [],
        "ownedRelatedElement": [],
        "ownedRelationship": [],
        "ownedTextualRepresentation": [],
        "owner": null,
        "owningFeature": {
         "@id": "f29848a9-ba29-479c-9f28-976387ee52ae"
        },
        "owningMembership": null,
        "owningNamespace": null,
        "owningRelatedElement": {
         "@id": "f29848a9-ba29-479c-9f28-976387ee52ae"
        },
        "owningRelationship": null,
        "owningType": {
         "@id": "f29848a9-ba29-479c-9f28-976387ee52ae"
        },
        "qualifiedName": null,
        "relatedElement": [
         {
          "@id": "f29848a9-ba29-479c-9f28-976387ee52ae"
         },
         {
          "@id": "c7d26e2c-c288-4115-8e8a-cbf065134355"
         }
        ],
        "source": [
         {
          "@id": "f29848a9-ba29-479c-9f28-976387ee52ae"
         }
        ],
        "specific": {
         "@id": "f29848a9-ba29-479c-9f28-976387ee52ae"
        },
        "target": [
         {
          "@id": "c7d26e2c-c288-4115-8e8a-cbf065134355"
         }
        ],
        "type": {
         "@id": "c7d26e2c-c288-4115-8e8a-cbf065134355"
        },
        "typedFeature": {
         "@id": "f29848a9-ba29-479c-9f28-976387ee52ae"
        }
       },
       {
        "@id": "28399c55-100d-4f91-96f7-3c2be3a67dd7",
        "@type": "ConnectionUsage",
        "aliasId": [],
        "association": [
         {
          "@id": "d589b69a-92b1-4179-973c-aea1dbd9e2a6"
         }
        ],
        "connectionDefinition": [
         {
          "@id": "d589b69a-92b1-4179-973c-aea1dbd9e2a6"
         }
        ],
        "connectorEnd": [
         {
          "@id": "1ce96367-7138-4982-9d0f-47567d1c083c"
         },
         {
          "@id": "f2d73272-377e-4dc4-b54b-e618873d0584"
         }
        ],
        "definition": [
         {
          "@id": "d589b69a-92b1-4179-973c-aea1dbd9e2a6"
         }
        ],
        "documentation": [],
        "documentationComment": [],
        "effectiveName": "powerToUser",
        "endFeature": [
         {
          "@id": "1ce96367-7138-4982-9d0f-47567d1c083c"
         },
         {
          "@id": "f2d73272-377e-4dc4-b54b-e618873d0584"
         }
        ],
        "endOwningType": null,
        "feature": [
         {
          "@id": "1ce96367-7138-4982-9d0f-47567d1c083c"
         },
         {
          "@id": "f2d73272-377e-4dc4-b54b-e618873d0584"
         }
        ],
        "featureMembership": [
         {
          "@id": "17508f98-e3a4-4077-a99a-6d2b1025db45"
         },
         {
          "@id": "8c31b8d8-2f04-40b9-afcd-143abea6cc46"
         }
        ],
        "featuringType": [
         {
          "@id": "1a75db52-3597-40d8-9879-67f76d0b1db9"
         }
        ],
        "flowFeature": [],
        "humanId": null,
        "identifier": "28399c55-100d-4f91-96f7-3c2be3a67dd7",
        "importedMembership": [],
        "individualDefinition": null,
        "inheritedFeature": [],
        "inheritedMembership": [],
        "input": [],
        "isAbstract": false,
        "isComposite": false,
        "isConjugated": false,
        "isDirected": false,
        "isEnd": false,
        "isIndividual": false,
        "isNonunique": false,
        "isOrdered": false,
        "isSufficient": false,
        "isUnique": true,
        "isVariation": false,
        "itemDefinition": [
         {
          "@id": "d589b69a-92b1-4179-973c-aea1dbd9e2a6"
         }
        ],
        "member": [
         {
          "@id": "1ce96367-7138-4982-9d0f-47567d1c083c"
         },
         {
          "@id": "f2d73272-377e-4dc4-b54b-e618873d0584"
         }
        ],
        "membership": [
         {
          "@id": "17508f98-e3a4-4077-a99a-6d2b1025db45"
         },
         {
          "@id": "8c31b8d8-2f04-40b9-afcd-143abea6cc46"
         }
        ],
        "multiplicity": null,
        "name": "powerToUser",
        "nestedAction": [],
        "nestedAllocation": [],
        "nestedAnalysisCase": [],
        "nestedAttribute": [],
        "nestedCalculation": [],
        "nestedCase": [],
        "nestedConcern": [],
        "nestedConnection": [],
        "nestedConstraint": [],
        "nestedEnumeration": [],
        "nestedInterface": [],
        "nestedItem": [],
        "nestedOccurrence": [],
        "nestedPart": [],
        "nestedPort": [],
        "nestedReference": [],
        "nestedRendering": [],
        "nestedRequirement": [],
        "nestedStakeholder": [],
        "nestedState": [],
        "nestedTransition": [],
        "nestedUsage": [],
        "nestedVerificationCase": [],
        "nestedView": [],
        "nestedViewpoint": [],
        "occurrenceDefinition": [
         {
          "@id": "d589b69a-92b1-4179-973c-aea1dbd9e2a6"
         }
        ],
        "output": [],
        "ownedAnnotation": [],
        "ownedConjugator": null,
        "ownedElement": [
         {
          "@id": "1ce96367-7138-4982-9d0f-47567d1c083c"
         },
         {
          "@id": "f2d73272-377e-4dc4-b54b-e618873d0584"
         }
        ],
        "ownedEndFeature": [
         {
          "@id": "1ce96367-7138-4982-9d0f-47567d1c083c"
         },
         {
          "@id": "f2d73272-377e-4dc4-b54b-e618873d0584"
         }
        ],
        "ownedFeature": [
         {
          "@id": "1ce96367-7138-4982-9d0f-47567d1c083c"
         },
         {
          "@id": "f2d73272-377e-4dc4-b54b-e618873d0584"
         }
        ],
        "ownedFeatureMembership": [
         {
          "@id": "17508f98-e3a4-4077-a99a-6d2b1025db45"
         },
         {
          "@id": "8c31b8d8-2f04-40b9-afcd-143abea6cc46"
         }
        ],
        "ownedGeneralization": [
         {
          "@id": "c53865d6-aa83-4403-a327-0097b95120ea"
         }
        ],
        "ownedImport": [],
        "ownedMember": [
         {
          "@id": "1ce96367-7138-4982-9d0f-47567d1c083c"
         },
         {
          "@id": "f2d73272-377e-4dc4-b54b-e618873d0584"
         }
        ],
        "ownedMembership": [
         {
          "@id": "17508f98-e3a4-4077-a99a-6d2b1025db45"
         },
         {
          "@id": "8c31b8d8-2f04-40b9-afcd-143abea6cc46"
         }
        ],
        "ownedRedefinition": [],
        "ownedRelatedElement": [],
        "ownedRelationship": [
         {
          "@id": "c53865d6-aa83-4403-a327-0097b95120ea"
         },
         {
          "@id": "17508f98-e3a4-4077-a99a-6d2b1025db45"
         },
         {
          "@id": "8c31b8d8-2f04-40b9-afcd-143abea6cc46"
         }
        ],
        "ownedSubsetting": [],
        "ownedTextualRepresentation": [],
        "ownedTypeFeaturing": [],
        "ownedTyping": [
         {
          "@id": "c53865d6-aa83-4403-a327-0097b95120ea"
         }
        ],
        "owner": {
         "@id": "1a75db52-3597-40d8-9879-67f76d0b1db9"
        },
        "owningDefinition": null,
        "owningFeatureMembership": {
         "@id": "c1bce5ac-2efd-46ec-bcb8-61601eaa49ef"
        },
        "owningMembership": {
         "@id": "c1bce5ac-2efd-46ec-bcb8-61601eaa49ef"
        },
        "owningNamespace": {
         "@id": "1a75db52-3597-40d8-9879-67f76d0b1db9"
        },
        "owningRelatedElement": null,
        "owningRelationship": {
         "@id": "c1bce5ac-2efd-46ec-bcb8-61601eaa49ef"
        },
        "owningType": {
         "@id": "1a75db52-3597-40d8-9879-67f76d0b1db9"
        },
        "owningUsage": {
         "@id": "1a75db52-3597-40d8-9879-67f76d0b1db9"
        },
        "partDefinition": [
         {
          "@id": "d589b69a-92b1-4179-973c-aea1dbd9e2a6"
         }
        ],
        "portionKind": null,
        "portioningFeature": null,
        "qualifiedName": "jdehart_SimplePartsModel::'Power Group'::powerToUser",
        "relatedElement": [
         {
          "@id": "4f69a994-8460-470b-b886-5af81c8c24f6"
         },
         {
          "@id": "bed6a577-00b9-4158-ab51-31d2a0c6474a"
         }
        ],
        "relatedFeature": [
         {
          "@id": "4f69a994-8460-470b-b886-5af81c8c24f6"
         },
         {
          "@id": "bed6a577-00b9-4158-ab51-31d2a0c6474a"
         }
        ],
        "source": [
         {
          "@id": "4f69a994-8460-470b-b886-5af81c8c24f6"
         }
        ],
        "sourceFeature": {
         "@id": "4f69a994-8460-470b-b886-5af81c8c24f6"
        },
        "target": [
         {
          "@id": "bed6a577-00b9-4158-ab51-31d2a0c6474a"
         }
        ],
        "targetFeature": [
         {
          "@id": "bed6a577-00b9-4158-ab51-31d2a0c6474a"
         }
        ],
        "type": [
         {
          "@id": "d589b69a-92b1-4179-973c-aea1dbd9e2a6"
         }
        ],
        "usage": [],
        "variant": [],
        "variantMembership": []
       },
       {
        "@id": "2a3f7fa1-49ac-4dba-9427-a3fd2291dd48",
        "@type": "FeatureTyping",
        "aliasId": [],
        "documentation": [],
        "documentationComment": [],
        "effectiveName": null,
        "general": {
         "@id": "1c745816-847a-4e63-8a7f-3e7d336d0fe4"
        },
        "humanId": null,
        "identifier": "2a3f7fa1-49ac-4dba-9427-a3fd2291dd48",
        "name": null,
        "ownedAnnotation": [],
        "ownedElement": [],
        "ownedRelatedElement": [],
        "ownedRelationship": [],
        "ownedTextualRepresentation": [],
        "owner": null,
        "owningFeature": {
         "@id": "4f69a994-8460-470b-b886-5af81c8c24f6"
        },
        "owningMembership": null,
        "owningNamespace": null,
        "owningRelatedElement": {
         "@id": "4f69a994-8460-470b-b886-5af81c8c24f6"
        },
        "owningRelationship": null,
        "owningType": {
         "@id": "4f69a994-8460-470b-b886-5af81c8c24f6"
        },
        "qualifiedName": null,
        "relatedElement": [
         {
          "@id": "4f69a994-8460-470b-b886-5af81c8c24f6"
         },
         {
          "@id": "1c745816-847a-4e63-8a7f-3e7d336d0fe4"
         }
        ],
        "source": [
         {
          "@id": "4f69a994-8460-470b-b886-5af81c8c24f6"
         }
        ],
        "specific": {
         "@id": "4f69a994-8460-470b-b886-5af81c8c24f6"
        },
        "target": [
         {
          "@id": "1c745816-847a-4e63-8a7f-3e7d336d0fe4"
         }
        ],
        "type": {
         "@id": "1c745816-847a-4e63-8a7f-3e7d336d0fe4"
        },
        "typedFeature": {
         "@id": "4f69a994-8460-470b-b886-5af81c8c24f6"
        }
       },
       {
        "@id": "371ee28b-5df6-434e-bc0b-345d96f67194",
        "@type": "FeatureMembership",
        "aliasId": [],
        "direction": null,
        "documentation": [],
        "documentationComment": [],
        "effectiveMemberName": "Power User",
        "effectiveName": null,
        "featureOfType": {
         "@id": "0a2cca58-06b2-4f3e-b7f8-d69a7f48e4e0"
        },
        "featuringType": null,
        "humanId": null,
        "identifier": "371ee28b-5df6-434e-bc0b-345d96f67194",
        "isComposite": true,
        "isDerived": false,
        "isPort": false,
        "isPortion": false,
        "isReadOnly": false,
        "memberElement": {
         "@id": "0a2cca58-06b2-4f3e-b7f8-d69a7f48e4e0"
        },
        "memberFeature": {
         "@id": "0a2cca58-06b2-4f3e-b7f8-d69a7f48e4e0"
        },
        "memberName": "Power User",
        "membershipOwningNamespace": {
         "@id": "1a75db52-3597-40d8-9879-67f76d0b1db9"
        },
        "name": null,
        "ownedAnnotation": [],
        "ownedElement": [],
        "ownedMemberElement": {
         "@id": "0a2cca58-06b2-4f3e-b7f8-d69a7f48e4e0"
        },
        "ownedMemberFeature": {
         "@id": "0a2cca58-06b2-4f3e-b7f8-d69a7f48e4e0"
        },
        "ownedRelatedElement": [
         {
          "@id": "0a2cca58-06b2-4f3e-b7f8-d69a7f48e4e0"
         }
        ],
        "ownedRelationship": [],
        "ownedTextualRepresentation": [],
        "owner": null,
        "owningFeatureOfType": null,
        "owningMembership": null,
        "owningNamespace": null,
        "owningRelatedElement": {
         "@id": "1a75db52-3597-40d8-9879-67f76d0b1db9"
        },
        "owningRelationship": null,
        "owningType": {
         "@id": "1a75db52-3597-40d8-9879-67f76d0b1db9"
        },
        "qualifiedName": null,
        "relatedElement": [
         {
          "@id": "1a75db52-3597-40d8-9879-67f76d0b1db9"
         },
         {
          "@id": "0a2cca58-06b2-4f3e-b7f8-d69a7f48e4e0"
         }
        ],
        "source": [
         {
          "@id": "1a75db52-3597-40d8-9879-67f76d0b1db9"
         }
        ],
        "target": [
         {
          "@id": "0a2cca58-06b2-4f3e-b7f8-d69a7f48e4e0"
         }
        ],
        "visibility": "PUBLIC"
       },
       {
        "@id": "40648200-75bf-434a-8bb3-15b076c1739e",
        "@type": "FeatureMembership",
        "aliasId": [],
        "direction": null,
        "documentation": [],
        "documentationComment": [],
        "effectiveMemberName": "Power Out",
        "effectiveName": null,
        "featureOfType": {
         "@id": "4f69a994-8460-470b-b886-5af81c8c24f6"
        },
        "featuringType": null,
        "humanId": null,
        "identifier": "40648200-75bf-434a-8bb3-15b076c1739e",
        "isComposite": false,
        "isDerived": false,
        "isPort": false,
        "isPortion": false,
        "isReadOnly": false,
        "memberElement": {
         "@id": "4f69a994-8460-470b-b886-5af81c8c24f6"
        },
        "memberFeature": {
         "@id": "4f69a994-8460-470b-b886-5af81c8c24f6"
        },
        "memberName": "Power Out",
        "membershipOwningNamespace": {
         "@id": "f29848a9-ba29-479c-9f28-976387ee52ae"
        },
        "name": null,
        "ownedAnnotation": [],
        "ownedElement": [],
        "ownedMemberElement": {
         "@id": "4f69a994-8460-470b-b886-5af81c8c24f6"
        },
        "ownedMemberFeature": {
         "@id": "4f69a994-8460-470b-b886-5af81c8c24f6"
        },
        "ownedRelatedElement": [
         {
          "@id": "4f69a994-8460-470b-b886-5af81c8c24f6"
         }
        ],
        "ownedRelationship": [],
        "ownedTextualRepresentation": [],
        "owner": null,
        "owningFeatureOfType": null,
        "owningMembership": null,
        "owningNamespace": null,
        "owningRelatedElement": {
         "@id": "f29848a9-ba29-479c-9f28-976387ee52ae"
        },
        "owningRelationship": null,
        "owningType": {
         "@id": "f29848a9-ba29-479c-9f28-976387ee52ae"
        },
        "qualifiedName": null,
        "relatedElement": [
         {
          "@id": "f29848a9-ba29-479c-9f28-976387ee52ae"
         },
         {
          "@id": "4f69a994-8460-470b-b886-5af81c8c24f6"
         }
        ],
        "source": [
         {
          "@id": "f29848a9-ba29-479c-9f28-976387ee52ae"
         }
        ],
        "target": [
         {
          "@id": "4f69a994-8460-470b-b886-5af81c8c24f6"
         }
        ],
        "visibility": "PUBLIC"
       },
       {
        "@id": "473f2f44-369e-4038-ab70-7176f5d97f5a",
        "@type": "Membership",
        "aliasId": [],
        "documentation": [],
        "documentationComment": [],
        "effectiveMemberName": "Connection",
        "effectiveName": null,
        "humanId": null,
        "identifier": "473f2f44-369e-4038-ab70-7176f5d97f5a",
        "memberElement": {
         "@id": "d589b69a-92b1-4179-973c-aea1dbd9e2a6"
        },
        "memberName": "Connection",
        "membershipOwningNamespace": {
         "@id": "8688d6e9-407f-4106-9068-4e5c2f804713"
        },
        "name": null,
        "ownedAnnotation": [],
        "ownedElement": [],
        "ownedMemberElement": {
         "@id": "d589b69a-92b1-4179-973c-aea1dbd9e2a6"
        },
        "ownedRelatedElement": [
         {
          "@id": "d589b69a-92b1-4179-973c-aea1dbd9e2a6"
         }
        ],
        "ownedRelationship": [],
        "ownedTextualRepresentation": [],
        "owner": null,
        "owningMembership": null,
        "owningNamespace": null,
        "owningRelatedElement": {
         "@id": "8688d6e9-407f-4106-9068-4e5c2f804713"
        },
        "owningRelationship": null,
        "qualifiedName": null,
        "relatedElement": [
         {
          "@id": "8688d6e9-407f-4106-9068-4e5c2f804713"
         },
         {
          "@id": "d589b69a-92b1-4179-973c-aea1dbd9e2a6"
         }
        ],
        "source": [
         {
          "@id": "8688d6e9-407f-4106-9068-4e5c2f804713"
         }
        ],
        "target": [
         {
          "@id": "d589b69a-92b1-4179-973c-aea1dbd9e2a6"
         }
        ],
        "visibility": "PUBLIC"
       },
       {
        "@id": "4f69a994-8460-470b-b886-5af81c8c24f6",
        "@type": "PortUsage",
        "aliasId": [],
        "definition": [
         {
          "@id": "1c745816-847a-4e63-8a7f-3e7d336d0fe4"
         }
        ],
        "documentation": [],
        "documentationComment": [],
        "effectiveName": "Power Out",
        "endFeature": [],
        "endOwningType": null,
        "feature": [],
        "featureMembership": [],
        "featuringType": [
         {
          "@id": "f29848a9-ba29-479c-9f28-976387ee52ae"
         }
        ],
        "flowFeature": [],
        "humanId": null,
        "identifier": "4f69a994-8460-470b-b886-5af81c8c24f6",
        "importedMembership": [],
        "inheritedFeature": [],
        "inheritedMembership": [
         {
          "@id": "a6cd787e-10b6-4341-9a8d-61fdb8879e34"
         }
        ],
        "input": [],
        "isAbstract": false,
        "isComposite": false,
        "isConjugated": false,
        "isEnd": false,
        "isNonunique": false,
        "isOrdered": false,
        "isSufficient": false,
        "isUnique": true,
        "isVariation": false,
        "member": [
         {
          "@id": "cfa58448-0457-4a21-98b7-9aa1e8a63e95"
         }
        ],
        "membership": [
         {
          "@id": "a6cd787e-10b6-4341-9a8d-61fdb8879e34"
         }
        ],
        "multiplicity": null,
        "name": "Power Out",
        "nestedAction": [],
        "nestedAllocation": [],
        "nestedAnalysisCase": [],
        "nestedAttribute": [],
        "nestedCalculation": [],
        "nestedCase": [],
        "nestedConcern": [],
        "nestedConnection": [],
        "nestedConstraint": [],
        "nestedEnumeration": [],
        "nestedInterface": [],
        "nestedItem": [],
        "nestedOccurrence": [],
        "nestedPart": [],
        "nestedPort": [],
        "nestedReference": [],
        "nestedRendering": [],
        "nestedRequirement": [],
        "nestedStakeholder": [],
        "nestedState": [],
        "nestedTransition": [],
        "nestedUsage": [],
        "nestedVerificationCase": [],
        "nestedView": [],
        "nestedViewpoint": [],
        "output": [],
        "ownedAnnotation": [],
        "ownedConjugator": null,
        "ownedElement": [],
        "ownedEndFeature": [],
        "ownedFeature": [],
        "ownedFeatureMembership": [],
        "ownedGeneralization": [
         {
          "@id": "2a3f7fa1-49ac-4dba-9427-a3fd2291dd48"
         }
        ],
        "ownedImport": [],
        "ownedMember": [],
        "ownedMembership": [],
        "ownedRedefinition": [],
        "ownedRelationship": [
         {
          "@id": "2a3f7fa1-49ac-4dba-9427-a3fd2291dd48"
         }
        ],
        "ownedSubsetting": [],
        "ownedTextualRepresentation": [],
        "ownedTypeFeaturing": [],
        "ownedTyping": [
         {
          "@id": "2a3f7fa1-49ac-4dba-9427-a3fd2291dd48"
         }
        ],
        "owner": {
         "@id": "f29848a9-ba29-479c-9f28-976387ee52ae"
        },
        "owningDefinition": null,
        "owningFeatureMembership": {
         "@id": "40648200-75bf-434a-8bb3-15b076c1739e"
        },
        "owningMembership": {
         "@id": "40648200-75bf-434a-8bb3-15b076c1739e"
        },
        "owningNamespace": {
         "@id": "f29848a9-ba29-479c-9f28-976387ee52ae"
        },
        "owningRelationship": {
         "@id": "40648200-75bf-434a-8bb3-15b076c1739e"
        },
        "owningType": {
         "@id": "f29848a9-ba29-479c-9f28-976387ee52ae"
        },
        "owningUsage": {
         "@id": "f29848a9-ba29-479c-9f28-976387ee52ae"
        },
        "portDefinition": [
         {
          "@id": "1c745816-847a-4e63-8a7f-3e7d336d0fe4"
         }
        ],
        "portOwningUsage": {
         "@id": "f29848a9-ba29-479c-9f28-976387ee52ae"
        },
        "qualifiedName": "jdehart_SimplePartsModel::'Power Group'::'Power Source'::'Power Out'",
        "type": [
         {
          "@id": "1c745816-847a-4e63-8a7f-3e7d336d0fe4"
         }
        ],
        "usage": [],
        "variant": [],
        "variantMembership": []
       },
       {
        "@id": "51cac4da-e57d-48a5-8b71-54d73d2b19fa",
        "@type": "Membership",
        "aliasId": [],
        "documentation": [],
        "documentationComment": [],
        "effectiveMemberName": "Power Group",
        "effectiveName": null,
        "humanId": null,
        "identifier": "51cac4da-e57d-48a5-8b71-54d73d2b19fa",
        "memberElement": {
         "@id": "1a75db52-3597-40d8-9879-67f76d0b1db9"
        },
        "memberName": "Power Group",
        "membershipOwningNamespace": {
         "@id": "10eb025a-f3da-4140-a0e8-80a33be8b734"
        },
        "name": null,
        "ownedAnnotation": [],
        "ownedElement": [],
        "ownedMemberElement": {
         "@id": "1a75db52-3597-40d8-9879-67f76d0b1db9"
        },
        "ownedRelatedElement": [
         {
          "@id": "1a75db52-3597-40d8-9879-67f76d0b1db9"
         }
        ],
        "ownedRelationship": [],
        "ownedTextualRepresentation": [],
        "owner": null,
        "owningMembership": null,
        "owningNamespace": null,
        "owningRelatedElement": {
         "@id": "10eb025a-f3da-4140-a0e8-80a33be8b734"
        },
        "owningRelationship": null,
        "qualifiedName": null,
        "relatedElement": [
         {
          "@id": "10eb025a-f3da-4140-a0e8-80a33be8b734"
         },
         {
          "@id": "1a75db52-3597-40d8-9879-67f76d0b1db9"
         }
        ],
        "source": [
         {
          "@id": "10eb025a-f3da-4140-a0e8-80a33be8b734"
         }
        ],
        "target": [
         {
          "@id": "1a75db52-3597-40d8-9879-67f76d0b1db9"
         }
        ],
        "visibility": "PUBLIC"
       },
       {
        "@id": "8688d6e9-407f-4106-9068-4e5c2f804713",
        "@type": "Package",
        "aliasId": [],
        "documentation": [],
        "documentationComment": [],
        "effectiveName": "Fake Library",
        "filterCondition": [],
        "humanId": null,
        "identifier": "8688d6e9-407f-4106-9068-4e5c2f804713",
        "importedMembership": [],
        "member": [
         {
          "@id": "c7d26e2c-c288-4115-8e8a-cbf065134355"
         },
         {
          "@id": "1c745816-847a-4e63-8a7f-3e7d336d0fe4"
         },
         {
          "@id": "d589b69a-92b1-4179-973c-aea1dbd9e2a6"
         }
        ],
        "membership": [
         {
          "@id": "cc255bba-c700-44b0-b9a2-2ae55089f5f6"
         },
         {
          "@id": "e20d7284-75a6-4a21-8dcf-2458a965e860"
         },
         {
          "@id": "473f2f44-369e-4038-ab70-7176f5d97f5a"
         }
        ],
        "name": "Fake Library",
        "ownedAnnotation": [],
        "ownedElement": [
         {
          "@id": "c7d26e2c-c288-4115-8e8a-cbf065134355"
         },
         {
          "@id": "1c745816-847a-4e63-8a7f-3e7d336d0fe4"
         },
         {
          "@id": "d589b69a-92b1-4179-973c-aea1dbd9e2a6"
         }
        ],
        "ownedImport": [],
        "ownedMember": [
         {
          "@id": "c7d26e2c-c288-4115-8e8a-cbf065134355"
         },
         {
          "@id": "1c745816-847a-4e63-8a7f-3e7d336d0fe4"
         },
         {
          "@id": "d589b69a-92b1-4179-973c-aea1dbd9e2a6"
         }
        ],
        "ownedMembership": [
         {
          "@id": "cc255bba-c700-44b0-b9a2-2ae55089f5f6"
         },
         {
          "@id": "e20d7284-75a6-4a21-8dcf-2458a965e860"
         },
         {
          "@id": "473f2f44-369e-4038-ab70-7176f5d97f5a"
         }
        ],
        "ownedRelationship": [
         {
          "@id": "cc255bba-c700-44b0-b9a2-2ae55089f5f6"
         },
         {
          "@id": "e20d7284-75a6-4a21-8dcf-2458a965e860"
         },
         {
          "@id": "473f2f44-369e-4038-ab70-7176f5d97f5a"
         }
        ],
        "ownedTextualRepresentation": [],
        "owner": {
         "@id": "10eb025a-f3da-4140-a0e8-80a33be8b734"
        },
        "owningMembership": {
         "@id": "ebc7c87a-35b3-4a3a-83a1-7e58ecda2636"
        },
        "owningNamespace": {
         "@id": "10eb025a-f3da-4140-a0e8-80a33be8b734"
        },
        "owningRelationship": {
         "@id": "ebc7c87a-35b3-4a3a-83a1-7e58ecda2636"
        },
        "qualifiedName": "jdehart_SimplePartsModel::'Fake Library'"
       },
       {
        "@id": "875eda1c-10e7-4a51-866f-03f94f83c32a",
        "@type": "PortConjugation",
        "aliasId": [],
        "conjugatedPortDefinition": {
         "@id": "cfa58448-0457-4a21-98b7-9aa1e8a63e95"
        },
        "conjugatedType": {
         "@id": "cfa58448-0457-4a21-98b7-9aa1e8a63e95"
        },
        "documentation": [],
        "documentationComment": [],
        "effectiveName": null,
        "humanId": null,
        "identifier": "875eda1c-10e7-4a51-866f-03f94f83c32a",
        "name": null,
        "originalPortDefinition": {
         "@id": "1c745816-847a-4e63-8a7f-3e7d336d0fe4"
        },
        "originalType": {
         "@id": "1c745816-847a-4e63-8a7f-3e7d336d0fe4"
        },
        "ownedAnnotation": [],
        "ownedElement": [],
        "ownedRelatedElement": [],
        "ownedRelationship": [],
        "ownedTextualRepresentation": [],
        "owner": null,
        "owningMembership": null,
        "owningNamespace": null,
        "owningRelatedElement": {
         "@id": "cfa58448-0457-4a21-98b7-9aa1e8a63e95"
        },
        "owningRelationship": null,
        "owningType": {
         "@id": "cfa58448-0457-4a21-98b7-9aa1e8a63e95"
        },
        "qualifiedName": null,
        "relatedElement": [
         {
          "@id": "cfa58448-0457-4a21-98b7-9aa1e8a63e95"
         },
         {
          "@id": "1c745816-847a-4e63-8a7f-3e7d336d0fe4"
         }
        ],
        "source": [
         {
          "@id": "cfa58448-0457-4a21-98b7-9aa1e8a63e95"
         }
        ],
        "target": [
         {
          "@id": "1c745816-847a-4e63-8a7f-3e7d336d0fe4"
         }
        ]
       },
       {
        "@id": "8c31b8d8-2f04-40b9-afcd-143abea6cc46",
        "@type": "EndFeatureMembership",
        "aliasId": [],
        "direction": null,
        "documentation": [],
        "documentationComment": [],
        "effectiveMemberName": "target",
        "effectiveName": null,
        "featureOfType": {
         "@id": "f2d73272-377e-4dc4-b54b-e618873d0584"
        },
        "featuringType": null,
        "humanId": null,
        "identifier": "8c31b8d8-2f04-40b9-afcd-143abea6cc46",
        "isComposite": false,
        "isDerived": false,
        "isPort": false,
        "isPortion": false,
        "isReadOnly": false,
        "memberElement": {
         "@id": "f2d73272-377e-4dc4-b54b-e618873d0584"
        },
        "memberFeature": {
         "@id": "f2d73272-377e-4dc4-b54b-e618873d0584"
        },
        "memberName": null,
        "membershipOwningNamespace": {
         "@id": "28399c55-100d-4f91-96f7-3c2be3a67dd7"
        },
        "name": null,
        "ownedAnnotation": [],
        "ownedElement": [],
        "ownedMemberElement": {
         "@id": "f2d73272-377e-4dc4-b54b-e618873d0584"
        },
        "ownedMemberFeature": {
         "@id": "f2d73272-377e-4dc4-b54b-e618873d0584"
        },
        "ownedRelatedElement": [
         {
          "@id": "f2d73272-377e-4dc4-b54b-e618873d0584"
         }
        ],
        "ownedRelationship": [],
        "ownedTextualRepresentation": [],
        "owner": null,
        "owningFeatureOfType": null,
        "owningMembership": null,
        "owningNamespace": null,
        "owningRelatedElement": {
         "@id": "28399c55-100d-4f91-96f7-3c2be3a67dd7"
        },
        "owningRelationship": null,
        "owningType": {
         "@id": "28399c55-100d-4f91-96f7-3c2be3a67dd7"
        },
        "qualifiedName": null,
        "relatedElement": [
         {
          "@id": "28399c55-100d-4f91-96f7-3c2be3a67dd7"
         },
         {
          "@id": "f2d73272-377e-4dc4-b54b-e618873d0584"
         }
        ],
        "source": [
         {
          "@id": "28399c55-100d-4f91-96f7-3c2be3a67dd7"
         }
        ],
        "target": [
         {
          "@id": "f2d73272-377e-4dc4-b54b-e618873d0584"
         }
        ],
        "visibility": "PUBLIC"
       },
       {
        "@id": "91ec9dab-24d2-42ef-b1b9-c005c65685bc",
        "@type": "Subsetting",
        "aliasId": [],
        "documentation": [],
        "documentationComment": [],
        "effectiveName": null,
        "general": {
         "@id": "4f69a994-8460-470b-b886-5af81c8c24f6"
        },
        "humanId": null,
        "identifier": "91ec9dab-24d2-42ef-b1b9-c005c65685bc",
        "name": null,
        "ownedAnnotation": [],
        "ownedElement": [],
        "ownedRelatedElement": [],
        "ownedRelationship": [],
        "ownedTextualRepresentation": [],
        "owner": null,
        "owningFeature": {
         "@id": "1ce96367-7138-4982-9d0f-47567d1c083c"
        },
        "owningMembership": null,
        "owningNamespace": null,
        "owningRelatedElement": {
         "@id": "1ce96367-7138-4982-9d0f-47567d1c083c"
        },
        "owningRelationship": null,
        "owningType": {
         "@id": "1ce96367-7138-4982-9d0f-47567d1c083c"
        },
        "qualifiedName": null,
        "relatedElement": [
         {
          "@id": "1ce96367-7138-4982-9d0f-47567d1c083c"
         },
         {
          "@id": "4f69a994-8460-470b-b886-5af81c8c24f6"
         }
        ],
        "source": [
         {
          "@id": "1ce96367-7138-4982-9d0f-47567d1c083c"
         }
        ],
        "specific": {
         "@id": "1ce96367-7138-4982-9d0f-47567d1c083c"
        },
        "subsettedFeature": {
         "@id": "4f69a994-8460-470b-b886-5af81c8c24f6"
        },
        "subsettingFeature": {
         "@id": "1ce96367-7138-4982-9d0f-47567d1c083c"
        },
        "target": [
         {
          "@id": "4f69a994-8460-470b-b886-5af81c8c24f6"
         }
        ]
       },
       {
        "@id": "a241fef9-ae36-47f5-b22c-9d8ef633c120",
        "@type": "FeatureTyping",
        "aliasId": [],
        "documentation": [],
        "documentationComment": [],
        "effectiveName": null,
        "general": {
         "@id": "1c745816-847a-4e63-8a7f-3e7d336d0fe4"
        },
        "humanId": null,
        "identifier": "a241fef9-ae36-47f5-b22c-9d8ef633c120",
        "name": null,
        "ownedAnnotation": [],
        "ownedElement": [],
        "ownedRelatedElement": [],
        "ownedRelationship": [],
        "ownedTextualRepresentation": [],
        "owner": null,
        "owningFeature": {
         "@id": "bed6a577-00b9-4158-ab51-31d2a0c6474a"
        },
        "owningMembership": null,
        "owningNamespace": null,
        "owningRelatedElement": {
         "@id": "bed6a577-00b9-4158-ab51-31d2a0c6474a"
        },
        "owningRelationship": null,
        "owningType": {
         "@id": "bed6a577-00b9-4158-ab51-31d2a0c6474a"
        },
        "qualifiedName": null,
        "relatedElement": [
         {
          "@id": "bed6a577-00b9-4158-ab51-31d2a0c6474a"
         },
         {
          "@id": "1c745816-847a-4e63-8a7f-3e7d336d0fe4"
         }
        ],
        "source": [
         {
          "@id": "bed6a577-00b9-4158-ab51-31d2a0c6474a"
         }
        ],
        "specific": {
         "@id": "bed6a577-00b9-4158-ab51-31d2a0c6474a"
        },
        "target": [
         {
          "@id": "1c745816-847a-4e63-8a7f-3e7d336d0fe4"
         }
        ],
        "type": {
         "@id": "1c745816-847a-4e63-8a7f-3e7d336d0fe4"
        },
        "typedFeature": {
         "@id": "bed6a577-00b9-4158-ab51-31d2a0c6474a"
        }
       },
       {
        "@id": "a6cd787e-10b6-4341-9a8d-61fdb8879e34",
        "@type": "Membership",
        "aliasId": [],
        "documentation": [],
        "documentationComment": [],
        "effectiveMemberName": "~Port",
        "effectiveName": null,
        "humanId": null,
        "identifier": "a6cd787e-10b6-4341-9a8d-61fdb8879e34",
        "memberElement": {
         "@id": "cfa58448-0457-4a21-98b7-9aa1e8a63e95"
        },
        "memberName": "~Port",
        "membershipOwningNamespace": {
         "@id": "1c745816-847a-4e63-8a7f-3e7d336d0fe4"
        },
        "name": null,
        "ownedAnnotation": [],
        "ownedElement": [],
        "ownedMemberElement": {
         "@id": "cfa58448-0457-4a21-98b7-9aa1e8a63e95"
        },
        "ownedRelatedElement": [
         {
          "@id": "cfa58448-0457-4a21-98b7-9aa1e8a63e95"
         }
        ],
        "ownedRelationship": [],
        "ownedTextualRepresentation": [],
        "owner": null,
        "owningMembership": null,
        "owningNamespace": null,
        "owningRelatedElement": {
         "@id": "1c745816-847a-4e63-8a7f-3e7d336d0fe4"
        },
        "owningRelationship": null,
        "qualifiedName": null,
        "relatedElement": [
         {
          "@id": "1c745816-847a-4e63-8a7f-3e7d336d0fe4"
         },
         {
          "@id": "cfa58448-0457-4a21-98b7-9aa1e8a63e95"
         }
        ],
        "source": [
         {
          "@id": "1c745816-847a-4e63-8a7f-3e7d336d0fe4"
         }
        ],
        "target": [
         {
          "@id": "cfa58448-0457-4a21-98b7-9aa1e8a63e95"
         }
        ],
        "visibility": "PUBLIC"
       },
       {
        "@id": "abda0dc1-0993-4cf2-b68f-c5b01bdcf01b",
        "@type": "FeatureMembership",
        "aliasId": [],
        "direction": null,
        "documentation": [],
        "documentationComment": [],
        "effectiveMemberName": "Power In",
        "effectiveName": null,
        "featureOfType": {
         "@id": "bed6a577-00b9-4158-ab51-31d2a0c6474a"
        },
        "featuringType": null,
        "humanId": null,
        "identifier": "abda0dc1-0993-4cf2-b68f-c5b01bdcf01b",
        "isComposite": false,
        "isDerived": false,
        "isPort": false,
        "isPortion": false,
        "isReadOnly": false,
        "memberElement": {
         "@id": "bed6a577-00b9-4158-ab51-31d2a0c6474a"
        },
        "memberFeature": {
         "@id": "bed6a577-00b9-4158-ab51-31d2a0c6474a"
        },
        "memberName": "Power In",
        "membershipOwningNamespace": {
         "@id": "0a2cca58-06b2-4f3e-b7f8-d69a7f48e4e0"
        },
        "name": null,
        "ownedAnnotation": [],
        "ownedElement": [],
        "ownedMemberElement": {
         "@id": "bed6a577-00b9-4158-ab51-31d2a0c6474a"
        },
        "ownedMemberFeature": {
         "@id": "bed6a577-00b9-4158-ab51-31d2a0c6474a"
        },
        "ownedRelatedElement": [
         {
          "@id": "bed6a577-00b9-4158-ab51-31d2a0c6474a"
         }
        ],
        "ownedRelationship": [],
        "ownedTextualRepresentation": [],
        "owner": null,
        "owningFeatureOfType": null,
        "owningMembership": null,
        "owningNamespace": null,
        "owningRelatedElement": {
         "@id": "0a2cca58-06b2-4f3e-b7f8-d69a7f48e4e0"
        },
        "owningRelationship": null,
        "owningType": {
         "@id": "0a2cca58-06b2-4f3e-b7f8-d69a7f48e4e0"
        },
        "qualifiedName": null,
        "relatedElement": [
         {
          "@id": "0a2cca58-06b2-4f3e-b7f8-d69a7f48e4e0"
         },
         {
          "@id": "bed6a577-00b9-4158-ab51-31d2a0c6474a"
         }
        ],
        "source": [
         {
          "@id": "0a2cca58-06b2-4f3e-b7f8-d69a7f48e4e0"
         }
        ],
        "target": [
         {
          "@id": "bed6a577-00b9-4158-ab51-31d2a0c6474a"
         }
        ],
        "visibility": "PUBLIC"
       },
       {
        "@id": "bed6a577-00b9-4158-ab51-31d2a0c6474a",
        "@type": "PortUsage",
        "aliasId": [],
        "definition": [
         {
          "@id": "1c745816-847a-4e63-8a7f-3e7d336d0fe4"
         }
        ],
        "documentation": [],
        "documentationComment": [],
        "effectiveName": "Power In",
        "endFeature": [],
        "endOwningType": null,
        "feature": [],
        "featureMembership": [],
        "featuringType": [
         {
          "@id": "0a2cca58-06b2-4f3e-b7f8-d69a7f48e4e0"
         }
        ],
        "flowFeature": [],
        "humanId": null,
        "identifier": "bed6a577-00b9-4158-ab51-31d2a0c6474a",
        "importedMembership": [],
        "inheritedFeature": [],
        "inheritedMembership": [
         {
          "@id": "a6cd787e-10b6-4341-9a8d-61fdb8879e34"
         }
        ],
        "input": [],
        "isAbstract": false,
        "isComposite": false,
        "isConjugated": false,
        "isEnd": false,
        "isNonunique": false,
        "isOrdered": false,
        "isSufficient": false,
        "isUnique": true,
        "isVariation": false,
        "member": [
         {
          "@id": "cfa58448-0457-4a21-98b7-9aa1e8a63e95"
         }
        ],
        "membership": [
         {
          "@id": "a6cd787e-10b6-4341-9a8d-61fdb8879e34"
         }
        ],
        "multiplicity": null,
        "name": "Power In",
        "nestedAction": [],
        "nestedAllocation": [],
        "nestedAnalysisCase": [],
        "nestedAttribute": [],
        "nestedCalculation": [],
        "nestedCase": [],
        "nestedConcern": [],
        "nestedConnection": [],
        "nestedConstraint": [],
        "nestedEnumeration": [],
        "nestedInterface": [],
        "nestedItem": [],
        "nestedOccurrence": [],
        "nestedPart": [],
        "nestedPort": [],
        "nestedReference": [],
        "nestedRendering": [],
        "nestedRequirement": [],
        "nestedStakeholder": [],
        "nestedState": [],
        "nestedTransition": [],
        "nestedUsage": [],
        "nestedVerificationCase": [],
        "nestedView": [],
        "nestedViewpoint": [],
        "output": [],
        "ownedAnnotation": [],
        "ownedConjugator": null,
        "ownedElement": [],
        "ownedEndFeature": [],
        "ownedFeature": [],
        "ownedFeatureMembership": [],
        "ownedGeneralization": [
         {
          "@id": "a241fef9-ae36-47f5-b22c-9d8ef633c120"
         }
        ],
        "ownedImport": [],
        "ownedMember": [],
        "ownedMembership": [],
        "ownedRedefinition": [],
        "ownedRelationship": [
         {
          "@id": "a241fef9-ae36-47f5-b22c-9d8ef633c120"
         }
        ],
        "ownedSubsetting": [],
        "ownedTextualRepresentation": [],
        "ownedTypeFeaturing": [],
        "ownedTyping": [
         {
          "@id": "a241fef9-ae36-47f5-b22c-9d8ef633c120"
         }
        ],
        "owner": {
         "@id": "0a2cca58-06b2-4f3e-b7f8-d69a7f48e4e0"
        },
        "owningDefinition": null,
        "owningFeatureMembership": {
         "@id": "abda0dc1-0993-4cf2-b68f-c5b01bdcf01b"
        },
        "owningMembership": {
         "@id": "abda0dc1-0993-4cf2-b68f-c5b01bdcf01b"
        },
        "owningNamespace": {
         "@id": "0a2cca58-06b2-4f3e-b7f8-d69a7f48e4e0"
        },
        "owningRelationship": {
         "@id": "abda0dc1-0993-4cf2-b68f-c5b01bdcf01b"
        },
        "owningType": {
         "@id": "0a2cca58-06b2-4f3e-b7f8-d69a7f48e4e0"
        },
        "owningUsage": {
         "@id": "0a2cca58-06b2-4f3e-b7f8-d69a7f48e4e0"
        },
        "portDefinition": [
         {
          "@id": "1c745816-847a-4e63-8a7f-3e7d336d0fe4"
         }
        ],
        "portOwningUsage": {
         "@id": "0a2cca58-06b2-4f3e-b7f8-d69a7f48e4e0"
        },
        "qualifiedName": "jdehart_SimplePartsModel::'Power Group'::'Power User'::'Power In'",
        "type": [
         {
          "@id": "1c745816-847a-4e63-8a7f-3e7d336d0fe4"
         }
        ],
        "usage": [],
        "variant": [],
        "variantMembership": []
       },
       {
        "@id": "c1bce5ac-2efd-46ec-bcb8-61601eaa49ef",
        "@type": "FeatureMembership",
        "aliasId": [],
        "direction": null,
        "documentation": [],
        "documentationComment": [],
        "effectiveMemberName": "powerToUser",
        "effectiveName": null,
        "featureOfType": {
         "@id": "28399c55-100d-4f91-96f7-3c2be3a67dd7"
        },
        "featuringType": null,
        "humanId": null,
        "identifier": "c1bce5ac-2efd-46ec-bcb8-61601eaa49ef",
        "isComposite": false,
        "isDerived": false,
        "isPort": false,
        "isPortion": false,
        "isReadOnly": false,
        "memberElement": {
         "@id": "28399c55-100d-4f91-96f7-3c2be3a67dd7"
        },
        "memberFeature": {
         "@id": "28399c55-100d-4f91-96f7-3c2be3a67dd7"
        },
        "memberName": "powerToUser",
        "membershipOwningNamespace": {
         "@id": "1a75db52-3597-40d8-9879-67f76d0b1db9"
        },
        "name": null,
        "ownedAnnotation": [],
        "ownedElement": [],
        "ownedMemberElement": {
         "@id": "28399c55-100d-4f91-96f7-3c2be3a67dd7"
        },
        "ownedMemberFeature": {
         "@id": "28399c55-100d-4f91-96f7-3c2be3a67dd7"
        },
        "ownedRelatedElement": [
         {
          "@id": "28399c55-100d-4f91-96f7-3c2be3a67dd7"
         }
        ],
        "ownedRelationship": [],
        "ownedTextualRepresentation": [],
        "owner": null,
        "owningFeatureOfType": null,
        "owningMembership": null,
        "owningNamespace": null,
        "owningRelatedElement": {
         "@id": "1a75db52-3597-40d8-9879-67f76d0b1db9"
        },
        "owningRelationship": null,
        "owningType": {
         "@id": "1a75db52-3597-40d8-9879-67f76d0b1db9"
        },
        "qualifiedName": null,
        "relatedElement": [
         {
          "@id": "1a75db52-3597-40d8-9879-67f76d0b1db9"
         },
         {
          "@id": "28399c55-100d-4f91-96f7-3c2be3a67dd7"
         }
        ],
        "source": [
         {
          "@id": "1a75db52-3597-40d8-9879-67f76d0b1db9"
         }
        ],
        "target": [
         {
          "@id": "28399c55-100d-4f91-96f7-3c2be3a67dd7"
         }
        ],
        "visibility": "PUBLIC"
       },
       {
        "@id": "c53865d6-aa83-4403-a327-0097b95120ea",
        "@type": "FeatureTyping",
        "aliasId": [],
        "documentation": [],
        "documentationComment": [],
        "effectiveName": null,
        "general": {
         "@id": "d589b69a-92b1-4179-973c-aea1dbd9e2a6"
        },
        "humanId": null,
        "identifier": "c53865d6-aa83-4403-a327-0097b95120ea",
        "name": null,
        "ownedAnnotation": [],
        "ownedElement": [],
        "ownedRelatedElement": [],
        "ownedRelationship": [],
        "ownedTextualRepresentation": [],
        "owner": null,
        "owningFeature": {
         "@id": "28399c55-100d-4f91-96f7-3c2be3a67dd7"
        },
        "owningMembership": null,
        "owningNamespace": null,
        "owningRelatedElement": {
         "@id": "28399c55-100d-4f91-96f7-3c2be3a67dd7"
        },
        "owningRelationship": null,
        "owningType": {
         "@id": "28399c55-100d-4f91-96f7-3c2be3a67dd7"
        },
        "qualifiedName": null,
        "relatedElement": [
         {
          "@id": "28399c55-100d-4f91-96f7-3c2be3a67dd7"
         },
         {
          "@id": "d589b69a-92b1-4179-973c-aea1dbd9e2a6"
         }
        ],
        "source": [
         {
          "@id": "28399c55-100d-4f91-96f7-3c2be3a67dd7"
         }
        ],
        "specific": {
         "@id": "28399c55-100d-4f91-96f7-3c2be3a67dd7"
        },
        "target": [
         {
          "@id": "d589b69a-92b1-4179-973c-aea1dbd9e2a6"
         }
        ],
        "type": {
         "@id": "d589b69a-92b1-4179-973c-aea1dbd9e2a6"
        },
        "typedFeature": {
         "@id": "28399c55-100d-4f91-96f7-3c2be3a67dd7"
        }
       },
       {
        "@id": "c7d26e2c-c288-4115-8e8a-cbf065134355",
        "@type": "PartDefinition",
        "aliasId": [],
        "documentation": [],
        "documentationComment": [],
        "effectiveName": "Part",
        "endFeature": [],
        "feature": [],
        "featureMembership": [],
        "flowFeature": [],
        "humanId": null,
        "identifier": "c7d26e2c-c288-4115-8e8a-cbf065134355",
        "importedMembership": [],
        "inheritedFeature": [],
        "inheritedMembership": [],
        "input": [],
        "isAbstract": false,
        "isConjugated": false,
        "isIndividual": false,
        "isSufficient": false,
        "isVariation": false,
        "lifeClass": null,
        "member": [],
        "membership": [],
        "multiplicity": null,
        "name": "Part",
        "output": [],
        "ownedAction": [],
        "ownedAllocation": [],
        "ownedAnalysisCase": [],
        "ownedAnnotation": [],
        "ownedAttribute": [],
        "ownedCalculation": [],
        "ownedCase": [],
        "ownedConcern": [],
        "ownedConjugator": null,
        "ownedConnection": [],
        "ownedConstraint": [],
        "ownedElement": [],
        "ownedEndFeature": [],
        "ownedEnumeration": [],
        "ownedFeature": [],
        "ownedFeatureMembership": [],
        "ownedGeneralization": [],
        "ownedImport": [],
        "ownedInterface": [],
        "ownedItem": [],
        "ownedMember": [],
        "ownedMembership": [],
        "ownedOccurrence": [],
        "ownedPart": [],
        "ownedPort": [],
        "ownedReference": [],
        "ownedRelationship": [],
        "ownedRendering": [],
        "ownedRequirement": [],
        "ownedStakeholder": [],
        "ownedState": [],
        "ownedSuperclassing": [],
        "ownedTextualRepresentation": [],
        "ownedTransition": [],
        "ownedUsage": [],
        "ownedVerificationCase": [],
        "ownedView": [],
        "ownedViewpoint": [],
        "owner": {
         "@id": "8688d6e9-407f-4106-9068-4e5c2f804713"
        },
        "owningMembership": {
         "@id": "cc255bba-c700-44b0-b9a2-2ae55089f5f6"
        },
        "owningNamespace": {
         "@id": "8688d6e9-407f-4106-9068-4e5c2f804713"
        },
        "owningRelationship": {
         "@id": "cc255bba-c700-44b0-b9a2-2ae55089f5f6"
        },
        "qualifiedName": "jdehart_SimplePartsModel::'Fake Library'::Part",
        "usage": [],
        "variant": [],
        "variantMembership": []
       },
       {
        "@id": "cc255bba-c700-44b0-b9a2-2ae55089f5f6",
        "@type": "Membership",
        "aliasId": [],
        "documentation": [],
        "documentationComment": [],
        "effectiveMemberName": "Part",
        "effectiveName": null,
        "humanId": null,
        "identifier": "cc255bba-c700-44b0-b9a2-2ae55089f5f6",
        "memberElement": {
         "@id": "c7d26e2c-c288-4115-8e8a-cbf065134355"
        },
        "memberName": "Part",
        "membershipOwningNamespace": {
         "@id": "8688d6e9-407f-4106-9068-4e5c2f804713"
        },
        "name": null,
        "ownedAnnotation": [],
        "ownedElement": [],
        "ownedMemberElement": {
         "@id": "c7d26e2c-c288-4115-8e8a-cbf065134355"
        },
        "ownedRelatedElement": [
         {
          "@id": "c7d26e2c-c288-4115-8e8a-cbf065134355"
         }
        ],
        "ownedRelationship": [],
        "ownedTextualRepresentation": [],
        "owner": null,
        "owningMembership": null,
        "owningNamespace": null,
        "owningRelatedElement": {
         "@id": "8688d6e9-407f-4106-9068-4e5c2f804713"
        },
        "owningRelationship": null,
        "qualifiedName": null,
        "relatedElement": [
         {
          "@id": "8688d6e9-407f-4106-9068-4e5c2f804713"
         },
         {
          "@id": "c7d26e2c-c288-4115-8e8a-cbf065134355"
         }
        ],
        "source": [
         {
          "@id": "8688d6e9-407f-4106-9068-4e5c2f804713"
         }
        ],
        "target": [
         {
          "@id": "c7d26e2c-c288-4115-8e8a-cbf065134355"
         }
        ],
        "visibility": "PUBLIC"
       },
       {
        "@id": "cfa58448-0457-4a21-98b7-9aa1e8a63e95",
        "@type": "ConjugatedPortDefinition",
        "aliasId": [],
        "conjugatedPortDefinition": null,
        "documentation": [],
        "documentationComment": [],
        "effectiveName": "~Port",
        "endFeature": [],
        "feature": [],
        "featureMembership": [],
        "flowFeature": [],
        "humanId": null,
        "identifier": "cfa58448-0457-4a21-98b7-9aa1e8a63e95",
        "importedMembership": [],
        "inheritedFeature": [],
        "inheritedMembership": [
         {
          "@id": "a6cd787e-10b6-4341-9a8d-61fdb8879e34"
         }
        ],
        "input": [],
        "isAbstract": false,
        "isConjugated": true,
        "isSufficient": false,
        "isVariation": false,
        "member": [
         {
          "@id": "cfa58448-0457-4a21-98b7-9aa1e8a63e95"
         }
        ],
        "membership": [
         {
          "@id": "a6cd787e-10b6-4341-9a8d-61fdb8879e34"
         }
        ],
        "multiplicity": null,
        "name": "~Port",
        "originalPortDefinition": {
         "@id": "1c745816-847a-4e63-8a7f-3e7d336d0fe4"
        },
        "output": [],
        "ownedAction": [],
        "ownedAllocation": [],
        "ownedAnalysisCase": [],
        "ownedAnnotation": [],
        "ownedAttribute": [],
        "ownedCalculation": [],
        "ownedCase": [],
        "ownedConcern": [],
        "ownedConjugator": {
         "@id": "875eda1c-10e7-4a51-866f-03f94f83c32a"
        },
        "ownedConnection": [],
        "ownedConstraint": [],
        "ownedElement": [],
        "ownedEndFeature": [],
        "ownedEnumeration": [],
        "ownedFeature": [],
        "ownedFeatureMembership": [],
        "ownedGeneralization": [],
        "ownedImport": [],
        "ownedInterface": [],
        "ownedItem": [],
        "ownedMember": [],
        "ownedMembership": [],
        "ownedOccurrence": [],
        "ownedPart": [],
        "ownedPort": [],
        "ownedPortConjugator": {
         "@id": "875eda1c-10e7-4a51-866f-03f94f83c32a"
        },
        "ownedReference": [],
        "ownedRelationship": [
         {
          "@id": "875eda1c-10e7-4a51-866f-03f94f83c32a"
         }
        ],
        "ownedRendering": [],
        "ownedRequirement": [],
        "ownedStakeholder": [],
        "ownedState": [],
        "ownedSuperclassing": [],
        "ownedTextualRepresentation": [],
        "ownedTransition": [],
        "ownedUsage": [],
        "ownedVerificationCase": [],
        "ownedView": [],
        "ownedViewpoint": [],
        "owner": {
         "@id": "1c745816-847a-4e63-8a7f-3e7d336d0fe4"
        },
        "owningMembership": {
         "@id": "a6cd787e-10b6-4341-9a8d-61fdb8879e34"
        },
        "owningNamespace": {
         "@id": "1c745816-847a-4e63-8a7f-3e7d336d0fe4"
        },
        "owningRelationship": {
         "@id": "a6cd787e-10b6-4341-9a8d-61fdb8879e34"
        },
        "qualifiedName": "jdehart_SimplePartsModel::'Fake Library'::Port::'~Port'",
        "usage": [],
        "variant": [],
        "variantMembership": []
       },
       {
        "@id": "d31a5f09-b00b-4eb4-b94d-26f2c51cda4c",
        "@type": "Classifier",
        "aliasId": [],
        "documentation": [],
        "documentationComment": [],
        "effectiveName": "Anything",
        "endFeature": [],
        "feature": [],
        "featureMembership": [],
        "humanId": null,
        "identifier": "d31a5f09-b00b-4eb4-b94d-26f2c51cda4c",
        "importedMembership": [],
        "inheritedFeature": [],
        "inheritedMembership": [],
        "input": [],
        "isAbstract": true,
        "isConjugated": false,
        "isSufficient": false,
        "member": [],
        "membership": [],
        "multiplicity": null,
        "name": "Anything",
        "output": [],
        "ownedAnnotation": [],
        "ownedConjugator": null,
        "ownedElement": [],
        "ownedEndFeature": [],
        "ownedFeature": [],
        "ownedFeatureMembership": [],
        "ownedGeneralization": [],
        "ownedImport": [],
        "ownedMember": [],
        "ownedMembership": [],
        "ownedRelationship": [],
        "ownedSuperclassing": [],
        "ownedTextualRepresentation": [],
        "owner": null,
        "owningMembership": null,
        "owningNamespace": null,
        "owningRelationship": null,
        "qualifiedName": "Base::Anything"
       },
       {
        "@id": "d589b69a-92b1-4179-973c-aea1dbd9e2a6",
        "@type": "ConnectionDefinition",
        "aliasId": [],
        "associationEnd": [],
        "connectionEnd": [],
        "documentation": [],
        "documentationComment": [],
        "effectiveName": "Connection",
        "endFeature": [],
        "feature": [],
        "featureMembership": [],
        "flowFeature": [],
        "humanId": null,
        "identifier": "d589b69a-92b1-4179-973c-aea1dbd9e2a6",
        "importedMembership": [],
        "inheritedFeature": [],
        "inheritedMembership": [],
        "input": [],
        "isAbstract": false,
        "isConjugated": false,
        "isIndividual": false,
        "isSufficient": false,
        "isVariation": false,
        "lifeClass": null,
        "member": [],
        "membership": [],
        "multiplicity": null,
        "name": "Connection",
        "output": [],
        "ownedAction": [],
        "ownedAllocation": [],
        "ownedAnalysisCase": [],
        "ownedAnnotation": [],
        "ownedAttribute": [],
        "ownedCalculation": [],
        "ownedCase": [],
        "ownedConcern": [],
        "ownedConjugator": null,
        "ownedConnection": [],
        "ownedConstraint": [],
        "ownedElement": [],
        "ownedEndFeature": [],
        "ownedEnumeration": [],
        "ownedFeature": [],
        "ownedFeatureMembership": [],
        "ownedGeneralization": [],
        "ownedImport": [],
        "ownedInterface": [],
        "ownedItem": [],
        "ownedMember": [],
        "ownedMembership": [],
        "ownedOccurrence": [],
        "ownedPart": [],
        "ownedPort": [],
        "ownedReference": [],
        "ownedRelatedElement": [],
        "ownedRelationship": [],
        "ownedRendering": [],
        "ownedRequirement": [],
        "ownedStakeholder": [],
        "ownedState": [],
        "ownedSuperclassing": [],
        "ownedTextualRepresentation": [],
        "ownedTransition": [],
        "ownedUsage": [],
        "ownedVerificationCase": [],
        "ownedView": [],
        "ownedViewpoint": [],
        "owner": {
         "@id": "8688d6e9-407f-4106-9068-4e5c2f804713"
        },
        "owningMembership": {
         "@id": "473f2f44-369e-4038-ab70-7176f5d97f5a"
        },
        "owningNamespace": {
         "@id": "8688d6e9-407f-4106-9068-4e5c2f804713"
        },
        "owningRelatedElement": null,
        "owningRelationship": {
         "@id": "473f2f44-369e-4038-ab70-7176f5d97f5a"
        },
        "qualifiedName": "jdehart_SimplePartsModel::'Fake Library'::Connection",
        "relatedElement": [
         {
          "@id": "d31a5f09-b00b-4eb4-b94d-26f2c51cda4c"
         },
         {
          "@id": "d31a5f09-b00b-4eb4-b94d-26f2c51cda4c"
         }
        ],
        "relatedType": [
         {
          "@id": "d31a5f09-b00b-4eb4-b94d-26f2c51cda4c"
         },
         {
          "@id": "d31a5f09-b00b-4eb4-b94d-26f2c51cda4c"
         }
        ],
        "source": [
         {
          "@id": "d31a5f09-b00b-4eb4-b94d-26f2c51cda4c"
         }
        ],
        "sourceType": {
         "@id": "d31a5f09-b00b-4eb4-b94d-26f2c51cda4c"
        },
        "target": [
         {
          "@id": "d31a5f09-b00b-4eb4-b94d-26f2c51cda4c"
         }
        ],
        "targetType": [
         {
          "@id": "d31a5f09-b00b-4eb4-b94d-26f2c51cda4c"
         }
        ],
        "usage": [],
        "variant": [],
        "variantMembership": []
       },
       {
        "@id": "df968c66-dd48-4b09-87c4-e3d720f43193",
        "@type": "FeatureMembership",
        "aliasId": [],
        "direction": null,
        "documentation": [],
        "documentationComment": [],
        "effectiveMemberName": "Power Source",
        "effectiveName": null,
        "featureOfType": {
         "@id": "f29848a9-ba29-479c-9f28-976387ee52ae"
        },
        "featuringType": null,
        "humanId": null,
        "identifier": "df968c66-dd48-4b09-87c4-e3d720f43193",
        "isComposite": true,
        "isDerived": false,
        "isPort": false,
        "isPortion": false,
        "isReadOnly": false,
        "memberElement": {
         "@id": "f29848a9-ba29-479c-9f28-976387ee52ae"
        },
        "memberFeature": {
         "@id": "f29848a9-ba29-479c-9f28-976387ee52ae"
        },
        "memberName": "Power Source",
        "membershipOwningNamespace": {
         "@id": "1a75db52-3597-40d8-9879-67f76d0b1db9"
        },
        "name": null,
        "ownedAnnotation": [],
        "ownedElement": [],
        "ownedMemberElement": {
         "@id": "f29848a9-ba29-479c-9f28-976387ee52ae"
        },
        "ownedMemberFeature": {
         "@id": "f29848a9-ba29-479c-9f28-976387ee52ae"
        },
        "ownedRelatedElement": [
         {
          "@id": "f29848a9-ba29-479c-9f28-976387ee52ae"
         }
        ],
        "ownedRelationship": [],
        "ownedTextualRepresentation": [],
        "owner": null,
        "owningFeatureOfType": null,
        "owningMembership": null,
        "owningNamespace": null,
        "owningRelatedElement": {
         "@id": "1a75db52-3597-40d8-9879-67f76d0b1db9"
        },
        "owningRelationship": null,
        "owningType": {
         "@id": "1a75db52-3597-40d8-9879-67f76d0b1db9"
        },
        "qualifiedName": null,
        "relatedElement": [
         {
          "@id": "1a75db52-3597-40d8-9879-67f76d0b1db9"
         },
         {
          "@id": "f29848a9-ba29-479c-9f28-976387ee52ae"
         }
        ],
        "source": [
         {
          "@id": "1a75db52-3597-40d8-9879-67f76d0b1db9"
         }
        ],
        "target": [
         {
          "@id": "f29848a9-ba29-479c-9f28-976387ee52ae"
         }
        ],
        "visibility": "PUBLIC"
       },
       {
        "@id": "e20d7284-75a6-4a21-8dcf-2458a965e860",
        "@type": "Membership",
        "aliasId": [],
        "documentation": [],
        "documentationComment": [],
        "effectiveMemberName": "Port",
        "effectiveName": null,
        "humanId": null,
        "identifier": "e20d7284-75a6-4a21-8dcf-2458a965e860",
        "memberElement": {
         "@id": "1c745816-847a-4e63-8a7f-3e7d336d0fe4"
        },
        "memberName": "Port",
        "membershipOwningNamespace": {
         "@id": "8688d6e9-407f-4106-9068-4e5c2f804713"
        },
        "name": null,
        "ownedAnnotation": [],
        "ownedElement": [],
        "ownedMemberElement": {
         "@id": "1c745816-847a-4e63-8a7f-3e7d336d0fe4"
        },
        "ownedRelatedElement": [
         {
          "@id": "1c745816-847a-4e63-8a7f-3e7d336d0fe4"
         }
        ],
        "ownedRelationship": [],
        "ownedTextualRepresentation": [],
        "owner": null,
        "owningMembership": null,
        "owningNamespace": null,
        "owningRelatedElement": {
         "@id": "8688d6e9-407f-4106-9068-4e5c2f804713"
        },
        "owningRelationship": null,
        "qualifiedName": null,
        "relatedElement": [
         {
          "@id": "8688d6e9-407f-4106-9068-4e5c2f804713"
         },
         {
          "@id": "1c745816-847a-4e63-8a7f-3e7d336d0fe4"
         }
        ],
        "source": [
         {
          "@id": "8688d6e9-407f-4106-9068-4e5c2f804713"
         }
        ],
        "target": [
         {
          "@id": "1c745816-847a-4e63-8a7f-3e7d336d0fe4"
         }
        ],
        "visibility": "PUBLIC"
       },
       {
        "@id": "e57fe7b0-9bf6-4198-ada4-3175cc2bb395",
        "@type": "Subsetting",
        "aliasId": [],
        "documentation": [],
        "documentationComment": [],
        "effectiveName": null,
        "general": {
         "@id": "bed6a577-00b9-4158-ab51-31d2a0c6474a"
        },
        "humanId": null,
        "identifier": "e57fe7b0-9bf6-4198-ada4-3175cc2bb395",
        "name": null,
        "ownedAnnotation": [],
        "ownedElement": [],
        "ownedRelatedElement": [],
        "ownedRelationship": [],
        "ownedTextualRepresentation": [],
        "owner": null,
        "owningFeature": {
         "@id": "f2d73272-377e-4dc4-b54b-e618873d0584"
        },
        "owningMembership": null,
        "owningNamespace": null,
        "owningRelatedElement": {
         "@id": "f2d73272-377e-4dc4-b54b-e618873d0584"
        },
        "owningRelationship": null,
        "owningType": {
         "@id": "f2d73272-377e-4dc4-b54b-e618873d0584"
        },
        "qualifiedName": null,
        "relatedElement": [
         {
          "@id": "f2d73272-377e-4dc4-b54b-e618873d0584"
         },
         {
          "@id": "bed6a577-00b9-4158-ab51-31d2a0c6474a"
         }
        ],
        "source": [
         {
          "@id": "f2d73272-377e-4dc4-b54b-e618873d0584"
         }
        ],
        "specific": {
         "@id": "f2d73272-377e-4dc4-b54b-e618873d0584"
        },
        "subsettedFeature": {
         "@id": "bed6a577-00b9-4158-ab51-31d2a0c6474a"
        },
        "subsettingFeature": {
         "@id": "f2d73272-377e-4dc4-b54b-e618873d0584"
        },
        "target": [
         {
          "@id": "bed6a577-00b9-4158-ab51-31d2a0c6474a"
         }
        ]
       },
       {
        "@id": "ebc7c87a-35b3-4a3a-83a1-7e58ecda2636",
        "@type": "Membership",
        "aliasId": [],
        "documentation": [],
        "documentationComment": [],
        "effectiveMemberName": "Fake Library",
        "effectiveName": null,
        "humanId": null,
        "identifier": "ebc7c87a-35b3-4a3a-83a1-7e58ecda2636",
        "memberElement": {
         "@id": "8688d6e9-407f-4106-9068-4e5c2f804713"
        },
        "memberName": "Fake Library",
        "membershipOwningNamespace": {
         "@id": "10eb025a-f3da-4140-a0e8-80a33be8b734"
        },
        "name": null,
        "ownedAnnotation": [],
        "ownedElement": [],
        "ownedMemberElement": {
         "@id": "8688d6e9-407f-4106-9068-4e5c2f804713"
        },
        "ownedRelatedElement": [
         {
          "@id": "8688d6e9-407f-4106-9068-4e5c2f804713"
         }
        ],
        "ownedRelationship": [],
        "ownedTextualRepresentation": [],
        "owner": null,
        "owningMembership": null,
        "owningNamespace": null,
        "owningRelatedElement": {
         "@id": "10eb025a-f3da-4140-a0e8-80a33be8b734"
        },
        "owningRelationship": null,
        "qualifiedName": null,
        "relatedElement": [
         {
          "@id": "10eb025a-f3da-4140-a0e8-80a33be8b734"
         },
         {
          "@id": "8688d6e9-407f-4106-9068-4e5c2f804713"
         }
        ],
        "source": [
         {
          "@id": "10eb025a-f3da-4140-a0e8-80a33be8b734"
         }
        ],
        "target": [
         {
          "@id": "8688d6e9-407f-4106-9068-4e5c2f804713"
         }
        ],
        "visibility": "PUBLIC"
       },
       {
        "@id": "f29848a9-ba29-479c-9f28-976387ee52ae",
        "@type": "PartUsage",
        "aliasId": [],
        "definition": [
         {
          "@id": "c7d26e2c-c288-4115-8e8a-cbf065134355"
         }
        ],
        "documentation": [],
        "documentationComment": [],
        "effectiveName": "Power Source",
        "endFeature": [],
        "endOwningType": null,
        "feature": [
         {
          "@id": "4f69a994-8460-470b-b886-5af81c8c24f6"
         }
        ],
        "featureMembership": [
         {
          "@id": "40648200-75bf-434a-8bb3-15b076c1739e"
         }
        ],
        "featuringType": [
         {
          "@id": "1a75db52-3597-40d8-9879-67f76d0b1db9"
         }
        ],
        "flowFeature": [],
        "humanId": null,
        "identifier": "f29848a9-ba29-479c-9f28-976387ee52ae",
        "importedMembership": [],
        "individualDefinition": null,
        "inheritedFeature": [],
        "inheritedMembership": [],
        "input": [],
        "isAbstract": false,
        "isComposite": true,
        "isConjugated": false,
        "isEnd": false,
        "isIndividual": false,
        "isNonunique": false,
        "isOrdered": false,
        "isSufficient": false,
        "isUnique": true,
        "isVariation": false,
        "itemDefinition": [
         {
          "@id": "c7d26e2c-c288-4115-8e8a-cbf065134355"
         }
        ],
        "member": [
         {
          "@id": "4f69a994-8460-470b-b886-5af81c8c24f6"
         }
        ],
        "membership": [
         {
          "@id": "40648200-75bf-434a-8bb3-15b076c1739e"
         }
        ],
        "multiplicity": null,
        "name": "Power Source",
        "nestedAction": [],
        "nestedAllocation": [],
        "nestedAnalysisCase": [],
        "nestedAttribute": [],
        "nestedCalculation": [],
        "nestedCase": [],
        "nestedConcern": [],
        "nestedConnection": [],
        "nestedConstraint": [],
        "nestedEnumeration": [],
        "nestedInterface": [],
        "nestedItem": [],
        "nestedOccurrence": [],
        "nestedPart": [],
        "nestedPort": [
         {
          "@id": "4f69a994-8460-470b-b886-5af81c8c24f6"
         }
        ],
        "nestedReference": [],
        "nestedRendering": [],
        "nestedRequirement": [],
        "nestedStakeholder": [],
        "nestedState": [],
        "nestedTransition": [],
        "nestedUsage": [
         {
          "@id": "4f69a994-8460-470b-b886-5af81c8c24f6"
         }
        ],
        "nestedVerificationCase": [],
        "nestedView": [],
        "nestedViewpoint": [],
        "occurrenceDefinition": [
         {
          "@id": "c7d26e2c-c288-4115-8e8a-cbf065134355"
         }
        ],
        "output": [],
        "ownedAnnotation": [],
        "ownedConjugator": null,
        "ownedElement": [
         {
          "@id": "4f69a994-8460-470b-b886-5af81c8c24f6"
         }
        ],
        "ownedEndFeature": [],
        "ownedFeature": [
         {
          "@id": "4f69a994-8460-470b-b886-5af81c8c24f6"
         }
        ],
        "ownedFeatureMembership": [
         {
          "@id": "40648200-75bf-434a-8bb3-15b076c1739e"
         }
        ],
        "ownedGeneralization": [
         {
          "@id": "1d11e8c9-c29a-4645-be3d-b038e22f436f"
         }
        ],
        "ownedImport": [],
        "ownedMember": [
         {
          "@id": "4f69a994-8460-470b-b886-5af81c8c24f6"
         }
        ],
        "ownedMembership": [
         {
          "@id": "40648200-75bf-434a-8bb3-15b076c1739e"
         }
        ],
        "ownedRedefinition": [],
        "ownedRelationship": [
         {
          "@id": "1d11e8c9-c29a-4645-be3d-b038e22f436f"
         },
         {
          "@id": "40648200-75bf-434a-8bb3-15b076c1739e"
         }
        ],
        "ownedSubsetting": [],
        "ownedTextualRepresentation": [],
        "ownedTypeFeaturing": [],
        "ownedTyping": [
         {
          "@id": "1d11e8c9-c29a-4645-be3d-b038e22f436f"
         }
        ],
        "owner": {
         "@id": "1a75db52-3597-40d8-9879-67f76d0b1db9"
        },
        "owningDefinition": null,
        "owningFeatureMembership": {
         "@id": "df968c66-dd48-4b09-87c4-e3d720f43193"
        },
        "owningMembership": {
         "@id": "df968c66-dd48-4b09-87c4-e3d720f43193"
        },
        "owningNamespace": {
         "@id": "1a75db52-3597-40d8-9879-67f76d0b1db9"
        },
        "owningRelationship": {
         "@id": "df968c66-dd48-4b09-87c4-e3d720f43193"
        },
        "owningType": {
         "@id": "1a75db52-3597-40d8-9879-67f76d0b1db9"
        },
        "owningUsage": {
         "@id": "1a75db52-3597-40d8-9879-67f76d0b1db9"
        },
        "partDefinition": [
         {
          "@id": "c7d26e2c-c288-4115-8e8a-cbf065134355"
         }
        ],
        "portionKind": null,
        "portioningFeature": null,
        "qualifiedName": "jdehart_SimplePartsModel::'Power Group'::'Power Source'",
        "type": [
         {
          "@id": "c7d26e2c-c288-4115-8e8a-cbf065134355"
         }
        ],
        "usage": [
         {
          "@id": "4f69a994-8460-470b-b886-5af81c8c24f6"
         }
        ],
        "variant": [],
        "variantMembership": []
       },
       {
        "@id": "f2d73272-377e-4dc4-b54b-e618873d0584",
        "@type": "Feature",
        "aliasId": [],
        "documentation": [],
        "documentationComment": [],
        "effectiveName": "target",
        "endFeature": [],
        "endOwningType": {
         "@id": "28399c55-100d-4f91-96f7-3c2be3a67dd7"
        },
        "feature": [],
        "featureMembership": [],
        "featuringType": [
         {
          "@id": "28399c55-100d-4f91-96f7-3c2be3a67dd7"
         }
        ],
        "humanId": null,
        "identifier": "f2d73272-377e-4dc4-b54b-e618873d0584",
        "importedMembership": [],
        "inheritedFeature": [],
        "inheritedMembership": [
         {
          "@id": "a6cd787e-10b6-4341-9a8d-61fdb8879e34"
         }
        ],
        "input": [],
        "isAbstract": false,
        "isComposite": false,
        "isConjugated": false,
        "isEnd": true,
        "isNonunique": false,
        "isOrdered": true,
        "isSufficient": false,
        "isUnique": true,
        "member": [
         {
          "@id": "cfa58448-0457-4a21-98b7-9aa1e8a63e95"
         }
        ],
        "membership": [
         {
          "@id": "a6cd787e-10b6-4341-9a8d-61fdb8879e34"
         }
        ],
        "multiplicity": null,
        "name": null,
        "output": [],
        "ownedAnnotation": [],
        "ownedConjugator": null,
        "ownedElement": [],
        "ownedEndFeature": [],
        "ownedFeature": [],
        "ownedFeatureMembership": [],
        "ownedGeneralization": [
         {
          "@id": "e57fe7b0-9bf6-4198-ada4-3175cc2bb395"
         }
        ],
        "ownedImport": [],
        "ownedMember": [],
        "ownedMembership": [],
        "ownedRedefinition": [],
        "ownedRelationship": [
         {
          "@id": "e57fe7b0-9bf6-4198-ada4-3175cc2bb395"
         }
        ],
        "ownedSubsetting": [
         {
          "@id": "e57fe7b0-9bf6-4198-ada4-3175cc2bb395"
         }
        ],
        "ownedTextualRepresentation": [],
        "ownedTypeFeaturing": [],
        "ownedTyping": [],
        "owner": {
         "@id": "28399c55-100d-4f91-96f7-3c2be3a67dd7"
        },
        "owningFeatureMembership": {
         "@id": "8c31b8d8-2f04-40b9-afcd-143abea6cc46"
        },
        "owningMembership": {
         "@id": "8c31b8d8-2f04-40b9-afcd-143abea6cc46"
        },
        "owningNamespace": {
         "@id": "28399c55-100d-4f91-96f7-3c2be3a67dd7"
        },
        "owningRelationship": {
         "@id": "8c31b8d8-2f04-40b9-afcd-143abea6cc46"
        },
        "owningType": {
         "@id": "28399c55-100d-4f91-96f7-3c2be3a67dd7"
        },
        "qualifiedName": "jdehart_SimplePartsModel::'Power Group'::powerToUser::null",
        "type": [
         {
          "@id": "1c745816-847a-4e63-8a7f-3e7d336d0fe4"
         }
        ]
       },
       {
        "@id": "f4179046-7862-4f4a-8868-a789ae1f395a",
        "@type": "FeatureTyping",
        "aliasId": [],
        "documentation": [],
        "documentationComment": [],
        "effectiveName": null,
        "general": {
         "@id": "c7d26e2c-c288-4115-8e8a-cbf065134355"
        },
        "humanId": null,
        "identifier": "f4179046-7862-4f4a-8868-a789ae1f395a",
        "name": null,
        "ownedAnnotation": [],
        "ownedElement": [],
        "ownedRelatedElement": [],
        "ownedRelationship": [],
        "ownedTextualRepresentation": [],
        "owner": null,
        "owningFeature": {
         "@id": "1a75db52-3597-40d8-9879-67f76d0b1db9"
        },
        "owningMembership": null,
        "owningNamespace": null,
        "owningRelatedElement": {
         "@id": "1a75db52-3597-40d8-9879-67f76d0b1db9"
        },
        "owningRelationship": null,
        "owningType": {
         "@id": "1a75db52-3597-40d8-9879-67f76d0b1db9"
        },
        "qualifiedName": null,
        "relatedElement": [
         {
          "@id": "1a75db52-3597-40d8-9879-67f76d0b1db9"
         },
         {
          "@id": "c7d26e2c-c288-4115-8e8a-cbf065134355"
         }
        ],
        "source": [
         {
          "@id": "1a75db52-3597-40d8-9879-67f76d0b1db9"
         }
        ],
        "specific": {
         "@id": "1a75db52-3597-40d8-9879-67f76d0b1db9"
        },
        "target": [
         {
          "@id": "c7d26e2c-c288-4115-8e8a-cbf065134355"
         }
        ],
        "type": {
         "@id": "c7d26e2c-c288-4115-8e8a-cbf065134355"
        },
        "typedFeature": {
         "@id": "1a75db52-3597-40d8-9879-67f76d0b1db9"
        }
       },
       {
        "@id": "f571920a-7671-4b02-bbe2-b6a5b29f6da0",
        "@type": "FeatureTyping",
        "aliasId": [],
        "documentation": [],
        "documentationComment": [],
        "effectiveName": null,
        "general": {
         "@id": "c7d26e2c-c288-4115-8e8a-cbf065134355"
        },
        "humanId": null,
        "identifier": "f571920a-7671-4b02-bbe2-b6a5b29f6da0",
        "name": null,
        "ownedAnnotation": [],
        "ownedElement": [],
        "ownedRelatedElement": [],
        "ownedRelationship": [],
        "ownedTextualRepresentation": [],
        "owner": null,
        "owningFeature": {
         "@id": "0a2cca58-06b2-4f3e-b7f8-d69a7f48e4e0"
        },
        "owningMembership": null,
        "owningNamespace": null,
        "owningRelatedElement": {
         "@id": "0a2cca58-06b2-4f3e-b7f8-d69a7f48e4e0"
        },
        "owningRelationship": null,
        "owningType": {
         "@id": "0a2cca58-06b2-4f3e-b7f8-d69a7f48e4e0"
        },
        "qualifiedName": null,
        "relatedElement": [
         {
          "@id": "0a2cca58-06b2-4f3e-b7f8-d69a7f48e4e0"
         },
         {
          "@id": "c7d26e2c-c288-4115-8e8a-cbf065134355"
         }
        ],
        "source": [
         {
          "@id": "0a2cca58-06b2-4f3e-b7f8-d69a7f48e4e0"
         }
        ],
        "specific": {
         "@id": "0a2cca58-06b2-4f3e-b7f8-d69a7f48e4e0"
        },
        "target": [
         {
          "@id": "c7d26e2c-c288-4115-8e8a-cbf065134355"
         }
        ],
        "type": {
         "@id": "c7d26e2c-c288-4115-8e8a-cbf065134355"
        },
        "typedFeature": {
         "@id": "0a2cca58-06b2-4f3e-b7f8-d69a7f48e4e0"
        }
       }
      ],
      "text/plain": [
       "<IPython.core.display.JSON object>"
      ]
     },
     "execution_count": 34,
     "metadata": {
      "application/json": {
       "expanded": false,
       "root": "root"
      }
     },
     "output_type": "execute_result"
    }
   ],
   "source": [
    "%get elements_data\n",
    "from IPython.display import JSON\n",
    "JSON(elements_data)"
   ]
  },
  {
   "cell_type": "markdown",
   "id": "edf01a56-7464-4538-9311-55597cad5502",
   "metadata": {
    "kernel": "Python3"
   },
   "source": [
    "Lets now  look at the elements in a table view"
   ]
  },
  {
   "cell_type": "code",
   "execution_count": 35,
   "id": "c9e948fc-92bf-4845-8afa-032efb45dd32",
   "metadata": {
    "kernel": "Python3",
    "tags": []
   },
   "outputs": [
    {
     "data": {
      "text/html": [
       "<div>\n",
       "<style scoped>\n",
       "    .dataframe tbody tr th:only-of-type {\n",
       "        vertical-align: middle;\n",
       "    }\n",
       "\n",
       "    .dataframe tbody tr th {\n",
       "        vertical-align: top;\n",
       "    }\n",
       "\n",
       "    .dataframe thead th {\n",
       "        text-align: right;\n",
       "    }\n",
       "</style>\n",
       "<table border=\"1\" class=\"dataframe\">\n",
       "  <thead>\n",
       "    <tr style=\"text-align: right;\">\n",
       "      <th></th>\n",
       "      <th>@type</th>\n",
       "      <th>@id</th>\n",
       "      <th>aliasId</th>\n",
       "      <th>definition</th>\n",
       "      <th>documentation</th>\n",
       "      <th>documentationComment</th>\n",
       "      <th>effectiveName</th>\n",
       "      <th>endFeature</th>\n",
       "      <th>endOwningType</th>\n",
       "      <th>feature</th>\n",
       "      <th>...</th>\n",
       "      <th>originalType</th>\n",
       "      <th>subsettedFeature</th>\n",
       "      <th>subsettingFeature</th>\n",
       "      <th>lifeClass</th>\n",
       "      <th>ownedPortConjugator</th>\n",
       "      <th>associationEnd</th>\n",
       "      <th>connectionEnd</th>\n",
       "      <th>relatedType</th>\n",
       "      <th>sourceType</th>\n",
       "      <th>targetType</th>\n",
       "    </tr>\n",
       "  </thead>\n",
       "  <tbody>\n",
       "    <tr>\n",
       "      <th>0</th>\n",
       "      <td>PartUsage</td>\n",
       "      <td>0a2cca58-06b2-4f3e-b7f8-d69a7f48e4e0</td>\n",
       "      <td>[]</td>\n",
       "      <td>[{'@id': 'c7d26e2c-c288-4115-8e8a-cbf065134355'}]</td>\n",
       "      <td>[]</td>\n",
       "      <td>[]</td>\n",
       "      <td>Power User</td>\n",
       "      <td>[]</td>\n",
       "      <td>None</td>\n",
       "      <td>[{'@id': 'bed6a577-00b9-4158-ab51-31d2a0c6474a'}]</td>\n",
       "      <td>...</td>\n",
       "      <td>NaN</td>\n",
       "      <td>NaN</td>\n",
       "      <td>NaN</td>\n",
       "      <td>NaN</td>\n",
       "      <td>NaN</td>\n",
       "      <td>NaN</td>\n",
       "      <td>NaN</td>\n",
       "      <td>NaN</td>\n",
       "      <td>NaN</td>\n",
       "      <td>NaN</td>\n",
       "    </tr>\n",
       "    <tr>\n",
       "      <th>1</th>\n",
       "      <td>Package</td>\n",
       "      <td>10eb025a-f3da-4140-a0e8-80a33be8b734</td>\n",
       "      <td>[]</td>\n",
       "      <td>NaN</td>\n",
       "      <td>[]</td>\n",
       "      <td>[]</td>\n",
       "      <td>jdehart_SimplePartsModel</td>\n",
       "      <td>NaN</td>\n",
       "      <td>NaN</td>\n",
       "      <td>NaN</td>\n",
       "      <td>...</td>\n",
       "      <td>NaN</td>\n",
       "      <td>NaN</td>\n",
       "      <td>NaN</td>\n",
       "      <td>NaN</td>\n",
       "      <td>NaN</td>\n",
       "      <td>NaN</td>\n",
       "      <td>NaN</td>\n",
       "      <td>NaN</td>\n",
       "      <td>NaN</td>\n",
       "      <td>NaN</td>\n",
       "    </tr>\n",
       "    <tr>\n",
       "      <th>2</th>\n",
       "      <td>EndFeatureMembership</td>\n",
       "      <td>17508f98-e3a4-4077-a99a-6d2b1025db45</td>\n",
       "      <td>[]</td>\n",
       "      <td>NaN</td>\n",
       "      <td>[]</td>\n",
       "      <td>[]</td>\n",
       "      <td>None</td>\n",
       "      <td>NaN</td>\n",
       "      <td>NaN</td>\n",
       "      <td>NaN</td>\n",
       "      <td>...</td>\n",
       "      <td>NaN</td>\n",
       "      <td>NaN</td>\n",
       "      <td>NaN</td>\n",
       "      <td>NaN</td>\n",
       "      <td>NaN</td>\n",
       "      <td>NaN</td>\n",
       "      <td>NaN</td>\n",
       "      <td>NaN</td>\n",
       "      <td>NaN</td>\n",
       "      <td>NaN</td>\n",
       "    </tr>\n",
       "    <tr>\n",
       "      <th>3</th>\n",
       "      <td>PartUsage</td>\n",
       "      <td>1a75db52-3597-40d8-9879-67f76d0b1db9</td>\n",
       "      <td>[]</td>\n",
       "      <td>[{'@id': 'c7d26e2c-c288-4115-8e8a-cbf065134355'}]</td>\n",
       "      <td>[]</td>\n",
       "      <td>[]</td>\n",
       "      <td>Power Group</td>\n",
       "      <td>[]</td>\n",
       "      <td>None</td>\n",
       "      <td>[{'@id': 'f29848a9-ba29-479c-9f28-976387ee52ae...</td>\n",
       "      <td>...</td>\n",
       "      <td>NaN</td>\n",
       "      <td>NaN</td>\n",
       "      <td>NaN</td>\n",
       "      <td>NaN</td>\n",
       "      <td>NaN</td>\n",
       "      <td>NaN</td>\n",
       "      <td>NaN</td>\n",
       "      <td>NaN</td>\n",
       "      <td>NaN</td>\n",
       "      <td>NaN</td>\n",
       "    </tr>\n",
       "    <tr>\n",
       "      <th>4</th>\n",
       "      <td>PortDefinition</td>\n",
       "      <td>1c745816-847a-4e63-8a7f-3e7d336d0fe4</td>\n",
       "      <td>[]</td>\n",
       "      <td>NaN</td>\n",
       "      <td>[]</td>\n",
       "      <td>[]</td>\n",
       "      <td>Port</td>\n",
       "      <td>[]</td>\n",
       "      <td>NaN</td>\n",
       "      <td>[]</td>\n",
       "      <td>...</td>\n",
       "      <td>NaN</td>\n",
       "      <td>NaN</td>\n",
       "      <td>NaN</td>\n",
       "      <td>NaN</td>\n",
       "      <td>NaN</td>\n",
       "      <td>NaN</td>\n",
       "      <td>NaN</td>\n",
       "      <td>NaN</td>\n",
       "      <td>NaN</td>\n",
       "      <td>NaN</td>\n",
       "    </tr>\n",
       "    <tr>\n",
       "      <th>5</th>\n",
       "      <td>Feature</td>\n",
       "      <td>1ce96367-7138-4982-9d0f-47567d1c083c</td>\n",
       "      <td>[]</td>\n",
       "      <td>NaN</td>\n",
       "      <td>[]</td>\n",
       "      <td>[]</td>\n",
       "      <td>source</td>\n",
       "      <td>[]</td>\n",
       "      <td>{'@id': '28399c55-100d-4f91-96f7-3c2be3a67dd7'}</td>\n",
       "      <td>[]</td>\n",
       "      <td>...</td>\n",
       "      <td>NaN</td>\n",
       "      <td>NaN</td>\n",
       "      <td>NaN</td>\n",
       "      <td>NaN</td>\n",
       "      <td>NaN</td>\n",
       "      <td>NaN</td>\n",
       "      <td>NaN</td>\n",
       "      <td>NaN</td>\n",
       "      <td>NaN</td>\n",
       "      <td>NaN</td>\n",
       "    </tr>\n",
       "    <tr>\n",
       "      <th>6</th>\n",
       "      <td>FeatureTyping</td>\n",
       "      <td>1d11e8c9-c29a-4645-be3d-b038e22f436f</td>\n",
       "      <td>[]</td>\n",
       "      <td>NaN</td>\n",
       "      <td>[]</td>\n",
       "      <td>[]</td>\n",
       "      <td>None</td>\n",
       "      <td>NaN</td>\n",
       "      <td>NaN</td>\n",
       "      <td>NaN</td>\n",
       "      <td>...</td>\n",
       "      <td>NaN</td>\n",
       "      <td>NaN</td>\n",
       "      <td>NaN</td>\n",
       "      <td>NaN</td>\n",
       "      <td>NaN</td>\n",
       "      <td>NaN</td>\n",
       "      <td>NaN</td>\n",
       "      <td>NaN</td>\n",
       "      <td>NaN</td>\n",
       "      <td>NaN</td>\n",
       "    </tr>\n",
       "    <tr>\n",
       "      <th>7</th>\n",
       "      <td>ConnectionUsage</td>\n",
       "      <td>28399c55-100d-4f91-96f7-3c2be3a67dd7</td>\n",
       "      <td>[]</td>\n",
       "      <td>[{'@id': 'd589b69a-92b1-4179-973c-aea1dbd9e2a6'}]</td>\n",
       "      <td>[]</td>\n",
       "      <td>[]</td>\n",
       "      <td>powerToUser</td>\n",
       "      <td>[{'@id': '1ce96367-7138-4982-9d0f-47567d1c083c...</td>\n",
       "      <td>None</td>\n",
       "      <td>[{'@id': '1ce96367-7138-4982-9d0f-47567d1c083c...</td>\n",
       "      <td>...</td>\n",
       "      <td>NaN</td>\n",
       "      <td>NaN</td>\n",
       "      <td>NaN</td>\n",
       "      <td>NaN</td>\n",
       "      <td>NaN</td>\n",
       "      <td>NaN</td>\n",
       "      <td>NaN</td>\n",
       "      <td>NaN</td>\n",
       "      <td>NaN</td>\n",
       "      <td>NaN</td>\n",
       "    </tr>\n",
       "    <tr>\n",
       "      <th>8</th>\n",
       "      <td>FeatureTyping</td>\n",
       "      <td>2a3f7fa1-49ac-4dba-9427-a3fd2291dd48</td>\n",
       "      <td>[]</td>\n",
       "      <td>NaN</td>\n",
       "      <td>[]</td>\n",
       "      <td>[]</td>\n",
       "      <td>None</td>\n",
       "      <td>NaN</td>\n",
       "      <td>NaN</td>\n",
       "      <td>NaN</td>\n",
       "      <td>...</td>\n",
       "      <td>NaN</td>\n",
       "      <td>NaN</td>\n",
       "      <td>NaN</td>\n",
       "      <td>NaN</td>\n",
       "      <td>NaN</td>\n",
       "      <td>NaN</td>\n",
       "      <td>NaN</td>\n",
       "      <td>NaN</td>\n",
       "      <td>NaN</td>\n",
       "      <td>NaN</td>\n",
       "    </tr>\n",
       "    <tr>\n",
       "      <th>9</th>\n",
       "      <td>FeatureMembership</td>\n",
       "      <td>371ee28b-5df6-434e-bc0b-345d96f67194</td>\n",
       "      <td>[]</td>\n",
       "      <td>NaN</td>\n",
       "      <td>[]</td>\n",
       "      <td>[]</td>\n",
       "      <td>None</td>\n",
       "      <td>NaN</td>\n",
       "      <td>NaN</td>\n",
       "      <td>NaN</td>\n",
       "      <td>...</td>\n",
       "      <td>NaN</td>\n",
       "      <td>NaN</td>\n",
       "      <td>NaN</td>\n",
       "      <td>NaN</td>\n",
       "      <td>NaN</td>\n",
       "      <td>NaN</td>\n",
       "      <td>NaN</td>\n",
       "      <td>NaN</td>\n",
       "      <td>NaN</td>\n",
       "      <td>NaN</td>\n",
       "    </tr>\n",
       "    <tr>\n",
       "      <th>10</th>\n",
       "      <td>FeatureMembership</td>\n",
       "      <td>40648200-75bf-434a-8bb3-15b076c1739e</td>\n",
       "      <td>[]</td>\n",
       "      <td>NaN</td>\n",
       "      <td>[]</td>\n",
       "      <td>[]</td>\n",
       "      <td>None</td>\n",
       "      <td>NaN</td>\n",
       "      <td>NaN</td>\n",
       "      <td>NaN</td>\n",
       "      <td>...</td>\n",
       "      <td>NaN</td>\n",
       "      <td>NaN</td>\n",
       "      <td>NaN</td>\n",
       "      <td>NaN</td>\n",
       "      <td>NaN</td>\n",
       "      <td>NaN</td>\n",
       "      <td>NaN</td>\n",
       "      <td>NaN</td>\n",
       "      <td>NaN</td>\n",
       "      <td>NaN</td>\n",
       "    </tr>\n",
       "    <tr>\n",
       "      <th>11</th>\n",
       "      <td>Membership</td>\n",
       "      <td>473f2f44-369e-4038-ab70-7176f5d97f5a</td>\n",
       "      <td>[]</td>\n",
       "      <td>NaN</td>\n",
       "      <td>[]</td>\n",
       "      <td>[]</td>\n",
       "      <td>None</td>\n",
       "      <td>NaN</td>\n",
       "      <td>NaN</td>\n",
       "      <td>NaN</td>\n",
       "      <td>...</td>\n",
       "      <td>NaN</td>\n",
       "      <td>NaN</td>\n",
       "      <td>NaN</td>\n",
       "      <td>NaN</td>\n",
       "      <td>NaN</td>\n",
       "      <td>NaN</td>\n",
       "      <td>NaN</td>\n",
       "      <td>NaN</td>\n",
       "      <td>NaN</td>\n",
       "      <td>NaN</td>\n",
       "    </tr>\n",
       "    <tr>\n",
       "      <th>12</th>\n",
       "      <td>PortUsage</td>\n",
       "      <td>4f69a994-8460-470b-b886-5af81c8c24f6</td>\n",
       "      <td>[]</td>\n",
       "      <td>[{'@id': '1c745816-847a-4e63-8a7f-3e7d336d0fe4'}]</td>\n",
       "      <td>[]</td>\n",
       "      <td>[]</td>\n",
       "      <td>Power Out</td>\n",
       "      <td>[]</td>\n",
       "      <td>None</td>\n",
       "      <td>[]</td>\n",
       "      <td>...</td>\n",
       "      <td>NaN</td>\n",
       "      <td>NaN</td>\n",
       "      <td>NaN</td>\n",
       "      <td>NaN</td>\n",
       "      <td>NaN</td>\n",
       "      <td>NaN</td>\n",
       "      <td>NaN</td>\n",
       "      <td>NaN</td>\n",
       "      <td>NaN</td>\n",
       "      <td>NaN</td>\n",
       "    </tr>\n",
       "    <tr>\n",
       "      <th>13</th>\n",
       "      <td>Membership</td>\n",
       "      <td>51cac4da-e57d-48a5-8b71-54d73d2b19fa</td>\n",
       "      <td>[]</td>\n",
       "      <td>NaN</td>\n",
       "      <td>[]</td>\n",
       "      <td>[]</td>\n",
       "      <td>None</td>\n",
       "      <td>NaN</td>\n",
       "      <td>NaN</td>\n",
       "      <td>NaN</td>\n",
       "      <td>...</td>\n",
       "      <td>NaN</td>\n",
       "      <td>NaN</td>\n",
       "      <td>NaN</td>\n",
       "      <td>NaN</td>\n",
       "      <td>NaN</td>\n",
       "      <td>NaN</td>\n",
       "      <td>NaN</td>\n",
       "      <td>NaN</td>\n",
       "      <td>NaN</td>\n",
       "      <td>NaN</td>\n",
       "    </tr>\n",
       "    <tr>\n",
       "      <th>14</th>\n",
       "      <td>Package</td>\n",
       "      <td>8688d6e9-407f-4106-9068-4e5c2f804713</td>\n",
       "      <td>[]</td>\n",
       "      <td>NaN</td>\n",
       "      <td>[]</td>\n",
       "      <td>[]</td>\n",
       "      <td>Fake Library</td>\n",
       "      <td>NaN</td>\n",
       "      <td>NaN</td>\n",
       "      <td>NaN</td>\n",
       "      <td>...</td>\n",
       "      <td>NaN</td>\n",
       "      <td>NaN</td>\n",
       "      <td>NaN</td>\n",
       "      <td>NaN</td>\n",
       "      <td>NaN</td>\n",
       "      <td>NaN</td>\n",
       "      <td>NaN</td>\n",
       "      <td>NaN</td>\n",
       "      <td>NaN</td>\n",
       "      <td>NaN</td>\n",
       "    </tr>\n",
       "    <tr>\n",
       "      <th>15</th>\n",
       "      <td>PortConjugation</td>\n",
       "      <td>875eda1c-10e7-4a51-866f-03f94f83c32a</td>\n",
       "      <td>[]</td>\n",
       "      <td>NaN</td>\n",
       "      <td>[]</td>\n",
       "      <td>[]</td>\n",
       "      <td>None</td>\n",
       "      <td>NaN</td>\n",
       "      <td>NaN</td>\n",
       "      <td>NaN</td>\n",
       "      <td>...</td>\n",
       "      <td>{'@id': '1c745816-847a-4e63-8a7f-3e7d336d0fe4'}</td>\n",
       "      <td>NaN</td>\n",
       "      <td>NaN</td>\n",
       "      <td>NaN</td>\n",
       "      <td>NaN</td>\n",
       "      <td>NaN</td>\n",
       "      <td>NaN</td>\n",
       "      <td>NaN</td>\n",
       "      <td>NaN</td>\n",
       "      <td>NaN</td>\n",
       "    </tr>\n",
       "    <tr>\n",
       "      <th>16</th>\n",
       "      <td>EndFeatureMembership</td>\n",
       "      <td>8c31b8d8-2f04-40b9-afcd-143abea6cc46</td>\n",
       "      <td>[]</td>\n",
       "      <td>NaN</td>\n",
       "      <td>[]</td>\n",
       "      <td>[]</td>\n",
       "      <td>None</td>\n",
       "      <td>NaN</td>\n",
       "      <td>NaN</td>\n",
       "      <td>NaN</td>\n",
       "      <td>...</td>\n",
       "      <td>NaN</td>\n",
       "      <td>NaN</td>\n",
       "      <td>NaN</td>\n",
       "      <td>NaN</td>\n",
       "      <td>NaN</td>\n",
       "      <td>NaN</td>\n",
       "      <td>NaN</td>\n",
       "      <td>NaN</td>\n",
       "      <td>NaN</td>\n",
       "      <td>NaN</td>\n",
       "    </tr>\n",
       "    <tr>\n",
       "      <th>17</th>\n",
       "      <td>Subsetting</td>\n",
       "      <td>91ec9dab-24d2-42ef-b1b9-c005c65685bc</td>\n",
       "      <td>[]</td>\n",
       "      <td>NaN</td>\n",
       "      <td>[]</td>\n",
       "      <td>[]</td>\n",
       "      <td>None</td>\n",
       "      <td>NaN</td>\n",
       "      <td>NaN</td>\n",
       "      <td>NaN</td>\n",
       "      <td>...</td>\n",
       "      <td>NaN</td>\n",
       "      <td>{'@id': '4f69a994-8460-470b-b886-5af81c8c24f6'}</td>\n",
       "      <td>{'@id': '1ce96367-7138-4982-9d0f-47567d1c083c'}</td>\n",
       "      <td>NaN</td>\n",
       "      <td>NaN</td>\n",
       "      <td>NaN</td>\n",
       "      <td>NaN</td>\n",
       "      <td>NaN</td>\n",
       "      <td>NaN</td>\n",
       "      <td>NaN</td>\n",
       "    </tr>\n",
       "    <tr>\n",
       "      <th>18</th>\n",
       "      <td>FeatureTyping</td>\n",
       "      <td>a241fef9-ae36-47f5-b22c-9d8ef633c120</td>\n",
       "      <td>[]</td>\n",
       "      <td>NaN</td>\n",
       "      <td>[]</td>\n",
       "      <td>[]</td>\n",
       "      <td>None</td>\n",
       "      <td>NaN</td>\n",
       "      <td>NaN</td>\n",
       "      <td>NaN</td>\n",
       "      <td>...</td>\n",
       "      <td>NaN</td>\n",
       "      <td>NaN</td>\n",
       "      <td>NaN</td>\n",
       "      <td>NaN</td>\n",
       "      <td>NaN</td>\n",
       "      <td>NaN</td>\n",
       "      <td>NaN</td>\n",
       "      <td>NaN</td>\n",
       "      <td>NaN</td>\n",
       "      <td>NaN</td>\n",
       "    </tr>\n",
       "    <tr>\n",
       "      <th>19</th>\n",
       "      <td>Membership</td>\n",
       "      <td>a6cd787e-10b6-4341-9a8d-61fdb8879e34</td>\n",
       "      <td>[]</td>\n",
       "      <td>NaN</td>\n",
       "      <td>[]</td>\n",
       "      <td>[]</td>\n",
       "      <td>None</td>\n",
       "      <td>NaN</td>\n",
       "      <td>NaN</td>\n",
       "      <td>NaN</td>\n",
       "      <td>...</td>\n",
       "      <td>NaN</td>\n",
       "      <td>NaN</td>\n",
       "      <td>NaN</td>\n",
       "      <td>NaN</td>\n",
       "      <td>NaN</td>\n",
       "      <td>NaN</td>\n",
       "      <td>NaN</td>\n",
       "      <td>NaN</td>\n",
       "      <td>NaN</td>\n",
       "      <td>NaN</td>\n",
       "    </tr>\n",
       "    <tr>\n",
       "      <th>20</th>\n",
       "      <td>FeatureMembership</td>\n",
       "      <td>abda0dc1-0993-4cf2-b68f-c5b01bdcf01b</td>\n",
       "      <td>[]</td>\n",
       "      <td>NaN</td>\n",
       "      <td>[]</td>\n",
       "      <td>[]</td>\n",
       "      <td>None</td>\n",
       "      <td>NaN</td>\n",
       "      <td>NaN</td>\n",
       "      <td>NaN</td>\n",
       "      <td>...</td>\n",
       "      <td>NaN</td>\n",
       "      <td>NaN</td>\n",
       "      <td>NaN</td>\n",
       "      <td>NaN</td>\n",
       "      <td>NaN</td>\n",
       "      <td>NaN</td>\n",
       "      <td>NaN</td>\n",
       "      <td>NaN</td>\n",
       "      <td>NaN</td>\n",
       "      <td>NaN</td>\n",
       "    </tr>\n",
       "    <tr>\n",
       "      <th>21</th>\n",
       "      <td>PortUsage</td>\n",
       "      <td>bed6a577-00b9-4158-ab51-31d2a0c6474a</td>\n",
       "      <td>[]</td>\n",
       "      <td>[{'@id': '1c745816-847a-4e63-8a7f-3e7d336d0fe4'}]</td>\n",
       "      <td>[]</td>\n",
       "      <td>[]</td>\n",
       "      <td>Power In</td>\n",
       "      <td>[]</td>\n",
       "      <td>None</td>\n",
       "      <td>[]</td>\n",
       "      <td>...</td>\n",
       "      <td>NaN</td>\n",
       "      <td>NaN</td>\n",
       "      <td>NaN</td>\n",
       "      <td>NaN</td>\n",
       "      <td>NaN</td>\n",
       "      <td>NaN</td>\n",
       "      <td>NaN</td>\n",
       "      <td>NaN</td>\n",
       "      <td>NaN</td>\n",
       "      <td>NaN</td>\n",
       "    </tr>\n",
       "    <tr>\n",
       "      <th>22</th>\n",
       "      <td>FeatureMembership</td>\n",
       "      <td>c1bce5ac-2efd-46ec-bcb8-61601eaa49ef</td>\n",
       "      <td>[]</td>\n",
       "      <td>NaN</td>\n",
       "      <td>[]</td>\n",
       "      <td>[]</td>\n",
       "      <td>None</td>\n",
       "      <td>NaN</td>\n",
       "      <td>NaN</td>\n",
       "      <td>NaN</td>\n",
       "      <td>...</td>\n",
       "      <td>NaN</td>\n",
       "      <td>NaN</td>\n",
       "      <td>NaN</td>\n",
       "      <td>NaN</td>\n",
       "      <td>NaN</td>\n",
       "      <td>NaN</td>\n",
       "      <td>NaN</td>\n",
       "      <td>NaN</td>\n",
       "      <td>NaN</td>\n",
       "      <td>NaN</td>\n",
       "    </tr>\n",
       "    <tr>\n",
       "      <th>23</th>\n",
       "      <td>FeatureTyping</td>\n",
       "      <td>c53865d6-aa83-4403-a327-0097b95120ea</td>\n",
       "      <td>[]</td>\n",
       "      <td>NaN</td>\n",
       "      <td>[]</td>\n",
       "      <td>[]</td>\n",
       "      <td>None</td>\n",
       "      <td>NaN</td>\n",
       "      <td>NaN</td>\n",
       "      <td>NaN</td>\n",
       "      <td>...</td>\n",
       "      <td>NaN</td>\n",
       "      <td>NaN</td>\n",
       "      <td>NaN</td>\n",
       "      <td>NaN</td>\n",
       "      <td>NaN</td>\n",
       "      <td>NaN</td>\n",
       "      <td>NaN</td>\n",
       "      <td>NaN</td>\n",
       "      <td>NaN</td>\n",
       "      <td>NaN</td>\n",
       "    </tr>\n",
       "    <tr>\n",
       "      <th>24</th>\n",
       "      <td>PartDefinition</td>\n",
       "      <td>c7d26e2c-c288-4115-8e8a-cbf065134355</td>\n",
       "      <td>[]</td>\n",
       "      <td>NaN</td>\n",
       "      <td>[]</td>\n",
       "      <td>[]</td>\n",
       "      <td>Part</td>\n",
       "      <td>[]</td>\n",
       "      <td>NaN</td>\n",
       "      <td>[]</td>\n",
       "      <td>...</td>\n",
       "      <td>NaN</td>\n",
       "      <td>NaN</td>\n",
       "      <td>NaN</td>\n",
       "      <td>NaN</td>\n",
       "      <td>NaN</td>\n",
       "      <td>NaN</td>\n",
       "      <td>NaN</td>\n",
       "      <td>NaN</td>\n",
       "      <td>NaN</td>\n",
       "      <td>NaN</td>\n",
       "    </tr>\n",
       "    <tr>\n",
       "      <th>25</th>\n",
       "      <td>Membership</td>\n",
       "      <td>cc255bba-c700-44b0-b9a2-2ae55089f5f6</td>\n",
       "      <td>[]</td>\n",
       "      <td>NaN</td>\n",
       "      <td>[]</td>\n",
       "      <td>[]</td>\n",
       "      <td>None</td>\n",
       "      <td>NaN</td>\n",
       "      <td>NaN</td>\n",
       "      <td>NaN</td>\n",
       "      <td>...</td>\n",
       "      <td>NaN</td>\n",
       "      <td>NaN</td>\n",
       "      <td>NaN</td>\n",
       "      <td>NaN</td>\n",
       "      <td>NaN</td>\n",
       "      <td>NaN</td>\n",
       "      <td>NaN</td>\n",
       "      <td>NaN</td>\n",
       "      <td>NaN</td>\n",
       "      <td>NaN</td>\n",
       "    </tr>\n",
       "    <tr>\n",
       "      <th>26</th>\n",
       "      <td>ConjugatedPortDefinition</td>\n",
       "      <td>cfa58448-0457-4a21-98b7-9aa1e8a63e95</td>\n",
       "      <td>[]</td>\n",
       "      <td>NaN</td>\n",
       "      <td>[]</td>\n",
       "      <td>[]</td>\n",
       "      <td>~Port</td>\n",
       "      <td>[]</td>\n",
       "      <td>NaN</td>\n",
       "      <td>[]</td>\n",
       "      <td>...</td>\n",
       "      <td>NaN</td>\n",
       "      <td>NaN</td>\n",
       "      <td>NaN</td>\n",
       "      <td>NaN</td>\n",
       "      <td>{'@id': '875eda1c-10e7-4a51-866f-03f94f83c32a'}</td>\n",
       "      <td>NaN</td>\n",
       "      <td>NaN</td>\n",
       "      <td>NaN</td>\n",
       "      <td>NaN</td>\n",
       "      <td>NaN</td>\n",
       "    </tr>\n",
       "    <tr>\n",
       "      <th>27</th>\n",
       "      <td>Classifier</td>\n",
       "      <td>d31a5f09-b00b-4eb4-b94d-26f2c51cda4c</td>\n",
       "      <td>[]</td>\n",
       "      <td>NaN</td>\n",
       "      <td>[]</td>\n",
       "      <td>[]</td>\n",
       "      <td>Anything</td>\n",
       "      <td>[]</td>\n",
       "      <td>NaN</td>\n",
       "      <td>[]</td>\n",
       "      <td>...</td>\n",
       "      <td>NaN</td>\n",
       "      <td>NaN</td>\n",
       "      <td>NaN</td>\n",
       "      <td>NaN</td>\n",
       "      <td>NaN</td>\n",
       "      <td>NaN</td>\n",
       "      <td>NaN</td>\n",
       "      <td>NaN</td>\n",
       "      <td>NaN</td>\n",
       "      <td>NaN</td>\n",
       "    </tr>\n",
       "    <tr>\n",
       "      <th>28</th>\n",
       "      <td>ConnectionDefinition</td>\n",
       "      <td>d589b69a-92b1-4179-973c-aea1dbd9e2a6</td>\n",
       "      <td>[]</td>\n",
       "      <td>NaN</td>\n",
       "      <td>[]</td>\n",
       "      <td>[]</td>\n",
       "      <td>Connection</td>\n",
       "      <td>[]</td>\n",
       "      <td>NaN</td>\n",
       "      <td>[]</td>\n",
       "      <td>...</td>\n",
       "      <td>NaN</td>\n",
       "      <td>NaN</td>\n",
       "      <td>NaN</td>\n",
       "      <td>NaN</td>\n",
       "      <td>NaN</td>\n",
       "      <td>[]</td>\n",
       "      <td>[]</td>\n",
       "      <td>[{'@id': 'd31a5f09-b00b-4eb4-b94d-26f2c51cda4c...</td>\n",
       "      <td>{'@id': 'd31a5f09-b00b-4eb4-b94d-26f2c51cda4c'}</td>\n",
       "      <td>[{'@id': 'd31a5f09-b00b-4eb4-b94d-26f2c51cda4c'}]</td>\n",
       "    </tr>\n",
       "    <tr>\n",
       "      <th>29</th>\n",
       "      <td>FeatureMembership</td>\n",
       "      <td>df968c66-dd48-4b09-87c4-e3d720f43193</td>\n",
       "      <td>[]</td>\n",
       "      <td>NaN</td>\n",
       "      <td>[]</td>\n",
       "      <td>[]</td>\n",
       "      <td>None</td>\n",
       "      <td>NaN</td>\n",
       "      <td>NaN</td>\n",
       "      <td>NaN</td>\n",
       "      <td>...</td>\n",
       "      <td>NaN</td>\n",
       "      <td>NaN</td>\n",
       "      <td>NaN</td>\n",
       "      <td>NaN</td>\n",
       "      <td>NaN</td>\n",
       "      <td>NaN</td>\n",
       "      <td>NaN</td>\n",
       "      <td>NaN</td>\n",
       "      <td>NaN</td>\n",
       "      <td>NaN</td>\n",
       "    </tr>\n",
       "    <tr>\n",
       "      <th>30</th>\n",
       "      <td>Membership</td>\n",
       "      <td>e20d7284-75a6-4a21-8dcf-2458a965e860</td>\n",
       "      <td>[]</td>\n",
       "      <td>NaN</td>\n",
       "      <td>[]</td>\n",
       "      <td>[]</td>\n",
       "      <td>None</td>\n",
       "      <td>NaN</td>\n",
       "      <td>NaN</td>\n",
       "      <td>NaN</td>\n",
       "      <td>...</td>\n",
       "      <td>NaN</td>\n",
       "      <td>NaN</td>\n",
       "      <td>NaN</td>\n",
       "      <td>NaN</td>\n",
       "      <td>NaN</td>\n",
       "      <td>NaN</td>\n",
       "      <td>NaN</td>\n",
       "      <td>NaN</td>\n",
       "      <td>NaN</td>\n",
       "      <td>NaN</td>\n",
       "    </tr>\n",
       "    <tr>\n",
       "      <th>31</th>\n",
       "      <td>Subsetting</td>\n",
       "      <td>e57fe7b0-9bf6-4198-ada4-3175cc2bb395</td>\n",
       "      <td>[]</td>\n",
       "      <td>NaN</td>\n",
       "      <td>[]</td>\n",
       "      <td>[]</td>\n",
       "      <td>None</td>\n",
       "      <td>NaN</td>\n",
       "      <td>NaN</td>\n",
       "      <td>NaN</td>\n",
       "      <td>...</td>\n",
       "      <td>NaN</td>\n",
       "      <td>{'@id': 'bed6a577-00b9-4158-ab51-31d2a0c6474a'}</td>\n",
       "      <td>{'@id': 'f2d73272-377e-4dc4-b54b-e618873d0584'}</td>\n",
       "      <td>NaN</td>\n",
       "      <td>NaN</td>\n",
       "      <td>NaN</td>\n",
       "      <td>NaN</td>\n",
       "      <td>NaN</td>\n",
       "      <td>NaN</td>\n",
       "      <td>NaN</td>\n",
       "    </tr>\n",
       "    <tr>\n",
       "      <th>32</th>\n",
       "      <td>Membership</td>\n",
       "      <td>ebc7c87a-35b3-4a3a-83a1-7e58ecda2636</td>\n",
       "      <td>[]</td>\n",
       "      <td>NaN</td>\n",
       "      <td>[]</td>\n",
       "      <td>[]</td>\n",
       "      <td>None</td>\n",
       "      <td>NaN</td>\n",
       "      <td>NaN</td>\n",
       "      <td>NaN</td>\n",
       "      <td>...</td>\n",
       "      <td>NaN</td>\n",
       "      <td>NaN</td>\n",
       "      <td>NaN</td>\n",
       "      <td>NaN</td>\n",
       "      <td>NaN</td>\n",
       "      <td>NaN</td>\n",
       "      <td>NaN</td>\n",
       "      <td>NaN</td>\n",
       "      <td>NaN</td>\n",
       "      <td>NaN</td>\n",
       "    </tr>\n",
       "    <tr>\n",
       "      <th>33</th>\n",
       "      <td>PartUsage</td>\n",
       "      <td>f29848a9-ba29-479c-9f28-976387ee52ae</td>\n",
       "      <td>[]</td>\n",
       "      <td>[{'@id': 'c7d26e2c-c288-4115-8e8a-cbf065134355'}]</td>\n",
       "      <td>[]</td>\n",
       "      <td>[]</td>\n",
       "      <td>Power Source</td>\n",
       "      <td>[]</td>\n",
       "      <td>None</td>\n",
       "      <td>[{'@id': '4f69a994-8460-470b-b886-5af81c8c24f6'}]</td>\n",
       "      <td>...</td>\n",
       "      <td>NaN</td>\n",
       "      <td>NaN</td>\n",
       "      <td>NaN</td>\n",
       "      <td>NaN</td>\n",
       "      <td>NaN</td>\n",
       "      <td>NaN</td>\n",
       "      <td>NaN</td>\n",
       "      <td>NaN</td>\n",
       "      <td>NaN</td>\n",
       "      <td>NaN</td>\n",
       "    </tr>\n",
       "    <tr>\n",
       "      <th>34</th>\n",
       "      <td>Feature</td>\n",
       "      <td>f2d73272-377e-4dc4-b54b-e618873d0584</td>\n",
       "      <td>[]</td>\n",
       "      <td>NaN</td>\n",
       "      <td>[]</td>\n",
       "      <td>[]</td>\n",
       "      <td>target</td>\n",
       "      <td>[]</td>\n",
       "      <td>{'@id': '28399c55-100d-4f91-96f7-3c2be3a67dd7'}</td>\n",
       "      <td>[]</td>\n",
       "      <td>...</td>\n",
       "      <td>NaN</td>\n",
       "      <td>NaN</td>\n",
       "      <td>NaN</td>\n",
       "      <td>NaN</td>\n",
       "      <td>NaN</td>\n",
       "      <td>NaN</td>\n",
       "      <td>NaN</td>\n",
       "      <td>NaN</td>\n",
       "      <td>NaN</td>\n",
       "      <td>NaN</td>\n",
       "    </tr>\n",
       "    <tr>\n",
       "      <th>35</th>\n",
       "      <td>FeatureTyping</td>\n",
       "      <td>f4179046-7862-4f4a-8868-a789ae1f395a</td>\n",
       "      <td>[]</td>\n",
       "      <td>NaN</td>\n",
       "      <td>[]</td>\n",
       "      <td>[]</td>\n",
       "      <td>None</td>\n",
       "      <td>NaN</td>\n",
       "      <td>NaN</td>\n",
       "      <td>NaN</td>\n",
       "      <td>...</td>\n",
       "      <td>NaN</td>\n",
       "      <td>NaN</td>\n",
       "      <td>NaN</td>\n",
       "      <td>NaN</td>\n",
       "      <td>NaN</td>\n",
       "      <td>NaN</td>\n",
       "      <td>NaN</td>\n",
       "      <td>NaN</td>\n",
       "      <td>NaN</td>\n",
       "      <td>NaN</td>\n",
       "    </tr>\n",
       "    <tr>\n",
       "      <th>36</th>\n",
       "      <td>FeatureTyping</td>\n",
       "      <td>f571920a-7671-4b02-bbe2-b6a5b29f6da0</td>\n",
       "      <td>[]</td>\n",
       "      <td>NaN</td>\n",
       "      <td>[]</td>\n",
       "      <td>[]</td>\n",
       "      <td>None</td>\n",
       "      <td>NaN</td>\n",
       "      <td>NaN</td>\n",
       "      <td>NaN</td>\n",
       "      <td>...</td>\n",
       "      <td>NaN</td>\n",
       "      <td>NaN</td>\n",
       "      <td>NaN</td>\n",
       "      <td>NaN</td>\n",
       "      <td>NaN</td>\n",
       "      <td>NaN</td>\n",
       "      <td>NaN</td>\n",
       "      <td>NaN</td>\n",
       "      <td>NaN</td>\n",
       "      <td>NaN</td>\n",
       "    </tr>\n",
       "  </tbody>\n",
       "</table>\n",
       "<p>37 rows × 167 columns</p>\n",
       "</div>"
      ],
      "text/plain": [
       "                       @type                                   @id aliasId  \\\n",
       "0                  PartUsage  0a2cca58-06b2-4f3e-b7f8-d69a7f48e4e0      []   \n",
       "1                    Package  10eb025a-f3da-4140-a0e8-80a33be8b734      []   \n",
       "2       EndFeatureMembership  17508f98-e3a4-4077-a99a-6d2b1025db45      []   \n",
       "3                  PartUsage  1a75db52-3597-40d8-9879-67f76d0b1db9      []   \n",
       "4             PortDefinition  1c745816-847a-4e63-8a7f-3e7d336d0fe4      []   \n",
       "5                    Feature  1ce96367-7138-4982-9d0f-47567d1c083c      []   \n",
       "6              FeatureTyping  1d11e8c9-c29a-4645-be3d-b038e22f436f      []   \n",
       "7            ConnectionUsage  28399c55-100d-4f91-96f7-3c2be3a67dd7      []   \n",
       "8              FeatureTyping  2a3f7fa1-49ac-4dba-9427-a3fd2291dd48      []   \n",
       "9          FeatureMembership  371ee28b-5df6-434e-bc0b-345d96f67194      []   \n",
       "10         FeatureMembership  40648200-75bf-434a-8bb3-15b076c1739e      []   \n",
       "11                Membership  473f2f44-369e-4038-ab70-7176f5d97f5a      []   \n",
       "12                 PortUsage  4f69a994-8460-470b-b886-5af81c8c24f6      []   \n",
       "13                Membership  51cac4da-e57d-48a5-8b71-54d73d2b19fa      []   \n",
       "14                   Package  8688d6e9-407f-4106-9068-4e5c2f804713      []   \n",
       "15           PortConjugation  875eda1c-10e7-4a51-866f-03f94f83c32a      []   \n",
       "16      EndFeatureMembership  8c31b8d8-2f04-40b9-afcd-143abea6cc46      []   \n",
       "17                Subsetting  91ec9dab-24d2-42ef-b1b9-c005c65685bc      []   \n",
       "18             FeatureTyping  a241fef9-ae36-47f5-b22c-9d8ef633c120      []   \n",
       "19                Membership  a6cd787e-10b6-4341-9a8d-61fdb8879e34      []   \n",
       "20         FeatureMembership  abda0dc1-0993-4cf2-b68f-c5b01bdcf01b      []   \n",
       "21                 PortUsage  bed6a577-00b9-4158-ab51-31d2a0c6474a      []   \n",
       "22         FeatureMembership  c1bce5ac-2efd-46ec-bcb8-61601eaa49ef      []   \n",
       "23             FeatureTyping  c53865d6-aa83-4403-a327-0097b95120ea      []   \n",
       "24            PartDefinition  c7d26e2c-c288-4115-8e8a-cbf065134355      []   \n",
       "25                Membership  cc255bba-c700-44b0-b9a2-2ae55089f5f6      []   \n",
       "26  ConjugatedPortDefinition  cfa58448-0457-4a21-98b7-9aa1e8a63e95      []   \n",
       "27                Classifier  d31a5f09-b00b-4eb4-b94d-26f2c51cda4c      []   \n",
       "28      ConnectionDefinition  d589b69a-92b1-4179-973c-aea1dbd9e2a6      []   \n",
       "29         FeatureMembership  df968c66-dd48-4b09-87c4-e3d720f43193      []   \n",
       "30                Membership  e20d7284-75a6-4a21-8dcf-2458a965e860      []   \n",
       "31                Subsetting  e57fe7b0-9bf6-4198-ada4-3175cc2bb395      []   \n",
       "32                Membership  ebc7c87a-35b3-4a3a-83a1-7e58ecda2636      []   \n",
       "33                 PartUsage  f29848a9-ba29-479c-9f28-976387ee52ae      []   \n",
       "34                   Feature  f2d73272-377e-4dc4-b54b-e618873d0584      []   \n",
       "35             FeatureTyping  f4179046-7862-4f4a-8868-a789ae1f395a      []   \n",
       "36             FeatureTyping  f571920a-7671-4b02-bbe2-b6a5b29f6da0      []   \n",
       "\n",
       "                                           definition documentation  \\\n",
       "0   [{'@id': 'c7d26e2c-c288-4115-8e8a-cbf065134355'}]            []   \n",
       "1                                                 NaN            []   \n",
       "2                                                 NaN            []   \n",
       "3   [{'@id': 'c7d26e2c-c288-4115-8e8a-cbf065134355'}]            []   \n",
       "4                                                 NaN            []   \n",
       "5                                                 NaN            []   \n",
       "6                                                 NaN            []   \n",
       "7   [{'@id': 'd589b69a-92b1-4179-973c-aea1dbd9e2a6'}]            []   \n",
       "8                                                 NaN            []   \n",
       "9                                                 NaN            []   \n",
       "10                                                NaN            []   \n",
       "11                                                NaN            []   \n",
       "12  [{'@id': '1c745816-847a-4e63-8a7f-3e7d336d0fe4'}]            []   \n",
       "13                                                NaN            []   \n",
       "14                                                NaN            []   \n",
       "15                                                NaN            []   \n",
       "16                                                NaN            []   \n",
       "17                                                NaN            []   \n",
       "18                                                NaN            []   \n",
       "19                                                NaN            []   \n",
       "20                                                NaN            []   \n",
       "21  [{'@id': '1c745816-847a-4e63-8a7f-3e7d336d0fe4'}]            []   \n",
       "22                                                NaN            []   \n",
       "23                                                NaN            []   \n",
       "24                                                NaN            []   \n",
       "25                                                NaN            []   \n",
       "26                                                NaN            []   \n",
       "27                                                NaN            []   \n",
       "28                                                NaN            []   \n",
       "29                                                NaN            []   \n",
       "30                                                NaN            []   \n",
       "31                                                NaN            []   \n",
       "32                                                NaN            []   \n",
       "33  [{'@id': 'c7d26e2c-c288-4115-8e8a-cbf065134355'}]            []   \n",
       "34                                                NaN            []   \n",
       "35                                                NaN            []   \n",
       "36                                                NaN            []   \n",
       "\n",
       "   documentationComment             effectiveName  \\\n",
       "0                    []                Power User   \n",
       "1                    []  jdehart_SimplePartsModel   \n",
       "2                    []                      None   \n",
       "3                    []               Power Group   \n",
       "4                    []                      Port   \n",
       "5                    []                    source   \n",
       "6                    []                      None   \n",
       "7                    []               powerToUser   \n",
       "8                    []                      None   \n",
       "9                    []                      None   \n",
       "10                   []                      None   \n",
       "11                   []                      None   \n",
       "12                   []                 Power Out   \n",
       "13                   []                      None   \n",
       "14                   []              Fake Library   \n",
       "15                   []                      None   \n",
       "16                   []                      None   \n",
       "17                   []                      None   \n",
       "18                   []                      None   \n",
       "19                   []                      None   \n",
       "20                   []                      None   \n",
       "21                   []                  Power In   \n",
       "22                   []                      None   \n",
       "23                   []                      None   \n",
       "24                   []                      Part   \n",
       "25                   []                      None   \n",
       "26                   []                     ~Port   \n",
       "27                   []                  Anything   \n",
       "28                   []                Connection   \n",
       "29                   []                      None   \n",
       "30                   []                      None   \n",
       "31                   []                      None   \n",
       "32                   []                      None   \n",
       "33                   []              Power Source   \n",
       "34                   []                    target   \n",
       "35                   []                      None   \n",
       "36                   []                      None   \n",
       "\n",
       "                                           endFeature  \\\n",
       "0                                                  []   \n",
       "1                                                 NaN   \n",
       "2                                                 NaN   \n",
       "3                                                  []   \n",
       "4                                                  []   \n",
       "5                                                  []   \n",
       "6                                                 NaN   \n",
       "7   [{'@id': '1ce96367-7138-4982-9d0f-47567d1c083c...   \n",
       "8                                                 NaN   \n",
       "9                                                 NaN   \n",
       "10                                                NaN   \n",
       "11                                                NaN   \n",
       "12                                                 []   \n",
       "13                                                NaN   \n",
       "14                                                NaN   \n",
       "15                                                NaN   \n",
       "16                                                NaN   \n",
       "17                                                NaN   \n",
       "18                                                NaN   \n",
       "19                                                NaN   \n",
       "20                                                NaN   \n",
       "21                                                 []   \n",
       "22                                                NaN   \n",
       "23                                                NaN   \n",
       "24                                                 []   \n",
       "25                                                NaN   \n",
       "26                                                 []   \n",
       "27                                                 []   \n",
       "28                                                 []   \n",
       "29                                                NaN   \n",
       "30                                                NaN   \n",
       "31                                                NaN   \n",
       "32                                                NaN   \n",
       "33                                                 []   \n",
       "34                                                 []   \n",
       "35                                                NaN   \n",
       "36                                                NaN   \n",
       "\n",
       "                                      endOwningType  \\\n",
       "0                                              None   \n",
       "1                                               NaN   \n",
       "2                                               NaN   \n",
       "3                                              None   \n",
       "4                                               NaN   \n",
       "5   {'@id': '28399c55-100d-4f91-96f7-3c2be3a67dd7'}   \n",
       "6                                               NaN   \n",
       "7                                              None   \n",
       "8                                               NaN   \n",
       "9                                               NaN   \n",
       "10                                              NaN   \n",
       "11                                              NaN   \n",
       "12                                             None   \n",
       "13                                              NaN   \n",
       "14                                              NaN   \n",
       "15                                              NaN   \n",
       "16                                              NaN   \n",
       "17                                              NaN   \n",
       "18                                              NaN   \n",
       "19                                              NaN   \n",
       "20                                              NaN   \n",
       "21                                             None   \n",
       "22                                              NaN   \n",
       "23                                              NaN   \n",
       "24                                              NaN   \n",
       "25                                              NaN   \n",
       "26                                              NaN   \n",
       "27                                              NaN   \n",
       "28                                              NaN   \n",
       "29                                              NaN   \n",
       "30                                              NaN   \n",
       "31                                              NaN   \n",
       "32                                              NaN   \n",
       "33                                             None   \n",
       "34  {'@id': '28399c55-100d-4f91-96f7-3c2be3a67dd7'}   \n",
       "35                                              NaN   \n",
       "36                                              NaN   \n",
       "\n",
       "                                              feature  ...  \\\n",
       "0   [{'@id': 'bed6a577-00b9-4158-ab51-31d2a0c6474a'}]  ...   \n",
       "1                                                 NaN  ...   \n",
       "2                                                 NaN  ...   \n",
       "3   [{'@id': 'f29848a9-ba29-479c-9f28-976387ee52ae...  ...   \n",
       "4                                                  []  ...   \n",
       "5                                                  []  ...   \n",
       "6                                                 NaN  ...   \n",
       "7   [{'@id': '1ce96367-7138-4982-9d0f-47567d1c083c...  ...   \n",
       "8                                                 NaN  ...   \n",
       "9                                                 NaN  ...   \n",
       "10                                                NaN  ...   \n",
       "11                                                NaN  ...   \n",
       "12                                                 []  ...   \n",
       "13                                                NaN  ...   \n",
       "14                                                NaN  ...   \n",
       "15                                                NaN  ...   \n",
       "16                                                NaN  ...   \n",
       "17                                                NaN  ...   \n",
       "18                                                NaN  ...   \n",
       "19                                                NaN  ...   \n",
       "20                                                NaN  ...   \n",
       "21                                                 []  ...   \n",
       "22                                                NaN  ...   \n",
       "23                                                NaN  ...   \n",
       "24                                                 []  ...   \n",
       "25                                                NaN  ...   \n",
       "26                                                 []  ...   \n",
       "27                                                 []  ...   \n",
       "28                                                 []  ...   \n",
       "29                                                NaN  ...   \n",
       "30                                                NaN  ...   \n",
       "31                                                NaN  ...   \n",
       "32                                                NaN  ...   \n",
       "33  [{'@id': '4f69a994-8460-470b-b886-5af81c8c24f6'}]  ...   \n",
       "34                                                 []  ...   \n",
       "35                                                NaN  ...   \n",
       "36                                                NaN  ...   \n",
       "\n",
       "                                       originalType  \\\n",
       "0                                               NaN   \n",
       "1                                               NaN   \n",
       "2                                               NaN   \n",
       "3                                               NaN   \n",
       "4                                               NaN   \n",
       "5                                               NaN   \n",
       "6                                               NaN   \n",
       "7                                               NaN   \n",
       "8                                               NaN   \n",
       "9                                               NaN   \n",
       "10                                              NaN   \n",
       "11                                              NaN   \n",
       "12                                              NaN   \n",
       "13                                              NaN   \n",
       "14                                              NaN   \n",
       "15  {'@id': '1c745816-847a-4e63-8a7f-3e7d336d0fe4'}   \n",
       "16                                              NaN   \n",
       "17                                              NaN   \n",
       "18                                              NaN   \n",
       "19                                              NaN   \n",
       "20                                              NaN   \n",
       "21                                              NaN   \n",
       "22                                              NaN   \n",
       "23                                              NaN   \n",
       "24                                              NaN   \n",
       "25                                              NaN   \n",
       "26                                              NaN   \n",
       "27                                              NaN   \n",
       "28                                              NaN   \n",
       "29                                              NaN   \n",
       "30                                              NaN   \n",
       "31                                              NaN   \n",
       "32                                              NaN   \n",
       "33                                              NaN   \n",
       "34                                              NaN   \n",
       "35                                              NaN   \n",
       "36                                              NaN   \n",
       "\n",
       "                                   subsettedFeature  \\\n",
       "0                                               NaN   \n",
       "1                                               NaN   \n",
       "2                                               NaN   \n",
       "3                                               NaN   \n",
       "4                                               NaN   \n",
       "5                                               NaN   \n",
       "6                                               NaN   \n",
       "7                                               NaN   \n",
       "8                                               NaN   \n",
       "9                                               NaN   \n",
       "10                                              NaN   \n",
       "11                                              NaN   \n",
       "12                                              NaN   \n",
       "13                                              NaN   \n",
       "14                                              NaN   \n",
       "15                                              NaN   \n",
       "16                                              NaN   \n",
       "17  {'@id': '4f69a994-8460-470b-b886-5af81c8c24f6'}   \n",
       "18                                              NaN   \n",
       "19                                              NaN   \n",
       "20                                              NaN   \n",
       "21                                              NaN   \n",
       "22                                              NaN   \n",
       "23                                              NaN   \n",
       "24                                              NaN   \n",
       "25                                              NaN   \n",
       "26                                              NaN   \n",
       "27                                              NaN   \n",
       "28                                              NaN   \n",
       "29                                              NaN   \n",
       "30                                              NaN   \n",
       "31  {'@id': 'bed6a577-00b9-4158-ab51-31d2a0c6474a'}   \n",
       "32                                              NaN   \n",
       "33                                              NaN   \n",
       "34                                              NaN   \n",
       "35                                              NaN   \n",
       "36                                              NaN   \n",
       "\n",
       "                                  subsettingFeature lifeClass  \\\n",
       "0                                               NaN       NaN   \n",
       "1                                               NaN       NaN   \n",
       "2                                               NaN       NaN   \n",
       "3                                               NaN       NaN   \n",
       "4                                               NaN       NaN   \n",
       "5                                               NaN       NaN   \n",
       "6                                               NaN       NaN   \n",
       "7                                               NaN       NaN   \n",
       "8                                               NaN       NaN   \n",
       "9                                               NaN       NaN   \n",
       "10                                              NaN       NaN   \n",
       "11                                              NaN       NaN   \n",
       "12                                              NaN       NaN   \n",
       "13                                              NaN       NaN   \n",
       "14                                              NaN       NaN   \n",
       "15                                              NaN       NaN   \n",
       "16                                              NaN       NaN   \n",
       "17  {'@id': '1ce96367-7138-4982-9d0f-47567d1c083c'}       NaN   \n",
       "18                                              NaN       NaN   \n",
       "19                                              NaN       NaN   \n",
       "20                                              NaN       NaN   \n",
       "21                                              NaN       NaN   \n",
       "22                                              NaN       NaN   \n",
       "23                                              NaN       NaN   \n",
       "24                                              NaN       NaN   \n",
       "25                                              NaN       NaN   \n",
       "26                                              NaN       NaN   \n",
       "27                                              NaN       NaN   \n",
       "28                                              NaN       NaN   \n",
       "29                                              NaN       NaN   \n",
       "30                                              NaN       NaN   \n",
       "31  {'@id': 'f2d73272-377e-4dc4-b54b-e618873d0584'}       NaN   \n",
       "32                                              NaN       NaN   \n",
       "33                                              NaN       NaN   \n",
       "34                                              NaN       NaN   \n",
       "35                                              NaN       NaN   \n",
       "36                                              NaN       NaN   \n",
       "\n",
       "                                ownedPortConjugator associationEnd  \\\n",
       "0                                               NaN            NaN   \n",
       "1                                               NaN            NaN   \n",
       "2                                               NaN            NaN   \n",
       "3                                               NaN            NaN   \n",
       "4                                               NaN            NaN   \n",
       "5                                               NaN            NaN   \n",
       "6                                               NaN            NaN   \n",
       "7                                               NaN            NaN   \n",
       "8                                               NaN            NaN   \n",
       "9                                               NaN            NaN   \n",
       "10                                              NaN            NaN   \n",
       "11                                              NaN            NaN   \n",
       "12                                              NaN            NaN   \n",
       "13                                              NaN            NaN   \n",
       "14                                              NaN            NaN   \n",
       "15                                              NaN            NaN   \n",
       "16                                              NaN            NaN   \n",
       "17                                              NaN            NaN   \n",
       "18                                              NaN            NaN   \n",
       "19                                              NaN            NaN   \n",
       "20                                              NaN            NaN   \n",
       "21                                              NaN            NaN   \n",
       "22                                              NaN            NaN   \n",
       "23                                              NaN            NaN   \n",
       "24                                              NaN            NaN   \n",
       "25                                              NaN            NaN   \n",
       "26  {'@id': '875eda1c-10e7-4a51-866f-03f94f83c32a'}            NaN   \n",
       "27                                              NaN            NaN   \n",
       "28                                              NaN             []   \n",
       "29                                              NaN            NaN   \n",
       "30                                              NaN            NaN   \n",
       "31                                              NaN            NaN   \n",
       "32                                              NaN            NaN   \n",
       "33                                              NaN            NaN   \n",
       "34                                              NaN            NaN   \n",
       "35                                              NaN            NaN   \n",
       "36                                              NaN            NaN   \n",
       "\n",
       "    connectionEnd                                        relatedType  \\\n",
       "0             NaN                                                NaN   \n",
       "1             NaN                                                NaN   \n",
       "2             NaN                                                NaN   \n",
       "3             NaN                                                NaN   \n",
       "4             NaN                                                NaN   \n",
       "5             NaN                                                NaN   \n",
       "6             NaN                                                NaN   \n",
       "7             NaN                                                NaN   \n",
       "8             NaN                                                NaN   \n",
       "9             NaN                                                NaN   \n",
       "10            NaN                                                NaN   \n",
       "11            NaN                                                NaN   \n",
       "12            NaN                                                NaN   \n",
       "13            NaN                                                NaN   \n",
       "14            NaN                                                NaN   \n",
       "15            NaN                                                NaN   \n",
       "16            NaN                                                NaN   \n",
       "17            NaN                                                NaN   \n",
       "18            NaN                                                NaN   \n",
       "19            NaN                                                NaN   \n",
       "20            NaN                                                NaN   \n",
       "21            NaN                                                NaN   \n",
       "22            NaN                                                NaN   \n",
       "23            NaN                                                NaN   \n",
       "24            NaN                                                NaN   \n",
       "25            NaN                                                NaN   \n",
       "26            NaN                                                NaN   \n",
       "27            NaN                                                NaN   \n",
       "28             []  [{'@id': 'd31a5f09-b00b-4eb4-b94d-26f2c51cda4c...   \n",
       "29            NaN                                                NaN   \n",
       "30            NaN                                                NaN   \n",
       "31            NaN                                                NaN   \n",
       "32            NaN                                                NaN   \n",
       "33            NaN                                                NaN   \n",
       "34            NaN                                                NaN   \n",
       "35            NaN                                                NaN   \n",
       "36            NaN                                                NaN   \n",
       "\n",
       "                                         sourceType  \\\n",
       "0                                               NaN   \n",
       "1                                               NaN   \n",
       "2                                               NaN   \n",
       "3                                               NaN   \n",
       "4                                               NaN   \n",
       "5                                               NaN   \n",
       "6                                               NaN   \n",
       "7                                               NaN   \n",
       "8                                               NaN   \n",
       "9                                               NaN   \n",
       "10                                              NaN   \n",
       "11                                              NaN   \n",
       "12                                              NaN   \n",
       "13                                              NaN   \n",
       "14                                              NaN   \n",
       "15                                              NaN   \n",
       "16                                              NaN   \n",
       "17                                              NaN   \n",
       "18                                              NaN   \n",
       "19                                              NaN   \n",
       "20                                              NaN   \n",
       "21                                              NaN   \n",
       "22                                              NaN   \n",
       "23                                              NaN   \n",
       "24                                              NaN   \n",
       "25                                              NaN   \n",
       "26                                              NaN   \n",
       "27                                              NaN   \n",
       "28  {'@id': 'd31a5f09-b00b-4eb4-b94d-26f2c51cda4c'}   \n",
       "29                                              NaN   \n",
       "30                                              NaN   \n",
       "31                                              NaN   \n",
       "32                                              NaN   \n",
       "33                                              NaN   \n",
       "34                                              NaN   \n",
       "35                                              NaN   \n",
       "36                                              NaN   \n",
       "\n",
       "                                           targetType  \n",
       "0                                                 NaN  \n",
       "1                                                 NaN  \n",
       "2                                                 NaN  \n",
       "3                                                 NaN  \n",
       "4                                                 NaN  \n",
       "5                                                 NaN  \n",
       "6                                                 NaN  \n",
       "7                                                 NaN  \n",
       "8                                                 NaN  \n",
       "9                                                 NaN  \n",
       "10                                                NaN  \n",
       "11                                                NaN  \n",
       "12                                                NaN  \n",
       "13                                                NaN  \n",
       "14                                                NaN  \n",
       "15                                                NaN  \n",
       "16                                                NaN  \n",
       "17                                                NaN  \n",
       "18                                                NaN  \n",
       "19                                                NaN  \n",
       "20                                                NaN  \n",
       "21                                                NaN  \n",
       "22                                                NaN  \n",
       "23                                                NaN  \n",
       "24                                                NaN  \n",
       "25                                                NaN  \n",
       "26                                                NaN  \n",
       "27                                                NaN  \n",
       "28  [{'@id': 'd31a5f09-b00b-4eb4-b94d-26f2c51cda4c'}]  \n",
       "29                                                NaN  \n",
       "30                                                NaN  \n",
       "31                                                NaN  \n",
       "32                                                NaN  \n",
       "33                                                NaN  \n",
       "34                                                NaN  \n",
       "35                                                NaN  \n",
       "36                                                NaN  \n",
       "\n",
       "[37 rows x 167 columns]"
      ]
     },
     "execution_count": 35,
     "metadata": {},
     "output_type": "execute_result"
    }
   ],
   "source": [
    "import pandas as pd\n",
    "df = pd.DataFrame(elements_data)\n",
    "df"
   ]
  },
  {
   "cell_type": "markdown",
   "id": "c39a0683-1b92-4cb7-897a-c0597974d01c",
   "metadata": {
    "kernel": "Python3"
   },
   "source": [
    "Thats a big table... lets narrow it down a bit"
   ]
  },
  {
   "cell_type": "code",
   "execution_count": 39,
   "id": "c5d514f0-5a8d-4d15-a461-5bb2dc312371",
   "metadata": {
    "kernel": "Python3",
    "tags": []
   },
   "outputs": [
    {
     "data": {
      "text/html": [
       "<div>\n",
       "<style scoped>\n",
       "    .dataframe tbody tr th:only-of-type {\n",
       "        vertical-align: middle;\n",
       "    }\n",
       "\n",
       "    .dataframe tbody tr th {\n",
       "        vertical-align: top;\n",
       "    }\n",
       "\n",
       "    .dataframe thead th {\n",
       "        text-align: right;\n",
       "    }\n",
       "</style>\n",
       "<table border=\"1\" class=\"dataframe\">\n",
       "  <thead>\n",
       "    <tr style=\"text-align: right;\">\n",
       "      <th></th>\n",
       "      <th>@id</th>\n",
       "      <th>@type</th>\n",
       "      <th>name</th>\n",
       "      <th>owningFeatureMembership</th>\n",
       "      <th>owningRelatedElement</th>\n",
       "    </tr>\n",
       "  </thead>\n",
       "  <tbody>\n",
       "    <tr>\n",
       "      <th>0</th>\n",
       "      <td>0a2cca58-06b2-4f3e-b7f8-d69a7f48e4e0</td>\n",
       "      <td>PartUsage</td>\n",
       "      <td>Power User</td>\n",
       "      <td>{'@id': '371ee28b-5df6-434e-bc0b-345d96f67194'}</td>\n",
       "      <td>NaN</td>\n",
       "    </tr>\n",
       "    <tr>\n",
       "      <th>1</th>\n",
       "      <td>10eb025a-f3da-4140-a0e8-80a33be8b734</td>\n",
       "      <td>Package</td>\n",
       "      <td>jdehart_SimplePartsModel</td>\n",
       "      <td>NaN</td>\n",
       "      <td>NaN</td>\n",
       "    </tr>\n",
       "    <tr>\n",
       "      <th>2</th>\n",
       "      <td>17508f98-e3a4-4077-a99a-6d2b1025db45</td>\n",
       "      <td>EndFeatureMembership</td>\n",
       "      <td>None</td>\n",
       "      <td>NaN</td>\n",
       "      <td>{'@id': '28399c55-100d-4f91-96f7-3c2be3a67dd7'}</td>\n",
       "    </tr>\n",
       "    <tr>\n",
       "      <th>3</th>\n",
       "      <td>1a75db52-3597-40d8-9879-67f76d0b1db9</td>\n",
       "      <td>PartUsage</td>\n",
       "      <td>Power Group</td>\n",
       "      <td>None</td>\n",
       "      <td>NaN</td>\n",
       "    </tr>\n",
       "    <tr>\n",
       "      <th>4</th>\n",
       "      <td>1c745816-847a-4e63-8a7f-3e7d336d0fe4</td>\n",
       "      <td>PortDefinition</td>\n",
       "      <td>Port</td>\n",
       "      <td>NaN</td>\n",
       "      <td>NaN</td>\n",
       "    </tr>\n",
       "    <tr>\n",
       "      <th>5</th>\n",
       "      <td>1ce96367-7138-4982-9d0f-47567d1c083c</td>\n",
       "      <td>Feature</td>\n",
       "      <td>None</td>\n",
       "      <td>{'@id': '17508f98-e3a4-4077-a99a-6d2b1025db45'}</td>\n",
       "      <td>NaN</td>\n",
       "    </tr>\n",
       "    <tr>\n",
       "      <th>6</th>\n",
       "      <td>1d11e8c9-c29a-4645-be3d-b038e22f436f</td>\n",
       "      <td>FeatureTyping</td>\n",
       "      <td>None</td>\n",
       "      <td>NaN</td>\n",
       "      <td>{'@id': 'f29848a9-ba29-479c-9f28-976387ee52ae'}</td>\n",
       "    </tr>\n",
       "    <tr>\n",
       "      <th>7</th>\n",
       "      <td>28399c55-100d-4f91-96f7-3c2be3a67dd7</td>\n",
       "      <td>ConnectionUsage</td>\n",
       "      <td>powerToUser</td>\n",
       "      <td>{'@id': 'c1bce5ac-2efd-46ec-bcb8-61601eaa49ef'}</td>\n",
       "      <td>None</td>\n",
       "    </tr>\n",
       "    <tr>\n",
       "      <th>8</th>\n",
       "      <td>2a3f7fa1-49ac-4dba-9427-a3fd2291dd48</td>\n",
       "      <td>FeatureTyping</td>\n",
       "      <td>None</td>\n",
       "      <td>NaN</td>\n",
       "      <td>{'@id': '4f69a994-8460-470b-b886-5af81c8c24f6'}</td>\n",
       "    </tr>\n",
       "    <tr>\n",
       "      <th>9</th>\n",
       "      <td>371ee28b-5df6-434e-bc0b-345d96f67194</td>\n",
       "      <td>FeatureMembership</td>\n",
       "      <td>None</td>\n",
       "      <td>NaN</td>\n",
       "      <td>{'@id': '1a75db52-3597-40d8-9879-67f76d0b1db9'}</td>\n",
       "    </tr>\n",
       "    <tr>\n",
       "      <th>10</th>\n",
       "      <td>40648200-75bf-434a-8bb3-15b076c1739e</td>\n",
       "      <td>FeatureMembership</td>\n",
       "      <td>None</td>\n",
       "      <td>NaN</td>\n",
       "      <td>{'@id': 'f29848a9-ba29-479c-9f28-976387ee52ae'}</td>\n",
       "    </tr>\n",
       "    <tr>\n",
       "      <th>11</th>\n",
       "      <td>473f2f44-369e-4038-ab70-7176f5d97f5a</td>\n",
       "      <td>Membership</td>\n",
       "      <td>None</td>\n",
       "      <td>NaN</td>\n",
       "      <td>{'@id': '8688d6e9-407f-4106-9068-4e5c2f804713'}</td>\n",
       "    </tr>\n",
       "    <tr>\n",
       "      <th>12</th>\n",
       "      <td>4f69a994-8460-470b-b886-5af81c8c24f6</td>\n",
       "      <td>PortUsage</td>\n",
       "      <td>Power Out</td>\n",
       "      <td>{'@id': '40648200-75bf-434a-8bb3-15b076c1739e'}</td>\n",
       "      <td>NaN</td>\n",
       "    </tr>\n",
       "    <tr>\n",
       "      <th>13</th>\n",
       "      <td>51cac4da-e57d-48a5-8b71-54d73d2b19fa</td>\n",
       "      <td>Membership</td>\n",
       "      <td>None</td>\n",
       "      <td>NaN</td>\n",
       "      <td>{'@id': '10eb025a-f3da-4140-a0e8-80a33be8b734'}</td>\n",
       "    </tr>\n",
       "    <tr>\n",
       "      <th>14</th>\n",
       "      <td>8688d6e9-407f-4106-9068-4e5c2f804713</td>\n",
       "      <td>Package</td>\n",
       "      <td>Fake Library</td>\n",
       "      <td>NaN</td>\n",
       "      <td>NaN</td>\n",
       "    </tr>\n",
       "    <tr>\n",
       "      <th>15</th>\n",
       "      <td>875eda1c-10e7-4a51-866f-03f94f83c32a</td>\n",
       "      <td>PortConjugation</td>\n",
       "      <td>None</td>\n",
       "      <td>NaN</td>\n",
       "      <td>{'@id': 'cfa58448-0457-4a21-98b7-9aa1e8a63e95'}</td>\n",
       "    </tr>\n",
       "    <tr>\n",
       "      <th>16</th>\n",
       "      <td>8c31b8d8-2f04-40b9-afcd-143abea6cc46</td>\n",
       "      <td>EndFeatureMembership</td>\n",
       "      <td>None</td>\n",
       "      <td>NaN</td>\n",
       "      <td>{'@id': '28399c55-100d-4f91-96f7-3c2be3a67dd7'}</td>\n",
       "    </tr>\n",
       "    <tr>\n",
       "      <th>17</th>\n",
       "      <td>91ec9dab-24d2-42ef-b1b9-c005c65685bc</td>\n",
       "      <td>Subsetting</td>\n",
       "      <td>None</td>\n",
       "      <td>NaN</td>\n",
       "      <td>{'@id': '1ce96367-7138-4982-9d0f-47567d1c083c'}</td>\n",
       "    </tr>\n",
       "    <tr>\n",
       "      <th>18</th>\n",
       "      <td>a241fef9-ae36-47f5-b22c-9d8ef633c120</td>\n",
       "      <td>FeatureTyping</td>\n",
       "      <td>None</td>\n",
       "      <td>NaN</td>\n",
       "      <td>{'@id': 'bed6a577-00b9-4158-ab51-31d2a0c6474a'}</td>\n",
       "    </tr>\n",
       "    <tr>\n",
       "      <th>19</th>\n",
       "      <td>a6cd787e-10b6-4341-9a8d-61fdb8879e34</td>\n",
       "      <td>Membership</td>\n",
       "      <td>None</td>\n",
       "      <td>NaN</td>\n",
       "      <td>{'@id': '1c745816-847a-4e63-8a7f-3e7d336d0fe4'}</td>\n",
       "    </tr>\n",
       "    <tr>\n",
       "      <th>20</th>\n",
       "      <td>abda0dc1-0993-4cf2-b68f-c5b01bdcf01b</td>\n",
       "      <td>FeatureMembership</td>\n",
       "      <td>None</td>\n",
       "      <td>NaN</td>\n",
       "      <td>{'@id': '0a2cca58-06b2-4f3e-b7f8-d69a7f48e4e0'}</td>\n",
       "    </tr>\n",
       "    <tr>\n",
       "      <th>21</th>\n",
       "      <td>bed6a577-00b9-4158-ab51-31d2a0c6474a</td>\n",
       "      <td>PortUsage</td>\n",
       "      <td>Power In</td>\n",
       "      <td>{'@id': 'abda0dc1-0993-4cf2-b68f-c5b01bdcf01b'}</td>\n",
       "      <td>NaN</td>\n",
       "    </tr>\n",
       "    <tr>\n",
       "      <th>22</th>\n",
       "      <td>c1bce5ac-2efd-46ec-bcb8-61601eaa49ef</td>\n",
       "      <td>FeatureMembership</td>\n",
       "      <td>None</td>\n",
       "      <td>NaN</td>\n",
       "      <td>{'@id': '1a75db52-3597-40d8-9879-67f76d0b1db9'}</td>\n",
       "    </tr>\n",
       "    <tr>\n",
       "      <th>23</th>\n",
       "      <td>c53865d6-aa83-4403-a327-0097b95120ea</td>\n",
       "      <td>FeatureTyping</td>\n",
       "      <td>None</td>\n",
       "      <td>NaN</td>\n",
       "      <td>{'@id': '28399c55-100d-4f91-96f7-3c2be3a67dd7'}</td>\n",
       "    </tr>\n",
       "    <tr>\n",
       "      <th>24</th>\n",
       "      <td>c7d26e2c-c288-4115-8e8a-cbf065134355</td>\n",
       "      <td>PartDefinition</td>\n",
       "      <td>Part</td>\n",
       "      <td>NaN</td>\n",
       "      <td>NaN</td>\n",
       "    </tr>\n",
       "    <tr>\n",
       "      <th>25</th>\n",
       "      <td>cc255bba-c700-44b0-b9a2-2ae55089f5f6</td>\n",
       "      <td>Membership</td>\n",
       "      <td>None</td>\n",
       "      <td>NaN</td>\n",
       "      <td>{'@id': '8688d6e9-407f-4106-9068-4e5c2f804713'}</td>\n",
       "    </tr>\n",
       "    <tr>\n",
       "      <th>26</th>\n",
       "      <td>cfa58448-0457-4a21-98b7-9aa1e8a63e95</td>\n",
       "      <td>ConjugatedPortDefinition</td>\n",
       "      <td>~Port</td>\n",
       "      <td>NaN</td>\n",
       "      <td>NaN</td>\n",
       "    </tr>\n",
       "    <tr>\n",
       "      <th>27</th>\n",
       "      <td>d31a5f09-b00b-4eb4-b94d-26f2c51cda4c</td>\n",
       "      <td>Classifier</td>\n",
       "      <td>Anything</td>\n",
       "      <td>NaN</td>\n",
       "      <td>NaN</td>\n",
       "    </tr>\n",
       "    <tr>\n",
       "      <th>28</th>\n",
       "      <td>d589b69a-92b1-4179-973c-aea1dbd9e2a6</td>\n",
       "      <td>ConnectionDefinition</td>\n",
       "      <td>Connection</td>\n",
       "      <td>NaN</td>\n",
       "      <td>None</td>\n",
       "    </tr>\n",
       "    <tr>\n",
       "      <th>29</th>\n",
       "      <td>df968c66-dd48-4b09-87c4-e3d720f43193</td>\n",
       "      <td>FeatureMembership</td>\n",
       "      <td>None</td>\n",
       "      <td>NaN</td>\n",
       "      <td>{'@id': '1a75db52-3597-40d8-9879-67f76d0b1db9'}</td>\n",
       "    </tr>\n",
       "    <tr>\n",
       "      <th>30</th>\n",
       "      <td>e20d7284-75a6-4a21-8dcf-2458a965e860</td>\n",
       "      <td>Membership</td>\n",
       "      <td>None</td>\n",
       "      <td>NaN</td>\n",
       "      <td>{'@id': '8688d6e9-407f-4106-9068-4e5c2f804713'}</td>\n",
       "    </tr>\n",
       "    <tr>\n",
       "      <th>31</th>\n",
       "      <td>e57fe7b0-9bf6-4198-ada4-3175cc2bb395</td>\n",
       "      <td>Subsetting</td>\n",
       "      <td>None</td>\n",
       "      <td>NaN</td>\n",
       "      <td>{'@id': 'f2d73272-377e-4dc4-b54b-e618873d0584'}</td>\n",
       "    </tr>\n",
       "    <tr>\n",
       "      <th>32</th>\n",
       "      <td>ebc7c87a-35b3-4a3a-83a1-7e58ecda2636</td>\n",
       "      <td>Membership</td>\n",
       "      <td>None</td>\n",
       "      <td>NaN</td>\n",
       "      <td>{'@id': '10eb025a-f3da-4140-a0e8-80a33be8b734'}</td>\n",
       "    </tr>\n",
       "    <tr>\n",
       "      <th>33</th>\n",
       "      <td>f29848a9-ba29-479c-9f28-976387ee52ae</td>\n",
       "      <td>PartUsage</td>\n",
       "      <td>Power Source</td>\n",
       "      <td>{'@id': 'df968c66-dd48-4b09-87c4-e3d720f43193'}</td>\n",
       "      <td>NaN</td>\n",
       "    </tr>\n",
       "    <tr>\n",
       "      <th>34</th>\n",
       "      <td>f2d73272-377e-4dc4-b54b-e618873d0584</td>\n",
       "      <td>Feature</td>\n",
       "      <td>None</td>\n",
       "      <td>{'@id': '8c31b8d8-2f04-40b9-afcd-143abea6cc46'}</td>\n",
       "      <td>NaN</td>\n",
       "    </tr>\n",
       "    <tr>\n",
       "      <th>35</th>\n",
       "      <td>f4179046-7862-4f4a-8868-a789ae1f395a</td>\n",
       "      <td>FeatureTyping</td>\n",
       "      <td>None</td>\n",
       "      <td>NaN</td>\n",
       "      <td>{'@id': '1a75db52-3597-40d8-9879-67f76d0b1db9'}</td>\n",
       "    </tr>\n",
       "    <tr>\n",
       "      <th>36</th>\n",
       "      <td>f571920a-7671-4b02-bbe2-b6a5b29f6da0</td>\n",
       "      <td>FeatureTyping</td>\n",
       "      <td>None</td>\n",
       "      <td>NaN</td>\n",
       "      <td>{'@id': '0a2cca58-06b2-4f3e-b7f8-d69a7f48e4e0'}</td>\n",
       "    </tr>\n",
       "  </tbody>\n",
       "</table>\n",
       "</div>"
      ],
      "text/plain": [
       "                                     @id                     @type  \\\n",
       "0   0a2cca58-06b2-4f3e-b7f8-d69a7f48e4e0                 PartUsage   \n",
       "1   10eb025a-f3da-4140-a0e8-80a33be8b734                   Package   \n",
       "2   17508f98-e3a4-4077-a99a-6d2b1025db45      EndFeatureMembership   \n",
       "3   1a75db52-3597-40d8-9879-67f76d0b1db9                 PartUsage   \n",
       "4   1c745816-847a-4e63-8a7f-3e7d336d0fe4            PortDefinition   \n",
       "5   1ce96367-7138-4982-9d0f-47567d1c083c                   Feature   \n",
       "6   1d11e8c9-c29a-4645-be3d-b038e22f436f             FeatureTyping   \n",
       "7   28399c55-100d-4f91-96f7-3c2be3a67dd7           ConnectionUsage   \n",
       "8   2a3f7fa1-49ac-4dba-9427-a3fd2291dd48             FeatureTyping   \n",
       "9   371ee28b-5df6-434e-bc0b-345d96f67194         FeatureMembership   \n",
       "10  40648200-75bf-434a-8bb3-15b076c1739e         FeatureMembership   \n",
       "11  473f2f44-369e-4038-ab70-7176f5d97f5a                Membership   \n",
       "12  4f69a994-8460-470b-b886-5af81c8c24f6                 PortUsage   \n",
       "13  51cac4da-e57d-48a5-8b71-54d73d2b19fa                Membership   \n",
       "14  8688d6e9-407f-4106-9068-4e5c2f804713                   Package   \n",
       "15  875eda1c-10e7-4a51-866f-03f94f83c32a           PortConjugation   \n",
       "16  8c31b8d8-2f04-40b9-afcd-143abea6cc46      EndFeatureMembership   \n",
       "17  91ec9dab-24d2-42ef-b1b9-c005c65685bc                Subsetting   \n",
       "18  a241fef9-ae36-47f5-b22c-9d8ef633c120             FeatureTyping   \n",
       "19  a6cd787e-10b6-4341-9a8d-61fdb8879e34                Membership   \n",
       "20  abda0dc1-0993-4cf2-b68f-c5b01bdcf01b         FeatureMembership   \n",
       "21  bed6a577-00b9-4158-ab51-31d2a0c6474a                 PortUsage   \n",
       "22  c1bce5ac-2efd-46ec-bcb8-61601eaa49ef         FeatureMembership   \n",
       "23  c53865d6-aa83-4403-a327-0097b95120ea             FeatureTyping   \n",
       "24  c7d26e2c-c288-4115-8e8a-cbf065134355            PartDefinition   \n",
       "25  cc255bba-c700-44b0-b9a2-2ae55089f5f6                Membership   \n",
       "26  cfa58448-0457-4a21-98b7-9aa1e8a63e95  ConjugatedPortDefinition   \n",
       "27  d31a5f09-b00b-4eb4-b94d-26f2c51cda4c                Classifier   \n",
       "28  d589b69a-92b1-4179-973c-aea1dbd9e2a6      ConnectionDefinition   \n",
       "29  df968c66-dd48-4b09-87c4-e3d720f43193         FeatureMembership   \n",
       "30  e20d7284-75a6-4a21-8dcf-2458a965e860                Membership   \n",
       "31  e57fe7b0-9bf6-4198-ada4-3175cc2bb395                Subsetting   \n",
       "32  ebc7c87a-35b3-4a3a-83a1-7e58ecda2636                Membership   \n",
       "33  f29848a9-ba29-479c-9f28-976387ee52ae                 PartUsage   \n",
       "34  f2d73272-377e-4dc4-b54b-e618873d0584                   Feature   \n",
       "35  f4179046-7862-4f4a-8868-a789ae1f395a             FeatureTyping   \n",
       "36  f571920a-7671-4b02-bbe2-b6a5b29f6da0             FeatureTyping   \n",
       "\n",
       "                        name                          owningFeatureMembership  \\\n",
       "0                 Power User  {'@id': '371ee28b-5df6-434e-bc0b-345d96f67194'}   \n",
       "1   jdehart_SimplePartsModel                                              NaN   \n",
       "2                       None                                              NaN   \n",
       "3                Power Group                                             None   \n",
       "4                       Port                                              NaN   \n",
       "5                       None  {'@id': '17508f98-e3a4-4077-a99a-6d2b1025db45'}   \n",
       "6                       None                                              NaN   \n",
       "7                powerToUser  {'@id': 'c1bce5ac-2efd-46ec-bcb8-61601eaa49ef'}   \n",
       "8                       None                                              NaN   \n",
       "9                       None                                              NaN   \n",
       "10                      None                                              NaN   \n",
       "11                      None                                              NaN   \n",
       "12                 Power Out  {'@id': '40648200-75bf-434a-8bb3-15b076c1739e'}   \n",
       "13                      None                                              NaN   \n",
       "14              Fake Library                                              NaN   \n",
       "15                      None                                              NaN   \n",
       "16                      None                                              NaN   \n",
       "17                      None                                              NaN   \n",
       "18                      None                                              NaN   \n",
       "19                      None                                              NaN   \n",
       "20                      None                                              NaN   \n",
       "21                  Power In  {'@id': 'abda0dc1-0993-4cf2-b68f-c5b01bdcf01b'}   \n",
       "22                      None                                              NaN   \n",
       "23                      None                                              NaN   \n",
       "24                      Part                                              NaN   \n",
       "25                      None                                              NaN   \n",
       "26                     ~Port                                              NaN   \n",
       "27                  Anything                                              NaN   \n",
       "28                Connection                                              NaN   \n",
       "29                      None                                              NaN   \n",
       "30                      None                                              NaN   \n",
       "31                      None                                              NaN   \n",
       "32                      None                                              NaN   \n",
       "33              Power Source  {'@id': 'df968c66-dd48-4b09-87c4-e3d720f43193'}   \n",
       "34                      None  {'@id': '8c31b8d8-2f04-40b9-afcd-143abea6cc46'}   \n",
       "35                      None                                              NaN   \n",
       "36                      None                                              NaN   \n",
       "\n",
       "                               owningRelatedElement  \n",
       "0                                               NaN  \n",
       "1                                               NaN  \n",
       "2   {'@id': '28399c55-100d-4f91-96f7-3c2be3a67dd7'}  \n",
       "3                                               NaN  \n",
       "4                                               NaN  \n",
       "5                                               NaN  \n",
       "6   {'@id': 'f29848a9-ba29-479c-9f28-976387ee52ae'}  \n",
       "7                                              None  \n",
       "8   {'@id': '4f69a994-8460-470b-b886-5af81c8c24f6'}  \n",
       "9   {'@id': '1a75db52-3597-40d8-9879-67f76d0b1db9'}  \n",
       "10  {'@id': 'f29848a9-ba29-479c-9f28-976387ee52ae'}  \n",
       "11  {'@id': '8688d6e9-407f-4106-9068-4e5c2f804713'}  \n",
       "12                                              NaN  \n",
       "13  {'@id': '10eb025a-f3da-4140-a0e8-80a33be8b734'}  \n",
       "14                                              NaN  \n",
       "15  {'@id': 'cfa58448-0457-4a21-98b7-9aa1e8a63e95'}  \n",
       "16  {'@id': '28399c55-100d-4f91-96f7-3c2be3a67dd7'}  \n",
       "17  {'@id': '1ce96367-7138-4982-9d0f-47567d1c083c'}  \n",
       "18  {'@id': 'bed6a577-00b9-4158-ab51-31d2a0c6474a'}  \n",
       "19  {'@id': '1c745816-847a-4e63-8a7f-3e7d336d0fe4'}  \n",
       "20  {'@id': '0a2cca58-06b2-4f3e-b7f8-d69a7f48e4e0'}  \n",
       "21                                              NaN  \n",
       "22  {'@id': '1a75db52-3597-40d8-9879-67f76d0b1db9'}  \n",
       "23  {'@id': '28399c55-100d-4f91-96f7-3c2be3a67dd7'}  \n",
       "24                                              NaN  \n",
       "25  {'@id': '8688d6e9-407f-4106-9068-4e5c2f804713'}  \n",
       "26                                              NaN  \n",
       "27                                              NaN  \n",
       "28                                             None  \n",
       "29  {'@id': '1a75db52-3597-40d8-9879-67f76d0b1db9'}  \n",
       "30  {'@id': '8688d6e9-407f-4106-9068-4e5c2f804713'}  \n",
       "31  {'@id': 'f2d73272-377e-4dc4-b54b-e618873d0584'}  \n",
       "32  {'@id': '10eb025a-f3da-4140-a0e8-80a33be8b734'}  \n",
       "33                                              NaN  \n",
       "34                                              NaN  \n",
       "35  {'@id': '1a75db52-3597-40d8-9879-67f76d0b1db9'}  \n",
       "36  {'@id': '0a2cca58-06b2-4f3e-b7f8-d69a7f48e4e0'}  "
      ]
     },
     "execution_count": 39,
     "metadata": {},
     "output_type": "execute_result"
    }
   ],
   "source": [
    "df[[\"@id\",\"@type\",\"name\",\"owningFeatureMembership\",\"owningRelatedElement\"]]"
   ]
  },
  {
   "cell_type": "markdown",
   "id": "9820fde0-55f5-4e57-9ba9-e0de399b5079",
   "metadata": {
    "kernel": "SoS"
   },
   "source": [
    "Now I would love to change an attribute and push it back up.... but how :)"
   ]
  }
 ],
 "metadata": {
  "kernelspec": {
   "display_name": "SoS",
   "language": "sos",
   "name": "sos"
  },
  "language_info": {
   "codemirror_mode": "sos",
   "file_extension": ".sos",
   "mimetype": "text/x-sos",
   "name": "sos",
   "nbconvert_exporter": "sos_notebook.converter.SoS_Exporter",
   "pygments_lexer": "sos"
  },
  "sos": {
   "kernels": [
    [
     "Python3",
     "python3",
     "Python3",
     "#FFD91A",
     {
      "name": "ipython",
      "version": 3
     }
    ],
    [
     "SysML",
     "sysml",
     "sysml",
     "",
     "sysml"
    ],
    [
     "pymbe",
     "pymbe",
     "Python3",
     "#FFD91A",
     {
      "name": "ipython",
      "version": 3
     }
    ]
   ],
   "version": "0.22.3"
  },
  "toc-autonumbering": false
 },
 "nbformat": 4,
 "nbformat_minor": 5
}
