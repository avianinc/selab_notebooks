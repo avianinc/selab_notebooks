{
 "cells": [
  {
   "cell_type": "code",
   "execution_count": 50,
   "id": "feeab0cc-f3d6-4ff8-8068-fd93bb3a6e5b",
   "metadata": {},
   "outputs": [],
   "source": [
    "from wxyz.lab import Editor, EditorModeInfo, DockPop, DockBox, EditorConfig\n",
    "import ipywidgets as W, traitlets as T, IPython as I, textwrap\n",
    "from yaml import safe_dump\n",
    "\n",
    "import sys\n",
    "sys.path.insert(0, '/srv/data/ASE6104/Users/John DeHart/dev')\n",
    "from sysml2 import sysmlv2 as m"
   ]
  },
  {
   "cell_type": "code",
   "execution_count": 51,
   "id": "f9cb198d-dd4e-45b8-8cab-8870c1093e40",
   "metadata": {},
   "outputs": [
    {
     "name": "stdout",
     "output_type": "stream",
     "text": [
      "7 model(s) retrieved...\n"
     ]
    }
   ],
   "source": [
    "models, modelNames = m.getModels()"
   ]
  },
  {
   "cell_type": "code",
   "execution_count": 52,
   "id": "627c70ae-aa41-48d7-8d7a-4805b8224877",
   "metadata": {},
   "outputs": [
    {
     "data": {
      "text/plain": [
       "['Requirements',\n",
       " 'Requirements',\n",
       " 'jdehart_ModelExample_A',\n",
       " 'ModelExample_B',\n",
       " 'Requirements',\n",
       " 'fuelFlow',\n",
       " 'jdehart_partsModel']"
      ]
     },
     "execution_count": 52,
     "metadata": {},
     "output_type": "execute_result"
    }
   ],
   "source": [
    "modelNames"
   ]
  },
  {
   "cell_type": "code",
   "execution_count": 60,
   "id": "e827dca0-2cbf-4a80-9e93-264f23940fa8",
   "metadata": {},
   "outputs": [
    {
     "data": {
      "application/vnd.jupyter.widget-view+json": {
       "model_id": "1400fbbea92c4d08853bb6ba2c533a86",
       "version_major": 2,
       "version_minor": 0
      },
      "text/plain": [
       "Dropdown(options=('Requirements', 'Requirements', 'jdehart_ModelExample_A', 'ModelExample_B', 'Requirements', …"
      ]
     },
     "metadata": {},
     "output_type": "display_data"
    }
   ],
   "source": [
    "import ipywidgets as widgets\n",
    "from sidecar import Sidecar\n",
    "\n",
    "w = widgets.Dropdown(\n",
    "    options=modelNames\n",
    ")\n",
    "def on_change(change):\n",
    "    if change['type'] == 'change' and change['name'] == 'value':\n",
    "        for names in enumerate(modelNames):\n",
    "            if names[1] == w.value:\n",
    "                sc = Sidecar(title=w.value)\n",
    "                editor = Editor(value=models[names[0]],vlayout=dict(height=\"600px\", width=\"100%\"), \n",
    "                    config=dict(mode=\"sysml\", theme=\"darcula\", lineNumbers=True, lineWrapping=True, scrollbarStyle=\"native\"))\n",
    "                with sc:\n",
    "                    display(editor)\n",
    "            \n",
    "w.observe(on_change)\n",
    "display(w)"
   ]
  },
  {
   "cell_type": "code",
   "execution_count": 57,
   "id": "4f11f9d7-109d-42ae-be29-e522af0c2b2c",
   "metadata": {},
   "outputs": [
    {
     "data": {
      "text/plain": [
       "'package jdehart_partsModel {\\n    \\n    import ScalarValues::*;\\n\\n    part def Automobile;\\n    \\n    part def Aeroplane;\\n    \\n    part Bicycle{\\n        \\n        part Wheel{\\n            \\n            part Hub;\\n            \\n            part Tire;\\n            \\n        }\\n        \\n        part Seat;\\n        \\n        part Frame;\\n        \\n    }\\n    \\n}'"
      ]
     },
     "execution_count": 57,
     "metadata": {},
     "output_type": "execute_result"
    }
   ],
   "source": [
    "editor.value"
   ]
  }
 ],
 "metadata": {
  "kernelspec": {
   "display_name": "Python 3",
   "language": "python",
   "name": "python3"
  },
  "language_info": {
   "codemirror_mode": {
    "name": "ipython",
    "version": 3
   },
   "file_extension": ".py",
   "mimetype": "text/x-python",
   "name": "python",
   "nbconvert_exporter": "python",
   "pygments_lexer": "ipython3",
   "version": "3.9.0"
  }
 },
 "nbformat": 4,
 "nbformat_minor": 5
}
