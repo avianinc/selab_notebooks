{
 "cells": [
  {
   "cell_type": "markdown",
   "id": "bd797355-2151-4d36-bdbe-801e884d04a2",
   "metadata": {},
   "source": [
    "## This is an example of a api fetch of a json file and then placeing the json into a data tree"
   ]
  },
  {
   "cell_type": "code",
   "execution_count": 1,
   "id": "8197c151-ec18-4cb9-be42-cb9a72bf7a72",
   "metadata": {},
   "outputs": [
    {
     "data": {
      "text/plain": [
       "{'@type': 'Commit',\n",
       " 'change': [{'data': {'@type': 'Membership',\n",
       "    '@id': '421afd6a-c950-44cb-b42d-4c487b383b13',\n",
       "    'aliasId': [],\n",
       "    'documentation': [],\n",
       "    'documentationComment': [],\n",
       "    'effectiveMemberName': None,\n",
       "    'effectiveName': None,\n",
       "    'humanId': None,\n",
       "    'identifier': '421afd6a-c950-44cb-b42d-4c487b383b13',\n",
       "    'memberElement': {'@id': '70d55722-38f8-4342-97ec-bef5373080c1'},\n",
       "    'memberName': 'Wheel',\n",
       "    'membershipOwningNamespace': {'@id': 'a4e90028-b133-4388-99a2-95173243a189'},\n",
       "    'name': None,\n",
       "    'ownedAnnotation': [],\n",
       "    'ownedElement': [],\n",
       "    'ownedMemberElement': {'@id': '70d55722-38f8-4342-97ec-bef5373080c1'},\n",
       "    'ownedRelatedElement': [{'@id': '70d55722-38f8-4342-97ec-bef5373080c1'}],\n",
       "    'ownedRelationship': [],\n",
       "    'ownedTextualRepresentation': [],\n",
       "    'owner': None,\n",
       "    'owningMembership': None,\n",
       "    'owningNamespace': None,\n",
       "    'owningRelatedElement': {'@id': 'a4e90028-b133-4388-99a2-95173243a189'},\n",
       "    'owningRelationship': None,\n",
       "    'qualifiedName': None,\n",
       "    'relatedElement': [{'@id': 'a4e90028-b133-4388-99a2-95173243a189'},\n",
       "     {'@id': '70d55722-38f8-4342-97ec-bef5373080c1'}],\n",
       "    'source': [{'@id': 'a4e90028-b133-4388-99a2-95173243a189'}],\n",
       "    'target': [{'@id': '70d55722-38f8-4342-97ec-bef5373080c1'}],\n",
       "    'visibility': 'PUBLIC'},\n",
       "   'id': '1b4ed4b8-d2ad-455e-9f8c-0bec76e69615',\n",
       "   'identity': {'@type': 'ElementIdentity',\n",
       "    'id': '421afd6a-c950-44cb-b42d-4c487b383b13'}},\n",
       "  {'data': {'@type': 'Package',\n",
       "    '@id': 'fb234c47-e715-4e1f-95cb-d0a93f014430',\n",
       "    'aliasId': [],\n",
       "    'documentation': [],\n",
       "    'documentationComment': [],\n",
       "    'effectiveName': None,\n",
       "    'filterCondition': [],\n",
       "    'humanId': None,\n",
       "    'identifier': 'fb234c47-e715-4e1f-95cb-d0a93f014430',\n",
       "    'importedMembership': [],\n",
       "    'member': [],\n",
       "    'membership': [],\n",
       "    'name': 'ScalarValues',\n",
       "    'ownedAnnotation': [],\n",
       "    'ownedElement': [],\n",
       "    'ownedImport': [],\n",
       "    'ownedMember': [],\n",
       "    'ownedMembership': [],\n",
       "    'ownedRelationship': [],\n",
       "    'ownedTextualRepresentation': [],\n",
       "    'owner': None,\n",
       "    'owningMembership': None,\n",
       "    'owningNamespace': None,\n",
       "    'owningRelationship': None,\n",
       "    'qualifiedName': 'ScalarValues'},\n",
       "   'id': 'c8a80b1c-faac-4ec9-a152-76a474b32be7',\n",
       "   'identity': {'@type': 'ElementIdentity',\n",
       "    'id': 'fb234c47-e715-4e1f-95cb-d0a93f014430'}},\n",
       "  {'data': {'@type': 'Membership',\n",
       "    '@id': 'e841596f-b77e-4ee5-b345-2e92c3cba498',\n",
       "    'aliasId': [],\n",
       "    'documentation': [],\n",
       "    'documentationComment': [],\n",
       "    'effectiveMemberName': None,\n",
       "    'effectiveName': None,\n",
       "    'humanId': None,\n",
       "    'identifier': 'e841596f-b77e-4ee5-b345-2e92c3cba498',\n",
       "    'memberElement': {'@id': '60b3a124-9e4c-4b09-9bdb-817864b9a06a'},\n",
       "    'memberName': 'Automobile',\n",
       "    'membershipOwningNamespace': {'@id': 'db7bb250-798b-4276-acc9-06c70bccf330'},\n",
       "    'name': None,\n",
       "    'ownedAnnotation': [],\n",
       "    'ownedElement': [],\n",
       "    'ownedMemberElement': {'@id': '60b3a124-9e4c-4b09-9bdb-817864b9a06a'},\n",
       "    'ownedRelatedElement': [{'@id': '60b3a124-9e4c-4b09-9bdb-817864b9a06a'}],\n",
       "    'ownedRelationship': [],\n",
       "    'ownedTextualRepresentation': [],\n",
       "    'owner': None,\n",
       "    'owningMembership': None,\n",
       "    'owningNamespace': None,\n",
       "    'owningRelatedElement': {'@id': 'db7bb250-798b-4276-acc9-06c70bccf330'},\n",
       "    'owningRelationship': None,\n",
       "    'qualifiedName': None,\n",
       "    'relatedElement': [{'@id': 'db7bb250-798b-4276-acc9-06c70bccf330'},\n",
       "     {'@id': '60b3a124-9e4c-4b09-9bdb-817864b9a06a'}],\n",
       "    'source': [{'@id': 'db7bb250-798b-4276-acc9-06c70bccf330'}],\n",
       "    'target': [{'@id': '60b3a124-9e4c-4b09-9bdb-817864b9a06a'}],\n",
       "    'visibility': 'PUBLIC'},\n",
       "   'id': 'c9b15e73-e991-4f56-ace9-ef33d03e5072',\n",
       "   'identity': {'@type': 'ElementIdentity',\n",
       "    'id': 'e841596f-b77e-4ee5-b345-2e92c3cba498'}},\n",
       "  {'data': {'@type': 'Import',\n",
       "    '@id': '874e7571-e0f9-4f0a-ac55-033a39c7a5fd',\n",
       "    'aliasId': [],\n",
       "    'documentation': [],\n",
       "    'documentationComment': [],\n",
       "    'effectiveName': None,\n",
       "    'humanId': None,\n",
       "    'identifier': '874e7571-e0f9-4f0a-ac55-033a39c7a5fd',\n",
       "    'importOwningNamespace': {'@id': 'db7bb250-798b-4276-acc9-06c70bccf330'},\n",
       "    'importedNamespace': {'@id': 'fb234c47-e715-4e1f-95cb-d0a93f014430'},\n",
       "    'isRecursive': False,\n",
       "    'name': None,\n",
       "    'ownedAnnotation': [],\n",
       "    'ownedElement': [],\n",
       "    'ownedRelatedElement': [],\n",
       "    'ownedRelationship': [],\n",
       "    'ownedTextualRepresentation': [],\n",
       "    'owner': None,\n",
       "    'owningMembership': None,\n",
       "    'owningNamespace': None,\n",
       "    'owningRelatedElement': {'@id': 'db7bb250-798b-4276-acc9-06c70bccf330'},\n",
       "    'owningRelationship': None,\n",
       "    'qualifiedName': None,\n",
       "    'relatedElement': [{'@id': 'db7bb250-798b-4276-acc9-06c70bccf330'},\n",
       "     {'@id': 'fb234c47-e715-4e1f-95cb-d0a93f014430'}],\n",
       "    'source': [{'@id': 'db7bb250-798b-4276-acc9-06c70bccf330'}],\n",
       "    'target': [{'@id': 'fb234c47-e715-4e1f-95cb-d0a93f014430'}],\n",
       "    'visibility': 'PUBLIC'},\n",
       "   'id': '2be400ec-93b7-4a54-a291-3e1a7aa0ad3b',\n",
       "   'identity': {'@type': 'ElementIdentity',\n",
       "    'id': '874e7571-e0f9-4f0a-ac55-033a39c7a5fd'}},\n",
       "  {'data': {'@type': 'PartDefinition',\n",
       "    '@id': 'a4e90028-b133-4388-99a2-95173243a189',\n",
       "    'aliasId': [],\n",
       "    'documentation': [],\n",
       "    'documentationComment': [],\n",
       "    'effectiveName': None,\n",
       "    'endFeature': [],\n",
       "    'feature': [],\n",
       "    'featureMembership': [],\n",
       "    'flowFeature': [],\n",
       "    'humanId': None,\n",
       "    'identifier': 'a4e90028-b133-4388-99a2-95173243a189',\n",
       "    'importedMembership': [],\n",
       "    'inheritedFeature': [],\n",
       "    'inheritedMembership': [],\n",
       "    'input': [],\n",
       "    'isAbstract': False,\n",
       "    'isConjugated': False,\n",
       "    'isSufficient': False,\n",
       "    'isVariation': False,\n",
       "    'member': [{'@id': '70d55722-38f8-4342-97ec-bef5373080c1'}],\n",
       "    'membership': [{'@id': '421afd6a-c950-44cb-b42d-4c487b383b13'}],\n",
       "    'multiplicity': None,\n",
       "    'name': 'Bicycle',\n",
       "    'output': [],\n",
       "    'ownedAction': [],\n",
       "    'ownedAllocation': [],\n",
       "    'ownedAnalysisCase': [],\n",
       "    'ownedAnnotation': [],\n",
       "    'ownedAttribute': [],\n",
       "    'ownedCalculation': [],\n",
       "    'ownedCase': [],\n",
       "    'ownedConcern': [],\n",
       "    'ownedConjugator': None,\n",
       "    'ownedConnection': [],\n",
       "    'ownedConstraint': [],\n",
       "    'ownedElement': [{'@id': '70d55722-38f8-4342-97ec-bef5373080c1'}],\n",
       "    'ownedEndFeature': [],\n",
       "    'ownedEnumeration': [],\n",
       "    'ownedFeature': [],\n",
       "    'ownedFeatureMembership': [],\n",
       "    'ownedGeneralization': [],\n",
       "    'ownedImport': [],\n",
       "    'ownedIndividual': [],\n",
       "    'ownedInterface': [],\n",
       "    'ownedItem': [],\n",
       "    'ownedMember': [{'@id': '70d55722-38f8-4342-97ec-bef5373080c1'}],\n",
       "    'ownedMembership': [{'@id': '421afd6a-c950-44cb-b42d-4c487b383b13'}],\n",
       "    'ownedPart': [],\n",
       "    'ownedPort': [],\n",
       "    'ownedReference': [],\n",
       "    'ownedRelationship': [{'@id': '421afd6a-c950-44cb-b42d-4c487b383b13'}],\n",
       "    'ownedRendering': [],\n",
       "    'ownedRequirement': [],\n",
       "    'ownedStakeholder': [],\n",
       "    'ownedState': [],\n",
       "    'ownedSuperclassing': [],\n",
       "    'ownedTextualRepresentation': [],\n",
       "    'ownedTransition': [],\n",
       "    'ownedUsage': [],\n",
       "    'ownedVerificationCase': [],\n",
       "    'ownedView': [],\n",
       "    'ownedViewpoint': [],\n",
       "    'owner': {'@id': 'db7bb250-798b-4276-acc9-06c70bccf330'},\n",
       "    'owningMembership': {'@id': '3814b28c-0cb3-4b83-b90e-4633532fcd9c'},\n",
       "    'owningNamespace': {'@id': 'db7bb250-798b-4276-acc9-06c70bccf330'},\n",
       "    'owningRelationship': {'@id': '3814b28c-0cb3-4b83-b90e-4633532fcd9c'},\n",
       "    'qualifiedName': 'jdehart_ModelExample_A::Bicycle',\n",
       "    'usage': [],\n",
       "    'variant': [],\n",
       "    'variantMembership': []},\n",
       "   'id': 'c79e3f84-a738-4227-b718-2d60674aabaf',\n",
       "   'identity': {'@type': 'ElementIdentity',\n",
       "    'id': 'a4e90028-b133-4388-99a2-95173243a189'}},\n",
       "  {'data': {'@type': 'PartDefinition',\n",
       "    '@id': '70d55722-38f8-4342-97ec-bef5373080c1',\n",
       "    'aliasId': [],\n",
       "    'documentation': [],\n",
       "    'documentationComment': [],\n",
       "    'effectiveName': None,\n",
       "    'endFeature': [],\n",
       "    'feature': [],\n",
       "    'featureMembership': [],\n",
       "    'flowFeature': [],\n",
       "    'humanId': None,\n",
       "    'identifier': '70d55722-38f8-4342-97ec-bef5373080c1',\n",
       "    'importedMembership': [],\n",
       "    'inheritedFeature': [],\n",
       "    'inheritedMembership': [],\n",
       "    'input': [],\n",
       "    'isAbstract': False,\n",
       "    'isConjugated': False,\n",
       "    'isSufficient': False,\n",
       "    'isVariation': False,\n",
       "    'member': [],\n",
       "    'membership': [],\n",
       "    'multiplicity': None,\n",
       "    'name': 'Wheel',\n",
       "    'output': [],\n",
       "    'ownedAction': [],\n",
       "    'ownedAllocation': [],\n",
       "    'ownedAnalysisCase': [],\n",
       "    'ownedAnnotation': [],\n",
       "    'ownedAttribute': [],\n",
       "    'ownedCalculation': [],\n",
       "    'ownedCase': [],\n",
       "    'ownedConcern': [],\n",
       "    'ownedConjugator': None,\n",
       "    'ownedConnection': [],\n",
       "    'ownedConstraint': [],\n",
       "    'ownedElement': [],\n",
       "    'ownedEndFeature': [],\n",
       "    'ownedEnumeration': [],\n",
       "    'ownedFeature': [],\n",
       "    'ownedFeatureMembership': [],\n",
       "    'ownedGeneralization': [],\n",
       "    'ownedImport': [],\n",
       "    'ownedIndividual': [],\n",
       "    'ownedInterface': [],\n",
       "    'ownedItem': [],\n",
       "    'ownedMember': [],\n",
       "    'ownedMembership': [],\n",
       "    'ownedPart': [],\n",
       "    'ownedPort': [],\n",
       "    'ownedReference': [],\n",
       "    'ownedRelationship': [],\n",
       "    'ownedRendering': [],\n",
       "    'ownedRequirement': [],\n",
       "    'ownedStakeholder': [],\n",
       "    'ownedState': [],\n",
       "    'ownedSuperclassing': [],\n",
       "    'ownedTextualRepresentation': [],\n",
       "    'ownedTransition': [],\n",
       "    'ownedUsage': [],\n",
       "    'ownedVerificationCase': [],\n",
       "    'ownedView': [],\n",
       "    'ownedViewpoint': [],\n",
       "    'owner': {'@id': 'a4e90028-b133-4388-99a2-95173243a189'},\n",
       "    'owningMembership': {'@id': '421afd6a-c950-44cb-b42d-4c487b383b13'},\n",
       "    'owningNamespace': {'@id': 'a4e90028-b133-4388-99a2-95173243a189'},\n",
       "    'owningRelationship': {'@id': '421afd6a-c950-44cb-b42d-4c487b383b13'},\n",
       "    'qualifiedName': 'jdehart_ModelExample_A::Bicycle::Wheel',\n",
       "    'usage': [],\n",
       "    'variant': [],\n",
       "    'variantMembership': []},\n",
       "   'id': '21685f53-7ac5-4a55-a789-13121b7597a3',\n",
       "   'identity': {'@type': 'ElementIdentity',\n",
       "    'id': '70d55722-38f8-4342-97ec-bef5373080c1'}},\n",
       "  {'data': {'@type': 'Membership',\n",
       "    '@id': '2e1aecfe-5475-4161-b46d-af917d88610a',\n",
       "    'aliasId': [],\n",
       "    'documentation': [],\n",
       "    'documentationComment': [],\n",
       "    'effectiveMemberName': None,\n",
       "    'effectiveName': None,\n",
       "    'humanId': None,\n",
       "    'identifier': '2e1aecfe-5475-4161-b46d-af917d88610a',\n",
       "    'memberElement': {'@id': '60b3a124-9e4c-4b09-9bdb-817864b9a06a'},\n",
       "    'memberName': 'Car',\n",
       "    'membershipOwningNamespace': {'@id': 'db7bb250-798b-4276-acc9-06c70bccf330'},\n",
       "    'name': None,\n",
       "    'ownedAnnotation': [],\n",
       "    'ownedElement': [],\n",
       "    'ownedMemberElement': None,\n",
       "    'ownedRelatedElement': [],\n",
       "    'ownedRelationship': [],\n",
       "    'ownedTextualRepresentation': [],\n",
       "    'owner': None,\n",
       "    'owningMembership': None,\n",
       "    'owningNamespace': None,\n",
       "    'owningRelatedElement': {'@id': 'db7bb250-798b-4276-acc9-06c70bccf330'},\n",
       "    'owningRelationship': None,\n",
       "    'qualifiedName': None,\n",
       "    'relatedElement': [{'@id': 'db7bb250-798b-4276-acc9-06c70bccf330'},\n",
       "     {'@id': '60b3a124-9e4c-4b09-9bdb-817864b9a06a'}],\n",
       "    'source': [{'@id': 'db7bb250-798b-4276-acc9-06c70bccf330'}],\n",
       "    'target': [{'@id': '60b3a124-9e4c-4b09-9bdb-817864b9a06a'}],\n",
       "    'visibility': 'PUBLIC'},\n",
       "   'id': 'c1f7ff61-b43a-43b7-9855-2f93299aad8f',\n",
       "   'identity': {'@type': 'ElementIdentity',\n",
       "    'id': '2e1aecfe-5475-4161-b46d-af917d88610a'}},\n",
       "  {'data': {'@type': 'Membership',\n",
       "    '@id': '4e2bf2c5-2346-4607-9de5-4965db25bda6',\n",
       "    'aliasId': [],\n",
       "    'documentation': [],\n",
       "    'documentationComment': [],\n",
       "    'effectiveMemberName': None,\n",
       "    'effectiveName': None,\n",
       "    'humanId': None,\n",
       "    'identifier': '4e2bf2c5-2346-4607-9de5-4965db25bda6',\n",
       "    'memberElement': {'@id': '3156e70f-5b30-4040-976c-bf510bc224c1'},\n",
       "    'memberName': 'Aeroplane',\n",
       "    'membershipOwningNamespace': {'@id': 'db7bb250-798b-4276-acc9-06c70bccf330'},\n",
       "    'name': None,\n",
       "    'ownedAnnotation': [],\n",
       "    'ownedElement': [],\n",
       "    'ownedMemberElement': {'@id': '3156e70f-5b30-4040-976c-bf510bc224c1'},\n",
       "    'ownedRelatedElement': [{'@id': '3156e70f-5b30-4040-976c-bf510bc224c1'}],\n",
       "    'ownedRelationship': [],\n",
       "    'ownedTextualRepresentation': [],\n",
       "    'owner': None,\n",
       "    'owningMembership': None,\n",
       "    'owningNamespace': None,\n",
       "    'owningRelatedElement': {'@id': 'db7bb250-798b-4276-acc9-06c70bccf330'},\n",
       "    'owningRelationship': None,\n",
       "    'qualifiedName': None,\n",
       "    'relatedElement': [{'@id': 'db7bb250-798b-4276-acc9-06c70bccf330'},\n",
       "     {'@id': '3156e70f-5b30-4040-976c-bf510bc224c1'}],\n",
       "    'source': [{'@id': 'db7bb250-798b-4276-acc9-06c70bccf330'}],\n",
       "    'target': [{'@id': '3156e70f-5b30-4040-976c-bf510bc224c1'}],\n",
       "    'visibility': 'PUBLIC'},\n",
       "   'id': '40223297-5dd2-4924-a92c-23f537aa35a2',\n",
       "   'identity': {'@type': 'ElementIdentity',\n",
       "    'id': '4e2bf2c5-2346-4607-9de5-4965db25bda6'}},\n",
       "  {'data': {'@type': 'PartDefinition',\n",
       "    '@id': '3156e70f-5b30-4040-976c-bf510bc224c1',\n",
       "    'aliasId': [],\n",
       "    'documentation': [],\n",
       "    'documentationComment': [],\n",
       "    'effectiveName': None,\n",
       "    'endFeature': [],\n",
       "    'feature': [],\n",
       "    'featureMembership': [],\n",
       "    'flowFeature': [],\n",
       "    'humanId': None,\n",
       "    'identifier': '3156e70f-5b30-4040-976c-bf510bc224c1',\n",
       "    'importedMembership': [],\n",
       "    'inheritedFeature': [],\n",
       "    'inheritedMembership': [],\n",
       "    'input': [],\n",
       "    'isAbstract': False,\n",
       "    'isConjugated': False,\n",
       "    'isSufficient': False,\n",
       "    'isVariation': False,\n",
       "    'member': [],\n",
       "    'membership': [],\n",
       "    'multiplicity': None,\n",
       "    'name': 'Aeroplane',\n",
       "    'output': [],\n",
       "    'ownedAction': [],\n",
       "    'ownedAllocation': [],\n",
       "    'ownedAnalysisCase': [],\n",
       "    'ownedAnnotation': [],\n",
       "    'ownedAttribute': [],\n",
       "    'ownedCalculation': [],\n",
       "    'ownedCase': [],\n",
       "    'ownedConcern': [],\n",
       "    'ownedConjugator': None,\n",
       "    'ownedConnection': [],\n",
       "    'ownedConstraint': [],\n",
       "    'ownedElement': [],\n",
       "    'ownedEndFeature': [],\n",
       "    'ownedEnumeration': [],\n",
       "    'ownedFeature': [],\n",
       "    'ownedFeatureMembership': [],\n",
       "    'ownedGeneralization': [],\n",
       "    'ownedImport': [],\n",
       "    'ownedIndividual': [],\n",
       "    'ownedInterface': [],\n",
       "    'ownedItem': [],\n",
       "    'ownedMember': [],\n",
       "    'ownedMembership': [],\n",
       "    'ownedPart': [],\n",
       "    'ownedPort': [],\n",
       "    'ownedReference': [],\n",
       "    'ownedRelationship': [],\n",
       "    'ownedRendering': [],\n",
       "    'ownedRequirement': [],\n",
       "    'ownedStakeholder': [],\n",
       "    'ownedState': [],\n",
       "    'ownedSuperclassing': [],\n",
       "    'ownedTextualRepresentation': [],\n",
       "    'ownedTransition': [],\n",
       "    'ownedUsage': [],\n",
       "    'ownedVerificationCase': [],\n",
       "    'ownedView': [],\n",
       "    'ownedViewpoint': [],\n",
       "    'owner': {'@id': 'db7bb250-798b-4276-acc9-06c70bccf330'},\n",
       "    'owningMembership': {'@id': '4e2bf2c5-2346-4607-9de5-4965db25bda6'},\n",
       "    'owningNamespace': {'@id': 'db7bb250-798b-4276-acc9-06c70bccf330'},\n",
       "    'owningRelationship': {'@id': '4e2bf2c5-2346-4607-9de5-4965db25bda6'},\n",
       "    'qualifiedName': 'jdehart_ModelExample_A::Aeroplane',\n",
       "    'usage': [],\n",
       "    'variant': [],\n",
       "    'variantMembership': []},\n",
       "   'id': '648c3ecf-acf3-411c-9680-2a4f83d100fb',\n",
       "   'identity': {'@type': 'ElementIdentity',\n",
       "    'id': '3156e70f-5b30-4040-976c-bf510bc224c1'}},\n",
       "  {'data': {'@type': 'Package',\n",
       "    '@id': 'db7bb250-798b-4276-acc9-06c70bccf330',\n",
       "    'aliasId': [],\n",
       "    'documentation': [],\n",
       "    'documentationComment': [],\n",
       "    'effectiveName': None,\n",
       "    'filterCondition': [],\n",
       "    'humanId': None,\n",
       "    'identifier': 'db7bb250-798b-4276-acc9-06c70bccf330',\n",
       "    'importedMembership': [],\n",
       "    'member': [{'@id': '60b3a124-9e4c-4b09-9bdb-817864b9a06a'},\n",
       "     {'@id': '3156e70f-5b30-4040-976c-bf510bc224c1'},\n",
       "     {'@id': 'a4e90028-b133-4388-99a2-95173243a189'}],\n",
       "    'membership': [{'@id': 'e841596f-b77e-4ee5-b345-2e92c3cba498'},\n",
       "     {'@id': '2e1aecfe-5475-4161-b46d-af917d88610a'},\n",
       "     {'@id': '4e2bf2c5-2346-4607-9de5-4965db25bda6'},\n",
       "     {'@id': '464f020f-94e0-44e4-bf33-c576d8c8af5a'},\n",
       "     {'@id': '3814b28c-0cb3-4b83-b90e-4633532fcd9c'}],\n",
       "    'name': 'jdehart_ModelExample_A',\n",
       "    'ownedAnnotation': [],\n",
       "    'ownedElement': [{'@id': '60b3a124-9e4c-4b09-9bdb-817864b9a06a'},\n",
       "     {'@id': '3156e70f-5b30-4040-976c-bf510bc224c1'},\n",
       "     {'@id': 'a4e90028-b133-4388-99a2-95173243a189'}],\n",
       "    'ownedImport': [{'@id': '874e7571-e0f9-4f0a-ac55-033a39c7a5fd'}],\n",
       "    'ownedMember': [{'@id': '60b3a124-9e4c-4b09-9bdb-817864b9a06a'},\n",
       "     {'@id': '3156e70f-5b30-4040-976c-bf510bc224c1'},\n",
       "     {'@id': 'a4e90028-b133-4388-99a2-95173243a189'}],\n",
       "    'ownedMembership': [{'@id': 'e841596f-b77e-4ee5-b345-2e92c3cba498'},\n",
       "     {'@id': '2e1aecfe-5475-4161-b46d-af917d88610a'},\n",
       "     {'@id': '4e2bf2c5-2346-4607-9de5-4965db25bda6'},\n",
       "     {'@id': '464f020f-94e0-44e4-bf33-c576d8c8af5a'},\n",
       "     {'@id': '3814b28c-0cb3-4b83-b90e-4633532fcd9c'}],\n",
       "    'ownedRelationship': [{'@id': '874e7571-e0f9-4f0a-ac55-033a39c7a5fd'},\n",
       "     {'@id': 'e841596f-b77e-4ee5-b345-2e92c3cba498'},\n",
       "     {'@id': '2e1aecfe-5475-4161-b46d-af917d88610a'},\n",
       "     {'@id': '4e2bf2c5-2346-4607-9de5-4965db25bda6'},\n",
       "     {'@id': '464f020f-94e0-44e4-bf33-c576d8c8af5a'},\n",
       "     {'@id': '3814b28c-0cb3-4b83-b90e-4633532fcd9c'}],\n",
       "    'ownedTextualRepresentation': [],\n",
       "    'owner': None,\n",
       "    'owningMembership': None,\n",
       "    'owningNamespace': None,\n",
       "    'owningRelationship': None,\n",
       "    'qualifiedName': 'jdehart_ModelExample_A'},\n",
       "   'id': 'a2999bed-b2dc-4472-b719-3784b58fea23',\n",
       "   'identity': {'@type': 'ElementIdentity',\n",
       "    'id': 'db7bb250-798b-4276-acc9-06c70bccf330'}},\n",
       "  {'data': {'@type': 'Membership',\n",
       "    '@id': '3814b28c-0cb3-4b83-b90e-4633532fcd9c',\n",
       "    'aliasId': [],\n",
       "    'documentation': [],\n",
       "    'documentationComment': [],\n",
       "    'effectiveMemberName': None,\n",
       "    'effectiveName': None,\n",
       "    'humanId': None,\n",
       "    'identifier': '3814b28c-0cb3-4b83-b90e-4633532fcd9c',\n",
       "    'memberElement': {'@id': 'a4e90028-b133-4388-99a2-95173243a189'},\n",
       "    'memberName': 'Bicycle',\n",
       "    'membershipOwningNamespace': {'@id': 'db7bb250-798b-4276-acc9-06c70bccf330'},\n",
       "    'name': None,\n",
       "    'ownedAnnotation': [],\n",
       "    'ownedElement': [],\n",
       "    'ownedMemberElement': {'@id': 'a4e90028-b133-4388-99a2-95173243a189'},\n",
       "    'ownedRelatedElement': [{'@id': 'a4e90028-b133-4388-99a2-95173243a189'}],\n",
       "    'ownedRelationship': [],\n",
       "    'ownedTextualRepresentation': [],\n",
       "    'owner': None,\n",
       "    'owningMembership': None,\n",
       "    'owningNamespace': None,\n",
       "    'owningRelatedElement': {'@id': 'db7bb250-798b-4276-acc9-06c70bccf330'},\n",
       "    'owningRelationship': None,\n",
       "    'qualifiedName': None,\n",
       "    'relatedElement': [{'@id': 'db7bb250-798b-4276-acc9-06c70bccf330'},\n",
       "     {'@id': 'a4e90028-b133-4388-99a2-95173243a189'}],\n",
       "    'source': [{'@id': 'db7bb250-798b-4276-acc9-06c70bccf330'}],\n",
       "    'target': [{'@id': 'a4e90028-b133-4388-99a2-95173243a189'}],\n",
       "    'visibility': 'PUBLIC'},\n",
       "   'id': '2a7473db-a7d3-4cb0-adcb-11aa97f588ac',\n",
       "   'identity': {'@type': 'ElementIdentity',\n",
       "    'id': '3814b28c-0cb3-4b83-b90e-4633532fcd9c'}},\n",
       "  {'data': {'@type': 'Membership',\n",
       "    '@id': '464f020f-94e0-44e4-bf33-c576d8c8af5a',\n",
       "    'aliasId': [],\n",
       "    'documentation': [],\n",
       "    'documentationComment': [],\n",
       "    'effectiveMemberName': None,\n",
       "    'effectiveName': None,\n",
       "    'humanId': None,\n",
       "    'identifier': '464f020f-94e0-44e4-bf33-c576d8c8af5a',\n",
       "    'memberElement': {'@id': '3156e70f-5b30-4040-976c-bf510bc224c1'},\n",
       "    'memberName': 'Jet',\n",
       "    'membershipOwningNamespace': {'@id': 'db7bb250-798b-4276-acc9-06c70bccf330'},\n",
       "    'name': None,\n",
       "    'ownedAnnotation': [],\n",
       "    'ownedElement': [],\n",
       "    'ownedMemberElement': None,\n",
       "    'ownedRelatedElement': [],\n",
       "    'ownedRelationship': [],\n",
       "    'ownedTextualRepresentation': [],\n",
       "    'owner': None,\n",
       "    'owningMembership': None,\n",
       "    'owningNamespace': None,\n",
       "    'owningRelatedElement': {'@id': 'db7bb250-798b-4276-acc9-06c70bccf330'},\n",
       "    'owningRelationship': None,\n",
       "    'qualifiedName': None,\n",
       "    'relatedElement': [{'@id': 'db7bb250-798b-4276-acc9-06c70bccf330'},\n",
       "     {'@id': '3156e70f-5b30-4040-976c-bf510bc224c1'}],\n",
       "    'source': [{'@id': 'db7bb250-798b-4276-acc9-06c70bccf330'}],\n",
       "    'target': [{'@id': '3156e70f-5b30-4040-976c-bf510bc224c1'}],\n",
       "    'visibility': 'PUBLIC'},\n",
       "   'id': '390622ef-5b20-4dbe-b55c-e7aa08cdd810',\n",
       "   'identity': {'@type': 'ElementIdentity',\n",
       "    'id': '464f020f-94e0-44e4-bf33-c576d8c8af5a'}},\n",
       "  {'data': {'@type': 'PartDefinition',\n",
       "    '@id': '60b3a124-9e4c-4b09-9bdb-817864b9a06a',\n",
       "    'aliasId': [],\n",
       "    'documentation': [],\n",
       "    'documentationComment': [],\n",
       "    'effectiveName': None,\n",
       "    'endFeature': [],\n",
       "    'feature': [],\n",
       "    'featureMembership': [],\n",
       "    'flowFeature': [],\n",
       "    'humanId': None,\n",
       "    'identifier': '60b3a124-9e4c-4b09-9bdb-817864b9a06a',\n",
       "    'importedMembership': [],\n",
       "    'inheritedFeature': [],\n",
       "    'inheritedMembership': [],\n",
       "    'input': [],\n",
       "    'isAbstract': False,\n",
       "    'isConjugated': False,\n",
       "    'isSufficient': False,\n",
       "    'isVariation': False,\n",
       "    'member': [],\n",
       "    'membership': [],\n",
       "    'multiplicity': None,\n",
       "    'name': 'Automobile',\n",
       "    'output': [],\n",
       "    'ownedAction': [],\n",
       "    'ownedAllocation': [],\n",
       "    'ownedAnalysisCase': [],\n",
       "    'ownedAnnotation': [],\n",
       "    'ownedAttribute': [],\n",
       "    'ownedCalculation': [],\n",
       "    'ownedCase': [],\n",
       "    'ownedConcern': [],\n",
       "    'ownedConjugator': None,\n",
       "    'ownedConnection': [],\n",
       "    'ownedConstraint': [],\n",
       "    'ownedElement': [],\n",
       "    'ownedEndFeature': [],\n",
       "    'ownedEnumeration': [],\n",
       "    'ownedFeature': [],\n",
       "    'ownedFeatureMembership': [],\n",
       "    'ownedGeneralization': [],\n",
       "    'ownedImport': [],\n",
       "    'ownedIndividual': [],\n",
       "    'ownedInterface': [],\n",
       "    'ownedItem': [],\n",
       "    'ownedMember': [],\n",
       "    'ownedMembership': [],\n",
       "    'ownedPart': [],\n",
       "    'ownedPort': [],\n",
       "    'ownedReference': [],\n",
       "    'ownedRelationship': [],\n",
       "    'ownedRendering': [],\n",
       "    'ownedRequirement': [],\n",
       "    'ownedStakeholder': [],\n",
       "    'ownedState': [],\n",
       "    'ownedSuperclassing': [],\n",
       "    'ownedTextualRepresentation': [],\n",
       "    'ownedTransition': [],\n",
       "    'ownedUsage': [],\n",
       "    'ownedVerificationCase': [],\n",
       "    'ownedView': [],\n",
       "    'ownedViewpoint': [],\n",
       "    'owner': {'@id': 'db7bb250-798b-4276-acc9-06c70bccf330'},\n",
       "    'owningMembership': {'@id': 'e841596f-b77e-4ee5-b345-2e92c3cba498'},\n",
       "    'owningNamespace': {'@id': 'db7bb250-798b-4276-acc9-06c70bccf330'},\n",
       "    'owningRelationship': {'@id': 'e841596f-b77e-4ee5-b345-2e92c3cba498'},\n",
       "    'qualifiedName': 'jdehart_ModelExample_A::Automobile',\n",
       "    'usage': [],\n",
       "    'variant': [],\n",
       "    'variantMembership': []},\n",
       "   'id': '9c1ca97f-1640-4717-8eff-5a7408efd26d',\n",
       "   'identity': {'@type': 'ElementIdentity',\n",
       "    'id': '60b3a124-9e4c-4b09-9bdb-817864b9a06a'}}],\n",
       " 'id': 'b75c7be7-e142-4c7b-8af8-592374a0bf75',\n",
       " 'owningProject': {'id': '488b7990-0f19-4728-9c9b-39d96b686e2d'},\n",
       " 'previousCommit': None,\n",
       " 'timestamp': '2021-06-04T07:12:18.224443-04:00'}"
      ]
     },
     "execution_count": 1,
     "metadata": {},
     "output_type": "execute_result"
    }
   ],
   "source": [
    "# import urllib library\n",
    "from urllib.request import urlopen\n",
    "\n",
    "# import json\n",
    "import json\n",
    "# store the URL in url as\n",
    "# parameter for urlopen\n",
    "\n",
    "site_URL = \"http://sysml2.intercax.com:9000/projects/\"\n",
    "model_UID = \"488b7990-0f19-4728-9c9b-39d96b686e2d\"\n",
    "commit_UID = \"b75c7be7-e142-4c7b-8af8-592374a0bf75\"\n",
    "getType = \"commits\"\n",
    "\n",
    "url = (site_URL + model_UID + \"/\" + getType + \"/\" + commit_UID)\n",
    "\n",
    "# store the response of URL\n",
    "response = urlopen(url)\n",
    "\n",
    "# storing the JSON response\n",
    "# from url in data\n",
    "data_json = json.loads(response.read())\n",
    "\n",
    "# print the json response\n",
    "data_json"
   ]
  },
  {
   "cell_type": "markdown",
   "id": "aafe2017-8ff2-4146-9bd4-f3d4db672869",
   "metadata": {},
   "source": [
    "### Now lets put this json into a data tree..."
   ]
  },
  {
   "cell_type": "code",
   "execution_count": 2,
   "id": "52b90c3f-ce6c-43c1-a17b-8b977517ed01",
   "metadata": {},
   "outputs": [
    {
     "data": {
      "application/json": {
       "@type": "Commit",
       "change": [
        {
         "data": {
          "@id": "4e2bf2c5-2346-4607-9de5-4965db25bda6",
          "@type": "Membership",
          "aliasId": [],
          "documentation": [],
          "documentationComment": [],
          "effectiveMemberName": null,
          "effectiveName": null,
          "humanId": null,
          "identifier": "4e2bf2c5-2346-4607-9de5-4965db25bda6",
          "memberElement": {
           "@id": "3156e70f-5b30-4040-976c-bf510bc224c1"
          },
          "memberName": "Aeroplane",
          "membershipOwningNamespace": {
           "@id": "db7bb250-798b-4276-acc9-06c70bccf330"
          },
          "name": null,
          "ownedAnnotation": [],
          "ownedElement": [],
          "ownedMemberElement": {
           "@id": "3156e70f-5b30-4040-976c-bf510bc224c1"
          },
          "ownedRelatedElement": [
           {
            "@id": "3156e70f-5b30-4040-976c-bf510bc224c1"
           }
          ],
          "ownedRelationship": [],
          "ownedTextualRepresentation": [],
          "owner": null,
          "owningMembership": null,
          "owningNamespace": null,
          "owningRelatedElement": {
           "@id": "db7bb250-798b-4276-acc9-06c70bccf330"
          },
          "owningRelationship": null,
          "qualifiedName": null,
          "relatedElement": [
           {
            "@id": "db7bb250-798b-4276-acc9-06c70bccf330"
           },
           {
            "@id": "3156e70f-5b30-4040-976c-bf510bc224c1"
           }
          ],
          "source": [
           {
            "@id": "db7bb250-798b-4276-acc9-06c70bccf330"
           }
          ],
          "target": [
           {
            "@id": "3156e70f-5b30-4040-976c-bf510bc224c1"
           }
          ],
          "visibility": "PUBLIC"
         },
         "id": "40223297-5dd2-4924-a92c-23f537aa35a2",
         "identity": {
          "@type": "ElementIdentity",
          "id": "4e2bf2c5-2346-4607-9de5-4965db25bda6"
         }
        },
        {
         "data": {
          "@id": "db7bb250-798b-4276-acc9-06c70bccf330",
          "@type": "Package",
          "aliasId": [],
          "documentation": [],
          "documentationComment": [],
          "effectiveName": null,
          "filterCondition": [],
          "humanId": null,
          "identifier": "db7bb250-798b-4276-acc9-06c70bccf330",
          "importedMembership": [],
          "member": [
           {
            "@id": "60b3a124-9e4c-4b09-9bdb-817864b9a06a"
           },
           {
            "@id": "3156e70f-5b30-4040-976c-bf510bc224c1"
           },
           {
            "@id": "a4e90028-b133-4388-99a2-95173243a189"
           }
          ],
          "membership": [
           {
            "@id": "e841596f-b77e-4ee5-b345-2e92c3cba498"
           },
           {
            "@id": "2e1aecfe-5475-4161-b46d-af917d88610a"
           },
           {
            "@id": "4e2bf2c5-2346-4607-9de5-4965db25bda6"
           },
           {
            "@id": "464f020f-94e0-44e4-bf33-c576d8c8af5a"
           },
           {
            "@id": "3814b28c-0cb3-4b83-b90e-4633532fcd9c"
           }
          ],
          "name": "jdehart_ModelExample_A",
          "ownedAnnotation": [],
          "ownedElement": [
           {
            "@id": "60b3a124-9e4c-4b09-9bdb-817864b9a06a"
           },
           {
            "@id": "3156e70f-5b30-4040-976c-bf510bc224c1"
           },
           {
            "@id": "a4e90028-b133-4388-99a2-95173243a189"
           }
          ],
          "ownedImport": [
           {
            "@id": "874e7571-e0f9-4f0a-ac55-033a39c7a5fd"
           }
          ],
          "ownedMember": [
           {
            "@id": "60b3a124-9e4c-4b09-9bdb-817864b9a06a"
           },
           {
            "@id": "3156e70f-5b30-4040-976c-bf510bc224c1"
           },
           {
            "@id": "a4e90028-b133-4388-99a2-95173243a189"
           }
          ],
          "ownedMembership": [
           {
            "@id": "e841596f-b77e-4ee5-b345-2e92c3cba498"
           },
           {
            "@id": "2e1aecfe-5475-4161-b46d-af917d88610a"
           },
           {
            "@id": "4e2bf2c5-2346-4607-9de5-4965db25bda6"
           },
           {
            "@id": "464f020f-94e0-44e4-bf33-c576d8c8af5a"
           },
           {
            "@id": "3814b28c-0cb3-4b83-b90e-4633532fcd9c"
           }
          ],
          "ownedRelationship": [
           {
            "@id": "874e7571-e0f9-4f0a-ac55-033a39c7a5fd"
           },
           {
            "@id": "e841596f-b77e-4ee5-b345-2e92c3cba498"
           },
           {
            "@id": "2e1aecfe-5475-4161-b46d-af917d88610a"
           },
           {
            "@id": "4e2bf2c5-2346-4607-9de5-4965db25bda6"
           },
           {
            "@id": "464f020f-94e0-44e4-bf33-c576d8c8af5a"
           },
           {
            "@id": "3814b28c-0cb3-4b83-b90e-4633532fcd9c"
           }
          ],
          "ownedTextualRepresentation": [],
          "owner": null,
          "owningMembership": null,
          "owningNamespace": null,
          "owningRelationship": null,
          "qualifiedName": "jdehart_ModelExample_A"
         },
         "id": "a2999bed-b2dc-4472-b719-3784b58fea23",
         "identity": {
          "@type": "ElementIdentity",
          "id": "db7bb250-798b-4276-acc9-06c70bccf330"
         }
        },
        {
         "data": {
          "@id": "2e1aecfe-5475-4161-b46d-af917d88610a",
          "@type": "Membership",
          "aliasId": [],
          "documentation": [],
          "documentationComment": [],
          "effectiveMemberName": null,
          "effectiveName": null,
          "humanId": null,
          "identifier": "2e1aecfe-5475-4161-b46d-af917d88610a",
          "memberElement": {
           "@id": "60b3a124-9e4c-4b09-9bdb-817864b9a06a"
          },
          "memberName": "Car",
          "membershipOwningNamespace": {
           "@id": "db7bb250-798b-4276-acc9-06c70bccf330"
          },
          "name": null,
          "ownedAnnotation": [],
          "ownedElement": [],
          "ownedMemberElement": null,
          "ownedRelatedElement": [],
          "ownedRelationship": [],
          "ownedTextualRepresentation": [],
          "owner": null,
          "owningMembership": null,
          "owningNamespace": null,
          "owningRelatedElement": {
           "@id": "db7bb250-798b-4276-acc9-06c70bccf330"
          },
          "owningRelationship": null,
          "qualifiedName": null,
          "relatedElement": [
           {
            "@id": "db7bb250-798b-4276-acc9-06c70bccf330"
           },
           {
            "@id": "60b3a124-9e4c-4b09-9bdb-817864b9a06a"
           }
          ],
          "source": [
           {
            "@id": "db7bb250-798b-4276-acc9-06c70bccf330"
           }
          ],
          "target": [
           {
            "@id": "60b3a124-9e4c-4b09-9bdb-817864b9a06a"
           }
          ],
          "visibility": "PUBLIC"
         },
         "id": "c1f7ff61-b43a-43b7-9855-2f93299aad8f",
         "identity": {
          "@type": "ElementIdentity",
          "id": "2e1aecfe-5475-4161-b46d-af917d88610a"
         }
        },
        {
         "data": {
          "@id": "3156e70f-5b30-4040-976c-bf510bc224c1",
          "@type": "PartDefinition",
          "aliasId": [],
          "documentation": [],
          "documentationComment": [],
          "effectiveName": null,
          "endFeature": [],
          "feature": [],
          "featureMembership": [],
          "flowFeature": [],
          "humanId": null,
          "identifier": "3156e70f-5b30-4040-976c-bf510bc224c1",
          "importedMembership": [],
          "inheritedFeature": [],
          "inheritedMembership": [],
          "input": [],
          "isAbstract": false,
          "isConjugated": false,
          "isSufficient": false,
          "isVariation": false,
          "member": [],
          "membership": [],
          "multiplicity": null,
          "name": "Aeroplane",
          "output": [],
          "ownedAction": [],
          "ownedAllocation": [],
          "ownedAnalysisCase": [],
          "ownedAnnotation": [],
          "ownedAttribute": [],
          "ownedCalculation": [],
          "ownedCase": [],
          "ownedConcern": [],
          "ownedConjugator": null,
          "ownedConnection": [],
          "ownedConstraint": [],
          "ownedElement": [],
          "ownedEndFeature": [],
          "ownedEnumeration": [],
          "ownedFeature": [],
          "ownedFeatureMembership": [],
          "ownedGeneralization": [],
          "ownedImport": [],
          "ownedIndividual": [],
          "ownedInterface": [],
          "ownedItem": [],
          "ownedMember": [],
          "ownedMembership": [],
          "ownedPart": [],
          "ownedPort": [],
          "ownedReference": [],
          "ownedRelationship": [],
          "ownedRendering": [],
          "ownedRequirement": [],
          "ownedStakeholder": [],
          "ownedState": [],
          "ownedSuperclassing": [],
          "ownedTextualRepresentation": [],
          "ownedTransition": [],
          "ownedUsage": [],
          "ownedVerificationCase": [],
          "ownedView": [],
          "ownedViewpoint": [],
          "owner": {
           "@id": "db7bb250-798b-4276-acc9-06c70bccf330"
          },
          "owningMembership": {
           "@id": "4e2bf2c5-2346-4607-9de5-4965db25bda6"
          },
          "owningNamespace": {
           "@id": "db7bb250-798b-4276-acc9-06c70bccf330"
          },
          "owningRelationship": {
           "@id": "4e2bf2c5-2346-4607-9de5-4965db25bda6"
          },
          "qualifiedName": "jdehart_ModelExample_A::Aeroplane",
          "usage": [],
          "variant": [],
          "variantMembership": []
         },
         "id": "648c3ecf-acf3-411c-9680-2a4f83d100fb",
         "identity": {
          "@type": "ElementIdentity",
          "id": "3156e70f-5b30-4040-976c-bf510bc224c1"
         }
        },
        {
         "data": {
          "@id": "a4e90028-b133-4388-99a2-95173243a189",
          "@type": "PartDefinition",
          "aliasId": [],
          "documentation": [],
          "documentationComment": [],
          "effectiveName": null,
          "endFeature": [],
          "feature": [],
          "featureMembership": [],
          "flowFeature": [],
          "humanId": null,
          "identifier": "a4e90028-b133-4388-99a2-95173243a189",
          "importedMembership": [],
          "inheritedFeature": [],
          "inheritedMembership": [],
          "input": [],
          "isAbstract": false,
          "isConjugated": false,
          "isSufficient": false,
          "isVariation": false,
          "member": [
           {
            "@id": "70d55722-38f8-4342-97ec-bef5373080c1"
           }
          ],
          "membership": [
           {
            "@id": "421afd6a-c950-44cb-b42d-4c487b383b13"
           }
          ],
          "multiplicity": null,
          "name": "Bicycle",
          "output": [],
          "ownedAction": [],
          "ownedAllocation": [],
          "ownedAnalysisCase": [],
          "ownedAnnotation": [],
          "ownedAttribute": [],
          "ownedCalculation": [],
          "ownedCase": [],
          "ownedConcern": [],
          "ownedConjugator": null,
          "ownedConnection": [],
          "ownedConstraint": [],
          "ownedElement": [
           {
            "@id": "70d55722-38f8-4342-97ec-bef5373080c1"
           }
          ],
          "ownedEndFeature": [],
          "ownedEnumeration": [],
          "ownedFeature": [],
          "ownedFeatureMembership": [],
          "ownedGeneralization": [],
          "ownedImport": [],
          "ownedIndividual": [],
          "ownedInterface": [],
          "ownedItem": [],
          "ownedMember": [
           {
            "@id": "70d55722-38f8-4342-97ec-bef5373080c1"
           }
          ],
          "ownedMembership": [
           {
            "@id": "421afd6a-c950-44cb-b42d-4c487b383b13"
           }
          ],
          "ownedPart": [],
          "ownedPort": [],
          "ownedReference": [],
          "ownedRelationship": [
           {
            "@id": "421afd6a-c950-44cb-b42d-4c487b383b13"
           }
          ],
          "ownedRendering": [],
          "ownedRequirement": [],
          "ownedStakeholder": [],
          "ownedState": [],
          "ownedSuperclassing": [],
          "ownedTextualRepresentation": [],
          "ownedTransition": [],
          "ownedUsage": [],
          "ownedVerificationCase": [],
          "ownedView": [],
          "ownedViewpoint": [],
          "owner": {
           "@id": "db7bb250-798b-4276-acc9-06c70bccf330"
          },
          "owningMembership": {
           "@id": "3814b28c-0cb3-4b83-b90e-4633532fcd9c"
          },
          "owningNamespace": {
           "@id": "db7bb250-798b-4276-acc9-06c70bccf330"
          },
          "owningRelationship": {
           "@id": "3814b28c-0cb3-4b83-b90e-4633532fcd9c"
          },
          "qualifiedName": "jdehart_ModelExample_A::Bicycle",
          "usage": [],
          "variant": [],
          "variantMembership": []
         },
         "id": "c79e3f84-a738-4227-b718-2d60674aabaf",
         "identity": {
          "@type": "ElementIdentity",
          "id": "a4e90028-b133-4388-99a2-95173243a189"
         }
        },
        {
         "data": {
          "@id": "3814b28c-0cb3-4b83-b90e-4633532fcd9c",
          "@type": "Membership",
          "aliasId": [],
          "documentation": [],
          "documentationComment": [],
          "effectiveMemberName": null,
          "effectiveName": null,
          "humanId": null,
          "identifier": "3814b28c-0cb3-4b83-b90e-4633532fcd9c",
          "memberElement": {
           "@id": "a4e90028-b133-4388-99a2-95173243a189"
          },
          "memberName": "Bicycle",
          "membershipOwningNamespace": {
           "@id": "db7bb250-798b-4276-acc9-06c70bccf330"
          },
          "name": null,
          "ownedAnnotation": [],
          "ownedElement": [],
          "ownedMemberElement": {
           "@id": "a4e90028-b133-4388-99a2-95173243a189"
          },
          "ownedRelatedElement": [
           {
            "@id": "a4e90028-b133-4388-99a2-95173243a189"
           }
          ],
          "ownedRelationship": [],
          "ownedTextualRepresentation": [],
          "owner": null,
          "owningMembership": null,
          "owningNamespace": null,
          "owningRelatedElement": {
           "@id": "db7bb250-798b-4276-acc9-06c70bccf330"
          },
          "owningRelationship": null,
          "qualifiedName": null,
          "relatedElement": [
           {
            "@id": "db7bb250-798b-4276-acc9-06c70bccf330"
           },
           {
            "@id": "a4e90028-b133-4388-99a2-95173243a189"
           }
          ],
          "source": [
           {
            "@id": "db7bb250-798b-4276-acc9-06c70bccf330"
           }
          ],
          "target": [
           {
            "@id": "a4e90028-b133-4388-99a2-95173243a189"
           }
          ],
          "visibility": "PUBLIC"
         },
         "id": "2a7473db-a7d3-4cb0-adcb-11aa97f588ac",
         "identity": {
          "@type": "ElementIdentity",
          "id": "3814b28c-0cb3-4b83-b90e-4633532fcd9c"
         }
        },
        {
         "data": {
          "@id": "421afd6a-c950-44cb-b42d-4c487b383b13",
          "@type": "Membership",
          "aliasId": [],
          "documentation": [],
          "documentationComment": [],
          "effectiveMemberName": null,
          "effectiveName": null,
          "humanId": null,
          "identifier": "421afd6a-c950-44cb-b42d-4c487b383b13",
          "memberElement": {
           "@id": "70d55722-38f8-4342-97ec-bef5373080c1"
          },
          "memberName": "Wheel",
          "membershipOwningNamespace": {
           "@id": "a4e90028-b133-4388-99a2-95173243a189"
          },
          "name": null,
          "ownedAnnotation": [],
          "ownedElement": [],
          "ownedMemberElement": {
           "@id": "70d55722-38f8-4342-97ec-bef5373080c1"
          },
          "ownedRelatedElement": [
           {
            "@id": "70d55722-38f8-4342-97ec-bef5373080c1"
           }
          ],
          "ownedRelationship": [],
          "ownedTextualRepresentation": [],
          "owner": null,
          "owningMembership": null,
          "owningNamespace": null,
          "owningRelatedElement": {
           "@id": "a4e90028-b133-4388-99a2-95173243a189"
          },
          "owningRelationship": null,
          "qualifiedName": null,
          "relatedElement": [
           {
            "@id": "a4e90028-b133-4388-99a2-95173243a189"
           },
           {
            "@id": "70d55722-38f8-4342-97ec-bef5373080c1"
           }
          ],
          "source": [
           {
            "@id": "a4e90028-b133-4388-99a2-95173243a189"
           }
          ],
          "target": [
           {
            "@id": "70d55722-38f8-4342-97ec-bef5373080c1"
           }
          ],
          "visibility": "PUBLIC"
         },
         "id": "1b4ed4b8-d2ad-455e-9f8c-0bec76e69615",
         "identity": {
          "@type": "ElementIdentity",
          "id": "421afd6a-c950-44cb-b42d-4c487b383b13"
         }
        },
        {
         "data": {
          "@id": "70d55722-38f8-4342-97ec-bef5373080c1",
          "@type": "PartDefinition",
          "aliasId": [],
          "documentation": [],
          "documentationComment": [],
          "effectiveName": null,
          "endFeature": [],
          "feature": [],
          "featureMembership": [],
          "flowFeature": [],
          "humanId": null,
          "identifier": "70d55722-38f8-4342-97ec-bef5373080c1",
          "importedMembership": [],
          "inheritedFeature": [],
          "inheritedMembership": [],
          "input": [],
          "isAbstract": false,
          "isConjugated": false,
          "isSufficient": false,
          "isVariation": false,
          "member": [],
          "membership": [],
          "multiplicity": null,
          "name": "Wheel",
          "output": [],
          "ownedAction": [],
          "ownedAllocation": [],
          "ownedAnalysisCase": [],
          "ownedAnnotation": [],
          "ownedAttribute": [],
          "ownedCalculation": [],
          "ownedCase": [],
          "ownedConcern": [],
          "ownedConjugator": null,
          "ownedConnection": [],
          "ownedConstraint": [],
          "ownedElement": [],
          "ownedEndFeature": [],
          "ownedEnumeration": [],
          "ownedFeature": [],
          "ownedFeatureMembership": [],
          "ownedGeneralization": [],
          "ownedImport": [],
          "ownedIndividual": [],
          "ownedInterface": [],
          "ownedItem": [],
          "ownedMember": [],
          "ownedMembership": [],
          "ownedPart": [],
          "ownedPort": [],
          "ownedReference": [],
          "ownedRelationship": [],
          "ownedRendering": [],
          "ownedRequirement": [],
          "ownedStakeholder": [],
          "ownedState": [],
          "ownedSuperclassing": [],
          "ownedTextualRepresentation": [],
          "ownedTransition": [],
          "ownedUsage": [],
          "ownedVerificationCase": [],
          "ownedView": [],
          "ownedViewpoint": [],
          "owner": {
           "@id": "a4e90028-b133-4388-99a2-95173243a189"
          },
          "owningMembership": {
           "@id": "421afd6a-c950-44cb-b42d-4c487b383b13"
          },
          "owningNamespace": {
           "@id": "a4e90028-b133-4388-99a2-95173243a189"
          },
          "owningRelationship": {
           "@id": "421afd6a-c950-44cb-b42d-4c487b383b13"
          },
          "qualifiedName": "jdehart_ModelExample_A::Bicycle::Wheel",
          "usage": [],
          "variant": [],
          "variantMembership": []
         },
         "id": "21685f53-7ac5-4a55-a789-13121b7597a3",
         "identity": {
          "@type": "ElementIdentity",
          "id": "70d55722-38f8-4342-97ec-bef5373080c1"
         }
        },
        {
         "data": {
          "@id": "e841596f-b77e-4ee5-b345-2e92c3cba498",
          "@type": "Membership",
          "aliasId": [],
          "documentation": [],
          "documentationComment": [],
          "effectiveMemberName": null,
          "effectiveName": null,
          "humanId": null,
          "identifier": "e841596f-b77e-4ee5-b345-2e92c3cba498",
          "memberElement": {
           "@id": "60b3a124-9e4c-4b09-9bdb-817864b9a06a"
          },
          "memberName": "Automobile",
          "membershipOwningNamespace": {
           "@id": "db7bb250-798b-4276-acc9-06c70bccf330"
          },
          "name": null,
          "ownedAnnotation": [],
          "ownedElement": [],
          "ownedMemberElement": {
           "@id": "60b3a124-9e4c-4b09-9bdb-817864b9a06a"
          },
          "ownedRelatedElement": [
           {
            "@id": "60b3a124-9e4c-4b09-9bdb-817864b9a06a"
           }
          ],
          "ownedRelationship": [],
          "ownedTextualRepresentation": [],
          "owner": null,
          "owningMembership": null,
          "owningNamespace": null,
          "owningRelatedElement": {
           "@id": "db7bb250-798b-4276-acc9-06c70bccf330"
          },
          "owningRelationship": null,
          "qualifiedName": null,
          "relatedElement": [
           {
            "@id": "db7bb250-798b-4276-acc9-06c70bccf330"
           },
           {
            "@id": "60b3a124-9e4c-4b09-9bdb-817864b9a06a"
           }
          ],
          "source": [
           {
            "@id": "db7bb250-798b-4276-acc9-06c70bccf330"
           }
          ],
          "target": [
           {
            "@id": "60b3a124-9e4c-4b09-9bdb-817864b9a06a"
           }
          ],
          "visibility": "PUBLIC"
         },
         "id": "c9b15e73-e991-4f56-ace9-ef33d03e5072",
         "identity": {
          "@type": "ElementIdentity",
          "id": "e841596f-b77e-4ee5-b345-2e92c3cba498"
         }
        },
        {
         "data": {
          "@id": "fb234c47-e715-4e1f-95cb-d0a93f014430",
          "@type": "Package",
          "aliasId": [],
          "documentation": [],
          "documentationComment": [],
          "effectiveName": null,
          "filterCondition": [],
          "humanId": null,
          "identifier": "fb234c47-e715-4e1f-95cb-d0a93f014430",
          "importedMembership": [],
          "member": [],
          "membership": [],
          "name": "ScalarValues",
          "ownedAnnotation": [],
          "ownedElement": [],
          "ownedImport": [],
          "ownedMember": [],
          "ownedMembership": [],
          "ownedRelationship": [],
          "ownedTextualRepresentation": [],
          "owner": null,
          "owningMembership": null,
          "owningNamespace": null,
          "owningRelationship": null,
          "qualifiedName": "ScalarValues"
         },
         "id": "c8a80b1c-faac-4ec9-a152-76a474b32be7",
         "identity": {
          "@type": "ElementIdentity",
          "id": "fb234c47-e715-4e1f-95cb-d0a93f014430"
         }
        },
        {
         "data": {
          "@id": "874e7571-e0f9-4f0a-ac55-033a39c7a5fd",
          "@type": "Import",
          "aliasId": [],
          "documentation": [],
          "documentationComment": [],
          "effectiveName": null,
          "humanId": null,
          "identifier": "874e7571-e0f9-4f0a-ac55-033a39c7a5fd",
          "importOwningNamespace": {
           "@id": "db7bb250-798b-4276-acc9-06c70bccf330"
          },
          "importedNamespace": {
           "@id": "fb234c47-e715-4e1f-95cb-d0a93f014430"
          },
          "isRecursive": false,
          "name": null,
          "ownedAnnotation": [],
          "ownedElement": [],
          "ownedRelatedElement": [],
          "ownedRelationship": [],
          "ownedTextualRepresentation": [],
          "owner": null,
          "owningMembership": null,
          "owningNamespace": null,
          "owningRelatedElement": {
           "@id": "db7bb250-798b-4276-acc9-06c70bccf330"
          },
          "owningRelationship": null,
          "qualifiedName": null,
          "relatedElement": [
           {
            "@id": "db7bb250-798b-4276-acc9-06c70bccf330"
           },
           {
            "@id": "fb234c47-e715-4e1f-95cb-d0a93f014430"
           }
          ],
          "source": [
           {
            "@id": "db7bb250-798b-4276-acc9-06c70bccf330"
           }
          ],
          "target": [
           {
            "@id": "fb234c47-e715-4e1f-95cb-d0a93f014430"
           }
          ],
          "visibility": "PUBLIC"
         },
         "id": "2be400ec-93b7-4a54-a291-3e1a7aa0ad3b",
         "identity": {
          "@type": "ElementIdentity",
          "id": "874e7571-e0f9-4f0a-ac55-033a39c7a5fd"
         }
        },
        {
         "data": {
          "@id": "464f020f-94e0-44e4-bf33-c576d8c8af5a",
          "@type": "Membership",
          "aliasId": [],
          "documentation": [],
          "documentationComment": [],
          "effectiveMemberName": null,
          "effectiveName": null,
          "humanId": null,
          "identifier": "464f020f-94e0-44e4-bf33-c576d8c8af5a",
          "memberElement": {
           "@id": "3156e70f-5b30-4040-976c-bf510bc224c1"
          },
          "memberName": "Jet",
          "membershipOwningNamespace": {
           "@id": "db7bb250-798b-4276-acc9-06c70bccf330"
          },
          "name": null,
          "ownedAnnotation": [],
          "ownedElement": [],
          "ownedMemberElement": null,
          "ownedRelatedElement": [],
          "ownedRelationship": [],
          "ownedTextualRepresentation": [],
          "owner": null,
          "owningMembership": null,
          "owningNamespace": null,
          "owningRelatedElement": {
           "@id": "db7bb250-798b-4276-acc9-06c70bccf330"
          },
          "owningRelationship": null,
          "qualifiedName": null,
          "relatedElement": [
           {
            "@id": "db7bb250-798b-4276-acc9-06c70bccf330"
           },
           {
            "@id": "3156e70f-5b30-4040-976c-bf510bc224c1"
           }
          ],
          "source": [
           {
            "@id": "db7bb250-798b-4276-acc9-06c70bccf330"
           }
          ],
          "target": [
           {
            "@id": "3156e70f-5b30-4040-976c-bf510bc224c1"
           }
          ],
          "visibility": "PUBLIC"
         },
         "id": "390622ef-5b20-4dbe-b55c-e7aa08cdd810",
         "identity": {
          "@type": "ElementIdentity",
          "id": "464f020f-94e0-44e4-bf33-c576d8c8af5a"
         }
        },
        {
         "data": {
          "@id": "60b3a124-9e4c-4b09-9bdb-817864b9a06a",
          "@type": "PartDefinition",
          "aliasId": [],
          "documentation": [],
          "documentationComment": [],
          "effectiveName": null,
          "endFeature": [],
          "feature": [],
          "featureMembership": [],
          "flowFeature": [],
          "humanId": null,
          "identifier": "60b3a124-9e4c-4b09-9bdb-817864b9a06a",
          "importedMembership": [],
          "inheritedFeature": [],
          "inheritedMembership": [],
          "input": [],
          "isAbstract": false,
          "isConjugated": false,
          "isSufficient": false,
          "isVariation": false,
          "member": [],
          "membership": [],
          "multiplicity": null,
          "name": "Automobile",
          "output": [],
          "ownedAction": [],
          "ownedAllocation": [],
          "ownedAnalysisCase": [],
          "ownedAnnotation": [],
          "ownedAttribute": [],
          "ownedCalculation": [],
          "ownedCase": [],
          "ownedConcern": [],
          "ownedConjugator": null,
          "ownedConnection": [],
          "ownedConstraint": [],
          "ownedElement": [],
          "ownedEndFeature": [],
          "ownedEnumeration": [],
          "ownedFeature": [],
          "ownedFeatureMembership": [],
          "ownedGeneralization": [],
          "ownedImport": [],
          "ownedIndividual": [],
          "ownedInterface": [],
          "ownedItem": [],
          "ownedMember": [],
          "ownedMembership": [],
          "ownedPart": [],
          "ownedPort": [],
          "ownedReference": [],
          "ownedRelationship": [],
          "ownedRendering": [],
          "ownedRequirement": [],
          "ownedStakeholder": [],
          "ownedState": [],
          "ownedSuperclassing": [],
          "ownedTextualRepresentation": [],
          "ownedTransition": [],
          "ownedUsage": [],
          "ownedVerificationCase": [],
          "ownedView": [],
          "ownedViewpoint": [],
          "owner": {
           "@id": "db7bb250-798b-4276-acc9-06c70bccf330"
          },
          "owningMembership": {
           "@id": "e841596f-b77e-4ee5-b345-2e92c3cba498"
          },
          "owningNamespace": {
           "@id": "db7bb250-798b-4276-acc9-06c70bccf330"
          },
          "owningRelationship": {
           "@id": "e841596f-b77e-4ee5-b345-2e92c3cba498"
          },
          "qualifiedName": "jdehart_ModelExample_A::Automobile",
          "usage": [],
          "variant": [],
          "variantMembership": []
         },
         "id": "9c1ca97f-1640-4717-8eff-5a7408efd26d",
         "identity": {
          "@type": "ElementIdentity",
          "id": "60b3a124-9e4c-4b09-9bdb-817864b9a06a"
         }
        }
       ],
       "id": "b75c7be7-e142-4c7b-8af8-592374a0bf75",
       "owningProject": {
        "id": "488b7990-0f19-4728-9c9b-39d96b686e2d"
       },
       "previousCommit": null,
       "timestamp": "2021-06-04T07:12:18.224443-04:00"
      },
      "text/plain": [
       "<IPython.core.display.JSON object>"
      ]
     },
     "execution_count": 2,
     "metadata": {
      "application/json": {
       "expanded": false,
       "root": "root"
      }
     },
     "output_type": "execute_result"
    }
   ],
   "source": [
    "from IPython.display import JSON\n",
    "JSON(data_json)"
   ]
  },
  {
   "cell_type": "markdown",
   "id": "8f5afb71-d1eb-47a1-b251-4983b4fd3330",
   "metadata": {},
   "source": [
    "We can hit this url below... "
   ]
  },
  {
   "cell_type": "markdown",
   "id": "ee35aabd-5e5d-43b6-bc64-4c70fecd5bc1",
   "metadata": {},
   "source": [
    "http://sysml2.intercax.com:9000/docs/"
   ]
  }
 ],
 "metadata": {
  "kernelspec": {
   "display_name": "Python 3",
   "language": "python",
   "name": "python3"
  },
  "language_info": {
   "codemirror_mode": {
    "name": "ipython",
    "version": 3
   },
   "file_extension": ".py",
   "mimetype": "text/x-python",
   "name": "python",
   "nbconvert_exporter": "python",
   "pygments_lexer": "ipython3",
   "version": "3.9.0"
  }
 },
 "nbformat": 4,
 "nbformat_minor": 5
}
