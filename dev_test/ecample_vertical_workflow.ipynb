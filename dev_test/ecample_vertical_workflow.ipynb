{
 "cells": [
  {
   "cell_type": "code",
   "execution_count": null,
   "id": "0600e69b-d454-4b74-9d7c-6326ab59cc56",
   "metadata": {
    "kernel": "SysML",
    "tags": []
   },
   "outputs": [],
   "source": []
  },
  {
   "cell_type": "code",
   "execution_count": null,
   "id": "b7ad8211-3b02-436f-91e7-66d54c0ebb62",
   "metadata": {
    "kernel": "Python3",
    "tags": []
   },
   "outputs": [],
   "source": []
  },
  {
   "cell_type": "code",
   "execution_count": null,
   "id": "ab207ef6-5894-4acc-9e63-b7e8aeee2c49",
   "metadata": {
    "kernel": "R",
    "tags": []
   },
   "outputs": [],
   "source": []
  },
  {
   "cell_type": "code",
   "execution_count": null,
   "id": "e267c2a5-4105-475e-be76-4eca60bbd74e",
   "metadata": {
    "kernel": "python2.7",
    "tags": []
   },
   "outputs": [],
   "source": []
  },
  {
   "cell_type": "code",
   "execution_count": null,
   "id": "45438f5c-713a-4b4e-b256-649b8a313f81",
   "metadata": {
    "kernel": "R",
    "tags": []
   },
   "outputs": [],
   "source": []
  },
  {
   "cell_type": "code",
   "execution_count": null,
   "id": "0b67694d-c50d-4e0d-9982-cd66eb9be63e",
   "metadata": {
    "kernel": "pymbe",
    "tags": []
   },
   "outputs": [],
   "source": []
  },
  {
   "cell_type": "code",
   "execution_count": null,
   "id": "2060ac79-2ae5-493f-bdf8-d72d445aa8ae",
   "metadata": {
    "kernel": "SoS",
    "tags": []
   },
   "outputs": [],
   "source": []
  }
 ],
 "metadata": {
  "kernelspec": {
   "display_name": "SoS",
   "language": "sos",
   "name": "sos"
  },
  "language_info": {
   "codemirror_mode": "sos",
   "file_extension": ".sos",
   "mimetype": "text/x-sos",
   "name": "sos",
   "nbconvert_exporter": "sos_notebook.converter.SoS_Exporter",
   "pygments_lexer": "sos"
  },
  "sos": {
   "kernels": [
    [
     "Python3",
     "python3",
     "Python3",
     "#FFD91A",
     ""
    ],
    [
     "R",
     "ir",
     "R",
     "#DCDCDA",
     ""
    ],
    [
     "SoS",
     "sos",
     "",
     "",
     "sos"
    ],
    [
     "SysML",
     "sysml",
     "sysml",
     "",
     ""
    ],
    [
     "pymbe",
     "pymbe",
     "Python3",
     "#FFD91A",
     ""
    ],
    [
     "python2.7",
     "python2.7",
     "Python3",
     "#FFD91A",
     ""
    ]
   ],
   "version": "0.22.3"
  }
 },
 "nbformat": 4,
 "nbformat_minor": 5
}
