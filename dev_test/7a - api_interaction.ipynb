{
 "cells": [
  {
   "cell_type": "markdown",
   "id": "nutritional-hamilton",
   "metadata": {
    "kernel": "SoS"
   },
   "source": [
    "# Part Combination Space Exploration\n",
    "\n",
    "This is a notebook developed to leverage the new SysML v2 semantics for nested features and instantiation of models to generate instances of M1 system models as feedstock for analysis pipelines."
   ]
  },
  {
   "cell_type": "code",
   "execution_count": 4,
   "id": "recreational-commons",
   "metadata": {
    "kernel": "Python3",
    "tags": []
   },
   "outputs": [
    {
     "ename": "ImportError",
     "evalue": "cannot import name 'NotFoundError' from 'ipyelk.exceptions' (/opt/tljh/user/envs/pyMBE/lib/python3.9/site-packages/ipyelk/exceptions.py)",
     "output_type": "error",
     "traceback": [
      "\u001b[0;31m---------------------------------------------------------------------------\u001b[0m",
      "\u001b[0;31mImportError\u001b[0m                               Traceback (most recent call last)",
      "\u001b[0;32m/tmp/ipykernel_14243/2455937349.py\u001b[0m in \u001b[0;36m<module>\u001b[0;34m\u001b[0m\n\u001b[1;32m     17\u001b[0m \u001b[0;32mimport\u001b[0m \u001b[0mcopy\u001b[0m\u001b[0;34m\u001b[0m\u001b[0;34m\u001b[0m\u001b[0m\n\u001b[1;32m     18\u001b[0m \u001b[0;34m\u001b[0m\u001b[0m\n\u001b[0;32m---> 19\u001b[0;31m \u001b[0;32mimport\u001b[0m \u001b[0mpymbe\u001b[0m\u001b[0;34m.\u001b[0m\u001b[0mapi\u001b[0m \u001b[0;32mas\u001b[0m \u001b[0mpm\u001b[0m\u001b[0;34m\u001b[0m\u001b[0;34m\u001b[0m\u001b[0m\n\u001b[0m\u001b[1;32m     20\u001b[0m \u001b[0;31m#from pymbe.model_loading import ModelingSession as Session\u001b[0m\u001b[0;34m\u001b[0m\u001b[0;34m\u001b[0m\u001b[0;34m\u001b[0m\u001b[0m\n\u001b[1;32m     21\u001b[0m \u001b[0;31m#from pymbe.interpretation.interpretation import RandomGenerationStrategy as RGS\u001b[0m\u001b[0;34m\u001b[0m\u001b[0;34m\u001b[0m\u001b[0;34m\u001b[0m\u001b[0m\n",
      "\u001b[0;32m/opt/tljh/user/envs/pyMBE/lib/python3.9/site-packages/pymbe/api.py\u001b[0m in \u001b[0;36m<module>\u001b[0;34m\u001b[0m\n\u001b[1;32m      1\u001b[0m \u001b[0;32mfrom\u001b[0m \u001b[0;34m.\u001b[0m\u001b[0mwidget\u001b[0m\u001b[0;34m.\u001b[0m\u001b[0mclient\u001b[0m \u001b[0;32mimport\u001b[0m \u001b[0mSysML2ClientWidget\u001b[0m\u001b[0;34m\u001b[0m\u001b[0;34m\u001b[0m\u001b[0m\n\u001b[1;32m      2\u001b[0m \u001b[0;32mfrom\u001b[0m \u001b[0;34m.\u001b[0m\u001b[0mwidget\u001b[0m\u001b[0;34m.\u001b[0m\u001b[0mcontainment\u001b[0m \u001b[0;32mimport\u001b[0m \u001b[0mContainmentTree\u001b[0m\u001b[0;34m\u001b[0m\u001b[0;34m\u001b[0m\u001b[0m\n\u001b[0;32m----> 3\u001b[0;31m \u001b[0;32mfrom\u001b[0m \u001b[0;34m.\u001b[0m\u001b[0mwidget\u001b[0m\u001b[0;34m.\u001b[0m\u001b[0mdiagram\u001b[0m \u001b[0;32mimport\u001b[0m \u001b[0mSysML2LPGWidget\u001b[0m\u001b[0;34m\u001b[0m\u001b[0;34m\u001b[0m\u001b[0m\n\u001b[0m\u001b[1;32m      4\u001b[0m \u001b[0;32mfrom\u001b[0m \u001b[0;34m.\u001b[0m\u001b[0mwidget\u001b[0m\u001b[0;34m.\u001b[0m\u001b[0minspector\u001b[0m \u001b[0;32mimport\u001b[0m \u001b[0mElementInspector\u001b[0m\u001b[0;34m\u001b[0m\u001b[0;34m\u001b[0m\u001b[0m\n\u001b[1;32m      5\u001b[0m \u001b[0;32mfrom\u001b[0m \u001b[0;34m.\u001b[0m\u001b[0mwidget\u001b[0m\u001b[0;34m.\u001b[0m\u001b[0mui\u001b[0m \u001b[0;32mimport\u001b[0m \u001b[0mUI\u001b[0m\u001b[0;34m\u001b[0m\u001b[0;34m\u001b[0m\u001b[0m\n",
      "\u001b[0;32m/opt/tljh/user/envs/pyMBE/lib/python3.9/site-packages/pymbe/widget/diagram/__init__.py\u001b[0m in \u001b[0;36m<module>\u001b[0;34m\u001b[0m\n\u001b[0;32m----> 1\u001b[0;31m \u001b[0;32mfrom\u001b[0m \u001b[0;34m.\u001b[0m\u001b[0mwidget\u001b[0m \u001b[0;32mimport\u001b[0m \u001b[0mSysML2LPGWidget\u001b[0m\u001b[0;34m\u001b[0m\u001b[0;34m\u001b[0m\u001b[0m\n\u001b[0m",
      "\u001b[0;32m/opt/tljh/user/envs/pyMBE/lib/python3.9/site-packages/pymbe/widget/diagram/widget.py\u001b[0m in \u001b[0;36m<module>\u001b[0;34m\u001b[0m\n\u001b[1;32m      8\u001b[0m \u001b[0;34m\u001b[0m\u001b[0m\n\u001b[1;32m      9\u001b[0m \u001b[0;32mimport\u001b[0m \u001b[0mipyelk\u001b[0m\u001b[0;34m\u001b[0m\u001b[0;34m\u001b[0m\u001b[0m\n\u001b[0;32m---> 10\u001b[0;31m \u001b[0;32mfrom\u001b[0m \u001b[0mipyelk\u001b[0m\u001b[0;34m.\u001b[0m\u001b[0mpipes\u001b[0m\u001b[0;34m.\u001b[0m\u001b[0mbase\u001b[0m \u001b[0;32mimport\u001b[0m \u001b[0mPipeDisposition\u001b[0m\u001b[0;34m\u001b[0m\u001b[0;34m\u001b[0m\u001b[0m\n\u001b[0m\u001b[1;32m     11\u001b[0m \u001b[0;34m\u001b[0m\u001b[0m\n\u001b[1;32m     12\u001b[0m \u001b[0;32mfrom\u001b[0m \u001b[0;34m...\u001b[0m\u001b[0mgraph\u001b[0m \u001b[0;32mimport\u001b[0m \u001b[0mSysML2LabeledPropertyGraph\u001b[0m\u001b[0;34m\u001b[0m\u001b[0;34m\u001b[0m\u001b[0m\n",
      "\u001b[0;32m/opt/tljh/user/envs/pyMBE/lib/python3.9/site-packages/ipyelk/pipes/__init__.py\u001b[0m in \u001b[0;36m<module>\u001b[0;34m\u001b[0m\n\u001b[1;32m      2\u001b[0m \u001b[0;31m# Distributed under the terms of the Modified BSD License.\u001b[0m\u001b[0;34m\u001b[0m\u001b[0;34m\u001b[0m\u001b[0;34m\u001b[0m\u001b[0m\n\u001b[1;32m      3\u001b[0m \u001b[0;34m\u001b[0m\u001b[0m\n\u001b[0;32m----> 4\u001b[0;31m \u001b[0;32mfrom\u001b[0m \u001b[0;34m.\u001b[0m\u001b[0mbase\u001b[0m \u001b[0;32mimport\u001b[0m \u001b[0mPipe\u001b[0m\u001b[0;34m,\u001b[0m \u001b[0mPipeDisposition\u001b[0m\u001b[0;34m,\u001b[0m \u001b[0mSyncedInletPipe\u001b[0m\u001b[0;34m,\u001b[0m \u001b[0mSyncedOutletPipe\u001b[0m\u001b[0;34m,\u001b[0m \u001b[0mSyncedPipe\u001b[0m\u001b[0;34m\u001b[0m\u001b[0;34m\u001b[0m\u001b[0m\n\u001b[0m\u001b[1;32m      5\u001b[0m \u001b[0;32mfrom\u001b[0m \u001b[0;34m.\u001b[0m\u001b[0melkjs\u001b[0m \u001b[0;32mimport\u001b[0m \u001b[0mElkJS\u001b[0m\u001b[0;34m\u001b[0m\u001b[0;34m\u001b[0m\u001b[0m\n\u001b[1;32m      6\u001b[0m \u001b[0;32mfrom\u001b[0m \u001b[0;34m.\u001b[0m\u001b[0mmarks\u001b[0m \u001b[0;32mimport\u001b[0m \u001b[0mMarkElementWidget\u001b[0m\u001b[0;34m,\u001b[0m \u001b[0mMarkIndex\u001b[0m\u001b[0;34m\u001b[0m\u001b[0;34m\u001b[0m\u001b[0m\n",
      "\u001b[0;32m/opt/tljh/user/envs/pyMBE/lib/python3.9/site-packages/ipyelk/pipes/base.py\u001b[0m in \u001b[0;36m<module>\u001b[0;34m\u001b[0m\n\u001b[1;32m     10\u001b[0m \u001b[0;32mfrom\u001b[0m \u001b[0mipywidgets\u001b[0m\u001b[0;34m.\u001b[0m\u001b[0mwidgets\u001b[0m\u001b[0;34m.\u001b[0m\u001b[0mtrait_types\u001b[0m \u001b[0;32mimport\u001b[0m \u001b[0mTypedTuple\u001b[0m\u001b[0;34m\u001b[0m\u001b[0;34m\u001b[0m\u001b[0m\n\u001b[1;32m     11\u001b[0m \u001b[0;34m\u001b[0m\u001b[0m\n\u001b[0;32m---> 12\u001b[0;31m \u001b[0;32mfrom\u001b[0m \u001b[0;34m.\u001b[0m\u001b[0mmarks\u001b[0m \u001b[0;32mimport\u001b[0m \u001b[0mMarkElementWidget\u001b[0m\u001b[0;34m\u001b[0m\u001b[0;34m\u001b[0m\u001b[0m\n\u001b[0m\u001b[1;32m     13\u001b[0m \u001b[0;34m\u001b[0m\u001b[0m\n\u001b[1;32m     14\u001b[0m \u001b[0;34m\u001b[0m\u001b[0m\n",
      "\u001b[0;32m/opt/tljh/user/envs/pyMBE/lib/python3.9/site-packages/ipyelk/pipes/marks.py\u001b[0m in \u001b[0;36m<module>\u001b[0;34m\u001b[0m\n\u001b[1;32m      7\u001b[0m \u001b[0;32mfrom\u001b[0m \u001b[0mipywidgets\u001b[0m\u001b[0;34m.\u001b[0m\u001b[0mwidgets\u001b[0m\u001b[0;34m.\u001b[0m\u001b[0mtrait_types\u001b[0m \u001b[0;32mimport\u001b[0m \u001b[0mTypedTuple\u001b[0m\u001b[0;34m\u001b[0m\u001b[0;34m\u001b[0m\u001b[0m\n\u001b[1;32m      8\u001b[0m \u001b[0;34m\u001b[0m\u001b[0m\n\u001b[0;32m----> 9\u001b[0;31m from ..elements import (\n\u001b[0m\u001b[1;32m     10\u001b[0m     \u001b[0mBaseElement\u001b[0m\u001b[0;34m,\u001b[0m\u001b[0;34m\u001b[0m\u001b[0;34m\u001b[0m\u001b[0m\n\u001b[1;32m     11\u001b[0m     \u001b[0mElementIndex\u001b[0m\u001b[0;34m,\u001b[0m\u001b[0;34m\u001b[0m\u001b[0;34m\u001b[0m\u001b[0m\n",
      "\u001b[0;32m/opt/tljh/user/envs/pyMBE/lib/python3.9/site-packages/ipyelk/elements/__init__.py\u001b[0m in \u001b[0;36m<module>\u001b[0;34m\u001b[0m\n\u001b[1;32m      2\u001b[0m \u001b[0;31m# Distributed under the terms of the Modified BSD License.\u001b[0m\u001b[0;34m\u001b[0m\u001b[0;34m\u001b[0m\u001b[0;34m\u001b[0m\u001b[0m\n\u001b[1;32m      3\u001b[0m \u001b[0;32mfrom\u001b[0m \u001b[0;34m.\u001b[0m\u001b[0mcommon\u001b[0m \u001b[0;32mimport\u001b[0m \u001b[0mEMPTY_SENTINEL\u001b[0m\u001b[0;34m\u001b[0m\u001b[0;34m\u001b[0m\u001b[0m\n\u001b[0;32m----> 4\u001b[0;31m from .elements import (\n\u001b[0m\u001b[1;32m      5\u001b[0m     \u001b[0mBaseElement\u001b[0m\u001b[0;34m,\u001b[0m\u001b[0;34m\u001b[0m\u001b[0;34m\u001b[0m\u001b[0m\n\u001b[1;32m      6\u001b[0m     \u001b[0mEdge\u001b[0m\u001b[0;34m,\u001b[0m\u001b[0;34m\u001b[0m\u001b[0;34m\u001b[0m\u001b[0m\n",
      "\u001b[0;32m/opt/tljh/user/envs/pyMBE/lib/python3.9/site-packages/ipyelk/elements/elements.py\u001b[0m in \u001b[0;36m<module>\u001b[0;34m\u001b[0m\n\u001b[1;32m      7\u001b[0m \u001b[0;32mfrom\u001b[0m \u001b[0mpydantic\u001b[0m \u001b[0;32mimport\u001b[0m \u001b[0mBaseModel\u001b[0m\u001b[0;34m,\u001b[0m \u001b[0mField\u001b[0m\u001b[0;34m,\u001b[0m \u001b[0mPrivateAttr\u001b[0m\u001b[0;34m\u001b[0m\u001b[0;34m\u001b[0m\u001b[0m\n\u001b[1;32m      8\u001b[0m \u001b[0;34m\u001b[0m\u001b[0m\n\u001b[0;32m----> 9\u001b[0;31m \u001b[0;32mfrom\u001b[0m \u001b[0;34m.\u001b[0m\u001b[0;34m.\u001b[0m\u001b[0mexceptions\u001b[0m \u001b[0;32mimport\u001b[0m \u001b[0mNotFoundError\u001b[0m\u001b[0;34m,\u001b[0m \u001b[0mNotUniqueError\u001b[0m\u001b[0;34m\u001b[0m\u001b[0;34m\u001b[0m\u001b[0m\n\u001b[0m\u001b[1;32m     10\u001b[0m \u001b[0;32mfrom\u001b[0m \u001b[0;34m.\u001b[0m\u001b[0mcommon\u001b[0m \u001b[0;32mimport\u001b[0m \u001b[0mCounterContextManager\u001b[0m\u001b[0;34m,\u001b[0m \u001b[0madd_excluded_fields\u001b[0m\u001b[0;34m\u001b[0m\u001b[0;34m\u001b[0m\u001b[0m\n\u001b[1;32m     11\u001b[0m \u001b[0;32mfrom\u001b[0m \u001b[0;34m.\u001b[0m\u001b[0mregistry\u001b[0m \u001b[0;32mimport\u001b[0m \u001b[0mRegistry\u001b[0m\u001b[0;34m\u001b[0m\u001b[0;34m\u001b[0m\u001b[0m\n",
      "\u001b[0;31mImportError\u001b[0m: cannot import name 'NotFoundError' from 'ipyelk.exceptions' (/opt/tljh/user/envs/pyMBE/lib/python3.9/site-packages/ipyelk/exceptions.py)"
     ]
    }
   ],
   "source": [
    "from __future__ import print_function\n",
    "\n",
    "import requests\n",
    "import getpass\n",
    "import math\n",
    "\n",
    "import time\n",
    "import sysml_v2_api_client\n",
    "from sysml_v2_api_client.rest import ApiException\n",
    "from pprint import pprint\n",
    "\n",
    "import json\n",
    "import networkx as NX\n",
    "import matplotlib.pyplot as plt\n",
    "\n",
    "import random\n",
    "import copy\n",
    "\n",
    "import pymbe.api as pm\n",
    "#from pymbe.model_loading import ModelingSession as Session\n",
    "#from pymbe.interpretation.interpretation import RandomGenerationStrategy as RGS"
   ]
  },
  {
   "cell_type": "code",
   "execution_count": 2,
   "id": "turkish-argument",
   "metadata": {
    "kernel": "Python3",
    "tags": []
   },
   "outputs": [],
   "source": [
    "import pymbe.query as pmQuery"
   ]
  },
  {
   "cell_type": "markdown",
   "id": "differential-south",
   "metadata": {
    "kernel": "SoS"
   },
   "source": [
    "# Configure API Server Connection"
   ]
  },
  {
   "cell_type": "code",
   "execution_count": 3,
   "id": "cognitive-vault",
   "metadata": {
    "kernel": "SoS",
    "tags": []
   },
   "outputs": [],
   "source": [
    "sysml_api_base_url = 'http://sysml2.intercax.com:9000' # http://sysml2-sst.intercax.com:9000"
   ]
  },
  {
   "cell_type": "markdown",
   "id": "unsigned-macintosh",
   "metadata": {
    "kernel": "SoS"
   },
   "source": [
    "## Activate APIs\n",
    "\n",
    "Connect the API classes to the server"
   ]
  },
  {
   "cell_type": "code",
   "execution_count": 4,
   "id": "theoretical-musical",
   "metadata": {
    "kernel": "SoS"
   },
   "outputs": [],
   "source": [
    "configuration = sysml_v2_api_client.Configuration(\n",
    "    host = sysml_api_base_url\n",
    ")\n",
    "\n",
    "projects_api_instance = None\n",
    "\n",
    "with sysml_v2_api_client.ApiClient(configuration) as api_client:\n",
    "    # Create an instance of the API class\n",
    "    project_api_instance = sysml_v2_api_client.ProjectApi(api_client)\n",
    "    \n",
    "commits_api_instance = None\n",
    "\n",
    "with sysml_v2_api_client.ApiClient(configuration) as api_client:\n",
    "    # Create an instance of the API class\n",
    "    commits_api_instance = sysml_v2_api_client.CommitApi(api_client)\n",
    "    \n",
    "elements_api_instance = None\n",
    "\n",
    "with sysml_v2_api_client.ApiClient(configuration) as api_client:\n",
    "    # Create an instance of the API class\n",
    "    elements_api_instance = sysml_v2_api_client.ElementApi(api_client)"
   ]
  },
  {
   "cell_type": "markdown",
   "id": "criminal-calgary",
   "metadata": {
    "kernel": "SoS"
   },
   "source": [
    "## Pull down commits and elements catalogs\n",
    "\n",
    "With the API handles, use the pre-built methods to get lists of commits and elements."
   ]
  },
  {
   "cell_type": "code",
   "execution_count": 5,
   "id": "focal-bleeding",
   "metadata": {
    "kernel": "SoS"
   },
   "outputs": [
    {
     "data": {
      "text/plain": [
       "<sysml_v2_api_client.api.project_api.ProjectApi at 0x7f00c58a6b80>"
      ]
     },
     "execution_count": 5,
     "metadata": {},
     "output_type": "execute_result"
    }
   ],
   "source": [
    "project_api_instance"
   ]
  },
  {
   "cell_type": "markdown",
   "id": "b5b69215-d1dd-4942-bb5e-138581a309ec",
   "metadata": {
    "kernel": "SoS"
   },
   "source": [
    "Get a list of my active projects"
   ]
  },
  {
   "cell_type": "code",
   "execution_count": 6,
   "id": "similar-contents",
   "metadata": {
    "kernel": "SoS"
   },
   "outputs": [],
   "source": [
    "my_projects = [my_proj for my_proj in project_api_instance.get_projects() if my_proj.name.find('jdehart') > -1]"
   ]
  },
  {
   "cell_type": "code",
   "execution_count": 7,
   "id": "b184aa4a-e47d-4707-a9f6-3afa1995979c",
   "metadata": {
    "kernel": "SoS"
   },
   "outputs": [
    {
     "data": {
      "text/plain": [
       "['jdehart_sdp Sun Jun 06 21:33:29 UTC 2021',\n",
       " 'jdehart_sdp_A Sun Jun 06 22:59:53 UTC 2021',\n",
       " 'jdehart_ModelExample_A Fri Jun 04 11:12:17 UTC 2021',\n",
       " 'jdehart_sdp_A Tue Jun 08 00:29:22 UTC 2021',\n",
       " 'jdehart_demo Tue Jun 22 16:24:27 UTC 2021',\n",
       " 'jdehart_partsModel Sun Jun 06 21:14:19 UTC 2021']"
      ]
     },
     "execution_count": 7,
     "metadata": {},
     "output_type": "execute_result"
    }
   ],
   "source": [
    "# add project to dropdown\n",
    "model_names = []\n",
    "for key, value in enumerate(my_projects):\n",
    "    model_names.append(my_projects[key].name)\n",
    "model_names"
   ]
  },
  {
   "cell_type": "code",
   "execution_count": 8,
   "id": "512cdfb1-5887-47f7-a4b7-fc51a8acb6c0",
   "metadata": {
    "kernel": "SoS"
   },
   "outputs": [
    {
     "data": {
      "application/vnd.jupyter.widget-view+json": {
       "model_id": "46fb4ff3e71340f092865b8e2e508e24",
       "version_major": 2,
       "version_minor": 0
      },
      "text/plain": [
       "Dropdown(description='Select Project:', options=('jdehart_sdp Sun Jun 06 21:33:29 UTC 2021', 'jdehart_sdp_A Su…"
      ]
     },
     "metadata": {},
     "output_type": "display_data"
    }
   ],
   "source": [
    "from IPython.display import display\n",
    "from ipywidgets import Dropdown\n",
    "\n",
    "def dropdown_eventhandler(change):\n",
    "    global model_id\n",
    "    model_id = change.new\n",
    "\n",
    "option_list = model_names\n",
    "dropdown = Dropdown(description=\"Select Project:\", options=option_list)\n",
    "dropdown.observe(dropdown_eventhandler, names='index')\n",
    "display(dropdown)"
   ]
  },
  {
   "cell_type": "code",
   "execution_count": 13,
   "id": "alone-uncle",
   "metadata": {
    "kernel": "SoS"
   },
   "outputs": [
    {
     "name": "stdout",
     "output_type": "stream",
     "text": [
      "[{'change': None,\n",
      " 'id': 'b226c0e8-f977-4d8f-93b4-0c8ee53e7c10',\n",
      " 'owning_project': {'id': 'd700ba65-82c3-4927-9d15-1cf02122bd1d'},\n",
      " 'previous_commit': None,\n",
      " 'type': 'Commit'}]\n"
     ]
    }
   ],
   "source": [
    "try:\n",
    "    # Get commits by project\n",
    "    commits_response = commits_api_instance.get_commits_by_project(my_projects[model_id].id)\n",
    "    pprint(commits_response)\n",
    "except ApiException as e:\n",
    "    print(\"Exception when calling CommitApi->get_commits_by_project: %s\\n\" % e)"
   ]
  },
  {
   "cell_type": "code",
   "execution_count": 14,
   "id": "boolean-winner",
   "metadata": {
    "kernel": "SoS"
   },
   "outputs": [],
   "source": [
    "elements = []\n",
    "\n",
    "try:\n",
    "    # Get commits by project\n",
    "    elements = elements_api_instance.get_elements_by_project_commit(my_projects[model_id].id, commits_response[0].id)\n",
    "except ApiException as e:\n",
    "    print(\"Exception when calling ElementApi->get_elements_by_project_commit: %s\\n\" % e)"
   ]
  },
  {
   "cell_type": "code",
   "execution_count": 15,
   "id": "instructional-forth",
   "metadata": {
    "kernel": "SoS"
   },
   "outputs": [
    {
     "data": {
      "text/plain": [
       "14"
      ]
     },
     "execution_count": 15,
     "metadata": {},
     "output_type": "execute_result"
    }
   ],
   "source": [
    "len(elements)"
   ]
  },
  {
   "cell_type": "code",
   "execution_count": 16,
   "id": "increasing-cathedral",
   "metadata": {
    "kernel": "SoS"
   },
   "outputs": [
    {
     "name": "stdout",
     "output_type": "stream",
     "text": [
      "[{'id': '0d1dfeea-5169-47ab-91ae-1bc9efdfdc94',\n",
      " 'identifier': '0d1dfeea-5169-47ab-91ae-1bc9efdfdc94',\n",
      " 'type': 'AttributeUsage'},\n",
      " {'id': '16f048dd-8d36-4e42-9ffc-811fca8114c9',\n",
      " 'identifier': '16f048dd-8d36-4e42-9ffc-811fca8114c9',\n",
      " 'type': 'PartUsage'},\n",
      " {'id': '433fa4af-5e9b-4c64-bf00-f37cba8cfaac',\n",
      " 'identifier': '433fa4af-5e9b-4c64-bf00-f37cba8cfaac',\n",
      " 'type': 'Import'},\n",
      " {'id': '4635757b-6acb-41e1-abef-17c34a43c091',\n",
      " 'identifier': '4635757b-6acb-41e1-abef-17c34a43c091',\n",
      " 'type': 'DataType'},\n",
      " {'id': '606cd553-dfe1-4606-9656-df9fb7cbe730',\n",
      " 'identifier': '606cd553-dfe1-4606-9656-df9fb7cbe730',\n",
      " 'type': 'FeatureMembership'},\n",
      " {'id': '76445bf5-19bb-468c-986d-3d065552c05c',\n",
      " 'identifier': '76445bf5-19bb-468c-986d-3d065552c05c',\n",
      " 'type': 'Package'},\n",
      " {'id': '8b138df6-ce13-47f5-a139-9db5324ad92c',\n",
      " 'identifier': '8b138df6-ce13-47f5-a139-9db5324ad92c',\n",
      " 'type': 'FeatureMembership'},\n",
      " {'id': 'a8eac056-14b5-4e33-9941-f707b0d2b2c5',\n",
      " 'identifier': 'a8eac056-14b5-4e33-9941-f707b0d2b2c5',\n",
      " 'type': 'PartUsage'},\n",
      " {'id': 'ab152282-9c4d-4fde-905d-e3b7addfbe75',\n",
      " 'identifier': 'ab152282-9c4d-4fde-905d-e3b7addfbe75',\n",
      " 'type': 'FeatureTyping'},\n",
      " {'id': 'ac4a65ea-eaf7-4b5b-84a7-dcc5c9042abf',\n",
      " 'identifier': 'ac4a65ea-eaf7-4b5b-84a7-dcc5c9042abf',\n",
      " 'type': 'FeatureTyping'},\n",
      " {'id': 'c7f88694-de70-4f71-afaa-afff972ef366',\n",
      " 'identifier': 'c7f88694-de70-4f71-afaa-afff972ef366',\n",
      " 'type': 'Package'},\n",
      " {'id': 'da4ba517-7f32-4652-890e-1200ea637f7b',\n",
      " 'identifier': 'da4ba517-7f32-4652-890e-1200ea637f7b',\n",
      " 'type': 'AttributeUsage'},\n",
      " {'id': 'e2f45a27-0872-4894-ad0e-67292c40572d',\n",
      " 'identifier': 'e2f45a27-0872-4894-ad0e-67292c40572d',\n",
      " 'type': 'Membership'},\n",
      " {'id': 'e55a97db-2279-42a3-91fe-678d4d563545',\n",
      " 'identifier': 'e55a97db-2279-42a3-91fe-678d4d563545',\n",
      " 'type': 'Membership'}]\n"
     ]
    }
   ],
   "source": [
    "pprint(elements)"
   ]
  },
  {
   "cell_type": "markdown",
   "id": "interior-stone",
   "metadata": {
    "kernel": "SoS"
   },
   "source": [
    "# Gather Element Data\n",
    "\n",
    "Since the generated API doesn't have much detail for elements, need to do this more hands-on.\n",
    "\n",
    "Not elegant below to just have a larger page size, should implement paging later on."
   ]
  },
  {
   "cell_type": "code",
   "execution_count": 17,
   "id": "accessible-plymouth",
   "metadata": {
    "kernel": "SoS"
   },
   "outputs": [],
   "source": [
    "elements_url = (sysml_api_base_url +\n",
    "                '/projects/{0}/commits/{1}/elements?page[size]=2000').format(my_projects[model_id].id, commits_response[0].id)"
   ]
  },
  {
   "cell_type": "code",
   "execution_count": 18,
   "id": "reverse-action",
   "metadata": {
    "kernel": "SoS"
   },
   "outputs": [
    {
     "data": {
      "text/plain": [
       "'http://sysml2.intercax.com:9000/projects/d700ba65-82c3-4927-9d15-1cf02122bd1d/commits/b226c0e8-f977-4d8f-93b4-0c8ee53e7c10/elements?page[size]=2000'"
      ]
     },
     "execution_count": 18,
     "metadata": {},
     "output_type": "execute_result"
    }
   ],
   "source": [
    "elements_url"
   ]
  },
  {
   "cell_type": "code",
   "execution_count": 19,
   "id": "partial-burner",
   "metadata": {
    "kernel": "SoS"
   },
   "outputs": [],
   "source": [
    "elements_response = requests.get(\n",
    "    elements_url\n",
    ")"
   ]
  },
  {
   "cell_type": "code",
   "execution_count": 16,
   "id": "portable-ghana",
   "metadata": {
    "kernel": "SoS"
   },
   "outputs": [],
   "source": [
    "elements_data = elements_response.json()"
   ]
  },
  {
   "cell_type": "markdown",
   "id": "american-struggle",
   "metadata": {
    "kernel": "SoS"
   },
   "source": [
    "Split the elements into relationships and non-relationships. This will let us work with graph representations and a graph understanding of the underlying model."
   ]
  },
  {
   "cell_type": "code",
   "execution_count": 17,
   "id": "sixth-texas",
   "metadata": {
    "kernel": "SoS"
   },
   "outputs": [
    {
     "data": {
      "text/plain": [
       "14"
      ]
     },
     "execution_count": 17,
     "metadata": {},
     "output_type": "execute_result"
    }
   ],
   "source": [
    "len(elements_data)"
   ]
  },
  {
   "cell_type": "code",
   "execution_count": 18,
   "id": "aae43c23-43e2-4248-86b6-6227f1a0a06e",
   "metadata": {
    "kernel": "SoS"
   },
   "outputs": [
    {
     "data": {
      "application/json": [
       {
        "@id": "0d1dfeea-5169-47ab-91ae-1bc9efdfdc94",
        "@type": "AttributeUsage",
        "aliasId": [],
        "attributeDefinition": [
         {
          "@id": "4635757b-6acb-41e1-abef-17c34a43c091"
         }
        ],
        "documentation": [],
        "documentationComment": [],
        "effectiveName": null,
        "endFeature": [],
        "endOwningType": null,
        "feature": [],
        "featureMembership": [],
        "featuringType": [
         {
          "@id": "a8eac056-14b5-4e33-9941-f707b0d2b2c5"
         }
        ],
        "flowFeature": [],
        "humanId": null,
        "identifier": "0d1dfeea-5169-47ab-91ae-1bc9efdfdc94",
        "importedMembership": [],
        "inheritedFeature": [],
        "inheritedMembership": [],
        "input": [],
        "isAbstract": false,
        "isComposite": false,
        "isConjugated": false,
        "isEnd": false,
        "isNonunique": false,
        "isOrdered": false,
        "isSufficient": false,
        "isUnique": true,
        "isVariation": false,
        "member": [],
        "membership": [],
        "multiplicity": null,
        "name": "mass",
        "nestedAction": [],
        "nestedAllocation": [],
        "nestedAnalysisCase": [],
        "nestedAttribute": [],
        "nestedCalculation": [],
        "nestedCase": [],
        "nestedConcern": [],
        "nestedConnection": [],
        "nestedConstraint": [],
        "nestedEnumeration": [],
        "nestedIndividual": [],
        "nestedInterface": [],
        "nestedItem": [],
        "nestedPart": [],
        "nestedPort": [],
        "nestedReference": [],
        "nestedRendering": [],
        "nestedRequirement": [],
        "nestedStakeholder": [],
        "nestedState": [],
        "nestedTransition": [],
        "nestedUsage": [],
        "nestedVerificationCase": [],
        "nestedView": [],
        "nestedViewpoint": [],
        "output": [],
        "ownedAnnotation": [],
        "ownedConjugator": null,
        "ownedElement": [],
        "ownedEndFeature": [],
        "ownedFeature": [],
        "ownedFeatureMembership": [],
        "ownedGeneralization": [
         {
          "@id": "ab152282-9c4d-4fde-905d-e3b7addfbe75"
         }
        ],
        "ownedImport": [],
        "ownedMember": [],
        "ownedMembership": [],
        "ownedRedefinition": [],
        "ownedRelationship": [
         {
          "@id": "ab152282-9c4d-4fde-905d-e3b7addfbe75"
         }
        ],
        "ownedSubsetting": [],
        "ownedTextualRepresentation": [],
        "ownedTypeFeaturing": [],
        "ownedTyping": [
         {
          "@id": "ab152282-9c4d-4fde-905d-e3b7addfbe75"
         }
        ],
        "owner": {
         "@id": "a8eac056-14b5-4e33-9941-f707b0d2b2c5"
        },
        "owningDefinition": null,
        "owningFeatureMembership": {
         "@id": "8b138df6-ce13-47f5-a139-9db5324ad92c"
        },
        "owningMembership": {
         "@id": "8b138df6-ce13-47f5-a139-9db5324ad92c"
        },
        "owningNamespace": {
         "@id": "a8eac056-14b5-4e33-9941-f707b0d2b2c5"
        },
        "owningRelationship": {
         "@id": "8b138df6-ce13-47f5-a139-9db5324ad92c"
        },
        "owningType": {
         "@id": "a8eac056-14b5-4e33-9941-f707b0d2b2c5"
        },
        "owningUsage": {
         "@id": "a8eac056-14b5-4e33-9941-f707b0d2b2c5"
        },
        "qualifiedName": "jdehart_demo::B::mass",
        "type": [
         {
          "@id": "4635757b-6acb-41e1-abef-17c34a43c091"
         }
        ],
        "usage": [],
        "variant": [],
        "variantMembership": []
       },
       {
        "@id": "16f048dd-8d36-4e42-9ffc-811fca8114c9",
        "@type": "PartUsage",
        "aliasId": [],
        "documentation": [],
        "documentationComment": [],
        "effectiveName": null,
        "endFeature": [],
        "endOwningType": null,
        "feature": [
         {
          "@id": "da4ba517-7f32-4652-890e-1200ea637f7b"
         }
        ],
        "featureMembership": [
         {
          "@id": "606cd553-dfe1-4606-9656-df9fb7cbe730"
         }
        ],
        "featuringType": [],
        "flowFeature": [],
        "humanId": null,
        "identifier": "16f048dd-8d36-4e42-9ffc-811fca8114c9",
        "importedMembership": [],
        "inheritedFeature": [],
        "inheritedMembership": [],
        "input": [],
        "isAbstract": false,
        "isComposite": false,
        "isConjugated": false,
        "isEnd": false,
        "isNonunique": false,
        "isOrdered": false,
        "isSufficient": false,
        "isUnique": true,
        "isVariation": false,
        "itemDefinition": [],
        "member": [
         {
          "@id": "da4ba517-7f32-4652-890e-1200ea637f7b"
         }
        ],
        "membership": [
         {
          "@id": "606cd553-dfe1-4606-9656-df9fb7cbe730"
         }
        ],
        "multiplicity": null,
        "name": "A",
        "nestedAction": [],
        "nestedAllocation": [],
        "nestedAnalysisCase": [],
        "nestedAttribute": [
         {
          "@id": "da4ba517-7f32-4652-890e-1200ea637f7b"
         }
        ],
        "nestedCalculation": [],
        "nestedCase": [],
        "nestedConcern": [],
        "nestedConnection": [],
        "nestedConstraint": [],
        "nestedEnumeration": [],
        "nestedIndividual": [],
        "nestedInterface": [],
        "nestedItem": [],
        "nestedPart": [],
        "nestedPort": [],
        "nestedReference": [],
        "nestedRendering": [],
        "nestedRequirement": [],
        "nestedStakeholder": [],
        "nestedState": [],
        "nestedTransition": [],
        "nestedUsage": [
         {
          "@id": "da4ba517-7f32-4652-890e-1200ea637f7b"
         }
        ],
        "nestedVerificationCase": [],
        "nestedView": [],
        "nestedViewpoint": [],
        "output": [],
        "ownedAnnotation": [],
        "ownedConjugator": null,
        "ownedElement": [
         {
          "@id": "da4ba517-7f32-4652-890e-1200ea637f7b"
         }
        ],
        "ownedEndFeature": [],
        "ownedFeature": [
         {
          "@id": "da4ba517-7f32-4652-890e-1200ea637f7b"
         }
        ],
        "ownedFeatureMembership": [
         {
          "@id": "606cd553-dfe1-4606-9656-df9fb7cbe730"
         }
        ],
        "ownedGeneralization": [],
        "ownedImport": [],
        "ownedMember": [
         {
          "@id": "da4ba517-7f32-4652-890e-1200ea637f7b"
         }
        ],
        "ownedMembership": [
         {
          "@id": "606cd553-dfe1-4606-9656-df9fb7cbe730"
         }
        ],
        "ownedRedefinition": [],
        "ownedRelationship": [
         {
          "@id": "606cd553-dfe1-4606-9656-df9fb7cbe730"
         }
        ],
        "ownedSubsetting": [],
        "ownedTextualRepresentation": [],
        "ownedTypeFeaturing": [],
        "ownedTyping": [],
        "owner": {
         "@id": "76445bf5-19bb-468c-986d-3d065552c05c"
        },
        "owningDefinition": null,
        "owningFeatureMembership": null,
        "owningMembership": {
         "@id": "e55a97db-2279-42a3-91fe-678d4d563545"
        },
        "owningNamespace": {
         "@id": "76445bf5-19bb-468c-986d-3d065552c05c"
        },
        "owningRelationship": {
         "@id": "e55a97db-2279-42a3-91fe-678d4d563545"
        },
        "owningType": null,
        "owningUsage": null,
        "partDefinition": [],
        "qualifiedName": "jdehart_demo::A",
        "type": [],
        "usage": [
         {
          "@id": "da4ba517-7f32-4652-890e-1200ea637f7b"
         }
        ],
        "variant": [],
        "variantMembership": []
       },
       {
        "@id": "433fa4af-5e9b-4c64-bf00-f37cba8cfaac",
        "@type": "Import",
        "aliasId": [],
        "documentation": [],
        "documentationComment": [],
        "effectiveName": null,
        "humanId": null,
        "identifier": "433fa4af-5e9b-4c64-bf00-f37cba8cfaac",
        "importOwningNamespace": {
         "@id": "76445bf5-19bb-468c-986d-3d065552c05c"
        },
        "importedNamespace": {
         "@id": "c7f88694-de70-4f71-afaa-afff972ef366"
        },
        "isRecursive": false,
        "name": null,
        "ownedAnnotation": [],
        "ownedElement": [],
        "ownedRelatedElement": [],
        "ownedRelationship": [],
        "ownedTextualRepresentation": [],
        "owner": null,
        "owningMembership": null,
        "owningNamespace": null,
        "owningRelatedElement": {
         "@id": "76445bf5-19bb-468c-986d-3d065552c05c"
        },
        "owningRelationship": null,
        "qualifiedName": null,
        "relatedElement": [
         {
          "@id": "76445bf5-19bb-468c-986d-3d065552c05c"
         },
         {
          "@id": "c7f88694-de70-4f71-afaa-afff972ef366"
         }
        ],
        "source": [
         {
          "@id": "76445bf5-19bb-468c-986d-3d065552c05c"
         }
        ],
        "target": [
         {
          "@id": "c7f88694-de70-4f71-afaa-afff972ef366"
         }
        ],
        "visibility": "PUBLIC"
       },
       {
        "@id": "4635757b-6acb-41e1-abef-17c34a43c091",
        "@type": "DataType",
        "aliasId": [],
        "documentation": [],
        "documentationComment": [],
        "effectiveName": null,
        "endFeature": [],
        "feature": [],
        "featureMembership": [],
        "humanId": null,
        "identifier": "4635757b-6acb-41e1-abef-17c34a43c091",
        "importedMembership": [],
        "inheritedFeature": [],
        "inheritedMembership": [],
        "input": [],
        "isAbstract": false,
        "isConjugated": false,
        "isSufficient": false,
        "member": [],
        "membership": [],
        "multiplicity": null,
        "name": "Real",
        "output": [],
        "ownedAnnotation": [],
        "ownedConjugator": null,
        "ownedElement": [],
        "ownedEndFeature": [],
        "ownedFeature": [],
        "ownedFeatureMembership": [],
        "ownedGeneralization": [],
        "ownedImport": [],
        "ownedMember": [],
        "ownedMembership": [],
        "ownedRelationship": [],
        "ownedSuperclassing": [],
        "ownedTextualRepresentation": [],
        "owner": null,
        "owningMembership": null,
        "owningNamespace": null,
        "owningRelationship": null,
        "qualifiedName": "ScalarValues::Real"
       },
       {
        "@id": "606cd553-dfe1-4606-9656-df9fb7cbe730",
        "@type": "FeatureMembership",
        "aliasId": [],
        "direction": null,
        "documentation": [],
        "documentationComment": [],
        "effectiveMemberName": null,
        "effectiveName": null,
        "featureOfType": {
         "@id": "da4ba517-7f32-4652-890e-1200ea637f7b"
        },
        "featuringType": null,
        "humanId": null,
        "identifier": "606cd553-dfe1-4606-9656-df9fb7cbe730",
        "isComposite": false,
        "isDerived": false,
        "isPort": false,
        "isPortion": false,
        "isReadOnly": false,
        "memberElement": {
         "@id": "da4ba517-7f32-4652-890e-1200ea637f7b"
        },
        "memberFeature": {
         "@id": "da4ba517-7f32-4652-890e-1200ea637f7b"
        },
        "memberName": "mass",
        "membershipOwningNamespace": {
         "@id": "16f048dd-8d36-4e42-9ffc-811fca8114c9"
        },
        "name": null,
        "ownedAnnotation": [],
        "ownedElement": [],
        "ownedMemberElement": {
         "@id": "da4ba517-7f32-4652-890e-1200ea637f7b"
        },
        "ownedMemberFeature": {
         "@id": "da4ba517-7f32-4652-890e-1200ea637f7b"
        },
        "ownedRelatedElement": [
         {
          "@id": "da4ba517-7f32-4652-890e-1200ea637f7b"
         }
        ],
        "ownedRelationship": [],
        "ownedTextualRepresentation": [],
        "owner": null,
        "owningFeatureOfType": null,
        "owningMembership": null,
        "owningNamespace": null,
        "owningRelatedElement": {
         "@id": "16f048dd-8d36-4e42-9ffc-811fca8114c9"
        },
        "owningRelationship": null,
        "owningType": {
         "@id": "16f048dd-8d36-4e42-9ffc-811fca8114c9"
        },
        "qualifiedName": null,
        "relatedElement": [
         {
          "@id": "16f048dd-8d36-4e42-9ffc-811fca8114c9"
         },
         {
          "@id": "da4ba517-7f32-4652-890e-1200ea637f7b"
         }
        ],
        "source": [
         {
          "@id": "16f048dd-8d36-4e42-9ffc-811fca8114c9"
         }
        ],
        "target": [
         {
          "@id": "da4ba517-7f32-4652-890e-1200ea637f7b"
         }
        ],
        "visibility": "PUBLIC"
       },
       {
        "@id": "76445bf5-19bb-468c-986d-3d065552c05c",
        "@type": "Package",
        "aliasId": [],
        "documentation": [],
        "documentationComment": [],
        "effectiveName": null,
        "filterCondition": [],
        "humanId": null,
        "identifier": "76445bf5-19bb-468c-986d-3d065552c05c",
        "importedMembership": [],
        "member": [
         {
          "@id": "4635757b-6acb-41e1-abef-17c34a43c091"
         },
         {
          "@id": "16f048dd-8d36-4e42-9ffc-811fca8114c9"
         },
         {
          "@id": "a8eac056-14b5-4e33-9941-f707b0d2b2c5"
         }
        ],
        "membership": [
         {
          "@id": "e55a97db-2279-42a3-91fe-678d4d563545"
         },
         {
          "@id": "e2f45a27-0872-4894-ad0e-67292c40572d"
         }
        ],
        "name": "jdehart_demo",
        "ownedAnnotation": [],
        "ownedElement": [
         {
          "@id": "16f048dd-8d36-4e42-9ffc-811fca8114c9"
         },
         {
          "@id": "a8eac056-14b5-4e33-9941-f707b0d2b2c5"
         }
        ],
        "ownedImport": [
         {
          "@id": "433fa4af-5e9b-4c64-bf00-f37cba8cfaac"
         }
        ],
        "ownedMember": [
         {
          "@id": "16f048dd-8d36-4e42-9ffc-811fca8114c9"
         },
         {
          "@id": "a8eac056-14b5-4e33-9941-f707b0d2b2c5"
         }
        ],
        "ownedMembership": [
         {
          "@id": "e55a97db-2279-42a3-91fe-678d4d563545"
         },
         {
          "@id": "e2f45a27-0872-4894-ad0e-67292c40572d"
         }
        ],
        "ownedRelationship": [
         {
          "@id": "433fa4af-5e9b-4c64-bf00-f37cba8cfaac"
         },
         {
          "@id": "e55a97db-2279-42a3-91fe-678d4d563545"
         },
         {
          "@id": "e2f45a27-0872-4894-ad0e-67292c40572d"
         }
        ],
        "ownedTextualRepresentation": [],
        "owner": null,
        "owningMembership": null,
        "owningNamespace": null,
        "owningRelationship": null,
        "qualifiedName": "jdehart_demo"
       },
       {
        "@id": "8b138df6-ce13-47f5-a139-9db5324ad92c",
        "@type": "FeatureMembership",
        "aliasId": [],
        "direction": null,
        "documentation": [],
        "documentationComment": [],
        "effectiveMemberName": null,
        "effectiveName": null,
        "featureOfType": {
         "@id": "0d1dfeea-5169-47ab-91ae-1bc9efdfdc94"
        },
        "featuringType": null,
        "humanId": null,
        "identifier": "8b138df6-ce13-47f5-a139-9db5324ad92c",
        "isComposite": false,
        "isDerived": false,
        "isPort": false,
        "isPortion": false,
        "isReadOnly": false,
        "memberElement": {
         "@id": "0d1dfeea-5169-47ab-91ae-1bc9efdfdc94"
        },
        "memberFeature": {
         "@id": "0d1dfeea-5169-47ab-91ae-1bc9efdfdc94"
        },
        "memberName": "mass",
        "membershipOwningNamespace": {
         "@id": "a8eac056-14b5-4e33-9941-f707b0d2b2c5"
        },
        "name": null,
        "ownedAnnotation": [],
        "ownedElement": [],
        "ownedMemberElement": {
         "@id": "0d1dfeea-5169-47ab-91ae-1bc9efdfdc94"
        },
        "ownedMemberFeature": {
         "@id": "0d1dfeea-5169-47ab-91ae-1bc9efdfdc94"
        },
        "ownedRelatedElement": [
         {
          "@id": "0d1dfeea-5169-47ab-91ae-1bc9efdfdc94"
         }
        ],
        "ownedRelationship": [],
        "ownedTextualRepresentation": [],
        "owner": null,
        "owningFeatureOfType": null,
        "owningMembership": null,
        "owningNamespace": null,
        "owningRelatedElement": {
         "@id": "a8eac056-14b5-4e33-9941-f707b0d2b2c5"
        },
        "owningRelationship": null,
        "owningType": {
         "@id": "a8eac056-14b5-4e33-9941-f707b0d2b2c5"
        },
        "qualifiedName": null,
        "relatedElement": [
         {
          "@id": "a8eac056-14b5-4e33-9941-f707b0d2b2c5"
         },
         {
          "@id": "0d1dfeea-5169-47ab-91ae-1bc9efdfdc94"
         }
        ],
        "source": [
         {
          "@id": "a8eac056-14b5-4e33-9941-f707b0d2b2c5"
         }
        ],
        "target": [
         {
          "@id": "0d1dfeea-5169-47ab-91ae-1bc9efdfdc94"
         }
        ],
        "visibility": "PUBLIC"
       },
       {
        "@id": "a8eac056-14b5-4e33-9941-f707b0d2b2c5",
        "@type": "PartUsage",
        "aliasId": [],
        "documentation": [],
        "documentationComment": [],
        "effectiveName": null,
        "endFeature": [],
        "endOwningType": null,
        "feature": [
         {
          "@id": "0d1dfeea-5169-47ab-91ae-1bc9efdfdc94"
         }
        ],
        "featureMembership": [
         {
          "@id": "8b138df6-ce13-47f5-a139-9db5324ad92c"
         }
        ],
        "featuringType": [],
        "flowFeature": [],
        "humanId": null,
        "identifier": "a8eac056-14b5-4e33-9941-f707b0d2b2c5",
        "importedMembership": [],
        "inheritedFeature": [],
        "inheritedMembership": [],
        "input": [],
        "isAbstract": false,
        "isComposite": false,
        "isConjugated": false,
        "isEnd": false,
        "isNonunique": false,
        "isOrdered": false,
        "isSufficient": false,
        "isUnique": true,
        "isVariation": false,
        "itemDefinition": [],
        "member": [
         {
          "@id": "0d1dfeea-5169-47ab-91ae-1bc9efdfdc94"
         }
        ],
        "membership": [
         {
          "@id": "8b138df6-ce13-47f5-a139-9db5324ad92c"
         }
        ],
        "multiplicity": null,
        "name": "B",
        "nestedAction": [],
        "nestedAllocation": [],
        "nestedAnalysisCase": [],
        "nestedAttribute": [
         {
          "@id": "0d1dfeea-5169-47ab-91ae-1bc9efdfdc94"
         }
        ],
        "nestedCalculation": [],
        "nestedCase": [],
        "nestedConcern": [],
        "nestedConnection": [],
        "nestedConstraint": [],
        "nestedEnumeration": [],
        "nestedIndividual": [],
        "nestedInterface": [],
        "nestedItem": [],
        "nestedPart": [],
        "nestedPort": [],
        "nestedReference": [],
        "nestedRendering": [],
        "nestedRequirement": [],
        "nestedStakeholder": [],
        "nestedState": [],
        "nestedTransition": [],
        "nestedUsage": [
         {
          "@id": "0d1dfeea-5169-47ab-91ae-1bc9efdfdc94"
         }
        ],
        "nestedVerificationCase": [],
        "nestedView": [],
        "nestedViewpoint": [],
        "output": [],
        "ownedAnnotation": [],
        "ownedConjugator": null,
        "ownedElement": [
         {
          "@id": "0d1dfeea-5169-47ab-91ae-1bc9efdfdc94"
         }
        ],
        "ownedEndFeature": [],
        "ownedFeature": [
         {
          "@id": "0d1dfeea-5169-47ab-91ae-1bc9efdfdc94"
         }
        ],
        "ownedFeatureMembership": [
         {
          "@id": "8b138df6-ce13-47f5-a139-9db5324ad92c"
         }
        ],
        "ownedGeneralization": [],
        "ownedImport": [],
        "ownedMember": [
         {
          "@id": "0d1dfeea-5169-47ab-91ae-1bc9efdfdc94"
         }
        ],
        "ownedMembership": [
         {
          "@id": "8b138df6-ce13-47f5-a139-9db5324ad92c"
         }
        ],
        "ownedRedefinition": [],
        "ownedRelationship": [
         {
          "@id": "8b138df6-ce13-47f5-a139-9db5324ad92c"
         }
        ],
        "ownedSubsetting": [],
        "ownedTextualRepresentation": [],
        "ownedTypeFeaturing": [],
        "ownedTyping": [],
        "owner": {
         "@id": "76445bf5-19bb-468c-986d-3d065552c05c"
        },
        "owningDefinition": null,
        "owningFeatureMembership": null,
        "owningMembership": {
         "@id": "e2f45a27-0872-4894-ad0e-67292c40572d"
        },
        "owningNamespace": {
         "@id": "76445bf5-19bb-468c-986d-3d065552c05c"
        },
        "owningRelationship": {
         "@id": "e2f45a27-0872-4894-ad0e-67292c40572d"
        },
        "owningType": null,
        "owningUsage": null,
        "partDefinition": [],
        "qualifiedName": "jdehart_demo::B",
        "type": [],
        "usage": [
         {
          "@id": "0d1dfeea-5169-47ab-91ae-1bc9efdfdc94"
         }
        ],
        "variant": [],
        "variantMembership": []
       },
       {
        "@id": "ab152282-9c4d-4fde-905d-e3b7addfbe75",
        "@type": "FeatureTyping",
        "aliasId": [],
        "documentation": [],
        "documentationComment": [],
        "effectiveName": null,
        "general": {
         "@id": "4635757b-6acb-41e1-abef-17c34a43c091"
        },
        "humanId": null,
        "identifier": "ab152282-9c4d-4fde-905d-e3b7addfbe75",
        "name": null,
        "ownedAnnotation": [],
        "ownedElement": [],
        "ownedRelatedElement": [],
        "ownedRelationship": [],
        "ownedTextualRepresentation": [],
        "owner": null,
        "owningFeature": {
         "@id": "0d1dfeea-5169-47ab-91ae-1bc9efdfdc94"
        },
        "owningMembership": null,
        "owningNamespace": null,
        "owningRelatedElement": {
         "@id": "0d1dfeea-5169-47ab-91ae-1bc9efdfdc94"
        },
        "owningRelationship": null,
        "owningType": {
         "@id": "0d1dfeea-5169-47ab-91ae-1bc9efdfdc94"
        },
        "qualifiedName": null,
        "relatedElement": [
         {
          "@id": "0d1dfeea-5169-47ab-91ae-1bc9efdfdc94"
         },
         {
          "@id": "4635757b-6acb-41e1-abef-17c34a43c091"
         }
        ],
        "source": [
         {
          "@id": "0d1dfeea-5169-47ab-91ae-1bc9efdfdc94"
         }
        ],
        "specific": {
         "@id": "0d1dfeea-5169-47ab-91ae-1bc9efdfdc94"
        },
        "target": [
         {
          "@id": "4635757b-6acb-41e1-abef-17c34a43c091"
         }
        ],
        "type": {
         "@id": "4635757b-6acb-41e1-abef-17c34a43c091"
        },
        "typedFeature": {
         "@id": "0d1dfeea-5169-47ab-91ae-1bc9efdfdc94"
        }
       },
       {
        "@id": "ac4a65ea-eaf7-4b5b-84a7-dcc5c9042abf",
        "@type": "FeatureTyping",
        "aliasId": [],
        "documentation": [],
        "documentationComment": [],
        "effectiveName": null,
        "general": {
         "@id": "4635757b-6acb-41e1-abef-17c34a43c091"
        },
        "humanId": null,
        "identifier": "ac4a65ea-eaf7-4b5b-84a7-dcc5c9042abf",
        "name": null,
        "ownedAnnotation": [],
        "ownedElement": [],
        "ownedRelatedElement": [],
        "ownedRelationship": [],
        "ownedTextualRepresentation": [],
        "owner": null,
        "owningFeature": {
         "@id": "da4ba517-7f32-4652-890e-1200ea637f7b"
        },
        "owningMembership": null,
        "owningNamespace": null,
        "owningRelatedElement": {
         "@id": "da4ba517-7f32-4652-890e-1200ea637f7b"
        },
        "owningRelationship": null,
        "owningType": {
         "@id": "da4ba517-7f32-4652-890e-1200ea637f7b"
        },
        "qualifiedName": null,
        "relatedElement": [
         {
          "@id": "da4ba517-7f32-4652-890e-1200ea637f7b"
         },
         {
          "@id": "4635757b-6acb-41e1-abef-17c34a43c091"
         }
        ],
        "source": [
         {
          "@id": "da4ba517-7f32-4652-890e-1200ea637f7b"
         }
        ],
        "specific": {
         "@id": "da4ba517-7f32-4652-890e-1200ea637f7b"
        },
        "target": [
         {
          "@id": "4635757b-6acb-41e1-abef-17c34a43c091"
         }
        ],
        "type": {
         "@id": "4635757b-6acb-41e1-abef-17c34a43c091"
        },
        "typedFeature": {
         "@id": "da4ba517-7f32-4652-890e-1200ea637f7b"
        }
       },
       {
        "@id": "c7f88694-de70-4f71-afaa-afff972ef366",
        "@type": "Package",
        "aliasId": [],
        "documentation": [],
        "documentationComment": [],
        "effectiveName": null,
        "filterCondition": [],
        "humanId": null,
        "identifier": "c7f88694-de70-4f71-afaa-afff972ef366",
        "importedMembership": [],
        "member": [],
        "membership": [],
        "name": "ScalarValues",
        "ownedAnnotation": [],
        "ownedElement": [],
        "ownedImport": [],
        "ownedMember": [],
        "ownedMembership": [],
        "ownedRelationship": [],
        "ownedTextualRepresentation": [],
        "owner": null,
        "owningMembership": null,
        "owningNamespace": null,
        "owningRelationship": null,
        "qualifiedName": "ScalarValues"
       },
       {
        "@id": "da4ba517-7f32-4652-890e-1200ea637f7b",
        "@type": "AttributeUsage",
        "aliasId": [],
        "attributeDefinition": [
         {
          "@id": "4635757b-6acb-41e1-abef-17c34a43c091"
         }
        ],
        "documentation": [],
        "documentationComment": [],
        "effectiveName": null,
        "endFeature": [],
        "endOwningType": null,
        "feature": [],
        "featureMembership": [],
        "featuringType": [
         {
          "@id": "16f048dd-8d36-4e42-9ffc-811fca8114c9"
         }
        ],
        "flowFeature": [],
        "humanId": null,
        "identifier": "da4ba517-7f32-4652-890e-1200ea637f7b",
        "importedMembership": [],
        "inheritedFeature": [],
        "inheritedMembership": [],
        "input": [],
        "isAbstract": false,
        "isComposite": false,
        "isConjugated": false,
        "isEnd": false,
        "isNonunique": false,
        "isOrdered": false,
        "isSufficient": false,
        "isUnique": true,
        "isVariation": false,
        "member": [],
        "membership": [],
        "multiplicity": null,
        "name": "mass",
        "nestedAction": [],
        "nestedAllocation": [],
        "nestedAnalysisCase": [],
        "nestedAttribute": [],
        "nestedCalculation": [],
        "nestedCase": [],
        "nestedConcern": [],
        "nestedConnection": [],
        "nestedConstraint": [],
        "nestedEnumeration": [],
        "nestedIndividual": [],
        "nestedInterface": [],
        "nestedItem": [],
        "nestedPart": [],
        "nestedPort": [],
        "nestedReference": [],
        "nestedRendering": [],
        "nestedRequirement": [],
        "nestedStakeholder": [],
        "nestedState": [],
        "nestedTransition": [],
        "nestedUsage": [],
        "nestedVerificationCase": [],
        "nestedView": [],
        "nestedViewpoint": [],
        "output": [],
        "ownedAnnotation": [],
        "ownedConjugator": null,
        "ownedElement": [],
        "ownedEndFeature": [],
        "ownedFeature": [],
        "ownedFeatureMembership": [],
        "ownedGeneralization": [
         {
          "@id": "ac4a65ea-eaf7-4b5b-84a7-dcc5c9042abf"
         }
        ],
        "ownedImport": [],
        "ownedMember": [],
        "ownedMembership": [],
        "ownedRedefinition": [],
        "ownedRelationship": [
         {
          "@id": "ac4a65ea-eaf7-4b5b-84a7-dcc5c9042abf"
         }
        ],
        "ownedSubsetting": [],
        "ownedTextualRepresentation": [],
        "ownedTypeFeaturing": [],
        "ownedTyping": [
         {
          "@id": "ac4a65ea-eaf7-4b5b-84a7-dcc5c9042abf"
         }
        ],
        "owner": {
         "@id": "16f048dd-8d36-4e42-9ffc-811fca8114c9"
        },
        "owningDefinition": null,
        "owningFeatureMembership": {
         "@id": "606cd553-dfe1-4606-9656-df9fb7cbe730"
        },
        "owningMembership": {
         "@id": "606cd553-dfe1-4606-9656-df9fb7cbe730"
        },
        "owningNamespace": {
         "@id": "16f048dd-8d36-4e42-9ffc-811fca8114c9"
        },
        "owningRelationship": {
         "@id": "606cd553-dfe1-4606-9656-df9fb7cbe730"
        },
        "owningType": {
         "@id": "16f048dd-8d36-4e42-9ffc-811fca8114c9"
        },
        "owningUsage": {
         "@id": "16f048dd-8d36-4e42-9ffc-811fca8114c9"
        },
        "qualifiedName": "jdehart_demo::A::mass",
        "type": [
         {
          "@id": "4635757b-6acb-41e1-abef-17c34a43c091"
         }
        ],
        "usage": [],
        "variant": [],
        "variantMembership": []
       },
       {
        "@id": "e2f45a27-0872-4894-ad0e-67292c40572d",
        "@type": "Membership",
        "aliasId": [],
        "documentation": [],
        "documentationComment": [],
        "effectiveMemberName": null,
        "effectiveName": null,
        "humanId": null,
        "identifier": "e2f45a27-0872-4894-ad0e-67292c40572d",
        "memberElement": {
         "@id": "a8eac056-14b5-4e33-9941-f707b0d2b2c5"
        },
        "memberName": "B",
        "membershipOwningNamespace": {
         "@id": "76445bf5-19bb-468c-986d-3d065552c05c"
        },
        "name": null,
        "ownedAnnotation": [],
        "ownedElement": [],
        "ownedMemberElement": {
         "@id": "a8eac056-14b5-4e33-9941-f707b0d2b2c5"
        },
        "ownedRelatedElement": [
         {
          "@id": "a8eac056-14b5-4e33-9941-f707b0d2b2c5"
         }
        ],
        "ownedRelationship": [],
        "ownedTextualRepresentation": [],
        "owner": null,
        "owningMembership": null,
        "owningNamespace": null,
        "owningRelatedElement": {
         "@id": "76445bf5-19bb-468c-986d-3d065552c05c"
        },
        "owningRelationship": null,
        "qualifiedName": null,
        "relatedElement": [
         {
          "@id": "76445bf5-19bb-468c-986d-3d065552c05c"
         },
         {
          "@id": "a8eac056-14b5-4e33-9941-f707b0d2b2c5"
         }
        ],
        "source": [
         {
          "@id": "76445bf5-19bb-468c-986d-3d065552c05c"
         }
        ],
        "target": [
         {
          "@id": "a8eac056-14b5-4e33-9941-f707b0d2b2c5"
         }
        ],
        "visibility": "PUBLIC"
       },
       {
        "@id": "e55a97db-2279-42a3-91fe-678d4d563545",
        "@type": "Membership",
        "aliasId": [],
        "documentation": [],
        "documentationComment": [],
        "effectiveMemberName": null,
        "effectiveName": null,
        "humanId": null,
        "identifier": "e55a97db-2279-42a3-91fe-678d4d563545",
        "memberElement": {
         "@id": "16f048dd-8d36-4e42-9ffc-811fca8114c9"
        },
        "memberName": "A",
        "membershipOwningNamespace": {
         "@id": "76445bf5-19bb-468c-986d-3d065552c05c"
        },
        "name": null,
        "ownedAnnotation": [],
        "ownedElement": [],
        "ownedMemberElement": {
         "@id": "16f048dd-8d36-4e42-9ffc-811fca8114c9"
        },
        "ownedRelatedElement": [
         {
          "@id": "16f048dd-8d36-4e42-9ffc-811fca8114c9"
         }
        ],
        "ownedRelationship": [],
        "ownedTextualRepresentation": [],
        "owner": null,
        "owningMembership": null,
        "owningNamespace": null,
        "owningRelatedElement": {
         "@id": "76445bf5-19bb-468c-986d-3d065552c05c"
        },
        "owningRelationship": null,
        "qualifiedName": null,
        "relatedElement": [
         {
          "@id": "76445bf5-19bb-468c-986d-3d065552c05c"
         },
         {
          "@id": "16f048dd-8d36-4e42-9ffc-811fca8114c9"
         }
        ],
        "source": [
         {
          "@id": "76445bf5-19bb-468c-986d-3d065552c05c"
         }
        ],
        "target": [
         {
          "@id": "16f048dd-8d36-4e42-9ffc-811fca8114c9"
         }
        ],
        "visibility": "PUBLIC"
       }
      ],
      "text/plain": [
       "<IPython.core.display.JSON object>"
      ]
     },
     "execution_count": 18,
     "metadata": {
      "application/json": {
       "expanded": false,
       "root": "root"
      }
     },
     "output_type": "execute_result"
    }
   ],
   "source": [
    "from IPython.display import JSON\n",
    "JSON(elements_data)"
   ]
  },
  {
   "cell_type": "code",
   "execution_count": 19,
   "id": "0bf5afed-e838-43b3-8ff6-44af4f103004",
   "metadata": {
    "kernel": "SoS"
   },
   "outputs": [
    {
     "data": {
      "text/plain": [
       "list"
      ]
     },
     "execution_count": 19,
     "metadata": {},
     "output_type": "execute_result"
    }
   ],
   "source": [
    "type(elements_data)"
   ]
  },
  {
   "cell_type": "code",
   "execution_count": 22,
   "id": "c9e948fc-92bf-4845-8afa-032efb45dd32",
   "metadata": {
    "kernel": "SoS"
   },
   "outputs": [
    {
     "data": {
      "text/html": [
       "<div>\n",
       "<style scoped>\n",
       "    .dataframe tbody tr th:only-of-type {\n",
       "        vertical-align: middle;\n",
       "    }\n",
       "\n",
       "    .dataframe tbody tr th {\n",
       "        vertical-align: top;\n",
       "    }\n",
       "\n",
       "    .dataframe thead th {\n",
       "        text-align: right;\n",
       "    }\n",
       "</style>\n",
       "<table border=\"1\" class=\"dataframe\">\n",
       "  <thead>\n",
       "    <tr style=\"text-align: right;\">\n",
       "      <th></th>\n",
       "      <th>@type</th>\n",
       "      <th>@id</th>\n",
       "      <th>aliasId</th>\n",
       "      <th>attributeDefinition</th>\n",
       "      <th>documentation</th>\n",
       "      <th>documentationComment</th>\n",
       "      <th>effectiveName</th>\n",
       "      <th>endFeature</th>\n",
       "      <th>endOwningType</th>\n",
       "      <th>feature</th>\n",
       "      <th>...</th>\n",
       "      <th>memberName</th>\n",
       "      <th>membershipOwningNamespace</th>\n",
       "      <th>ownedMemberElement</th>\n",
       "      <th>ownedMemberFeature</th>\n",
       "      <th>owningFeatureOfType</th>\n",
       "      <th>filterCondition</th>\n",
       "      <th>general</th>\n",
       "      <th>owningFeature</th>\n",
       "      <th>specific</th>\n",
       "      <th>typedFeature</th>\n",
       "    </tr>\n",
       "  </thead>\n",
       "  <tbody>\n",
       "    <tr>\n",
       "      <th>0</th>\n",
       "      <td>AttributeUsage</td>\n",
       "      <td>0d1dfeea-5169-47ab-91ae-1bc9efdfdc94</td>\n",
       "      <td>[]</td>\n",
       "      <td>[{'@id': '4635757b-6acb-41e1-abef-17c34a43c091'}]</td>\n",
       "      <td>[]</td>\n",
       "      <td>[]</td>\n",
       "      <td>None</td>\n",
       "      <td>[]</td>\n",
       "      <td>NaN</td>\n",
       "      <td>[]</td>\n",
       "      <td>...</td>\n",
       "      <td>NaN</td>\n",
       "      <td>NaN</td>\n",
       "      <td>NaN</td>\n",
       "      <td>NaN</td>\n",
       "      <td>NaN</td>\n",
       "      <td>NaN</td>\n",
       "      <td>NaN</td>\n",
       "      <td>NaN</td>\n",
       "      <td>NaN</td>\n",
       "      <td>NaN</td>\n",
       "    </tr>\n",
       "    <tr>\n",
       "      <th>1</th>\n",
       "      <td>PartUsage</td>\n",
       "      <td>16f048dd-8d36-4e42-9ffc-811fca8114c9</td>\n",
       "      <td>[]</td>\n",
       "      <td>NaN</td>\n",
       "      <td>[]</td>\n",
       "      <td>[]</td>\n",
       "      <td>None</td>\n",
       "      <td>[]</td>\n",
       "      <td>NaN</td>\n",
       "      <td>[{'@id': 'da4ba517-7f32-4652-890e-1200ea637f7b'}]</td>\n",
       "      <td>...</td>\n",
       "      <td>NaN</td>\n",
       "      <td>NaN</td>\n",
       "      <td>NaN</td>\n",
       "      <td>NaN</td>\n",
       "      <td>NaN</td>\n",
       "      <td>NaN</td>\n",
       "      <td>NaN</td>\n",
       "      <td>NaN</td>\n",
       "      <td>NaN</td>\n",
       "      <td>NaN</td>\n",
       "    </tr>\n",
       "    <tr>\n",
       "      <th>2</th>\n",
       "      <td>Import</td>\n",
       "      <td>433fa4af-5e9b-4c64-bf00-f37cba8cfaac</td>\n",
       "      <td>[]</td>\n",
       "      <td>NaN</td>\n",
       "      <td>[]</td>\n",
       "      <td>[]</td>\n",
       "      <td>None</td>\n",
       "      <td>NaN</td>\n",
       "      <td>NaN</td>\n",
       "      <td>NaN</td>\n",
       "      <td>...</td>\n",
       "      <td>NaN</td>\n",
       "      <td>NaN</td>\n",
       "      <td>NaN</td>\n",
       "      <td>NaN</td>\n",
       "      <td>NaN</td>\n",
       "      <td>NaN</td>\n",
       "      <td>NaN</td>\n",
       "      <td>NaN</td>\n",
       "      <td>NaN</td>\n",
       "      <td>NaN</td>\n",
       "    </tr>\n",
       "    <tr>\n",
       "      <th>3</th>\n",
       "      <td>DataType</td>\n",
       "      <td>4635757b-6acb-41e1-abef-17c34a43c091</td>\n",
       "      <td>[]</td>\n",
       "      <td>NaN</td>\n",
       "      <td>[]</td>\n",
       "      <td>[]</td>\n",
       "      <td>None</td>\n",
       "      <td>[]</td>\n",
       "      <td>NaN</td>\n",
       "      <td>[]</td>\n",
       "      <td>...</td>\n",
       "      <td>NaN</td>\n",
       "      <td>NaN</td>\n",
       "      <td>NaN</td>\n",
       "      <td>NaN</td>\n",
       "      <td>NaN</td>\n",
       "      <td>NaN</td>\n",
       "      <td>NaN</td>\n",
       "      <td>NaN</td>\n",
       "      <td>NaN</td>\n",
       "      <td>NaN</td>\n",
       "    </tr>\n",
       "    <tr>\n",
       "      <th>4</th>\n",
       "      <td>FeatureMembership</td>\n",
       "      <td>606cd553-dfe1-4606-9656-df9fb7cbe730</td>\n",
       "      <td>[]</td>\n",
       "      <td>NaN</td>\n",
       "      <td>[]</td>\n",
       "      <td>[]</td>\n",
       "      <td>None</td>\n",
       "      <td>NaN</td>\n",
       "      <td>NaN</td>\n",
       "      <td>NaN</td>\n",
       "      <td>...</td>\n",
       "      <td>mass</td>\n",
       "      <td>{'@id': '16f048dd-8d36-4e42-9ffc-811fca8114c9'}</td>\n",
       "      <td>{'@id': 'da4ba517-7f32-4652-890e-1200ea637f7b'}</td>\n",
       "      <td>{'@id': 'da4ba517-7f32-4652-890e-1200ea637f7b'}</td>\n",
       "      <td>NaN</td>\n",
       "      <td>NaN</td>\n",
       "      <td>NaN</td>\n",
       "      <td>NaN</td>\n",
       "      <td>NaN</td>\n",
       "      <td>NaN</td>\n",
       "    </tr>\n",
       "    <tr>\n",
       "      <th>5</th>\n",
       "      <td>Package</td>\n",
       "      <td>76445bf5-19bb-468c-986d-3d065552c05c</td>\n",
       "      <td>[]</td>\n",
       "      <td>NaN</td>\n",
       "      <td>[]</td>\n",
       "      <td>[]</td>\n",
       "      <td>None</td>\n",
       "      <td>NaN</td>\n",
       "      <td>NaN</td>\n",
       "      <td>NaN</td>\n",
       "      <td>...</td>\n",
       "      <td>NaN</td>\n",
       "      <td>NaN</td>\n",
       "      <td>NaN</td>\n",
       "      <td>NaN</td>\n",
       "      <td>NaN</td>\n",
       "      <td>[]</td>\n",
       "      <td>NaN</td>\n",
       "      <td>NaN</td>\n",
       "      <td>NaN</td>\n",
       "      <td>NaN</td>\n",
       "    </tr>\n",
       "    <tr>\n",
       "      <th>6</th>\n",
       "      <td>FeatureMembership</td>\n",
       "      <td>8b138df6-ce13-47f5-a139-9db5324ad92c</td>\n",
       "      <td>[]</td>\n",
       "      <td>NaN</td>\n",
       "      <td>[]</td>\n",
       "      <td>[]</td>\n",
       "      <td>None</td>\n",
       "      <td>NaN</td>\n",
       "      <td>NaN</td>\n",
       "      <td>NaN</td>\n",
       "      <td>...</td>\n",
       "      <td>mass</td>\n",
       "      <td>{'@id': 'a8eac056-14b5-4e33-9941-f707b0d2b2c5'}</td>\n",
       "      <td>{'@id': '0d1dfeea-5169-47ab-91ae-1bc9efdfdc94'}</td>\n",
       "      <td>{'@id': '0d1dfeea-5169-47ab-91ae-1bc9efdfdc94'}</td>\n",
       "      <td>NaN</td>\n",
       "      <td>NaN</td>\n",
       "      <td>NaN</td>\n",
       "      <td>NaN</td>\n",
       "      <td>NaN</td>\n",
       "      <td>NaN</td>\n",
       "    </tr>\n",
       "    <tr>\n",
       "      <th>7</th>\n",
       "      <td>PartUsage</td>\n",
       "      <td>a8eac056-14b5-4e33-9941-f707b0d2b2c5</td>\n",
       "      <td>[]</td>\n",
       "      <td>NaN</td>\n",
       "      <td>[]</td>\n",
       "      <td>[]</td>\n",
       "      <td>None</td>\n",
       "      <td>[]</td>\n",
       "      <td>NaN</td>\n",
       "      <td>[{'@id': '0d1dfeea-5169-47ab-91ae-1bc9efdfdc94'}]</td>\n",
       "      <td>...</td>\n",
       "      <td>NaN</td>\n",
       "      <td>NaN</td>\n",
       "      <td>NaN</td>\n",
       "      <td>NaN</td>\n",
       "      <td>NaN</td>\n",
       "      <td>NaN</td>\n",
       "      <td>NaN</td>\n",
       "      <td>NaN</td>\n",
       "      <td>NaN</td>\n",
       "      <td>NaN</td>\n",
       "    </tr>\n",
       "    <tr>\n",
       "      <th>8</th>\n",
       "      <td>FeatureTyping</td>\n",
       "      <td>ab152282-9c4d-4fde-905d-e3b7addfbe75</td>\n",
       "      <td>[]</td>\n",
       "      <td>NaN</td>\n",
       "      <td>[]</td>\n",
       "      <td>[]</td>\n",
       "      <td>None</td>\n",
       "      <td>NaN</td>\n",
       "      <td>NaN</td>\n",
       "      <td>NaN</td>\n",
       "      <td>...</td>\n",
       "      <td>NaN</td>\n",
       "      <td>NaN</td>\n",
       "      <td>NaN</td>\n",
       "      <td>NaN</td>\n",
       "      <td>NaN</td>\n",
       "      <td>NaN</td>\n",
       "      <td>{'@id': '4635757b-6acb-41e1-abef-17c34a43c091'}</td>\n",
       "      <td>{'@id': '0d1dfeea-5169-47ab-91ae-1bc9efdfdc94'}</td>\n",
       "      <td>{'@id': '0d1dfeea-5169-47ab-91ae-1bc9efdfdc94'}</td>\n",
       "      <td>{'@id': '0d1dfeea-5169-47ab-91ae-1bc9efdfdc94'}</td>\n",
       "    </tr>\n",
       "    <tr>\n",
       "      <th>9</th>\n",
       "      <td>FeatureTyping</td>\n",
       "      <td>ac4a65ea-eaf7-4b5b-84a7-dcc5c9042abf</td>\n",
       "      <td>[]</td>\n",
       "      <td>NaN</td>\n",
       "      <td>[]</td>\n",
       "      <td>[]</td>\n",
       "      <td>None</td>\n",
       "      <td>NaN</td>\n",
       "      <td>NaN</td>\n",
       "      <td>NaN</td>\n",
       "      <td>...</td>\n",
       "      <td>NaN</td>\n",
       "      <td>NaN</td>\n",
       "      <td>NaN</td>\n",
       "      <td>NaN</td>\n",
       "      <td>NaN</td>\n",
       "      <td>NaN</td>\n",
       "      <td>{'@id': '4635757b-6acb-41e1-abef-17c34a43c091'}</td>\n",
       "      <td>{'@id': 'da4ba517-7f32-4652-890e-1200ea637f7b'}</td>\n",
       "      <td>{'@id': 'da4ba517-7f32-4652-890e-1200ea637f7b'}</td>\n",
       "      <td>{'@id': 'da4ba517-7f32-4652-890e-1200ea637f7b'}</td>\n",
       "    </tr>\n",
       "    <tr>\n",
       "      <th>10</th>\n",
       "      <td>Package</td>\n",
       "      <td>c7f88694-de70-4f71-afaa-afff972ef366</td>\n",
       "      <td>[]</td>\n",
       "      <td>NaN</td>\n",
       "      <td>[]</td>\n",
       "      <td>[]</td>\n",
       "      <td>None</td>\n",
       "      <td>NaN</td>\n",
       "      <td>NaN</td>\n",
       "      <td>NaN</td>\n",
       "      <td>...</td>\n",
       "      <td>NaN</td>\n",
       "      <td>NaN</td>\n",
       "      <td>NaN</td>\n",
       "      <td>NaN</td>\n",
       "      <td>NaN</td>\n",
       "      <td>[]</td>\n",
       "      <td>NaN</td>\n",
       "      <td>NaN</td>\n",
       "      <td>NaN</td>\n",
       "      <td>NaN</td>\n",
       "    </tr>\n",
       "    <tr>\n",
       "      <th>11</th>\n",
       "      <td>AttributeUsage</td>\n",
       "      <td>da4ba517-7f32-4652-890e-1200ea637f7b</td>\n",
       "      <td>[]</td>\n",
       "      <td>[{'@id': '4635757b-6acb-41e1-abef-17c34a43c091'}]</td>\n",
       "      <td>[]</td>\n",
       "      <td>[]</td>\n",
       "      <td>None</td>\n",
       "      <td>[]</td>\n",
       "      <td>NaN</td>\n",
       "      <td>[]</td>\n",
       "      <td>...</td>\n",
       "      <td>NaN</td>\n",
       "      <td>NaN</td>\n",
       "      <td>NaN</td>\n",
       "      <td>NaN</td>\n",
       "      <td>NaN</td>\n",
       "      <td>NaN</td>\n",
       "      <td>NaN</td>\n",
       "      <td>NaN</td>\n",
       "      <td>NaN</td>\n",
       "      <td>NaN</td>\n",
       "    </tr>\n",
       "    <tr>\n",
       "      <th>12</th>\n",
       "      <td>Membership</td>\n",
       "      <td>e2f45a27-0872-4894-ad0e-67292c40572d</td>\n",
       "      <td>[]</td>\n",
       "      <td>NaN</td>\n",
       "      <td>[]</td>\n",
       "      <td>[]</td>\n",
       "      <td>None</td>\n",
       "      <td>NaN</td>\n",
       "      <td>NaN</td>\n",
       "      <td>NaN</td>\n",
       "      <td>...</td>\n",
       "      <td>B</td>\n",
       "      <td>{'@id': '76445bf5-19bb-468c-986d-3d065552c05c'}</td>\n",
       "      <td>{'@id': 'a8eac056-14b5-4e33-9941-f707b0d2b2c5'}</td>\n",
       "      <td>NaN</td>\n",
       "      <td>NaN</td>\n",
       "      <td>NaN</td>\n",
       "      <td>NaN</td>\n",
       "      <td>NaN</td>\n",
       "      <td>NaN</td>\n",
       "      <td>NaN</td>\n",
       "    </tr>\n",
       "    <tr>\n",
       "      <th>13</th>\n",
       "      <td>Membership</td>\n",
       "      <td>e55a97db-2279-42a3-91fe-678d4d563545</td>\n",
       "      <td>[]</td>\n",
       "      <td>NaN</td>\n",
       "      <td>[]</td>\n",
       "      <td>[]</td>\n",
       "      <td>None</td>\n",
       "      <td>NaN</td>\n",
       "      <td>NaN</td>\n",
       "      <td>NaN</td>\n",
       "      <td>...</td>\n",
       "      <td>A</td>\n",
       "      <td>{'@id': '76445bf5-19bb-468c-986d-3d065552c05c'}</td>\n",
       "      <td>{'@id': '16f048dd-8d36-4e42-9ffc-811fca8114c9'}</td>\n",
       "      <td>NaN</td>\n",
       "      <td>NaN</td>\n",
       "      <td>NaN</td>\n",
       "      <td>NaN</td>\n",
       "      <td>NaN</td>\n",
       "      <td>NaN</td>\n",
       "      <td>NaN</td>\n",
       "    </tr>\n",
       "  </tbody>\n",
       "</table>\n",
       "<p>14 rows × 118 columns</p>\n",
       "</div>"
      ],
      "text/plain": [
       "                @type                                   @id aliasId  \\\n",
       "0      AttributeUsage  0d1dfeea-5169-47ab-91ae-1bc9efdfdc94      []   \n",
       "1           PartUsage  16f048dd-8d36-4e42-9ffc-811fca8114c9      []   \n",
       "2              Import  433fa4af-5e9b-4c64-bf00-f37cba8cfaac      []   \n",
       "3            DataType  4635757b-6acb-41e1-abef-17c34a43c091      []   \n",
       "4   FeatureMembership  606cd553-dfe1-4606-9656-df9fb7cbe730      []   \n",
       "5             Package  76445bf5-19bb-468c-986d-3d065552c05c      []   \n",
       "6   FeatureMembership  8b138df6-ce13-47f5-a139-9db5324ad92c      []   \n",
       "7           PartUsage  a8eac056-14b5-4e33-9941-f707b0d2b2c5      []   \n",
       "8       FeatureTyping  ab152282-9c4d-4fde-905d-e3b7addfbe75      []   \n",
       "9       FeatureTyping  ac4a65ea-eaf7-4b5b-84a7-dcc5c9042abf      []   \n",
       "10            Package  c7f88694-de70-4f71-afaa-afff972ef366      []   \n",
       "11     AttributeUsage  da4ba517-7f32-4652-890e-1200ea637f7b      []   \n",
       "12         Membership  e2f45a27-0872-4894-ad0e-67292c40572d      []   \n",
       "13         Membership  e55a97db-2279-42a3-91fe-678d4d563545      []   \n",
       "\n",
       "                                  attributeDefinition documentation  \\\n",
       "0   [{'@id': '4635757b-6acb-41e1-abef-17c34a43c091'}]            []   \n",
       "1                                                 NaN            []   \n",
       "2                                                 NaN            []   \n",
       "3                                                 NaN            []   \n",
       "4                                                 NaN            []   \n",
       "5                                                 NaN            []   \n",
       "6                                                 NaN            []   \n",
       "7                                                 NaN            []   \n",
       "8                                                 NaN            []   \n",
       "9                                                 NaN            []   \n",
       "10                                                NaN            []   \n",
       "11  [{'@id': '4635757b-6acb-41e1-abef-17c34a43c091'}]            []   \n",
       "12                                                NaN            []   \n",
       "13                                                NaN            []   \n",
       "\n",
       "   documentationComment effectiveName endFeature  endOwningType  \\\n",
       "0                    []          None         []            NaN   \n",
       "1                    []          None         []            NaN   \n",
       "2                    []          None        NaN            NaN   \n",
       "3                    []          None         []            NaN   \n",
       "4                    []          None        NaN            NaN   \n",
       "5                    []          None        NaN            NaN   \n",
       "6                    []          None        NaN            NaN   \n",
       "7                    []          None         []            NaN   \n",
       "8                    []          None        NaN            NaN   \n",
       "9                    []          None        NaN            NaN   \n",
       "10                   []          None        NaN            NaN   \n",
       "11                   []          None         []            NaN   \n",
       "12                   []          None        NaN            NaN   \n",
       "13                   []          None        NaN            NaN   \n",
       "\n",
       "                                              feature  ... memberName  \\\n",
       "0                                                  []  ...        NaN   \n",
       "1   [{'@id': 'da4ba517-7f32-4652-890e-1200ea637f7b'}]  ...        NaN   \n",
       "2                                                 NaN  ...        NaN   \n",
       "3                                                  []  ...        NaN   \n",
       "4                                                 NaN  ...       mass   \n",
       "5                                                 NaN  ...        NaN   \n",
       "6                                                 NaN  ...       mass   \n",
       "7   [{'@id': '0d1dfeea-5169-47ab-91ae-1bc9efdfdc94'}]  ...        NaN   \n",
       "8                                                 NaN  ...        NaN   \n",
       "9                                                 NaN  ...        NaN   \n",
       "10                                                NaN  ...        NaN   \n",
       "11                                                 []  ...        NaN   \n",
       "12                                                NaN  ...          B   \n",
       "13                                                NaN  ...          A   \n",
       "\n",
       "                          membershipOwningNamespace  \\\n",
       "0                                               NaN   \n",
       "1                                               NaN   \n",
       "2                                               NaN   \n",
       "3                                               NaN   \n",
       "4   {'@id': '16f048dd-8d36-4e42-9ffc-811fca8114c9'}   \n",
       "5                                               NaN   \n",
       "6   {'@id': 'a8eac056-14b5-4e33-9941-f707b0d2b2c5'}   \n",
       "7                                               NaN   \n",
       "8                                               NaN   \n",
       "9                                               NaN   \n",
       "10                                              NaN   \n",
       "11                                              NaN   \n",
       "12  {'@id': '76445bf5-19bb-468c-986d-3d065552c05c'}   \n",
       "13  {'@id': '76445bf5-19bb-468c-986d-3d065552c05c'}   \n",
       "\n",
       "                                 ownedMemberElement  \\\n",
       "0                                               NaN   \n",
       "1                                               NaN   \n",
       "2                                               NaN   \n",
       "3                                               NaN   \n",
       "4   {'@id': 'da4ba517-7f32-4652-890e-1200ea637f7b'}   \n",
       "5                                               NaN   \n",
       "6   {'@id': '0d1dfeea-5169-47ab-91ae-1bc9efdfdc94'}   \n",
       "7                                               NaN   \n",
       "8                                               NaN   \n",
       "9                                               NaN   \n",
       "10                                              NaN   \n",
       "11                                              NaN   \n",
       "12  {'@id': 'a8eac056-14b5-4e33-9941-f707b0d2b2c5'}   \n",
       "13  {'@id': '16f048dd-8d36-4e42-9ffc-811fca8114c9'}   \n",
       "\n",
       "                                 ownedMemberFeature owningFeatureOfType  \\\n",
       "0                                               NaN                 NaN   \n",
       "1                                               NaN                 NaN   \n",
       "2                                               NaN                 NaN   \n",
       "3                                               NaN                 NaN   \n",
       "4   {'@id': 'da4ba517-7f32-4652-890e-1200ea637f7b'}                 NaN   \n",
       "5                                               NaN                 NaN   \n",
       "6   {'@id': '0d1dfeea-5169-47ab-91ae-1bc9efdfdc94'}                 NaN   \n",
       "7                                               NaN                 NaN   \n",
       "8                                               NaN                 NaN   \n",
       "9                                               NaN                 NaN   \n",
       "10                                              NaN                 NaN   \n",
       "11                                              NaN                 NaN   \n",
       "12                                              NaN                 NaN   \n",
       "13                                              NaN                 NaN   \n",
       "\n",
       "   filterCondition                                          general  \\\n",
       "0              NaN                                              NaN   \n",
       "1              NaN                                              NaN   \n",
       "2              NaN                                              NaN   \n",
       "3              NaN                                              NaN   \n",
       "4              NaN                                              NaN   \n",
       "5               []                                              NaN   \n",
       "6              NaN                                              NaN   \n",
       "7              NaN                                              NaN   \n",
       "8              NaN  {'@id': '4635757b-6acb-41e1-abef-17c34a43c091'}   \n",
       "9              NaN  {'@id': '4635757b-6acb-41e1-abef-17c34a43c091'}   \n",
       "10              []                                              NaN   \n",
       "11             NaN                                              NaN   \n",
       "12             NaN                                              NaN   \n",
       "13             NaN                                              NaN   \n",
       "\n",
       "                                      owningFeature  \\\n",
       "0                                               NaN   \n",
       "1                                               NaN   \n",
       "2                                               NaN   \n",
       "3                                               NaN   \n",
       "4                                               NaN   \n",
       "5                                               NaN   \n",
       "6                                               NaN   \n",
       "7                                               NaN   \n",
       "8   {'@id': '0d1dfeea-5169-47ab-91ae-1bc9efdfdc94'}   \n",
       "9   {'@id': 'da4ba517-7f32-4652-890e-1200ea637f7b'}   \n",
       "10                                              NaN   \n",
       "11                                              NaN   \n",
       "12                                              NaN   \n",
       "13                                              NaN   \n",
       "\n",
       "                                           specific  \\\n",
       "0                                               NaN   \n",
       "1                                               NaN   \n",
       "2                                               NaN   \n",
       "3                                               NaN   \n",
       "4                                               NaN   \n",
       "5                                               NaN   \n",
       "6                                               NaN   \n",
       "7                                               NaN   \n",
       "8   {'@id': '0d1dfeea-5169-47ab-91ae-1bc9efdfdc94'}   \n",
       "9   {'@id': 'da4ba517-7f32-4652-890e-1200ea637f7b'}   \n",
       "10                                              NaN   \n",
       "11                                              NaN   \n",
       "12                                              NaN   \n",
       "13                                              NaN   \n",
       "\n",
       "                                       typedFeature  \n",
       "0                                               NaN  \n",
       "1                                               NaN  \n",
       "2                                               NaN  \n",
       "3                                               NaN  \n",
       "4                                               NaN  \n",
       "5                                               NaN  \n",
       "6                                               NaN  \n",
       "7                                               NaN  \n",
       "8   {'@id': '0d1dfeea-5169-47ab-91ae-1bc9efdfdc94'}  \n",
       "9   {'@id': 'da4ba517-7f32-4652-890e-1200ea637f7b'}  \n",
       "10                                              NaN  \n",
       "11                                              NaN  \n",
       "12                                              NaN  \n",
       "13                                              NaN  \n",
       "\n",
       "[14 rows x 118 columns]"
      ]
     },
     "execution_count": 22,
     "metadata": {},
     "output_type": "execute_result"
    }
   ],
   "source": [
    "import pandas as pd\n",
    "df = pd.DataFrame(elements_data)\n",
    "df"
   ]
  },
  {
   "cell_type": "code",
   "execution_count": 32,
   "id": "c5d514f0-5a8d-4d15-a461-5bb2dc312371",
   "metadata": {
    "kernel": "SoS"
   },
   "outputs": [
    {
     "data": {
      "text/html": [
       "<div>\n",
       "<style scoped>\n",
       "    .dataframe tbody tr th:only-of-type {\n",
       "        vertical-align: middle;\n",
       "    }\n",
       "\n",
       "    .dataframe tbody tr th {\n",
       "        vertical-align: top;\n",
       "    }\n",
       "\n",
       "    .dataframe thead th {\n",
       "        text-align: right;\n",
       "    }\n",
       "</style>\n",
       "<table border=\"1\" class=\"dataframe\">\n",
       "  <thead>\n",
       "    <tr style=\"text-align: right;\">\n",
       "      <th></th>\n",
       "      <th>@id</th>\n",
       "      <th>@type</th>\n",
       "      <th>name</th>\n",
       "      <th>owningFeatureMembership</th>\n",
       "      <th>owningRelatedElement</th>\n",
       "    </tr>\n",
       "  </thead>\n",
       "  <tbody>\n",
       "    <tr>\n",
       "      <th>0</th>\n",
       "      <td>0d1dfeea-5169-47ab-91ae-1bc9efdfdc94</td>\n",
       "      <td>AttributeUsage</td>\n",
       "      <td>mass</td>\n",
       "      <td>{'@id': '8b138df6-ce13-47f5-a139-9db5324ad92c'}</td>\n",
       "      <td>NaN</td>\n",
       "    </tr>\n",
       "    <tr>\n",
       "      <th>1</th>\n",
       "      <td>16f048dd-8d36-4e42-9ffc-811fca8114c9</td>\n",
       "      <td>PartUsage</td>\n",
       "      <td>A</td>\n",
       "      <td>None</td>\n",
       "      <td>NaN</td>\n",
       "    </tr>\n",
       "    <tr>\n",
       "      <th>2</th>\n",
       "      <td>433fa4af-5e9b-4c64-bf00-f37cba8cfaac</td>\n",
       "      <td>Import</td>\n",
       "      <td>None</td>\n",
       "      <td>NaN</td>\n",
       "      <td>{'@id': '76445bf5-19bb-468c-986d-3d065552c05c'}</td>\n",
       "    </tr>\n",
       "    <tr>\n",
       "      <th>3</th>\n",
       "      <td>4635757b-6acb-41e1-abef-17c34a43c091</td>\n",
       "      <td>DataType</td>\n",
       "      <td>Real</td>\n",
       "      <td>NaN</td>\n",
       "      <td>NaN</td>\n",
       "    </tr>\n",
       "    <tr>\n",
       "      <th>4</th>\n",
       "      <td>606cd553-dfe1-4606-9656-df9fb7cbe730</td>\n",
       "      <td>FeatureMembership</td>\n",
       "      <td>None</td>\n",
       "      <td>NaN</td>\n",
       "      <td>{'@id': '16f048dd-8d36-4e42-9ffc-811fca8114c9'}</td>\n",
       "    </tr>\n",
       "    <tr>\n",
       "      <th>5</th>\n",
       "      <td>76445bf5-19bb-468c-986d-3d065552c05c</td>\n",
       "      <td>Package</td>\n",
       "      <td>jdehart_demo</td>\n",
       "      <td>NaN</td>\n",
       "      <td>NaN</td>\n",
       "    </tr>\n",
       "    <tr>\n",
       "      <th>6</th>\n",
       "      <td>8b138df6-ce13-47f5-a139-9db5324ad92c</td>\n",
       "      <td>FeatureMembership</td>\n",
       "      <td>None</td>\n",
       "      <td>NaN</td>\n",
       "      <td>{'@id': 'a8eac056-14b5-4e33-9941-f707b0d2b2c5'}</td>\n",
       "    </tr>\n",
       "    <tr>\n",
       "      <th>7</th>\n",
       "      <td>a8eac056-14b5-4e33-9941-f707b0d2b2c5</td>\n",
       "      <td>PartUsage</td>\n",
       "      <td>B</td>\n",
       "      <td>None</td>\n",
       "      <td>NaN</td>\n",
       "    </tr>\n",
       "    <tr>\n",
       "      <th>8</th>\n",
       "      <td>ab152282-9c4d-4fde-905d-e3b7addfbe75</td>\n",
       "      <td>FeatureTyping</td>\n",
       "      <td>None</td>\n",
       "      <td>NaN</td>\n",
       "      <td>{'@id': '0d1dfeea-5169-47ab-91ae-1bc9efdfdc94'}</td>\n",
       "    </tr>\n",
       "    <tr>\n",
       "      <th>9</th>\n",
       "      <td>ac4a65ea-eaf7-4b5b-84a7-dcc5c9042abf</td>\n",
       "      <td>FeatureTyping</td>\n",
       "      <td>None</td>\n",
       "      <td>NaN</td>\n",
       "      <td>{'@id': 'da4ba517-7f32-4652-890e-1200ea637f7b'}</td>\n",
       "    </tr>\n",
       "    <tr>\n",
       "      <th>10</th>\n",
       "      <td>c7f88694-de70-4f71-afaa-afff972ef366</td>\n",
       "      <td>Package</td>\n",
       "      <td>ScalarValues</td>\n",
       "      <td>NaN</td>\n",
       "      <td>NaN</td>\n",
       "    </tr>\n",
       "    <tr>\n",
       "      <th>11</th>\n",
       "      <td>da4ba517-7f32-4652-890e-1200ea637f7b</td>\n",
       "      <td>AttributeUsage</td>\n",
       "      <td>mass</td>\n",
       "      <td>{'@id': '606cd553-dfe1-4606-9656-df9fb7cbe730'}</td>\n",
       "      <td>NaN</td>\n",
       "    </tr>\n",
       "    <tr>\n",
       "      <th>12</th>\n",
       "      <td>e2f45a27-0872-4894-ad0e-67292c40572d</td>\n",
       "      <td>Membership</td>\n",
       "      <td>None</td>\n",
       "      <td>NaN</td>\n",
       "      <td>{'@id': '76445bf5-19bb-468c-986d-3d065552c05c'}</td>\n",
       "    </tr>\n",
       "    <tr>\n",
       "      <th>13</th>\n",
       "      <td>e55a97db-2279-42a3-91fe-678d4d563545</td>\n",
       "      <td>Membership</td>\n",
       "      <td>None</td>\n",
       "      <td>NaN</td>\n",
       "      <td>{'@id': '76445bf5-19bb-468c-986d-3d065552c05c'}</td>\n",
       "    </tr>\n",
       "  </tbody>\n",
       "</table>\n",
       "</div>"
      ],
      "text/plain": [
       "                                     @id              @type          name  \\\n",
       "0   0d1dfeea-5169-47ab-91ae-1bc9efdfdc94     AttributeUsage          mass   \n",
       "1   16f048dd-8d36-4e42-9ffc-811fca8114c9          PartUsage             A   \n",
       "2   433fa4af-5e9b-4c64-bf00-f37cba8cfaac             Import          None   \n",
       "3   4635757b-6acb-41e1-abef-17c34a43c091           DataType          Real   \n",
       "4   606cd553-dfe1-4606-9656-df9fb7cbe730  FeatureMembership          None   \n",
       "5   76445bf5-19bb-468c-986d-3d065552c05c            Package  jdehart_demo   \n",
       "6   8b138df6-ce13-47f5-a139-9db5324ad92c  FeatureMembership          None   \n",
       "7   a8eac056-14b5-4e33-9941-f707b0d2b2c5          PartUsage             B   \n",
       "8   ab152282-9c4d-4fde-905d-e3b7addfbe75      FeatureTyping          None   \n",
       "9   ac4a65ea-eaf7-4b5b-84a7-dcc5c9042abf      FeatureTyping          None   \n",
       "10  c7f88694-de70-4f71-afaa-afff972ef366            Package  ScalarValues   \n",
       "11  da4ba517-7f32-4652-890e-1200ea637f7b     AttributeUsage          mass   \n",
       "12  e2f45a27-0872-4894-ad0e-67292c40572d         Membership          None   \n",
       "13  e55a97db-2279-42a3-91fe-678d4d563545         Membership          None   \n",
       "\n",
       "                            owningFeatureMembership  \\\n",
       "0   {'@id': '8b138df6-ce13-47f5-a139-9db5324ad92c'}   \n",
       "1                                              None   \n",
       "2                                               NaN   \n",
       "3                                               NaN   \n",
       "4                                               NaN   \n",
       "5                                               NaN   \n",
       "6                                               NaN   \n",
       "7                                              None   \n",
       "8                                               NaN   \n",
       "9                                               NaN   \n",
       "10                                              NaN   \n",
       "11  {'@id': '606cd553-dfe1-4606-9656-df9fb7cbe730'}   \n",
       "12                                              NaN   \n",
       "13                                              NaN   \n",
       "\n",
       "                               owningRelatedElement  \n",
       "0                                               NaN  \n",
       "1                                               NaN  \n",
       "2   {'@id': '76445bf5-19bb-468c-986d-3d065552c05c'}  \n",
       "3                                               NaN  \n",
       "4   {'@id': '16f048dd-8d36-4e42-9ffc-811fca8114c9'}  \n",
       "5                                               NaN  \n",
       "6   {'@id': 'a8eac056-14b5-4e33-9941-f707b0d2b2c5'}  \n",
       "7                                               NaN  \n",
       "8   {'@id': '0d1dfeea-5169-47ab-91ae-1bc9efdfdc94'}  \n",
       "9   {'@id': 'da4ba517-7f32-4652-890e-1200ea637f7b'}  \n",
       "10                                              NaN  \n",
       "11                                              NaN  \n",
       "12  {'@id': '76445bf5-19bb-468c-986d-3d065552c05c'}  \n",
       "13  {'@id': '76445bf5-19bb-468c-986d-3d065552c05c'}  "
      ]
     },
     "execution_count": 32,
     "metadata": {},
     "output_type": "execute_result"
    }
   ],
   "source": [
    "df[[\"@id\",\"@type\",\"name\",\"owningFeatureMembership\",\"owningRelatedElement\"]]"
   ]
  },
  {
   "cell_type": "code",
   "execution_count": null,
   "id": "6f6b2801-19a9-48c5-af68-2f14f92392ea",
   "metadata": {
    "kernel": "SoS"
   },
   "outputs": [],
   "source": []
  }
 ],
 "metadata": {
  "kernelspec": {
   "display_name": "pyMBE",
   "language": "python",
   "name": "pymbe"
  },
  "language_info": {
   "codemirror_mode": {
    "name": "ipython",
    "version": 3
   },
   "file_extension": ".py",
   "mimetype": "text/x-python",
   "name": "python",
   "nbconvert_exporter": "python",
   "pygments_lexer": "ipython3",
   "version": "3.9.6"
  },
  "sos": {
   "kernels": [
    [
     "Python3",
     "python3",
     "Python3",
     "#FFD91A",
     {
      "name": "ipython",
      "version": 3
     }
    ],
    [
     "SoS",
     "sos",
     "",
     "",
     "sos"
    ]
   ],
   "version": "0.22.3"
  },
  "toc-autonumbering": false
 },
 "nbformat": 4,
 "nbformat_minor": 5
}
