{
 "cells": [
  {
   "cell_type": "code",
   "execution_count": 12,
   "id": "57ef21d5-f474-4e73-9837-6c6cefef60e0",
   "metadata": {
    "kernel": "Python3",
    "slideshow": {
     "slide_type": "slide"
    },
    "tags": []
   },
   "outputs": [
    {
     "name": "stdout",
     "output_type": "stream",
     "text": [
      "6 model(s) retrieved...\n"
     ]
    }
   ],
   "source": [
    "%put models modelNames\n",
    "from sysml2 import sysmlv2 as m\n",
    "models, modelNames = m.getModels()"
   ]
  },
  {
   "cell_type": "code",
   "execution_count": 13,
   "id": "f11dcd99-d730-47e4-ab61-6cbec3d64340",
   "metadata": {
    "kernel": "SoS",
    "slideshow": {
     "slide_type": "slide"
    },
    "tags": []
   },
   "outputs": [
    {
     "name": "stdout",
     "output_type": "stream",
     "text": [
      "package ModelExample_B {\n",
      "    import ScalarValues::*;\n",
      "\n",
      "    part def Automobile;\n",
      "    alias Automobile as Car;\n",
      "    \n",
      "    part def Aeroplane;\n",
      "    alias Aeroplane as Jet;\n",
      "    \n",
      "    part def Bicycle;\n",
      "}\n"
     ]
    }
   ],
   "source": [
    "print(models[3])"
   ]
  },
  {
   "cell_type": "code",
   "execution_count": 14,
   "id": "4fedaaef-ae2e-4f06-a21a-f12595c12a69",
   "metadata": {
    "kernel": "SoS",
    "slideshow": {
     "slide_type": "slide"
    },
    "tags": []
   },
   "outputs": [
    {
     "data": {
      "text/plain": [
       "['Requirements',\n",
       " 'Requirements',\n",
       " 'jdehart_ModelExample_A',\n",
       " 'ModelExample_B',\n",
       " 'Requirements',\n",
       " 'jdehart_partsModel']"
      ]
     },
     "execution_count": 14,
     "metadata": {},
     "output_type": "execute_result"
    }
   ],
   "source": [
    "modelNames"
   ]
  },
  {
   "cell_type": "code",
   "execution_count": 15,
   "id": "ed294241-9f73-45f9-bc73-d83174c34b1d",
   "metadata": {
    "kernel": "SysML",
    "slideshow": {
     "slide_type": "skip"
    },
    "tags": []
   },
   "outputs": [
    {
     "data": {
      "text/plain": [
       "Package jdehart_ModelExample_A (b5580b6d-513f-44f0-a2da-c6169ebc80c7)\n"
      ]
     },
     "execution_count": 15,
     "metadata": {},
     "output_type": "execute_result"
    }
   ],
   "source": [
    "%expand\n",
    "{models[2]}"
   ]
  },
  {
   "cell_type": "code",
   "execution_count": 16,
   "id": "ddb5f41e-9ec1-4cec-baaa-ce32bf1b0f3c",
   "metadata": {
    "kernel": "SysML",
    "slideshow": {
     "slide_type": "slide"
    },
    "tags": []
   },
   "outputs": [
    {
     "data": {
      "image/svg+xml": [
       "<?xml version=\"1.0\" encoding=\"UTF-8\" standalone=\"no\"?><svg xmlns=\"http://www.w3.org/2000/svg\" xmlns:xlink=\"http://www.w3.org/1999/xlink\" contentScriptType=\"application/ecmascript\" contentStyleType=\"text/css\" height=\"221px\" preserveAspectRatio=\"none\" style=\"width:352px;height:221px;\" version=\"1.1\" viewBox=\"0 0 352 221\" width=\"352px\" zoomAndPan=\"magnify\"><defs/><g><!--MD5=[fbc87193dbaf4d95561dea2c320d4a47]\n",
       "cluster E1--><a href=\"psysml:1e317542-e644-48d2-85d8-338f0f404648\" target=\"_top\" title=\"psysml:1e317542-e644-48d2-85d8-338f0f404648\" xlink:actuate=\"onRequest\" xlink:href=\"psysml:1e317542-e644-48d2-85d8-338f0f404648\" xlink:show=\"new\" xlink:title=\"psysml:1e317542-e644-48d2-85d8-338f0f404648\" xlink:type=\"simple\"><polygon fill=\"#FFFFFF\" points=\"16,6,215,6,222,28.2969,330,28.2969,330,209,16,209,16,6\" style=\"stroke: #000000; stroke-width: 1.5;\"/><line style=\"stroke: #000000; stroke-width: 1.5;\" x1=\"16\" x2=\"222\" y1=\"28.2969\" y2=\"28.2969\"/><text fill=\"#000000\" font-family=\"sans-serif\" font-size=\"14\" font-weight=\"bold\" lengthAdjust=\"spacingAndGlyphs\" textLength=\"193\" x=\"20\" y=\"20.9951\">jdehart_ModelExample_A</text></a><!--MD5=[b4997ac47864f28c2f74865a473b2911]\n",
       "class E2--><a href=\"psysml:b7e5b89b-dbcd-4612-9952-87f2bc4dbefa\" target=\"_top\" title=\"psysml:b7e5b89b-dbcd-4612-9952-87f2bc4dbefa\" xlink:actuate=\"onRequest\" xlink:href=\"psysml:b7e5b89b-dbcd-4612-9952-87f2bc4dbefa\" xlink:show=\"new\" xlink:title=\"psysml:b7e5b89b-dbcd-4612-9952-87f2bc4dbefa\" xlink:type=\"simple\"><rect fill=\"#FFFFFF\" height=\"45.9375\" id=\"E2\" style=\"stroke: #383838; stroke-width: 1.5;\" width=\"76\" x=\"238\" y=\"41\"/><text fill=\"#000000\" font-family=\"sans-serif\" font-size=\"12\" font-style=\"italic\" lengthAdjust=\"spacingAndGlyphs\" textLength=\"64\" x=\"244\" y=\"57.1387\">«part def»</text><text fill=\"#000000\" font-family=\"sans-serif\" font-size=\"12\" lengthAdjust=\"spacingAndGlyphs\" textLength=\"70\" x=\"241\" y=\"71.1074\">Automobile</text><line style=\"stroke: #383838; stroke-width: 1.5;\" x1=\"239\" x2=\"313\" y1=\"78.9375\" y2=\"78.9375\"/></a><!--MD5=[09b614a08d8cba4a07c9adeb5e0fee81]\n",
       "class E3--><a href=\"psysml:95764550-9733-4be1-8919-355142854132\" target=\"_top\" title=\"psysml:95764550-9733-4be1-8919-355142854132\" xlink:actuate=\"onRequest\" xlink:href=\"psysml:95764550-9733-4be1-8919-355142854132\" xlink:show=\"new\" xlink:title=\"psysml:95764550-9733-4be1-8919-355142854132\" xlink:type=\"simple\"><rect fill=\"#FFFFFF\" height=\"45.9375\" id=\"E3\" style=\"stroke: #383838; stroke-width: 1.5;\" width=\"70\" x=\"133\" y=\"41\"/><text fill=\"#000000\" font-family=\"sans-serif\" font-size=\"12\" font-style=\"italic\" lengthAdjust=\"spacingAndGlyphs\" textLength=\"64\" x=\"136\" y=\"57.1387\">«part def»</text><text fill=\"#000000\" font-family=\"sans-serif\" font-size=\"12\" lengthAdjust=\"spacingAndGlyphs\" textLength=\"64\" x=\"136\" y=\"71.1074\">Aeroplane</text><line style=\"stroke: #383838; stroke-width: 1.5;\" x1=\"134\" x2=\"202\" y1=\"78.9375\" y2=\"78.9375\"/></a><!--MD5=[ebbe1d658d1005bcc118a6aa81145e00]\n",
       "class E4--><a href=\"psysml:519ef700-d5ce-4226-9894-6449364ce760\" target=\"_top\" title=\"psysml:519ef700-d5ce-4226-9894-6449364ce760\" xlink:actuate=\"onRequest\" xlink:href=\"psysml:519ef700-d5ce-4226-9894-6449364ce760\" xlink:show=\"new\" xlink:title=\"psysml:519ef700-d5ce-4226-9894-6449364ce760\" xlink:type=\"simple\"><rect fill=\"#FFFFFF\" height=\"45.9375\" id=\"E4\" style=\"stroke: #383838; stroke-width: 1.5;\" width=\"66\" x=\"32\" y=\"41\"/><text fill=\"#000000\" font-family=\"sans-serif\" font-size=\"12\" font-style=\"italic\" lengthAdjust=\"spacingAndGlyphs\" textLength=\"64\" x=\"33\" y=\"57.1387\">«part def»</text><text fill=\"#000000\" font-family=\"sans-serif\" font-size=\"12\" lengthAdjust=\"spacingAndGlyphs\" textLength=\"42\" x=\"44\" y=\"71.1074\">Bicycle</text><line style=\"stroke: #383838; stroke-width: 1.5;\" x1=\"33\" x2=\"97\" y1=\"78.9375\" y2=\"78.9375\"/></a><!--MD5=[270fce915f116d4de14055a7c1d9a0f3]\n",
       "class E5--><a href=\"psysml:914b989b-3dd1-4f61-a51f-47a1fcc2d4e7\" target=\"_top\" title=\"psysml:914b989b-3dd1-4f61-a51f-47a1fcc2d4e7\" xlink:actuate=\"onRequest\" xlink:href=\"psysml:914b989b-3dd1-4f61-a51f-47a1fcc2d4e7\" xlink:show=\"new\" xlink:title=\"psysml:914b989b-3dd1-4f61-a51f-47a1fcc2d4e7\" xlink:type=\"simple\"><rect fill=\"#FFFFFF\" height=\"45.9375\" id=\"E5\" style=\"stroke: #383838; stroke-width: 1.5;\" width=\"66\" x=\"32\" y=\"147\"/><text fill=\"#000000\" font-family=\"sans-serif\" font-size=\"12\" font-style=\"italic\" lengthAdjust=\"spacingAndGlyphs\" textLength=\"64\" x=\"33\" y=\"163.1387\">«part def»</text><text fill=\"#000000\" font-family=\"sans-serif\" font-size=\"12\" lengthAdjust=\"spacingAndGlyphs\" textLength=\"38\" x=\"46\" y=\"177.1074\">Wheel</text><line style=\"stroke: #383838; stroke-width: 1.5;\" x1=\"33\" x2=\"97\" y1=\"184.9375\" y2=\"184.9375\"/></a><!--MD5=[62aa6af11e70f752912c1cb0466f24f7]\n",
       "reverse link E4 to E5--><a href=\"psysml:1e6a289b-a6c9-4694-b756-93bff82d2041\" target=\"_top\" title=\"psysml:1e6a289b-a6c9-4694-b756-93bff82d2041\" xlink:actuate=\"onRequest\" xlink:href=\"psysml:1e6a289b-a6c9-4694-b756-93bff82d2041\" xlink:show=\"new\" xlink:title=\"psysml:1e6a289b-a6c9-4694-b756-93bff82d2041\" xlink:type=\"simple\"><path d=\"M65,102.34 C65,117.3 65,134.02 65,146.98 \" fill=\"none\" id=\"E4&lt;-E5\" style=\"stroke: #383838; stroke-width: 1.0;\"/><ellipse cx=\"65\" cy=\"95.06\" fill=\"#FFFFFF\" rx=\"8\" ry=\"8\" style=\"stroke: #383838; stroke-width: 1.0;\"/><line style=\"stroke: #383838; stroke-width: 1.0;\" x1=\"65\" x2=\"65\" y1=\"103.06\" y2=\"87.06\"/><line style=\"stroke: #383838; stroke-width: 1.0;\" x1=\"57\" x2=\"73\" y1=\"95.06\" y2=\"95.06\"/></a><!--MD5=[37d7d3eca4b85be6e74634f6989d2d0e]\n",
       "@startuml\r\n",
       "skinparam monochrome true\r\n",
       "skinparam classbackgroundcolor white\r\n",
       "skinparam shadowing false\r\n",
       "skinparam wrapWidth 300\r\n",
       "hide circle\r\n",
       "\r\n",
       "package \"jdehart_ModelExample_A\" as E1  [[psysml:1e317542-e644-48d2-85d8-338f0f404648 ]]  {\r\n",
       "comp def \"Automobile\" as E2  <<(T,blue)part def>> [[psysml:b7e5b89b-dbcd-4612-9952-87f2bc4dbefa ]] {\r\n",
       "}\r\n",
       "comp def \"Aeroplane\" as E3  <<(T,blue)part def>> [[psysml:95764550-9733-4be1-8919-355142854132 ]] {\r\n",
       "}\r\n",
       "comp def \"Bicycle\" as E4  <<(T,blue)part def>> [[psysml:519ef700-d5ce-4226-9894-6449364ce760 ]] {\r\n",
       "}\r\n",
       "comp def \"Wheel\" as E5  <<(T,blue)part def>> [[psysml:914b989b-3dd1-4f61-a51f-47a1fcc2d4e7 ]] {\r\n",
       "}\r\n",
       "E4 +- - E5 [[psysml:1e6a289b-a6c9-4694-b756-93bff82d2041 ]] \r\n",
       "}\r\n",
       "@enduml\r\n",
       "\n",
       "PlantUML version 1.2020.13(Sat Jun 13 12:26:38 UTC 2020)\n",
       "(EPL source distribution)\n",
       "Java Runtime: OpenJDK Runtime Environment\n",
       "JVM: OpenJDK 64-Bit Server VM\n",
       "Default Encoding: UTF-8\n",
       "Language: en\n",
       "Country: null\n",
       "--></g></svg>"
      ]
     },
     "execution_count": 16,
     "metadata": {},
     "output_type": "execute_result"
    }
   ],
   "source": [
    "%expand\n",
    "%viz {modelNames[2]}"
   ]
  },
  {
   "cell_type": "code",
   "execution_count": 17,
   "id": "783ae21d-afe1-4277-bafa-ae5eb1727df8",
   "metadata": {
    "kernel": "SysML",
    "slideshow": {
     "slide_type": "skip"
    },
    "tags": []
   },
   "outputs": [
    {
     "data": {
      "text/plain": [
       "Comment (702def47-dacc-4c8c-b8e0-4a407a084d5a)\n"
      ]
     },
     "execution_count": 17,
     "metadata": {},
     "output_type": "execute_result"
    }
   ],
   "source": [
    "%expand\n",
    "/*%publish {modelNames[3]}*/"
   ]
  },
  {
   "cell_type": "markdown",
   "id": "fb946b53-a1f2-46de-98aa-39d2e3af09ff",
   "metadata": {
    "kernel": "Python3",
    "slideshow": {
     "slide_type": "subslide"
    },
    "tags": []
   },
   "source": [
    "Note: to retirve this model use the following api call --> http://sysml2.intercax.com:9000/projects/488b7990-0f19-4728-9c9b-39d96b686e2d/commits/b75c7be7-e142-4c7b-8af8-592374a0bf75\n"
   ]
  },
  {
   "cell_type": "code",
   "execution_count": 23,
   "id": "f5d8dda4-5e19-4974-b334-a8c82a5e8456",
   "metadata": {
    "kernel": "Python3",
    "slideshow": {
     "slide_type": "slide"
    },
    "tags": []
   },
   "outputs": [
    {
     "data": {
      "text/html": [
       "<style  type=\"text/css\" >\n",
       "    #T_d901e_ th {\n",
       "          text-align: left;\n",
       "    }#T_d901e_row0_col0,#T_d901e_row0_col1,#T_d901e_row0_col2,#T_d901e_row0_col3,#T_d901e_row0_col4,#T_d901e_row0_col5,#T_d901e_row0_col6,#T_d901e_row0_col7,#T_d901e_row0_col8,#T_d901e_row1_col0,#T_d901e_row1_col1,#T_d901e_row1_col2,#T_d901e_row1_col3,#T_d901e_row1_col4,#T_d901e_row1_col5,#T_d901e_row1_col6,#T_d901e_row1_col7,#T_d901e_row1_col8,#T_d901e_row2_col0,#T_d901e_row2_col1,#T_d901e_row2_col2,#T_d901e_row2_col3,#T_d901e_row2_col4,#T_d901e_row2_col5,#T_d901e_row2_col6,#T_d901e_row2_col7,#T_d901e_row2_col8,#T_d901e_row3_col0,#T_d901e_row3_col1,#T_d901e_row3_col2,#T_d901e_row3_col3,#T_d901e_row3_col4,#T_d901e_row3_col5,#T_d901e_row3_col6,#T_d901e_row3_col7,#T_d901e_row3_col8,#T_d901e_row4_col0,#T_d901e_row4_col1,#T_d901e_row4_col2,#T_d901e_row4_col3,#T_d901e_row4_col4,#T_d901e_row4_col5,#T_d901e_row4_col6,#T_d901e_row4_col7,#T_d901e_row4_col8,#T_d901e_row5_col0,#T_d901e_row5_col1,#T_d901e_row5_col2,#T_d901e_row5_col3,#T_d901e_row5_col4,#T_d901e_row5_col5,#T_d901e_row5_col6,#T_d901e_row5_col7,#T_d901e_row5_col8,#T_d901e_row6_col0,#T_d901e_row6_col1,#T_d901e_row6_col2,#T_d901e_row6_col3,#T_d901e_row6_col4,#T_d901e_row6_col5,#T_d901e_row6_col6,#T_d901e_row6_col7,#T_d901e_row6_col8,#T_d901e_row7_col0,#T_d901e_row7_col1,#T_d901e_row7_col2,#T_d901e_row7_col3,#T_d901e_row7_col4,#T_d901e_row7_col5,#T_d901e_row7_col6,#T_d901e_row7_col7,#T_d901e_row7_col8,#T_d901e_row8_col0,#T_d901e_row8_col1,#T_d901e_row8_col2,#T_d901e_row8_col3,#T_d901e_row8_col4,#T_d901e_row8_col5,#T_d901e_row8_col6,#T_d901e_row8_col7,#T_d901e_row8_col8,#T_d901e_row9_col0,#T_d901e_row9_col1,#T_d901e_row9_col2,#T_d901e_row9_col3,#T_d901e_row9_col4,#T_d901e_row9_col5,#T_d901e_row9_col6,#T_d901e_row9_col7,#T_d901e_row9_col8,#T_d901e_row10_col0,#T_d901e_row10_col1,#T_d901e_row10_col2,#T_d901e_row10_col3,#T_d901e_row10_col4,#T_d901e_row10_col5,#T_d901e_row10_col6,#T_d901e_row10_col7,#T_d901e_row10_col8,#T_d901e_row11_col0,#T_d901e_row11_col1,#T_d901e_row11_col2,#T_d901e_row11_col3,#T_d901e_row11_col4,#T_d901e_row11_col5,#T_d901e_row11_col6,#T_d901e_row11_col7,#T_d901e_row11_col8,#T_d901e_row12_col0,#T_d901e_row12_col1,#T_d901e_row12_col2,#T_d901e_row12_col3,#T_d901e_row12_col4,#T_d901e_row12_col5,#T_d901e_row12_col6,#T_d901e_row12_col7,#T_d901e_row12_col8,#T_d901e_row13_col0,#T_d901e_row13_col1,#T_d901e_row13_col2,#T_d901e_row13_col3,#T_d901e_row13_col4,#T_d901e_row13_col5,#T_d901e_row13_col6,#T_d901e_row13_col7,#T_d901e_row13_col8,#T_d901e_row14_col0,#T_d901e_row14_col1,#T_d901e_row14_col2,#T_d901e_row14_col3,#T_d901e_row14_col4,#T_d901e_row14_col5,#T_d901e_row14_col6,#T_d901e_row14_col7,#T_d901e_row14_col8,#T_d901e_row15_col0,#T_d901e_row15_col1,#T_d901e_row15_col2,#T_d901e_row15_col3,#T_d901e_row15_col4,#T_d901e_row15_col5,#T_d901e_row15_col6,#T_d901e_row15_col7,#T_d901e_row15_col8,#T_d901e_row16_col0,#T_d901e_row16_col1,#T_d901e_row16_col2,#T_d901e_row16_col3,#T_d901e_row16_col4,#T_d901e_row16_col5,#T_d901e_row16_col6,#T_d901e_row16_col7,#T_d901e_row16_col8,#T_d901e_row17_col0,#T_d901e_row17_col1,#T_d901e_row17_col2,#T_d901e_row17_col3,#T_d901e_row17_col4,#T_d901e_row17_col5,#T_d901e_row17_col6,#T_d901e_row17_col7,#T_d901e_row17_col8,#T_d901e_row18_col0,#T_d901e_row18_col1,#T_d901e_row18_col2,#T_d901e_row18_col3,#T_d901e_row18_col4,#T_d901e_row18_col5,#T_d901e_row18_col6,#T_d901e_row18_col7,#T_d901e_row18_col8,#T_d901e_row19_col0,#T_d901e_row19_col1,#T_d901e_row19_col2,#T_d901e_row19_col3,#T_d901e_row19_col4,#T_d901e_row19_col5,#T_d901e_row19_col6,#T_d901e_row19_col7,#T_d901e_row19_col8,#T_d901e_row20_col0,#T_d901e_row20_col1,#T_d901e_row20_col2,#T_d901e_row20_col3,#T_d901e_row20_col4,#T_d901e_row20_col5,#T_d901e_row20_col6,#T_d901e_row20_col7,#T_d901e_row20_col8{\n",
       "            text-align:  left;\n",
       "        }</style><table id=\"T_d901e_\" ><thead>    <tr>        <th class=\"blank level0\" ></th>        <th class=\"col_heading level0 col0\" >Class</th>        <th class=\"col_heading level0 col1\" >ID</th>        <th class=\"col_heading level0 col2\" >Name</th>        <th class=\"col_heading level0 col3\" >Doc</th>        <th class=\"col_heading level0 col4\" >Type</th>        <th class=\"col_heading level0 col5\" >Constraint</th>        <th class=\"col_heading level0 col6\" >Actual</th>        <th class=\"col_heading level0 col7\" >Delta</th>        <th class=\"col_heading level0 col8\" >Pass</th>    </tr></thead><tbody>\n",
       "                <tr>\n",
       "                        <th id=\"T_d901e_level0_row0\" class=\"row_heading level0 row0\" >0</th>\n",
       "                        <td id=\"T_d901e_row0_col0\" class=\"data row0 col0\" >requirement</td>\n",
       "                        <td id=\"T_d901e_row0_col1\" class=\"data row0 col1\" >1</td>\n",
       "                        <td id=\"T_d901e_row0_col2\" class=\"data row0 col2\" >Payload</td>\n",
       "                        <td id=\"T_d901e_row0_col3\" class=\"data row0 col3\" >UAV shall be able to carry a minimum of 10 pounds.</td>\n",
       "                        <td id=\"T_d901e_row0_col4\" class=\"data row0 col4\" ></td>\n",
       "                        <td id=\"T_d901e_row0_col5\" class=\"data row0 col5\" ></td>\n",
       "                        <td id=\"T_d901e_row0_col6\" class=\"data row0 col6\" ></td>\n",
       "                        <td id=\"T_d901e_row0_col7\" class=\"data row0 col7\" >20</td>\n",
       "                        <td id=\"T_d901e_row0_col8\" class=\"data row0 col8\" ></td>\n",
       "            </tr>\n",
       "            <tr>\n",
       "                        <th id=\"T_d901e_level0_row1\" class=\"row_heading level0 row1\" >1</th>\n",
       "                        <td id=\"T_d901e_row1_col0\" class=\"data row1 col0\" >attribute</td>\n",
       "                        <td id=\"T_d901e_row1_col1\" class=\"data row1 col1\" ></td>\n",
       "                        <td id=\"T_d901e_row1_col2\" class=\"data row1 col2\" >mass</td>\n",
       "                        <td id=\"T_d901e_row1_col3\" class=\"data row1 col3\" ></td>\n",
       "                        <td id=\"T_d901e_row1_col4\" class=\"data row1 col4\" >Real</td>\n",
       "                        <td id=\"T_d901e_row1_col5\" class=\"data row1 col5\" ></td>\n",
       "                        <td id=\"T_d901e_row1_col6\" class=\"data row1 col6\" ></td>\n",
       "                        <td id=\"T_d901e_row1_col7\" class=\"data row1 col7\" >50</td>\n",
       "                        <td id=\"T_d901e_row1_col8\" class=\"data row1 col8\" ></td>\n",
       "            </tr>\n",
       "            <tr>\n",
       "                        <th id=\"T_d901e_level0_row2\" class=\"row_heading level0 row2\" >2</th>\n",
       "                        <td id=\"T_d901e_row2_col0\" class=\"data row2 col0\" >requirement</td>\n",
       "                        <td id=\"T_d901e_row2_col1\" class=\"data row2 col1\" >1.1</td>\n",
       "                        <td id=\"T_d901e_row2_col2\" class=\"data row2 col2\" >PayloadCapacity</td>\n",
       "                        <td id=\"T_d901e_row2_col3\" class=\"data row2 col3\" >UAV shall be capable of carrying multiple packages in its paylaod</td>\n",
       "                        <td id=\"T_d901e_row2_col4\" class=\"data row2 col4\" ></td>\n",
       "                        <td id=\"T_d901e_row2_col5\" class=\"data row2 col5\" ></td>\n",
       "                        <td id=\"T_d901e_row2_col6\" class=\"data row2 col6\" ></td>\n",
       "                        <td id=\"T_d901e_row2_col7\" class=\"data row2 col7\" >20</td>\n",
       "                        <td id=\"T_d901e_row2_col8\" class=\"data row2 col8\" ></td>\n",
       "            </tr>\n",
       "            <tr>\n",
       "                        <th id=\"T_d901e_level0_row3\" class=\"row_heading level0 row3\" >3</th>\n",
       "                        <td id=\"T_d901e_row3_col0\" class=\"data row3 col0\" >attribute</td>\n",
       "                        <td id=\"T_d901e_row3_col1\" class=\"data row3 col1\" ></td>\n",
       "                        <td id=\"T_d901e_row3_col2\" class=\"data row3 col2\" >quantity</td>\n",
       "                        <td id=\"T_d901e_row3_col3\" class=\"data row3 col3\" ></td>\n",
       "                        <td id=\"T_d901e_row3_col4\" class=\"data row3 col4\" >Real</td>\n",
       "                        <td id=\"T_d901e_row3_col5\" class=\"data row3 col5\" ></td>\n",
       "                        <td id=\"T_d901e_row3_col6\" class=\"data row3 col6\" ></td>\n",
       "                        <td id=\"T_d901e_row3_col7\" class=\"data row3 col7\" >50</td>\n",
       "                        <td id=\"T_d901e_row3_col8\" class=\"data row3 col8\" ></td>\n",
       "            </tr>\n",
       "            <tr>\n",
       "                        <th id=\"T_d901e_level0_row4\" class=\"row_heading level0 row4\" >4</th>\n",
       "                        <td id=\"T_d901e_row4_col0\" class=\"data row4 col0\" >requirement</td>\n",
       "                        <td id=\"T_d901e_row4_col1\" class=\"data row4 col1\" >2</td>\n",
       "                        <td id=\"T_d901e_row4_col2\" class=\"data row4 col2\" >NumberOfHospitals</td>\n",
       "                        <td id=\"T_d901e_row4_col3\" class=\"data row4 col3\" >The UAVs shall be abel to serve a minimum of 3 rural hospitals</td>\n",
       "                        <td id=\"T_d901e_row4_col4\" class=\"data row4 col4\" ></td>\n",
       "                        <td id=\"T_d901e_row4_col5\" class=\"data row4 col5\" ></td>\n",
       "                        <td id=\"T_d901e_row4_col6\" class=\"data row4 col6\" ></td>\n",
       "                        <td id=\"T_d901e_row4_col7\" class=\"data row4 col7\" >20</td>\n",
       "                        <td id=\"T_d901e_row4_col8\" class=\"data row4 col8\" ></td>\n",
       "            </tr>\n",
       "            <tr>\n",
       "                        <th id=\"T_d901e_level0_row5\" class=\"row_heading level0 row5\" >5</th>\n",
       "                        <td id=\"T_d901e_row5_col0\" class=\"data row5 col0\" >requirement</td>\n",
       "                        <td id=\"T_d901e_row5_col1\" class=\"data row5 col1\" >2.1</td>\n",
       "                        <td id=\"T_d901e_row5_col2\" class=\"data row5 col2\" >SystemCapacity</td>\n",
       "                        <td id=\"T_d901e_row5_col3\" class=\"data row5 col3\" >Delivery system shall include a minimum of 3 UAVs</td>\n",
       "                        <td id=\"T_d901e_row5_col4\" class=\"data row5 col4\" ></td>\n",
       "                        <td id=\"T_d901e_row5_col5\" class=\"data row5 col5\" ></td>\n",
       "                        <td id=\"T_d901e_row5_col6\" class=\"data row5 col6\" ></td>\n",
       "                        <td id=\"T_d901e_row5_col7\" class=\"data row5 col7\" >20</td>\n",
       "                        <td id=\"T_d901e_row5_col8\" class=\"data row5 col8\" ></td>\n",
       "            </tr>\n",
       "            <tr>\n",
       "                        <th id=\"T_d901e_level0_row6\" class=\"row_heading level0 row6\" >6</th>\n",
       "                        <td id=\"T_d901e_row6_col0\" class=\"data row6 col0\" >requirement</td>\n",
       "                        <td id=\"T_d901e_row6_col1\" class=\"data row6 col1\" >3</td>\n",
       "                        <td id=\"T_d901e_row6_col2\" class=\"data row6 col2\" >DistributionSetup</td>\n",
       "                        <td id=\"T_d901e_row6_col3\" class=\"data row6 col3\" >There shall be one main hospital that UAVs will leave from and return to (hub)</td>\n",
       "                        <td id=\"T_d901e_row6_col4\" class=\"data row6 col4\" ></td>\n",
       "                        <td id=\"T_d901e_row6_col5\" class=\"data row6 col5\" ></td>\n",
       "                        <td id=\"T_d901e_row6_col6\" class=\"data row6 col6\" ></td>\n",
       "                        <td id=\"T_d901e_row6_col7\" class=\"data row6 col7\" >20</td>\n",
       "                        <td id=\"T_d901e_row6_col8\" class=\"data row6 col8\" ></td>\n",
       "            </tr>\n",
       "            <tr>\n",
       "                        <th id=\"T_d901e_level0_row7\" class=\"row_heading level0 row7\" >7</th>\n",
       "                        <td id=\"T_d901e_row7_col0\" class=\"data row7 col0\" >requirement</td>\n",
       "                        <td id=\"T_d901e_row7_col1\" class=\"data row7 col1\" >3.1</td>\n",
       "                        <td id=\"T_d901e_row7_col2\" class=\"data row7 col2\" >CentralControl</td>\n",
       "                        <td id=\"T_d901e_row7_col3\" class=\"data row7 col3\" >Hub facility shall allow for monitoring and manned control of all UAVs in the system</td>\n",
       "                        <td id=\"T_d901e_row7_col4\" class=\"data row7 col4\" ></td>\n",
       "                        <td id=\"T_d901e_row7_col5\" class=\"data row7 col5\" ></td>\n",
       "                        <td id=\"T_d901e_row7_col6\" class=\"data row7 col6\" ></td>\n",
       "                        <td id=\"T_d901e_row7_col7\" class=\"data row7 col7\" >20</td>\n",
       "                        <td id=\"T_d901e_row7_col8\" class=\"data row7 col8\" ></td>\n",
       "            </tr>\n",
       "            <tr>\n",
       "                        <th id=\"T_d901e_level0_row8\" class=\"row_heading level0 row8\" >8</th>\n",
       "                        <td id=\"T_d901e_row8_col0\" class=\"data row8 col0\" >requirement</td>\n",
       "                        <td id=\"T_d901e_row8_col1\" class=\"data row8 col1\" >3.2</td>\n",
       "                        <td id=\"T_d901e_row8_col2\" class=\"data row8 col2\" >BatteryCharging</td>\n",
       "                        <td id=\"T_d901e_row8_col3\" class=\"data row8 col3\" >UAV battery charging shall be done whenever the UAV is at the HUB</td>\n",
       "                        <td id=\"T_d901e_row8_col4\" class=\"data row8 col4\" ></td>\n",
       "                        <td id=\"T_d901e_row8_col5\" class=\"data row8 col5\" ></td>\n",
       "                        <td id=\"T_d901e_row8_col6\" class=\"data row8 col6\" ></td>\n",
       "                        <td id=\"T_d901e_row8_col7\" class=\"data row8 col7\" >20</td>\n",
       "                        <td id=\"T_d901e_row8_col8\" class=\"data row8 col8\" ></td>\n",
       "            </tr>\n",
       "            <tr>\n",
       "                        <th id=\"T_d901e_level0_row9\" class=\"row_heading level0 row9\" >9</th>\n",
       "                        <td id=\"T_d901e_row9_col0\" class=\"data row9 col0\" >requirement</td>\n",
       "                        <td id=\"T_d901e_row9_col1\" class=\"data row9 col1\" >3.3</td>\n",
       "                        <td id=\"T_d901e_row9_col2\" class=\"data row9 col2\" >HubCapacity</td>\n",
       "                        <td id=\"T_d901e_row9_col3\" class=\"data row9 col3\" >HUB shall be capable of docking all UAVs in the system</td>\n",
       "                        <td id=\"T_d901e_row9_col4\" class=\"data row9 col4\" ></td>\n",
       "                        <td id=\"T_d901e_row9_col5\" class=\"data row9 col5\" ></td>\n",
       "                        <td id=\"T_d901e_row9_col6\" class=\"data row9 col6\" ></td>\n",
       "                        <td id=\"T_d901e_row9_col7\" class=\"data row9 col7\" >20</td>\n",
       "                        <td id=\"T_d901e_row9_col8\" class=\"data row9 col8\" ></td>\n",
       "            </tr>\n",
       "            <tr>\n",
       "                        <th id=\"T_d901e_level0_row10\" class=\"row_heading level0 row10\" >10</th>\n",
       "                        <td id=\"T_d901e_row10_col0\" class=\"data row10 col0\" >requirement</td>\n",
       "                        <td id=\"T_d901e_row10_col1\" class=\"data row10 col1\" >3.4</td>\n",
       "                        <td id=\"T_d901e_row10_col2\" class=\"data row10 col2\" >UAVEmergency</td>\n",
       "                        <td id=\"T_d901e_row10_col3\" class=\"data row10 col3\" >In case of emergency, UAV shall return to the hub for troubleshooting and maintenance</td>\n",
       "                        <td id=\"T_d901e_row10_col4\" class=\"data row10 col4\" ></td>\n",
       "                        <td id=\"T_d901e_row10_col5\" class=\"data row10 col5\" ></td>\n",
       "                        <td id=\"T_d901e_row10_col6\" class=\"data row10 col6\" ></td>\n",
       "                        <td id=\"T_d901e_row10_col7\" class=\"data row10 col7\" >20</td>\n",
       "                        <td id=\"T_d901e_row10_col8\" class=\"data row10 col8\" ></td>\n",
       "            </tr>\n",
       "            <tr>\n",
       "                        <th id=\"T_d901e_level0_row11\" class=\"row_heading level0 row11\" >11</th>\n",
       "                        <td id=\"T_d901e_row11_col0\" class=\"data row11 col0\" >requirement</td>\n",
       "                        <td id=\"T_d901e_row11_col1\" class=\"data row11 col1\" >4</td>\n",
       "                        <td id=\"T_d901e_row11_col2\" class=\"data row11 col2\" >Distance</td>\n",
       "                        <td id=\"T_d901e_row11_col3\" class=\"data row11 col3\" >The UAV shall be able to travel a minimum of 100 miles round trip</td>\n",
       "                        <td id=\"T_d901e_row11_col4\" class=\"data row11 col4\" ></td>\n",
       "                        <td id=\"T_d901e_row11_col5\" class=\"data row11 col5\" ></td>\n",
       "                        <td id=\"T_d901e_row11_col6\" class=\"data row11 col6\" ></td>\n",
       "                        <td id=\"T_d901e_row11_col7\" class=\"data row11 col7\" >20</td>\n",
       "                        <td id=\"T_d901e_row11_col8\" class=\"data row11 col8\" ></td>\n",
       "            </tr>\n",
       "            <tr>\n",
       "                        <th id=\"T_d901e_level0_row12\" class=\"row_heading level0 row12\" >12</th>\n",
       "                        <td id=\"T_d901e_row12_col0\" class=\"data row12 col0\" >requirement</td>\n",
       "                        <td id=\"T_d901e_row12_col1\" class=\"data row12 col1\" >4.1</td>\n",
       "                        <td id=\"T_d901e_row12_col2\" class=\"data row12 col2\" >BatteryRuntimeDuration</td>\n",
       "                        <td id=\"T_d901e_row12_col3\" class=\"data row12 col3\" >The UAV shall be capable of running on battery long enough to meet the distance requirement.</td>\n",
       "                        <td id=\"T_d901e_row12_col4\" class=\"data row12 col4\" ></td>\n",
       "                        <td id=\"T_d901e_row12_col5\" class=\"data row12 col5\" ></td>\n",
       "                        <td id=\"T_d901e_row12_col6\" class=\"data row12 col6\" ></td>\n",
       "                        <td id=\"T_d901e_row12_col7\" class=\"data row12 col7\" >20</td>\n",
       "                        <td id=\"T_d901e_row12_col8\" class=\"data row12 col8\" ></td>\n",
       "            </tr>\n",
       "            <tr>\n",
       "                        <th id=\"T_d901e_level0_row13\" class=\"row_heading level0 row13\" >13</th>\n",
       "                        <td id=\"T_d901e_row13_col0\" class=\"data row13 col0\" >requirement</td>\n",
       "                        <td id=\"T_d901e_row13_col1\" class=\"data row13 col1\" >4.1.1</td>\n",
       "                        <td id=\"T_d901e_row13_col2\" class=\"data row13 col2\" >BatteryCapacity</td>\n",
       "                        <td id=\"T_d901e_row13_col3\" class=\"data row13 col3\" >UAV shall only initiate delivery when battery level is sufficient for delivery route plus 10% reserve</td>\n",
       "                        <td id=\"T_d901e_row13_col4\" class=\"data row13 col4\" ></td>\n",
       "                        <td id=\"T_d901e_row13_col5\" class=\"data row13 col5\" ></td>\n",
       "                        <td id=\"T_d901e_row13_col6\" class=\"data row13 col6\" ></td>\n",
       "                        <td id=\"T_d901e_row13_col7\" class=\"data row13 col7\" >20</td>\n",
       "                        <td id=\"T_d901e_row13_col8\" class=\"data row13 col8\" ></td>\n",
       "            </tr>\n",
       "            <tr>\n",
       "                        <th id=\"T_d901e_level0_row14\" class=\"row_heading level0 row14\" >14</th>\n",
       "                        <td id=\"T_d901e_row14_col0\" class=\"data row14 col0\" >requirement</td>\n",
       "                        <td id=\"T_d901e_row14_col1\" class=\"data row14 col1\" >5</td>\n",
       "                        <td id=\"T_d901e_row14_col2\" class=\"data row14 col2\" >ResponseTime</td>\n",
       "                        <td id=\"T_d901e_row14_col3\" class=\"data row14 col3\" >The UAV shall deliver payloads within 45min, 90% of the time</td>\n",
       "                        <td id=\"T_d901e_row14_col4\" class=\"data row14 col4\" ></td>\n",
       "                        <td id=\"T_d901e_row14_col5\" class=\"data row14 col5\" ></td>\n",
       "                        <td id=\"T_d901e_row14_col6\" class=\"data row14 col6\" ></td>\n",
       "                        <td id=\"T_d901e_row14_col7\" class=\"data row14 col7\" >20</td>\n",
       "                        <td id=\"T_d901e_row14_col8\" class=\"data row14 col8\" ></td>\n",
       "            </tr>\n",
       "            <tr>\n",
       "                        <th id=\"T_d901e_level0_row15\" class=\"row_heading level0 row15\" >15</th>\n",
       "                        <td id=\"T_d901e_row15_col0\" class=\"data row15 col0\" >requirement</td>\n",
       "                        <td id=\"T_d901e_row15_col1\" class=\"data row15 col1\" >5.1</td>\n",
       "                        <td id=\"T_d901e_row15_col2\" class=\"data row15 col2\" >ResponseTimeLogging</td>\n",
       "                        <td id=\"T_d901e_row15_col3\" class=\"data row15 col3\" >System shall include a data logging system for delivery time tracking</td>\n",
       "                        <td id=\"T_d901e_row15_col4\" class=\"data row15 col4\" ></td>\n",
       "                        <td id=\"T_d901e_row15_col5\" class=\"data row15 col5\" ></td>\n",
       "                        <td id=\"T_d901e_row15_col6\" class=\"data row15 col6\" ></td>\n",
       "                        <td id=\"T_d901e_row15_col7\" class=\"data row15 col7\" >20</td>\n",
       "                        <td id=\"T_d901e_row15_col8\" class=\"data row15 col8\" ></td>\n",
       "            </tr>\n",
       "            <tr>\n",
       "                        <th id=\"T_d901e_level0_row16\" class=\"row_heading level0 row16\" >16</th>\n",
       "                        <td id=\"T_d901e_row16_col0\" class=\"data row16 col0\" >requirement</td>\n",
       "                        <td id=\"T_d901e_row16_col1\" class=\"data row16 col1\" >5.2</td>\n",
       "                        <td id=\"T_d901e_row16_col2\" class=\"data row16 col2\" >UnmannedControl</td>\n",
       "                        <td id=\"T_d901e_row16_col3\" class=\"data row16 col3\" >UAS shall allow for autonomous deliveries on prescribed routes</td>\n",
       "                        <td id=\"T_d901e_row16_col4\" class=\"data row16 col4\" ></td>\n",
       "                        <td id=\"T_d901e_row16_col5\" class=\"data row16 col5\" ></td>\n",
       "                        <td id=\"T_d901e_row16_col6\" class=\"data row16 col6\" ></td>\n",
       "                        <td id=\"T_d901e_row16_col7\" class=\"data row16 col7\" >20</td>\n",
       "                        <td id=\"T_d901e_row16_col8\" class=\"data row16 col8\" ></td>\n",
       "            </tr>\n",
       "            <tr>\n",
       "                        <th id=\"T_d901e_level0_row17\" class=\"row_heading level0 row17\" >17</th>\n",
       "                        <td id=\"T_d901e_row17_col0\" class=\"data row17 col0\" >requirement</td>\n",
       "                        <td id=\"T_d901e_row17_col1\" class=\"data row17 col1\" >5.3</td>\n",
       "                        <td id=\"T_d901e_row17_col2\" class=\"data row17 col2\" >Speed</td>\n",
       "                        <td id=\"T_d901e_row17_col3\" class=\"data row17 col3\" >The UAV shall be able to maintain a speed high enough to meet the response time requirement.</td>\n",
       "                        <td id=\"T_d901e_row17_col4\" class=\"data row17 col4\" ></td>\n",
       "                        <td id=\"T_d901e_row17_col5\" class=\"data row17 col5\" ></td>\n",
       "                        <td id=\"T_d901e_row17_col6\" class=\"data row17 col6\" ></td>\n",
       "                        <td id=\"T_d901e_row17_col7\" class=\"data row17 col7\" >20</td>\n",
       "                        <td id=\"T_d901e_row17_col8\" class=\"data row17 col8\" ></td>\n",
       "            </tr>\n",
       "            <tr>\n",
       "                        <th id=\"T_d901e_level0_row18\" class=\"row_heading level0 row18\" >18</th>\n",
       "                        <td id=\"T_d901e_row18_col0\" class=\"data row18 col0\" >requirement</td>\n",
       "                        <td id=\"T_d901e_row18_col1\" class=\"data row18 col1\" >5.3.1</td>\n",
       "                        <td id=\"T_d901e_row18_col2\" class=\"data row18 col2\" >UAVRouting</td>\n",
       "                        <td id=\"T_d901e_row18_col3\" class=\"data row18 col3\" >UAV delivery routes shall be as efficient and direct as allowable</td>\n",
       "                        <td id=\"T_d901e_row18_col4\" class=\"data row18 col4\" ></td>\n",
       "                        <td id=\"T_d901e_row18_col5\" class=\"data row18 col5\" ></td>\n",
       "                        <td id=\"T_d901e_row18_col6\" class=\"data row18 col6\" ></td>\n",
       "                        <td id=\"T_d901e_row18_col7\" class=\"data row18 col7\" >20</td>\n",
       "                        <td id=\"T_d901e_row18_col8\" class=\"data row18 col8\" ></td>\n",
       "            </tr>\n",
       "            <tr>\n",
       "                        <th id=\"T_d901e_level0_row19\" class=\"row_heading level0 row19\" >19</th>\n",
       "                        <td id=\"T_d901e_row19_col0\" class=\"data row19 col0\" >requirement</td>\n",
       "                        <td id=\"T_d901e_row19_col1\" class=\"data row19 col1\" >5.3.2</td>\n",
       "                        <td id=\"T_d901e_row19_col2\" class=\"data row19 col2\" >SpeedAdjustment</td>\n",
       "                        <td id=\"T_d901e_row19_col3\" class=\"data row19 col3\" >UAV shall allow for adjusting of speed depending on environment</td>\n",
       "                        <td id=\"T_d901e_row19_col4\" class=\"data row19 col4\" ></td>\n",
       "                        <td id=\"T_d901e_row19_col5\" class=\"data row19 col5\" ></td>\n",
       "                        <td id=\"T_d901e_row19_col6\" class=\"data row19 col6\" ></td>\n",
       "                        <td id=\"T_d901e_row19_col7\" class=\"data row19 col7\" >20</td>\n",
       "                        <td id=\"T_d901e_row19_col8\" class=\"data row19 col8\" ></td>\n",
       "            </tr>\n",
       "            <tr>\n",
       "                        <th id=\"T_d901e_level0_row20\" class=\"row_heading level0 row20\" >20</th>\n",
       "                        <td id=\"T_d901e_row20_col0\" class=\"data row20 col0\" >requirement</td>\n",
       "                        <td id=\"T_d901e_row20_col1\" class=\"data row20 col1\" >5.3.4</td>\n",
       "                        <td id=\"T_d901e_row20_col2\" class=\"data row20 col2\" >SpeedPriority</td>\n",
       "                        <td id=\"T_d901e_row20_col3\" class=\"data row20 col3\" >System shall allow for prioritizing speed for urgent deliveries</td>\n",
       "                        <td id=\"T_d901e_row20_col4\" class=\"data row20 col4\" ></td>\n",
       "                        <td id=\"T_d901e_row20_col5\" class=\"data row20 col5\" ></td>\n",
       "                        <td id=\"T_d901e_row20_col6\" class=\"data row20 col6\" ></td>\n",
       "                        <td id=\"T_d901e_row20_col7\" class=\"data row20 col7\" >20</td>\n",
       "                        <td id=\"T_d901e_row20_col8\" class=\"data row20 col8\" ></td>\n",
       "            </tr>\n",
       "    </tbody></table>"
      ],
      "text/plain": [
       "<pandas.io.formats.style.Styler at 0x7f8e2d7d6c10>"
      ]
     },
     "execution_count": 23,
     "metadata": {},
     "output_type": "execute_result"
    }
   ],
   "source": [
    "%put reqs\n",
    "reqs = m.getReqs(\"reqTest.sysml\")\n",
    "reqs"
   ]
  },
  {
   "cell_type": "code",
   "execution_count": 22,
   "id": "d1c7e0cc-285a-4929-aa16-961771fd3091",
   "metadata": {
    "kernel": "SoS",
    "slideshow": {
     "slide_type": "skip"
    },
    "tags": []
   },
   "outputs": [
    {
     "ename": "ExecuteError",
     "evalue": "[0]: \n---------------------------------------------------------------------------\nNameError                                 Traceback (most recent call last)\nscript_215877058114804060 in <module>\n----> type(reqs)\n      \n\nNameError: name 'reqs' is not defined",
     "execution_count": 22,
     "output_type": "error",
     "status": "error",
     "traceback": [
      "\u001b[91m[0]: \n---------------------------------------------------------------------------\nNameError                                 Traceback (most recent call last)\nscript_215877058114804060 in <module>\n----> type(reqs)\n      \n\nNameError: name 'reqs' is not defined\u001b[0m"
     ]
    }
   ],
   "source": [
    "type(reqs)"
   ]
  },
  {
   "cell_type": "code",
   "execution_count": 20,
   "id": "17b9c6df-d98e-4d02-b95b-bd218a72cb28",
   "metadata": {
    "kernel": "R",
    "slideshow": {
     "slide_type": "skip"
    },
    "tags": []
   },
   "outputs": [
    {
     "name": "stderr",
     "output_type": "stream",
     "text": [
      "Variable reqs does not exist\n"
     ]
    },
    {
     "ename": "ERROR",
     "evalue": "Error in eval(expr, envir, enclos): object 'reqs' not found\n",
     "output_type": "error",
     "traceback": [
      "Error in eval(expr, envir, enclos): object 'reqs' not found\nTraceback:\n"
     ]
    }
   ],
   "source": [
    "%get reqs\n",
    "reqs"
   ]
  },
  {
   "cell_type": "code",
   "execution_count": 11,
   "id": "2f3e1c1a-aa9f-40a5-ae22-6a16822c30ea",
   "metadata": {
    "kernel": "R",
    "slideshow": {
     "slide_type": "skip"
    },
    "tags": []
   },
   "outputs": [
    {
     "data": {
      "text/html": [
       "'list'"
      ],
      "text/latex": [
       "'list'"
      ],
      "text/markdown": [
       "'list'"
      ],
      "text/plain": [
       "[1] \"list\""
      ]
     },
     "metadata": {},
     "output_type": "display_data"
    }
   ],
   "source": [
    "typeof(reqs)"
   ]
  },
  {
   "cell_type": "code",
   "execution_count": 24,
   "id": "13d04798-d724-4288-8fcf-13aedd98590c",
   "metadata": {
    "kernel": "Python3",
    "slideshow": {
     "slide_type": "skip"
    },
    "tags": []
   },
   "outputs": [
    {
     "data": {
      "text/plain": [
       "{'theme': 'sky',\n",
       " 'transition': 'zoom',\n",
       " 'start_slideshow_at': 'selected',\n",
       " 'scroll': True,\n",
       " 'enable_chalkboard': True}"
      ]
     },
     "execution_count": 24,
     "metadata": {},
     "output_type": "execute_result"
    }
   ],
   "source": [
    "#!/usr/bin/env python3\n",
    "from traitlets.config.manager import BaseJSONConfigManager\n",
    "from pathlib import Path\n",
    "path = Path.home() / \".jupyter\" / \"nbconfig\"\n",
    "cm = BaseJSONConfigManager(config_dir=str(path))\n",
    "cm.update(\n",
    "    \"rise\",\n",
    "    {\n",
    "        \"transition\": \"zoom\",\n",
    "        \"start_slideshow_at\": \"selected\",\n",
    "     }\n",
    ")"
   ]
  }
 ],
 "metadata": {
  "kernelspec": {
   "display_name": "SoS",
   "language": "sos",
   "name": "sos"
  },
  "language_info": {
   "codemirror_mode": "sos",
   "file_extension": ".sos",
   "mimetype": "text/x-sos",
   "name": "sos",
   "nbconvert_exporter": "sos_notebook.converter.SoS_Exporter",
   "pygments_lexer": "sos"
  },
  "sos": {
   "kernels": [
    [
     "Python3",
     "python3",
     "Python3",
     "#FFD91A",
     {
      "name": "ipython",
      "version": 3
     }
    ],
    [
     "R",
     "ir",
     "R",
     "#DCDCDA",
     "r"
    ],
    [
     "SoS",
     "sos",
     "",
     "",
     "sos"
    ],
    [
     "SysML",
     "sysml",
     "sysml",
     "",
     "sysml"
    ]
   ],
   "panel": {
    "displayed": false,
    "height": 0
   },
   "version": "0.22.3"
  }
 },
 "nbformat": 4,
 "nbformat_minor": 5
}
