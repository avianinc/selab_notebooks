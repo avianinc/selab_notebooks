{
 "cells": [
  {
   "cell_type": "markdown",
   "id": "d6a652b6-4974-434d-a55f-b5a6e22387e0",
   "metadata": {},
   "source": [
    "### A simple recursive fuction to extreact between brackets"
   ]
  },
  {
   "cell_type": "code",
   "execution_count": 6,
   "id": "2bf95d5c-7a91-4fd4-be4e-77d563823cf9",
   "metadata": {},
   "outputs": [],
   "source": [
    "def parse_parenthesis(string):\n",
    "    \n",
    "    left_paren = string.find('{')\n",
    "    right_paren = string.rfind('}')\n",
    "\n",
    "    if left_paren == -1 and right_paren == -1:\n",
    "        return [string.split(\";\")]\n",
    "\n",
    "    if left_paren == -1 or right_paren == -1:\n",
    "        raise ValueError('Parenthesis are unbalanced')\n",
    "\n",
    "    left_side = string[:left_paren]\n",
    "    print(left_side + \"-LS\")\n",
    "    \n",
    "    middle = string[left_paren + 1: right_paren]\n",
    "    print(middle + \"-M\")\n",
    "    \n",
    "    right_side = string[right_paren + 1:]\n",
    "    print(right_side + \"-RS\")\n",
    "\n",
    "    result = []\n",
    "    if left_side:\n",
    "        for i in left_side.split(\";\"):\n",
    "            result.append(i)\n",
    "\n",
    "    if middle:\n",
    "        result.append(parse_parenthesis(middle))\n",
    "\n",
    "    if right_side:\n",
    "        for i in right_side.split(\";\"):\n",
    "            result.append(i)\n",
    "        #result.append(right_side)\n",
    "        \n",
    "    #result = [string for string in result if string != \"\"]\n",
    "\n",
    "    return result"
   ]
  },
  {
   "cell_type": "code",
   "execution_count": 7,
   "id": "2afa4963-5ee2-4514-8d06-2633e20f0fce",
   "metadata": {},
   "outputs": [],
   "source": [
    "import json"
   ]
  },
  {
   "cell_type": "code",
   "execution_count": 8,
   "id": "ae36a55f-2df2-4fa7-a4c4-bb168254eba5",
   "metadata": {},
   "outputs": [
    {
     "name": "stdout",
     "output_type": "stream",
     "text": [
      "a;b-LS\n",
      "b;g{c;d;g{1;2;3}}f;g-M\n",
      "e-RS\n",
      "b;g-LS\n",
      "c;d;g{1;2;3}-M\n",
      "f;g-RS\n",
      "c;d;g-LS\n",
      "1;2;3-M\n",
      "-RS\n",
      "['a', 'b', ['b', 'g', ['c', 'd', 'g', [['1', '2', '3']]], 'f', 'g'], 'e']\n"
     ]
    }
   ],
   "source": [
    "message1 = 'a;b{b;g{c;d;g{1;2;3}}f;g}e'\n",
    "rtn = list(parse_parenthesis(message1))\n",
    "print(rtn)"
   ]
  },
  {
   "cell_type": "code",
   "execution_count": 9,
   "id": "a68a2581-f5bb-43e4-b681-9298d485c11f",
   "metadata": {},
   "outputs": [
    {
     "name": "stdout",
     "output_type": "stream",
     "text": [
      "r\n",
      "n\n"
     ]
    }
   ],
   "source": [
    "tmp = \"r;n\".split(\";\")\n",
    "for item in tmp:\n",
    "    print(item)"
   ]
  },
  {
   "cell_type": "code",
   "execution_count": 10,
   "id": "8c5f653b-2342-4e6b-96a9-4e20ad2bc0ef",
   "metadata": {},
   "outputs": [],
   "source": [
    "#message = 'packagepartsModel{partAutomobile;partAeroplane;partBicycle{partWheel{partHub;partTire;}partSeat;partFrame;}}'"
   ]
  },
  {
   "cell_type": "markdown",
   "id": "47e22755-cef8-4ba7-b1a1-04b0bde09e94",
   "metadata": {},
   "source": [
    "### Now lets try a model..."
   ]
  },
  {
   "cell_type": "code",
   "execution_count": 11,
   "id": "10c2a5bf-9b1e-4563-9d53-e0d3bca08153",
   "metadata": {},
   "outputs": [],
   "source": [
    "message = '''package partsModel {\n",
    "    part def Automobile; \n",
    "    part def Aeroplane; \n",
    "    part Bicycle {\n",
    "        part Wheel {\n",
    "            part Hub; \n",
    "            part Tire;\n",
    "            } \n",
    "        part Seat; \n",
    "        part Frame;\n",
    "    }\n",
    "}'''"
   ]
  },
  {
   "cell_type": "code",
   "execution_count": 12,
   "id": "b04f12e7-5ee0-4ab7-ba5e-b7eacef7c9bc",
   "metadata": {},
   "outputs": [
    {
     "name": "stdout",
     "output_type": "stream",
     "text": [
      "package partsModel {\n",
      "    part def Automobile; \n",
      "    part def Aeroplane; \n",
      "    part Bicycle {\n",
      "        part Wheel {\n",
      "            part Hub; \n",
      "            part Tire;\n",
      "            } \n",
      "        part Seat; \n",
      "        part Frame;\n",
      "    }\n",
      "}\n"
     ]
    }
   ],
   "source": [
    "print(message)"
   ]
  },
  {
   "cell_type": "code",
   "execution_count": 13,
   "id": "daff05ef-4c97-4532-bbb1-1564b46eaf47",
   "metadata": {},
   "outputs": [
    {
     "name": "stdout",
     "output_type": "stream",
     "text": [
      "package partsModel -LS\n",
      "\n",
      "    part def Automobile; \n",
      "    part def Aeroplane; \n",
      "    part Bicycle {\n",
      "        part Wheel {\n",
      "            part Hub; \n",
      "            part Tire;\n",
      "            } \n",
      "        part Seat; \n",
      "        part Frame;\n",
      "    }\n",
      "-M\n",
      "-RS\n",
      "\n",
      "    part def Automobile; \n",
      "    part def Aeroplane; \n",
      "    part Bicycle -LS\n",
      "\n",
      "        part Wheel {\n",
      "            part Hub; \n",
      "            part Tire;\n",
      "            } \n",
      "        part Seat; \n",
      "        part Frame;\n",
      "    -M\n",
      "\n",
      "-RS\n",
      "\n",
      "        part Wheel -LS\n",
      "\n",
      "            part Hub; \n",
      "            part Tire;\n",
      "            -M\n",
      " \n",
      "        part Seat; \n",
      "        part Frame;\n",
      "    -RS\n"
     ]
    }
   ],
   "source": [
    "rtn = parse_parenthesis(message)"
   ]
  },
  {
   "cell_type": "code",
   "execution_count": 14,
   "id": "c8e64929-fd54-4e02-a1ee-da01b16abeed",
   "metadata": {},
   "outputs": [
    {
     "data": {
      "text/plain": [
       "['package partsModel ',\n",
       " ['\\n    part def Automobile',\n",
       "  ' \\n    part def Aeroplane',\n",
       "  ' \\n    part Bicycle ',\n",
       "  ['\\n        part Wheel ',\n",
       "   [['\\n            part Hub', ' \\n            part Tire', '\\n            ']],\n",
       "   ' \\n        part Seat',\n",
       "   ' \\n        part Frame',\n",
       "   '\\n    '],\n",
       "  '\\n']]"
      ]
     },
     "execution_count": 14,
     "metadata": {},
     "output_type": "execute_result"
    }
   ],
   "source": [
    "rtn"
   ]
  },
  {
   "cell_type": "markdown",
   "id": "f2957f46-470b-41e6-9e2b-eeaf15aee132",
   "metadata": {},
   "source": [
    "Hmmm.... double brackets in the middle.. needs some work"
   ]
  },
  {
   "cell_type": "code",
   "execution_count": 37,
   "id": "7b4e5b8e-1b45-4d76-97a8-a5ac0797f507",
   "metadata": {},
   "outputs": [
    {
     "data": {
      "text/plain": [
       "' \\n            part Tire'"
      ]
     },
     "execution_count": 37,
     "metadata": {},
     "output_type": "execute_result"
    }
   ],
   "source": [
    "rtn[1][3][1][0][1]"
   ]
  }
 ],
 "metadata": {
  "kernelspec": {
   "display_name": "Python 3",
   "language": "python",
   "name": "python3"
  },
  "language_info": {
   "codemirror_mode": {
    "name": "ipython",
    "version": 3
   },
   "file_extension": ".py",
   "mimetype": "text/x-python",
   "name": "python",
   "nbconvert_exporter": "python",
   "pygments_lexer": "ipython3",
   "version": "3.9.0"
  }
 },
 "nbformat": 4,
 "nbformat_minor": 5
}
