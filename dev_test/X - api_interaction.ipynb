{
 "cells": [
  {
   "cell_type": "markdown",
   "id": "nutritional-hamilton",
   "metadata": {},
   "source": [
    "# Part Combination Space Exploration\n",
    "\n",
    "This is a notebook developed to leverage the new SysML v2 semantics for nested features and instantiation of models to generate instances of M1 system models as feedstock for analysis pipelines."
   ]
  },
  {
   "cell_type": "code",
   "execution_count": 1,
   "id": "recreational-commons",
   "metadata": {},
   "outputs": [],
   "source": [
    "import requests\n",
    "import getpass\n",
    "import math\n",
    "\n",
    "from __future__ import print_function\n",
    "\n",
    "import time\n",
    "import sysml_v2_api_client\n",
    "from sysml_v2_api_client.rest import ApiException\n",
    "from pprint import pprint\n",
    "\n",
    "import json\n",
    "import networkx as NX\n",
    "import matplotlib.pyplot as plt\n",
    "\n",
    "import random\n",
    "import copy\n",
    "\n",
    "import pymbe.api as pm\n",
    "#from pymbe.model_loading import ModelingSession as Session\n",
    "#from pymbe.interpretation.interpretation import RandomGenerationStrategy as RGS"
   ]
  },
  {
   "cell_type": "code",
   "execution_count": 2,
   "id": "turkish-argument",
   "metadata": {},
   "outputs": [],
   "source": [
    "import pymbe.query as pmQuery"
   ]
  },
  {
   "cell_type": "markdown",
   "id": "differential-south",
   "metadata": {},
   "source": [
    "# Configure API Server Connection"
   ]
  },
  {
   "cell_type": "code",
   "execution_count": 3,
   "id": "cognitive-vault",
   "metadata": {},
   "outputs": [],
   "source": [
    "sysml_api_base_url = 'http://sysml2.intercax.com:9000' # http://sysml2-sst.intercax.com:9000"
   ]
  },
  {
   "cell_type": "markdown",
   "id": "unsigned-macintosh",
   "metadata": {},
   "source": [
    "## Activate APIs\n",
    "\n",
    "Connect the API classes to the server"
   ]
  },
  {
   "cell_type": "code",
   "execution_count": 4,
   "id": "theoretical-musical",
   "metadata": {},
   "outputs": [],
   "source": [
    "configuration = sysml_v2_api_client.Configuration(\n",
    "    host = sysml_api_base_url\n",
    ")\n",
    "\n",
    "projects_api_instance = None\n",
    "\n",
    "with sysml_v2_api_client.ApiClient(configuration) as api_client:\n",
    "    # Create an instance of the API class\n",
    "    project_api_instance = sysml_v2_api_client.ProjectApi(api_client)\n",
    "    \n",
    "commits_api_instance = None\n",
    "\n",
    "with sysml_v2_api_client.ApiClient(configuration) as api_client:\n",
    "    # Create an instance of the API class\n",
    "    commits_api_instance = sysml_v2_api_client.CommitApi(api_client)\n",
    "    \n",
    "elements_api_instance = None\n",
    "\n",
    "with sysml_v2_api_client.ApiClient(configuration) as api_client:\n",
    "    # Create an instance of the API class\n",
    "    elements_api_instance = sysml_v2_api_client.ElementApi(api_client)"
   ]
  },
  {
   "cell_type": "markdown",
   "id": "criminal-calgary",
   "metadata": {},
   "source": [
    "## Pull down commits and elements catalogs\n",
    "\n",
    "With the API handles, use the pre-built methods to get lists of commits and elements."
   ]
  },
  {
   "cell_type": "code",
   "execution_count": 5,
   "id": "focal-bleeding",
   "metadata": {},
   "outputs": [
    {
     "data": {
      "text/plain": [
       "<sysml_v2_api_client.api.project_api.ProjectApi at 0x7f7131c75fa0>"
      ]
     },
     "execution_count": 5,
     "metadata": {},
     "output_type": "execute_result"
    }
   ],
   "source": [
    "project_api_instance"
   ]
  },
  {
   "cell_type": "code",
   "execution_count": 11,
   "id": "similar-contents",
   "metadata": {},
   "outputs": [
    {
     "data": {
      "text/plain": [
       "{'description': None,\n",
       " 'id': '19a9b744-ef4d-4258-8a67-c95d159d67c3',\n",
       " 'name': 'jdehart_sdp Sun Jun 06 21:33:29 UTC 2021',\n",
       " 'type': 'Project'}"
      ]
     },
     "execution_count": 11,
     "metadata": {},
     "output_type": "execute_result"
    }
   ],
   "source": [
    "kerbal_proj = [my_proj for my_proj in project_api_instance.get_projects() if my_proj.name.find('jdehart') > -1][0]\n",
    "kerbal_proj"
   ]
  },
  {
   "cell_type": "code",
   "execution_count": 12,
   "id": "alone-uncle",
   "metadata": {},
   "outputs": [
    {
     "name": "stdout",
     "output_type": "stream",
     "text": [
      "[{'change': None,\n",
      " 'id': '755fbb0d-1027-40d4-84ad-442570499a7f',\n",
      " 'owning_project': {'id': '19a9b744-ef4d-4258-8a67-c95d159d67c3'},\n",
      " 'previous_commit': None,\n",
      " 'type': 'Commit'}]\n"
     ]
    }
   ],
   "source": [
    "try:\n",
    "    # Get commits by project\n",
    "    commits_response = commits_api_instance.get_commits_by_project(kerbal_proj.id)\n",
    "    pprint(commits_response)\n",
    "except ApiException as e:\n",
    "    print(\"Exception when calling CommitApi->get_commits_by_project: %s\\n\" % e)"
   ]
  },
  {
   "cell_type": "code",
   "execution_count": 13,
   "id": "boolean-winner",
   "metadata": {},
   "outputs": [],
   "source": [
    "elements = []\n",
    "\n",
    "try:\n",
    "    # Get commits by project\n",
    "    elements = elements_api_instance.get_elements_by_project_commit(kerbal_proj.id, commits_response[0].id)\n",
    "except ApiException as e:\n",
    "    print(\"Exception when calling ElementApi->get_elements_by_project_commit: %s\\n\" % e)"
   ]
  },
  {
   "cell_type": "code",
   "execution_count": 14,
   "id": "instructional-forth",
   "metadata": {},
   "outputs": [
    {
     "data": {
      "text/plain": [
       "100"
      ]
     },
     "execution_count": 14,
     "metadata": {},
     "output_type": "execute_result"
    }
   ],
   "source": [
    "len(elements)"
   ]
  },
  {
   "cell_type": "code",
   "execution_count": 15,
   "id": "increasing-cathedral",
   "metadata": {},
   "outputs": [
    {
     "name": "stdout",
     "output_type": "stream",
     "text": [
      "{'id': '014a796f-183c-404e-b487-508fc36b6928',\n",
      " 'identifier': '014a796f-183c-404e-b487-508fc36b6928',\n",
      " 'type': 'FeatureMembership'}\n"
     ]
    }
   ],
   "source": [
    "pprint(elements[0])"
   ]
  },
  {
   "cell_type": "markdown",
   "id": "interior-stone",
   "metadata": {},
   "source": [
    "# Gather Element Data\n",
    "\n",
    "Since the generated API doesn't have much detail for elements, need to do this more hands-on.\n",
    "\n",
    "Not elegant below to just have a larger page size, should implement paging later on."
   ]
  },
  {
   "cell_type": "code",
   "execution_count": 16,
   "id": "accessible-plymouth",
   "metadata": {},
   "outputs": [],
   "source": [
    "elements_url = (sysml_api_base_url +\n",
    "                '/projects/{0}/commits/{1}/elements?page[size]=2000').format(kerbal_proj.id, commits_response[0].id)"
   ]
  },
  {
   "cell_type": "code",
   "execution_count": 17,
   "id": "reverse-action",
   "metadata": {},
   "outputs": [
    {
     "data": {
      "text/plain": [
       "'http://sysml2.intercax.com:9000/projects/19a9b744-ef4d-4258-8a67-c95d159d67c3/commits/755fbb0d-1027-40d4-84ad-442570499a7f/elements?page[size]=2000'"
      ]
     },
     "execution_count": 17,
     "metadata": {},
     "output_type": "execute_result"
    }
   ],
   "source": [
    "elements_url"
   ]
  },
  {
   "cell_type": "code",
   "execution_count": 18,
   "id": "partial-burner",
   "metadata": {},
   "outputs": [],
   "source": [
    "elements_response = requests.get(\n",
    "    elements_url\n",
    ")"
   ]
  },
  {
   "cell_type": "code",
   "execution_count": 19,
   "id": "portable-ghana",
   "metadata": {},
   "outputs": [],
   "source": [
    "elements_data = elements_response.json()"
   ]
  },
  {
   "cell_type": "markdown",
   "id": "american-struggle",
   "metadata": {},
   "source": [
    "Split the elements into relationships and non-relationships. This will let us work with graph representations and a graph understanding of the underlying model."
   ]
  },
  {
   "cell_type": "code",
   "execution_count": 20,
   "id": "sixth-texas",
   "metadata": {},
   "outputs": [
    {
     "data": {
      "text/plain": [
       "189"
      ]
     },
     "execution_count": 20,
     "metadata": {},
     "output_type": "execute_result"
    }
   ],
   "source": [
    "len(elements_data)"
   ]
  },
  {
   "cell_type": "code",
   "execution_count": 21,
   "id": "twelve-friday",
   "metadata": {},
   "outputs": [],
   "source": [
    "non_relations = [non_relation for non_relation in elements_data if not 'relatedElement' in non_relation]"
   ]
  },
  {
   "cell_type": "code",
   "execution_count": 22,
   "id": "responsible-waterproof",
   "metadata": {},
   "outputs": [],
   "source": [
    "relations = [relation for relation in elements_data if 'relatedElement' in relation]"
   ]
  },
  {
   "cell_type": "code",
   "execution_count": 23,
   "id": "understood-tower",
   "metadata": {},
   "outputs": [
    {
     "data": {
      "text/plain": [
       "55"
      ]
     },
     "execution_count": 23,
     "metadata": {},
     "output_type": "execute_result"
    }
   ],
   "source": [
    "len(non_relations)"
   ]
  },
  {
   "cell_type": "code",
   "execution_count": 24,
   "id": "burning-advertising",
   "metadata": {},
   "outputs": [
    {
     "data": {
      "text/plain": [
       "134"
      ]
     },
     "execution_count": 24,
     "metadata": {},
     "output_type": "execute_result"
    }
   ],
   "source": [
    "len(relations)"
   ]
  },
  {
   "cell_type": "markdown",
   "id": "ignored-progress",
   "metadata": {},
   "source": [
    "Survey which and how many metatypes are in the model."
   ]
  },
  {
   "cell_type": "code",
   "execution_count": 25,
   "id": "greek-childhood",
   "metadata": {},
   "outputs": [
    {
     "data": {
      "text/plain": [
       "['FeatureMembership',\n",
       " 'EndFeatureMembership',\n",
       " 'Subsetting',\n",
       " 'ConnectionUsage',\n",
       " 'Feature',\n",
       " 'ActionUsage',\n",
       " 'Membership',\n",
       " 'PartUsage',\n",
       " 'Package']"
      ]
     },
     "execution_count": 25,
     "metadata": {},
     "output_type": "execute_result"
    }
   ],
   "source": [
    "metatypes = []\n",
    "for nr in elements_data:\n",
    "    if nr['@type'] not in metatypes:\n",
    "        metatypes.append(nr['@type'])\n",
    "        \n",
    "metatypes"
   ]
  },
  {
   "cell_type": "markdown",
   "id": "stopped-orlando",
   "metadata": {},
   "source": [
    "Create a working session for the model and feed it the serialized data. The working session will also generate useful graphs to inspect later in this workbook."
   ]
  },
  {
   "cell_type": "code",
   "execution_count": 26,
   "id": "sapphire-segment",
   "metadata": {},
   "outputs": [
    {
     "ename": "NameError",
     "evalue": "name 'thaw_json_data' is not defined",
     "output_type": "error",
     "traceback": [
      "\u001b[0;31m---------------------------------------------------------------------------\u001b[0m",
      "\u001b[0;31mNameError\u001b[0m                                 Traceback (most recent call last)",
      "\u001b[0;32m<ipython-input-26-3b58206b0e59>\u001b[0m in \u001b[0;36m<module>\u001b[0;34m\u001b[0m\n\u001b[1;32m      2\u001b[0m \u001b[0;31m#working_model.thaw_json_data(elements_data)\u001b[0m\u001b[0;34m\u001b[0m\u001b[0;34m\u001b[0m\u001b[0;34m\u001b[0m\u001b[0m\n\u001b[1;32m      3\u001b[0m \u001b[0;34m\u001b[0m\u001b[0m\n\u001b[0;32m----> 4\u001b[0;31m \u001b[0mwm\u001b[0m \u001b[0;34m=\u001b[0m \u001b[0mthaw_json_data\u001b[0m\u001b[0;34m(\u001b[0m\u001b[0melements_data\u001b[0m\u001b[0;34m)\u001b[0m\u001b[0;34m\u001b[0m\u001b[0;34m\u001b[0m\u001b[0m\n\u001b[0m",
      "\u001b[0;31mNameError\u001b[0m: name 'thaw_json_data' is not defined"
     ]
    }
   ],
   "source": [
    "#working_model = Session()\n",
    "#working_model.thaw_json_data(elements_data)\n",
    "\n",
    "wm = thaw_json_data(elements_data)"
   ]
  },
  {
   "cell_type": "markdown",
   "id": "cooked-transportation",
   "metadata": {},
   "source": [
    "## Show Computed Graphs"
   ]
  },
  {
   "cell_type": "markdown",
   "id": "dated-hundred",
   "metadata": {},
   "source": [
    "### Superclassing Graph"
   ]
  },
  {
   "cell_type": "code",
   "execution_count": 27,
   "id": "utility-street",
   "metadata": {},
   "outputs": [
    {
     "ename": "AttributeError",
     "evalue": "'list' object has no attribute 'nodes'",
     "output_type": "error",
     "traceback": [
      "\u001b[0;31m---------------------------------------------------------------------------\u001b[0m",
      "\u001b[0;31mAttributeError\u001b[0m                            Traceback (most recent call last)",
      "\u001b[0;32m<ipython-input-27-b5b0145ccbdf>\u001b[0m in \u001b[0;36m<module>\u001b[0;34m\u001b[0m\n\u001b[1;32m      1\u001b[0m \u001b[0;31m#super_labels = NX.get_node_attributes(working_model.graph_manager.superclassing_graph,'name')\u001b[0m\u001b[0;34m\u001b[0m\u001b[0;34m\u001b[0m\u001b[0;34m\u001b[0m\u001b[0m\n\u001b[0;32m----> 2\u001b[0;31m \u001b[0msuper_labels\u001b[0m \u001b[0;34m=\u001b[0m \u001b[0mNX\u001b[0m\u001b[0;34m.\u001b[0m\u001b[0mget_node_attributes\u001b[0m\u001b[0;34m(\u001b[0m\u001b[0melements_data\u001b[0m\u001b[0;34m,\u001b[0m\u001b[0;34m'name'\u001b[0m\u001b[0;34m)\u001b[0m\u001b[0;34m\u001b[0m\u001b[0;34m\u001b[0m\u001b[0m\n\u001b[0m",
      "\u001b[0;32m/opt/tljh/user/envs/pyMBE/lib/python3.9/site-packages/networkx/classes/function.py\u001b[0m in \u001b[0;36mget_node_attributes\u001b[0;34m(G, name)\u001b[0m\n\u001b[1;32m    714\u001b[0m     \u001b[0;34m'red'\u001b[0m\u001b[0;34m\u001b[0m\u001b[0;34m\u001b[0m\u001b[0m\n\u001b[1;32m    715\u001b[0m     \"\"\"\n\u001b[0;32m--> 716\u001b[0;31m     \u001b[0;32mreturn\u001b[0m \u001b[0;34m{\u001b[0m\u001b[0mn\u001b[0m\u001b[0;34m:\u001b[0m \u001b[0md\u001b[0m\u001b[0;34m[\u001b[0m\u001b[0mname\u001b[0m\u001b[0;34m]\u001b[0m \u001b[0;32mfor\u001b[0m \u001b[0mn\u001b[0m\u001b[0;34m,\u001b[0m \u001b[0md\u001b[0m \u001b[0;32min\u001b[0m \u001b[0mG\u001b[0m\u001b[0;34m.\u001b[0m\u001b[0mnodes\u001b[0m\u001b[0;34m.\u001b[0m\u001b[0mitems\u001b[0m\u001b[0;34m(\u001b[0m\u001b[0;34m)\u001b[0m \u001b[0;32mif\u001b[0m \u001b[0mname\u001b[0m \u001b[0;32min\u001b[0m \u001b[0md\u001b[0m\u001b[0;34m}\u001b[0m\u001b[0;34m\u001b[0m\u001b[0;34m\u001b[0m\u001b[0m\n\u001b[0m\u001b[1;32m    717\u001b[0m \u001b[0;34m\u001b[0m\u001b[0m\n\u001b[1;32m    718\u001b[0m \u001b[0;34m\u001b[0m\u001b[0m\n",
      "\u001b[0;31mAttributeError\u001b[0m: 'list' object has no attribute 'nodes'"
     ]
    }
   ],
   "source": [
    "#super_labels = NX.get_node_attributes(working_model.graph_manager.superclassing_graph,'name')\n",
    "super_labels = NX.get_node_attributes(elements_data,'name')"
   ]
  },
  {
   "cell_type": "code",
   "execution_count": 54,
   "id": "65aa5a35-b3bd-4df8-b844-b10ec2bfc867",
   "metadata": {},
   "outputs": [
    {
     "ename": "KeyError",
     "evalue": "0",
     "output_type": "error",
     "traceback": [
      "\u001b[0;31m---------------------------------------------------------------------------\u001b[0m",
      "\u001b[0;31mKeyError\u001b[0m                                  Traceback (most recent call last)",
      "\u001b[0;32m<ipython-input-54-aef61095932f>\u001b[0m in \u001b[0;36m<module>\u001b[0;34m\u001b[0m\n\u001b[1;32m     11\u001b[0m                 \u001b[0mG\u001b[0m\u001b[0;34m.\u001b[0m\u001b[0madd_edge\u001b[0m\u001b[0;34m(\u001b[0m\u001b[0ml\u001b[0m\u001b[0;34m[\u001b[0m\u001b[0mi\u001b[0m\u001b[0;34m]\u001b[0m\u001b[0;34m[\u001b[0m\u001b[0mj\u001b[0m\u001b[0;34m]\u001b[0m\u001b[0;34m,\u001b[0m \u001b[0ml\u001b[0m\u001b[0;34m[\u001b[0m\u001b[0mi\u001b[0m\u001b[0;34m]\u001b[0m\u001b[0;34m[\u001b[0m\u001b[0mj\u001b[0m\u001b[0;34m-\u001b[0m\u001b[0;36m1\u001b[0m\u001b[0;34m]\u001b[0m\u001b[0;34m)\u001b[0m\u001b[0;34m\u001b[0m\u001b[0;34m\u001b[0m\u001b[0m\n\u001b[1;32m     12\u001b[0m \u001b[0;34m\u001b[0m\u001b[0m\n\u001b[0;32m---> 13\u001b[0;31m \u001b[0mG\u001b[0m \u001b[0;34m=\u001b[0m \u001b[0mcreate_graph\u001b[0m\u001b[0;34m(\u001b[0m\u001b[0melements_data\u001b[0m\u001b[0;34m)\u001b[0m\u001b[0;34m\u001b[0m\u001b[0;34m\u001b[0m\u001b[0m\n\u001b[0m",
      "\u001b[0;32m<ipython-input-54-aef61095932f>\u001b[0m in \u001b[0;36mcreate_graph\u001b[0;34m(l)\u001b[0m\n\u001b[1;32m      2\u001b[0m     \u001b[0mG\u001b[0m\u001b[0;34m=\u001b[0m\u001b[0mNX\u001b[0m\u001b[0;34m.\u001b[0m\u001b[0mGraph\u001b[0m\u001b[0;34m(\u001b[0m\u001b[0;34m)\u001b[0m\u001b[0;34m\u001b[0m\u001b[0;34m\u001b[0m\u001b[0m\n\u001b[1;32m      3\u001b[0m     \u001b[0;32mfor\u001b[0m \u001b[0mj\u001b[0m \u001b[0;32min\u001b[0m \u001b[0mrange\u001b[0m\u001b[0;34m(\u001b[0m\u001b[0mlen\u001b[0m\u001b[0;34m(\u001b[0m\u001b[0ml\u001b[0m\u001b[0;34m[\u001b[0m\u001b[0;36m0\u001b[0m\u001b[0;34m]\u001b[0m\u001b[0;34m)\u001b[0m\u001b[0;34m)\u001b[0m\u001b[0;34m:\u001b[0m\u001b[0;34m\u001b[0m\u001b[0;34m\u001b[0m\u001b[0m\n\u001b[0;32m----> 4\u001b[0;31m         \u001b[0;32mif\u001b[0m \u001b[0ml\u001b[0m\u001b[0;34m[\u001b[0m\u001b[0;36m0\u001b[0m\u001b[0;34m]\u001b[0m\u001b[0;34m[\u001b[0m\u001b[0mj\u001b[0m\u001b[0;34m]\u001b[0m \u001b[0;32min\u001b[0m \u001b[0mG\u001b[0m\u001b[0;34m.\u001b[0m\u001b[0mnodes\u001b[0m\u001b[0;34m:\u001b[0m\u001b[0;34m\u001b[0m\u001b[0;34m\u001b[0m\u001b[0m\n\u001b[0m\u001b[1;32m      5\u001b[0m             \u001b[0;32mcontinue\u001b[0m\u001b[0;34m\u001b[0m\u001b[0;34m\u001b[0m\u001b[0m\n\u001b[1;32m      6\u001b[0m         \u001b[0;32mfor\u001b[0m \u001b[0mi\u001b[0m \u001b[0;32min\u001b[0m \u001b[0mrange\u001b[0m\u001b[0;34m(\u001b[0m\u001b[0mlen\u001b[0m\u001b[0;34m(\u001b[0m\u001b[0ml\u001b[0m\u001b[0;34m)\u001b[0m\u001b[0;34m)\u001b[0m\u001b[0;34m:\u001b[0m\u001b[0;34m\u001b[0m\u001b[0;34m\u001b[0m\u001b[0m\n",
      "\u001b[0;31mKeyError\u001b[0m: 0"
     ]
    }
   ],
   "source": []
  },
  {
   "cell_type": "code",
   "execution_count": 28,
   "id": "b6448e2e-324d-48cf-8d72-9388d3e37139",
   "metadata": {},
   "outputs": [
    {
     "ename": "NameError",
     "evalue": "name 'working_model' is not defined",
     "output_type": "error",
     "traceback": [
      "\u001b[0;31m---------------------------------------------------------------------------\u001b[0m",
      "\u001b[0;31mNameError\u001b[0m                                 Traceback (most recent call last)",
      "\u001b[0;32m<ipython-input-28-f17fec0e73fc>\u001b[0m in \u001b[0;36m<module>\u001b[0;34m\u001b[0m\n\u001b[1;32m      1\u001b[0m \u001b[0mplt\u001b[0m\u001b[0;34m.\u001b[0m\u001b[0mfigure\u001b[0m\u001b[0;34m(\u001b[0m\u001b[0mfigsize\u001b[0m\u001b[0;34m=\u001b[0m\u001b[0;34m(\u001b[0m\u001b[0;36m20\u001b[0m\u001b[0;34m,\u001b[0m \u001b[0;36m12\u001b[0m\u001b[0;34m)\u001b[0m\u001b[0;34m)\u001b[0m\u001b[0;34m\u001b[0m\u001b[0;34m\u001b[0m\u001b[0m\n\u001b[1;32m      2\u001b[0m \u001b[0;34m\u001b[0m\u001b[0m\n\u001b[0;32m----> 3\u001b[0;31m NX.draw_planar(working_model.graph_manager.superclassing_graph,\n\u001b[0m\u001b[1;32m      4\u001b[0m                labels=super_labels)\n",
      "\u001b[0;31mNameError\u001b[0m: name 'working_model' is not defined"
     ]
    },
    {
     "data": {
      "text/plain": [
       "<Figure size 1440x864 with 0 Axes>"
      ]
     },
     "metadata": {},
     "output_type": "display_data"
    }
   ],
   "source": [
    "plt.figure(figsize=(20, 12))\n",
    "\n",
    "NX.draw_planar(working_model.graph_manager.superclassing_graph,\n",
    "               labels=super_labels)"
   ]
  },
  {
   "cell_type": "markdown",
   "id": "divine-synthetic",
   "metadata": {},
   "source": [
    "### Banded Attribute Graph"
   ]
  },
  {
   "cell_type": "code",
   "execution_count": 29,
   "id": "generous-thickness",
   "metadata": {},
   "outputs": [
    {
     "ename": "NameError",
     "evalue": "name 'working_model' is not defined",
     "output_type": "error",
     "traceback": [
      "\u001b[0;31m---------------------------------------------------------------------------\u001b[0m",
      "\u001b[0;31mNameError\u001b[0m                                 Traceback (most recent call last)",
      "\u001b[0;32m<ipython-input-29-e966aa72bae9>\u001b[0m in \u001b[0;36m<module>\u001b[0;34m\u001b[0m\n\u001b[0;32m----> 1\u001b[0;31m \u001b[0mlist\u001b[0m\u001b[0;34m(\u001b[0m\u001b[0mworking_model\u001b[0m\u001b[0;34m.\u001b[0m\u001b[0mgraph_manager\u001b[0m\u001b[0;34m.\u001b[0m\u001b[0mbanded_featuring_graph\u001b[0m\u001b[0;34m.\u001b[0m\u001b[0msuccessors\u001b[0m\u001b[0;34m(\u001b[0m\u001b[0;34m'f5f406e8-b8a6-4f8b-a90e-01616a6cf1c1'\u001b[0m\u001b[0;34m)\u001b[0m\u001b[0;34m)\u001b[0m\u001b[0;34m\u001b[0m\u001b[0;34m\u001b[0m\u001b[0m\n\u001b[0m",
      "\u001b[0;31mNameError\u001b[0m: name 'working_model' is not defined"
     ]
    }
   ],
   "source": [
    "list(working_model.graph_manager.banded_featuring_graph.successors('f5f406e8-b8a6-4f8b-a90e-01616a6cf1c1'))"
   ]
  },
  {
   "cell_type": "code",
   "execution_count": 30,
   "id": "reflected-fundamentals",
   "metadata": {},
   "outputs": [
    {
     "ename": "NameError",
     "evalue": "name 'working_model' is not defined",
     "output_type": "error",
     "traceback": [
      "\u001b[0;31m---------------------------------------------------------------------------\u001b[0m",
      "\u001b[0;31mNameError\u001b[0m                                 Traceback (most recent call last)",
      "\u001b[0;32m<ipython-input-30-56ee8eeaf079>\u001b[0m in \u001b[0;36m<module>\u001b[0;34m\u001b[0m\n\u001b[0;32m----> 1\u001b[0;31m \u001b[0mbanded_labels\u001b[0m \u001b[0;34m=\u001b[0m \u001b[0mNX\u001b[0m\u001b[0;34m.\u001b[0m\u001b[0mget_node_attributes\u001b[0m\u001b[0;34m(\u001b[0m\u001b[0mworking_model\u001b[0m\u001b[0;34m.\u001b[0m\u001b[0mgraph_manager\u001b[0m\u001b[0;34m.\u001b[0m\u001b[0mbanded_featuring_graph\u001b[0m\u001b[0;34m,\u001b[0m\u001b[0;34m'name'\u001b[0m\u001b[0;34m)\u001b[0m\u001b[0;34m\u001b[0m\u001b[0;34m\u001b[0m\u001b[0m\n\u001b[0m\u001b[1;32m      2\u001b[0m \u001b[0;34m\u001b[0m\u001b[0m\n\u001b[1;32m      3\u001b[0m \u001b[0medge_kinds\u001b[0m \u001b[0;34m=\u001b[0m \u001b[0mNX\u001b[0m\u001b[0;34m.\u001b[0m\u001b[0mget_edge_attributes\u001b[0m\u001b[0;34m(\u001b[0m\u001b[0mworking_model\u001b[0m\u001b[0;34m.\u001b[0m\u001b[0mgraph_manager\u001b[0m\u001b[0;34m.\u001b[0m\u001b[0mbanded_featuring_graph\u001b[0m\u001b[0;34m,\u001b[0m\u001b[0;34m'kind'\u001b[0m\u001b[0;34m)\u001b[0m\u001b[0;34m\u001b[0m\u001b[0;34m\u001b[0m\u001b[0m\n\u001b[1;32m      4\u001b[0m \u001b[0mcolors\u001b[0m \u001b[0;34m=\u001b[0m \u001b[0;34m{\u001b[0m\u001b[0;34m}\u001b[0m\u001b[0;34m\u001b[0m\u001b[0;34m\u001b[0m\u001b[0m\n\u001b[1;32m      5\u001b[0m \u001b[0;34m\u001b[0m\u001b[0m\n",
      "\u001b[0;31mNameError\u001b[0m: name 'working_model' is not defined"
     ]
    }
   ],
   "source": [
    "banded_labels = NX.get_node_attributes(working_model.graph_manager.banded_featuring_graph,'name')\n",
    "\n",
    "edge_kinds = NX.get_edge_attributes(working_model.graph_manager.banded_featuring_graph,'kind')\n",
    "colors = {}\n",
    "\n",
    "for key, value in edge_kinds.items():\n",
    "    if value == 'Superclassing':\n",
    "        colors.update({key: 'b'})\n",
    "    elif value == 'FeatureTyping^-1':\n",
    "        colors.update({key: 'g'})\n",
    "    elif value == 'FeatureMembership^-1':\n",
    "        colors.update({key: 'r'})\n",
    "\n",
    "plt.figure(figsize=(20, 12))\n",
    "\n",
    "NX.draw_planar(working_model.graph_manager.banded_featuring_graph,\n",
    "               labels=banded_labels,\n",
    "              edge_color=colors.values(),\n",
    "              arrowsize=20)"
   ]
  },
  {
   "cell_type": "markdown",
   "id": "arbitrary-accountability",
   "metadata": {},
   "source": [
    "I think what we want is to see the chain of superclasses from a feature's owner and compare that to the path through redefinition to classifiers."
   ]
  },
  {
   "cell_type": "markdown",
   "id": "likely-architecture",
   "metadata": {},
   "source": [
    "[\n",
    "    edge\n",
    "    for edge in lpg.graph.edges\n",
    "    if edge[2] in (\"ReturnParameterMembership\", \"Superclassing\")\n",
    "]"
   ]
  },
  {
   "cell_type": "code",
   "execution_count": 25,
   "id": "prescription-titanium",
   "metadata": {},
   "outputs": [],
   "source": [
    "att_uses = working_model.get_all_of_metaclass(metaclass_name=\"AttributeUsage\")"
   ]
  },
  {
   "cell_type": "markdown",
   "id": "exterior-dialogue",
   "metadata": {},
   "source": [
    "## Inspect Part Usages"
   ]
  },
  {
   "cell_type": "code",
   "execution_count": 31,
   "id": "hydraulic-repair",
   "metadata": {},
   "outputs": [
    {
     "ename": "NameError",
     "evalue": "name 'working_model' is not defined",
     "output_type": "error",
     "traceback": [
      "\u001b[0;31m---------------------------------------------------------------------------\u001b[0m",
      "\u001b[0;31mNameError\u001b[0m                                 Traceback (most recent call last)",
      "\u001b[0;32m<ipython-input-31-7a65b896b5c2>\u001b[0m in \u001b[0;36m<module>\u001b[0;34m\u001b[0m\n\u001b[0;32m----> 1\u001b[0;31m \u001b[0mpart_uses\u001b[0m \u001b[0;34m=\u001b[0m \u001b[0mworking_model\u001b[0m\u001b[0;34m.\u001b[0m\u001b[0mget_all_of_metaclass\u001b[0m\u001b[0;34m(\u001b[0m\u001b[0mmetaclass_name\u001b[0m\u001b[0;34m=\u001b[0m\u001b[0;34m'PartUsage'\u001b[0m\u001b[0;34m)\u001b[0m\u001b[0;34m\u001b[0m\u001b[0;34m\u001b[0m\u001b[0m\n\u001b[0m",
      "\u001b[0;31mNameError\u001b[0m: name 'working_model' is not defined"
     ]
    }
   ],
   "source": [
    "part_uses = working_model.get_all_of_metaclass(metaclass_name='PartUsage')"
   ]
  },
  {
   "cell_type": "code",
   "execution_count": 27,
   "id": "rolled-anatomy",
   "metadata": {},
   "outputs": [
    {
     "data": {
      "text/plain": [
       "5"
      ]
     },
     "execution_count": 27,
     "metadata": {},
     "output_type": "execute_result"
    }
   ],
   "source": [
    "len(part_uses)"
   ]
  },
  {
   "cell_type": "code",
   "execution_count": 28,
   "id": "strategic-azerbaijan",
   "metadata": {},
   "outputs": [
    {
     "data": {
      "text/plain": [
       "['tanks has multiplicity 0..30',\n",
       " 'boosters has multiplicity 0..8',\n",
       " 'Coupler to Carrying Stage has multiplicity 0..8',\n",
       " 'engines has multiplicity 0..8',\n",
       " 'stages has multiplicity 1..5']"
      ]
     },
     "execution_count": 28,
     "metadata": {},
     "output_type": "execute_result"
    }
   ],
   "source": [
    "['{0} has multiplicity {1}..{2}'.format(\n",
    "    part_use['name'],\n",
    "    working_model.feature_lower_multiplicity(part_use['@id']),\n",
    "    working_model.feature_upper_multiplicity(part_use['@id'])\n",
    ") for part_use in part_uses]"
   ]
  },
  {
   "cell_type": "markdown",
   "id": "ambient-carroll",
   "metadata": {},
   "source": [
    "Get feature types."
   ]
  },
  {
   "cell_type": "code",
   "execution_count": 29,
   "id": "handy-fairy",
   "metadata": {},
   "outputs": [],
   "source": [
    "feature_types = [feature_type for feature_type in relations if feature_type['@type'] == 'FeatureTyping']"
   ]
  },
  {
   "cell_type": "markdown",
   "id": "psychological-mercy",
   "metadata": {},
   "source": [
    "# Generate Instances\n",
    "\n",
    "With the base semantic model in hand, begin to apply the rules to generate our system alternatives."
   ]
  },
  {
   "cell_type": "markdown",
   "id": "mechanical-selection",
   "metadata": {},
   "source": [
    "## Find number of instances for feature last positions\n",
    "\n",
    "In SysML, the default type is PartDefinition, which is a Classifier, meaning the minimal interpretation of length one (the specific instance). Nesting parts then have an interpretation as expected by systems engineers, namely that the instances \"stack\" in order to provide a navigation from top-level assembly to leaf component."
   ]
  },
  {
   "cell_type": "code",
   "execution_count": 30,
   "id": "foster-vocabulary",
   "metadata": {},
   "outputs": [
    {
     "data": {
      "text/plain": [
       "['tanks needs 30 instances of type Fuel Tank Section',\n",
       " 'boosters needs 8 instances of type Solid Booster',\n",
       " 'Coupler to Carrying Stage needs 8 instances of type Coupler',\n",
       " 'engines needs 8 instances of type Liquid Engine',\n",
       " 'stages needs 5 instances of type Rocket Stage']"
      ]
     },
     "execution_count": 30,
     "metadata": {},
     "output_type": "execute_result"
    }
   ],
   "source": [
    "['{0} needs {1} instances of type {2}'.format(\n",
    "    part_use['name'],\n",
    "    working_model.feature_upper_multiplicity(part_use['@id']),\n",
    "    working_model.graph_manager.get_feature_type_name(part_use['@id'])\n",
    ") for part_use in part_uses]"
   ]
  },
  {
   "cell_type": "markdown",
   "id": "powered-cleaners",
   "metadata": {},
   "source": [
    "Automatically shorten names so that sequences remain readable when printed."
   ]
  },
  {
   "cell_type": "code",
   "execution_count": 31,
   "id": "spiritual-cliff",
   "metadata": {},
   "outputs": [],
   "source": [
    "shorten_pre_bake = {\n",
    "    'RT-10 \"Hammer\" Solid Fuel Booster': \"RT-10\",\n",
    "    'RT-5 \"Flea\" Solid Fuel Booster': \"RT-5\",\n",
    "    'LV-T45 \"Swivel\" Liquid Fuel Engine': \"LV-T45\",\n",
    "    'FL-T100 Fuel Tank': \"FL-T100\",\n",
    "    'FL-T200 Fuel Tank': \"FL-T200\"\n",
    "}"
   ]
  },
  {
   "cell_type": "markdown",
   "id": "august-defensive",
   "metadata": {},
   "source": [
    "## Determine the size of the universe of instances needed for creating alternatives\n",
    "\n",
    "Use feature membership together with multiplicity to decide how many individuals are needed."
   ]
  },
  {
   "cell_type": "code",
   "execution_count": 32,
   "id": "exotic-baghdad",
   "metadata": {},
   "outputs": [
    {
     "data": {
      "text/plain": [
       "{'000f78ae-e890-4f81-847c-f9bf976abe1b': 150,\n",
       " '5caca345-39a8-4125-9387-3a4026b59700': 40,\n",
       " 'b1e046e2-dca5-45ef-97c4-a54e15f87aea': 40,\n",
       " 'cd081fb5-d4b7-42bc-880b-9f4cf2517394': 40,\n",
       " 'f5f406e8-b8a6-4f8b-a90e-01616a6cf1c1': 5}"
      ]
     },
     "execution_count": 32,
     "metadata": {},
     "output_type": "execute_result"
    }
   ],
   "source": [
    "working_model.graph_manager.roll_up_upper_multiplicities()"
   ]
  },
  {
   "cell_type": "code",
   "execution_count": 33,
   "id": "coated-greene",
   "metadata": {},
   "outputs": [
    {
     "data": {
      "text/plain": [
       "[('tanks', 150),\n",
       " ('boosters', 40),\n",
       " ('Coupler to Carrying Stage', 40),\n",
       " ('engines', 40),\n",
       " ('stages', 5)]"
      ]
     },
     "execution_count": 33,
     "metadata": {},
     "output_type": "execute_result"
    }
   ],
   "source": [
    "[(working_model.get_name_by_id(key), mult) for key, mult in\n",
    "    working_model.graph_manager.roll_up_upper_multiplicities().items()\n",
    "]"
   ]
  },
  {
   "cell_type": "markdown",
   "id": "sporting-magnitude",
   "metadata": {},
   "source": [
    "### Subdivide Abstract Feature Types\n",
    "\n",
    "Look at the feature types for where they are abstract and then generate instances from the more specific types."
   ]
  },
  {
   "cell_type": "code",
   "execution_count": 34,
   "id": "theoretical-projection",
   "metadata": {},
   "outputs": [
    {
     "name": "stdout",
     "output_type": "stream",
     "text": [
      "['Solid Booster', 'Fuel Tank Section', 'Liquid Engine', 'Rocket Stage']\n"
     ]
    }
   ],
   "source": [
    "abstract_types = []\n",
    "for typ in working_model.graph_manager.superclassing_graph.nodes():\n",
    "    ele_data = working_model.get_data_by_id(ele_id=typ)\n",
    "    if ele_data['isAbstract']:\n",
    "        abstract_types.append(ele_data)\n",
    "        \n",
    "print([abstract['name'] for abstract in abstract_types])"
   ]
  },
  {
   "cell_type": "code",
   "execution_count": 35,
   "id": "played-american",
   "metadata": {},
   "outputs": [
    {
     "data": {
      "text/plain": [
       "['Liquid Stage', 'Solid Stage']"
      ]
     },
     "execution_count": 35,
     "metadata": {},
     "output_type": "execute_result"
    }
   ],
   "source": [
    "[working_model.get_name_by_id(definite)\n",
    " for definite in working_model.graph_manager.partition_abstract_type(abstract_type_id=abstract_types[3]['@id'])]"
   ]
  },
  {
   "cell_type": "markdown",
   "id": "julian-linux",
   "metadata": {},
   "source": [
    "## Generate Random Alternatives\n",
    "\n",
    "Start creating the alternatives with random draws on multiplicity. This will be our space for investigation for weights, thrust-to-weight ratios at stage ignitions, delta-Vs, and initial and burnout masses."
   ]
  },
  {
   "cell_type": "code",
   "execution_count": 36,
   "id": "suburban-response",
   "metadata": {},
   "outputs": [
    {
     "data": {
      "text/plain": [
       "'tanks'"
      ]
     },
     "execution_count": 36,
     "metadata": {},
     "output_type": "execute_result"
    }
   ],
   "source": [
    "working_model.get_name_by_id(ele_id='000f78ae-e890-4f81-847c-f9bf976abe1b')"
   ]
  },
  {
   "cell_type": "code",
   "execution_count": 37,
   "id": "residential-bride",
   "metadata": {},
   "outputs": [
    {
     "name": "stdout",
     "output_type": "stream",
     "text": [
      "[[LS#1]]\n",
      "[[Rocket#1]]\n",
      "[[SS#1], [SS#2], [SS#3], [SS#4]]\n",
      "[[LS#1], [LS#2], [LS#3], [LS#4], [LS#5]]\n",
      "[[Rocket#1]]\n",
      "[]\n",
      "Thrust is under RT-10 \"Hammer\" Solid Fuel Booster\n",
      "Thrust is under RT-5 \"Flea\" Solid Fuel Booster\n",
      "Thrust is under Solid Booster\n",
      "Full Mass is under FL-T100 Fuel Tank\n",
      "Full Mass is under FL-T200 Fuel Tank\n",
      "Full Mass is under Fuel Tank Section\n",
      "Empty Mass is under FL-T100 Fuel Tank\n",
      "Empty Mass is under FL-T200 Fuel Tank\n",
      "Empty Mass is under Fuel Tank Section\n",
      "Specific Impulse is under RT-10 \"Hammer\" Solid Fuel Booster\n",
      "Specific Impulse is under RT-5 \"Flea\" Solid Fuel Booster\n",
      "Specific Impulse is under Solid Booster\n",
      "Empty Mass is under RT-10 \"Hammer\" Solid Fuel Booster\n",
      "Empty Mass is under RT-5 \"Flea\" Solid Fuel Booster\n",
      "Empty Mass is under Solid Booster\n",
      "Thrust is under LV-T45 \"Swivel\" Liquid Fuel Engine\n",
      "Thrust is under Liquid Engine\n",
      "Mass is under LV-T45 \"Swivel\" Liquid Fuel Engine\n",
      "Mass is under Kerbal Rocket Part\n",
      "Specific Impulse is under LV-T45 \"Swivel\" Liquid Fuel Engine\n",
      "Specific Impulse is under Liquid Engine\n",
      "Full Mass is under RT-5 \"Flea\" Solid Fuel Booster\n",
      "Full Mass is under RT-10 \"Hammer\" Solid Fuel Booster\n",
      "Full Mass is under Solid Booster\n"
     ]
    }
   ],
   "source": [
    "generator = RGS(number_of_cases=2, model_session=working_model, short_names=shorten_pre_bake)"
   ]
  },
  {
   "cell_type": "code",
   "execution_count": 38,
   "id": "forward-catering",
   "metadata": {},
   "outputs": [
    {
     "name": "stdout",
     "output_type": "stream",
     "text": [
      "Thrust::RT-10 \"Hammer\" Solid Fuel Booster, id = de02c870-1658-4a34-bd03-832f8efa741d, size = 14\n",
      "[[RT-10#1, [RT-10#1].Thrust (unset)], [RT-10#2, [RT-10#2].Thrust (unset)], [RT-10#3, [RT-10#3].Thrust (unset)], [RT-10#4, [RT-10#4].Thrust (unset)], [RT-10#5, [RT-10#5].Thrust (unset)]]\n",
      "Thrust::RT-5 \"Flea\" Solid Fuel Booster, id = 86f2aed2-3801-420a-8df0-665d6b69c193, size = 26\n",
      "[[RT-5#1, [RT-5#1].Thrust (unset)], [RT-5#2, [RT-5#2].Thrust (unset)], [RT-5#3, [RT-5#3].Thrust (unset)], [RT-5#4, [RT-5#4].Thrust (unset)], [RT-5#5, [RT-5#5].Thrust (unset)]]\n",
      "Thrust::Solid Booster, id = 34294966-7022-4b19-bec9-e92da83702a9, size = 40\n",
      "[[RT-10#1, [RT-10#1].Thrust (unset)], [RT-10#2, [RT-10#2].Thrust (unset)], [RT-10#3, [RT-10#3].Thrust (unset)], [RT-10#4, [RT-10#4].Thrust (unset)], [RT-10#5, [RT-10#5].Thrust (unset)]]\n",
      "Full Mass::FL-T100 Fuel Tank, id = 0b4921a6-6923-40a2-941c-ac726cc2eb07, size = 12\n",
      "[[FL-T100#1, [FL-T100#1].Full Mass (unset)], [FL-T100#2, [FL-T100#2].Full Mass (unset)], [FL-T100#3, [FL-T100#3].Full Mass (unset)], [FL-T100#4, [FL-T100#4].Full Mass (unset)], [FL-T100#5, [FL-T100#5].Full Mass (unset)]]\n",
      "Full Mass::FL-T200 Fuel Tank, id = 5de9ac2d-2879-4e44-978b-52307c4fd698, size = 138\n",
      "[[FL-T200#1, [FL-T200#1].Full Mass (unset)], [FL-T200#2, [FL-T200#2].Full Mass (unset)], [FL-T200#3, [FL-T200#3].Full Mass (unset)], [FL-T200#4, [FL-T200#4].Full Mass (unset)], [FL-T200#5, [FL-T200#5].Full Mass (unset)]]\n",
      "Full Mass::Fuel Tank Section, id = f912dc27-fc5e-48e8-abf7-29d3f47c913c, size = 150\n",
      "[[FL-T200#1, [FL-T200#1].Full Mass (unset)], [FL-T200#2, [FL-T200#2].Full Mass (unset)], [FL-T200#3, [FL-T200#3].Full Mass (unset)], [FL-T200#4, [FL-T200#4].Full Mass (unset)], [FL-T200#5, [FL-T200#5].Full Mass (unset)]]\n",
      "Empty Mass::FL-T100 Fuel Tank, id = dd332374-c114-481e-bffd-6b99914bac4f, size = 12\n",
      "[[FL-T100#1, [FL-T100#1].Empty Mass (unset)], [FL-T100#2, [FL-T100#2].Empty Mass (unset)], [FL-T100#3, [FL-T100#3].Empty Mass (unset)], [FL-T100#4, [FL-T100#4].Empty Mass (unset)], [FL-T100#5, [FL-T100#5].Empty Mass (unset)]]\n",
      "Empty Mass::FL-T200 Fuel Tank, id = 5c13fffc-dfa1-41f4-b34d-d999b837b278, size = 138\n",
      "[[FL-T200#1, [FL-T200#1].Empty Mass (unset)], [FL-T200#2, [FL-T200#2].Empty Mass (unset)], [FL-T200#3, [FL-T200#3].Empty Mass (unset)], [FL-T200#4, [FL-T200#4].Empty Mass (unset)], [FL-T200#5, [FL-T200#5].Empty Mass (unset)]]\n",
      "Empty Mass::Fuel Tank Section, id = cb4386fe-67d9-4743-995f-5d4a4162e26e, size = 150\n",
      "[[FL-T200#1, [FL-T200#1].Empty Mass (unset)], [FL-T200#2, [FL-T200#2].Empty Mass (unset)], [FL-T200#3, [FL-T200#3].Empty Mass (unset)], [FL-T200#4, [FL-T200#4].Empty Mass (unset)], [FL-T200#5, [FL-T200#5].Empty Mass (unset)]]\n",
      "Specific Impulse::RT-10 \"Hammer\" Solid Fuel Booster, id = 2ca7bab9-4bf5-4beb-9193-b66221fbf308, size = 14\n",
      "[[RT-10#1, [RT-10#1].Specific Impulse (unset)], [RT-10#2, [RT-10#2].Specific Impulse (unset)], [RT-10#3, [RT-10#3].Specific Impulse (unset)], [RT-10#4, [RT-10#4].Specific Impulse (unset)], [RT-10#5, [RT-10#5].Specific Impulse (unset)]]\n",
      "Specific Impulse::RT-5 \"Flea\" Solid Fuel Booster, id = 40a619db-be4b-427a-b303-2c945d2004ef, size = 26\n",
      "[[RT-5#1, [RT-5#1].Specific Impulse (unset)], [RT-5#2, [RT-5#2].Specific Impulse (unset)], [RT-5#3, [RT-5#3].Specific Impulse (unset)], [RT-5#4, [RT-5#4].Specific Impulse (unset)], [RT-5#5, [RT-5#5].Specific Impulse (unset)]]\n",
      "Specific Impulse::Solid Booster, id = a9c33eca-038f-4f35-8e2c-63fdfc3eff22, size = 40\n",
      "[[RT-10#1, [RT-10#1].Specific Impulse (unset)], [RT-10#2, [RT-10#2].Specific Impulse (unset)], [RT-10#3, [RT-10#3].Specific Impulse (unset)], [RT-10#4, [RT-10#4].Specific Impulse (unset)], [RT-10#5, [RT-10#5].Specific Impulse (unset)]]\n",
      "Empty Mass::RT-10 \"Hammer\" Solid Fuel Booster, id = 2d2f2249-1151-4717-aa3b-039652c8bf4e, size = 14\n",
      "[[RT-10#1, [RT-10#1].Empty Mass (unset)], [RT-10#2, [RT-10#2].Empty Mass (unset)], [RT-10#3, [RT-10#3].Empty Mass (unset)], [RT-10#4, [RT-10#4].Empty Mass (unset)], [RT-10#5, [RT-10#5].Empty Mass (unset)]]\n",
      "Empty Mass::RT-5 \"Flea\" Solid Fuel Booster, id = b8173879-3e86-4770-81ef-592f02800554, size = 26\n",
      "[[RT-5#1, [RT-5#1].Empty Mass (unset)], [RT-5#2, [RT-5#2].Empty Mass (unset)], [RT-5#3, [RT-5#3].Empty Mass (unset)], [RT-5#4, [RT-5#4].Empty Mass (unset)], [RT-5#5, [RT-5#5].Empty Mass (unset)]]\n",
      "Empty Mass::Solid Booster, id = 51ef7947-2aab-4abc-8276-f19363d7f73f, size = 40\n",
      "[[RT-10#1, [RT-10#1].Empty Mass (unset)], [RT-10#2, [RT-10#2].Empty Mass (unset)], [RT-10#3, [RT-10#3].Empty Mass (unset)], [RT-10#4, [RT-10#4].Empty Mass (unset)], [RT-10#5, [RT-10#5].Empty Mass (unset)]]\n",
      "Thrust::LV-T45 \"Swivel\" Liquid Fuel Engine, id = d1ea4468-efba-48d9-aa9e-376669453e5b, size = 40\n",
      "[[LV-T45#1, [LV-T45#1].Thrust (unset)], [LV-T45#2, [LV-T45#2].Thrust (unset)], [LV-T45#3, [LV-T45#3].Thrust (unset)], [LV-T45#4, [LV-T45#4].Thrust (unset)], [LV-T45#5, [LV-T45#5].Thrust (unset)]]\n",
      "Thrust::Liquid Engine, id = c6497b27-5dcb-4bae-bd92-86179a5daeab, size = 40\n",
      "[[LV-T45#1, [LV-T45#1].Thrust (unset)], [LV-T45#2, [LV-T45#2].Thrust (unset)], [LV-T45#3, [LV-T45#3].Thrust (unset)], [LV-T45#4, [LV-T45#4].Thrust (unset)], [LV-T45#5, [LV-T45#5].Thrust (unset)]]\n",
      "Mass::LV-T45 \"Swivel\" Liquid Fuel Engine, id = fe335d3c-ba21-41bf-8e4b-a52d1c9590f0, size = 40\n",
      "[[LV-T45#1, [LV-T45#1].Mass (unset)], [LV-T45#2, [LV-T45#2].Mass (unset)], [LV-T45#3, [LV-T45#3].Mass (unset)], [LV-T45#4, [LV-T45#4].Mass (unset)], [LV-T45#5, [LV-T45#5].Mass (unset)]]\n",
      "Mass::Kerbal Rocket Part, id = 6045bd07-09d9-4a01-97a4-ede5cad64d76, size = 270\n",
      "[[FL-T200#1, [FL-T200#1].Mass (unset)], [FL-T200#2, [FL-T200#2].Mass (unset)], [FL-T200#3, [FL-T200#3].Mass (unset)], [FL-T200#4, [FL-T200#4].Mass (unset)], [FL-T200#5, [FL-T200#5].Mass (unset)]]\n",
      "Specific Impulse::LV-T45 \"Swivel\" Liquid Fuel Engine, id = 10c42299-eb57-4ede-92ad-af66367a2e6e, size = 40\n",
      "[[LV-T45#1, [LV-T45#1].Specific Impulse (unset)], [LV-T45#2, [LV-T45#2].Specific Impulse (unset)], [LV-T45#3, [LV-T45#3].Specific Impulse (unset)], [LV-T45#4, [LV-T45#4].Specific Impulse (unset)], [LV-T45#5, [LV-T45#5].Specific Impulse (unset)]]\n",
      "Specific Impulse::Liquid Engine, id = 5b503408-eb47-4931-8365-891df10a96f3, size = 40\n",
      "[[LV-T45#1, [LV-T45#1].Specific Impulse (unset)], [LV-T45#2, [LV-T45#2].Specific Impulse (unset)], [LV-T45#3, [LV-T45#3].Specific Impulse (unset)], [LV-T45#4, [LV-T45#4].Specific Impulse (unset)], [LV-T45#5, [LV-T45#5].Specific Impulse (unset)]]\n",
      "Full Mass::RT-5 \"Flea\" Solid Fuel Booster, id = 7b9876df-d176-4d78-a2f1-34e93572ecb1, size = 26\n",
      "[[RT-5#1, [RT-5#1].Full Mass (unset)], [RT-5#2, [RT-5#2].Full Mass (unset)], [RT-5#3, [RT-5#3].Full Mass (unset)], [RT-5#4, [RT-5#4].Full Mass (unset)], [RT-5#5, [RT-5#5].Full Mass (unset)]]\n",
      "Full Mass::RT-10 \"Hammer\" Solid Fuel Booster, id = d59b76e9-7d47-42f4-9a6c-82f350158deb, size = 14\n",
      "[[RT-10#1, [RT-10#1].Full Mass (unset)], [RT-10#2, [RT-10#2].Full Mass (unset)], [RT-10#3, [RT-10#3].Full Mass (unset)], [RT-10#4, [RT-10#4].Full Mass (unset)], [RT-10#5, [RT-10#5].Full Mass (unset)]]\n",
      "Full Mass::Solid Booster, id = 9d138c7a-9e26-4d30-90d2-f67917c0c127, size = 40\n",
      "[[RT-10#1, [RT-10#1].Full Mass (unset)], [RT-10#2, [RT-10#2].Full Mass (unset)], [RT-10#3, [RT-10#3].Full Mass (unset)], [RT-10#4, [RT-10#4].Full Mass (unset)], [RT-10#5, [RT-10#5].Full Mass (unset)]]\n",
      "Max Temperature::Kerbal Rocket Part, id = 01341d2c-a4ce-4f35-8c11-652be9d6b58c, size = 270\n",
      "[[FL-T200#1, [FL-T200#1].Max Temperature (unset)], [FL-T200#2, [FL-T200#2].Max Temperature (unset)], [FL-T200#3, [FL-T200#3].Max Temperature (unset)], [FL-T200#4, [FL-T200#4].Max Temperature (unset)], [FL-T200#5, [FL-T200#5].Max Temperature (unset)]]\n",
      "Full Mass::Liquid Stage, id = 25a4a485-735c-4b5d-8d6f-140e176a144f, size = 1\n",
      "[[LS#1, [LS#1].Full Mass (unset)]]\n",
      "Burnout Mass::stages, id = 2a795610-4d4a-4c6f-b4eb-3e175f85455d, size = 2\n",
      "[[Rocket#1, SS#3, Rocket#1.SS#3.Burnout Mass (unset)], [Rocket#1, LS#1, Rocket#1.LS#1.Burnout Mass (unset)]]\n",
      "Empty Mass::Liquid Stage, id = 49fa2a78-e24a-4960-820b-f383aad10175, size = 1\n",
      "[[LS#1, [LS#1].Empty Mass (unset)]]\n",
      "Loaded Mass::stages, id = 52e2f198-482d-4992-a85b-0f7127ee6162, size = 2\n",
      "[[Rocket#1, SS#3, Rocket#1.SS#3.Loaded Mass (unset)], [Rocket#1, LS#1, Rocket#1.LS#1.Loaded Mass (unset)]]\n",
      "Oxidizer::Fuel Tank Section, id = 60592e22-8668-48bd-a5b5-811b575af08d, size = 150\n",
      "[[FL-T200#1, [FL-T200#1].Oxidizer (unset)], [FL-T200#2, [FL-T200#2].Oxidizer (unset)], [FL-T200#3, [FL-T200#3].Oxidizer (unset)], [FL-T200#4, [FL-T200#4].Oxidizer (unset)], [FL-T200#5, [FL-T200#5].Oxidizer (unset)]]\n",
      "Liquid Fuel::Fuel Tank Section, id = 8f9ba41c-c557-42ab-a81d-4838e62db52c, size = 150\n",
      "[[FL-T200#1, [FL-T200#1].Liquid Fuel (unset)], [FL-T200#2, [FL-T200#2].Liquid Fuel (unset)], [FL-T200#3, [FL-T200#3].Liquid Fuel (unset)], [FL-T200#4, [FL-T200#4].Liquid Fuel (unset)], [FL-T200#5, [FL-T200#5].Liquid Fuel (unset)]]\n",
      "Separation Force::Coupler to Carrying Stage, id = b305f6ce-2acb-4852-8a8a-1cfb22b2439a, size = 8\n",
      "[[Rocket#1, SS#3, Coupler#19, Rocket#1.SS#3.Coupler#19.Separation Force (unset)], [Rocket#1, SS#3, Coupler#38, Rocket#1.SS#3.Coupler#38.Separation Force (unset)], [Rocket#1, LS#1, Coupler#25, Rocket#1.LS#1.Coupler#25.Separation Force (unset)], [Rocket#1, LS#1, Coupler#33, Rocket#1.LS#1.Coupler#33.Separation Force (unset)], [Rocket#1, LS#1, Coupler#24, Rocket#1.LS#1.Coupler#24.Separation Force (unset)]]\n",
      "Empty Mass::Solid Stage, id = b83d0dc4-a7dc-4ef4-8b72-db39d34b09ee, size = 4\n",
      "[[SS#1, [SS#1].Empty Mass (unset)], [SS#2, [SS#2].Empty Mass (unset)], [SS#3, [SS#3].Empty Mass (unset)], [SS#4, [SS#4].Empty Mass (unset)]]\n",
      "Payload Mass::stages, id = dbff731a-593e-442c-99f0-a54001dea138, size = 2\n",
      "[[Rocket#1, SS#3, Rocket#1.SS#3.Payload Mass (unset)], [Rocket#1, LS#1, Rocket#1.LS#1.Payload Mass (unset)]]\n",
      "Torque::Pod, id = dc8b3968-f2e3-4806-90f7-7651bf9196ac, size = 0\n",
      "[]\n",
      "Full Mass::Solid Stage, id = e99d7f0f-4ad6-4223-8ca8-6d83c040c058, size = 4\n",
      "[[SS#1, [SS#1].Full Mass (unset)], [SS#2, [SS#2].Full Mass (unset)], [SS#3, [SS#3].Full Mass (unset)], [SS#4, [SS#4].Full Mass (unset)]]\n"
     ]
    }
   ],
   "source": [
    "generator.pprint_attribute_solution(solution_no=0)"
   ]
  },
  {
   "cell_type": "code",
   "execution_count": 39,
   "id": "aggressive-revolution",
   "metadata": {},
   "outputs": [
    {
     "name": "stdout",
     "output_type": "stream",
     "text": [
      "Liquid Stage, id = f25193df-abf0-478b-997d-dbee3895090e, size = 1\n",
      "[[LS#1]]\n",
      "engines, id = cd081fb5-d4b7-42bc-880b-9f4cf2517394, size = 5\n",
      "[[LS#1, LV-T45#12], [LS#1, LV-T45#8], [LS#1, LV-T45#34], [LS#1, LV-T45#7], [LS#1, LV-T45#16]]\n",
      "tanks, id = 000f78ae-e890-4f81-847c-f9bf976abe1b, size = 23\n",
      "[[LS#1, FL-T200#137], [LS#1, FL-T200#121], [LS#1, FL-T200#115], [LS#1, FL-T200#79], [LS#1, FL-T200#29]]\n",
      "Rocket, id = 64811484-97f6-442e-ab02-cd5247255cab, size = 1\n",
      "[[Rocket#1]]\n",
      "stages, id = f5f406e8-b8a6-4f8b-a90e-01616a6cf1c1, size = 2\n",
      "[[Rocket#1, SS#3], [Rocket#1, LS#1]]\n",
      "Coupler to Carrying Stage, id = b1e046e2-dca5-45ef-97c4-a54e15f87aea, size = 8\n",
      "[[Rocket#1, SS#3, Coupler#19], [Rocket#1, SS#3, Coupler#38], [Rocket#1, LS#1, Coupler#25], [Rocket#1, LS#1, Coupler#33], [Rocket#1, LS#1, Coupler#24]]\n",
      "Solid Stage, id = 0b2ea820-ba6b-4f8a-a898-8694dc0a247d, size = 4\n",
      "[[SS#1], [SS#2], [SS#3], [SS#4]]\n",
      "boosters, id = 5caca345-39a8-4125-9387-3a4026b59700, size = 7\n",
      "[[SS#2, RT-5#25], [SS#2, RT-5#2], [SS#2, RT-5#24], [SS#2, RT-5#10], [SS#3, RT-5#11]]\n"
     ]
    }
   ],
   "source": [
    "generator.pprint_feature_solution(solution_no=0)"
   ]
  },
  {
   "cell_type": "markdown",
   "id": "polar-outreach",
   "metadata": {},
   "source": [
    "### Look at attribute values and feature types \n",
    "\n",
    "Build a graph where attribute usages are connected to other types and superclassing"
   ]
  },
  {
   "cell_type": "code",
   "execution_count": 40,
   "id": "casual-double",
   "metadata": {},
   "outputs": [
    {
     "name": "stdout",
     "output_type": "stream",
     "text": [
      ", id 67812f5a-dfe6-4ac4-9600-936a85a1400e - > , id 454a8ebe-89b9-442b-a4ae-a7d4ab2a90c6 <FeatureMembership>\n",
      "Thrust, id de02c870-1658-4a34-bd03-832f8efa741d - > RT-10 \"Hammer\" Solid Fuel Booster, id 276d0623-a352-49cd-8faa-132792ec156a <FeatureMembership>\n",
      "Payload Mass, id dbff731a-593e-442c-99f0-a54001dea138 - > stages, id f5f406e8-b8a6-4f8b-a90e-01616a6cf1c1 <FeatureMembership>\n",
      "Full Mass, id 0b4921a6-6923-40a2-941c-ac726cc2eb07 - > FL-T100 Fuel Tank, id 5260380b-6fda-43cc-993f-5df58868edbb <FeatureMembership>\n",
      "Stage 1 Burn, id 753d2ff7-52f2-481f-80a8-87dcefa492ae - > Two-Stager, id 9113498a-cc6b-4bb9-9734-b023a7e099ed <FeatureMembership>\n",
      ", id 1bab5ced-f3d0-42cc-9391-943ae61f3c15 - > , id e0c01246-d5ea-4f2f-87a1-feed644786e6 <FeatureMembership>\n",
      ", id f5e6e4c7-66cb-43a7-8c14-cf50b332d5e5 - > , id 92cbcb02-bc53-4cf8-a8b1-f347db5c6526 <FeatureMembership>\n",
      "Full Mass, id f912dc27-fc5e-48e8-abf7-29d3f47c913c - > Fuel Tank Section, id c90361d5-e456-4d96-aecf-b1130825f4fd <FeatureMembership>\n",
      "Empty Mass, id b8173879-3e86-4770-81ef-592f02800554 - > RT-5 \"Flea\" Solid Fuel Booster, id c29c33af-197a-426a-b2a3-b222d2f21307 <FeatureMembership>\n",
      "tanks, id 000f78ae-e890-4f81-847c-f9bf976abe1b - > Liquid Stage, id f25193df-abf0-478b-997d-dbee3895090e <FeatureMembership>\n",
      ", id 92cbcb02-bc53-4cf8-a8b1-f347db5c6526 - > Two-Stager, id 9113498a-cc6b-4bb9-9734-b023a7e099ed <FeatureMembership>\n",
      ", id e0c01246-d5ea-4f2f-87a1-feed644786e6 - > , id 60b2d33a-a357-4e04-9816-5b4d337808ef <FeatureMembership>\n",
      "Loaded Mass, id 52e2f198-482d-4992-a85b-0f7127ee6162 - > stages, id f5f406e8-b8a6-4f8b-a90e-01616a6cf1c1 <FeatureMembership>\n",
      ", id f47dfd21-7d7f-4bef-8622-c0c01c903864 - > , id 3fcd13bc-a258-4966-8f33-e45ed78fc0c6 <FeatureMembership>\n",
      ", id 08138f88-27a2-4370-bef3-b9c98c7f6928 - > Launch to Orbit, id 9d78f938-9618-489e-8dcc-690e67a9856d <FeatureMembership>\n",
      "Stage 2 Burn, id 4c93234e-7376-45c0-9052-bed562a78833 - > Two-Stager, id 9113498a-cc6b-4bb9-9734-b023a7e099ed <FeatureMembership>\n",
      ", id c2711d91-b954-41e9-bc96-8679cc11bf55 - > Launch to Orbit, id 9d78f938-9618-489e-8dcc-690e67a9856d <FeatureMembership>\n",
      "Empty Mass, id b83d0dc4-a7dc-4ef4-8b72-db39d34b09ee - > Solid Stage, id 0b2ea820-ba6b-4f8a-a898-8694dc0a247d <FeatureMembership>\n",
      "Empty Mass, id 2d2f2249-1151-4717-aa3b-039652c8bf4e - > RT-10 \"Hammer\" Solid Fuel Booster, id 276d0623-a352-49cd-8faa-132792ec156a <FeatureMembership>\n",
      "Empty Mass, id 5c13fffc-dfa1-41f4-b34d-d999b837b278 - > FL-T200 Fuel Tank, id c2501561-e875-4c47-8e88-65ddd846d20b <FeatureMembership>\n",
      ", id 4a952c62-966c-492b-ac5d-42f33ae8dbc4 - > Two-Stager, id 9113498a-cc6b-4bb9-9734-b023a7e099ed <FeatureMembership>\n",
      "Thrust, id 86f2aed2-3801-420a-8df0-665d6b69c193 - > RT-5 \"Flea\" Solid Fuel Booster, id c29c33af-197a-426a-b2a3-b222d2f21307 <FeatureMembership>\n",
      "Full Mass, id 7b9876df-d176-4d78-a2f1-34e93572ecb1 - > RT-5 \"Flea\" Solid Fuel Booster, id c29c33af-197a-426a-b2a3-b222d2f21307 <FeatureMembership>\n",
      ", id 05aee345-6fe3-47e3-a141-53849d62889f - > Launch to Orbit, id 9d78f938-9618-489e-8dcc-690e67a9856d <FeatureMembership>\n",
      "Separation Force, id b305f6ce-2acb-4852-8a8a-1cfb22b2439a - > Coupler to Carrying Stage, id b1e046e2-dca5-45ef-97c4-a54e15f87aea <FeatureMembership>\n",
      "Gravity Turn, id 05d34be0-8ae9-4309-9a0e-4e0c1225c334 - > Gravity Turn Ascent, id fbbdeaf7-3d5c-4430-9a20-8267b669b656 <FeatureMembership>\n",
      "Max Temperature, id 01341d2c-a4ce-4f35-8c11-652be9d6b58c - > Kerbal Rocket Part, id 2aa4c385-1247-4f22-b141-4e73a054dc7b <FeatureMembership>\n",
      "Torque, id dc8b3968-f2e3-4806-90f7-7651bf9196ac - > Pod, id 9a7140ae-5715-462e-82d5-484e7eb4ed4b <FeatureMembership>\n",
      "Thrust, id d1ea4468-efba-48d9-aa9e-376669453e5b - > LV-T45 \"Swivel\" Liquid Fuel Engine, id 7e8c5105-bdd1-4cde-9133-c17ab1183f6a <FeatureMembership>\n",
      "Circularization, id e8f44ff0-deae-4c0f-b292-2271541c82c5 - > Launch to Orbit, id 9d78f938-9618-489e-8dcc-690e67a9856d <FeatureMembership>\n",
      "Coupler to Carrying Stage, id b1e046e2-dca5-45ef-97c4-a54e15f87aea - > stages, id f5f406e8-b8a6-4f8b-a90e-01616a6cf1c1 <FeatureMembership>\n",
      "Specific Impulse, id 2ca7bab9-4bf5-4beb-9193-b66221fbf308 - > RT-10 \"Hammer\" Solid Fuel Booster, id 276d0623-a352-49cd-8faa-132792ec156a <FeatureMembership>\n",
      ", id 7473e615-de89-4b64-914a-a574aa1b0183 - > , id 4a952c62-966c-492b-ac5d-42f33ae8dbc4 <FeatureMembership>\n",
      "Mass, id fe335d3c-ba21-41bf-8e4b-a52d1c9590f0 - > LV-T45 \"Swivel\" Liquid Fuel Engine, id 7e8c5105-bdd1-4cde-9133-c17ab1183f6a <FeatureMembership>\n",
      ", id 60b2d33a-a357-4e04-9816-5b4d337808ef - > , id 4c4403fc-87c6-4e04-bdee-81b688ff09f7 <FeatureMembership>\n",
      "engines, id cd081fb5-d4b7-42bc-880b-9f4cf2517394 - > Liquid Stage, id f25193df-abf0-478b-997d-dbee3895090e <FeatureMembership>\n",
      ", id ec4368d6-0621-42ce-8feb-1b0827593df0 - > , id 4c4403fc-87c6-4e04-bdee-81b688ff09f7 <FeatureMembership>\n",
      "Oxidizer, id 60592e22-8668-48bd-a5b5-811b575af08d - > Fuel Tank Section, id c90361d5-e456-4d96-aecf-b1130825f4fd <FeatureMembership>\n",
      ", id 948963c8-0c61-488d-8f94-4aa2504bc5db - > , id 454a8ebe-89b9-442b-a4ae-a7d4ab2a90c6 <FeatureMembership>\n",
      "Liquid Fuel, id 8f9ba41c-c557-42ab-a81d-4838e62db52c - > Fuel Tank Section, id c90361d5-e456-4d96-aecf-b1130825f4fd <FeatureMembership>\n",
      "Empty Mass, id 49fa2a78-e24a-4960-820b-f383aad10175 - > Liquid Stage, id f25193df-abf0-478b-997d-dbee3895090e <FeatureMembership>\n",
      ", id b0e08ea2-19d1-46d5-b785-67d088ed422e - > Launch to Orbit, id 9d78f938-9618-489e-8dcc-690e67a9856d <FeatureMembership>\n",
      "Specific Impulse, id 40a619db-be4b-427a-b303-2c945d2004ef - > RT-5 \"Flea\" Solid Fuel Booster, id c29c33af-197a-426a-b2a3-b222d2f21307 <FeatureMembership>\n",
      "Initial Stage, id f7d64248-0443-483b-817e-c47836446f57 - > Two-Stager, id 9113498a-cc6b-4bb9-9734-b023a7e099ed <FeatureMembership>\n",
      "Burnout Mass, id 2a795610-4d4a-4c6f-b4eb-3e175f85455d - > stages, id f5f406e8-b8a6-4f8b-a90e-01616a6cf1c1 <FeatureMembership>\n",
      ", id b63b18ec-ca80-49ae-bfe8-8a8dff008f03 - > Gravity Turn Ascent, id fbbdeaf7-3d5c-4430-9a20-8267b669b656 <FeatureMembership>\n",
      "Specific Impulse, id 10c42299-eb57-4ede-92ad-af66367a2e6e - > LV-T45 \"Swivel\" Liquid Fuel Engine, id 7e8c5105-bdd1-4cde-9133-c17ab1183f6a <FeatureMembership>\n",
      "Full Mass, id 25a4a485-735c-4b5d-8d6f-140e176a144f - > Liquid Stage, id f25193df-abf0-478b-997d-dbee3895090e <FeatureMembership>\n",
      ", id c04e9301-6480-44bb-80f6-371e3ece78d8 - > , id 539a6797-0e32-4f07-b484-c9a57abac774 <FeatureMembership>\n",
      ", id 539a6797-0e32-4f07-b484-c9a57abac774 - > Two-Stager, id 9113498a-cc6b-4bb9-9734-b023a7e099ed <FeatureMembership>\n",
      "Empty Mass, id cb4386fe-67d9-4743-995f-5d4a4162e26e - > Fuel Tank Section, id c90361d5-e456-4d96-aecf-b1130825f4fd <FeatureMembership>\n",
      "Second Stage, id ddd8bd89-81da-4fe4-a585-28cf2c52a893 - > Two-Stager, id 9113498a-cc6b-4bb9-9734-b023a7e099ed <FeatureMembership>\n",
      "Full Mass, id d59b76e9-7d47-42f4-9a6c-82f350158deb - > RT-10 \"Hammer\" Solid Fuel Booster, id 276d0623-a352-49cd-8faa-132792ec156a <FeatureMembership>\n",
      ", id 08ca6d04-9620-478e-bdda-b538e9676a5c - > , id e0c01246-d5ea-4f2f-87a1-feed644786e6 <FeatureMembership>\n",
      "Full Mass, id e99d7f0f-4ad6-4223-8ca8-6d83c040c058 - > Solid Stage, id 0b2ea820-ba6b-4f8a-a898-8694dc0a247d <FeatureMembership>\n",
      ", id 454a8ebe-89b9-442b-a4ae-a7d4ab2a90c6 - > , id ec4368d6-0621-42ce-8feb-1b0827593df0 <FeatureMembership>\n",
      "Ascent, id 7fa29907-5d68-40a5-b7eb-9e2f85e8b77b - > Launch to Orbit, id 9d78f938-9618-489e-8dcc-690e67a9856d <FeatureMembership>\n",
      "Vertical Rise, id 4839e16e-bc7d-4137-af67-7338d8448604 - > Gravity Turn Ascent, id fbbdeaf7-3d5c-4430-9a20-8267b669b656 <FeatureMembership>\n",
      "Full Mass, id 9d138c7a-9e26-4d30-90d2-f67917c0c127 - > Solid Booster, id 6c32c754-64ff-46e9-b654-a8af287dd3dc <FeatureMembership>\n",
      "Full Mass, id 5de9ac2d-2879-4e44-978b-52307c4fd698 - > FL-T200 Fuel Tank, id c2501561-e875-4c47-8e88-65ddd846d20b <FeatureMembership>\n",
      "Thrust, id 34294966-7022-4b19-bec9-e92da83702a9 - > Solid Booster, id 6c32c754-64ff-46e9-b654-a8af287dd3dc <FeatureMembership>\n",
      "Empty Mass, id dd332374-c114-481e-bffd-6b99914bac4f - > FL-T100 Fuel Tank, id 5260380b-6fda-43cc-993f-5df58868edbb <FeatureMembership>\n",
      "Empty Mass, id 51ef7947-2aab-4abc-8276-f19363d7f73f - > Solid Booster, id 6c32c754-64ff-46e9-b654-a8af287dd3dc <FeatureMembership>\n",
      "Burnout, id 53148315-3e6d-4ae0-8a03-1149a0ba3e23 - > Two-Stager, id 9113498a-cc6b-4bb9-9734-b023a7e099ed <FeatureMembership>\n",
      "Specific Impulse, id 5b503408-eb47-4931-8365-891df10a96f3 - > Liquid Engine, id 108e4293-9941-46b5-855c-06acb74ac4fc <FeatureMembership>\n",
      "Carried Stage, id 2a90c86f-b22c-4f8e-9483-69251d4189e9 - > stages, id f5f406e8-b8a6-4f8b-a90e-01616a6cf1c1 <FeatureMembership>\n",
      "Specific Impulse, id a9c33eca-038f-4f35-8e2c-63fdfc3eff22 - > Solid Booster, id 6c32c754-64ff-46e9-b654-a8af287dd3dc <FeatureMembership>\n",
      "Mass, id 6045bd07-09d9-4a01-97a4-ede5cad64d76 - > Kerbal Rocket Part, id 2aa4c385-1247-4f22-b141-4e73a054dc7b <FeatureMembership>\n",
      "boosters, id 5caca345-39a8-4125-9387-3a4026b59700 - > Solid Stage, id 0b2ea820-ba6b-4f8a-a898-8694dc0a247d <FeatureMembership>\n",
      "stages, id f5f406e8-b8a6-4f8b-a90e-01616a6cf1c1 - > Rocket, id 64811484-97f6-442e-ab02-cd5247255cab <FeatureMembership>\n",
      "start, id 134f7dec-a0dd-4537-ae78-a063a17c902e - > Launch to Orbit, id 9d78f938-9618-489e-8dcc-690e67a9856d <FeatureMembership>\n",
      "Thrust, id c6497b27-5dcb-4bae-bd92-86179a5daeab - > Liquid Engine, id 108e4293-9941-46b5-855c-06acb74ac4fc <FeatureMembership>\n",
      ", id 3fcd13bc-a258-4966-8f33-e45ed78fc0c6 - > Two-Stager, id 9113498a-cc6b-4bb9-9734-b023a7e099ed <FeatureMembership>\n"
     ]
    }
   ],
   "source": [
    "for ft in working_model.get_all_of_metaclass(metaclass_name='FeatureMembership'):\n",
    "    print(working_model.get_element_signature(ft))"
   ]
  },
  {
   "cell_type": "markdown",
   "id": "expressed-manufacturer",
   "metadata": {},
   "source": [
    "## Investigate Literal Assignments and Expressions"
   ]
  },
  {
   "cell_type": "code",
   "execution_count": 41,
   "id": "seeing-wichita",
   "metadata": {},
   "outputs": [],
   "source": [
    "expressions = [expr for expr in non_relations if 'Expression' in expr['@type']]"
   ]
  },
  {
   "cell_type": "code",
   "execution_count": 42,
   "id": "thick-offering",
   "metadata": {},
   "outputs": [
    {
     "data": {
      "text/plain": [
       "11"
      ]
     },
     "execution_count": 42,
     "metadata": {},
     "output_type": "execute_result"
    }
   ],
   "source": [
    "len(expressions)"
   ]
  },
  {
   "cell_type": "code",
   "execution_count": 90,
   "id": "expressed-climb",
   "metadata": {},
   "outputs": [],
   "source": [
    "def expression_signature(expr):\n",
    "    if expr['@type'] == 'FeatureReferenceExpression':\n",
    "        fre = working_model.get_data_by_id(expr['referent']['@id'])\n",
    "        return working_model.get_name_by_id(fre['owner']['@id']) + '::' + fre['name'] + '(ref)'\n",
    "    elif expr['@type'] == 'OperatorExpression':\n",
    "        oper = expr['operator']\n",
    "        paras = [expression_signature(working_model.get_data_by_id(para['@id'])) for para in expr['operand']]\n",
    "        return str(oper) + ' (' + str(paras) + ')'\n",
    "    elif expr['@type'] == 'Expression':\n",
    "        result_name = working_model.get_name_by_id(expr['result']['@id'])\n",
    "        inputs = [expression_signature(working_model.get_data_by_id(para['@id'])) for para in expr['input']]\n",
    "        return 'f(' + ', '.join(inputs) + ') => ' + result_name\n",
    "    elif expr['@type'] in ('ReferenceUsage', 'Feature', 'AttributeUsage', 'Function'):\n",
    "        if expr['name'] is not None:\n",
    "            return expr['name']\n",
    "        else:\n",
    "            return ''\n",
    "    elif expr['@type'] == 'InvocationExpression':\n",
    "        invoked = working_model.get_name_by_id(expr['type'][0]['@id'])\n",
    "        inputs = [expression_signature(working_model.get_data_by_id(para['@id'])) for para in expr['input']]\n",
    "        return invoked + '(' + str(inputs) + ')'\n",
    "    else:\n",
    "        return expr['@type']"
   ]
  },
  {
   "cell_type": "code",
   "execution_count": 91,
   "id": "realistic-jungle",
   "metadata": {},
   "outputs": [
    {
     "data": {
      "text/plain": [
       "\"collect (['Liquid Stage::engines(ref)', 'f(p) => $result'])\""
      ]
     },
     "execution_count": 91,
     "metadata": {},
     "output_type": "execute_result"
    }
   ],
   "source": [
    "expression_signature(expressions[9])"
   ]
  },
  {
   "cell_type": "code",
   "execution_count": 92,
   "id": "loose-turkish",
   "metadata": {},
   "outputs": [],
   "source": [
    "expression_graph = NX.DiGraph()"
   ]
  },
  {
   "cell_type": "code",
   "execution_count": 93,
   "id": "utility-mortality",
   "metadata": {},
   "outputs": [
    {
     "name": "stdout",
     "output_type": "stream",
     "text": [
      "collect (['Liquid Stage::tanks(ref)', 'f(p) => $result']) =FM=> Liquid Stage::tanks(ref)\n",
      "LiteralReal (140.0) value of RT-5 \"Flea\" Solid Fuel Booster::Specific Impulse\n",
      "LiteralInteger =RPN=> $result\n",
      "LiteralReal (167.97) value of LV-T45 \"Swivel\" Liquid Fuel Engine::Thrust\n",
      "LiteralInteger =RPN=> $result\n",
      "f(p) => $result =REM=> Fuel Tank Section::Full Mass(ref)\n",
      "Fuel Tank Section::Full Mass(ref) =RPN=> $result\n",
      "collect (['Liquid Stage::engines(ref)', 'f(p) => $result']) =FM=> f(p) => $result\n",
      "collect (['Liquid Stage::engines(ref)', 'f(p) => $result']) =PN=> $collection\n",
      "AcceptActionUsage =PN=> \n",
      "sum(['$collection']) =FM=> collect (['Liquid Stage::engines(ref)', 'f(p) => $result'])\n",
      "LiteralReal =RPN=> $result\n",
      "collect (['Liquid Stage::engines(ref)', 'f(p) => $result']) =RPN=> $result\n",
      "f(p) => $result =REM=> Kerbal Rocket Part::Mass(ref)\n",
      "LiteralInteger =RPN=> $result\n",
      "AcceptActionUsage =PN=> \n",
      "LiteralReal (0.45) value of RT-5 \"Flea\" Solid Fuel Booster::Empty Mass\n",
      "Liquid Stage::engines(ref) =RPN=> $result\n",
      "AcceptActionUsage =PN=> \n",
      "collect (['Liquid Stage::tanks(ref)', 'f(p) => $result']) =RPN=> $result\n",
      "LiteralReal =RPN=> $result\n",
      "LiteralReal =RPN=> $result\n",
      "LiteralReal =RPN=> $result\n",
      "LiteralReal (170.0) value of RT-10 \"Hammer\" Solid Fuel Booster::Specific Impulse\n",
      "LiteralInteger =RPN=> $result\n",
      "LiteralReal (1.5) value of RT-5 \"Flea\" Solid Fuel Booster::Full Mass\n",
      "sum(['$collection']) =RPN=> $result\n",
      "AcceptActionUsage =PN=> \n",
      "f(p) => $result =PN=> p\n",
      "sum(['$collection']) =PN=> $collection\n",
      "AcceptActionUsage =PN=> \n",
      "LiteralReal (197.9) value of RT-10 \"Hammer\" Solid Fuel Booster::Thrust\n",
      "LiteralReal =RPN=> $result\n",
      "Kerbal Rocket Part::Mass(ref) =RPN=> $result\n",
      "LiteralReal =RPN=> $result\n",
      "+ ([\"sum(['$collection'])\", \"sum(['$collection'])\"]) =PN=> $x\n",
      "LiteralInteger =RPN=> $result\n",
      "LiteralReal =RPN=> $result\n",
      "LiteralReal (1.125) value of FL-T200 Fuel Tank::Full Mass\n",
      "LiteralReal =RPN=> $result\n",
      "+ ([\"sum(['$collection'])\", \"sum(['$collection'])\"]) =FM=> sum(['$collection'])\n",
      "AcceptActionUsage =PN=> \n",
      "+ ([\"sum(['$collection'])\", \"sum(['$collection'])\"]) =FM=> sum(['$collection'])\n",
      "LiteralReal (1.5) value of LV-T45 \"Swivel\" Liquid Fuel Engine::Mass\n",
      "collect (['Liquid Stage::tanks(ref)', 'f(p) => $result']) =FM=> f(p) => $result\n",
      "f(p) => $result =RPN=> $result\n",
      "LiteralReal (3.56) value of RT-10 \"Hammer\" Solid Fuel Booster::Full Mass\n",
      "sum(['$collection']) =RPN=> $result\n",
      "LiteralReal (0.0625) value of FL-T100 Fuel Tank::Empty Mass\n",
      "LiteralReal =RPN=> $result\n",
      "LiteralReal (170.0) value of LV-T45 \"Swivel\" Liquid Fuel Engine::Specific Impulse\n",
      "LiteralInteger =RPN=> $result\n",
      "LiteralReal =RPN=> $result\n",
      "+ ([\"sum(['$collection'])\", \"sum(['$collection'])\"]) =RPN=> $result\n",
      "sum(['$collection']) =FT=> sum\n",
      "collect (['Liquid Stage::engines(ref)', 'f(p) => $result']) =FM=> Liquid Stage::engines(ref)\n",
      "sum(['$collection']) =FM=> collect (['Liquid Stage::tanks(ref)', 'f(p) => $result'])\n",
      "sum(['$collection']) =FT=> sum\n",
      "collect (['Liquid Stage::tanks(ref)', 'f(p) => $result']) =PN=> $collection\n",
      "LiteralReal (0.5625) value of FL-T100 Fuel Tank::Full Mass\n",
      "+ ([\"sum(['$collection'])\", \"sum(['$collection'])\"]) =PN=> $y\n",
      "LiteralReal (0.125) value of FL-T200 Fuel Tank::Empty Mass\n",
      "AcceptActionUsage =PN=> \n",
      "+ ([\"sum(['$collection'])\", \"sum(['$collection'])\"]) value of Liquid Stage::Full Mass\n",
      "AcceptActionUsage =PN=> \n",
      "LiteralReal =RPN=> $result\n",
      "LiteralInteger =RPN=> $result\n",
      "f(p) => $result =RPN=> $result\n",
      "LiteralReal =RPN=> $result\n",
      "LiteralReal =RPN=> $result\n",
      "LiteralInteger =RPN=> $result\n",
      "LiteralReal =RPN=> $result\n",
      "LiteralInteger =RPN=> $result\n",
      "LiteralReal =RPN=> $result\n",
      "LiteralReal (162.91) value of RT-5 \"Flea\" Solid Fuel Booster::Thrust\n",
      "LiteralInteger =RPN=> $result\n",
      "sum(['$collection']) =PN=> $collection\n",
      "LiteralInteger =RPN=> $result\n",
      "Liquid Stage::tanks(ref) =RPN=> $result\n",
      "f(p) => $result =PN=> p\n",
      "LiteralReal (0.75) value of RT-10 \"Hammer\" Solid Fuel Booster::Empty Mass\n"
     ]
    }
   ],
   "source": [
    "for rel in relations:\n",
    "    if rel['@type'] == 'ReturnParameterMembership':\n",
    "        owner = working_model.get_data_by_id(rel['owningType']['@id'])\n",
    "        para = working_model.get_data_by_id(rel['memberParameter']['@id'])\n",
    "        \n",
    "        expression_graph.add_node(owner['@id'], label=expression_signature(owner))\n",
    "        expression_graph.add_node(para['@id'], label=expression_signature(para))\n",
    "        expression_graph.add_edge(owner['@id'], para['@id'], kind='ReturnParameterMembership')\n",
    "        \n",
    "        print (expression_signature(owner) + ' =RPN=> ' + expression_signature(para))\n",
    "    elif rel['@type'] == 'ParameterMembership':\n",
    "        owner = working_model.get_data_by_id(rel['owningType']['@id'])\n",
    "        para = working_model.get_data_by_id(rel['memberParameter']['@id'])\n",
    "        \n",
    "        expression_graph.add_node(owner['@id'], label=expression_signature(owner))\n",
    "        expression_graph.add_node(para['@id'], label=expression_signature(para))\n",
    "        expression_graph.add_edge(owner['@id'], para['@id'], kind='ParameterMembership')\n",
    "        print (expression_signature(owner) + ' =PN=> ' + expression_signature(para))\n",
    "    elif rel['@type'] == 'FeatureValue':\n",
    "        feature = working_model.get_data_by_id(rel['owningRelatedElement']['@id'])\n",
    "        value = working_model.get_data_by_id(rel['value']['@id'])\n",
    "        \n",
    "        expression_graph.add_node(feature['@id'], label=expression_signature(feature))\n",
    "        expression_graph.add_node(value['@id'], label=expression_signature(value))\n",
    "        expression_graph.add_edge(feature['@id'], value['@id'], kind='FeatureValue')\n",
    "        \n",
    "        feature_owner = working_model.get_data_by_id(feature['owningType']['@id'])\n",
    "        \n",
    "        if 'value' in value:\n",
    "            print (expression_signature(value) + ' (' + str(value['value']) + \\\n",
    "                   ') value of ' + feature_owner['name'] + '::' + expression_signature(feature))\n",
    "        else:\n",
    "            print (expression_signature(value) + \\\n",
    "                   ' value of ' + feature_owner['name'] + '::' + expression_signature(feature))\n",
    "            \n",
    "    elif rel['@type'] == 'FeatureMembership':\n",
    "        if 'Expression' in working_model.get_data_by_id(rel['memberFeature']['@id'])['@type']:\n",
    "            if working_model.get_metaclass_by_id(rel['memberFeature']['@id']) != 'AttributeUsage':\n",
    "                owner = working_model.get_data_by_id(rel['owningType']['@id'])\n",
    "                expr = working_model.get_data_by_id(rel['memberFeature']['@id'])\n",
    "\n",
    "                expression_graph.add_node(owner['@id'], label=expression_signature(owner))\n",
    "                expression_graph.add_node(expr['@id'], label=expression_signature(expr))\n",
    "                expression_graph.add_edge(owner['@id'], expr['@id'], kind='FeatureMembership')\n",
    "            \n",
    "            print (expression_signature(owner) + ' =FM=> ' + expression_signature(expr))\n",
    "            \n",
    "    elif rel['@type'] == 'ResultExpressionMembership':\n",
    "        if 'Expression' in working_model.get_data_by_id(rel['memberFeature']['@id'])['@type']:\n",
    "            if working_model.get_metaclass_by_id(rel['memberFeature']['@id']) != 'AttributeUsage':\n",
    "                owner = working_model.get_data_by_id(rel['owningType']['@id'])\n",
    "                expr = working_model.get_data_by_id(rel['memberFeature']['@id'])\n",
    "\n",
    "                expression_graph.add_node(owner['@id'], label=expression_signature(owner))\n",
    "                expression_graph.add_node(expr['@id'], label=expression_signature(expr))\n",
    "                expression_graph.add_edge(owner['@id'], expr['@id'], kind='FeatureMembership')\n",
    "            \n",
    "            print (expression_signature(owner) + ' =REM=> ' + expression_signature(expr))\n",
    "            \n",
    "    elif rel['@type'] == 'FeatureTyping':\n",
    "        if 'Expression' in working_model.get_data_by_id(rel['typedFeature']['@id'])['@type']:\n",
    "            typ = working_model.get_data_by_id(rel['type']['@id'])\n",
    "            expr = working_model.get_data_by_id(rel['typedFeature']['@id'])\n",
    "\n",
    "            expression_graph.add_node(typ['@id'], label=expression_signature(typ))\n",
    "            expression_graph.add_node(expr['@id'], label=expression_signature(expr))\n",
    "            expression_graph.add_edge(expr['@id'], typ['@id'], kind='FeatureTyping')\n",
    "            \n",
    "            print (expression_signature(expr) + ' =FT=> ' + expression_signature(typ))"
   ]
  },
  {
   "cell_type": "code",
   "execution_count": 47,
   "id": "instrumental-domestic",
   "metadata": {},
   "outputs": [],
   "source": [
    "expression_value_pairs = []\n",
    "\n",
    "for rel in relations:\n",
    "    if rel['@type'] == 'FeatureValue':\n",
    "        value = working_model.get_data_by_id(rel['value']['@id'])\n",
    "        if 'Expression' in value['@type']:\n",
    "            feature = working_model.get_data_by_id(rel['owningRelatedElement']['@id'])\n",
    "            expression_value_pairs.append([feature['@id'], value['@id']])"
   ]
  },
  {
   "cell_type": "code",
   "execution_count": 48,
   "id": "cleared-queensland",
   "metadata": {},
   "outputs": [
    {
     "data": {
      "text/plain": [
       "1"
      ]
     },
     "execution_count": 48,
     "metadata": {},
     "output_type": "execute_result"
    }
   ],
   "source": [
    "len(expression_value_pairs)"
   ]
  },
  {
   "cell_type": "code",
   "execution_count": 49,
   "id": "naughty-surgeon",
   "metadata": {},
   "outputs": [],
   "source": [
    "def get_context_from_graph(graph, expr_values):\n",
    "    context_dict = {}\n",
    "    for ev in expr_values:\n",
    "        tree = NX.dfs_tree(graph, source=ev[1])\n",
    "        for tree_node in tree.nodes():\n",
    "            if 'Expression' in working_model.get_data_by_id(tree_node)['@type']:\n",
    "                context_dict.update({tree_node: ev[0]})\n",
    "                \n",
    "    return context_dict"
   ]
  },
  {
   "cell_type": "code",
   "execution_count": 89,
   "id": "brown-smooth",
   "metadata": {},
   "outputs": [
    {
     "data": {
      "text/plain": [
       "{'4c4403fc-87c6-4e04-bdee-81b688ff09f7': '25a4a485-735c-4b5d-8d6f-140e176a144f',\n",
       " '60b2d33a-a357-4e04-9816-5b4d337808ef': '25a4a485-735c-4b5d-8d6f-140e176a144f',\n",
       " 'e0c01246-d5ea-4f2f-87a1-feed644786e6': '25a4a485-735c-4b5d-8d6f-140e176a144f',\n",
       " '1bab5ced-f3d0-42cc-9391-943ae61f3c15': '25a4a485-735c-4b5d-8d6f-140e176a144f',\n",
       " '61841796-6ae1-4933-b1cd-e43108c52293': '25a4a485-735c-4b5d-8d6f-140e176a144f',\n",
       " '08ca6d04-9620-478e-bdda-b538e9676a5c': '25a4a485-735c-4b5d-8d6f-140e176a144f',\n",
       " 'ec4368d6-0621-42ce-8feb-1b0827593df0': '25a4a485-735c-4b5d-8d6f-140e176a144f',\n",
       " '454a8ebe-89b9-442b-a4ae-a7d4ab2a90c6': '25a4a485-735c-4b5d-8d6f-140e176a144f',\n",
       " '67812f5a-dfe6-4ac4-9600-936a85a1400e': '25a4a485-735c-4b5d-8d6f-140e176a144f',\n",
       " '948963c8-0c61-488d-8f94-4aa2504bc5db': '25a4a485-735c-4b5d-8d6f-140e176a144f',\n",
       " 'da19f8c0-2dfd-49ec-aeaf-dda454a26b16': '25a4a485-735c-4b5d-8d6f-140e176a144f'}"
      ]
     },
     "execution_count": 89,
     "metadata": {},
     "output_type": "execute_result"
    }
   ],
   "source": [
    "context_dict = get_context_from_graph(expression_graph, expression_value_pairs)\n",
    "context_dict"
   ]
  },
  {
   "cell_type": "markdown",
   "id": "reliable-founder",
   "metadata": {},
   "source": [
    "Examine the expression graph and paint expression nodes with context for later evaluations."
   ]
  },
  {
   "cell_type": "code",
   "execution_count": 95,
   "id": "terminal-harvard",
   "metadata": {},
   "outputs": [
    {
     "data": {
      "image/png": "[encoded data removed]",
      "text/plain": [
       "<Figure size 1440x864 with 1 Axes>"
      ]
     },
     "metadata": {},
     "output_type": "display_data"
    }
   ],
   "source": [
    "for comp in NX.connected_components(expression_graph.to_undirected()):\n",
    "    connected_sub = NX.subgraph(expression_graph, list(comp))\n",
    "    \n",
    "    pos = NX.planar_layout(connected_sub)\n",
    "\n",
    "    banded_labels = NX.get_node_attributes(connected_sub,'label')\n",
    "\n",
    "    edge_kinds = NX.get_edge_attributes(connected_sub,'kind')\n",
    "    colors = []\n",
    "    \n",
    "    rpm_edges = []\n",
    "    pm_edges = []\n",
    "    fv_edges = []\n",
    "    ft_edges = []\n",
    "    fm_edges = []\n",
    "    rem_edges = []\n",
    "    \n",
    "    for edg in connected_sub.edges.data(\"kind\"):\n",
    "        if edg[2] == 'ReturnParameterMembership':\n",
    "            rpm_edges.append([edg[0], edg[1]])\n",
    "        elif edg[2] == 'ParameterMembership':\n",
    "            pm_edges.append([edg[0], edg[1]])\n",
    "        elif edg[2] == 'FeatureValue':\n",
    "            fv_edges.append([edg[0], edg[1]])\n",
    "        elif edg[2] == 'FeatureTyping':\n",
    "            ft_edges.append([edg[0], edg[1]])\n",
    "        elif edg[2] == 'FeatureMembership':\n",
    "            fm_edges.append([edg[0], edg[1]])\n",
    "        elif edg[2] == 'ResultExpressionMembership':\n",
    "            rem_edges.append([edg[0], edg[1]])\n",
    "    \n",
    "    # only plot non-trivial\n",
    "    if len(comp) > 4:\n",
    "\n",
    "        plt.figure(figsize=(20, 12))\n",
    "        \n",
    "        NX.draw_networkx_nodes(connected_sub, pos, nodelist=comp, node_color=\"r\")\n",
    "        \n",
    "        NX.draw_networkx_edges(connected_sub, pos, edgelist=rpm_edges, edge_color=\"b\", arrowsize=20)\n",
    "        #NX.draw_networkx_edges(connected_sub, pos, edgelist=ft_edges, edge_color=\"k\", arrowsize=20)\n",
    "        NX.draw_networkx_edges(connected_sub, pos, edgelist=pm_edges, edge_color=\"g\", arrowsize=20)\n",
    "        #NX.draw_networkx_edges(connected_sub, pos, edgelist=fv_edges, edge_color=\"r\", arrowsize=20)\n",
    "        #NX.draw_networkx_edges(connected_sub, pos, edgelist=fm_edges, edge_color=\"c\", arrowsize=20)\n",
    "        NX.draw_networkx_edges(connected_sub, pos, edgelist=rem_edges, edge_color=\"m\", arrowsize=20)\n",
    "        \n",
    "        NX.draw_networkx_labels(connected_sub, pos, banded_labels, font_size=12)\n",
    "\n",
    "        #NX.draw_planar(connected_sub,\n",
    "        #               edgelist=connected_sub.edges,\n",
    "        #               labels=banded_labels,\n",
    "        #              edge_color=colors,\n",
    "        #              arrowsize=20)"
   ]
  },
  {
   "cell_type": "code",
   "execution_count": 79,
   "id": "quality-november",
   "metadata": {},
   "outputs": [
    {
     "data": {
      "text/plain": [
       "[[LS#1, [LS#1].Full Mass (unset)]]"
      ]
     },
     "execution_count": 79,
     "metadata": {},
     "output_type": "execute_result"
    }
   ],
   "source": [
    "generator.attribute_dicts[0]['25a4a485-735c-4b5d-8d6f-140e176a144f']"
   ]
  },
  {
   "cell_type": "code",
   "execution_count": 52,
   "id": "legal-mississippi",
   "metadata": {},
   "outputs": [],
   "source": [
    "collects = [nr for nr in non_relations if nr['@type'] == 'OperatorExpression' and nr['operator'] == 'collect']"
   ]
  },
  {
   "cell_type": "code",
   "execution_count": 53,
   "id": "enormous-forge",
   "metadata": {},
   "outputs": [
    {
     "data": {
      "text/plain": [
       "2"
      ]
     },
     "execution_count": 53,
     "metadata": {},
     "output_type": "execute_result"
    }
   ],
   "source": [
    "len(collects)"
   ]
  },
  {
   "cell_type": "code",
   "execution_count": 54,
   "id": "intensive-globe",
   "metadata": {},
   "outputs": [],
   "source": [
    "def filter_feature_by_context(context, feature_list):\n",
    "    filtered = [feat for feat in feature_list if str(context) == str(feat[0:len(context)])]\n",
    "    return filtered"
   ]
  },
  {
   "cell_type": "markdown",
   "id": "cross-equilibrium",
   "metadata": {},
   "source": [
    "Simpler answer: The dot operator on instances."
   ]
  },
  {
   "cell_type": "code",
   "execution_count": 55,
   "id": "bound-caribbean",
   "metadata": {},
   "outputs": [
    {
     "data": {
      "text/plain": [
       "[[LS#1]]"
      ]
     },
     "execution_count": 55,
     "metadata": {},
     "output_type": "execute_result"
    }
   ],
   "source": [
    "generator.classifier_instance_dicts[0]['f25193df-abf0-478b-997d-dbee3895090e']"
   ]
  },
  {
   "cell_type": "code",
   "execution_count": 56,
   "id": "trying-transformation",
   "metadata": {},
   "outputs": [
    {
     "data": {
      "text/plain": [
       "[[LS#1, LV-T45#12],\n",
       " [LS#1, LV-T45#8],\n",
       " [LS#1, LV-T45#34],\n",
       " [LS#1, LV-T45#7],\n",
       " [LS#1, LV-T45#16]]"
      ]
     },
     "execution_count": 56,
     "metadata": {},
     "output_type": "execute_result"
    }
   ],
   "source": [
    "generator.feature_instance_dicts[0]['cd081fb5-d4b7-42bc-880b-9f4cf2517394']"
   ]
  },
  {
   "cell_type": "code",
   "execution_count": 72,
   "id": "complimentary-photographer",
   "metadata": {},
   "outputs": [],
   "source": [
    "def sequence_dot_operator(left_item, right_side_seqs):\n",
    "    left_len = len(left_item)\n",
    "    right_len = len(right_side_seqs[0])\n",
    "    #print('Left is ' + str(left_len) + ' right is ' + str(right_len))\n",
    "    matched_items = []\n",
    "    \n",
    "    for right_item in right_side_seqs:\n",
    "        #print(str(right_item[0:(right_len-1)]))\n",
    "        if left_len != right_len:\n",
    "            if str(left_item) == str(right_item[0:(right_len-1)]):\n",
    "                matched_items.append(right_item)\n",
    "        else:\n",
    "            if str(left_item[1:None]) == str(right_item[0:(right_len-1)]):\n",
    "                matched_items.append(right_item)\n",
    "        \n",
    "    return matched_items"
   ]
  },
  {
   "cell_type": "code",
   "execution_count": 83,
   "id": "certain-brief",
   "metadata": {},
   "outputs": [],
   "source": [
    "step_1 = sequence_dot_operator(generator.classifier_instance_dicts[0]['f25193df-abf0-478b-997d-dbee3895090e'][0],\n",
    "                     generator.feature_instance_dicts[0]['cd081fb5-d4b7-42bc-880b-9f4cf2517394'])"
   ]
  },
  {
   "cell_type": "code",
   "execution_count": 84,
   "id": "ceramic-spectacular",
   "metadata": {},
   "outputs": [
    {
     "data": {
      "text/plain": [
       "[[LS#1, LV-T45#12],\n",
       " [LS#1, LV-T45#8],\n",
       " [LS#1, LV-T45#34],\n",
       " [LS#1, LV-T45#7],\n",
       " [LS#1, LV-T45#16]]"
      ]
     },
     "execution_count": 84,
     "metadata": {},
     "output_type": "execute_result"
    }
   ],
   "source": [
    "step_1"
   ]
  },
  {
   "cell_type": "code",
   "execution_count": 85,
   "id": "wrapped-compensation",
   "metadata": {},
   "outputs": [],
   "source": [
    "all_masses = [\n",
    "    sequence_dot_operator(step_1_step,\n",
    "                     generator.attribute_dicts[1]['6045bd07-09d9-4a01-97a4-ede5cad64d76'])\n",
    "    for step_1_step in step_1\n",
    "]"
   ]
  },
  {
   "cell_type": "code",
   "execution_count": 88,
   "id": "general-reaction",
   "metadata": {},
   "outputs": [
    {
     "data": {
      "text/plain": [
       "[[LV-T45#12, [LV-T45#12].Mass (unset)],\n",
       " [LV-T45#8, [LV-T45#8].Mass (unset)],\n",
       " [LV-T45#34, [LV-T45#34].Mass (unset)],\n",
       " [LV-T45#7, [LV-T45#7].Mass (unset)],\n",
       " [LV-T45#16, [LV-T45#16].Mass (unset)]]"
      ]
     },
     "execution_count": 88,
     "metadata": {},
     "output_type": "execute_result"
    }
   ],
   "source": [
    "all_masses\n",
    "sum(all_masses, [])"
   ]
  },
  {
   "cell_type": "code",
   "execution_count": 77,
   "id": "directed-intro",
   "metadata": {},
   "outputs": [
    {
     "data": {
      "text/plain": [
       "[[LV-T45#1, [LV-T45#1].Mass (unset)]]"
      ]
     },
     "execution_count": 77,
     "metadata": {},
     "output_type": "execute_result"
    }
   ],
   "source": [
    "sequence_dot_operator(step_1[2],\n",
    "                     generator.attribute_dicts[1]['6045bd07-09d9-4a01-97a4-ede5cad64d76'])"
   ]
  },
  {
   "cell_type": "code",
   "execution_count": 61,
   "id": "vulnerable-cocktail",
   "metadata": {},
   "outputs": [
    {
     "data": {
      "text/plain": [
       "[[[LS#1],\n",
       "  [[LS#1, FL-T200#137],\n",
       "   [LS#1, FL-T200#121],\n",
       "   [LS#1, FL-T200#115],\n",
       "   [LS#1, FL-T200#79],\n",
       "   [LS#1, FL-T200#29],\n",
       "   [LS#1, FL-T200#7],\n",
       "   [LS#1, FL-T200#132],\n",
       "   [LS#1, FL-T200#88],\n",
       "   [LS#1, FL-T200#40],\n",
       "   [LS#1, FL-T200#126],\n",
       "   [LS#1, FL-T200#57],\n",
       "   [LS#1, FL-T200#107],\n",
       "   [LS#1, FL-T200#2],\n",
       "   [LS#1, FL-T200#13],\n",
       "   [LS#1, FL-T200#4],\n",
       "   [LS#1, FL-T200#62],\n",
       "   [LS#1, FL-T200#77],\n",
       "   [LS#1, FL-T200#16],\n",
       "   [LS#1, FL-T200#23],\n",
       "   [LS#1, FL-T200#114],\n",
       "   [LS#1, FL-T200#41],\n",
       "   [LS#1, FL-T200#39],\n",
       "   [LS#1, FL-T200#51]]]]"
      ]
     },
     "execution_count": 61,
     "metadata": {},
     "output_type": "execute_result"
    }
   ],
   "source": [
    "sequence_dot_operator(generator.classifier_instance_dicts[0]['f25193df-abf0-478b-997d-dbee3895090e'],\n",
    "                     generator.feature_instance_dicts[0]['000f78ae-e890-4f81-847c-f9bf976abe1b'])"
   ]
  },
  {
   "cell_type": "code",
   "execution_count": 62,
   "id": "mobile-stephen",
   "metadata": {},
   "outputs": [
    {
     "data": {
      "text/plain": [
       "[[[LS#1, FL-T200#137], [[FL-T200#137, [FL-T200#137].Full Mass (unset)]]],\n",
       " [[LS#1, FL-T200#121], [[FL-T200#121, [FL-T200#121].Full Mass (unset)]]],\n",
       " [[LS#1, FL-T200#115], [[FL-T200#115, [FL-T200#115].Full Mass (unset)]]],\n",
       " [[LS#1, FL-T200#79], [[FL-T200#79, [FL-T200#79].Full Mass (unset)]]],\n",
       " [[LS#1, FL-T200#29], [[FL-T200#29, [FL-T200#29].Full Mass (unset)]]],\n",
       " [[LS#1, FL-T200#7], [[FL-T200#7, [FL-T200#7].Full Mass (unset)]]],\n",
       " [[LS#1, FL-T200#132], [[FL-T200#132, [FL-T200#132].Full Mass (unset)]]],\n",
       " [[LS#1, FL-T200#88], [[FL-T200#88, [FL-T200#88].Full Mass (unset)]]],\n",
       " [[LS#1, FL-T200#40], [[FL-T200#40, [FL-T200#40].Full Mass (unset)]]],\n",
       " [[LS#1, FL-T200#126], [[FL-T200#126, [FL-T200#126].Full Mass (unset)]]],\n",
       " [[LS#1, FL-T200#57], [[FL-T200#57, [FL-T200#57].Full Mass (unset)]]],\n",
       " [[LS#1, FL-T200#107], [[FL-T200#107, [FL-T200#107].Full Mass (unset)]]],\n",
       " [[LS#1, FL-T200#2], [[FL-T200#2, [FL-T200#2].Full Mass (unset)]]],\n",
       " [[LS#1, FL-T200#13], [[FL-T200#13, [FL-T200#13].Full Mass (unset)]]],\n",
       " [[LS#1, FL-T200#4], [[FL-T200#4, [FL-T200#4].Full Mass (unset)]]],\n",
       " [[LS#1, FL-T200#62], [[FL-T200#62, [FL-T200#62].Full Mass (unset)]]],\n",
       " [[LS#1, FL-T200#77], [[FL-T200#77, [FL-T200#77].Full Mass (unset)]]],\n",
       " [[LS#1, FL-T200#16], [[FL-T200#16, [FL-T200#16].Full Mass (unset)]]],\n",
       " [[LS#1, FL-T200#23], [[FL-T200#23, [FL-T200#23].Full Mass (unset)]]],\n",
       " [[LS#1, FL-T200#114], [[FL-T200#114, [FL-T200#114].Full Mass (unset)]]],\n",
       " [[LS#1, FL-T200#41], [[FL-T200#41, [FL-T200#41].Full Mass (unset)]]],\n",
       " [[LS#1, FL-T200#39], [[FL-T200#39, [FL-T200#39].Full Mass (unset)]]],\n",
       " [[LS#1, FL-T200#51], [[FL-T200#51, [FL-T200#51].Full Mass (unset)]]]]"
      ]
     },
     "execution_count": 62,
     "metadata": {},
     "output_type": "execute_result"
    }
   ],
   "source": [
    "sequence_dot_operator(generator.feature_instance_dicts[0]['000f78ae-e890-4f81-847c-f9bf976abe1b'],\n",
    "                     generator.attribute_dicts[0]['f912dc27-fc5e-48e8-abf7-29d3f47c913c'])"
   ]
  },
  {
   "cell_type": "code",
   "execution_count": null,
   "id": "stock-wagner",
   "metadata": {},
   "outputs": [],
   "source": []
  }
 ],
 "metadata": {
  "kernelspec": {
   "display_name": "pyMBE",
   "language": "python",
   "name": "pymbe"
  },
  "language_info": {
   "codemirror_mode": {
    "name": "ipython",
    "version": 3
   },
   "file_extension": ".py",
   "mimetype": "text/x-python",
   "name": "python",
   "nbconvert_exporter": "python",
   "pygments_lexer": "ipython3",
   "version": "3.9.4"
  },
  "toc-autonumbering": false
 },
 "nbformat": 4,
 "nbformat_minor": 5
}
