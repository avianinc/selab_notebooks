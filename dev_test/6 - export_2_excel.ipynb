{
 "cells": [
  {
   "cell_type": "markdown",
   "id": "41535437-3eee-4ac7-919b-b77fbcec6cca",
   "metadata": {},
   "source": [
    "## Create an excel spreadsheet from a data frame "
   ]
  },
  {
   "cell_type": "code",
   "execution_count": 1,
   "id": "5dcc0f9f-0542-4faa-a2cc-1b34ed39bad1",
   "metadata": {},
   "outputs": [],
   "source": [
    "from sysml2 import sysmlv2 as m\n",
    "reqs = m.getReqs(\"requirments_A.sysml\")"
   ]
  },
  {
   "cell_type": "code",
   "execution_count": 2,
   "id": "b7dae267-dd74-471c-ac31-965ec1ddc4a6",
   "metadata": {},
   "outputs": [],
   "source": [
    "reqs.to_excel (r'export_dataframe.xlsx', sheet_name='First', index = False, header=True)"
   ]
  },
  {
   "cell_type": "markdown",
   "id": "69e65983-402a-4d06-a607-908b251439ba",
   "metadata": {},
   "source": [
    "## Create a spredsheet from scratch write to it and then read the data back..."
   ]
  },
  {
   "cell_type": "code",
   "execution_count": 16,
   "id": "3cfc90ac-a202-4158-96e3-07eca54f2c71",
   "metadata": {},
   "outputs": [
    {
     "name": "stdout",
     "output_type": "stream",
     "text": [
      "Test!!!\n"
     ]
    }
   ],
   "source": [
    "from openpyxl import Workbook\n",
    "wb = Workbook()\n",
    "\n",
    "# grab the active worksheet\n",
    "ws = wb.active\n",
    "\n",
    "# Data can be assigned directly to cells\n",
    "ws['A1'] = 42\n",
    "\n",
    "# Rows can also be appended\n",
    "ws.append([1, 2, 3, 4])\n",
    "ws.append([1, 2, 3, 4, \"Test!!!\"])\n",
    "\n",
    "# Python types will automatically be converted\n",
    "import datetime\n",
    "ws['A2'] = datetime.datetime.now()\n",
    "\n",
    "# Save the file\n",
    "wb.save(\"sample.xlsx\")\n",
    "\n",
    "# read cell 'E3' from the workbook named 'Sheet'\n",
    "\n",
    "sheet = wb['Sheet']\n",
    "dat = sheet['E3'].value\n",
    "print(dat)"
   ]
  },
  {
   "cell_type": "markdown",
   "id": "e59b8d34-3ea3-4439-94d0-f5b1386fc389",
   "metadata": {},
   "source": [
    "https://openpyxl.readthedocs.io/en/stable/usage.html"
   ]
  }
 ],
 "metadata": {
  "kernelspec": {
   "display_name": "Python 3",
   "language": "python",
   "name": "python3"
  },
  "language_info": {
   "codemirror_mode": {
    "name": "ipython",
    "version": 3
   },
   "file_extension": ".py",
   "mimetype": "text/x-python",
   "name": "python",
   "nbconvert_exporter": "python",
   "pygments_lexer": "ipython3",
   "version": "3.9.0"
  }
 },
 "nbformat": 4,
 "nbformat_minor": 5
}
