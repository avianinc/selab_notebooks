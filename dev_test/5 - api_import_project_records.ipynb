{
 "cells": [
  {
   "cell_type": "markdown",
   "id": "9ea750d9-ff73-4f0e-8d68-3d2b92dbdea3",
   "metadata": {},
   "source": [
    "This will grab a list of models from the API"
   ]
  },
  {
   "cell_type": "code",
   "execution_count": 1,
   "id": "db41570b-d1a7-490d-b942-3cde1a0d87c9",
   "metadata": {},
   "outputs": [],
   "source": [
    "# grab the list of models from the API\n",
    "import json\n",
    "import requests\n",
    "from urllib.request import urlopen\n",
    "import operator\n",
    "\n",
    "# get list of projects\n",
    "site_URL = \"http://sysml2.intercax.com:9000/projects\"\n",
    "url = (site_URL)\n",
    "\n",
    "# store the response of URL\n",
    "response = requests.get(url)   \n",
    "\n",
    "# Convert bytes to string type and string type to dict\n",
    "model_dict = response.json()\n",
    "model_dict = { i : model_dict[i] for i in range(0, len(model_dict) ) }"
   ]
  },
  {
   "cell_type": "code",
   "execution_count": 14,
   "id": "02c52c1e-aa0a-4f80-bfdd-c1c618bd89bb",
   "metadata": {},
   "outputs": [],
   "source": [
    "# sort the dictionary\n",
    "model_dict_sorted = {key: val for key, val in sorted(model_dict.items(), key = lambda ele: ele[1]['name'])}"
   ]
  },
  {
   "cell_type": "code",
   "execution_count": 50,
   "id": "50e93960-414f-42e0-bf14-41af9617adad",
   "metadata": {},
   "outputs": [
    {
     "data": {
      "text/plain": [
       "['10b-Trade-off Among Alternative Configurations Wed May 26 15:49:16 EDT 2021',\n",
       " '10c-Fuel Economy Analysis Wed May 26 15:49:30 EDT 2021',\n",
       " '11a-View-Viewpoint Wed May 26 15:49:46 EDT 2021',\n",
       " '11b-Safety and Security Feature Views Wed May 26 15:50:01 EDT 2021',\n",
       " '12a-Dependency Wed May 26 15:50:12 EDT 2021',\n",
       " '12b-Allocation Wed May 26 15:50:19 EDT 2021',\n",
       " '13a-Model Containment Wed May 26 15:50:26 EDT 2021',\n",
       " '13b-Safety and Security Features Element Group Wed May 26 15:50:34 EDT 2021',\n",
       " '13b-Safety and Security Features Element Group-1 Wed May 26 15:50:42 EDT 2021',\n",
       " '13b-Safety and Security Features Element Group-2 Wed May 26 15:50:52 EDT 2021',\n",
       " '14b-Language Extensions Wed May 26 15:51:04 EDT 2021',\n",
       " '15_05-Unification of Expression and Constraint Definition Wed May 26 15:51:13 EDT 2021',\n",
       " '15_10-Primitive Data Types Wed May 26 15:51:25 EDT 2021',\n",
       " '15_19-Materials with Properties Wed May 26 15:51:37 EDT 2021',\n",
       " '1c-Parts Tree Redefinition Wed May 26 15:46:27 EDT 2021',\n",
       " '2a-Parts Interconnection Wed May 26 15:46:46 EDT 2021',\n",
       " '3a-Function-based Behavior-1 Wed May 26 15:47:02 EDT 2021',\n",
       " '3a-Function-based Behavior-2 Wed May 26 15:47:18 EDT 2021',\n",
       " '4a-Functional Allocation Wed May 26 15:47:29 EDT 2021',\n",
       " '5-State-based Behavior-1 Wed May 26 15:47:41 EDT 2021',\n",
       " '5-State-based Behavior-1a Wed May 26 15:47:58 EDT 2021',\n",
       " '6-Individual and Snapshots Wed May 26 15:48:13 EDT 2021',\n",
       " '7b-Variant Configurations Wed May 26 15:48:26 EDT 2021',\n",
       " '8-Requirements Wed May 26 15:48:46 EDT 2021',\n",
       " '9-Verification-simplified Wed May 26 15:49:03 EDT 2021',\n",
       " 'API Test',\n",
       " 'AnalysisAnnotation Tue Jun 15 19:24:00 JST 2021',\n",
       " 'AnalysisAnnotation Tue Jun 15 19:26:28 JST 2021',\n",
       " 'BoltAll Tue Jun 01 10:14:23 CST 2021',\n",
       " 'BoltAll Tue Jun 01 10:32:09 CST 2021',\n",
       " 'BoltAll Tue Jun 01 10:36:32 CST 2021',\n",
       " 'BoltAll Tue Jun 01 17:46:43 CST 2021',\n",
       " 'BoltAll Wed Jun 02 08:14:28 CST 2021',\n",
       " 'Hogehoge Tue Jun 15 20:36:13 JST 2021',\n",
       " 'Package Example Fri May 28 09:32:21 CST 2021',\n",
       " 'Requirement Definitions Fri May 28 15:15:27 CST 2021',\n",
       " 'eVehicle_LogicalArchitecture_v1 Fri May 28 14:11:58 UTC 2021',\n",
       " 'eVehicle_LogicalArchitecture_v1 Fri May 28 14:13:50 UTC 2021',\n",
       " 'hpdekoning_IPC_Example Tue Jun 15 21:39:10 CEST 2021',\n",
       " 'jdehart_ModelExample_A Fri Jun 04 11:12:17 UTC 2021',\n",
       " 'jdehart_demo Tue Jun 22 16:24:27 UTC 2021',\n",
       " 'jdehart_partsModel Sun Jun 06 21:14:19 UTC 2021',\n",
       " 'jdehart_sdp Sun Jun 06 21:33:29 UTC 2021',\n",
       " 'jdehart_sdp_A Sun Jun 06 22:59:53 UTC 2021',\n",
       " 'jdehart_sdp_A Tue Jun 08 00:29:22 UTC 2021',\n",
       " 'string1',\n",
       " 'test']"
      ]
     },
     "execution_count": 50,
     "metadata": {},
     "output_type": "execute_result"
    }
   ],
   "source": [
    "model_names = []\n",
    "for key, value in enumerate(model_dict_sorted):\n",
    "    model_names.append(model_dict_sorted[value]['name'])"
   ]
  },
  {
   "cell_type": "code",
   "execution_count": 51,
   "id": "5660bd7c-dbd5-467f-9866-d106cc873589",
   "metadata": {},
   "outputs": [
    {
     "data": {
      "application/vnd.jupyter.widget-view+json": {
       "model_id": "e375cb2cf5ad44f4821a90d69c0dfc0e",
       "version_major": 2,
       "version_minor": 0
      },
      "text/plain": [
       "Dropdown(description='Select Project:', options=('10b-Trade-off Among Alternative Configurations Wed May 26 15…"
      ]
     },
     "metadata": {},
     "output_type": "display_data"
    }
   ],
   "source": [
    "from IPython.display import display\n",
    "from ipywidgets import Dropdown\n",
    "\n",
    "def dropdown_eventhandler(change):\n",
    "    print(change.new)\n",
    "\n",
    "option_list = model_names\n",
    "dropdown = Dropdown(description=\"Select Project:\", options=option_list)\n",
    "dropdown.observe(dropdown_eventhandler, names='value')\n",
    "display(dropdown)"
   ]
  },
  {
   "cell_type": "code",
   "execution_count": null,
   "id": "b2731bca-ff66-43f8-9ac9-f8fc757adae3",
   "metadata": {},
   "outputs": [],
   "source": [
    "proj = [my_proj for my_proj in project_api_instance.get_projects() if my_proj.name.find('jdehart') > -1][0]\n",
    "proj"
   ]
  }
 ],
 "metadata": {
  "kernelspec": {
   "display_name": "Python 3",
   "language": "python",
   "name": "python3"
  },
  "language_info": {
   "codemirror_mode": {
    "name": "ipython",
    "version": 3
   },
   "file_extension": ".py",
   "mimetype": "text/x-python",
   "name": "python",
   "nbconvert_exporter": "python",
   "pygments_lexer": "ipython3",
   "version": "3.9.0"
  }
 },
 "nbformat": 4,
 "nbformat_minor": 5
}
