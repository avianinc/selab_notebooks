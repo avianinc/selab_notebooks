{
 "cells": [
  {
   "cell_type": "code",
   "execution_count": 8,
   "id": "bd074b7f-81d0-4e36-8ecc-cd26f2147b7e",
   "metadata": {
    "kernel": "SysML",
    "tags": []
   },
   "outputs": [
    {
     "name": "stdout",
     "output_type": "stream",
     "text": [
      "WARNING:Duplicate of inherited member name (7.sysml line : 4 column : 23)\n"
     ]
    },
    {
     "data": {
      "text/plain": [
       "Package jdehart_SimplePartsModel (10eb025a-f3da-4140-a0e8-80a33be8b734)\n"
      ]
     },
     "execution_count": 8,
     "metadata": {},
     "output_type": "execute_result"
    }
   ],
   "source": [
    "package 'jdehart_SimplePartsModel' {\n",
    "    package 'Fake Library' {\n",
    "        part def Part;\n",
    "        port def Port;\n",
    "        connection def Connection;\n",
    "    }\n",
    "\n",
    "    part 'Power Group' : 'Fake Library'::Part {\n",
    "        part 'Power Source' : 'Fake Library'::Part {\n",
    "            port 'Power Out' : 'Fake Library'::Port;\n",
    "        }\n",
    "        part 'Power User' : 'Fake Library'::Part {\n",
    "            port 'Power In' : 'Fake Library'::Port;\n",
    "        }\n",
    "\n",
    "        connection powerToUser : 'Fake Library'::Connection connect 'Power Source'::'Power Out' to 'Power User'::'Power In';\n",
    "    }\n",
    "\n",
    "}"
   ]
  },
  {
   "cell_type": "code",
   "execution_count": 9,
   "id": "f0b49c5e-87b3-4bd1-b601-9558b6ab0ba4",
   "metadata": {
    "kernel": "SysML",
    "tags": []
   },
   "outputs": [
    {
     "data": {
      "image/svg+xml": [
       "<?xml version=\"1.0\" encoding=\"UTF-8\" standalone=\"no\"?><svg xmlns=\"http://www.w3.org/2000/svg\" xmlns:xlink=\"http://www.w3.org/1999/xlink\" contentScriptType=\"application/ecmascript\" contentStyleType=\"text/css\" height=\"381px\" preserveAspectRatio=\"none\" style=\"width:430px;height:381px;\" version=\"1.1\" viewBox=\"0 0 430 381\" width=\"430px\" zoomAndPan=\"magnify\"><defs/><g><!--MD5=[fbc87193dbaf4d95561dea2c320d4a47]\n",
       "cluster E1--><a href=\"psysml:7ab337d1-8c6b-4469-a02d-f9e687aa6c12\" target=\"_top\" title=\"psysml:7ab337d1-8c6b-4469-a02d-f9e687aa6c12\" xlink:actuate=\"onRequest\" xlink:href=\"psysml:7ab337d1-8c6b-4469-a02d-f9e687aa6c12\" xlink:show=\"new\" xlink:title=\"psysml:7ab337d1-8c6b-4469-a02d-f9e687aa6c12\" xlink:type=\"simple\"><polygon fill=\"#FFFFFF\" points=\"16,6,225,6,232,28.2969,408,28.2969,408,369,16,369,16,6\" style=\"stroke: #000000; stroke-width: 1.5;\"/><line style=\"stroke: #000000; stroke-width: 1.5;\" x1=\"16\" x2=\"232\" y1=\"28.2969\" y2=\"28.2969\"/><text fill=\"#000000\" font-family=\"sans-serif\" font-size=\"14\" font-weight=\"bold\" lengthAdjust=\"spacingAndGlyphs\" textLength=\"203\" x=\"20\" y=\"20.9951\">jdehart_SimplePartsModel</text></a><!--MD5=[e4f7fae6ed58524ba242bb0b0d3be6b7]\n",
       "cluster E2--><a href=\"psysml:402e6ce9-c7bf-4e9b-8f6a-50644c84b36b\" target=\"_top\" title=\"psysml:402e6ce9-c7bf-4e9b-8f6a-50644c84b36b\" xlink:actuate=\"onRequest\" xlink:href=\"psysml:402e6ce9-c7bf-4e9b-8f6a-50644c84b36b\" xlink:show=\"new\" xlink:title=\"psysml:402e6ce9-c7bf-4e9b-8f6a-50644c84b36b\" xlink:type=\"simple\"><polygon fill=\"#FFFFFF\" points=\"40,248,143,248,150,270.2969,384,270.2969,384,345,40,345,40,248\" style=\"stroke: #000000; stroke-width: 1.5;\"/><line style=\"stroke: #000000; stroke-width: 1.5;\" x1=\"40\" x2=\"150\" y1=\"270.2969\" y2=\"270.2969\"/><text fill=\"#000000\" font-family=\"sans-serif\" font-size=\"14\" font-weight=\"bold\" lengthAdjust=\"spacingAndGlyphs\" textLength=\"97\" x=\"44\" y=\"262.9951\">Fake Library</text></a><!--MD5=[60a26617385b1d2d0262a64233df1f8d]\n",
       "class E6--><a href=\"psysml:39402bd4-72c2-4d30-bfaf-acf0e59aae4d\" target=\"_top\" title=\"psysml:39402bd4-72c2-4d30-bfaf-acf0e59aae4d\" xlink:actuate=\"onRequest\" xlink:href=\"psysml:39402bd4-72c2-4d30-bfaf-acf0e59aae4d\" xlink:show=\"new\" xlink:title=\"psysml:39402bd4-72c2-4d30-bfaf-acf0e59aae4d\" xlink:type=\"simple\"><rect fill=\"#FFFFFF\" height=\"45.9375\" id=\"E6\" rx=\"10\" ry=\"10\" style=\"stroke: #383838; stroke-width: 1.5;\" width=\"120\" x=\"239\" y=\"41\"/><text fill=\"#000000\" font-family=\"sans-serif\" font-size=\"12\" font-style=\"italic\" lengthAdjust=\"spacingAndGlyphs\" textLength=\"40\" x=\"279\" y=\"57.1387\">«part»</text><text fill=\"#000000\" font-family=\"sans-serif\" font-size=\"12\" lengthAdjust=\"spacingAndGlyphs\" textLength=\"114\" x=\"242\" y=\"71.1074\">Power Group: Part</text><line style=\"stroke: #383838; stroke-width: 1.5;\" x1=\"240\" x2=\"358\" y1=\"78.9375\" y2=\"78.9375\"/></a><!--MD5=[2156ba9850f5573cc1fc38a6a4b2f02b]\n",
       "class E7--><a href=\"psysml:0f9f718d-2a7e-4055-a869-32a78da8c5ae\" target=\"_top\" title=\"psysml:0f9f718d-2a7e-4055-a869-32a78da8c5ae\" xlink:actuate=\"onRequest\" xlink:href=\"psysml:0f9f718d-2a7e-4055-a869-32a78da8c5ae\" xlink:show=\"new\" xlink:title=\"psysml:0f9f718d-2a7e-4055-a869-32a78da8c5ae\" xlink:type=\"simple\"><rect fill=\"#FFFFFF\" height=\"75.5469\" id=\"E7\" rx=\"10\" ry=\"10\" style=\"stroke: #383838; stroke-width: 1.5;\" width=\"126\" x=\"82\" y=\"147\"/><text fill=\"#000000\" font-family=\"sans-serif\" font-size=\"12\" font-style=\"italic\" lengthAdjust=\"spacingAndGlyphs\" textLength=\"40\" x=\"125\" y=\"163.1387\">«part»</text><text fill=\"#000000\" font-family=\"sans-serif\" font-size=\"12\" lengthAdjust=\"spacingAndGlyphs\" textLength=\"120\" x=\"85\" y=\"177.1074\">Power Source: Part</text><line style=\"stroke: #383838; stroke-width: 1.5;\" x1=\"83\" x2=\"207\" y1=\"184.9375\" y2=\"184.9375\"/><text fill=\"#000000\" font-family=\"sans-serif\" font-size=\"11\" lengthAdjust=\"spacingAndGlyphs\" textLength=\"90\" x=\"88\" y=\"215.9526\">Power Out: Port</text><line style=\"stroke: #383838; stroke-width: 1.0;\" x1=\"83\" x2=\"130\" y1=\"199.3398\" y2=\"199.3398\"/><text fill=\"#000000\" font-family=\"sans-serif\" font-size=\"11\" lengthAdjust=\"spacingAndGlyphs\" textLength=\"30\" x=\"130\" y=\"202.6479\">ports</text><line style=\"stroke: #383838; stroke-width: 1.0;\" x1=\"160\" x2=\"207\" y1=\"199.3398\" y2=\"199.3398\"/></a><!--MD5=[fd4143e9d270a159db93a4ea2a975926]\n",
       "class E9--><a href=\"psysml:3c5886f9-efa3-4189-a7d2-3914c9b997ed\" target=\"_top\" title=\"psysml:3c5886f9-efa3-4189-a7d2-3914c9b997ed\" xlink:actuate=\"onRequest\" xlink:href=\"psysml:3c5886f9-efa3-4189-a7d2-3914c9b997ed\" xlink:show=\"new\" xlink:title=\"psysml:3c5886f9-efa3-4189-a7d2-3914c9b997ed\" xlink:type=\"simple\"><rect fill=\"#FFFFFF\" height=\"75.5469\" id=\"E9\" rx=\"10\" ry=\"10\" style=\"stroke: #383838; stroke-width: 1.5;\" width=\"111\" x=\"243.5\" y=\"147\"/><text fill=\"#000000\" font-family=\"sans-serif\" font-size=\"12\" font-style=\"italic\" lengthAdjust=\"spacingAndGlyphs\" textLength=\"40\" x=\"279\" y=\"163.1387\">«part»</text><text fill=\"#000000\" font-family=\"sans-serif\" font-size=\"12\" lengthAdjust=\"spacingAndGlyphs\" textLength=\"105\" x=\"246.5\" y=\"177.1074\">Power User: Part</text><line style=\"stroke: #383838; stroke-width: 1.5;\" x1=\"244.5\" x2=\"353.5\" y1=\"184.9375\" y2=\"184.9375\"/><text fill=\"#000000\" font-family=\"sans-serif\" font-size=\"11\" lengthAdjust=\"spacingAndGlyphs\" textLength=\"80\" x=\"249.5\" y=\"215.9526\">Power In: Port</text><line style=\"stroke: #383838; stroke-width: 1.0;\" x1=\"244.5\" x2=\"284\" y1=\"199.3398\" y2=\"199.3398\"/><text fill=\"#000000\" font-family=\"sans-serif\" font-size=\"11\" lengthAdjust=\"spacingAndGlyphs\" textLength=\"30\" x=\"284\" y=\"202.6479\">ports</text><line style=\"stroke: #383838; stroke-width: 1.0;\" x1=\"314\" x2=\"353.5\" y1=\"199.3398\" y2=\"199.3398\"/></a><!--MD5=[09b614a08d8cba4a07c9adeb5e0fee81]\n",
       "class E3--><a href=\"psysml:acd53c1f-9a7b-44be-8c56-c08b4cbdd20c\" target=\"_top\" title=\"psysml:acd53c1f-9a7b-44be-8c56-c08b4cbdd20c\" xlink:actuate=\"onRequest\" xlink:href=\"psysml:acd53c1f-9a7b-44be-8c56-c08b4cbdd20c\" xlink:show=\"new\" xlink:title=\"psysml:acd53c1f-9a7b-44be-8c56-c08b4cbdd20c\" xlink:type=\"simple\"><rect fill=\"#FFFFFF\" height=\"45.9375\" id=\"E3\" style=\"stroke: #383838; stroke-width: 1.5;\" width=\"66\" x=\"302\" y=\"283\"/><text fill=\"#000000\" font-family=\"sans-serif\" font-size=\"12\" font-style=\"italic\" lengthAdjust=\"spacingAndGlyphs\" textLength=\"64\" x=\"303\" y=\"299.1387\">«part def»</text><text fill=\"#000000\" font-family=\"sans-serif\" font-size=\"12\" lengthAdjust=\"spacingAndGlyphs\" textLength=\"26\" x=\"322\" y=\"313.1074\">Part</text><line style=\"stroke: #383838; stroke-width: 1.5;\" x1=\"303\" x2=\"367\" y1=\"320.9375\" y2=\"320.9375\"/></a><!--MD5=[ebbe1d658d1005bcc118a6aa81145e00]\n",
       "class E4--><a href=\"psysml:a9f9f656-3e1c-4353-92c9-260c0ebc51ee\" target=\"_top\" title=\"psysml:a9f9f656-3e1c-4353-92c9-260c0ebc51ee\" xlink:actuate=\"onRequest\" xlink:href=\"psysml:a9f9f656-3e1c-4353-92c9-260c0ebc51ee\" xlink:show=\"new\" xlink:title=\"psysml:a9f9f656-3e1c-4353-92c9-260c0ebc51ee\" xlink:type=\"simple\"><rect fill=\"#FFFFFF\" height=\"45.9375\" id=\"E4\" style=\"stroke: #383838; stroke-width: 1.5;\" width=\"66\" x=\"201\" y=\"283\"/><text fill=\"#000000\" font-family=\"sans-serif\" font-size=\"12\" font-style=\"italic\" lengthAdjust=\"spacingAndGlyphs\" textLength=\"64\" x=\"202\" y=\"299.1387\">«port def»</text><text fill=\"#000000\" font-family=\"sans-serif\" font-size=\"12\" lengthAdjust=\"spacingAndGlyphs\" textLength=\"26\" x=\"221\" y=\"313.1074\">Port</text><line style=\"stroke: #383838; stroke-width: 1.5;\" x1=\"202\" x2=\"266\" y1=\"320.9375\" y2=\"320.9375\"/></a><!--MD5=[270fce915f116d4de14055a7c1d9a0f3]\n",
       "class E5--><a href=\"psysml:62b138d9-44ee-4d3a-8b67-13a506762105\" target=\"_top\" title=\"psysml:62b138d9-44ee-4d3a-8b67-13a506762105\" xlink:actuate=\"onRequest\" xlink:href=\"psysml:62b138d9-44ee-4d3a-8b67-13a506762105\" xlink:show=\"new\" xlink:title=\"psysml:62b138d9-44ee-4d3a-8b67-13a506762105\" xlink:type=\"simple\"><rect fill=\"#FFFFFF\" height=\"45.9375\" id=\"E5\" style=\"stroke: #383838; stroke-width: 1.5;\" width=\"110\" x=\"56\" y=\"283\"/><text fill=\"#000000\" font-family=\"sans-serif\" font-size=\"12\" font-style=\"italic\" lengthAdjust=\"spacingAndGlyphs\" textLength=\"108\" x=\"57\" y=\"299.1387\">«connection def»</text><text fill=\"#000000\" font-family=\"sans-serif\" font-size=\"12\" lengthAdjust=\"spacingAndGlyphs\" textLength=\"71\" x=\"75.5\" y=\"313.1074\">Connection</text><line style=\"stroke: #383838; stroke-width: 1.5;\" x1=\"57\" x2=\"165\" y1=\"320.9375\" y2=\"320.9375\"/></a><!--MD5=[a717450b82c80b9240a525fa862496af]\n",
       "link E6 to E3--><a href=\"psysml:e4667bee-86db-43b4-ae1c-37488757a1ae\" target=\"_top\" title=\"psysml:e4667bee-86db-43b4-ae1c-37488757a1ae\" xlink:actuate=\"onRequest\" xlink:href=\"psysml:e4667bee-86db-43b4-ae1c-37488757a1ae\" xlink:show=\"new\" xlink:title=\"psysml:e4667bee-86db-43b4-ae1c-37488757a1ae\" xlink:type=\"simple\"><path d=\"M327.12,87.19 C343.63,102.1 362.98,123.31 372,147 C386.77,185.81 372.27,232.31 357.3,264.78 \" fill=\"none\" id=\"E6-&gt;E3\" style=\"stroke: #383838; stroke-width: 1.0;\"/><polygon fill=\"#FFFFFF\" points=\"348.18,282.99,350.4289,262.8668,362.9469,269.1358,348.18,282.99\" style=\"stroke: #383838; stroke-width: 1.0;\"/><ellipse cx=\"354.7696\" cy=\"258.6658\" fill=\"#383838\" rx=\"2\" ry=\"2\" style=\"stroke: #383838; stroke-width: 1.0;\"/><ellipse cx=\"363.711\" cy=\"263.1436\" fill=\"#383838\" rx=\"2\" ry=\"2\" style=\"stroke: #383838; stroke-width: 1.0;\"/></a><!--MD5=[3f50a3473f1dfb74d3f76443e03635af]\n",
       "reverse link E6 to E7--><a href=\"psysml:d2c085c3-a22b-477a-a209-244b6fdf3e80\" target=\"_top\" title=\"psysml:d2c085c3-a22b-477a-a209-244b6fdf3e80\" xlink:actuate=\"onRequest\" xlink:href=\"psysml:d2c085c3-a22b-477a-a209-244b6fdf3e80\" xlink:show=\"new\" xlink:title=\"psysml:d2c085c3-a22b-477a-a209-244b6fdf3e80\" xlink:type=\"simple\"><path d=\"M259.95,95.18 C239.63,110.87 214.62,130.2 193.12,146.81 \" fill=\"none\" id=\"E6&lt;-E7\" style=\"stroke: #383838; stroke-width: 1.0;\"/><polygon fill=\"#383838\" points=\"270.39,87.1,263.1963,87.6013,260.8923,94.4344,268.0859,93.9331,270.39,87.1\" style=\"stroke: #383838; stroke-width: 1.0;\"/></a><!--MD5=[14ccda38c055a5c0da953d572bc50960]\n",
       "link E7 to E3--><a href=\"psysml:1a0b87c4-8dc1-4e21-9042-6865161ee28c\" target=\"_top\" title=\"psysml:1a0b87c4-8dc1-4e21-9042-6865161ee28c\" xlink:actuate=\"onRequest\" xlink:href=\"psysml:1a0b87c4-8dc1-4e21-9042-6865161ee28c\" xlink:show=\"new\" xlink:title=\"psysml:1a0b87c4-8dc1-4e21-9042-6865161ee28c\" xlink:type=\"simple\"><path d=\"M208.3,215.99 C214.24,218.47 220.2,220.85 226,223 C251.59,232.47 262.44,224.64 285,240 C295.13,246.9 304.1,256.5 311.54,266.22 \" fill=\"none\" id=\"E7-&gt;E3\" style=\"stroke: #383838; stroke-width: 1.0;\"/><polygon fill=\"#FFFFFF\" points=\"322.89,282.73,306.3602,271.0353,317.8986,263.1064,322.89,282.73\" style=\"stroke: #383838; stroke-width: 1.0;\"/><ellipse cx=\"304.7804\" cy=\"265.2048\" fill=\"#383838\" rx=\"2\" ry=\"2\" style=\"stroke: #383838; stroke-width: 1.0;\"/><ellipse cx=\"313.0221\" cy=\"259.5413\" fill=\"#383838\" rx=\"2\" ry=\"2\" style=\"stroke: #383838; stroke-width: 1.0;\"/></a><!--MD5=[e88d06e5a652d73a6b19930eefe025a8]\n",
       "reverse link E6 to E9--><a href=\"psysml:3f2cd68c-074d-4cbe-b35d-c1429bf7bd96\" target=\"_top\" title=\"psysml:3f2cd68c-074d-4cbe-b35d-c1429bf7bd96\" xlink:actuate=\"onRequest\" xlink:href=\"psysml:3f2cd68c-074d-4cbe-b35d-c1429bf7bd96\" xlink:show=\"new\" xlink:title=\"psysml:3f2cd68c-074d-4cbe-b35d-c1429bf7bd96\" xlink:type=\"simple\"><path d=\"M299,100.23 C299,114.82 299,131.76 299,146.58 \" fill=\"none\" id=\"E6&lt;-E9\" style=\"stroke: #383838; stroke-width: 1.0;\"/><polygon fill=\"#383838\" points=\"299,87.1,295,93.1,299,99.1,303,93.1,299,87.1\" style=\"stroke: #383838; stroke-width: 1.0;\"/></a><!--MD5=[92a97fc68b0cf8efbbf01f4f6b4ceef7]\n",
       "link E9 to E3--><a href=\"psysml:46e23efc-5cb2-42a2-b4c2-b5b664738851\" target=\"_top\" title=\"psysml:46e23efc-5cb2-42a2-b4c2-b5b664738851\" xlink:actuate=\"onRequest\" xlink:href=\"psysml:46e23efc-5cb2-42a2-b4c2-b5b664738851\" xlink:show=\"new\" xlink:title=\"psysml:46e23efc-5cb2-42a2-b4c2-b5b664738851\" xlink:type=\"simple\"><path d=\"M310.19,223 C314.09,235.9 318.5,250.44 322.5,263.67 \" fill=\"none\" id=\"E9-&gt;E3\" style=\"stroke: #383838; stroke-width: 1.0;\"/><polygon fill=\"#FFFFFF\" points=\"328.32,282.93,316.1224,266.7677,329.5237,262.7174,328.32,282.93\" style=\"stroke: #383838; stroke-width: 1.0;\"/><ellipse cx=\"316.3878\" cy=\"260.7329\" fill=\"#383838\" rx=\"2\" ry=\"2\" style=\"stroke: #383838; stroke-width: 1.0;\"/><ellipse cx=\"325.9601\" cy=\"257.8397\" fill=\"#383838\" rx=\"2\" ry=\"2\" style=\"stroke: #383838; stroke-width: 1.0;\"/></a><!--MD5=[a5de7491918aea6b978ab20537b2e76e]\n",
       "@startuml\r\n",
       "skinparam monochrome true\r\n",
       "skinparam classbackgroundcolor white\r\n",
       "skinparam shadowing false\r\n",
       "skinparam wrapWidth 300\r\n",
       "hide circle\r\n",
       "\r\n",
       "package \"jdehart_SimplePartsModel\" as E1  [[psysml:7ab337d1-8c6b-4469-a02d-f9e687aa6c12 ]]  {\r\n",
       "package \"Fake Library\" as E2  [[psysml:402e6ce9-c7bf-4e9b-8f6a-50644c84b36b ]]  {\r\n",
       "comp def \"Part\" as E3  <<(T,blue) part def>> [[psysml:acd53c1f-9a7b-44be-8c56-c08b4cbdd20c ]] {\r\n",
       "}\r\n",
       "comp def \"Port\" as E4  <<(T,blue) port def>> [[psysml:a9f9f656-3e1c-4353-92c9-260c0ebc51ee ]] {\r\n",
       "}\r\n",
       "comp def \"Connection\" as E5  <<(T,blue) connection def>> [[psysml:62b138d9-44ee-4d3a-8b67-13a506762105 ]] {\r\n",
       "}\r\n",
       "}\r\n",
       "comp usage \"Power Group: Part\" as E6  <<(T,blue) part>> [[psysml:39402bd4-72c2-4d30-bfaf-acf0e59aae4d ]] {\r\n",
       "}\r\n",
       "comp usage \"Power Source: Part\" as E7  <<(T,blue) part>> [[psysml:0f9f718d-2a7e-4055-a869-32a78da8c5ae ]] {\r\n",
       "- - ports - -\r\n",
       "Power Out: Port\r\n",
       "}\r\n",
       "comp usage \"Power User: Part\" as E9  <<(T,blue) part>> [[psysml:3c5886f9-efa3-4189-a7d2-3914c9b997ed ]] {\r\n",
       "- - ports - -\r\n",
       "Power In: Port\r\n",
       "}\r\n",
       "E6 - -:|> E3 [[psysml:e4667bee-86db-43b4-ae1c-37488757a1ae ]] \r\n",
       "E6 *- - E7 [[psysml:d2c085c3-a22b-477a-a209-244b6fdf3e80 ]] \r\n",
       "E7 - -:|> E3 [[psysml:1a0b87c4-8dc1-4e21-9042-6865161ee28c ]] \r\n",
       "E6 *- - E9 [[psysml:3f2cd68c-074d-4cbe-b35d-c1429bf7bd96 ]] \r\n",
       "E9 - -:|> E3 [[psysml:46e23efc-5cb2-42a2-b4c2-b5b664738851 ]] \r\n",
       "}\r\n",
       "@enduml\r\n",
       "\n",
       "PlantUML version 1.2020.13(Sat Jun 13 12:26:38 UTC 2020)\n",
       "(EPL source distribution)\n",
       "Java Runtime: OpenJDK Runtime Environment\n",
       "JVM: OpenJDK 64-Bit Server VM\n",
       "Default Encoding: UTF-8\n",
       "Language: en\n",
       "Country: null\n",
       "--></g></svg>"
      ]
     },
     "execution_count": 9,
     "metadata": {},
     "output_type": "execute_result"
    }
   ],
   "source": [
    "%viz \"jdehart_SimplePartsModel\""
   ]
  },
  {
   "cell_type": "code",
   "execution_count": 13,
   "id": "1f10ad36-4ac9-4112-aebb-8e53b3968cad",
   "metadata": {
    "kernel": "SysML",
    "tags": []
   },
   "outputs": [],
   "source": [
    "#%publish \"jdehart_SimplePartsModel\""
   ]
  },
  {
   "cell_type": "code",
   "execution_count": 54,
   "id": "889e7bb8-50e7-4a38-83fe-83ba1be48b36",
   "metadata": {
    "kernel": "pymbe",
    "tags": []
   },
   "outputs": [],
   "source": [
    "# from pymbe playbook explorer\n",
    "from pathlib import Path\n",
    "import networkx as nx\n",
    "\n",
    "import pymbe.api as pm\n",
    "\n",
    "from pymbe.client import SysML2Client\n",
    "from pymbe.graph.lpg import SysML2LabeledPropertyGraph\n",
    "from pymbe.interpretation.interp_playbooks import (\n",
    "    build_expression_sequence_templates,\n",
    "    build_sequence_templates,\n",
    "    random_generator_playbook,\n",
    ")\n",
    "from pymbe.interpretation.results import *\n",
    "from pymbe.label import get_label_for_id\n",
    "from pymbe.query.metamodel_navigator import feature_multiplicity\n",
    "from pymbe.query.query import (\n",
    "    roll_up_multiplicity,\n",
    "    roll_up_upper_multiplicity,\n",
    "    roll_up_multiplicity_for_type,\n",
    "    get_types_for_feature,\n",
    "    get_features_typed_by_type,\n",
    ")\n",
    "from pymbe.local.stablization import build_stable_id_lookups"
   ]
  },
  {
   "cell_type": "code",
   "execution_count": 55,
   "id": "7fc6b05d-e2f7-4f8a-aa54-c1fd8ad4ae52",
   "metadata": {
    "kernel": "pymbe"
   },
   "outputs": [],
   "source": [
    "helper_client = SysML2Client()\n",
    "\n",
    "simple_parts_file = Path(\"\") / \"model.json\"\n",
    "\n",
    "helper_client._load_from_file(simple_parts_file)"
   ]
  },
  {
   "cell_type": "code",
   "execution_count": 56,
   "id": "b904cf5f-2048-4dfe-b1ff-05a73e812b5b",
   "metadata": {
    "kernel": "pymbe"
   },
   "outputs": [],
   "source": [
    "lpg = SysML2LabeledPropertyGraph()\n",
    "lpg.model = helper_client.model\n",
    "shorten_pre_bake = {}"
   ]
  },
  {
   "cell_type": "code",
   "execution_count": 57,
   "id": "e1956206-7407-4ea5-bd87-407fd0d4d65d",
   "metadata": {
    "kernel": "pymbe"
   },
   "outputs": [
    {
     "name": "stdout",
     "output_type": "stream",
     "text": [
      "These edge types are not in the graph: {'ResultExpressionMembership', 'ParameterMembership'}.\n",
      "These edge types are not in the graph: {'ImpliedReferentFeed', 'ReturnParameterMembership', 'Redefinition', 'ImpliedPathArgumentFeedforward', 'ImpliedParameterFeedforward'}.\n"
     ]
    }
   ],
   "source": [
    "SIMPLE_MODEL = \"Model::jdehart_SimplePartsModel::\"\n",
    "PARTS_LIBRARY = \"Model::jdehart_SimplePartsModel::Fake Library::\"\n",
    "\n",
    "name_to_id_lookup = build_stable_id_lookups(lpg)[1]\n",
    "name_to_id_lookup\n",
    "\n",
    "connection_id = name_to_id_lookup[f\"{PARTS_LIBRARY}Connection <<ConnectionDefinition>>\"]\n",
    "power_source_id = name_to_id_lookup[f\"{SIMPLE_MODEL}Power Group: Part::Power Source: Part <<PartUsage>>\"]\n",
    "power_user_id = name_to_id_lookup[f\"{SIMPLE_MODEL}Power Group: Part::Power User: Part <<PartUsage>>\"]\n",
    "part_id = name_to_id_lookup[f\"{PARTS_LIBRARY}Part <<PartDefinition>>\"]\n",
    "power_in_id = name_to_id_lookup[f\"{SIMPLE_MODEL}Power Group: Part::Power User: Part::Power In: Port <<PortUsage>>\"]\n",
    "connect_use_id = name_to_id_lookup[f\"{SIMPLE_MODEL}Power Group: Part::powerToUser: Connection <<ConnectionUsage>>\"]\n",
    "power_group_id = name_to_id_lookup[f\"{SIMPLE_MODEL}Power Group: Part::powerToUser: Connection <<ConnectionUsage>>\"]"
   ]
  },
  {
   "cell_type": "code",
   "execution_count": 58,
   "id": "3618cf2d-1f40-4712-8f38-5cca8ec3acea",
   "metadata": {
    "kernel": "pymbe"
   },
   "outputs": [],
   "source": [
    "from pymbe.query.query import get_types_for_feature, get_features_typed_by_type, roll_up_multiplicity_for_type"
   ]
  },
  {
   "cell_type": "code",
   "execution_count": 59,
   "id": "73900142-ac29-477c-bdd5-6e031319cfe0",
   "metadata": {
    "kernel": "pymbe"
   },
   "outputs": [
    {
     "name": "stdout",
     "output_type": "stream",
     "text": [
      "These edge types are not in the graph: {'Superclassing'}.\n",
      "These node types are not in the graph: {'ReferenceUsage'}.\n",
      "These edge types are not in the graph: {'FeatureValue', 'ReturnParameterMembership', 'ParameterMembership'}.\n"
     ]
    }
   ],
   "source": [
    "m0_interpretation = random_generator_playbook(\n",
    "    lpg,\n",
    "    shorten_pre_bake,\n",
    ")"
   ]
  },
  {
   "cell_type": "code",
   "execution_count": 60,
   "id": "7ad06182-7b1d-4771-83e8-5b5e2f7f4e2e",
   "metadata": {
    "kernel": "pymbe"
   },
   "outputs": [
    {
     "name": "stdout",
     "output_type": "stream",
     "text": [
      "Connection, id = d589b69a-92b1-4179-973c-aea1dbd9e2a6, size = 1\n",
      "[Connection#0]\n",
      "Part, id = c7d26e2c-c288-4115-8e8a-cbf065134355, size = 3\n",
      "[Part#0]\n",
      "[Part#1]\n",
      "[Part#2]\n",
      "Port, id = 1c745816-847a-4e63-8a7f-3e7d336d0fe4, size = 2\n",
      "[Port#0]\n",
      "[Port#1]\n",
      "Power Group: Part, id = 1a75db52-3597-40d8-9879-67f76d0b1db9, size = 1\n",
      "[Part#0]\n",
      "Power Source: Part, id = f29848a9-ba29-479c-9f28-976387ee52ae, size = 1\n",
      "[Part#0, Part#1]\n",
      "Power Out: Port, id = 4f69a994-8460-470b-b886-5af81c8c24f6, size = 1\n",
      "[Part#0, Part#1, Port#0]\n",
      "powerToUser: Connection, id = 28399c55-100d-4f91-96f7-3c2be3a67dd7, size = 1\n",
      "[Part#0, Connection#0]\n",
      "Power User: Part, id = 0a2cca58-06b2-4f3e-b7f8-d69a7f48e4e0, size = 1\n",
      "[Part#0, Part#2]\n",
      "Power In: Port, id = bed6a577-00b9-4158-ab51-31d2a0c6474a, size = 1\n",
      "[Part#0, Part#2, Port#1]\n",
      "1ce96367-7138-4982-9d0f-47567d1c083c «Feature», id = 1ce96367-7138-4982-9d0f-47567d1c083c, size = 1\n",
      "[Part#0, Connection#0, Part#1, Port#0]\n",
      "f2d73272-377e-4dc4-b54b-e618873d0584 «Feature», id = f2d73272-377e-4dc4-b54b-e618873d0584, size = 1\n",
      "[Part#0, Connection#0, Part#2, Port#1]\n"
     ]
    }
   ],
   "source": [
    "for print_line in pprint_interpretation(m0_interpretation, lpg.model):\n",
    "    print(print_line)"
   ]
  },
  {
   "cell_type": "code",
   "execution_count": 61,
   "id": "451a634b-8148-4e27-88ce-929e05f98b81",
   "metadata": {
    "kernel": "pymbe"
   },
   "outputs": [
    {
     "name": "stdout",
     "output_type": "stream",
     "text": [
      "{Port#1: Part#2, Part#2: Part#0, Port#0: Part#1, Part#1: Part#0}\n"
     ]
    }
   ],
   "source": [
    "from pprint import pprint\n",
    "from collections import defaultdict\n",
    "\n",
    "\n",
    "connector_usagetypes = (\"ConnectionUsage\", \"SuccessionUsage\")\n",
    "elements = lpg.model.elements\n",
    "\n",
    "connectors, m1_connectors = [], []\n",
    "for id_, sequences in m0_interpretation.items():\n",
    "    element = elements[id_]\n",
    "    if element[\"@type\"] in connector_usagetypes:\n",
    "        connectors += [connector_usage for *_, connector_usage in sequences]\n",
    "        src, tgt = element[\"connectorEnd\"][:2]\n",
    "        src, tgt = src[\"@id\"], tgt[\"@id\"]\n",
    "        m1_connectors += [(element[\"@id\"], src, tgt)]\n",
    "\n",
    "to_parent = {}\n",
    "for id_, sequences in m0_interpretation.items():\n",
    "    element = elements[id_]\n",
    "    if element[\"@type\"] in (\"PartUsage\", \"PortUsage\"):\n",
    "        for sequence in sequences:\n",
    "            parent = sequence[0]\n",
    "            for child in sequence[1:]:\n",
    "                to_parent[child] = parent\n",
    "                parent = child\n",
    "    \n",
    "pprint(dict(to_parent))"
   ]
  },
  {
   "cell_type": "code",
   "execution_count": 62,
   "id": "5928bc76-1034-4c03-997f-cc13cc763c5d",
   "metadata": {
    "kernel": "pymbe"
   },
   "outputs": [
    {
     "data": {
      "text/plain": [
       "[((Part#0, Connection#0), Port#0, Port#1)]"
      ]
     },
     "execution_count": 62,
     "metadata": {},
     "output_type": "execute_result"
    }
   ],
   "source": [
    "m0_connectors = []\n",
    "for conn_usage, src, tgt in m1_connectors:\n",
    "    for m0_conn_usage in m0_interpretation[conn_usage._id]:\n",
    "        num_items = len(m0_conn_usage)\n",
    "        for m0_src in m0_interpretation[src._id]:\n",
    "            if m0_src[:num_items] == m0_conn_usage:\n",
    "                m0_src = m0_src[-1]\n",
    "                break\n",
    "        for m0_tgt in m0_interpretation[tgt._id]:\n",
    "            if m0_tgt[:num_items] == m0_conn_usage:\n",
    "                m0_tgt = m0_tgt[-1]\n",
    "                break\n",
    "        m0_connectors += [(tuple(m0_conn_usage), m0_src, m0_tgt)]\n",
    "m0_connectors"
   ]
  },
  {
   "cell_type": "code",
   "execution_count": 63,
   "id": "77518fba-dc1d-4591-8c58-ec3f7b9a041c",
   "metadata": {
    "kernel": "pymbe"
   },
   "outputs": [],
   "source": [
    "import ipywidgets as ipyw\n",
    "from pymbe.widget.diagram.parts import Part\n",
    "from pymbe.widget.diagram.part_diagram import PartDiagram\n",
    "from pymbe.widget.diagram.relationships import Relationship\n",
    "\n",
    "import ipyelk as IE\n",
    "\n",
    "from ipyelk.elements import Compartment, Edge, Label, Node, Port, NodeShape, NodeProperties\n",
    "from ipyelk.elements.shapes import Widget"
   ]
  },
  {
   "cell_type": "code",
   "execution_count": 64,
   "id": "2d858b18-2c4b-4c79-8038-4f3549e154f9",
   "metadata": {
    "kernel": "pymbe"
   },
   "outputs": [
    {
     "data": {
      "text/plain": [
       "[((Part#0, Connection#0), Port#0, Port#1)]"
      ]
     },
     "execution_count": 64,
     "metadata": {},
     "output_type": "execute_result"
    }
   ],
   "source": [
    "m0_connectors"
   ]
  },
  {
   "cell_type": "code",
   "execution_count": 65,
   "id": "2110fa67-3f40-4209-bdf0-7ab3402cb8eb",
   "metadata": {
    "kernel": "pymbe"
   },
   "outputs": [
    {
     "data": {
      "application/vnd.jupyter.widget-view+json": {
       "model_id": "16372945b5a749c8859d19e56c99d9b0",
       "version_major": 2,
       "version_minor": 0
      },
      "text/plain": [
       "Diagram(children=[HTML(value='<style></style>', layout=Layout(display='None')), SprottyViewer(hover=Hover(tee=…"
      ]
     },
     "metadata": {},
     "output_type": "display_data"
    }
   ],
   "source": [
    "diagram = IE.Diagram(layout={\"height\": \"100%\"})\n",
    "diagram"
   ]
  },
  {
   "cell_type": "code",
   "execution_count": 21,
   "id": "56eff3ea-6bb4-4f43-b92c-593764f74604",
   "metadata": {
    "kernel": "pymbe"
   },
   "outputs": [],
   "source": [
    "parts = {\n",
    "    instance: Node(\n",
    "        layoutOptions={\n",
    "            \"org.eclipse.elk.portLabels.placement\": \"INSIDE\",\n",
    "            \"org.eclipse.elk.nodeSize.constraints\": \"NODE_LABELS PORTS PORT_LABELS MINIMUM_SIZE\",\n",
    "            \"org.eclipse.elk.nodeLabels.placement\": \"H_CENTER V_CENTER\",\n",
    "        },\n",
    "        labels=[\n",
    "            Label(text=instance.name)\n",
    "            # for part in (instance.name.split(\"#\")[0], instance.name)\n",
    "        ],\n",
    "        # Leaving the commented out code for future reference\n",
    "#         properties=NodeProperties(shape=Widget(\n",
    "#             widget=ipyw.Text(),\n",
    "#             width=200,\n",
    "#             height=100,\n",
    "#         )),\n",
    "    )\n",
    "    for instance in set([*to_parent, *to_parent.values()])\n",
    "}"
   ]
  },
  {
   "cell_type": "code",
   "execution_count": 22,
   "id": "d8dd2889-87c8-4174-991f-5fc349b2822e",
   "metadata": {
    "kernel": "pymbe"
   },
   "outputs": [],
   "source": [
    "part_diagram = PartDiagram()\n",
    "\n",
    "compartments = {}\n",
    "ports = {}\n",
    "\n",
    "\n",
    "for instance, part in parts.items():\n",
    "    parent = parts.get(to_parent.get(instance, None), None)\n",
    "    if parent is None:\n",
    "        part_diagram.add_child(part)\n",
    "        continue\n",
    "    if instance.name.startswith(\"Port\"):\n",
    "        ports[instance] = parent.add_port(\n",
    "            Port(\n",
    "                labels=[Label(\n",
    "                    text=instance.name, #.split(\"#\")[-1],\n",
    "                )],\n",
    "                layoutOptions={\n",
    "                    \"org.eclipse.elk.port.borderOffset\": \"-15\"\n",
    "                },\n",
    "                height=15,\n",
    "                width=15,\n",
    "            )\n",
    "        )\n",
    "    else:\n",
    "        if not hasattr(parent, \"parts\"):\n",
    "            parent.parts = Node()\n",
    "        parent.parts.add_child(part)"
   ]
  },
  {
   "cell_type": "code",
   "execution_count": 23,
   "id": "7ddcac33-0ab7-4030-a206-99e50d8285bd",
   "metadata": {
    "kernel": "pymbe"
   },
   "outputs": [],
   "source": [
    "self_edges = []\n",
    "for connector, src, tgt in m0_connectors:\n",
    "    edge = parent.add_edge(source=ports[src], target=ports[tgt])\n",
    "    if ports[src].get_parent() == ports[tgt].get_parent():\n",
    "        self_edges.append(edge)"
   ]
  },
  {
   "cell_type": "code",
   "execution_count": 24,
   "id": "0b935fec-5a83-42c5-b734-03dd73af5d85",
   "metadata": {
    "kernel": "pymbe"
   },
   "outputs": [],
   "source": [
    "loader = IE.ElementLoader()\n",
    "diagram.source = loader.load(part_diagram)\n",
    "diagram.style = part_diagram.style\n",
    "diagram.view.symbols = part_diagram.symbols"
   ]
  },
  {
   "cell_type": "code",
   "execution_count": 25,
   "id": "d0156e96-e045-48c6-b0eb-0e42056e481a",
   "metadata": {
    "kernel": "pymbe"
   },
   "outputs": [
    {
     "data": {
      "text/plain": [
       "[]"
      ]
     },
     "execution_count": 25,
     "metadata": {},
     "output_type": "execute_result"
    }
   ],
   "source": [
    "[edge.id for edge in self_edges]"
   ]
  },
  {
   "cell_type": "code",
   "execution_count": 26,
   "id": "a81a3cb6-b756-4cd3-8f4b-e32e1297440e",
   "metadata": {
    "kernel": "pymbe"
   },
   "outputs": [
    {
     "data": {
      "text/plain": [
       "{}"
      ]
     },
     "execution_count": 26,
     "metadata": {},
     "output_type": "execute_result"
    }
   ],
   "source": [
    "val = diagram.pipe.pipes[0]\n",
    "val.errors"
   ]
  },
  {
   "cell_type": "code",
   "execution_count": null,
   "id": "d5c09c67-5170-4c39-875d-568d01e75076",
   "metadata": {
    "kernel": "pymbe"
   },
   "outputs": [],
   "source": []
  }
 ],
 "metadata": {
  "kernelspec": {
   "display_name": "SoS",
   "language": "sos",
   "name": "sos"
  },
  "language_info": {
   "codemirror_mode": "sos",
   "file_extension": ".sos",
   "mimetype": "text/x-sos",
   "name": "sos",
   "nbconvert_exporter": "sos_notebook.converter.SoS_Exporter",
   "pygments_lexer": "sos"
  },
  "sos": {
   "kernels": [
    [
     "SysML",
     "sysml",
     "sysml",
     "",
     "sysml"
    ],
    [
     "pymbe",
     "pymbe",
     "Python3",
     "#FFD91A",
     ""
    ]
   ],
   "version": "0.22.3"
  }
 },
 "nbformat": 4,
 "nbformat_minor": 5
}
