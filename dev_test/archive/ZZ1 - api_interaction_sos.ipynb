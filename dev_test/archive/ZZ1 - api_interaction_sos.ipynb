{
 "cells": [
  {
   "cell_type": "markdown",
   "id": "nutritional-hamilton",
   "metadata": {
    "kernel": "SoS"
   },
   "source": [
    "# Working with sysmlv2 models and the API\n",
    "\n",
    "## This is a notebook walks through a SysMLv2 create, publish, and interogate cycle when using the API <br> (partially based on the pyMBE kerbal example)"
   ]
  },
  {
   "cell_type": "markdown",
   "id": "016a1d62-3ce5-4749-9dcd-98046cd92119",
   "metadata": {
    "kernel": "SoS"
   },
   "source": [
    "## 1 - Lets make a simple sysmlv2 model and view the model diagram"
   ]
  },
  {
   "cell_type": "code",
   "execution_count": null,
   "id": "d2ec9614-34e5-424a-91b8-93f170b9c11a",
   "metadata": {
    "kernel": "SysML",
    "tags": []
   },
   "outputs": [],
   "source": [
    "package jdehart_api_demo {\n",
    "    import ScalarValues::*;\n",
    "    \n",
    "    part A {\n",
    "        attribute mass : Real = 30;\n",
    "    }\n",
    "    package internal {\n",
    "        part B {\n",
    "            part C;\n",
    "            part D;\n",
    "    }\n",
    "    }\n",
    "    \n",
    "}"
   ]
  },
  {
   "cell_type": "code",
   "execution_count": null,
   "id": "ef8e46a9-875a-4735-b1ac-1ed67a2f3171",
   "metadata": {
    "kernel": "SysML",
    "tags": []
   },
   "outputs": [],
   "source": [
    "%viz jdehart_api_demo"
   ]
  },
  {
   "cell_type": "markdown",
   "id": "6dce5e65-28d4-40ca-9e5f-3b38697ab407",
   "metadata": {
    "kernel": "SysML"
   },
   "source": [
    "## 2 - Now lets publish the model to the API"
   ]
  },
  {
   "cell_type": "code",
   "execution_count": null,
   "id": "a266c756-c59a-48e3-8433-7298819509ed",
   "metadata": {
    "kernel": "SysML"
   },
   "outputs": [],
   "source": [
    "%publish jdehart_api_demo"
   ]
  },
  {
   "cell_type": "markdown",
   "id": "1299bcef-89b6-48d7-9ced-0b4329a70c00",
   "metadata": {
    "kernel": "SysML"
   },
   "source": [
    "## 3 - Now lets fetch a list of models from the API and create a dropdown box to select a particular model from (Dont look at this stuff... it messy for a slide)"
   ]
  },
  {
   "cell_type": "code",
   "execution_count": null,
   "id": "recreational-commons",
   "metadata": {
    "kernel": "Python3",
    "tags": []
   },
   "outputs": [],
   "source": [
    "import requests\n",
    "import getpass\n",
    "import math\n",
    "\n",
    "from __future__ import print_function\n",
    "\n",
    "import time\n",
    "import sysml_v2_api_client\n",
    "from sysml_v2_api_client.rest import ApiException\n",
    "from pprint import pprint\n",
    "\n",
    "import json\n",
    "import networkx as NX\n",
    "import matplotlib.pyplot as plt\n",
    "\n",
    "import random\n",
    "import copy\n",
    "\n",
    "import pymbe.api as pm\n",
    "#from pymbe.model_loading import ModelingSession as Session\n",
    "#from pymbe.interpretation.interpretation import RandomGenerationStrategy as RGS"
   ]
  },
  {
   "cell_type": "code",
   "execution_count": null,
   "id": "turkish-argument",
   "metadata": {
    "kernel": "Python3",
    "tags": []
   },
   "outputs": [],
   "source": [
    "import pymbe.query as pmQuery"
   ]
  },
  {
   "cell_type": "markdown",
   "id": "differential-south",
   "metadata": {
    "kernel": "SoS"
   },
   "source": [
    "## 4 - Configure API Server Connection"
   ]
  },
  {
   "cell_type": "code",
   "execution_count": null,
   "id": "cognitive-vault",
   "metadata": {
    "kernel": "Python3",
    "tags": []
   },
   "outputs": [],
   "source": [
    "sysml_api_base_url = 'http://sysml2.intercax.com:9000' # http://sysml2-sst.intercax.com:9000"
   ]
  },
  {
   "cell_type": "markdown",
   "id": "unsigned-macintosh",
   "metadata": {
    "kernel": "SoS"
   },
   "source": [
    "Activate APIs - Connect the API classes to the server"
   ]
  },
  {
   "cell_type": "code",
   "execution_count": null,
   "id": "theoretical-musical",
   "metadata": {
    "kernel": "Python3",
    "tags": []
   },
   "outputs": [],
   "source": [
    "configuration = sysml_v2_api_client.Configuration(\n",
    "    host = sysml_api_base_url\n",
    ")\n",
    "\n",
    "projects_api_instance = None\n",
    "\n",
    "with sysml_v2_api_client.ApiClient(configuration) as api_client:\n",
    "    # Create an instance of the API class\n",
    "    project_api_instance = sysml_v2_api_client.ProjectApi(api_client)\n",
    "    \n",
    "commits_api_instance = None\n",
    "\n",
    "with sysml_v2_api_client.ApiClient(configuration) as api_client:\n",
    "    # Create an instance of the API class\n",
    "    commits_api_instance = sysml_v2_api_client.CommitApi(api_client)\n",
    "    \n",
    "elements_api_instance = None\n",
    "\n",
    "with sysml_v2_api_client.ApiClient(configuration) as api_client:\n",
    "    # Create an instance of the API class\n",
    "    elements_api_instance = sysml_v2_api_client.ElementApi(api_client)"
   ]
  },
  {
   "cell_type": "markdown",
   "id": "criminal-calgary",
   "metadata": {
    "kernel": "SoS"
   },
   "source": [
    "Pull down commits and elements catalogs - With the API handles, use the pre-built methods to get lists of commits and elements."
   ]
  },
  {
   "cell_type": "code",
   "execution_count": null,
   "id": "focal-bleeding",
   "metadata": {
    "kernel": "Python3",
    "tags": []
   },
   "outputs": [],
   "source": [
    "project_api_instance"
   ]
  },
  {
   "cell_type": "markdown",
   "id": "b5b69215-d1dd-4942-bb5e-138581a309ec",
   "metadata": {
    "kernel": "SoS"
   },
   "source": [
    "## 5  Now get a list of my projects from the API server"
   ]
  },
  {
   "cell_type": "code",
   "execution_count": null,
   "id": "similar-contents",
   "metadata": {
    "kernel": "Python3",
    "tags": []
   },
   "outputs": [],
   "source": [
    "q_string = \"jdehart\"\n",
    "my_projects = [my_proj for my_proj in project_api_instance.get_projects() if my_proj.name.find(q_string) > -1]\n",
    "my_projects"
   ]
  },
  {
   "cell_type": "markdown",
   "id": "74437244-4769-49b1-908c-267696ee06f3",
   "metadata": {
    "kernel": "Python3"
   },
   "source": [
    "## 6 - Create a dropdown box with my projects"
   ]
  },
  {
   "cell_type": "code",
   "execution_count": null,
   "id": "b184aa4a-e47d-4707-a9f6-3afa1995979c",
   "metadata": {
    "kernel": "Python3",
    "tags": []
   },
   "outputs": [],
   "source": [
    "# get the project names into a list\n",
    "model_names = []\n",
    "for key, value in enumerate(my_projects):\n",
    "    model_names.append(my_projects[key].name)\n",
    "model_names"
   ]
  },
  {
   "cell_type": "code",
   "execution_count": null,
   "id": "512cdfb1-5887-47f7-a4b7-fc51a8acb6c0",
   "metadata": {
    "kernel": "Python3",
    "tags": []
   },
   "outputs": [],
   "source": [
    "# create the dropdown box and populate with my project names\n",
    "from IPython.display import display\n",
    "from ipywidgets import Dropdown\n",
    "\n",
    "def dropdown_eventhandler(change):\n",
    "    global model_id\n",
    "    model_id = change.new\n",
    "\n",
    "option_list = model_names\n",
    "dropdown = Dropdown(description=\"Select Project:\", options=option_list)\n",
    "dropdown.observe(dropdown_eventhandler, names='index')\n",
    "display(dropdown)\n",
    "### pick the api dem @16:36"
   ]
  },
  {
   "cell_type": "code",
   "execution_count": null,
   "id": "alone-uncle",
   "metadata": {
    "kernel": "Python3",
    "tags": []
   },
   "outputs": [],
   "source": [
    "# get the last commit\n",
    "try:\n",
    "    # Get commits by project\n",
    "    commits_response = commits_api_instance.get_commits_by_project(my_projects[model_id].id)\n",
    "    pprint(commits_response)\n",
    "except ApiException as e:\n",
    "    print(\"Exception when calling CommitApi->get_commits_by_project: %s\\n\" % e)"
   ]
  },
  {
   "cell_type": "code",
   "execution_count": null,
   "id": "boolean-winner",
   "metadata": {
    "kernel": "Python3",
    "tags": []
   },
   "outputs": [],
   "source": [
    "# get a list of elements\n",
    "elements = []\n",
    "try:\n",
    "    # Get commits by project\n",
    "    elements = elements_api_instance.get_elements_by_project_commit(my_projects[model_id].id, commits_response[0].id)\n",
    "except ApiException as e:\n",
    "    print(\"Exception when calling ElementApi->get_elements_by_project_commit: %s\\n\" % e)"
   ]
  },
  {
   "cell_type": "code",
   "execution_count": null,
   "id": "instructional-forth",
   "metadata": {
    "kernel": "Python3",
    "tags": []
   },
   "outputs": [],
   "source": [
    "len(elements)"
   ]
  },
  {
   "cell_type": "code",
   "execution_count": null,
   "id": "increasing-cathedral",
   "metadata": {
    "kernel": "Python3",
    "tags": []
   },
   "outputs": [],
   "source": [
    "# here is an example of what we are working wiht as JSON file\n",
    "pprint(elements)"
   ]
  },
  {
   "cell_type": "markdown",
   "id": "interior-stone",
   "metadata": {
    "kernel": "SoS"
   },
   "source": [
    "With the elements known we can then get each elements data with an API call"
   ]
  },
  {
   "cell_type": "code",
   "execution_count": null,
   "id": "accessible-plymouth",
   "metadata": {
    "kernel": "Python3",
    "tags": []
   },
   "outputs": [],
   "source": [
    "elements_url = (sysml_api_base_url +\n",
    "                '/projects/{0}/commits/{1}/elements?page[size]=2000').format(my_projects[model_id].id, commits_response[0].id)"
   ]
  },
  {
   "cell_type": "code",
   "execution_count": null,
   "id": "reverse-action",
   "metadata": {
    "kernel": "Python3",
    "tags": []
   },
   "outputs": [],
   "source": [
    "elements_url"
   ]
  },
  {
   "cell_type": "code",
   "execution_count": null,
   "id": "partial-burner",
   "metadata": {
    "kernel": "Python3",
    "tags": []
   },
   "outputs": [],
   "source": [
    "elements_response = requests.get(\n",
    "    elements_url\n",
    ")"
   ]
  },
  {
   "cell_type": "code",
   "execution_count": null,
   "id": "portable-ghana",
   "metadata": {
    "kernel": "Python3",
    "tags": []
   },
   "outputs": [],
   "source": [
    "elements_data = elements_response.json()"
   ]
  },
  {
   "cell_type": "markdown",
   "id": "0ee48c25-eb30-4d2e-b25e-8e0c21af6b76",
   "metadata": {
    "kernel": "Python3"
   },
   "source": [
    "Now we can show the element data in a tree view"
   ]
  },
  {
   "cell_type": "code",
   "execution_count": null,
   "id": "aae43c23-43e2-4248-86b6-6227f1a0a06e",
   "metadata": {
    "kernel": "Python3",
    "tags": []
   },
   "outputs": [],
   "source": [
    "from IPython.display import JSON\n",
    "JSON(elements_data)"
   ]
  },
  {
   "cell_type": "markdown",
   "id": "edf01a56-7464-4538-9311-55597cad5502",
   "metadata": {
    "kernel": "Python3"
   },
   "source": [
    "Lets now  look at the elements in a table view"
   ]
  },
  {
   "cell_type": "code",
   "execution_count": null,
   "id": "c9e948fc-92bf-4845-8afa-032efb45dd32",
   "metadata": {
    "kernel": "Python3",
    "tags": []
   },
   "outputs": [],
   "source": [
    "import pandas as pd\n",
    "df = pd.DataFrame(elements_data)\n",
    "df"
   ]
  },
  {
   "cell_type": "markdown",
   "id": "c39a0683-1b92-4cb7-897a-c0597974d01c",
   "metadata": {
    "kernel": "Python3"
   },
   "source": [
    "Thats a big table... lets narrow it down a bit"
   ]
  },
  {
   "cell_type": "code",
   "execution_count": null,
   "id": "c5d514f0-5a8d-4d15-a461-5bb2dc312371",
   "metadata": {
    "kernel": "Python3",
    "tags": []
   },
   "outputs": [],
   "source": [
    "df[[\"@id\",\"@type\",\"name\",\"owningFeatureMembership\",\"owningRelatedElement\",\"result\"]]"
   ]
  },
  {
   "cell_type": "markdown",
   "id": "9820fde0-55f5-4e57-9ba9-e0de399b5079",
   "metadata": {
    "kernel": "SoS"
   },
   "source": [
    "Now I would love to change an attribute and push it back up.... but how :)"
   ]
  },
  {
   "cell_type": "code",
   "execution_count": null,
   "id": "cd5e6104-e8d7-4506-900c-061a70be6dd7",
   "metadata": {
    "kernel": "Python3"
   },
   "outputs": [],
   "source": []
  }
 ],
 "metadata": {
  "kernelspec": {
   "display_name": "SoS",
   "language": "sos",
   "name": "sos"
  },
  "language_info": {
   "codemirror_mode": "sos",
   "file_extension": ".sos",
   "mimetype": "text/x-sos",
   "name": "sos",
   "nbconvert_exporter": "sos_notebook.converter.SoS_Exporter",
   "pygments_lexer": "sos"
  },
  "sos": {
   "kernels": [
    [
     "Python3",
     "python3",
     "Python3",
     "#FFD91A",
     {
      "name": "ipython",
      "version": 3
     }
    ],
    [
     "SoS",
     "sos",
     "",
     "",
     "sos"
    ],
    [
     "SysML",
     "sysml",
     "sysml",
     "",
     "sysml"
    ]
   ],
   "version": "0.22.3"
  },
  "toc-autonumbering": false
 },
 "nbformat": 4,
 "nbformat_minor": 5
}
