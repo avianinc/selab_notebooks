{
 "cells": [
  {
   "cell_type": "code",
   "execution_count": 44,
   "id": "ff7f7751-e2e0-4d62-b4d0-4863604d1ab0",
   "metadata": {},
   "outputs": [
    {
     "data": {
      "text/plain": [
       "Package Vehicle Parts Tree (298bf0d4-bc60-412c-a80d-bc719ccc5482)\n",
       "Package Vehicle Action Tree (da8220ad-01af-4189-a0ab-202f55014471)\n"
      ]
     },
     "execution_count": 44,
     "metadata": {},
     "output_type": "execute_result"
    }
   ],
   "source": [
    "package 'Vehicle Parts Tree' {\n",
    "    import 'Vehicle Action Tree'::*;\n",
    "        \n",
    "    part vehicle {\n",
    "        attribute mass;\n",
    "        perform providePower;\n",
    "            part engine {\n",
    "                attribute mass;\n",
    "                perform providePower::generateTorque;\n",
    "                part cylinders [6];\n",
    "            }\n",
    "        part transmission {\n",
    "            attribute mass;\n",
    "            perform providePower::amplifyTorque;\n",
    "        }\n",
    "    }\n",
    "}\n",
    "\n",
    "package 'Vehicle Action Tree'{\n",
    "    action providePower {\n",
    "        action generateTorque;\n",
    "        action amplifyTorque;\n",
    "    }\n",
    "}\n",
    "\n"
   ]
  },
  {
   "cell_type": "code",
   "execution_count": 45,
   "id": "51e0aa09-fb51-4118-89ee-a5fb22c85b3c",
   "metadata": {},
   "outputs": [
    {
     "data": {
      "image/svg+xml": [
       "<?xml version=\"1.0\" encoding=\"UTF-8\" standalone=\"no\"?><svg xmlns=\"http://www.w3.org/2000/svg\" xmlns:xlink=\"http://www.w3.org/1999/xlink\" contentScriptType=\"application/ecmascript\" contentStyleType=\"text/css\" height=\"445px\" preserveAspectRatio=\"none\" style=\"width:304px;height:445px;\" version=\"1.1\" viewBox=\"0 0 304 445\" width=\"304px\" zoomAndPan=\"magnify\"><defs/><g><!--MD5=[fbc87193dbaf4d95561dea2c320d4a47]\n",
       "cluster E1--><a href=\"psysml:4ced99ad-fc43-4e7a-b554-eb070d25fd97\" target=\"_top\" title=\"psysml:4ced99ad-fc43-4e7a-b554-eb070d25fd97\" xlink:actuate=\"onRequest\" xlink:href=\"psysml:4ced99ad-fc43-4e7a-b554-eb070d25fd97\" xlink:show=\"new\" xlink:title=\"psysml:4ced99ad-fc43-4e7a-b554-eb070d25fd97\" xlink:type=\"simple\"><polygon fill=\"#FFFFFF\" points=\"16,6,168,6,175,28.2969,282,28.2969,282,433,16,433,16,6\" style=\"stroke: #000000; stroke-width: 1.5;\"/><line style=\"stroke: #000000; stroke-width: 1.5;\" x1=\"16\" x2=\"175\" y1=\"28.2969\" y2=\"28.2969\"/><text fill=\"#000000\" font-family=\"sans-serif\" font-size=\"14\" font-weight=\"bold\" lengthAdjust=\"spacingAndGlyphs\" textLength=\"146\" x=\"20\" y=\"20.9951\">Vehicle Parts Tree</text></a><!--MD5=[b4997ac47864f28c2f74865a473b2911]\n",
       "class E2--><a href=\"psysml:185a04ad-4f4a-4ea6-812a-8ee7263edcd4\" target=\"_top\" title=\"psysml:185a04ad-4f4a-4ea6-812a-8ee7263edcd4\" xlink:actuate=\"onRequest\" xlink:href=\"psysml:185a04ad-4f4a-4ea6-812a-8ee7263edcd4\" xlink:show=\"new\" xlink:title=\"psysml:185a04ad-4f4a-4ea6-812a-8ee7263edcd4\" xlink:type=\"simple\"><rect fill=\"#FFFFFF\" height=\"105.1563\" id=\"E2\" rx=\"10\" ry=\"10\" style=\"stroke: #383838; stroke-width: 1.5;\" width=\"95\" x=\"103.5\" y=\"41\"/><text fill=\"#000000\" font-family=\"sans-serif\" font-size=\"12\" font-style=\"italic\" lengthAdjust=\"spacingAndGlyphs\" textLength=\"40\" x=\"131\" y=\"57.1387\">«part»</text><text fill=\"#000000\" font-family=\"sans-serif\" font-size=\"12\" lengthAdjust=\"spacingAndGlyphs\" textLength=\"43\" x=\"129.5\" y=\"71.1074\">vehicle</text><line style=\"stroke: #383838; stroke-width: 1.5;\" x1=\"104.5\" x2=\"197.5\" y1=\"78.9375\" y2=\"78.9375\"/><text fill=\"#000000\" font-family=\"sans-serif\" font-size=\"11\" lengthAdjust=\"spacingAndGlyphs\" textLength=\"32\" x=\"109.5\" y=\"109.9526\">mass</text><line style=\"stroke: #383838; stroke-width: 1.0;\" x1=\"104.5\" x2=\"123.5\" y1=\"93.3398\" y2=\"93.3398\"/><text fill=\"#000000\" font-family=\"sans-serif\" font-size=\"11\" lengthAdjust=\"spacingAndGlyphs\" textLength=\"55\" x=\"123.5\" y=\"96.6479\">attributes</text><line style=\"stroke: #383838; stroke-width: 1.0;\" x1=\"178.5\" x2=\"197.5\" y1=\"93.3398\" y2=\"93.3398\"/><text fill=\"#000000\" font-family=\"sans-serif\" font-size=\"11\" lengthAdjust=\"spacingAndGlyphs\" textLength=\"77\" x=\"109.5\" y=\"139.562\">providePower</text><line style=\"stroke: #383838; stroke-width: 1.0;\" x1=\"104.5\" x2=\"107.5\" y1=\"122.9492\" y2=\"122.9492\"/><text fill=\"#000000\" font-family=\"sans-serif\" font-size=\"11\" lengthAdjust=\"spacingAndGlyphs\" textLength=\"87\" x=\"107.5\" y=\"126.2573\">performActions</text><line style=\"stroke: #383838; stroke-width: 1.0;\" x1=\"194.5\" x2=\"197.5\" y1=\"122.9492\" y2=\"122.9492\"/></a><!--MD5=[ebbe1d658d1005bcc118a6aa81145e00]\n",
       "class E4--><a href=\"psysml:1c6b4fe3-756c-44b0-8b7a-efb6595e7e17\" target=\"_top\" title=\"psysml:1c6b4fe3-756c-44b0-8b7a-efb6595e7e17\" xlink:actuate=\"onRequest\" xlink:href=\"psysml:1c6b4fe3-756c-44b0-8b7a-efb6595e7e17\" xlink:show=\"new\" xlink:title=\"psysml:1c6b4fe3-756c-44b0-8b7a-efb6595e7e17\" xlink:type=\"simple\"><rect fill=\"#FFFFFF\" height=\"105.1563\" id=\"E4\" rx=\"10\" ry=\"10\" style=\"stroke: #383838; stroke-width: 1.5;\" width=\"103\" x=\"32.5\" y=\"206\"/><text fill=\"#000000\" font-family=\"sans-serif\" font-size=\"12\" font-style=\"italic\" lengthAdjust=\"spacingAndGlyphs\" textLength=\"40\" x=\"64\" y=\"222.1387\">«part»</text><text fill=\"#000000\" font-family=\"sans-serif\" font-size=\"12\" lengthAdjust=\"spacingAndGlyphs\" textLength=\"43\" x=\"62.5\" y=\"236.1074\">engine</text><line style=\"stroke: #383838; stroke-width: 1.5;\" x1=\"33.5\" x2=\"134.5\" y1=\"243.9375\" y2=\"243.9375\"/><text fill=\"#000000\" font-family=\"sans-serif\" font-size=\"11\" lengthAdjust=\"spacingAndGlyphs\" textLength=\"32\" x=\"38.5\" y=\"274.9526\">mass</text><line style=\"stroke: #383838; stroke-width: 1.0;\" x1=\"33.5\" x2=\"56.5\" y1=\"258.3398\" y2=\"258.3398\"/><text fill=\"#000000\" font-family=\"sans-serif\" font-size=\"11\" lengthAdjust=\"spacingAndGlyphs\" textLength=\"55\" x=\"56.5\" y=\"261.6479\">attributes</text><line style=\"stroke: #383838; stroke-width: 1.0;\" x1=\"111.5\" x2=\"134.5\" y1=\"258.3398\" y2=\"258.3398\"/><text fill=\"#000000\" font-family=\"sans-serif\" font-size=\"11\" lengthAdjust=\"spacingAndGlyphs\" textLength=\"91\" x=\"38.5\" y=\"304.562\">generateTorque</text><line style=\"stroke: #383838; stroke-width: 1.0;\" x1=\"33.5\" x2=\"40.5\" y1=\"287.9492\" y2=\"287.9492\"/><text fill=\"#000000\" font-family=\"sans-serif\" font-size=\"11\" lengthAdjust=\"spacingAndGlyphs\" textLength=\"87\" x=\"40.5\" y=\"291.2573\">performActions</text><line style=\"stroke: #383838; stroke-width: 1.0;\" x1=\"127.5\" x2=\"134.5\" y1=\"287.9492\" y2=\"287.9492\"/></a><!--MD5=[60a26617385b1d2d0262a64233df1f8d]\n",
       "class E6--><a href=\"psysml:d4e2eb02-b083-4dea-b229-04c99d9f02b0\" target=\"_top\" title=\"psysml:d4e2eb02-b083-4dea-b229-04c99d9f02b0\" xlink:actuate=\"onRequest\" xlink:href=\"psysml:d4e2eb02-b083-4dea-b229-04c99d9f02b0\" xlink:show=\"new\" xlink:title=\"psysml:d4e2eb02-b083-4dea-b229-04c99d9f02b0\" xlink:type=\"simple\"><rect fill=\"#FFFFFF\" height=\"45.9375\" id=\"E6\" rx=\"10\" ry=\"10\" style=\"stroke: #383838; stroke-width: 1.5;\" width=\"61\" x=\"53.5\" y=\"371\"/><text fill=\"#000000\" font-family=\"sans-serif\" font-size=\"12\" font-style=\"italic\" lengthAdjust=\"spacingAndGlyphs\" textLength=\"40\" x=\"64\" y=\"387.1387\">«part»</text><text fill=\"#000000\" font-family=\"sans-serif\" font-size=\"12\" lengthAdjust=\"spacingAndGlyphs\" textLength=\"55\" x=\"56.5\" y=\"401.1074\">cylinders</text><line style=\"stroke: #383838; stroke-width: 1.5;\" x1=\"54.5\" x2=\"113.5\" y1=\"408.9375\" y2=\"408.9375\"/></a><!--MD5=[2156ba9850f5573cc1fc38a6a4b2f02b]\n",
       "class E7--><a href=\"psysml:2120b838-3ef7-41d6-8bbc-d59f518836c9\" target=\"_top\" title=\"psysml:2120b838-3ef7-41d6-8bbc-d59f518836c9\" xlink:actuate=\"onRequest\" xlink:href=\"psysml:2120b838-3ef7-41d6-8bbc-d59f518836c9\" xlink:show=\"new\" xlink:title=\"psysml:2120b838-3ef7-41d6-8bbc-d59f518836c9\" xlink:type=\"simple\"><rect fill=\"#FFFFFF\" height=\"105.1563\" id=\"E7\" rx=\"10\" ry=\"10\" style=\"stroke: #383838; stroke-width: 1.5;\" width=\"95\" x=\"170.5\" y=\"206\"/><text fill=\"#000000\" font-family=\"sans-serif\" font-size=\"12\" font-style=\"italic\" lengthAdjust=\"spacingAndGlyphs\" textLength=\"40\" x=\"198\" y=\"222.1387\">«part»</text><text fill=\"#000000\" font-family=\"sans-serif\" font-size=\"12\" lengthAdjust=\"spacingAndGlyphs\" textLength=\"80\" x=\"178\" y=\"236.1074\">transmission</text><line style=\"stroke: #383838; stroke-width: 1.5;\" x1=\"171.5\" x2=\"264.5\" y1=\"243.9375\" y2=\"243.9375\"/><text fill=\"#000000\" font-family=\"sans-serif\" font-size=\"11\" lengthAdjust=\"spacingAndGlyphs\" textLength=\"32\" x=\"176.5\" y=\"274.9526\">mass</text><line style=\"stroke: #383838; stroke-width: 1.0;\" x1=\"171.5\" x2=\"190.5\" y1=\"258.3398\" y2=\"258.3398\"/><text fill=\"#000000\" font-family=\"sans-serif\" font-size=\"11\" lengthAdjust=\"spacingAndGlyphs\" textLength=\"55\" x=\"190.5\" y=\"261.6479\">attributes</text><line style=\"stroke: #383838; stroke-width: 1.0;\" x1=\"245.5\" x2=\"264.5\" y1=\"258.3398\" y2=\"258.3398\"/><text fill=\"#000000\" font-family=\"sans-serif\" font-size=\"11\" lengthAdjust=\"spacingAndGlyphs\" textLength=\"81\" x=\"176.5\" y=\"304.562\">amplifyTorque</text><line style=\"stroke: #383838; stroke-width: 1.0;\" x1=\"171.5\" x2=\"174.5\" y1=\"287.9492\" y2=\"287.9492\"/><text fill=\"#000000\" font-family=\"sans-serif\" font-size=\"11\" lengthAdjust=\"spacingAndGlyphs\" textLength=\"87\" x=\"174.5\" y=\"291.2573\">performActions</text><line style=\"stroke: #383838; stroke-width: 1.0;\" x1=\"261.5\" x2=\"264.5\" y1=\"287.9492\" y2=\"287.9492\"/></a><!--MD5=[9618e71518536f8baf3342ff6fdab317]\n",
       "reverse link E2 to E4--><a href=\"psysml:db5bf2fa-6a7c-4885-adb0-1cf907166e7f\" target=\"_top\" title=\"psysml:db5bf2fa-6a7c-4885-adb0-1cf907166e7f\" xlink:actuate=\"onRequest\" xlink:href=\"psysml:db5bf2fa-6a7c-4885-adb0-1cf907166e7f\" xlink:show=\"new\" xlink:title=\"psysml:db5bf2fa-6a7c-4885-adb0-1cf907166e7f\" xlink:type=\"simple\"><path d=\"M124.71,158.47 C118.23,174.22 111.38,190.9 105.18,205.98 \" fill=\"none\" id=\"E2&lt;-E4\" style=\"stroke: #383838; stroke-width: 1.0;\"/><polygon fill=\"#383838\" points=\"129.8,146.07,123.8197,150.0994,125.239,157.1694,131.2193,153.1401,129.8,146.07\" style=\"stroke: #383838; stroke-width: 1.0;\"/></a><!--MD5=[6db378b65e1aef66a01cb3103812b399]\n",
       "reverse link E4 to E6--><a href=\"psysml:d261db08-6988-4c34-b06d-64165601541e\" target=\"_top\" title=\"psysml:d261db08-6988-4c34-b06d-64165601541e\" xlink:actuate=\"onRequest\" xlink:href=\"psysml:d261db08-6988-4c34-b06d-64165601541e\" xlink:show=\"new\" xlink:title=\"psysml:d261db08-6988-4c34-b06d-64165601541e\" xlink:type=\"simple\"><path d=\"M84,324.4 C84,341.11 84,357.97 84,370.8 \" fill=\"none\" id=\"E4&lt;-E6\" style=\"stroke: #383838; stroke-width: 1.0;\"/><polygon fill=\"#383838\" points=\"84,311.11,80,317.11,84,323.11,88,317.11,84,311.11\" style=\"stroke: #383838; stroke-width: 1.0;\"/><text fill=\"#000000\" font-family=\"sans-serif\" font-size=\"13\" lengthAdjust=\"spacingAndGlyphs\" textLength=\"8\" x=\"74.975\" y=\"360.025\">6</text></a><!--MD5=[1c72b32696d764168c30777981ec3f66]\n",
       "reverse link E2 to E7--><a href=\"psysml:db055619-95d7-4f61-b87f-afb90b3d2eb5\" target=\"_top\" title=\"psysml:db055619-95d7-4f61-b87f-afb90b3d2eb5\" xlink:actuate=\"onRequest\" xlink:href=\"psysml:db055619-95d7-4f61-b87f-afb90b3d2eb5\" xlink:show=\"new\" xlink:title=\"psysml:db055619-95d7-4f61-b87f-afb90b3d2eb5\" xlink:type=\"simple\"><path d=\"M177.29,158.47 C183.77,174.22 190.62,190.9 196.82,205.98 \" fill=\"none\" id=\"E2&lt;-E7\" style=\"stroke: #383838; stroke-width: 1.0;\"/><polygon fill=\"#383838\" points=\"172.2,146.07,170.7807,153.1401,176.761,157.1694,178.1803,150.0994,172.2,146.07\" style=\"stroke: #383838; stroke-width: 1.0;\"/></a><!--MD5=[9d9892014af6ec3cd99671ba78e20aa2]\n",
       "@startuml\r\n",
       "skinparam monochrome true\r\n",
       "skinparam classbackgroundcolor white\r\n",
       "skinparam shadowing false\r\n",
       "skinparam wrapWidth 300\r\n",
       "hide circle\r\n",
       "\r\n",
       "package \"Vehicle Parts Tree\" as E1  [[psysml:4ced99ad-fc43-4e7a-b554-eb070d25fd97 ]]  {\r\n",
       "comp usage \"vehicle\" as E2  <<(T,blue)part>> [[psysml:185a04ad-4f4a-4ea6-812a-8ee7263edcd4 ]] {\r\n",
       "- - attributes - -\r\n",
       "mass\r\n",
       "- - performActions - -\r\n",
       "providePower\r\n",
       "}\r\n",
       "comp usage \"engine\" as E4  <<(T,blue)part>> [[psysml:1c6b4fe3-756c-44b0-8b7a-efb6595e7e17 ]] {\r\n",
       "- - attributes - -\r\n",
       "mass\r\n",
       "- - performActions - -\r\n",
       "generateTorque\r\n",
       "}\r\n",
       "comp usage \"cylinders\" as E6  <<(T,blue)part>> [[psysml:d4e2eb02-b083-4dea-b229-04c99d9f02b0 ]] {\r\n",
       "}\r\n",
       "comp usage \"transmission\" as E7  <<(T,blue)part>> [[psysml:2120b838-3ef7-41d6-8bbc-d59f518836c9 ]] {\r\n",
       "- - attributes - -\r\n",
       "mass\r\n",
       "- - performActions - -\r\n",
       "amplifyTorque\r\n",
       "}\r\n",
       "E2 *- - E4 [[psysml:db5bf2fa-6a7c-4885-adb0-1cf907166e7f ]] \r\n",
       "E4 *- - \"6\"E6 [[psysml:d261db08-6988-4c34-b06d-64165601541e ]] \r\n",
       "E2 *- - E7 [[psysml:db055619-95d7-4f61-b87f-afb90b3d2eb5 ]] \r\n",
       "}\r\n",
       "@enduml\r\n",
       "\n",
       "PlantUML version 1.2020.13(Sat Jun 13 12:26:38 UTC 2020)\n",
       "(EPL source distribution)\n",
       "Java Runtime: OpenJDK Runtime Environment\n",
       "JVM: OpenJDK 64-Bit Server VM\n",
       "Default Encoding: UTF-8\n",
       "Language: en\n",
       "Country: null\n",
       "--></g></svg>"
      ]
     },
     "execution_count": 45,
     "metadata": {},
     "output_type": "execute_result"
    }
   ],
   "source": [
    "%viz \"Vehicle Parts Tree\" --view=TREE"
   ]
  },
  {
   "cell_type": "code",
   "execution_count": 51,
   "id": "c9ac4b2a-0254-4537-9cec-4880d9aec8cf",
   "metadata": {},
   "outputs": [
    {
     "data": {
      "image/svg+xml": [
       "<?xml version=\"1.0\" encoding=\"UTF-8\" standalone=\"no\"?><svg xmlns=\"http://www.w3.org/2000/svg\" xmlns:xlink=\"http://www.w3.org/1999/xlink\" contentScriptType=\"application/ecmascript\" contentStyleType=\"text/css\" height=\"157px\" preserveAspectRatio=\"none\" style=\"width:209px;height:157px;\" version=\"1.1\" viewBox=\"0 0 209 157\" width=\"209px\" zoomAndPan=\"magnify\"><defs/><g><!--MD5=[fbc87193dbaf4d95561dea2c320d4a47]\n",
       "cluster E1--><a href=\"psysml:6f2b6421-646e-4442-8388-34f2008a42aa\" target=\"_top\" title=\"psysml:6f2b6421-646e-4442-8388-34f2008a42aa\" xlink:actuate=\"onRequest\" xlink:href=\"psysml:6f2b6421-646e-4442-8388-34f2008a42aa\" xlink:show=\"new\" xlink:title=\"psysml:6f2b6421-646e-4442-8388-34f2008a42aa\" xlink:type=\"simple\"><polygon fill=\"#FFFFFF\" points=\"16,6,177,6,184,28.2969,187,28.2969,187,145,16,145,16,6\" style=\"stroke: #000000; stroke-width: 1.5;\"/><line style=\"stroke: #000000; stroke-width: 1.5;\" x1=\"16\" x2=\"184\" y1=\"28.2969\" y2=\"28.2969\"/><text fill=\"#000000\" font-family=\"sans-serif\" font-size=\"14\" font-weight=\"bold\" lengthAdjust=\"spacingAndGlyphs\" textLength=\"155\" x=\"20\" y=\"20.9951\">Vehicle Action Tree</text></a><!--MD5=[b4997ac47864f28c2f74865a473b2911]\n",
       "class E2--><a href=\"psysml:45d99593-ac1b-48af-b81b-442ae74fb806\" target=\"_top\" title=\"psysml:45d99593-ac1b-48af-b81b-442ae74fb806\" xlink:actuate=\"onRequest\" xlink:href=\"psysml:45d99593-ac1b-48af-b81b-442ae74fb806\" xlink:show=\"new\" xlink:title=\"psysml:45d99593-ac1b-48af-b81b-442ae74fb806\" xlink:type=\"simple\"><rect fill=\"#FFFFFF\" height=\"88.3516\" id=\"E2\" rx=\"10\" ry=\"10\" style=\"stroke: #383838; stroke-width: 1.5;\" width=\"103\" x=\"49.5\" y=\"41\"/><text fill=\"#000000\" font-family=\"sans-serif\" font-size=\"12\" font-style=\"italic\" lengthAdjust=\"spacingAndGlyphs\" textLength=\"53\" x=\"74.5\" y=\"57.1387\">«action»</text><text fill=\"#000000\" font-family=\"sans-serif\" font-size=\"12\" lengthAdjust=\"spacingAndGlyphs\" textLength=\"84\" x=\"59\" y=\"71.1074\">providePower</text><line style=\"stroke: #383838; stroke-width: 1.5;\" x1=\"50.5\" x2=\"151.5\" y1=\"78.9375\" y2=\"78.9375\"/><text fill=\"#000000\" font-family=\"sans-serif\" font-size=\"11\" lengthAdjust=\"spacingAndGlyphs\" textLength=\"81\" x=\"55.5\" y=\"109.9526\">amplifyTorque</text><text fill=\"#000000\" font-family=\"sans-serif\" font-size=\"11\" lengthAdjust=\"spacingAndGlyphs\" textLength=\"91\" x=\"55.5\" y=\"122.7573\">generateTorque</text><line style=\"stroke: #383838; stroke-width: 1.0;\" x1=\"50.5\" x2=\"80.5\" y1=\"93.3398\" y2=\"93.3398\"/><text fill=\"#000000\" font-family=\"sans-serif\" font-size=\"11\" lengthAdjust=\"spacingAndGlyphs\" textLength=\"41\" x=\"80.5\" y=\"96.6479\">actions</text><line style=\"stroke: #383838; stroke-width: 1.0;\" x1=\"121.5\" x2=\"151.5\" y1=\"93.3398\" y2=\"93.3398\"/></a><!--MD5=[97fe812471f27e999b25fe3270d3fd90]\n",
       "@startuml\r\n",
       "skinparam linetype polyline\r\n",
       "skinparam monochrome true\r\n",
       "skinparam classbackgroundcolor white\r\n",
       "skinparam shadowing false\r\n",
       "skinparam wrapWidth 300\r\n",
       "hide circle\r\n",
       "\r\n",
       "package \"Vehicle Action Tree\" as E1  [[psysml:6f2b6421-646e-4442-8388-34f2008a42aa ]]  {\r\n",
       "comp usage \"providePower\" as E2  <<(T,blue)action>> [[psysml:45d99593-ac1b-48af-b81b-442ae74fb806 ]] {\r\n",
       "- - actions - -\r\n",
       "amplifyTorque\r\n",
       "generateTorque\r\n",
       "}\r\n",
       "}\r\n",
       "@enduml\r\n",
       "\n",
       "PlantUML version 1.2020.13(Sat Jun 13 12:26:38 UTC 2020)\n",
       "(EPL source distribution)\n",
       "Java Runtime: OpenJDK Runtime Environment\n",
       "JVM: OpenJDK 64-Bit Server VM\n",
       "Default Encoding: UTF-8\n",
       "Language: en\n",
       "Country: null\n",
       "--></g></svg>"
      ]
     },
     "execution_count": 51,
     "metadata": {},
     "output_type": "execute_result"
    }
   ],
   "source": [
    "%viz \"Vehicle Action Tree\" --view=TREE "
   ]
  },
  {
   "cell_type": "code",
   "execution_count": 47,
   "id": "59b18af1-a037-45c8-846d-7e8353e4cb61",
   "metadata": {},
   "outputs": [
    {
     "data": {
      "text/plain": [
       "Usage: %viz [--view=<VIEW>] [--style=<STYLE>...] <NAME> [<NAME>...]\n",
       "\n",
       "Visualize model elements of <NAME>(s). <NAME>s must be fully qualified.\n",
       "\n",
       "<VIEW> is case insensitive and possible candidates are:\n",
       "   DEFAULT\t\tAutomatically choose an appropriate view from the given model element names\n",
       "   TREE\t\t\tShow a tree-structural view, like a Block Definition Diagram (BDD)\n",
       "   INTERCONNECTION\tShow an interconnection view, like an Internal Block Diagram (IBD)\n",
       "   STATE\t\tShow state machines\n",
       "   ACTION\t\tShow actions like an activity diagram\n",
       "   MIXED\t\tShow multiple views\n",
       "\n",
       "<STYLE> is also case insensitive. Multiple --style options are allowed.  The possible style names are:\n",
       "   DEFAULT\t\tStandard B&W format\n",
       "   STDCOLOR\t\tStandard format with colors\n",
       "   PLANTUML\t\tPlantUML format\n",
       "   PUMLCODE\t\tShow PlantUML code mainly for debugging\n",
       "   TB\t\t\tTop-to-Bottom orientation\n",
       "   LR\t\t\tLeft-to-Right orientation\n",
       "   POLYLINE\t\tPolyline style\n",
       "   ORTHOLINE\t\tOrthogonal line style\n",
       "   COMPTREE\t\tShow tree structures in compartments"
      ]
     },
     "execution_count": 47,
     "metadata": {},
     "output_type": "execute_result"
    }
   ],
   "source": [
    "%viz"
   ]
  },
  {
   "cell_type": "code",
   "execution_count": null,
   "id": "4f1ca813-2594-4611-a501-3e330a346ff0",
   "metadata": {},
   "outputs": [],
   "source": []
  }
 ],
 "metadata": {
  "kernelspec": {
   "display_name": "SysML",
   "language": "sysml",
   "name": "sysml"
  },
  "language_info": {
   "codemirror_mode": "sysml",
   "file_extension": ".sysml",
   "mimetype": "text/x-sysml",
   "name": "SysML",
   "pygments_lexer": "java",
   "version": "1.0.0"
  }
 },
 "nbformat": 4,
 "nbformat_minor": 5
}
