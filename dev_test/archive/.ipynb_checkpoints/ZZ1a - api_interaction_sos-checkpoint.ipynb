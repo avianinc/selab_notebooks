{
 "cells": [
  {
   "cell_type": "markdown",
   "id": "nutritional-hamilton",
   "metadata": {
    "kernel": "SoS"
   },
   "source": [
    "# Working with sysmlv2 models and the API\n",
    "\n",
    "## This is a notebook walks through a SysMLv2 create, publish, and interogate cycle when using the API <br> (partially based on the pyMBE kerbal example)"
   ]
  },
  {
   "cell_type": "markdown",
   "id": "016a1d62-3ce5-4749-9dcd-98046cd92119",
   "metadata": {
    "kernel": "SoS"
   },
   "source": [
    "## 1 - Lets make a simple sysmlv2 model and view the model diagram"
   ]
  },
  {
   "cell_type": "code",
   "execution_count": 26,
   "id": "d2ec9614-34e5-424a-91b8-93f170b9c11a",
   "metadata": {
    "kernel": "SysML",
    "tags": []
   },
   "outputs": [
    {
     "data": {
      "text/plain": [
       "Package jdehart_api_demo (317004fe-4546-45b6-b296-65991ac92442)\n"
      ]
     },
     "execution_count": 26,
     "metadata": {},
     "output_type": "execute_result"
    }
   ],
   "source": [
    "package jdehart_api_demo {\n",
    "    import ScalarValues::*;\n",
    "    \n",
    "    part A {\n",
    "        attribute mass : Real = 30;\n",
    "    }\n",
    "    package internal {\n",
    "        part B {\n",
    "            part C;\n",
    "            part D;\n",
    "    }\n",
    "    }\n",
    "    \n",
    "}"
   ]
  },
  {
   "cell_type": "code",
   "execution_count": 27,
   "id": "ef8e46a9-875a-4735-b1ac-1ed67a2f3171",
   "metadata": {
    "kernel": "SysML",
    "tags": []
   },
   "outputs": [
    {
     "data": {
      "image/svg+xml": [
       "<?xml version=\"1.0\" encoding=\"UTF-8\" standalone=\"no\"?><svg xmlns=\"http://www.w3.org/2000/svg\" xmlns:xlink=\"http://www.w3.org/1999/xlink\" contentScriptType=\"application/ecmascript\" contentStyleType=\"text/css\" height=\"303px\" preserveAspectRatio=\"none\" style=\"width:349px;height:303px;\" version=\"1.1\" viewBox=\"0 0 349 303\" width=\"349px\" zoomAndPan=\"magnify\"><defs/><g><!--MD5=[fbc87193dbaf4d95561dea2c320d4a47]\n",
       "cluster E1--><a href=\"psysml:a31e2ba0-26fc-42c9-a9e7-eb700117c3d6\" target=\"_top\" title=\"psysml:a31e2ba0-26fc-42c9-a9e7-eb700117c3d6\" xlink:actuate=\"onRequest\" xlink:href=\"psysml:a31e2ba0-26fc-42c9-a9e7-eb700117c3d6\" xlink:show=\"new\" xlink:title=\"psysml:a31e2ba0-26fc-42c9-a9e7-eb700117c3d6\" xlink:type=\"simple\"><polygon fill=\"#FFFFFF\" points=\"16,6,159,6,166,28.2969,327,28.2969,327,291,16,291,16,6\" style=\"stroke: #000000; stroke-width: 1.5;\"/><line style=\"stroke: #000000; stroke-width: 1.5;\" x1=\"16\" x2=\"166\" y1=\"28.2969\" y2=\"28.2969\"/><text fill=\"#000000\" font-family=\"sans-serif\" font-size=\"14\" font-weight=\"bold\" lengthAdjust=\"spacingAndGlyphs\" textLength=\"137\" x=\"20\" y=\"20.9951\">jdehart_api_demo</text></a><!--MD5=[d5e69f78d87373223dbae638b30a9c99]\n",
       "cluster E3--><a href=\"psysml:eab9bd7b-d7b4-4737-8f9d-d89935ffb9e0\" target=\"_top\" title=\"psysml:eab9bd7b-d7b4-4737-8f9d-d89935ffb9e0\" xlink:actuate=\"onRequest\" xlink:href=\"psysml:eab9bd7b-d7b4-4737-8f9d-d89935ffb9e0\" xlink:show=\"new\" xlink:title=\"psysml:eab9bd7b-d7b4-4737-8f9d-d89935ffb9e0\" xlink:type=\"simple\"><polygon fill=\"#FFFFFF\" points=\"152,49,218,49,225,71.2969,303,71.2969,303,267,152,267,152,49\" style=\"stroke: #000000; stroke-width: 1.5;\"/><line style=\"stroke: #000000; stroke-width: 1.5;\" x1=\"152\" x2=\"225\" y1=\"71.2969\" y2=\"71.2969\"/><text fill=\"#000000\" font-family=\"sans-serif\" font-size=\"14\" font-weight=\"bold\" lengthAdjust=\"spacingAndGlyphs\" textLength=\"60\" x=\"156\" y=\"63.9951\">internal</text></a><!--MD5=[b4997ac47864f28c2f74865a473b2911]\n",
       "class E2--><a href=\"psysml:9bb982b2-c017-404a-8986-be7c352b5539\" target=\"_top\" title=\"psysml:9bb982b2-c017-404a-8986-be7c352b5539\" xlink:actuate=\"onRequest\" xlink:href=\"psysml:9bb982b2-c017-404a-8986-be7c352b5539\" xlink:show=\"new\" xlink:title=\"psysml:9bb982b2-c017-404a-8986-be7c352b5539\" xlink:type=\"simple\"><rect fill=\"#FFFFFF\" height=\"75.5469\" id=\"E2\" rx=\"10\" ry=\"10\" style=\"stroke: #383838; stroke-width: 1.5;\" width=\"103\" x=\"32.5\" y=\"69\"/><text fill=\"#000000\" font-family=\"sans-serif\" font-size=\"12\" font-style=\"italic\" lengthAdjust=\"spacingAndGlyphs\" textLength=\"40\" x=\"64\" y=\"85.1387\">«part»</text><text fill=\"#000000\" font-family=\"sans-serif\" font-size=\"12\" lengthAdjust=\"spacingAndGlyphs\" textLength=\"8\" x=\"80\" y=\"99.1074\">A</text><line style=\"stroke: #383838; stroke-width: 1.5;\" x1=\"33.5\" x2=\"134.5\" y1=\"106.9375\" y2=\"106.9375\"/><text fill=\"#000000\" font-family=\"sans-serif\" font-size=\"11\" lengthAdjust=\"spacingAndGlyphs\" textLength=\"91\" x=\"38.5\" y=\"137.9526\">mass: Real=30;</text><line style=\"stroke: #383838; stroke-width: 1.0;\" x1=\"33.5\" x2=\"56.5\" y1=\"121.3398\" y2=\"121.3398\"/><text fill=\"#000000\" font-family=\"sans-serif\" font-size=\"11\" lengthAdjust=\"spacingAndGlyphs\" textLength=\"55\" x=\"56.5\" y=\"124.6479\">attributes</text><line style=\"stroke: #383838; stroke-width: 1.0;\" x1=\"111.5\" x2=\"134.5\" y1=\"121.3398\" y2=\"121.3398\"/></a><!--MD5=[ebbe1d658d1005bcc118a6aa81145e00]\n",
       "class E4--><a href=\"psysml:d655ef5e-565c-42d0-8320-140ef6f9e452\" target=\"_top\" title=\"psysml:d655ef5e-565c-42d0-8320-140ef6f9e452\" xlink:actuate=\"onRequest\" xlink:href=\"psysml:d655ef5e-565c-42d0-8320-140ef6f9e452\" xlink:show=\"new\" xlink:title=\"psysml:d655ef5e-565c-42d0-8320-140ef6f9e452\" xlink:type=\"simple\"><rect fill=\"#FFFFFF\" height=\"45.9375\" id=\"E4\" rx=\"10\" ry=\"10\" style=\"stroke: #383838; stroke-width: 1.5;\" width=\"42\" x=\"208\" y=\"84\"/><text fill=\"#000000\" font-family=\"sans-serif\" font-size=\"12\" font-style=\"italic\" lengthAdjust=\"spacingAndGlyphs\" textLength=\"40\" x=\"209\" y=\"100.1387\">«part»</text><text fill=\"#000000\" font-family=\"sans-serif\" font-size=\"12\" lengthAdjust=\"spacingAndGlyphs\" textLength=\"8\" x=\"225\" y=\"114.1074\">B</text><line style=\"stroke: #383838; stroke-width: 1.5;\" x1=\"209\" x2=\"249\" y1=\"121.9375\" y2=\"121.9375\"/></a><!--MD5=[270fce915f116d4de14055a7c1d9a0f3]\n",
       "class E5--><a href=\"psysml:7901c05a-468c-4a84-8515-3a3bde5269fe\" target=\"_top\" title=\"psysml:7901c05a-468c-4a84-8515-3a3bde5269fe\" xlink:actuate=\"onRequest\" xlink:href=\"psysml:7901c05a-468c-4a84-8515-3a3bde5269fe\" xlink:show=\"new\" xlink:title=\"psysml:7901c05a-468c-4a84-8515-3a3bde5269fe\" xlink:type=\"simple\"><rect fill=\"#FFFFFF\" height=\"45.9375\" id=\"E5\" rx=\"10\" ry=\"10\" style=\"stroke: #383838; stroke-width: 1.5;\" width=\"42\" x=\"168\" y=\"205\"/><text fill=\"#000000\" font-family=\"sans-serif\" font-size=\"12\" font-style=\"italic\" lengthAdjust=\"spacingAndGlyphs\" textLength=\"40\" x=\"169\" y=\"221.1387\">«part»</text><text fill=\"#000000\" font-family=\"sans-serif\" font-size=\"12\" lengthAdjust=\"spacingAndGlyphs\" textLength=\"8\" x=\"185\" y=\"235.1074\">C</text><line style=\"stroke: #383838; stroke-width: 1.5;\" x1=\"169\" x2=\"209\" y1=\"242.9375\" y2=\"242.9375\"/></a><!--MD5=[60a26617385b1d2d0262a64233df1f8d]\n",
       "class E6--><a href=\"psysml:9246fcc2-ea06-4124-a1db-48be521fc2ae\" target=\"_top\" title=\"psysml:9246fcc2-ea06-4124-a1db-48be521fc2ae\" xlink:actuate=\"onRequest\" xlink:href=\"psysml:9246fcc2-ea06-4124-a1db-48be521fc2ae\" xlink:show=\"new\" xlink:title=\"psysml:9246fcc2-ea06-4124-a1db-48be521fc2ae\" xlink:type=\"simple\"><rect fill=\"#FFFFFF\" height=\"45.9375\" id=\"E6\" rx=\"10\" ry=\"10\" style=\"stroke: #383838; stroke-width: 1.5;\" width=\"42\" x=\"245\" y=\"205\"/><text fill=\"#000000\" font-family=\"sans-serif\" font-size=\"12\" font-style=\"italic\" lengthAdjust=\"spacingAndGlyphs\" textLength=\"40\" x=\"246\" y=\"221.1387\">«part»</text><text fill=\"#000000\" font-family=\"sans-serif\" font-size=\"12\" lengthAdjust=\"spacingAndGlyphs\" textLength=\"9\" x=\"261.5\" y=\"235.1074\">D</text><line style=\"stroke: #383838; stroke-width: 1.5;\" x1=\"246\" x2=\"286\" y1=\"242.9375\" y2=\"242.9375\"/></a><!--MD5=[62aa6af11e70f752912c1cb0466f24f7]\n",
       "reverse link E4 to E5--><a href=\"psysml:7d3b0f47-31fe-4a10-8e49-de01d3dfb1ac\" target=\"_top\" title=\"psysml:7d3b0f47-31fe-4a10-8e49-de01d3dfb1ac\" xlink:actuate=\"onRequest\" xlink:href=\"psysml:7d3b0f47-31fe-4a10-8e49-de01d3dfb1ac\" xlink:show=\"new\" xlink:title=\"psysml:7d3b0f47-31fe-4a10-8e49-de01d3dfb1ac\" xlink:type=\"simple\"><path d=\"M217.41,142.47 C210.69,162.48 202.41,187.11 196.53,204.61 \" fill=\"none\" id=\"E4&lt;-E5\" style=\"stroke: #383838; stroke-width: 1.0;\"/><polygon fill=\"#383838\" points=\"221.57,130.1,215.8656,134.5113,217.7436,141.4736,223.448,137.0623,221.57,130.1\" style=\"stroke: #383838; stroke-width: 1.0;\"/></a><!--MD5=[6db378b65e1aef66a01cb3103812b399]\n",
       "reverse link E4 to E6--><a href=\"psysml:6c7e7512-3a5b-466c-a967-954e9e46e969\" target=\"_top\" title=\"psysml:6c7e7512-3a5b-466c-a967-954e9e46e969\" xlink:actuate=\"onRequest\" xlink:href=\"psysml:6c7e7512-3a5b-466c-a967-954e9e46e969\" xlink:show=\"new\" xlink:title=\"psysml:6c7e7512-3a5b-466c-a967-954e9e46e969\" xlink:type=\"simple\"><path d=\"M239.81,142.75 C246.01,162.71 253.62,187.19 259.04,204.61 \" fill=\"none\" id=\"E4&lt;-E6\" style=\"stroke: #383838; stroke-width: 1.0;\"/><polygon fill=\"#383838\" points=\"235.87,130.1,233.8304,137.0166,239.4305,141.5596,241.4701,134.643,235.87,130.1\" style=\"stroke: #383838; stroke-width: 1.0;\"/></a><!--MD5=[ac5ee4da7dde3e45224cb9fafc373fa8]\n",
       "@startuml\r\n",
       "skinparam monochrome true\r\n",
       "skinparam classbackgroundcolor white\r\n",
       "skinparam shadowing false\r\n",
       "skinparam wrapWidth 300\r\n",
       "hide circle\r\n",
       "\r\n",
       "package \"jdehart_api_demo\" as E1  [[psysml:a31e2ba0-26fc-42c9-a9e7-eb700117c3d6 ]]  {\r\n",
       "comp usage \"A\" as E2  <<(T,blue) part>> [[psysml:9bb982b2-c017-404a-8986-be7c352b5539 ]] {\r\n",
       "- - attributes - -\r\n",
       "mass: Real=30; \r\n",
       "}\r\n",
       "package \"internal\" as E3  [[psysml:eab9bd7b-d7b4-4737-8f9d-d89935ffb9e0 ]]  {\r\n",
       "comp usage \"B\" as E4  <<(T,blue) part>> [[psysml:d655ef5e-565c-42d0-8320-140ef6f9e452 ]] {\r\n",
       "}\r\n",
       "comp usage \"C\" as E5  <<(T,blue) part>> [[psysml:7901c05a-468c-4a84-8515-3a3bde5269fe ]] {\r\n",
       "}\r\n",
       "comp usage \"D\" as E6  <<(T,blue) part>> [[psysml:9246fcc2-ea06-4124-a1db-48be521fc2ae ]] {\r\n",
       "}\r\n",
       "E4 *- - E5 [[psysml:7d3b0f47-31fe-4a10-8e49-de01d3dfb1ac ]] \r\n",
       "E4 *- - E6 [[psysml:6c7e7512-3a5b-466c-a967-954e9e46e969 ]] \r\n",
       "}\r\n",
       "}\r\n",
       "@enduml\r\n",
       "\n",
       "PlantUML version 1.2020.13(Sat Jun 13 12:26:38 UTC 2020)\n",
       "(EPL source distribution)\n",
       "Java Runtime: OpenJDK Runtime Environment\n",
       "JVM: OpenJDK 64-Bit Server VM\n",
       "Default Encoding: UTF-8\n",
       "Language: en\n",
       "Country: null\n",
       "--></g></svg>"
      ]
     },
     "execution_count": 27,
     "metadata": {},
     "output_type": "execute_result"
    }
   ],
   "source": [
    "%viz jdehart_api_demo"
   ]
  },
  {
   "cell_type": "markdown",
   "id": "6dce5e65-28d4-40ca-9e5f-3b38697ab407",
   "metadata": {
    "kernel": "SysML"
   },
   "source": [
    "## 2 - Now lets publish the model to the API"
   ]
  },
  {
   "cell_type": "code",
   "execution_count": 28,
   "id": "a266c756-c59a-48e3-8433-7298819509ed",
   "metadata": {
    "kernel": "SysML"
   },
   "outputs": [
    {
     "name": "stdout",
     "output_type": "stream",
     "text": [
      "API base path: http://sysml2.intercax.com:9000\n",
      "Processing\n",
      "Posting Commit (21 elements)...2ba3617d-918c-44f6-ac4f-8a665107bc3a\n",
      "\n"
     ]
    },
    {
     "data": {
      "text/plain": [
       "Saved to Project jdehart_api_demo Thu Jul 08 16:23:32 UTC 2021 (0b67e7dd-2b98-4c10-9577-1b45672ae49f)\n"
      ]
     },
     "execution_count": 28,
     "metadata": {},
     "output_type": "execute_result"
    }
   ],
   "source": [
    "%publish jdehart_api_demo"
   ]
  },
  {
   "cell_type": "markdown",
   "id": "1299bcef-89b6-48d7-9ced-0b4329a70c00",
   "metadata": {
    "kernel": "SysML"
   },
   "source": [
    "## 3 - Now lets fetch a list of models from the API and create a dropdown box to select a particular model from (Dont look at this stuff... it messy for a slide)"
   ]
  },
  {
   "cell_type": "code",
   "execution_count": 41,
   "id": "recreational-commons",
   "metadata": {
    "kernel": "pymbe",
    "tags": []
   },
   "outputs": [],
   "source": [
    "from __future__ import print_function\n",
    "\n",
    "import requests\n",
    "import getpass\n",
    "import math\n",
    "\n",
    "import time\n",
    "import sysml_v2_api_client\n",
    "from sysml_v2_api_client.rest import ApiException\n",
    "from pprint import pprint\n",
    "\n",
    "import json\n",
    "import networkx as NX\n",
    "import matplotlib.pyplot as plt\n",
    "\n",
    "import random\n",
    "import copy\n",
    "\n",
    "import pymbe.api as pm\n",
    "#from pymbe.model_loading import ModelingSession as Session\n",
    "#from pymbe.interpretation.interpretation import RandomGenerationStrategy as RGS"
   ]
  },
  {
   "cell_type": "code",
   "execution_count": 42,
   "id": "turkish-argument",
   "metadata": {
    "kernel": "pymbe",
    "tags": []
   },
   "outputs": [],
   "source": [
    "import pymbe.query as pmQuery"
   ]
  },
  {
   "cell_type": "markdown",
   "id": "differential-south",
   "metadata": {
    "kernel": "SoS"
   },
   "source": [
    "## 4 - Configure API Server Connection"
   ]
  },
  {
   "cell_type": "code",
   "execution_count": 43,
   "id": "cognitive-vault",
   "metadata": {
    "kernel": "pymbe",
    "tags": []
   },
   "outputs": [],
   "source": [
    "sysml_api_base_url = 'http://sysml2.intercax.com:9000' # http://sysml2-sst.intercax.com:9000"
   ]
  },
  {
   "cell_type": "markdown",
   "id": "unsigned-macintosh",
   "metadata": {
    "kernel": "SoS"
   },
   "source": [
    "Activate APIs - Connect the API classes to the server"
   ]
  },
  {
   "cell_type": "code",
   "execution_count": 47,
   "id": "theoretical-musical",
   "metadata": {
    "kernel": "pymbe",
    "tags": []
   },
   "outputs": [],
   "source": [
    "configuration = sysml_v2_api_client.Configuration(\n",
    "    host = sysml_api_base_url\n",
    ")\n",
    "\n",
    "projects_api_instance = None\n",
    "\n",
    "with sysml_v2_api_client.ApiClient(configuration) as api_client:\n",
    "    # Create an instance of the API class\n",
    "    project_api_instance = sysml_v2_api_client.ProjectApi(api_client)\n",
    "    \n",
    "commits_api_instance = None\n",
    "\n",
    "with sysml_v2_api_client.ApiClient(configuration) as api_client:\n",
    "    # Create an instance of the API class\n",
    "    commits_api_instance = sysml_v2_api_client.CommitApi(api_client)\n",
    "    \n",
    "elements_api_instance = None\n",
    "\n",
    "with sysml_v2_api_client.ApiClient(configuration) as api_client:\n",
    "    # Create an instance of the API class\n",
    "    elements_api_instance = sysml_v2_api_client.ElementApi(api_client)"
   ]
  },
  {
   "cell_type": "markdown",
   "id": "criminal-calgary",
   "metadata": {
    "kernel": "SoS"
   },
   "source": [
    "Pull down commits and elements catalogs - With the API handles, use the pre-built methods to get lists of commits and elements."
   ]
  },
  {
   "cell_type": "code",
   "execution_count": 48,
   "id": "focal-bleeding",
   "metadata": {
    "kernel": "pymbe",
    "tags": []
   },
   "outputs": [
    {
     "data": {
      "text/plain": [
       "<sysml_v2_api_client.api.project_api.ProjectApi at 0x7faeffb355e0>"
      ]
     },
     "execution_count": 48,
     "metadata": {},
     "output_type": "execute_result"
    }
   ],
   "source": [
    "project_api_instance"
   ]
  },
  {
   "cell_type": "markdown",
   "id": "b5b69215-d1dd-4942-bb5e-138581a309ec",
   "metadata": {
    "kernel": "SoS"
   },
   "source": [
    "## 5  Now get a list of my projects from the API server"
   ]
  },
  {
   "cell_type": "code",
   "execution_count": 50,
   "id": "similar-contents",
   "metadata": {
    "kernel": "pymbe",
    "tags": []
   },
   "outputs": [
    {
     "data": {
      "text/plain": [
       "[{'default_branch': {'id': '6f2e49c6-9d6c-4a9f-b478-95582de29fdc'},\n",
       "  'description': None,\n",
       "  'id': '00b21b86-eeb6-48de-a605-abd73e18fa86',\n",
       "  'name': 'Simple Action Example Tue Jul 06 11:53:44 UTC 2021',\n",
       "  'type': 'Project'},\n",
       " {'default_branch': {'id': '2492a88a-23e3-4adf-bc04-0df0ae2e94cb'},\n",
       "  'description': None,\n",
       "  'id': '06bc9b69-02ab-466e-adfc-d57d2070c3d4',\n",
       "  'name': '13b-Safety and Security Features Element Group Mon Jun 28 18:44:28 '\n",
       "          'EDT 2021',\n",
       "  'type': 'Project'},\n",
       " {'default_branch': {'id': 'd13955a4-589b-43f9-8a26-fc4fbdf6beb5'},\n",
       "  'description': None,\n",
       "  'id': '0b67e7dd-2b98-4c10-9577-1b45672ae49f',\n",
       "  'name': 'jdehart_api_demo Thu Jul 08 16:23:32 UTC 2021',\n",
       "  'type': 'Project'},\n",
       " {'default_branch': {'id': '0712b269-3eed-49c2-a1a7-f09a2e3644e1'},\n",
       "  'description': None,\n",
       "  'id': '0cde0bdf-339b-4d53-a46b-344579dfb6bc',\n",
       "  'name': 'MBSE4U Thu Jul 01 11:04:14 CEST 2021',\n",
       "  'type': 'Project'},\n",
       " {'default_branch': {'id': 'd0b3b270-317d-4384-a430-dc2a9db769f7'},\n",
       "  'description': None,\n",
       "  'id': '172d7c86-f492-4dd7-ac83-8471a9705920',\n",
       "  'name': '1c-Parts Tree Redefinition Mon Jun 28 18:39:42 EDT 2021',\n",
       "  'type': 'Project'},\n",
       " {'default_branch': {'id': 'af4e8dfd-f4f1-4b40-b323-f18a436919c4'},\n",
       "  'description': None,\n",
       "  'id': '2141dcd2-33b5-4ca7-b284-8ff4bb150b52',\n",
       "  'name': 'Kerbal Thu Jul 01 01:00:38 UTC 2021',\n",
       "  'type': 'Project'},\n",
       " {'default_branch': {'id': '65c2630a-c600-42fc-9150-5fbfda16568c'},\n",
       "  'description': None,\n",
       "  'id': '252edd79-ad1c-4a91-adbb-91057af67ea9',\n",
       "  'name': '2a-Parts Interconnection Mon Jun 28 18:40:03 EDT 2021',\n",
       "  'type': 'Project'},\n",
       " {'default_branch': {'id': 'b1cac19f-0625-42e2-b9e9-96205b9906c0'},\n",
       "  'description': None,\n",
       "  'id': '2dda150f-117f-4870-91e8-29e91be4dec2',\n",
       "  'name': '15_19-Materials with Properties Mon Jun 28 18:45:36 EDT 2021',\n",
       "  'type': 'Project'},\n",
       " {'default_branch': {'id': 'd673891d-0177-4c92-b7e5-521bb00b45db'},\n",
       "  'description': None,\n",
       "  'id': '3c92add1-9fb2-4368-8aba-0ef1724395ca',\n",
       "  'name': 'avanlandingham_valuesAPITest Wed Jun 30 15:55:23 EDT 2021',\n",
       "  'type': 'Project'},\n",
       " {'default_branch': {'id': '6726174e-da8a-444c-a374-cd223f044fc0'},\n",
       "  'description': None,\n",
       "  'id': '3d6f5e8a-e065-4976-a826-26a901fedbce',\n",
       "  'name': '16a-Sequence-Modeling Mon Jun 28 18:45:52 EDT 2021',\n",
       "  'type': 'Project'},\n",
       " {'default_branch': {'id': 'd8f1bc74-f3c8-42ea-8dbc-dcc42f59e1f6'},\n",
       "  'description': None,\n",
       "  'id': '439f327b-dec8-4fd4-b5f6-04819dba385c',\n",
       "  'name': '3a-Function-based Behavior-1 Mon Jun 28 18:40:31 EDT 2021',\n",
       "  'type': 'Project'},\n",
       " {'default_branch': {'id': '7b569a32-422d-47df-9a14-c85815ba454a'},\n",
       "  'description': None,\n",
       "  'id': '456ca924-67d8-43b5-9ad1-eebc609d1696',\n",
       "  'name': '7b-Variant Configurations Mon Jun 28 18:42:11 EDT 2021',\n",
       "  'type': 'Project'},\n",
       " {'default_branch': {'id': '986a8c5c-a5a7-45a4-8f74-9669699115f0'},\n",
       "  'description': None,\n",
       "  'id': '48c45a34-397e-486a-973f-97694b3af657',\n",
       "  'name': '10b-Trade-off Among Alternative Configurations Mon Jun 28 18:43:03 '\n",
       "          'EDT 2021',\n",
       "  'type': 'Project'},\n",
       " {'default_branch': {'id': '0ed89ae4-ef24-4ab7-8af2-623fdbe35649'},\n",
       "  'description': None,\n",
       "  'id': '5676302a-4432-4976-acf7-89cf6baba7a3',\n",
       "  'name': '5-State-based Behavior-1 Mon Jun 28 18:41:20 EDT 2021',\n",
       "  'type': 'Project'},\n",
       " {'default_branch': {'id': 'c8bc1c84-3118-4b68-a29a-4912130a4a8e'},\n",
       "  'description': None,\n",
       "  'id': '5f952759-9d15-4936-af95-24f04793c42c',\n",
       "  'name': 'Simple Action Example Tue Jul 06 11:53:03 UTC 2021',\n",
       "  'type': 'Project'},\n",
       " {'default_branch': {'id': '91cb6953-9fc1-49a0-9192-2d63e3fa0bad'},\n",
       "  'description': None,\n",
       "  'id': '656dbffe-8427-400c-a5d8-b0a01f682420',\n",
       "  'name': 'avanlandingham_IndividualsTimeSlicesAndSnapshots Tue Jun 29 10:30:21 '\n",
       "          'EDT 2021',\n",
       "  'type': 'Project'},\n",
       " {'default_branch': {'id': '352d4554-6ce3-4377-9fb8-c0e210e49a4e'},\n",
       "  'description': None,\n",
       "  'id': '67b73cad-980e-4785-9c72-fb0dec2072e5',\n",
       "  'name': '9-Verification-simplified Mon Jun 28 18:42:48 EDT 2021',\n",
       "  'type': 'Project'},\n",
       " {'default_branch': {'id': '057a6ae9-b0e9-43f6-866f-ab782285d1cd'},\n",
       "  'description': None,\n",
       "  'id': '6a939cc7-bbe8-434c-82c2-1bff54b1597d',\n",
       "  'name': '13b-Safety and Security Features Element Group-2 Mon Jun 28 18:44:48 '\n",
       "          'EDT 2021',\n",
       "  'type': 'Project'},\n",
       " {'default_branch': {'id': 'a0b26ea9-7b0a-4029-b4f7-2fcbb802bc97'},\n",
       "  'description': None,\n",
       "  'id': '6af72c8f-7ca9-45df-a49a-b03f45f8fe3f',\n",
       "  'name': 'eseidewitz Connections Example Wed Jun 30 03:35:14 UTC 2021',\n",
       "  'type': 'Project'},\n",
       " {'default_branch': {'id': '6739d963-3e21-4c3d-9d50-a716fb4fe5ea'},\n",
       "  'description': None,\n",
       "  'id': '6d2b59a1-4808-4859-9406-189e4b626a96',\n",
       "  'name': 'itolchinsky_VehicleModel Mon Jul 05 12:18:35 UTC 2021',\n",
       "  'type': 'Project'},\n",
       " {'default_branch': {'id': 'ed4b59cd-a4f7-423f-b3ff-e0e1392daf59'},\n",
       "  'description': None,\n",
       "  'id': '71203910-21cb-42b0-92cb-a4ba44d457e0',\n",
       "  'name': '13a-Model Containment Mon Jun 28 18:44:19 EDT 2021',\n",
       "  'type': 'Project'},\n",
       " {'default_branch': {'id': '2223491b-fd78-40f6-8b7c-017abf1b4445'},\n",
       "  'description': None,\n",
       "  'id': '788bed31-0a36-4215-b05d-6dd720687c87',\n",
       "  'name': 'avanlandingham_actions Tue Jun 29 09:13:14 EDT 2021',\n",
       "  'type': 'Project'},\n",
       " {'default_branch': {'id': '9c5df691-80d0-4c38-ad58-54bed405a6d4'},\n",
       "  'description': None,\n",
       "  'id': '7e4d1329-005f-4a74-a9a6-a9cee8b57ca3',\n",
       "  'name': 'itolchinsky_VehicleModel Wed Jul 07 14:00:44 UTC 2021',\n",
       "  'type': 'Project'},\n",
       " {'default_branch': {'id': '7c14ff1b-dc31-4497-956b-5a74b0b679c7'},\n",
       "  'description': None,\n",
       "  'id': '7f37f8a6-fc5c-4e5f-9026-880c2efde040',\n",
       "  'name': 'eVehicle_LogicalArchitecture_v1 Thu Jul 08 13:54:39 UTC 2021',\n",
       "  'type': 'Project'},\n",
       " {'default_branch': {'id': 'dd5e6a14-2fe7-44b0-b7b4-58964a8b6209'},\n",
       "  'description': None,\n",
       "  'id': '8fb6979f-c38d-48ad-b8aa-2d0ddcda895b',\n",
       "  'name': '11a-View-Viewpoint Mon Jun 28 18:43:35 EDT 2021',\n",
       "  'type': 'Project'},\n",
       " {'default_branch': {'id': 'e050463b-3669-4ad5-8f48-c0cc2da10f6c'},\n",
       "  'description': None,\n",
       "  'id': '93e44249-2a4c-46b6-a24a-cb6547e3a47c',\n",
       "  'name': '10c-Fuel Economy Analysis Mon Jun 28 18:43:17 EDT 2021',\n",
       "  'type': 'Project'},\n",
       " {'default_branch': {'id': '45f055eb-12bc-4124-8f85-0877ca84a3ce'},\n",
       "  'description': None,\n",
       "  'id': '953a2a4a-51d9-4f44-894f-0e94ff6f4c41',\n",
       "  'name': 'itolchinsky_VehicleModel Wed Jul 07 11:16:44 UTC 2021',\n",
       "  'type': 'Project'},\n",
       " {'default_branch': {'id': '15218d63-8ea6-4890-90af-8b6a34470215'},\n",
       "  'description': None,\n",
       "  'id': '96b3f3a9-3489-4c31-b0a2-c8d5d91aaef5',\n",
       "  'name': '3a-Function-based Behavior-2 Mon Jun 28 18:40:48 EDT 2021',\n",
       "  'type': 'Project'},\n",
       " {'default_branch': {'id': 'ff9645bb-e360-4719-985c-76d6e09937c6'},\n",
       "  'description': None,\n",
       "  'id': '97ab860e-a2e8-46ff-81b8-4f392ea4a225',\n",
       "  'name': 'avanlandingham_IndividualsTimeSlicesAndSnapshots Tue Jun 29 10:32:27 '\n",
       "          'EDT 2021',\n",
       "  'type': 'Project'},\n",
       " {'default_branch': {'id': '50c862b9-048a-4f0f-8e5d-58abcb8d482a'},\n",
       "  'description': None,\n",
       "  'id': '98a0db68-2ad7-43b7-96e9-2ce839d75032',\n",
       "  'name': '16b-Sequence-Modeling Mon Jun 28 18:46:05 EDT 2021',\n",
       "  'type': 'Project'},\n",
       " {'default_branch': {'id': 'a13b5b49-85ad-4ab7-84c1-f65fef0a8b16'},\n",
       "  'description': None,\n",
       "  'id': '9cf185e3-d192-409e-be16-5c280b8da0b7',\n",
       "  'name': '15_10-Primitive Data Types Mon Jun 28 18:45:25 EDT 2021',\n",
       "  'type': 'Project'},\n",
       " {'default_branch': {'id': '28de66e7-6ff7-48c6-bafb-a181c7206328'},\n",
       "  'description': None,\n",
       "  'id': 'a01d6b68-948f-451e-b431-eb324c68961a',\n",
       "  'name': '13b-Safety and Security Features Element Group-1 Mon Jun 28 18:44:37 '\n",
       "          'EDT 2021',\n",
       "  'type': 'Project'},\n",
       " {'default_branch': {'id': 'af272e5e-100c-4d71-82b9-990d6a4f1ae1'},\n",
       "  'description': None,\n",
       "  'id': 'abf913ea-6074-43d3-a8d2-32f8ffbfd470',\n",
       "  'name': '5-State-based Behavior-1a Mon Jun 28 18:41:39 EDT 2021',\n",
       "  'type': 'Project'},\n",
       " {'default_branch': {'id': '0746703f-f699-4c52-a9d4-5346bed55e78'},\n",
       "  'description': None,\n",
       "  'id': 'af6d16dc-1fa6-49ca-9d2d-479e90502c72',\n",
       "  'name': 'Simple Action Example Tue Jul 06 11:53:48 UTC 2021',\n",
       "  'type': 'Project'},\n",
       " {'default_branch': {'id': '9e3e5017-90b5-4291-b44e-9e2a8a37c840'},\n",
       "  'description': None,\n",
       "  'id': 'b30c714e-b28b-4168-841d-a1cc300b2b86',\n",
       "  'name': 'Kerbal Thu Jul 01 00:56:10 UTC 2021',\n",
       "  'type': 'Project'},\n",
       " {'default_branch': {'id': '8b7c770d-7f67-45a7-9f5d-e9051c1d59fd'},\n",
       "  'description': None,\n",
       "  'id': 'c3953f99-60ed-4b5f-a5b0-c432ce514213',\n",
       "  'name': '4a-Functional Allocation Mon Jun 28 18:41:02 EDT 2021',\n",
       "  'type': 'Project'},\n",
       " {'default_branch': {'id': 'f04f0b73-ffdd-4889-8c06-34d26d51615a'},\n",
       "  'description': None,\n",
       "  'id': 'c647284b-81bf-43c0-8ed3-37a43e4cb43b',\n",
       "  'name': 'itolchinsky_VehicleModel Mon Jul 05 12:24:56 UTC 2021',\n",
       "  'type': 'Project'},\n",
       " {'default_branch': {'id': 'b724e6ee-dfa5-44dd-97d9-a717c64326c6'},\n",
       "  'description': None,\n",
       "  'id': 'c813d910-4d74-43d6-b53c-990098f7e237',\n",
       "  'name': '8-Requirements Mon Jun 28 18:42:29 EDT 2021',\n",
       "  'type': 'Project'},\n",
       " {'default_branch': {'id': '1250e6d7-86c2-4fd7-9310-2f3fa286af09'},\n",
       "  'description': None,\n",
       "  'id': 'd20c6564-26a7-450d-be9e-4a3fcbad06bb',\n",
       "  'name': '6-Individual and Snapshots Mon Jun 28 18:41:56 EDT 2021',\n",
       "  'type': 'Project'},\n",
       " {'default_branch': {'id': '544282e5-5cef-4ee0-ac71-94208206d988'},\n",
       "  'description': None,\n",
       "  'id': 'd87624b1-4610-4686-9867-5642179fe3a8',\n",
       "  'name': '15_05-Unification of Expression and Constraint Definition Mon Jun 28 '\n",
       "          '18:45:11 EDT 2021',\n",
       "  'type': 'Project'},\n",
       " {'default_branch': {'id': '6813d4b6-0c2b-437d-9386-40b79e08b685'},\n",
       "  'description': None,\n",
       "  'id': 'e9458281-dc8d-4936-8f9c-15ea1d4b3bf6',\n",
       "  'name': '11b-Safety and Security Feature Views Mon Jun 28 18:43:49 EDT 2021',\n",
       "  'type': 'Project'},\n",
       " {'default_branch': {'id': 'a8a15145-99af-4215-98c8-ec16fa7dea02'},\n",
       "  'description': None,\n",
       "  'id': 'ed2e4130-5301-4b08-9ef0-00a992fea96d',\n",
       "  'name': '12a-Dependency Mon Jun 28 18:44:01 EDT 2021',\n",
       "  'type': 'Project'},\n",
       " {'default_branch': {'id': '286d457f-a9c6-4e67-8357-e7715df8f73a'},\n",
       "  'description': None,\n",
       "  'id': 'ed2e5a5d-cf29-4fbb-9899-5481af349cc0',\n",
       "  'name': 'mlutfi_MID_Updated Thu Jul 01 23:13:01 UTC 2021',\n",
       "  'type': 'Project'},\n",
       " {'default_branch': {'id': '7557683e-4b7c-4bd0-a7d2-e6761d19fe0b'},\n",
       "  'description': None,\n",
       "  'id': 'edea42fd-35fd-41b8-9dbe-a7596655c969',\n",
       "  'name': '12b-Allocation Mon Jun 28 18:44:10 EDT 2021',\n",
       "  'type': 'Project'},\n",
       " {'default_branch': {'id': '0cff1f87-82ea-4c7b-aa87-526cececbdd6'},\n",
       "  'description': None,\n",
       "  'id': 'f008f6d9-e124-4725-94f4-da1cfe1832bf',\n",
       "  'name': '14b-Language Extensions Mon Jun 28 18:45:01 EDT 2021',\n",
       "  'type': 'Project'}]"
      ]
     },
     "execution_count": 50,
     "metadata": {},
     "output_type": "execute_result"
    }
   ],
   "source": [
    "q_string = \"\"\n",
    "my_projects = [my_proj for my_proj in project_api_instance.get_projects() if my_proj.name.find(q_string) > -1]\n",
    "my_projects"
   ]
  },
  {
   "cell_type": "markdown",
   "id": "74437244-4769-49b1-908c-267696ee06f3",
   "metadata": {
    "kernel": "Python3"
   },
   "source": [
    "## 6 - Create a dropdown box with my projects"
   ]
  },
  {
   "cell_type": "code",
   "execution_count": 52,
   "id": "b184aa4a-e47d-4707-a9f6-3afa1995979c",
   "metadata": {
    "kernel": "pymbe",
    "tags": []
   },
   "outputs": [
    {
     "data": {
      "text/plain": [
       "['Simple Action Example Tue Jul 06 11:53:44 UTC 2021',\n",
       " '13b-Safety and Security Features Element Group Mon Jun 28 18:44:28 EDT 2021',\n",
       " 'jdehart_api_demo Thu Jul 08 16:23:32 UTC 2021',\n",
       " 'MBSE4U Thu Jul 01 11:04:14 CEST 2021',\n",
       " '1c-Parts Tree Redefinition Mon Jun 28 18:39:42 EDT 2021',\n",
       " 'Kerbal Thu Jul 01 01:00:38 UTC 2021',\n",
       " '2a-Parts Interconnection Mon Jun 28 18:40:03 EDT 2021',\n",
       " '15_19-Materials with Properties Mon Jun 28 18:45:36 EDT 2021',\n",
       " 'avanlandingham_valuesAPITest Wed Jun 30 15:55:23 EDT 2021',\n",
       " '16a-Sequence-Modeling Mon Jun 28 18:45:52 EDT 2021',\n",
       " '3a-Function-based Behavior-1 Mon Jun 28 18:40:31 EDT 2021',\n",
       " '7b-Variant Configurations Mon Jun 28 18:42:11 EDT 2021',\n",
       " '10b-Trade-off Among Alternative Configurations Mon Jun 28 18:43:03 EDT 2021',\n",
       " '5-State-based Behavior-1 Mon Jun 28 18:41:20 EDT 2021',\n",
       " 'Simple Action Example Tue Jul 06 11:53:03 UTC 2021',\n",
       " 'avanlandingham_IndividualsTimeSlicesAndSnapshots Tue Jun 29 10:30:21 EDT 2021',\n",
       " '9-Verification-simplified Mon Jun 28 18:42:48 EDT 2021',\n",
       " '13b-Safety and Security Features Element Group-2 Mon Jun 28 18:44:48 EDT 2021',\n",
       " 'eseidewitz Connections Example Wed Jun 30 03:35:14 UTC 2021',\n",
       " 'itolchinsky_VehicleModel Mon Jul 05 12:18:35 UTC 2021',\n",
       " '13a-Model Containment Mon Jun 28 18:44:19 EDT 2021',\n",
       " 'avanlandingham_actions Tue Jun 29 09:13:14 EDT 2021',\n",
       " 'itolchinsky_VehicleModel Wed Jul 07 14:00:44 UTC 2021',\n",
       " 'eVehicle_LogicalArchitecture_v1 Thu Jul 08 13:54:39 UTC 2021',\n",
       " '11a-View-Viewpoint Mon Jun 28 18:43:35 EDT 2021',\n",
       " '10c-Fuel Economy Analysis Mon Jun 28 18:43:17 EDT 2021',\n",
       " 'itolchinsky_VehicleModel Wed Jul 07 11:16:44 UTC 2021',\n",
       " '3a-Function-based Behavior-2 Mon Jun 28 18:40:48 EDT 2021',\n",
       " 'avanlandingham_IndividualsTimeSlicesAndSnapshots Tue Jun 29 10:32:27 EDT 2021',\n",
       " '16b-Sequence-Modeling Mon Jun 28 18:46:05 EDT 2021',\n",
       " '15_10-Primitive Data Types Mon Jun 28 18:45:25 EDT 2021',\n",
       " '13b-Safety and Security Features Element Group-1 Mon Jun 28 18:44:37 EDT 2021',\n",
       " '5-State-based Behavior-1a Mon Jun 28 18:41:39 EDT 2021',\n",
       " 'Simple Action Example Tue Jul 06 11:53:48 UTC 2021',\n",
       " 'Kerbal Thu Jul 01 00:56:10 UTC 2021',\n",
       " '4a-Functional Allocation Mon Jun 28 18:41:02 EDT 2021',\n",
       " 'itolchinsky_VehicleModel Mon Jul 05 12:24:56 UTC 2021',\n",
       " '8-Requirements Mon Jun 28 18:42:29 EDT 2021',\n",
       " '6-Individual and Snapshots Mon Jun 28 18:41:56 EDT 2021',\n",
       " '15_05-Unification of Expression and Constraint Definition Mon Jun 28 18:45:11 EDT 2021',\n",
       " '11b-Safety and Security Feature Views Mon Jun 28 18:43:49 EDT 2021',\n",
       " '12a-Dependency Mon Jun 28 18:44:01 EDT 2021',\n",
       " 'mlutfi_MID_Updated Thu Jul 01 23:13:01 UTC 2021',\n",
       " '12b-Allocation Mon Jun 28 18:44:10 EDT 2021',\n",
       " '14b-Language Extensions Mon Jun 28 18:45:01 EDT 2021']"
      ]
     },
     "execution_count": 52,
     "metadata": {},
     "output_type": "execute_result"
    }
   ],
   "source": [
    "# get the project names into a list\n",
    "model_names = []\n",
    "for key, value in enumerate(my_projects):\n",
    "    model_names.append(my_projects[key].name)\n",
    "model_names"
   ]
  },
  {
   "cell_type": "code",
   "execution_count": 53,
   "id": "512cdfb1-5887-47f7-a4b7-fc51a8acb6c0",
   "metadata": {
    "kernel": "pymbe",
    "tags": []
   },
   "outputs": [
    {
     "data": {
      "application/vnd.jupyter.widget-view+json": {
       "model_id": "8ae95dc110924b59bd417778304147ef",
       "version_major": 2,
       "version_minor": 0
      },
      "text/plain": [
       "Dropdown(description='Select Project:', options=('Simple Action Example Tue Jul 06 11:53:44 UTC 2021', '13b-Sa…"
      ]
     },
     "metadata": {},
     "output_type": "display_data"
    }
   ],
   "source": [
    "# create the dropdown box and populate with my project names\n",
    "from IPython.display import display\n",
    "from ipywidgets import Dropdown\n",
    "\n",
    "def dropdown_eventhandler(change):\n",
    "    global model_id\n",
    "    model_id = change.new\n",
    "\n",
    "option_list = model_names\n",
    "dropdown = Dropdown(description=\"Select Project:\", options=option_list)\n",
    "dropdown.observe(dropdown_eventhandler, names='index')\n",
    "display(dropdown)\n",
    "### pick the api dem @16:36"
   ]
  },
  {
   "cell_type": "code",
   "execution_count": 56,
   "id": "alone-uncle",
   "metadata": {
    "kernel": "pymbe",
    "tags": []
   },
   "outputs": [
    {
     "name": "stdout",
     "output_type": "stream",
     "text": [
      "[{'change': None,\n",
      " 'id': '2ba3617d-918c-44f6-ac4f-8a665107bc3a',\n",
      " 'owning_project': {'id': '0b67e7dd-2b98-4c10-9577-1b45672ae49f'},\n",
      " 'previous_commit': None,\n",
      " 'type': 'Commit'}]\n"
     ]
    }
   ],
   "source": [
    "# get the last commit\n",
    "try:\n",
    "    # Get commits by project\n",
    "    commits_response = commits_api_instance.get_commits_by_project(my_projects[model_id].id)\n",
    "    pprint(commits_response)\n",
    "except ApiException as e:\n",
    "    print(\"Exception when calling CommitApi->get_commits_by_project: %s\\n\" % e)"
   ]
  },
  {
   "cell_type": "code",
   "execution_count": 57,
   "id": "boolean-winner",
   "metadata": {
    "kernel": "pymbe",
    "tags": []
   },
   "outputs": [],
   "source": [
    "# get a list of elements\n",
    "elements = []\n",
    "try:\n",
    "    # Get commits by project\n",
    "    elements = elements_api_instance.get_elements_by_project_commit(my_projects[model_id].id, commits_response[0].id)\n",
    "except ApiException as e:\n",
    "    print(\"Exception when calling ElementApi->get_elements_by_project_commit: %s\\n\" % e)"
   ]
  },
  {
   "cell_type": "code",
   "execution_count": 58,
   "id": "instructional-forth",
   "metadata": {
    "kernel": "pymbe",
    "tags": []
   },
   "outputs": [
    {
     "data": {
      "text/plain": [
       "21"
      ]
     },
     "execution_count": 58,
     "metadata": {},
     "output_type": "execute_result"
    }
   ],
   "source": [
    "len(elements)"
   ]
  },
  {
   "cell_type": "code",
   "execution_count": 59,
   "id": "increasing-cathedral",
   "metadata": {
    "kernel": "pymbe",
    "tags": []
   },
   "outputs": [
    {
     "name": "stdout",
     "output_type": "stream",
     "text": [
      "[{'id': '07f23365-9067-4e31-bc93-a3b756485291',\n",
      " 'identifier': '07f23365-9067-4e31-bc93-a3b756485291',\n",
      " 'type': 'PartUsage'},\n",
      " {'id': '0d788f05-b397-4827-9918-1e306d8ee80a',\n",
      " 'identifier': '0d788f05-b397-4827-9918-1e306d8ee80a',\n",
      " 'type': 'FeatureMembership'},\n",
      " {'id': '27c696f7-2929-4eca-a198-6c32636b050e',\n",
      " 'identifier': '27c696f7-2929-4eca-a198-6c32636b050e',\n",
      " 'type': 'Membership'},\n",
      " {'id': '317004fe-4546-45b6-b296-65991ac92442',\n",
      " 'identifier': '317004fe-4546-45b6-b296-65991ac92442',\n",
      " 'type': 'Package'},\n",
      " {'id': '3223df00-9b38-496c-be95-4fd6a7b86618',\n",
      " 'identifier': '3223df00-9b38-496c-be95-4fd6a7b86618',\n",
      " 'type': 'FeatureTyping'},\n",
      " {'id': '3979daf1-acb0-4ecb-8639-fa6e22897932',\n",
      " 'identifier': '3979daf1-acb0-4ecb-8639-fa6e22897932',\n",
      " 'type': 'ReturnParameterMembership'},\n",
      " {'id': '42c23f78-b746-4d14-b675-ef4c56b1acae',\n",
      " 'identifier': '42c23f78-b746-4d14-b675-ef4c56b1acae',\n",
      " 'type': 'Feature'},\n",
      " {'id': '5654113f-da48-43e9-ba96-95d6e5ea4b9b',\n",
      " 'identifier': '5654113f-da48-43e9-ba96-95d6e5ea4b9b',\n",
      " 'type': 'Package'},\n",
      " {'id': '62482ba7-9e29-426c-8d39-3e27e13bf9e0',\n",
      " 'identifier': '62482ba7-9e29-426c-8d39-3e27e13bf9e0',\n",
      " 'type': 'DataType'},\n",
      " {'id': '668f1120-e1de-4a6f-9d88-5c3d8dde3bd1',\n",
      " 'identifier': '668f1120-e1de-4a6f-9d88-5c3d8dde3bd1',\n",
      " 'type': 'Import'},\n",
      " {'id': '718d8b79-62c7-4468-b11d-b9a28bcf3426',\n",
      " 'identifier': '718d8b79-62c7-4468-b11d-b9a28bcf3426',\n",
      " 'type': 'Membership'},\n",
      " {'id': '8862bdf1-3647-427e-8401-b02db4cb215a',\n",
      " 'identifier': '8862bdf1-3647-427e-8401-b02db4cb215a',\n",
      " 'type': 'PartUsage'},\n",
      " {'id': '92a9ee54-997e-44c5-a09b-38b1e31dfcc3',\n",
      " 'identifier': '92a9ee54-997e-44c5-a09b-38b1e31dfcc3',\n",
      " 'type': 'Membership'},\n",
      " {'id': '9c32cba5-efe6-494d-8fbd-584f831379a4',\n",
      " 'identifier': '9c32cba5-efe6-494d-8fbd-584f831379a4',\n",
      " 'type': 'LiteralInteger'},\n",
      " {'id': 'a90d727b-2a59-4b91-992d-332288721777',\n",
      " 'identifier': 'a90d727b-2a59-4b91-992d-332288721777',\n",
      " 'type': 'FeatureMembership'},\n",
      " {'id': 'b021e2f2-4463-441f-a778-15410ac95b7f',\n",
      " 'identifier': 'b021e2f2-4463-441f-a778-15410ac95b7f',\n",
      " 'type': 'FeatureMembership'},\n",
      " {'id': 'c3f2c3bf-2cf2-4dab-a5e6-81a223e962a8',\n",
      " 'identifier': 'c3f2c3bf-2cf2-4dab-a5e6-81a223e962a8',\n",
      " 'type': 'FeatureValue'},\n",
      " {'id': 'c4ff4e26-371e-4fc7-b7a3-74fec14d51e8',\n",
      " 'identifier': 'c4ff4e26-371e-4fc7-b7a3-74fec14d51e8',\n",
      " 'type': 'AttributeUsage'},\n",
      " {'id': 'e0008900-28fd-4d43-a9e0-b0ca42b846c1',\n",
      " 'identifier': 'e0008900-28fd-4d43-a9e0-b0ca42b846c1',\n",
      " 'type': 'Package'},\n",
      " {'id': 'f68602c6-18a2-44e6-b3f1-057e6d7aa34b',\n",
      " 'identifier': 'f68602c6-18a2-44e6-b3f1-057e6d7aa34b',\n",
      " 'type': 'PartUsage'},\n",
      " {'id': 'fc9a9f62-895d-47a2-b18a-deb679e3cea5',\n",
      " 'identifier': 'fc9a9f62-895d-47a2-b18a-deb679e3cea5',\n",
      " 'type': 'PartUsage'}]\n"
     ]
    }
   ],
   "source": [
    "# here is an example of what we are working wiht as JSON file\n",
    "pprint(elements)"
   ]
  },
  {
   "cell_type": "markdown",
   "id": "interior-stone",
   "metadata": {
    "kernel": "SoS"
   },
   "source": [
    "With the elements known we can then get each elements data with an API call"
   ]
  },
  {
   "cell_type": "code",
   "execution_count": 60,
   "id": "accessible-plymouth",
   "metadata": {
    "kernel": "pymbe",
    "tags": []
   },
   "outputs": [],
   "source": [
    "elements_url = (sysml_api_base_url +\n",
    "                '/projects/{0}/commits/{1}/elements?page[size]=2000').format(my_projects[model_id].id, commits_response[0].id)"
   ]
  },
  {
   "cell_type": "code",
   "execution_count": 61,
   "id": "reverse-action",
   "metadata": {
    "kernel": "pymbe",
    "tags": []
   },
   "outputs": [
    {
     "data": {
      "text/plain": [
       "'http://sysml2.intercax.com:9000/projects/0b67e7dd-2b98-4c10-9577-1b45672ae49f/commits/2ba3617d-918c-44f6-ac4f-8a665107bc3a/elements?page[size]=2000'"
      ]
     },
     "execution_count": 61,
     "metadata": {},
     "output_type": "execute_result"
    }
   ],
   "source": [
    "elements_url"
   ]
  },
  {
   "cell_type": "code",
   "execution_count": 62,
   "id": "partial-burner",
   "metadata": {
    "kernel": "pymbe",
    "tags": []
   },
   "outputs": [],
   "source": [
    "elements_response = requests.get(\n",
    "    elements_url\n",
    ")"
   ]
  },
  {
   "cell_type": "code",
   "execution_count": 63,
   "id": "portable-ghana",
   "metadata": {
    "kernel": "pymbe",
    "tags": []
   },
   "outputs": [],
   "source": [
    "elements_data = elements_response.json()"
   ]
  },
  {
   "cell_type": "markdown",
   "id": "0ee48c25-eb30-4d2e-b25e-8e0c21af6b76",
   "metadata": {
    "kernel": "Python3"
   },
   "source": [
    "Now we can show the element data in a tree view"
   ]
  },
  {
   "cell_type": "code",
   "execution_count": 64,
   "id": "aae43c23-43e2-4248-86b6-6227f1a0a06e",
   "metadata": {
    "kernel": "pymbe",
    "tags": []
   },
   "outputs": [
    {
     "data": {
      "application/json": [
       {
        "@id": "07f23365-9067-4e31-bc93-a3b756485291",
        "@type": "PartUsage",
        "aliasId": [],
        "definition": [],
        "documentation": [],
        "documentationComment": [],
        "effectiveName": "C",
        "endFeature": [],
        "endOwningType": null,
        "feature": [],
        "featureMembership": [],
        "featuringType": [
         {
          "@id": "fc9a9f62-895d-47a2-b18a-deb679e3cea5"
         }
        ],
        "flowFeature": [],
        "humanId": null,
        "identifier": "07f23365-9067-4e31-bc93-a3b756485291",
        "importedMembership": [],
        "individualDefinition": null,
        "inheritedFeature": [],
        "inheritedMembership": [],
        "input": [],
        "isAbstract": false,
        "isComposite": true,
        "isConjugated": false,
        "isEnd": false,
        "isIndividual": false,
        "isNonunique": false,
        "isOrdered": false,
        "isSufficient": false,
        "isUnique": true,
        "isVariation": false,
        "itemDefinition": [],
        "member": [],
        "membership": [],
        "multiplicity": null,
        "name": "C",
        "nestedAction": [],
        "nestedAllocation": [],
        "nestedAnalysisCase": [],
        "nestedAttribute": [],
        "nestedCalculation": [],
        "nestedCase": [],
        "nestedConcern": [],
        "nestedConnection": [],
        "nestedConstraint": [],
        "nestedEnumeration": [],
        "nestedInterface": [],
        "nestedItem": [],
        "nestedOccurrence": [],
        "nestedPart": [],
        "nestedPort": [],
        "nestedReference": [],
        "nestedRendering": [],
        "nestedRequirement": [],
        "nestedStakeholder": [],
        "nestedState": [],
        "nestedTransition": [],
        "nestedUsage": [],
        "nestedVerificationCase": [],
        "nestedView": [],
        "nestedViewpoint": [],
        "occurrenceDefinition": [],
        "output": [],
        "ownedAnnotation": [],
        "ownedConjugator": null,
        "ownedElement": [],
        "ownedEndFeature": [],
        "ownedFeature": [],
        "ownedFeatureMembership": [],
        "ownedGeneralization": [],
        "ownedImport": [],
        "ownedMember": [],
        "ownedMembership": [],
        "ownedRedefinition": [],
        "ownedRelationship": [],
        "ownedSubsetting": [],
        "ownedTextualRepresentation": [],
        "ownedTypeFeaturing": [],
        "ownedTyping": [],
        "owner": {
         "@id": "fc9a9f62-895d-47a2-b18a-deb679e3cea5"
        },
        "owningDefinition": null,
        "owningFeatureMembership": {
         "@id": "b021e2f2-4463-441f-a778-15410ac95b7f"
        },
        "owningMembership": {
         "@id": "b021e2f2-4463-441f-a778-15410ac95b7f"
        },
        "owningNamespace": {
         "@id": "fc9a9f62-895d-47a2-b18a-deb679e3cea5"
        },
        "owningRelationship": {
         "@id": "b021e2f2-4463-441f-a778-15410ac95b7f"
        },
        "owningType": {
         "@id": "fc9a9f62-895d-47a2-b18a-deb679e3cea5"
        },
        "owningUsage": {
         "@id": "fc9a9f62-895d-47a2-b18a-deb679e3cea5"
        },
        "partDefinition": [],
        "portionKind": null,
        "portioningFeature": null,
        "qualifiedName": "jdehart_api_demo::internal::B::C",
        "type": [],
        "usage": [],
        "variant": [],
        "variantMembership": []
       },
       {
        "@id": "0d788f05-b397-4827-9918-1e306d8ee80a",
        "@type": "FeatureMembership",
        "aliasId": [],
        "direction": null,
        "documentation": [],
        "documentationComment": [],
        "effectiveMemberName": "D",
        "effectiveName": null,
        "featureOfType": {
         "@id": "f68602c6-18a2-44e6-b3f1-057e6d7aa34b"
        },
        "featuringType": null,
        "humanId": null,
        "identifier": "0d788f05-b397-4827-9918-1e306d8ee80a",
        "isComposite": true,
        "isDerived": false,
        "isPort": false,
        "isPortion": false,
        "isReadOnly": false,
        "memberElement": {
         "@id": "f68602c6-18a2-44e6-b3f1-057e6d7aa34b"
        },
        "memberFeature": {
         "@id": "f68602c6-18a2-44e6-b3f1-057e6d7aa34b"
        },
        "memberName": "D",
        "membershipOwningNamespace": {
         "@id": "fc9a9f62-895d-47a2-b18a-deb679e3cea5"
        },
        "name": null,
        "ownedAnnotation": [],
        "ownedElement": [],
        "ownedMemberElement": {
         "@id": "f68602c6-18a2-44e6-b3f1-057e6d7aa34b"
        },
        "ownedMemberFeature": {
         "@id": "f68602c6-18a2-44e6-b3f1-057e6d7aa34b"
        },
        "ownedRelatedElement": [
         {
          "@id": "f68602c6-18a2-44e6-b3f1-057e6d7aa34b"
         }
        ],
        "ownedRelationship": [],
        "ownedTextualRepresentation": [],
        "owner": null,
        "owningFeatureOfType": null,
        "owningMembership": null,
        "owningNamespace": null,
        "owningRelatedElement": {
         "@id": "fc9a9f62-895d-47a2-b18a-deb679e3cea5"
        },
        "owningRelationship": null,
        "owningType": {
         "@id": "fc9a9f62-895d-47a2-b18a-deb679e3cea5"
        },
        "qualifiedName": null,
        "relatedElement": [
         {
          "@id": "fc9a9f62-895d-47a2-b18a-deb679e3cea5"
         },
         {
          "@id": "f68602c6-18a2-44e6-b3f1-057e6d7aa34b"
         }
        ],
        "source": [
         {
          "@id": "fc9a9f62-895d-47a2-b18a-deb679e3cea5"
         }
        ],
        "target": [
         {
          "@id": "f68602c6-18a2-44e6-b3f1-057e6d7aa34b"
         }
        ],
        "visibility": "PUBLIC"
       },
       {
        "@id": "27c696f7-2929-4eca-a198-6c32636b050e",
        "@type": "Membership",
        "aliasId": [],
        "documentation": [],
        "documentationComment": [],
        "effectiveMemberName": "B",
        "effectiveName": null,
        "humanId": null,
        "identifier": "27c696f7-2929-4eca-a198-6c32636b050e",
        "memberElement": {
         "@id": "fc9a9f62-895d-47a2-b18a-deb679e3cea5"
        },
        "memberName": "B",
        "membershipOwningNamespace": {
         "@id": "e0008900-28fd-4d43-a9e0-b0ca42b846c1"
        },
        "name": null,
        "ownedAnnotation": [],
        "ownedElement": [],
        "ownedMemberElement": {
         "@id": "fc9a9f62-895d-47a2-b18a-deb679e3cea5"
        },
        "ownedRelatedElement": [
         {
          "@id": "fc9a9f62-895d-47a2-b18a-deb679e3cea5"
         }
        ],
        "ownedRelationship": [],
        "ownedTextualRepresentation": [],
        "owner": null,
        "owningMembership": null,
        "owningNamespace": null,
        "owningRelatedElement": {
         "@id": "e0008900-28fd-4d43-a9e0-b0ca42b846c1"
        },
        "owningRelationship": null,
        "qualifiedName": null,
        "relatedElement": [
         {
          "@id": "e0008900-28fd-4d43-a9e0-b0ca42b846c1"
         },
         {
          "@id": "fc9a9f62-895d-47a2-b18a-deb679e3cea5"
         }
        ],
        "source": [
         {
          "@id": "e0008900-28fd-4d43-a9e0-b0ca42b846c1"
         }
        ],
        "target": [
         {
          "@id": "fc9a9f62-895d-47a2-b18a-deb679e3cea5"
         }
        ],
        "visibility": "PUBLIC"
       },
       {
        "@id": "317004fe-4546-45b6-b296-65991ac92442",
        "@type": "Package",
        "aliasId": [],
        "documentation": [],
        "documentationComment": [],
        "effectiveName": "jdehart_api_demo",
        "filterCondition": [],
        "humanId": null,
        "identifier": "317004fe-4546-45b6-b296-65991ac92442",
        "importedMembership": [],
        "member": [
         {
          "@id": "8862bdf1-3647-427e-8401-b02db4cb215a"
         },
         {
          "@id": "e0008900-28fd-4d43-a9e0-b0ca42b846c1"
         },
         {
          "@id": "62482ba7-9e29-426c-8d39-3e27e13bf9e0"
         }
        ],
        "membership": [
         {
          "@id": "718d8b79-62c7-4468-b11d-b9a28bcf3426"
         },
         {
          "@id": "92a9ee54-997e-44c5-a09b-38b1e31dfcc3"
         }
        ],
        "name": "jdehart_api_demo",
        "ownedAnnotation": [],
        "ownedElement": [
         {
          "@id": "8862bdf1-3647-427e-8401-b02db4cb215a"
         },
         {
          "@id": "e0008900-28fd-4d43-a9e0-b0ca42b846c1"
         }
        ],
        "ownedImport": [
         {
          "@id": "668f1120-e1de-4a6f-9d88-5c3d8dde3bd1"
         }
        ],
        "ownedMember": [
         {
          "@id": "8862bdf1-3647-427e-8401-b02db4cb215a"
         },
         {
          "@id": "e0008900-28fd-4d43-a9e0-b0ca42b846c1"
         }
        ],
        "ownedMembership": [
         {
          "@id": "718d8b79-62c7-4468-b11d-b9a28bcf3426"
         },
         {
          "@id": "92a9ee54-997e-44c5-a09b-38b1e31dfcc3"
         }
        ],
        "ownedRelationship": [
         {
          "@id": "668f1120-e1de-4a6f-9d88-5c3d8dde3bd1"
         },
         {
          "@id": "718d8b79-62c7-4468-b11d-b9a28bcf3426"
         },
         {
          "@id": "92a9ee54-997e-44c5-a09b-38b1e31dfcc3"
         }
        ],
        "ownedTextualRepresentation": [],
        "owner": null,
        "owningMembership": null,
        "owningNamespace": null,
        "owningRelationship": null,
        "qualifiedName": "jdehart_api_demo"
       },
       {
        "@id": "3223df00-9b38-496c-be95-4fd6a7b86618",
        "@type": "FeatureTyping",
        "aliasId": [],
        "documentation": [],
        "documentationComment": [],
        "effectiveName": null,
        "general": {
         "@id": "62482ba7-9e29-426c-8d39-3e27e13bf9e0"
        },
        "humanId": null,
        "identifier": "3223df00-9b38-496c-be95-4fd6a7b86618",
        "name": null,
        "ownedAnnotation": [],
        "ownedElement": [],
        "ownedRelatedElement": [],
        "ownedRelationship": [],
        "ownedTextualRepresentation": [],
        "owner": null,
        "owningFeature": {
         "@id": "c4ff4e26-371e-4fc7-b7a3-74fec14d51e8"
        },
        "owningMembership": null,
        "owningNamespace": null,
        "owningRelatedElement": {
         "@id": "c4ff4e26-371e-4fc7-b7a3-74fec14d51e8"
        },
        "owningRelationship": null,
        "owningType": {
         "@id": "c4ff4e26-371e-4fc7-b7a3-74fec14d51e8"
        },
        "qualifiedName": null,
        "relatedElement": [
         {
          "@id": "c4ff4e26-371e-4fc7-b7a3-74fec14d51e8"
         },
         {
          "@id": "62482ba7-9e29-426c-8d39-3e27e13bf9e0"
         }
        ],
        "source": [
         {
          "@id": "c4ff4e26-371e-4fc7-b7a3-74fec14d51e8"
         }
        ],
        "specific": {
         "@id": "c4ff4e26-371e-4fc7-b7a3-74fec14d51e8"
        },
        "target": [
         {
          "@id": "62482ba7-9e29-426c-8d39-3e27e13bf9e0"
         }
        ],
        "type": {
         "@id": "62482ba7-9e29-426c-8d39-3e27e13bf9e0"
        },
        "typedFeature": {
         "@id": "c4ff4e26-371e-4fc7-b7a3-74fec14d51e8"
        }
       },
       {
        "@id": "3979daf1-acb0-4ecb-8639-fa6e22897932",
        "@type": "ReturnParameterMembership",
        "aliasId": [],
        "direction": "OUT",
        "documentation": [],
        "documentationComment": [],
        "effectiveMemberName": "$result",
        "effectiveName": null,
        "featureOfType": {
         "@id": "42c23f78-b746-4d14-b675-ef4c56b1acae"
        },
        "featuringType": null,
        "humanId": null,
        "identifier": "3979daf1-acb0-4ecb-8639-fa6e22897932",
        "isComposite": false,
        "isDerived": false,
        "isPort": false,
        "isPortion": false,
        "isReadOnly": false,
        "memberElement": {
         "@id": "42c23f78-b746-4d14-b675-ef4c56b1acae"
        },
        "memberFeature": {
         "@id": "42c23f78-b746-4d14-b675-ef4c56b1acae"
        },
        "memberName": "$result",
        "memberParameter": {
         "@id": "42c23f78-b746-4d14-b675-ef4c56b1acae"
        },
        "membershipOwningNamespace": {
         "@id": "9c32cba5-efe6-494d-8fbd-584f831379a4"
        },
        "name": null,
        "ownedAnnotation": [],
        "ownedElement": [],
        "ownedMemberElement": {
         "@id": "42c23f78-b746-4d14-b675-ef4c56b1acae"
        },
        "ownedMemberFeature": {
         "@id": "42c23f78-b746-4d14-b675-ef4c56b1acae"
        },
        "ownedMemberParameter": {
         "@id": "42c23f78-b746-4d14-b675-ef4c56b1acae"
        },
        "ownedRelatedElement": [
         {
          "@id": "42c23f78-b746-4d14-b675-ef4c56b1acae"
         }
        ],
        "ownedRelationship": [],
        "ownedTextualRepresentation": [],
        "owner": null,
        "owningFeatureOfType": null,
        "owningMembership": null,
        "owningNamespace": null,
        "owningRelatedElement": {
         "@id": "9c32cba5-efe6-494d-8fbd-584f831379a4"
        },
        "owningRelationship": null,
        "owningType": {
         "@id": "9c32cba5-efe6-494d-8fbd-584f831379a4"
        },
        "qualifiedName": null,
        "relatedElement": [
         {
          "@id": "9c32cba5-efe6-494d-8fbd-584f831379a4"
         },
         {
          "@id": "42c23f78-b746-4d14-b675-ef4c56b1acae"
         }
        ],
        "source": [
         {
          "@id": "9c32cba5-efe6-494d-8fbd-584f831379a4"
         }
        ],
        "target": [
         {
          "@id": "42c23f78-b746-4d14-b675-ef4c56b1acae"
         }
        ],
        "visibility": "PUBLIC"
       },
       {
        "@id": "42c23f78-b746-4d14-b675-ef4c56b1acae",
        "@type": "Feature",
        "aliasId": [],
        "documentation": [],
        "documentationComment": [],
        "effectiveName": "$result",
        "endFeature": [],
        "endOwningType": null,
        "feature": [],
        "featureMembership": [],
        "featuringType": [
         {
          "@id": "9c32cba5-efe6-494d-8fbd-584f831379a4"
         }
        ],
        "humanId": null,
        "identifier": "42c23f78-b746-4d14-b675-ef4c56b1acae",
        "importedMembership": [],
        "inheritedFeature": [],
        "inheritedMembership": [],
        "input": [],
        "isAbstract": false,
        "isComposite": false,
        "isConjugated": false,
        "isEnd": false,
        "isNonunique": false,
        "isOrdered": false,
        "isSufficient": false,
        "isUnique": true,
        "member": [],
        "membership": [],
        "multiplicity": null,
        "name": "$result",
        "output": [],
        "ownedAnnotation": [],
        "ownedConjugator": null,
        "ownedElement": [],
        "ownedEndFeature": [],
        "ownedFeature": [],
        "ownedFeatureMembership": [],
        "ownedGeneralization": [],
        "ownedImport": [],
        "ownedMember": [],
        "ownedMembership": [],
        "ownedRedefinition": [],
        "ownedRelationship": [],
        "ownedSubsetting": [],
        "ownedTextualRepresentation": [],
        "ownedTypeFeaturing": [],
        "ownedTyping": [],
        "owner": {
         "@id": "9c32cba5-efe6-494d-8fbd-584f831379a4"
        },
        "owningFeatureMembership": {
         "@id": "3979daf1-acb0-4ecb-8639-fa6e22897932"
        },
        "owningMembership": {
         "@id": "3979daf1-acb0-4ecb-8639-fa6e22897932"
        },
        "owningNamespace": {
         "@id": "9c32cba5-efe6-494d-8fbd-584f831379a4"
        },
        "owningRelationship": {
         "@id": "3979daf1-acb0-4ecb-8639-fa6e22897932"
        },
        "owningType": {
         "@id": "9c32cba5-efe6-494d-8fbd-584f831379a4"
        },
        "qualifiedName": "jdehart_api_demo::A::mass::null::'$result'",
        "type": []
       },
       {
        "@id": "5654113f-da48-43e9-ba96-95d6e5ea4b9b",
        "@type": "Package",
        "aliasId": [],
        "documentation": [],
        "documentationComment": [],
        "effectiveName": "ScalarValues",
        "filterCondition": [],
        "humanId": null,
        "identifier": "5654113f-da48-43e9-ba96-95d6e5ea4b9b",
        "importedMembership": [],
        "member": [],
        "membership": [],
        "name": "ScalarValues",
        "ownedAnnotation": [],
        "ownedElement": [],
        "ownedImport": [],
        "ownedMember": [],
        "ownedMembership": [],
        "ownedRelationship": [],
        "ownedTextualRepresentation": [],
        "owner": null,
        "owningMembership": null,
        "owningNamespace": null,
        "owningRelationship": null,
        "qualifiedName": "ScalarValues"
       },
       {
        "@id": "62482ba7-9e29-426c-8d39-3e27e13bf9e0",
        "@type": "DataType",
        "aliasId": [],
        "documentation": [],
        "documentationComment": [],
        "effectiveName": "Real",
        "endFeature": [],
        "feature": [],
        "featureMembership": [],
        "humanId": null,
        "identifier": "62482ba7-9e29-426c-8d39-3e27e13bf9e0",
        "importedMembership": [],
        "inheritedFeature": [],
        "inheritedMembership": [],
        "input": [],
        "isAbstract": false,
        "isConjugated": false,
        "isSufficient": false,
        "member": [],
        "membership": [],
        "multiplicity": null,
        "name": "Real",
        "output": [],
        "ownedAnnotation": [],
        "ownedConjugator": null,
        "ownedElement": [],
        "ownedEndFeature": [],
        "ownedFeature": [],
        "ownedFeatureMembership": [],
        "ownedGeneralization": [],
        "ownedImport": [],
        "ownedMember": [],
        "ownedMembership": [],
        "ownedRelationship": [],
        "ownedSuperclassing": [],
        "ownedTextualRepresentation": [],
        "owner": null,
        "owningMembership": null,
        "owningNamespace": null,
        "owningRelationship": null,
        "qualifiedName": "ScalarValues::Real"
       },
       {
        "@id": "668f1120-e1de-4a6f-9d88-5c3d8dde3bd1",
        "@type": "Import",
        "aliasId": [],
        "documentation": [],
        "documentationComment": [],
        "effectiveName": null,
        "humanId": null,
        "identifier": "668f1120-e1de-4a6f-9d88-5c3d8dde3bd1",
        "importOwningNamespace": {
         "@id": "317004fe-4546-45b6-b296-65991ac92442"
        },
        "importedNamespace": {
         "@id": "5654113f-da48-43e9-ba96-95d6e5ea4b9b"
        },
        "isRecursive": false,
        "name": null,
        "ownedAnnotation": [],
        "ownedElement": [],
        "ownedRelatedElement": [],
        "ownedRelationship": [],
        "ownedTextualRepresentation": [],
        "owner": null,
        "owningMembership": null,
        "owningNamespace": null,
        "owningRelatedElement": {
         "@id": "317004fe-4546-45b6-b296-65991ac92442"
        },
        "owningRelationship": null,
        "qualifiedName": null,
        "relatedElement": [
         {
          "@id": "317004fe-4546-45b6-b296-65991ac92442"
         },
         {
          "@id": "5654113f-da48-43e9-ba96-95d6e5ea4b9b"
         }
        ],
        "source": [
         {
          "@id": "317004fe-4546-45b6-b296-65991ac92442"
         }
        ],
        "target": [
         {
          "@id": "5654113f-da48-43e9-ba96-95d6e5ea4b9b"
         }
        ],
        "visibility": "PUBLIC"
       },
       {
        "@id": "718d8b79-62c7-4468-b11d-b9a28bcf3426",
        "@type": "Membership",
        "aliasId": [],
        "documentation": [],
        "documentationComment": [],
        "effectiveMemberName": "A",
        "effectiveName": null,
        "humanId": null,
        "identifier": "718d8b79-62c7-4468-b11d-b9a28bcf3426",
        "memberElement": {
         "@id": "8862bdf1-3647-427e-8401-b02db4cb215a"
        },
        "memberName": "A",
        "membershipOwningNamespace": {
         "@id": "317004fe-4546-45b6-b296-65991ac92442"
        },
        "name": null,
        "ownedAnnotation": [],
        "ownedElement": [],
        "ownedMemberElement": {
         "@id": "8862bdf1-3647-427e-8401-b02db4cb215a"
        },
        "ownedRelatedElement": [
         {
          "@id": "8862bdf1-3647-427e-8401-b02db4cb215a"
         }
        ],
        "ownedRelationship": [],
        "ownedTextualRepresentation": [],
        "owner": null,
        "owningMembership": null,
        "owningNamespace": null,
        "owningRelatedElement": {
         "@id": "317004fe-4546-45b6-b296-65991ac92442"
        },
        "owningRelationship": null,
        "qualifiedName": null,
        "relatedElement": [
         {
          "@id": "317004fe-4546-45b6-b296-65991ac92442"
         },
         {
          "@id": "8862bdf1-3647-427e-8401-b02db4cb215a"
         }
        ],
        "source": [
         {
          "@id": "317004fe-4546-45b6-b296-65991ac92442"
         }
        ],
        "target": [
         {
          "@id": "8862bdf1-3647-427e-8401-b02db4cb215a"
         }
        ],
        "visibility": "PUBLIC"
       },
       {
        "@id": "8862bdf1-3647-427e-8401-b02db4cb215a",
        "@type": "PartUsage",
        "aliasId": [],
        "definition": [],
        "documentation": [],
        "documentationComment": [],
        "effectiveName": "A",
        "endFeature": [],
        "endOwningType": null,
        "feature": [
         {
          "@id": "c4ff4e26-371e-4fc7-b7a3-74fec14d51e8"
         }
        ],
        "featureMembership": [
         {
          "@id": "a90d727b-2a59-4b91-992d-332288721777"
         }
        ],
        "featuringType": [],
        "flowFeature": [],
        "humanId": null,
        "identifier": "8862bdf1-3647-427e-8401-b02db4cb215a",
        "importedMembership": [],
        "individualDefinition": null,
        "inheritedFeature": [],
        "inheritedMembership": [],
        "input": [],
        "isAbstract": false,
        "isComposite": false,
        "isConjugated": false,
        "isEnd": false,
        "isIndividual": false,
        "isNonunique": false,
        "isOrdered": false,
        "isSufficient": false,
        "isUnique": true,
        "isVariation": false,
        "itemDefinition": [],
        "member": [
         {
          "@id": "c4ff4e26-371e-4fc7-b7a3-74fec14d51e8"
         }
        ],
        "membership": [
         {
          "@id": "a90d727b-2a59-4b91-992d-332288721777"
         }
        ],
        "multiplicity": null,
        "name": "A",
        "nestedAction": [],
        "nestedAllocation": [],
        "nestedAnalysisCase": [],
        "nestedAttribute": [
         {
          "@id": "c4ff4e26-371e-4fc7-b7a3-74fec14d51e8"
         }
        ],
        "nestedCalculation": [],
        "nestedCase": [],
        "nestedConcern": [],
        "nestedConnection": [],
        "nestedConstraint": [],
        "nestedEnumeration": [],
        "nestedInterface": [],
        "nestedItem": [],
        "nestedOccurrence": [],
        "nestedPart": [],
        "nestedPort": [],
        "nestedReference": [],
        "nestedRendering": [],
        "nestedRequirement": [],
        "nestedStakeholder": [],
        "nestedState": [],
        "nestedTransition": [],
        "nestedUsage": [
         {
          "@id": "c4ff4e26-371e-4fc7-b7a3-74fec14d51e8"
         }
        ],
        "nestedVerificationCase": [],
        "nestedView": [],
        "nestedViewpoint": [],
        "occurrenceDefinition": [],
        "output": [],
        "ownedAnnotation": [],
        "ownedConjugator": null,
        "ownedElement": [
         {
          "@id": "c4ff4e26-371e-4fc7-b7a3-74fec14d51e8"
         }
        ],
        "ownedEndFeature": [],
        "ownedFeature": [
         {
          "@id": "c4ff4e26-371e-4fc7-b7a3-74fec14d51e8"
         }
        ],
        "ownedFeatureMembership": [
         {
          "@id": "a90d727b-2a59-4b91-992d-332288721777"
         }
        ],
        "ownedGeneralization": [],
        "ownedImport": [],
        "ownedMember": [
         {
          "@id": "c4ff4e26-371e-4fc7-b7a3-74fec14d51e8"
         }
        ],
        "ownedMembership": [
         {
          "@id": "a90d727b-2a59-4b91-992d-332288721777"
         }
        ],
        "ownedRedefinition": [],
        "ownedRelationship": [
         {
          "@id": "a90d727b-2a59-4b91-992d-332288721777"
         }
        ],
        "ownedSubsetting": [],
        "ownedTextualRepresentation": [],
        "ownedTypeFeaturing": [],
        "ownedTyping": [],
        "owner": {
         "@id": "317004fe-4546-45b6-b296-65991ac92442"
        },
        "owningDefinition": null,
        "owningFeatureMembership": null,
        "owningMembership": {
         "@id": "718d8b79-62c7-4468-b11d-b9a28bcf3426"
        },
        "owningNamespace": {
         "@id": "317004fe-4546-45b6-b296-65991ac92442"
        },
        "owningRelationship": {
         "@id": "718d8b79-62c7-4468-b11d-b9a28bcf3426"
        },
        "owningType": null,
        "owningUsage": null,
        "partDefinition": [],
        "portionKind": null,
        "portioningFeature": null,
        "qualifiedName": "jdehart_api_demo::A",
        "type": [],
        "usage": [
         {
          "@id": "c4ff4e26-371e-4fc7-b7a3-74fec14d51e8"
         }
        ],
        "variant": [],
        "variantMembership": []
       },
       {
        "@id": "92a9ee54-997e-44c5-a09b-38b1e31dfcc3",
        "@type": "Membership",
        "aliasId": [],
        "documentation": [],
        "documentationComment": [],
        "effectiveMemberName": "internal",
        "effectiveName": null,
        "humanId": null,
        "identifier": "92a9ee54-997e-44c5-a09b-38b1e31dfcc3",
        "memberElement": {
         "@id": "e0008900-28fd-4d43-a9e0-b0ca42b846c1"
        },
        "memberName": "internal",
        "membershipOwningNamespace": {
         "@id": "317004fe-4546-45b6-b296-65991ac92442"
        },
        "name": null,
        "ownedAnnotation": [],
        "ownedElement": [],
        "ownedMemberElement": {
         "@id": "e0008900-28fd-4d43-a9e0-b0ca42b846c1"
        },
        "ownedRelatedElement": [
         {
          "@id": "e0008900-28fd-4d43-a9e0-b0ca42b846c1"
         }
        ],
        "ownedRelationship": [],
        "ownedTextualRepresentation": [],
        "owner": null,
        "owningMembership": null,
        "owningNamespace": null,
        "owningRelatedElement": {
         "@id": "317004fe-4546-45b6-b296-65991ac92442"
        },
        "owningRelationship": null,
        "qualifiedName": null,
        "relatedElement": [
         {
          "@id": "317004fe-4546-45b6-b296-65991ac92442"
         },
         {
          "@id": "e0008900-28fd-4d43-a9e0-b0ca42b846c1"
         }
        ],
        "source": [
         {
          "@id": "317004fe-4546-45b6-b296-65991ac92442"
         }
        ],
        "target": [
         {
          "@id": "e0008900-28fd-4d43-a9e0-b0ca42b846c1"
         }
        ],
        "visibility": "PUBLIC"
       },
       {
        "@id": "9c32cba5-efe6-494d-8fbd-584f831379a4",
        "@type": "LiteralInteger",
        "aliasId": [],
        "behavior": [],
        "documentation": [],
        "documentationComment": [],
        "effectiveName": null,
        "endFeature": [],
        "endOwningType": null,
        "feature": [
         {
          "@id": "42c23f78-b746-4d14-b675-ef4c56b1acae"
         }
        ],
        "featureMembership": [
         {
          "@id": "3979daf1-acb0-4ecb-8639-fa6e22897932"
         }
        ],
        "featuringType": [
         {
          "@id": "8862bdf1-3647-427e-8401-b02db4cb215a"
         }
        ],
        "function": null,
        "humanId": null,
        "identifier": "9c32cba5-efe6-494d-8fbd-584f831379a4",
        "importedMembership": [],
        "inheritedFeature": [],
        "inheritedMembership": [],
        "input": [],
        "isAbstract": false,
        "isComposite": false,
        "isConjugated": false,
        "isEnd": false,
        "isModelLevelEvaluable": true,
        "isNonunique": false,
        "isOrdered": false,
        "isSufficient": false,
        "isUnique": true,
        "member": [
         {
          "@id": "42c23f78-b746-4d14-b675-ef4c56b1acae"
         }
        ],
        "membership": [
         {
          "@id": "3979daf1-acb0-4ecb-8639-fa6e22897932"
         }
        ],
        "multiplicity": null,
        "name": null,
        "output": [
         {
          "@id": "42c23f78-b746-4d14-b675-ef4c56b1acae"
         }
        ],
        "ownedAnnotation": [],
        "ownedConjugator": null,
        "ownedElement": [
         {
          "@id": "42c23f78-b746-4d14-b675-ef4c56b1acae"
         }
        ],
        "ownedEndFeature": [],
        "ownedFeature": [
         {
          "@id": "42c23f78-b746-4d14-b675-ef4c56b1acae"
         }
        ],
        "ownedFeatureMembership": [
         {
          "@id": "3979daf1-acb0-4ecb-8639-fa6e22897932"
         }
        ],
        "ownedGeneralization": [],
        "ownedImport": [],
        "ownedMember": [
         {
          "@id": "42c23f78-b746-4d14-b675-ef4c56b1acae"
         }
        ],
        "ownedMembership": [
         {
          "@id": "3979daf1-acb0-4ecb-8639-fa6e22897932"
         }
        ],
        "ownedRedefinition": [],
        "ownedRelationship": [
         {
          "@id": "3979daf1-acb0-4ecb-8639-fa6e22897932"
         }
        ],
        "ownedSubsetting": [],
        "ownedTextualRepresentation": [],
        "ownedTypeFeaturing": [],
        "ownedTyping": [],
        "owner": {
         "@id": "c4ff4e26-371e-4fc7-b7a3-74fec14d51e8"
        },
        "owningFeatureMembership": null,
        "owningMembership": {
         "@id": "c3f2c3bf-2cf2-4dab-a5e6-81a223e962a8"
        },
        "owningNamespace": {
         "@id": "c4ff4e26-371e-4fc7-b7a3-74fec14d51e8"
        },
        "owningRelationship": {
         "@id": "c3f2c3bf-2cf2-4dab-a5e6-81a223e962a8"
        },
        "owningType": null,
        "parameter": [
         {
          "@id": "42c23f78-b746-4d14-b675-ef4c56b1acae"
         }
        ],
        "qualifiedName": "jdehart_api_demo::A::mass::null",
        "result": {
         "@id": "42c23f78-b746-4d14-b675-ef4c56b1acae"
        },
        "type": [],
        "value": 30
       },
       {
        "@id": "a90d727b-2a59-4b91-992d-332288721777",
        "@type": "FeatureMembership",
        "aliasId": [],
        "direction": null,
        "documentation": [],
        "documentationComment": [],
        "effectiveMemberName": "mass",
        "effectiveName": null,
        "featureOfType": {
         "@id": "c4ff4e26-371e-4fc7-b7a3-74fec14d51e8"
        },
        "featuringType": null,
        "humanId": null,
        "identifier": "a90d727b-2a59-4b91-992d-332288721777",
        "isComposite": false,
        "isDerived": false,
        "isPort": false,
        "isPortion": false,
        "isReadOnly": false,
        "memberElement": {
         "@id": "c4ff4e26-371e-4fc7-b7a3-74fec14d51e8"
        },
        "memberFeature": {
         "@id": "c4ff4e26-371e-4fc7-b7a3-74fec14d51e8"
        },
        "memberName": "mass",
        "membershipOwningNamespace": {
         "@id": "8862bdf1-3647-427e-8401-b02db4cb215a"
        },
        "name": null,
        "ownedAnnotation": [],
        "ownedElement": [],
        "ownedMemberElement": {
         "@id": "c4ff4e26-371e-4fc7-b7a3-74fec14d51e8"
        },
        "ownedMemberFeature": {
         "@id": "c4ff4e26-371e-4fc7-b7a3-74fec14d51e8"
        },
        "ownedRelatedElement": [
         {
          "@id": "c4ff4e26-371e-4fc7-b7a3-74fec14d51e8"
         }
        ],
        "ownedRelationship": [],
        "ownedTextualRepresentation": [],
        "owner": null,
        "owningFeatureOfType": null,
        "owningMembership": null,
        "owningNamespace": null,
        "owningRelatedElement": {
         "@id": "8862bdf1-3647-427e-8401-b02db4cb215a"
        },
        "owningRelationship": null,
        "owningType": {
         "@id": "8862bdf1-3647-427e-8401-b02db4cb215a"
        },
        "qualifiedName": null,
        "relatedElement": [
         {
          "@id": "8862bdf1-3647-427e-8401-b02db4cb215a"
         },
         {
          "@id": "c4ff4e26-371e-4fc7-b7a3-74fec14d51e8"
         }
        ],
        "source": [
         {
          "@id": "8862bdf1-3647-427e-8401-b02db4cb215a"
         }
        ],
        "target": [
         {
          "@id": "c4ff4e26-371e-4fc7-b7a3-74fec14d51e8"
         }
        ],
        "visibility": "PUBLIC"
       },
       {
        "@id": "b021e2f2-4463-441f-a778-15410ac95b7f",
        "@type": "FeatureMembership",
        "aliasId": [],
        "direction": null,
        "documentation": [],
        "documentationComment": [],
        "effectiveMemberName": "C",
        "effectiveName": null,
        "featureOfType": {
         "@id": "07f23365-9067-4e31-bc93-a3b756485291"
        },
        "featuringType": null,
        "humanId": null,
        "identifier": "b021e2f2-4463-441f-a778-15410ac95b7f",
        "isComposite": true,
        "isDerived": false,
        "isPort": false,
        "isPortion": false,
        "isReadOnly": false,
        "memberElement": {
         "@id": "07f23365-9067-4e31-bc93-a3b756485291"
        },
        "memberFeature": {
         "@id": "07f23365-9067-4e31-bc93-a3b756485291"
        },
        "memberName": "C",
        "membershipOwningNamespace": {
         "@id": "fc9a9f62-895d-47a2-b18a-deb679e3cea5"
        },
        "name": null,
        "ownedAnnotation": [],
        "ownedElement": [],
        "ownedMemberElement": {
         "@id": "07f23365-9067-4e31-bc93-a3b756485291"
        },
        "ownedMemberFeature": {
         "@id": "07f23365-9067-4e31-bc93-a3b756485291"
        },
        "ownedRelatedElement": [
         {
          "@id": "07f23365-9067-4e31-bc93-a3b756485291"
         }
        ],
        "ownedRelationship": [],
        "ownedTextualRepresentation": [],
        "owner": null,
        "owningFeatureOfType": null,
        "owningMembership": null,
        "owningNamespace": null,
        "owningRelatedElement": {
         "@id": "fc9a9f62-895d-47a2-b18a-deb679e3cea5"
        },
        "owningRelationship": null,
        "owningType": {
         "@id": "fc9a9f62-895d-47a2-b18a-deb679e3cea5"
        },
        "qualifiedName": null,
        "relatedElement": [
         {
          "@id": "fc9a9f62-895d-47a2-b18a-deb679e3cea5"
         },
         {
          "@id": "07f23365-9067-4e31-bc93-a3b756485291"
         }
        ],
        "source": [
         {
          "@id": "fc9a9f62-895d-47a2-b18a-deb679e3cea5"
         }
        ],
        "target": [
         {
          "@id": "07f23365-9067-4e31-bc93-a3b756485291"
         }
        ],
        "visibility": "PUBLIC"
       },
       {
        "@id": "c3f2c3bf-2cf2-4dab-a5e6-81a223e962a8",
        "@type": "FeatureValue",
        "aliasId": [],
        "documentation": [],
        "documentationComment": [],
        "effectiveMemberName": null,
        "effectiveName": null,
        "featureWithValue": null,
        "humanId": null,
        "identifier": "c3f2c3bf-2cf2-4dab-a5e6-81a223e962a8",
        "memberElement": {
         "@id": "9c32cba5-efe6-494d-8fbd-584f831379a4"
        },
        "memberName": null,
        "membershipOwningNamespace": {
         "@id": "c4ff4e26-371e-4fc7-b7a3-74fec14d51e8"
        },
        "name": null,
        "ownedAnnotation": [],
        "ownedElement": [],
        "ownedMemberElement": {
         "@id": "9c32cba5-efe6-494d-8fbd-584f831379a4"
        },
        "ownedRelatedElement": [
         {
          "@id": "9c32cba5-efe6-494d-8fbd-584f831379a4"
         }
        ],
        "ownedRelationship": [],
        "ownedTextualRepresentation": [],
        "owner": null,
        "owningMembership": null,
        "owningNamespace": null,
        "owningRelatedElement": {
         "@id": "c4ff4e26-371e-4fc7-b7a3-74fec14d51e8"
        },
        "owningRelationship": null,
        "qualifiedName": null,
        "relatedElement": [
         {
          "@id": "c4ff4e26-371e-4fc7-b7a3-74fec14d51e8"
         },
         {
          "@id": "9c32cba5-efe6-494d-8fbd-584f831379a4"
         }
        ],
        "source": [
         {
          "@id": "c4ff4e26-371e-4fc7-b7a3-74fec14d51e8"
         }
        ],
        "target": [
         {
          "@id": "9c32cba5-efe6-494d-8fbd-584f831379a4"
         }
        ],
        "value": {
         "@id": "9c32cba5-efe6-494d-8fbd-584f831379a4"
        },
        "valueConnector": null,
        "visibility": "PUBLIC"
       },
       {
        "@id": "c4ff4e26-371e-4fc7-b7a3-74fec14d51e8",
        "@type": "AttributeUsage",
        "aliasId": [],
        "attributeDefinition": [
         {
          "@id": "62482ba7-9e29-426c-8d39-3e27e13bf9e0"
         }
        ],
        "definition": [
         {
          "@id": "62482ba7-9e29-426c-8d39-3e27e13bf9e0"
         }
        ],
        "documentation": [],
        "documentationComment": [],
        "effectiveName": "mass",
        "endFeature": [],
        "endOwningType": null,
        "feature": [
         {
          "@id": "9c32cba5-efe6-494d-8fbd-584f831379a4"
         }
        ],
        "featureMembership": [],
        "featuringType": [
         {
          "@id": "8862bdf1-3647-427e-8401-b02db4cb215a"
         }
        ],
        "flowFeature": [],
        "humanId": null,
        "identifier": "c4ff4e26-371e-4fc7-b7a3-74fec14d51e8",
        "importedMembership": [],
        "inheritedFeature": [],
        "inheritedMembership": [],
        "input": [],
        "isAbstract": false,
        "isComposite": false,
        "isConjugated": false,
        "isEnd": false,
        "isNonunique": false,
        "isOrdered": false,
        "isSufficient": false,
        "isUnique": true,
        "isVariation": false,
        "member": [
         {
          "@id": "9c32cba5-efe6-494d-8fbd-584f831379a4"
         }
        ],
        "membership": [
         {
          "@id": "c3f2c3bf-2cf2-4dab-a5e6-81a223e962a8"
         }
        ],
        "multiplicity": null,
        "name": "mass",
        "nestedAction": [],
        "nestedAllocation": [],
        "nestedAnalysisCase": [],
        "nestedAttribute": [],
        "nestedCalculation": [],
        "nestedCase": [],
        "nestedConcern": [],
        "nestedConnection": [],
        "nestedConstraint": [],
        "nestedEnumeration": [],
        "nestedInterface": [],
        "nestedItem": [],
        "nestedOccurrence": [],
        "nestedPart": [],
        "nestedPort": [],
        "nestedReference": [],
        "nestedRendering": [],
        "nestedRequirement": [],
        "nestedStakeholder": [],
        "nestedState": [],
        "nestedTransition": [],
        "nestedUsage": [],
        "nestedVerificationCase": [],
        "nestedView": [],
        "nestedViewpoint": [],
        "output": [],
        "ownedAnnotation": [],
        "ownedConjugator": null,
        "ownedElement": [
         {
          "@id": "9c32cba5-efe6-494d-8fbd-584f831379a4"
         }
        ],
        "ownedEndFeature": [],
        "ownedFeature": [
         {
          "@id": "9c32cba5-efe6-494d-8fbd-584f831379a4"
         }
        ],
        "ownedFeatureMembership": [],
        "ownedGeneralization": [
         {
          "@id": "3223df00-9b38-496c-be95-4fd6a7b86618"
         }
        ],
        "ownedImport": [],
        "ownedMember": [
         {
          "@id": "9c32cba5-efe6-494d-8fbd-584f831379a4"
         }
        ],
        "ownedMembership": [
         {
          "@id": "c3f2c3bf-2cf2-4dab-a5e6-81a223e962a8"
         }
        ],
        "ownedRedefinition": [],
        "ownedRelationship": [
         {
          "@id": "3223df00-9b38-496c-be95-4fd6a7b86618"
         },
         {
          "@id": "c3f2c3bf-2cf2-4dab-a5e6-81a223e962a8"
         }
        ],
        "ownedSubsetting": [],
        "ownedTextualRepresentation": [],
        "ownedTypeFeaturing": [],
        "ownedTyping": [
         {
          "@id": "3223df00-9b38-496c-be95-4fd6a7b86618"
         }
        ],
        "owner": {
         "@id": "8862bdf1-3647-427e-8401-b02db4cb215a"
        },
        "owningDefinition": null,
        "owningFeatureMembership": {
         "@id": "a90d727b-2a59-4b91-992d-332288721777"
        },
        "owningMembership": {
         "@id": "a90d727b-2a59-4b91-992d-332288721777"
        },
        "owningNamespace": {
         "@id": "8862bdf1-3647-427e-8401-b02db4cb215a"
        },
        "owningRelationship": {
         "@id": "a90d727b-2a59-4b91-992d-332288721777"
        },
        "owningType": {
         "@id": "8862bdf1-3647-427e-8401-b02db4cb215a"
        },
        "owningUsage": {
         "@id": "8862bdf1-3647-427e-8401-b02db4cb215a"
        },
        "qualifiedName": "jdehart_api_demo::A::mass",
        "type": [
         {
          "@id": "62482ba7-9e29-426c-8d39-3e27e13bf9e0"
         }
        ],
        "usage": [],
        "variant": [],
        "variantMembership": []
       },
       {
        "@id": "e0008900-28fd-4d43-a9e0-b0ca42b846c1",
        "@type": "Package",
        "aliasId": [],
        "documentation": [],
        "documentationComment": [],
        "effectiveName": "internal",
        "filterCondition": [],
        "humanId": null,
        "identifier": "e0008900-28fd-4d43-a9e0-b0ca42b846c1",
        "importedMembership": [],
        "member": [
         {
          "@id": "fc9a9f62-895d-47a2-b18a-deb679e3cea5"
         }
        ],
        "membership": [
         {
          "@id": "27c696f7-2929-4eca-a198-6c32636b050e"
         }
        ],
        "name": "internal",
        "ownedAnnotation": [],
        "ownedElement": [
         {
          "@id": "fc9a9f62-895d-47a2-b18a-deb679e3cea5"
         }
        ],
        "ownedImport": [],
        "ownedMember": [
         {
          "@id": "fc9a9f62-895d-47a2-b18a-deb679e3cea5"
         }
        ],
        "ownedMembership": [
         {
          "@id": "27c696f7-2929-4eca-a198-6c32636b050e"
         }
        ],
        "ownedRelationship": [
         {
          "@id": "27c696f7-2929-4eca-a198-6c32636b050e"
         }
        ],
        "ownedTextualRepresentation": [],
        "owner": {
         "@id": "317004fe-4546-45b6-b296-65991ac92442"
        },
        "owningMembership": {
         "@id": "92a9ee54-997e-44c5-a09b-38b1e31dfcc3"
        },
        "owningNamespace": {
         "@id": "317004fe-4546-45b6-b296-65991ac92442"
        },
        "owningRelationship": {
         "@id": "92a9ee54-997e-44c5-a09b-38b1e31dfcc3"
        },
        "qualifiedName": "jdehart_api_demo::internal"
       },
       {
        "@id": "f68602c6-18a2-44e6-b3f1-057e6d7aa34b",
        "@type": "PartUsage",
        "aliasId": [],
        "definition": [],
        "documentation": [],
        "documentationComment": [],
        "effectiveName": "D",
        "endFeature": [],
        "endOwningType": null,
        "feature": [],
        "featureMembership": [],
        "featuringType": [
         {
          "@id": "fc9a9f62-895d-47a2-b18a-deb679e3cea5"
         }
        ],
        "flowFeature": [],
        "humanId": null,
        "identifier": "f68602c6-18a2-44e6-b3f1-057e6d7aa34b",
        "importedMembership": [],
        "individualDefinition": null,
        "inheritedFeature": [],
        "inheritedMembership": [],
        "input": [],
        "isAbstract": false,
        "isComposite": true,
        "isConjugated": false,
        "isEnd": false,
        "isIndividual": false,
        "isNonunique": false,
        "isOrdered": false,
        "isSufficient": false,
        "isUnique": true,
        "isVariation": false,
        "itemDefinition": [],
        "member": [],
        "membership": [],
        "multiplicity": null,
        "name": "D",
        "nestedAction": [],
        "nestedAllocation": [],
        "nestedAnalysisCase": [],
        "nestedAttribute": [],
        "nestedCalculation": [],
        "nestedCase": [],
        "nestedConcern": [],
        "nestedConnection": [],
        "nestedConstraint": [],
        "nestedEnumeration": [],
        "nestedInterface": [],
        "nestedItem": [],
        "nestedOccurrence": [],
        "nestedPart": [],
        "nestedPort": [],
        "nestedReference": [],
        "nestedRendering": [],
        "nestedRequirement": [],
        "nestedStakeholder": [],
        "nestedState": [],
        "nestedTransition": [],
        "nestedUsage": [],
        "nestedVerificationCase": [],
        "nestedView": [],
        "nestedViewpoint": [],
        "occurrenceDefinition": [],
        "output": [],
        "ownedAnnotation": [],
        "ownedConjugator": null,
        "ownedElement": [],
        "ownedEndFeature": [],
        "ownedFeature": [],
        "ownedFeatureMembership": [],
        "ownedGeneralization": [],
        "ownedImport": [],
        "ownedMember": [],
        "ownedMembership": [],
        "ownedRedefinition": [],
        "ownedRelationship": [],
        "ownedSubsetting": [],
        "ownedTextualRepresentation": [],
        "ownedTypeFeaturing": [],
        "ownedTyping": [],
        "owner": {
         "@id": "fc9a9f62-895d-47a2-b18a-deb679e3cea5"
        },
        "owningDefinition": null,
        "owningFeatureMembership": {
         "@id": "0d788f05-b397-4827-9918-1e306d8ee80a"
        },
        "owningMembership": {
         "@id": "0d788f05-b397-4827-9918-1e306d8ee80a"
        },
        "owningNamespace": {
         "@id": "fc9a9f62-895d-47a2-b18a-deb679e3cea5"
        },
        "owningRelationship": {
         "@id": "0d788f05-b397-4827-9918-1e306d8ee80a"
        },
        "owningType": {
         "@id": "fc9a9f62-895d-47a2-b18a-deb679e3cea5"
        },
        "owningUsage": {
         "@id": "fc9a9f62-895d-47a2-b18a-deb679e3cea5"
        },
        "partDefinition": [],
        "portionKind": null,
        "portioningFeature": null,
        "qualifiedName": "jdehart_api_demo::internal::B::D",
        "type": [],
        "usage": [],
        "variant": [],
        "variantMembership": []
       },
       {
        "@id": "fc9a9f62-895d-47a2-b18a-deb679e3cea5",
        "@type": "PartUsage",
        "aliasId": [],
        "definition": [],
        "documentation": [],
        "documentationComment": [],
        "effectiveName": "B",
        "endFeature": [],
        "endOwningType": null,
        "feature": [
         {
          "@id": "07f23365-9067-4e31-bc93-a3b756485291"
         },
         {
          "@id": "f68602c6-18a2-44e6-b3f1-057e6d7aa34b"
         }
        ],
        "featureMembership": [
         {
          "@id": "b021e2f2-4463-441f-a778-15410ac95b7f"
         },
         {
          "@id": "0d788f05-b397-4827-9918-1e306d8ee80a"
         }
        ],
        "featuringType": [],
        "flowFeature": [],
        "humanId": null,
        "identifier": "fc9a9f62-895d-47a2-b18a-deb679e3cea5",
        "importedMembership": [],
        "individualDefinition": null,
        "inheritedFeature": [],
        "inheritedMembership": [],
        "input": [],
        "isAbstract": false,
        "isComposite": false,
        "isConjugated": false,
        "isEnd": false,
        "isIndividual": false,
        "isNonunique": false,
        "isOrdered": false,
        "isSufficient": false,
        "isUnique": true,
        "isVariation": false,
        "itemDefinition": [],
        "member": [
         {
          "@id": "07f23365-9067-4e31-bc93-a3b756485291"
         },
         {
          "@id": "f68602c6-18a2-44e6-b3f1-057e6d7aa34b"
         }
        ],
        "membership": [
         {
          "@id": "b021e2f2-4463-441f-a778-15410ac95b7f"
         },
         {
          "@id": "0d788f05-b397-4827-9918-1e306d8ee80a"
         }
        ],
        "multiplicity": null,
        "name": "B",
        "nestedAction": [],
        "nestedAllocation": [],
        "nestedAnalysisCase": [],
        "nestedAttribute": [],
        "nestedCalculation": [],
        "nestedCase": [],
        "nestedConcern": [],
        "nestedConnection": [],
        "nestedConstraint": [],
        "nestedEnumeration": [],
        "nestedInterface": [],
        "nestedItem": [
         {
          "@id": "07f23365-9067-4e31-bc93-a3b756485291"
         },
         {
          "@id": "f68602c6-18a2-44e6-b3f1-057e6d7aa34b"
         }
        ],
        "nestedOccurrence": [
         {
          "@id": "07f23365-9067-4e31-bc93-a3b756485291"
         },
         {
          "@id": "f68602c6-18a2-44e6-b3f1-057e6d7aa34b"
         }
        ],
        "nestedPart": [
         {
          "@id": "07f23365-9067-4e31-bc93-a3b756485291"
         },
         {
          "@id": "f68602c6-18a2-44e6-b3f1-057e6d7aa34b"
         }
        ],
        "nestedPort": [],
        "nestedReference": [],
        "nestedRendering": [],
        "nestedRequirement": [],
        "nestedStakeholder": [],
        "nestedState": [],
        "nestedTransition": [],
        "nestedUsage": [
         {
          "@id": "07f23365-9067-4e31-bc93-a3b756485291"
         },
         {
          "@id": "f68602c6-18a2-44e6-b3f1-057e6d7aa34b"
         }
        ],
        "nestedVerificationCase": [],
        "nestedView": [],
        "nestedViewpoint": [],
        "occurrenceDefinition": [],
        "output": [],
        "ownedAnnotation": [],
        "ownedConjugator": null,
        "ownedElement": [
         {
          "@id": "07f23365-9067-4e31-bc93-a3b756485291"
         },
         {
          "@id": "f68602c6-18a2-44e6-b3f1-057e6d7aa34b"
         }
        ],
        "ownedEndFeature": [],
        "ownedFeature": [
         {
          "@id": "07f23365-9067-4e31-bc93-a3b756485291"
         },
         {
          "@id": "f68602c6-18a2-44e6-b3f1-057e6d7aa34b"
         }
        ],
        "ownedFeatureMembership": [
         {
          "@id": "b021e2f2-4463-441f-a778-15410ac95b7f"
         },
         {
          "@id": "0d788f05-b397-4827-9918-1e306d8ee80a"
         }
        ],
        "ownedGeneralization": [],
        "ownedImport": [],
        "ownedMember": [
         {
          "@id": "07f23365-9067-4e31-bc93-a3b756485291"
         },
         {
          "@id": "f68602c6-18a2-44e6-b3f1-057e6d7aa34b"
         }
        ],
        "ownedMembership": [
         {
          "@id": "b021e2f2-4463-441f-a778-15410ac95b7f"
         },
         {
          "@id": "0d788f05-b397-4827-9918-1e306d8ee80a"
         }
        ],
        "ownedRedefinition": [],
        "ownedRelationship": [
         {
          "@id": "b021e2f2-4463-441f-a778-15410ac95b7f"
         },
         {
          "@id": "0d788f05-b397-4827-9918-1e306d8ee80a"
         }
        ],
        "ownedSubsetting": [],
        "ownedTextualRepresentation": [],
        "ownedTypeFeaturing": [],
        "ownedTyping": [],
        "owner": {
         "@id": "e0008900-28fd-4d43-a9e0-b0ca42b846c1"
        },
        "owningDefinition": null,
        "owningFeatureMembership": null,
        "owningMembership": {
         "@id": "27c696f7-2929-4eca-a198-6c32636b050e"
        },
        "owningNamespace": {
         "@id": "e0008900-28fd-4d43-a9e0-b0ca42b846c1"
        },
        "owningRelationship": {
         "@id": "27c696f7-2929-4eca-a198-6c32636b050e"
        },
        "owningType": null,
        "owningUsage": null,
        "partDefinition": [],
        "portionKind": null,
        "portioningFeature": null,
        "qualifiedName": "jdehart_api_demo::internal::B",
        "type": [],
        "usage": [
         {
          "@id": "07f23365-9067-4e31-bc93-a3b756485291"
         },
         {
          "@id": "f68602c6-18a2-44e6-b3f1-057e6d7aa34b"
         }
        ],
        "variant": [],
        "variantMembership": []
       }
      ],
      "text/plain": [
       "<IPython.core.display.JSON object>"
      ]
     },
     "execution_count": 64,
     "metadata": {
      "application/json": {
       "expanded": false,
       "root": "root"
      }
     },
     "output_type": "execute_result"
    }
   ],
   "source": [
    "from IPython.display import JSON\n",
    "JSON(elements_data)"
   ]
  },
  {
   "cell_type": "markdown",
   "id": "edf01a56-7464-4538-9311-55597cad5502",
   "metadata": {
    "kernel": "Python3"
   },
   "source": [
    "Lets now  look at the elements in a table view"
   ]
  },
  {
   "cell_type": "code",
   "execution_count": 66,
   "id": "c9e948fc-92bf-4845-8afa-032efb45dd32",
   "metadata": {
    "kernel": "pymbe",
    "tags": []
   },
   "outputs": [
    {
     "data": {
      "text/html": [
       "<div>\n",
       "<style scoped>\n",
       "    .dataframe tbody tr th:only-of-type {\n",
       "        vertical-align: middle;\n",
       "    }\n",
       "\n",
       "    .dataframe tbody tr th {\n",
       "        vertical-align: top;\n",
       "    }\n",
       "\n",
       "    .dataframe thead th {\n",
       "        text-align: right;\n",
       "    }\n",
       "</style>\n",
       "<table border=\"1\" class=\"dataframe\">\n",
       "  <thead>\n",
       "    <tr style=\"text-align: right;\">\n",
       "      <th></th>\n",
       "      <th>@type</th>\n",
       "      <th>@id</th>\n",
       "      <th>aliasId</th>\n",
       "      <th>definition</th>\n",
       "      <th>documentation</th>\n",
       "      <th>documentationComment</th>\n",
       "      <th>effectiveName</th>\n",
       "      <th>endFeature</th>\n",
       "      <th>endOwningType</th>\n",
       "      <th>feature</th>\n",
       "      <th>...</th>\n",
       "      <th>isRecursive</th>\n",
       "      <th>behavior</th>\n",
       "      <th>function</th>\n",
       "      <th>isModelLevelEvaluable</th>\n",
       "      <th>parameter</th>\n",
       "      <th>result</th>\n",
       "      <th>value</th>\n",
       "      <th>featureWithValue</th>\n",
       "      <th>valueConnector</th>\n",
       "      <th>attributeDefinition</th>\n",
       "    </tr>\n",
       "  </thead>\n",
       "  <tbody>\n",
       "    <tr>\n",
       "      <th>0</th>\n",
       "      <td>PartUsage</td>\n",
       "      <td>07f23365-9067-4e31-bc93-a3b756485291</td>\n",
       "      <td>[]</td>\n",
       "      <td>[]</td>\n",
       "      <td>[]</td>\n",
       "      <td>[]</td>\n",
       "      <td>C</td>\n",
       "      <td>[]</td>\n",
       "      <td>NaN</td>\n",
       "      <td>[]</td>\n",
       "      <td>...</td>\n",
       "      <td>NaN</td>\n",
       "      <td>NaN</td>\n",
       "      <td>NaN</td>\n",
       "      <td>NaN</td>\n",
       "      <td>NaN</td>\n",
       "      <td>NaN</td>\n",
       "      <td>NaN</td>\n",
       "      <td>NaN</td>\n",
       "      <td>NaN</td>\n",
       "      <td>NaN</td>\n",
       "    </tr>\n",
       "    <tr>\n",
       "      <th>1</th>\n",
       "      <td>FeatureMembership</td>\n",
       "      <td>0d788f05-b397-4827-9918-1e306d8ee80a</td>\n",
       "      <td>[]</td>\n",
       "      <td>NaN</td>\n",
       "      <td>[]</td>\n",
       "      <td>[]</td>\n",
       "      <td>None</td>\n",
       "      <td>NaN</td>\n",
       "      <td>NaN</td>\n",
       "      <td>NaN</td>\n",
       "      <td>...</td>\n",
       "      <td>NaN</td>\n",
       "      <td>NaN</td>\n",
       "      <td>NaN</td>\n",
       "      <td>NaN</td>\n",
       "      <td>NaN</td>\n",
       "      <td>NaN</td>\n",
       "      <td>NaN</td>\n",
       "      <td>NaN</td>\n",
       "      <td>NaN</td>\n",
       "      <td>NaN</td>\n",
       "    </tr>\n",
       "    <tr>\n",
       "      <th>2</th>\n",
       "      <td>Membership</td>\n",
       "      <td>27c696f7-2929-4eca-a198-6c32636b050e</td>\n",
       "      <td>[]</td>\n",
       "      <td>NaN</td>\n",
       "      <td>[]</td>\n",
       "      <td>[]</td>\n",
       "      <td>None</td>\n",
       "      <td>NaN</td>\n",
       "      <td>NaN</td>\n",
       "      <td>NaN</td>\n",
       "      <td>...</td>\n",
       "      <td>NaN</td>\n",
       "      <td>NaN</td>\n",
       "      <td>NaN</td>\n",
       "      <td>NaN</td>\n",
       "      <td>NaN</td>\n",
       "      <td>NaN</td>\n",
       "      <td>NaN</td>\n",
       "      <td>NaN</td>\n",
       "      <td>NaN</td>\n",
       "      <td>NaN</td>\n",
       "    </tr>\n",
       "    <tr>\n",
       "      <th>3</th>\n",
       "      <td>Package</td>\n",
       "      <td>317004fe-4546-45b6-b296-65991ac92442</td>\n",
       "      <td>[]</td>\n",
       "      <td>NaN</td>\n",
       "      <td>[]</td>\n",
       "      <td>[]</td>\n",
       "      <td>jdehart_api_demo</td>\n",
       "      <td>NaN</td>\n",
       "      <td>NaN</td>\n",
       "      <td>NaN</td>\n",
       "      <td>...</td>\n",
       "      <td>NaN</td>\n",
       "      <td>NaN</td>\n",
       "      <td>NaN</td>\n",
       "      <td>NaN</td>\n",
       "      <td>NaN</td>\n",
       "      <td>NaN</td>\n",
       "      <td>NaN</td>\n",
       "      <td>NaN</td>\n",
       "      <td>NaN</td>\n",
       "      <td>NaN</td>\n",
       "    </tr>\n",
       "    <tr>\n",
       "      <th>4</th>\n",
       "      <td>FeatureTyping</td>\n",
       "      <td>3223df00-9b38-496c-be95-4fd6a7b86618</td>\n",
       "      <td>[]</td>\n",
       "      <td>NaN</td>\n",
       "      <td>[]</td>\n",
       "      <td>[]</td>\n",
       "      <td>None</td>\n",
       "      <td>NaN</td>\n",
       "      <td>NaN</td>\n",
       "      <td>NaN</td>\n",
       "      <td>...</td>\n",
       "      <td>NaN</td>\n",
       "      <td>NaN</td>\n",
       "      <td>NaN</td>\n",
       "      <td>NaN</td>\n",
       "      <td>NaN</td>\n",
       "      <td>NaN</td>\n",
       "      <td>NaN</td>\n",
       "      <td>NaN</td>\n",
       "      <td>NaN</td>\n",
       "      <td>NaN</td>\n",
       "    </tr>\n",
       "    <tr>\n",
       "      <th>5</th>\n",
       "      <td>ReturnParameterMembership</td>\n",
       "      <td>3979daf1-acb0-4ecb-8639-fa6e22897932</td>\n",
       "      <td>[]</td>\n",
       "      <td>NaN</td>\n",
       "      <td>[]</td>\n",
       "      <td>[]</td>\n",
       "      <td>None</td>\n",
       "      <td>NaN</td>\n",
       "      <td>NaN</td>\n",
       "      <td>NaN</td>\n",
       "      <td>...</td>\n",
       "      <td>NaN</td>\n",
       "      <td>NaN</td>\n",
       "      <td>NaN</td>\n",
       "      <td>NaN</td>\n",
       "      <td>NaN</td>\n",
       "      <td>NaN</td>\n",
       "      <td>NaN</td>\n",
       "      <td>NaN</td>\n",
       "      <td>NaN</td>\n",
       "      <td>NaN</td>\n",
       "    </tr>\n",
       "    <tr>\n",
       "      <th>6</th>\n",
       "      <td>Feature</td>\n",
       "      <td>42c23f78-b746-4d14-b675-ef4c56b1acae</td>\n",
       "      <td>[]</td>\n",
       "      <td>NaN</td>\n",
       "      <td>[]</td>\n",
       "      <td>[]</td>\n",
       "      <td>$result</td>\n",
       "      <td>[]</td>\n",
       "      <td>NaN</td>\n",
       "      <td>[]</td>\n",
       "      <td>...</td>\n",
       "      <td>NaN</td>\n",
       "      <td>NaN</td>\n",
       "      <td>NaN</td>\n",
       "      <td>NaN</td>\n",
       "      <td>NaN</td>\n",
       "      <td>NaN</td>\n",
       "      <td>NaN</td>\n",
       "      <td>NaN</td>\n",
       "      <td>NaN</td>\n",
       "      <td>NaN</td>\n",
       "    </tr>\n",
       "    <tr>\n",
       "      <th>7</th>\n",
       "      <td>Package</td>\n",
       "      <td>5654113f-da48-43e9-ba96-95d6e5ea4b9b</td>\n",
       "      <td>[]</td>\n",
       "      <td>NaN</td>\n",
       "      <td>[]</td>\n",
       "      <td>[]</td>\n",
       "      <td>ScalarValues</td>\n",
       "      <td>NaN</td>\n",
       "      <td>NaN</td>\n",
       "      <td>NaN</td>\n",
       "      <td>...</td>\n",
       "      <td>NaN</td>\n",
       "      <td>NaN</td>\n",
       "      <td>NaN</td>\n",
       "      <td>NaN</td>\n",
       "      <td>NaN</td>\n",
       "      <td>NaN</td>\n",
       "      <td>NaN</td>\n",
       "      <td>NaN</td>\n",
       "      <td>NaN</td>\n",
       "      <td>NaN</td>\n",
       "    </tr>\n",
       "    <tr>\n",
       "      <th>8</th>\n",
       "      <td>DataType</td>\n",
       "      <td>62482ba7-9e29-426c-8d39-3e27e13bf9e0</td>\n",
       "      <td>[]</td>\n",
       "      <td>NaN</td>\n",
       "      <td>[]</td>\n",
       "      <td>[]</td>\n",
       "      <td>Real</td>\n",
       "      <td>[]</td>\n",
       "      <td>NaN</td>\n",
       "      <td>[]</td>\n",
       "      <td>...</td>\n",
       "      <td>NaN</td>\n",
       "      <td>NaN</td>\n",
       "      <td>NaN</td>\n",
       "      <td>NaN</td>\n",
       "      <td>NaN</td>\n",
       "      <td>NaN</td>\n",
       "      <td>NaN</td>\n",
       "      <td>NaN</td>\n",
       "      <td>NaN</td>\n",
       "      <td>NaN</td>\n",
       "    </tr>\n",
       "    <tr>\n",
       "      <th>9</th>\n",
       "      <td>Import</td>\n",
       "      <td>668f1120-e1de-4a6f-9d88-5c3d8dde3bd1</td>\n",
       "      <td>[]</td>\n",
       "      <td>NaN</td>\n",
       "      <td>[]</td>\n",
       "      <td>[]</td>\n",
       "      <td>None</td>\n",
       "      <td>NaN</td>\n",
       "      <td>NaN</td>\n",
       "      <td>NaN</td>\n",
       "      <td>...</td>\n",
       "      <td>False</td>\n",
       "      <td>NaN</td>\n",
       "      <td>NaN</td>\n",
       "      <td>NaN</td>\n",
       "      <td>NaN</td>\n",
       "      <td>NaN</td>\n",
       "      <td>NaN</td>\n",
       "      <td>NaN</td>\n",
       "      <td>NaN</td>\n",
       "      <td>NaN</td>\n",
       "    </tr>\n",
       "    <tr>\n",
       "      <th>10</th>\n",
       "      <td>Membership</td>\n",
       "      <td>718d8b79-62c7-4468-b11d-b9a28bcf3426</td>\n",
       "      <td>[]</td>\n",
       "      <td>NaN</td>\n",
       "      <td>[]</td>\n",
       "      <td>[]</td>\n",
       "      <td>None</td>\n",
       "      <td>NaN</td>\n",
       "      <td>NaN</td>\n",
       "      <td>NaN</td>\n",
       "      <td>...</td>\n",
       "      <td>NaN</td>\n",
       "      <td>NaN</td>\n",
       "      <td>NaN</td>\n",
       "      <td>NaN</td>\n",
       "      <td>NaN</td>\n",
       "      <td>NaN</td>\n",
       "      <td>NaN</td>\n",
       "      <td>NaN</td>\n",
       "      <td>NaN</td>\n",
       "      <td>NaN</td>\n",
       "    </tr>\n",
       "    <tr>\n",
       "      <th>11</th>\n",
       "      <td>PartUsage</td>\n",
       "      <td>8862bdf1-3647-427e-8401-b02db4cb215a</td>\n",
       "      <td>[]</td>\n",
       "      <td>[]</td>\n",
       "      <td>[]</td>\n",
       "      <td>[]</td>\n",
       "      <td>A</td>\n",
       "      <td>[]</td>\n",
       "      <td>NaN</td>\n",
       "      <td>[{'@id': 'c4ff4e26-371e-4fc7-b7a3-74fec14d51e8'}]</td>\n",
       "      <td>...</td>\n",
       "      <td>NaN</td>\n",
       "      <td>NaN</td>\n",
       "      <td>NaN</td>\n",
       "      <td>NaN</td>\n",
       "      <td>NaN</td>\n",
       "      <td>NaN</td>\n",
       "      <td>NaN</td>\n",
       "      <td>NaN</td>\n",
       "      <td>NaN</td>\n",
       "      <td>NaN</td>\n",
       "    </tr>\n",
       "    <tr>\n",
       "      <th>12</th>\n",
       "      <td>Membership</td>\n",
       "      <td>92a9ee54-997e-44c5-a09b-38b1e31dfcc3</td>\n",
       "      <td>[]</td>\n",
       "      <td>NaN</td>\n",
       "      <td>[]</td>\n",
       "      <td>[]</td>\n",
       "      <td>None</td>\n",
       "      <td>NaN</td>\n",
       "      <td>NaN</td>\n",
       "      <td>NaN</td>\n",
       "      <td>...</td>\n",
       "      <td>NaN</td>\n",
       "      <td>NaN</td>\n",
       "      <td>NaN</td>\n",
       "      <td>NaN</td>\n",
       "      <td>NaN</td>\n",
       "      <td>NaN</td>\n",
       "      <td>NaN</td>\n",
       "      <td>NaN</td>\n",
       "      <td>NaN</td>\n",
       "      <td>NaN</td>\n",
       "    </tr>\n",
       "    <tr>\n",
       "      <th>13</th>\n",
       "      <td>LiteralInteger</td>\n",
       "      <td>9c32cba5-efe6-494d-8fbd-584f831379a4</td>\n",
       "      <td>[]</td>\n",
       "      <td>NaN</td>\n",
       "      <td>[]</td>\n",
       "      <td>[]</td>\n",
       "      <td>None</td>\n",
       "      <td>[]</td>\n",
       "      <td>NaN</td>\n",
       "      <td>[{'@id': '42c23f78-b746-4d14-b675-ef4c56b1acae'}]</td>\n",
       "      <td>...</td>\n",
       "      <td>NaN</td>\n",
       "      <td>[]</td>\n",
       "      <td>NaN</td>\n",
       "      <td>True</td>\n",
       "      <td>[{'@id': '42c23f78-b746-4d14-b675-ef4c56b1acae'}]</td>\n",
       "      <td>{'@id': '42c23f78-b746-4d14-b675-ef4c56b1acae'}</td>\n",
       "      <td>30</td>\n",
       "      <td>NaN</td>\n",
       "      <td>NaN</td>\n",
       "      <td>NaN</td>\n",
       "    </tr>\n",
       "    <tr>\n",
       "      <th>14</th>\n",
       "      <td>FeatureMembership</td>\n",
       "      <td>a90d727b-2a59-4b91-992d-332288721777</td>\n",
       "      <td>[]</td>\n",
       "      <td>NaN</td>\n",
       "      <td>[]</td>\n",
       "      <td>[]</td>\n",
       "      <td>None</td>\n",
       "      <td>NaN</td>\n",
       "      <td>NaN</td>\n",
       "      <td>NaN</td>\n",
       "      <td>...</td>\n",
       "      <td>NaN</td>\n",
       "      <td>NaN</td>\n",
       "      <td>NaN</td>\n",
       "      <td>NaN</td>\n",
       "      <td>NaN</td>\n",
       "      <td>NaN</td>\n",
       "      <td>NaN</td>\n",
       "      <td>NaN</td>\n",
       "      <td>NaN</td>\n",
       "      <td>NaN</td>\n",
       "    </tr>\n",
       "    <tr>\n",
       "      <th>15</th>\n",
       "      <td>FeatureMembership</td>\n",
       "      <td>b021e2f2-4463-441f-a778-15410ac95b7f</td>\n",
       "      <td>[]</td>\n",
       "      <td>NaN</td>\n",
       "      <td>[]</td>\n",
       "      <td>[]</td>\n",
       "      <td>None</td>\n",
       "      <td>NaN</td>\n",
       "      <td>NaN</td>\n",
       "      <td>NaN</td>\n",
       "      <td>...</td>\n",
       "      <td>NaN</td>\n",
       "      <td>NaN</td>\n",
       "      <td>NaN</td>\n",
       "      <td>NaN</td>\n",
       "      <td>NaN</td>\n",
       "      <td>NaN</td>\n",
       "      <td>NaN</td>\n",
       "      <td>NaN</td>\n",
       "      <td>NaN</td>\n",
       "      <td>NaN</td>\n",
       "    </tr>\n",
       "    <tr>\n",
       "      <th>16</th>\n",
       "      <td>FeatureValue</td>\n",
       "      <td>c3f2c3bf-2cf2-4dab-a5e6-81a223e962a8</td>\n",
       "      <td>[]</td>\n",
       "      <td>NaN</td>\n",
       "      <td>[]</td>\n",
       "      <td>[]</td>\n",
       "      <td>None</td>\n",
       "      <td>NaN</td>\n",
       "      <td>NaN</td>\n",
       "      <td>NaN</td>\n",
       "      <td>...</td>\n",
       "      <td>NaN</td>\n",
       "      <td>NaN</td>\n",
       "      <td>NaN</td>\n",
       "      <td>NaN</td>\n",
       "      <td>NaN</td>\n",
       "      <td>NaN</td>\n",
       "      <td>{'@id': '9c32cba5-efe6-494d-8fbd-584f831379a4'}</td>\n",
       "      <td>NaN</td>\n",
       "      <td>NaN</td>\n",
       "      <td>NaN</td>\n",
       "    </tr>\n",
       "    <tr>\n",
       "      <th>17</th>\n",
       "      <td>AttributeUsage</td>\n",
       "      <td>c4ff4e26-371e-4fc7-b7a3-74fec14d51e8</td>\n",
       "      <td>[]</td>\n",
       "      <td>[{'@id': '62482ba7-9e29-426c-8d39-3e27e13bf9e0'}]</td>\n",
       "      <td>[]</td>\n",
       "      <td>[]</td>\n",
       "      <td>mass</td>\n",
       "      <td>[]</td>\n",
       "      <td>NaN</td>\n",
       "      <td>[{'@id': '9c32cba5-efe6-494d-8fbd-584f831379a4'}]</td>\n",
       "      <td>...</td>\n",
       "      <td>NaN</td>\n",
       "      <td>NaN</td>\n",
       "      <td>NaN</td>\n",
       "      <td>NaN</td>\n",
       "      <td>NaN</td>\n",
       "      <td>NaN</td>\n",
       "      <td>NaN</td>\n",
       "      <td>NaN</td>\n",
       "      <td>NaN</td>\n",
       "      <td>[{'@id': '62482ba7-9e29-426c-8d39-3e27e13bf9e0'}]</td>\n",
       "    </tr>\n",
       "    <tr>\n",
       "      <th>18</th>\n",
       "      <td>Package</td>\n",
       "      <td>e0008900-28fd-4d43-a9e0-b0ca42b846c1</td>\n",
       "      <td>[]</td>\n",
       "      <td>NaN</td>\n",
       "      <td>[]</td>\n",
       "      <td>[]</td>\n",
       "      <td>internal</td>\n",
       "      <td>NaN</td>\n",
       "      <td>NaN</td>\n",
       "      <td>NaN</td>\n",
       "      <td>...</td>\n",
       "      <td>NaN</td>\n",
       "      <td>NaN</td>\n",
       "      <td>NaN</td>\n",
       "      <td>NaN</td>\n",
       "      <td>NaN</td>\n",
       "      <td>NaN</td>\n",
       "      <td>NaN</td>\n",
       "      <td>NaN</td>\n",
       "      <td>NaN</td>\n",
       "      <td>NaN</td>\n",
       "    </tr>\n",
       "    <tr>\n",
       "      <th>19</th>\n",
       "      <td>PartUsage</td>\n",
       "      <td>f68602c6-18a2-44e6-b3f1-057e6d7aa34b</td>\n",
       "      <td>[]</td>\n",
       "      <td>[]</td>\n",
       "      <td>[]</td>\n",
       "      <td>[]</td>\n",
       "      <td>D</td>\n",
       "      <td>[]</td>\n",
       "      <td>NaN</td>\n",
       "      <td>[]</td>\n",
       "      <td>...</td>\n",
       "      <td>NaN</td>\n",
       "      <td>NaN</td>\n",
       "      <td>NaN</td>\n",
       "      <td>NaN</td>\n",
       "      <td>NaN</td>\n",
       "      <td>NaN</td>\n",
       "      <td>NaN</td>\n",
       "      <td>NaN</td>\n",
       "      <td>NaN</td>\n",
       "      <td>NaN</td>\n",
       "    </tr>\n",
       "    <tr>\n",
       "      <th>20</th>\n",
       "      <td>PartUsage</td>\n",
       "      <td>fc9a9f62-895d-47a2-b18a-deb679e3cea5</td>\n",
       "      <td>[]</td>\n",
       "      <td>[]</td>\n",
       "      <td>[]</td>\n",
       "      <td>[]</td>\n",
       "      <td>B</td>\n",
       "      <td>[]</td>\n",
       "      <td>NaN</td>\n",
       "      <td>[{'@id': '07f23365-9067-4e31-bc93-a3b756485291...</td>\n",
       "      <td>...</td>\n",
       "      <td>NaN</td>\n",
       "      <td>NaN</td>\n",
       "      <td>NaN</td>\n",
       "      <td>NaN</td>\n",
       "      <td>NaN</td>\n",
       "      <td>NaN</td>\n",
       "      <td>NaN</td>\n",
       "      <td>NaN</td>\n",
       "      <td>NaN</td>\n",
       "      <td>NaN</td>\n",
       "    </tr>\n",
       "  </tbody>\n",
       "</table>\n",
       "<p>21 rows × 134 columns</p>\n",
       "</div>"
      ],
      "text/plain": [
       "                        @type                                   @id aliasId  \\\n",
       "0                   PartUsage  07f23365-9067-4e31-bc93-a3b756485291      []   \n",
       "1           FeatureMembership  0d788f05-b397-4827-9918-1e306d8ee80a      []   \n",
       "2                  Membership  27c696f7-2929-4eca-a198-6c32636b050e      []   \n",
       "3                     Package  317004fe-4546-45b6-b296-65991ac92442      []   \n",
       "4               FeatureTyping  3223df00-9b38-496c-be95-4fd6a7b86618      []   \n",
       "5   ReturnParameterMembership  3979daf1-acb0-4ecb-8639-fa6e22897932      []   \n",
       "6                     Feature  42c23f78-b746-4d14-b675-ef4c56b1acae      []   \n",
       "7                     Package  5654113f-da48-43e9-ba96-95d6e5ea4b9b      []   \n",
       "8                    DataType  62482ba7-9e29-426c-8d39-3e27e13bf9e0      []   \n",
       "9                      Import  668f1120-e1de-4a6f-9d88-5c3d8dde3bd1      []   \n",
       "10                 Membership  718d8b79-62c7-4468-b11d-b9a28bcf3426      []   \n",
       "11                  PartUsage  8862bdf1-3647-427e-8401-b02db4cb215a      []   \n",
       "12                 Membership  92a9ee54-997e-44c5-a09b-38b1e31dfcc3      []   \n",
       "13             LiteralInteger  9c32cba5-efe6-494d-8fbd-584f831379a4      []   \n",
       "14          FeatureMembership  a90d727b-2a59-4b91-992d-332288721777      []   \n",
       "15          FeatureMembership  b021e2f2-4463-441f-a778-15410ac95b7f      []   \n",
       "16               FeatureValue  c3f2c3bf-2cf2-4dab-a5e6-81a223e962a8      []   \n",
       "17             AttributeUsage  c4ff4e26-371e-4fc7-b7a3-74fec14d51e8      []   \n",
       "18                    Package  e0008900-28fd-4d43-a9e0-b0ca42b846c1      []   \n",
       "19                  PartUsage  f68602c6-18a2-44e6-b3f1-057e6d7aa34b      []   \n",
       "20                  PartUsage  fc9a9f62-895d-47a2-b18a-deb679e3cea5      []   \n",
       "\n",
       "                                           definition documentation  \\\n",
       "0                                                  []            []   \n",
       "1                                                 NaN            []   \n",
       "2                                                 NaN            []   \n",
       "3                                                 NaN            []   \n",
       "4                                                 NaN            []   \n",
       "5                                                 NaN            []   \n",
       "6                                                 NaN            []   \n",
       "7                                                 NaN            []   \n",
       "8                                                 NaN            []   \n",
       "9                                                 NaN            []   \n",
       "10                                                NaN            []   \n",
       "11                                                 []            []   \n",
       "12                                                NaN            []   \n",
       "13                                                NaN            []   \n",
       "14                                                NaN            []   \n",
       "15                                                NaN            []   \n",
       "16                                                NaN            []   \n",
       "17  [{'@id': '62482ba7-9e29-426c-8d39-3e27e13bf9e0'}]            []   \n",
       "18                                                NaN            []   \n",
       "19                                                 []            []   \n",
       "20                                                 []            []   \n",
       "\n",
       "   documentationComment     effectiveName endFeature  endOwningType  \\\n",
       "0                    []                 C         []            NaN   \n",
       "1                    []              None        NaN            NaN   \n",
       "2                    []              None        NaN            NaN   \n",
       "3                    []  jdehart_api_demo        NaN            NaN   \n",
       "4                    []              None        NaN            NaN   \n",
       "5                    []              None        NaN            NaN   \n",
       "6                    []           $result         []            NaN   \n",
       "7                    []      ScalarValues        NaN            NaN   \n",
       "8                    []              Real         []            NaN   \n",
       "9                    []              None        NaN            NaN   \n",
       "10                   []              None        NaN            NaN   \n",
       "11                   []                 A         []            NaN   \n",
       "12                   []              None        NaN            NaN   \n",
       "13                   []              None         []            NaN   \n",
       "14                   []              None        NaN            NaN   \n",
       "15                   []              None        NaN            NaN   \n",
       "16                   []              None        NaN            NaN   \n",
       "17                   []              mass         []            NaN   \n",
       "18                   []          internal        NaN            NaN   \n",
       "19                   []                 D         []            NaN   \n",
       "20                   []                 B         []            NaN   \n",
       "\n",
       "                                              feature  ... isRecursive  \\\n",
       "0                                                  []  ...         NaN   \n",
       "1                                                 NaN  ...         NaN   \n",
       "2                                                 NaN  ...         NaN   \n",
       "3                                                 NaN  ...         NaN   \n",
       "4                                                 NaN  ...         NaN   \n",
       "5                                                 NaN  ...         NaN   \n",
       "6                                                  []  ...         NaN   \n",
       "7                                                 NaN  ...         NaN   \n",
       "8                                                  []  ...         NaN   \n",
       "9                                                 NaN  ...       False   \n",
       "10                                                NaN  ...         NaN   \n",
       "11  [{'@id': 'c4ff4e26-371e-4fc7-b7a3-74fec14d51e8'}]  ...         NaN   \n",
       "12                                                NaN  ...         NaN   \n",
       "13  [{'@id': '42c23f78-b746-4d14-b675-ef4c56b1acae'}]  ...         NaN   \n",
       "14                                                NaN  ...         NaN   \n",
       "15                                                NaN  ...         NaN   \n",
       "16                                                NaN  ...         NaN   \n",
       "17  [{'@id': '9c32cba5-efe6-494d-8fbd-584f831379a4'}]  ...         NaN   \n",
       "18                                                NaN  ...         NaN   \n",
       "19                                                 []  ...         NaN   \n",
       "20  [{'@id': '07f23365-9067-4e31-bc93-a3b756485291...  ...         NaN   \n",
       "\n",
       "   behavior function isModelLevelEvaluable  \\\n",
       "0       NaN      NaN                   NaN   \n",
       "1       NaN      NaN                   NaN   \n",
       "2       NaN      NaN                   NaN   \n",
       "3       NaN      NaN                   NaN   \n",
       "4       NaN      NaN                   NaN   \n",
       "5       NaN      NaN                   NaN   \n",
       "6       NaN      NaN                   NaN   \n",
       "7       NaN      NaN                   NaN   \n",
       "8       NaN      NaN                   NaN   \n",
       "9       NaN      NaN                   NaN   \n",
       "10      NaN      NaN                   NaN   \n",
       "11      NaN      NaN                   NaN   \n",
       "12      NaN      NaN                   NaN   \n",
       "13       []      NaN                  True   \n",
       "14      NaN      NaN                   NaN   \n",
       "15      NaN      NaN                   NaN   \n",
       "16      NaN      NaN                   NaN   \n",
       "17      NaN      NaN                   NaN   \n",
       "18      NaN      NaN                   NaN   \n",
       "19      NaN      NaN                   NaN   \n",
       "20      NaN      NaN                   NaN   \n",
       "\n",
       "                                            parameter  \\\n",
       "0                                                 NaN   \n",
       "1                                                 NaN   \n",
       "2                                                 NaN   \n",
       "3                                                 NaN   \n",
       "4                                                 NaN   \n",
       "5                                                 NaN   \n",
       "6                                                 NaN   \n",
       "7                                                 NaN   \n",
       "8                                                 NaN   \n",
       "9                                                 NaN   \n",
       "10                                                NaN   \n",
       "11                                                NaN   \n",
       "12                                                NaN   \n",
       "13  [{'@id': '42c23f78-b746-4d14-b675-ef4c56b1acae'}]   \n",
       "14                                                NaN   \n",
       "15                                                NaN   \n",
       "16                                                NaN   \n",
       "17                                                NaN   \n",
       "18                                                NaN   \n",
       "19                                                NaN   \n",
       "20                                                NaN   \n",
       "\n",
       "                                             result  \\\n",
       "0                                               NaN   \n",
       "1                                               NaN   \n",
       "2                                               NaN   \n",
       "3                                               NaN   \n",
       "4                                               NaN   \n",
       "5                                               NaN   \n",
       "6                                               NaN   \n",
       "7                                               NaN   \n",
       "8                                               NaN   \n",
       "9                                               NaN   \n",
       "10                                              NaN   \n",
       "11                                              NaN   \n",
       "12                                              NaN   \n",
       "13  {'@id': '42c23f78-b746-4d14-b675-ef4c56b1acae'}   \n",
       "14                                              NaN   \n",
       "15                                              NaN   \n",
       "16                                              NaN   \n",
       "17                                              NaN   \n",
       "18                                              NaN   \n",
       "19                                              NaN   \n",
       "20                                              NaN   \n",
       "\n",
       "                                              value featureWithValue  \\\n",
       "0                                               NaN              NaN   \n",
       "1                                               NaN              NaN   \n",
       "2                                               NaN              NaN   \n",
       "3                                               NaN              NaN   \n",
       "4                                               NaN              NaN   \n",
       "5                                               NaN              NaN   \n",
       "6                                               NaN              NaN   \n",
       "7                                               NaN              NaN   \n",
       "8                                               NaN              NaN   \n",
       "9                                               NaN              NaN   \n",
       "10                                              NaN              NaN   \n",
       "11                                              NaN              NaN   \n",
       "12                                              NaN              NaN   \n",
       "13                                               30              NaN   \n",
       "14                                              NaN              NaN   \n",
       "15                                              NaN              NaN   \n",
       "16  {'@id': '9c32cba5-efe6-494d-8fbd-584f831379a4'}              NaN   \n",
       "17                                              NaN              NaN   \n",
       "18                                              NaN              NaN   \n",
       "19                                              NaN              NaN   \n",
       "20                                              NaN              NaN   \n",
       "\n",
       "   valueConnector                                attributeDefinition  \n",
       "0             NaN                                                NaN  \n",
       "1             NaN                                                NaN  \n",
       "2             NaN                                                NaN  \n",
       "3             NaN                                                NaN  \n",
       "4             NaN                                                NaN  \n",
       "5             NaN                                                NaN  \n",
       "6             NaN                                                NaN  \n",
       "7             NaN                                                NaN  \n",
       "8             NaN                                                NaN  \n",
       "9             NaN                                                NaN  \n",
       "10            NaN                                                NaN  \n",
       "11            NaN                                                NaN  \n",
       "12            NaN                                                NaN  \n",
       "13            NaN                                                NaN  \n",
       "14            NaN                                                NaN  \n",
       "15            NaN                                                NaN  \n",
       "16            NaN                                                NaN  \n",
       "17            NaN  [{'@id': '62482ba7-9e29-426c-8d39-3e27e13bf9e0'}]  \n",
       "18            NaN                                                NaN  \n",
       "19            NaN                                                NaN  \n",
       "20            NaN                                                NaN  \n",
       "\n",
       "[21 rows x 134 columns]"
      ]
     },
     "execution_count": 66,
     "metadata": {},
     "output_type": "execute_result"
    }
   ],
   "source": [
    "import pandas as pd\n",
    "df = pd.DataFrame(elements_data)\n",
    "df"
   ]
  },
  {
   "cell_type": "markdown",
   "id": "c39a0683-1b92-4cb7-897a-c0597974d01c",
   "metadata": {
    "kernel": "Python3"
   },
   "source": [
    "Thats a big table... lets narrow it down a bit"
   ]
  },
  {
   "cell_type": "code",
   "execution_count": 67,
   "id": "c5d514f0-5a8d-4d15-a461-5bb2dc312371",
   "metadata": {
    "kernel": "pymbe",
    "tags": []
   },
   "outputs": [
    {
     "data": {
      "text/html": [
       "<div>\n",
       "<style scoped>\n",
       "    .dataframe tbody tr th:only-of-type {\n",
       "        vertical-align: middle;\n",
       "    }\n",
       "\n",
       "    .dataframe tbody tr th {\n",
       "        vertical-align: top;\n",
       "    }\n",
       "\n",
       "    .dataframe thead th {\n",
       "        text-align: right;\n",
       "    }\n",
       "</style>\n",
       "<table border=\"1\" class=\"dataframe\">\n",
       "  <thead>\n",
       "    <tr style=\"text-align: right;\">\n",
       "      <th></th>\n",
       "      <th>@id</th>\n",
       "      <th>@type</th>\n",
       "      <th>name</th>\n",
       "      <th>owningFeatureMembership</th>\n",
       "      <th>owningRelatedElement</th>\n",
       "      <th>result</th>\n",
       "    </tr>\n",
       "  </thead>\n",
       "  <tbody>\n",
       "    <tr>\n",
       "      <th>0</th>\n",
       "      <td>07f23365-9067-4e31-bc93-a3b756485291</td>\n",
       "      <td>PartUsage</td>\n",
       "      <td>C</td>\n",
       "      <td>{'@id': 'b021e2f2-4463-441f-a778-15410ac95b7f'}</td>\n",
       "      <td>NaN</td>\n",
       "      <td>NaN</td>\n",
       "    </tr>\n",
       "    <tr>\n",
       "      <th>1</th>\n",
       "      <td>0d788f05-b397-4827-9918-1e306d8ee80a</td>\n",
       "      <td>FeatureMembership</td>\n",
       "      <td>None</td>\n",
       "      <td>NaN</td>\n",
       "      <td>{'@id': 'fc9a9f62-895d-47a2-b18a-deb679e3cea5'}</td>\n",
       "      <td>NaN</td>\n",
       "    </tr>\n",
       "    <tr>\n",
       "      <th>2</th>\n",
       "      <td>27c696f7-2929-4eca-a198-6c32636b050e</td>\n",
       "      <td>Membership</td>\n",
       "      <td>None</td>\n",
       "      <td>NaN</td>\n",
       "      <td>{'@id': 'e0008900-28fd-4d43-a9e0-b0ca42b846c1'}</td>\n",
       "      <td>NaN</td>\n",
       "    </tr>\n",
       "    <tr>\n",
       "      <th>3</th>\n",
       "      <td>317004fe-4546-45b6-b296-65991ac92442</td>\n",
       "      <td>Package</td>\n",
       "      <td>jdehart_api_demo</td>\n",
       "      <td>NaN</td>\n",
       "      <td>NaN</td>\n",
       "      <td>NaN</td>\n",
       "    </tr>\n",
       "    <tr>\n",
       "      <th>4</th>\n",
       "      <td>3223df00-9b38-496c-be95-4fd6a7b86618</td>\n",
       "      <td>FeatureTyping</td>\n",
       "      <td>None</td>\n",
       "      <td>NaN</td>\n",
       "      <td>{'@id': 'c4ff4e26-371e-4fc7-b7a3-74fec14d51e8'}</td>\n",
       "      <td>NaN</td>\n",
       "    </tr>\n",
       "    <tr>\n",
       "      <th>5</th>\n",
       "      <td>3979daf1-acb0-4ecb-8639-fa6e22897932</td>\n",
       "      <td>ReturnParameterMembership</td>\n",
       "      <td>None</td>\n",
       "      <td>NaN</td>\n",
       "      <td>{'@id': '9c32cba5-efe6-494d-8fbd-584f831379a4'}</td>\n",
       "      <td>NaN</td>\n",
       "    </tr>\n",
       "    <tr>\n",
       "      <th>6</th>\n",
       "      <td>42c23f78-b746-4d14-b675-ef4c56b1acae</td>\n",
       "      <td>Feature</td>\n",
       "      <td>$result</td>\n",
       "      <td>{'@id': '3979daf1-acb0-4ecb-8639-fa6e22897932'}</td>\n",
       "      <td>NaN</td>\n",
       "      <td>NaN</td>\n",
       "    </tr>\n",
       "    <tr>\n",
       "      <th>7</th>\n",
       "      <td>5654113f-da48-43e9-ba96-95d6e5ea4b9b</td>\n",
       "      <td>Package</td>\n",
       "      <td>ScalarValues</td>\n",
       "      <td>NaN</td>\n",
       "      <td>NaN</td>\n",
       "      <td>NaN</td>\n",
       "    </tr>\n",
       "    <tr>\n",
       "      <th>8</th>\n",
       "      <td>62482ba7-9e29-426c-8d39-3e27e13bf9e0</td>\n",
       "      <td>DataType</td>\n",
       "      <td>Real</td>\n",
       "      <td>NaN</td>\n",
       "      <td>NaN</td>\n",
       "      <td>NaN</td>\n",
       "    </tr>\n",
       "    <tr>\n",
       "      <th>9</th>\n",
       "      <td>668f1120-e1de-4a6f-9d88-5c3d8dde3bd1</td>\n",
       "      <td>Import</td>\n",
       "      <td>None</td>\n",
       "      <td>NaN</td>\n",
       "      <td>{'@id': '317004fe-4546-45b6-b296-65991ac92442'}</td>\n",
       "      <td>NaN</td>\n",
       "    </tr>\n",
       "    <tr>\n",
       "      <th>10</th>\n",
       "      <td>718d8b79-62c7-4468-b11d-b9a28bcf3426</td>\n",
       "      <td>Membership</td>\n",
       "      <td>None</td>\n",
       "      <td>NaN</td>\n",
       "      <td>{'@id': '317004fe-4546-45b6-b296-65991ac92442'}</td>\n",
       "      <td>NaN</td>\n",
       "    </tr>\n",
       "    <tr>\n",
       "      <th>11</th>\n",
       "      <td>8862bdf1-3647-427e-8401-b02db4cb215a</td>\n",
       "      <td>PartUsage</td>\n",
       "      <td>A</td>\n",
       "      <td>None</td>\n",
       "      <td>NaN</td>\n",
       "      <td>NaN</td>\n",
       "    </tr>\n",
       "    <tr>\n",
       "      <th>12</th>\n",
       "      <td>92a9ee54-997e-44c5-a09b-38b1e31dfcc3</td>\n",
       "      <td>Membership</td>\n",
       "      <td>None</td>\n",
       "      <td>NaN</td>\n",
       "      <td>{'@id': '317004fe-4546-45b6-b296-65991ac92442'}</td>\n",
       "      <td>NaN</td>\n",
       "    </tr>\n",
       "    <tr>\n",
       "      <th>13</th>\n",
       "      <td>9c32cba5-efe6-494d-8fbd-584f831379a4</td>\n",
       "      <td>LiteralInteger</td>\n",
       "      <td>None</td>\n",
       "      <td>None</td>\n",
       "      <td>NaN</td>\n",
       "      <td>{'@id': '42c23f78-b746-4d14-b675-ef4c56b1acae'}</td>\n",
       "    </tr>\n",
       "    <tr>\n",
       "      <th>14</th>\n",
       "      <td>a90d727b-2a59-4b91-992d-332288721777</td>\n",
       "      <td>FeatureMembership</td>\n",
       "      <td>None</td>\n",
       "      <td>NaN</td>\n",
       "      <td>{'@id': '8862bdf1-3647-427e-8401-b02db4cb215a'}</td>\n",
       "      <td>NaN</td>\n",
       "    </tr>\n",
       "    <tr>\n",
       "      <th>15</th>\n",
       "      <td>b021e2f2-4463-441f-a778-15410ac95b7f</td>\n",
       "      <td>FeatureMembership</td>\n",
       "      <td>None</td>\n",
       "      <td>NaN</td>\n",
       "      <td>{'@id': 'fc9a9f62-895d-47a2-b18a-deb679e3cea5'}</td>\n",
       "      <td>NaN</td>\n",
       "    </tr>\n",
       "    <tr>\n",
       "      <th>16</th>\n",
       "      <td>c3f2c3bf-2cf2-4dab-a5e6-81a223e962a8</td>\n",
       "      <td>FeatureValue</td>\n",
       "      <td>None</td>\n",
       "      <td>NaN</td>\n",
       "      <td>{'@id': 'c4ff4e26-371e-4fc7-b7a3-74fec14d51e8'}</td>\n",
       "      <td>NaN</td>\n",
       "    </tr>\n",
       "    <tr>\n",
       "      <th>17</th>\n",
       "      <td>c4ff4e26-371e-4fc7-b7a3-74fec14d51e8</td>\n",
       "      <td>AttributeUsage</td>\n",
       "      <td>mass</td>\n",
       "      <td>{'@id': 'a90d727b-2a59-4b91-992d-332288721777'}</td>\n",
       "      <td>NaN</td>\n",
       "      <td>NaN</td>\n",
       "    </tr>\n",
       "    <tr>\n",
       "      <th>18</th>\n",
       "      <td>e0008900-28fd-4d43-a9e0-b0ca42b846c1</td>\n",
       "      <td>Package</td>\n",
       "      <td>internal</td>\n",
       "      <td>NaN</td>\n",
       "      <td>NaN</td>\n",
       "      <td>NaN</td>\n",
       "    </tr>\n",
       "    <tr>\n",
       "      <th>19</th>\n",
       "      <td>f68602c6-18a2-44e6-b3f1-057e6d7aa34b</td>\n",
       "      <td>PartUsage</td>\n",
       "      <td>D</td>\n",
       "      <td>{'@id': '0d788f05-b397-4827-9918-1e306d8ee80a'}</td>\n",
       "      <td>NaN</td>\n",
       "      <td>NaN</td>\n",
       "    </tr>\n",
       "    <tr>\n",
       "      <th>20</th>\n",
       "      <td>fc9a9f62-895d-47a2-b18a-deb679e3cea5</td>\n",
       "      <td>PartUsage</td>\n",
       "      <td>B</td>\n",
       "      <td>None</td>\n",
       "      <td>NaN</td>\n",
       "      <td>NaN</td>\n",
       "    </tr>\n",
       "  </tbody>\n",
       "</table>\n",
       "</div>"
      ],
      "text/plain": [
       "                                     @id                      @type  \\\n",
       "0   07f23365-9067-4e31-bc93-a3b756485291                  PartUsage   \n",
       "1   0d788f05-b397-4827-9918-1e306d8ee80a          FeatureMembership   \n",
       "2   27c696f7-2929-4eca-a198-6c32636b050e                 Membership   \n",
       "3   317004fe-4546-45b6-b296-65991ac92442                    Package   \n",
       "4   3223df00-9b38-496c-be95-4fd6a7b86618              FeatureTyping   \n",
       "5   3979daf1-acb0-4ecb-8639-fa6e22897932  ReturnParameterMembership   \n",
       "6   42c23f78-b746-4d14-b675-ef4c56b1acae                    Feature   \n",
       "7   5654113f-da48-43e9-ba96-95d6e5ea4b9b                    Package   \n",
       "8   62482ba7-9e29-426c-8d39-3e27e13bf9e0                   DataType   \n",
       "9   668f1120-e1de-4a6f-9d88-5c3d8dde3bd1                     Import   \n",
       "10  718d8b79-62c7-4468-b11d-b9a28bcf3426                 Membership   \n",
       "11  8862bdf1-3647-427e-8401-b02db4cb215a                  PartUsage   \n",
       "12  92a9ee54-997e-44c5-a09b-38b1e31dfcc3                 Membership   \n",
       "13  9c32cba5-efe6-494d-8fbd-584f831379a4             LiteralInteger   \n",
       "14  a90d727b-2a59-4b91-992d-332288721777          FeatureMembership   \n",
       "15  b021e2f2-4463-441f-a778-15410ac95b7f          FeatureMembership   \n",
       "16  c3f2c3bf-2cf2-4dab-a5e6-81a223e962a8               FeatureValue   \n",
       "17  c4ff4e26-371e-4fc7-b7a3-74fec14d51e8             AttributeUsage   \n",
       "18  e0008900-28fd-4d43-a9e0-b0ca42b846c1                    Package   \n",
       "19  f68602c6-18a2-44e6-b3f1-057e6d7aa34b                  PartUsage   \n",
       "20  fc9a9f62-895d-47a2-b18a-deb679e3cea5                  PartUsage   \n",
       "\n",
       "                name                          owningFeatureMembership  \\\n",
       "0                  C  {'@id': 'b021e2f2-4463-441f-a778-15410ac95b7f'}   \n",
       "1               None                                              NaN   \n",
       "2               None                                              NaN   \n",
       "3   jdehart_api_demo                                              NaN   \n",
       "4               None                                              NaN   \n",
       "5               None                                              NaN   \n",
       "6            $result  {'@id': '3979daf1-acb0-4ecb-8639-fa6e22897932'}   \n",
       "7       ScalarValues                                              NaN   \n",
       "8               Real                                              NaN   \n",
       "9               None                                              NaN   \n",
       "10              None                                              NaN   \n",
       "11                 A                                             None   \n",
       "12              None                                              NaN   \n",
       "13              None                                             None   \n",
       "14              None                                              NaN   \n",
       "15              None                                              NaN   \n",
       "16              None                                              NaN   \n",
       "17              mass  {'@id': 'a90d727b-2a59-4b91-992d-332288721777'}   \n",
       "18          internal                                              NaN   \n",
       "19                 D  {'@id': '0d788f05-b397-4827-9918-1e306d8ee80a'}   \n",
       "20                 B                                             None   \n",
       "\n",
       "                               owningRelatedElement  \\\n",
       "0                                               NaN   \n",
       "1   {'@id': 'fc9a9f62-895d-47a2-b18a-deb679e3cea5'}   \n",
       "2   {'@id': 'e0008900-28fd-4d43-a9e0-b0ca42b846c1'}   \n",
       "3                                               NaN   \n",
       "4   {'@id': 'c4ff4e26-371e-4fc7-b7a3-74fec14d51e8'}   \n",
       "5   {'@id': '9c32cba5-efe6-494d-8fbd-584f831379a4'}   \n",
       "6                                               NaN   \n",
       "7                                               NaN   \n",
       "8                                               NaN   \n",
       "9   {'@id': '317004fe-4546-45b6-b296-65991ac92442'}   \n",
       "10  {'@id': '317004fe-4546-45b6-b296-65991ac92442'}   \n",
       "11                                              NaN   \n",
       "12  {'@id': '317004fe-4546-45b6-b296-65991ac92442'}   \n",
       "13                                              NaN   \n",
       "14  {'@id': '8862bdf1-3647-427e-8401-b02db4cb215a'}   \n",
       "15  {'@id': 'fc9a9f62-895d-47a2-b18a-deb679e3cea5'}   \n",
       "16  {'@id': 'c4ff4e26-371e-4fc7-b7a3-74fec14d51e8'}   \n",
       "17                                              NaN   \n",
       "18                                              NaN   \n",
       "19                                              NaN   \n",
       "20                                              NaN   \n",
       "\n",
       "                                             result  \n",
       "0                                               NaN  \n",
       "1                                               NaN  \n",
       "2                                               NaN  \n",
       "3                                               NaN  \n",
       "4                                               NaN  \n",
       "5                                               NaN  \n",
       "6                                               NaN  \n",
       "7                                               NaN  \n",
       "8                                               NaN  \n",
       "9                                               NaN  \n",
       "10                                              NaN  \n",
       "11                                              NaN  \n",
       "12                                              NaN  \n",
       "13  {'@id': '42c23f78-b746-4d14-b675-ef4c56b1acae'}  \n",
       "14                                              NaN  \n",
       "15                                              NaN  \n",
       "16                                              NaN  \n",
       "17                                              NaN  \n",
       "18                                              NaN  \n",
       "19                                              NaN  \n",
       "20                                              NaN  "
      ]
     },
     "execution_count": 67,
     "metadata": {},
     "output_type": "execute_result"
    }
   ],
   "source": [
    "df[[\"@id\",\"@type\",\"name\",\"owningFeatureMembership\",\"owningRelatedElement\",\"result\"]]"
   ]
  },
  {
   "cell_type": "markdown",
   "id": "9820fde0-55f5-4e57-9ba9-e0de399b5079",
   "metadata": {
    "kernel": "SoS"
   },
   "source": [
    "Now I would love to change an attribute and push it back up.... but how :)"
   ]
  },
  {
   "cell_type": "code",
   "execution_count": null,
   "id": "cd5e6104-e8d7-4506-900c-061a70be6dd7",
   "metadata": {
    "kernel": "pymbe",
    "tags": []
   },
   "outputs": [],
   "source": []
  }
 ],
 "metadata": {
  "kernelspec": {
   "display_name": "SoS",
   "language": "sos",
   "name": "sos"
  },
  "language_info": {
   "codemirror_mode": "sos",
   "file_extension": ".sos",
   "mimetype": "text/x-sos",
   "name": "sos",
   "nbconvert_exporter": "sos_notebook.converter.SoS_Exporter",
   "pygments_lexer": "sos"
  },
  "sos": {
   "kernels": [
    [
     "SysML",
     "sysml",
     "sysml",
     "",
     "sysml"
    ],
    [
     "pymbe",
     "pymbe",
     "Python3",
     "#FFD91A",
     {
      "name": "ipython",
      "version": 3
     }
    ]
   ],
   "version": "0.22.3"
  },
  "toc-autonumbering": false
 },
 "nbformat": 4,
 "nbformat_minor": 5
}
